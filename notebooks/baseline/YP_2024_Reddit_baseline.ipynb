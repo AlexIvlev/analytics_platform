{
 "cells": [
  {
   "cell_type": "code",
   "execution_count": 18,
   "metadata": {
    "id": "NImB2zvc1vSx"
   },
   "outputs": [],
   "source": [
    "import matplotlib.pyplot as plt\n",
    "import numpy as np\n",
    "import pandas as pd\n",
    "import seaborn as sns\n",
    "from sklearn.model_selection import train_test_split\n",
    "from sklearn.preprocessing import (OneHotEncoder,\n",
    "                                   StandardScaler)\n",
    "from sklearn.metrics import (accuracy_score,\n",
    "                            mean_absolute_error,\n",
    "                            mean_absolute_percentage_error,\n",
    "                            precision_score,\n",
    "                            recall_score,\n",
    "                            f1_score,\n",
    "                            root_mean_squared_error,\n",
    "                            r2_score)\n",
    "from sklearn.linear_model import (LinearRegression,\n",
    "                                  LogisticRegression,\n",
    "                                  Ridge)\n",
    "from sklearn.model_selection import GridSearchCV\n",
    "from sklearn.svm import LinearSVC, SVC"
   ]
  },
  {
   "cell_type": "code",
   "execution_count": 19,
   "metadata": {
    "id": "aBiGMHTF2Utw"
   },
   "outputs": [],
   "source": [
    "# df = pd.read_parquet(\"/content/drive/MyDrive/datasets/reddit_parser_2024_12_06_prices.parquet\")\n",
    "df = pd.read_parquet(\"/Users/grylkov/git/hse/analytics-platform/parsers/reddit/reddit_parser_2024_12_06_prices.parquet\")"
   ]
  },
  {
   "cell_type": "code",
   "execution_count": 20,
   "metadata": {
    "colab": {
     "base_uri": "https://localhost:8080/"
    },
    "id": "Z2vD6jJe5Mln",
    "outputId": "cd48c534-1089-4649-acbf-19a6e12d720a"
   },
   "outputs": [
    {
     "name": "stdout",
     "output_type": "stream",
     "text": [
      "<class 'pandas.core.frame.DataFrame'>\n",
      "RangeIndex: 8416 entries, 0 to 8415\n",
      "Data columns (total 21 columns):\n",
      " #   Column                 Non-Null Count  Dtype         \n",
      "---  ------                 --------------  -----         \n",
      " 0   id                     8416 non-null   object        \n",
      " 1   title                  847 non-null    object        \n",
      " 2   url                    847 non-null    object        \n",
      " 3   subreddit              8416 non-null   object        \n",
      " 4   created_utc            8416 non-null   datetime64[ns]\n",
      " 5   parsed_utc             8416 non-null   object        \n",
      " 6   text                   8416 non-null   object        \n",
      " 7   score                  8416 non-null   int64         \n",
      " 8   num_comments           847 non-null    float64       \n",
      " 9   type                   8416 non-null   object        \n",
      " 10  parent_id              7569 non-null   object        \n",
      " 11  clean_text             8416 non-null   object        \n",
      " 12  processed_text         8416 non-null   object        \n",
      " 13  processed_text_length  8416 non-null   int64         \n",
      " 14  sentiment_scores       8416 non-null   float64       \n",
      " 15  entities               8416 non-null   object        \n",
      " 16  doc_embedding          8416 non-null   object        \n",
      " 17  tickers                8416 non-null   object        \n",
      " 18  ticker                 8416 non-null   object        \n",
      " 19  created_price          8416 non-null   float64       \n",
      " 20  price_1d               8416 non-null   float64       \n",
      "dtypes: datetime64[ns](1), float64(4), int64(2), object(14)\n",
      "memory usage: 1.3+ MB\n"
     ]
    }
   ],
   "source": [
    "df.info()"
   ]
  },
  {
   "cell_type": "code",
   "execution_count": 21,
   "metadata": {
    "colab": {
     "base_uri": "https://localhost:8080/",
     "height": 707
    },
    "id": "iXZYUT266SJo",
    "outputId": "2bcdde7a-c038-4e7a-ffa6-425a6d403667"
   },
   "outputs": [
    {
     "data": {
      "text/html": [
       "<div>\n",
       "<style scoped>\n",
       "    .dataframe tbody tr th:only-of-type {\n",
       "        vertical-align: middle;\n",
       "    }\n",
       "\n",
       "    .dataframe tbody tr th {\n",
       "        vertical-align: top;\n",
       "    }\n",
       "\n",
       "    .dataframe thead th {\n",
       "        text-align: right;\n",
       "    }\n",
       "</style>\n",
       "<table border=\"1\" class=\"dataframe\">\n",
       "  <thead>\n",
       "    <tr style=\"text-align: right;\">\n",
       "      <th></th>\n",
       "      <th>id</th>\n",
       "      <th>title</th>\n",
       "      <th>url</th>\n",
       "      <th>subreddit</th>\n",
       "      <th>created_utc</th>\n",
       "      <th>parsed_utc</th>\n",
       "      <th>text</th>\n",
       "      <th>score</th>\n",
       "      <th>num_comments</th>\n",
       "      <th>type</th>\n",
       "      <th>...</th>\n",
       "      <th>clean_text</th>\n",
       "      <th>processed_text</th>\n",
       "      <th>processed_text_length</th>\n",
       "      <th>sentiment_scores</th>\n",
       "      <th>entities</th>\n",
       "      <th>doc_embedding</th>\n",
       "      <th>tickers</th>\n",
       "      <th>ticker</th>\n",
       "      <th>created_price</th>\n",
       "      <th>price_1d</th>\n",
       "    </tr>\n",
       "  </thead>\n",
       "  <tbody>\n",
       "    <tr>\n",
       "      <th>0</th>\n",
       "      <td>m0miqte</td>\n",
       "      <td>None</td>\n",
       "      <td>None</td>\n",
       "      <td>investing</td>\n",
       "      <td>2024-12-05 23:58:30</td>\n",
       "      <td>2024-12-06 17:55:40</td>\n",
       "      <td>Depends on what type of debt. For example if i...</td>\n",
       "      <td>3</td>\n",
       "      <td>NaN</td>\n",
       "      <td>comment</td>\n",
       "      <td>...</td>\n",
       "      <td>depends type debt. for example it’s debt mortg...</td>\n",
       "      <td>depend type debt for exampl it debt mortgag at...</td>\n",
       "      <td>594</td>\n",
       "      <td>-0.0772</td>\n",
       "      <td>[PATH, FDIS, RPA, BTI, AMEX, Robotic Process A...</td>\n",
       "      <td>[1.0175916, -0.26974982, -0.18348941, -0.53738...</td>\n",
       "      <td>[PATH, BTI]</td>\n",
       "      <td>PATH</td>\n",
       "      <td>14.940000</td>\n",
       "      <td>14.820000</td>\n",
       "    </tr>\n",
       "    <tr>\n",
       "      <th>1</th>\n",
       "      <td>m0lmgzo</td>\n",
       "      <td>None</td>\n",
       "      <td>None</td>\n",
       "      <td>investing</td>\n",
       "      <td>2024-12-05 21:00:41</td>\n",
       "      <td>2024-12-06 17:55:40</td>\n",
       "      <td>KAR and PRAA</td>\n",
       "      <td>1</td>\n",
       "      <td>NaN</td>\n",
       "      <td>comment</td>\n",
       "      <td>...</td>\n",
       "      <td>kar praa</td>\n",
       "      <td>kar praa</td>\n",
       "      <td>12</td>\n",
       "      <td>0.0000</td>\n",
       "      <td>[KAR]</td>\n",
       "      <td>[0.0036067592, -0.009290272, -0.0037351453, -0...</td>\n",
       "      <td>[KAR]</td>\n",
       "      <td>KAR</td>\n",
       "      <td>20.250000</td>\n",
       "      <td>20.190001</td>\n",
       "    </tr>\n",
       "    <tr>\n",
       "      <th>2</th>\n",
       "      <td>m0lvb3h</td>\n",
       "      <td>None</td>\n",
       "      <td>None</td>\n",
       "      <td>investing</td>\n",
       "      <td>2024-12-05 21:46:35</td>\n",
       "      <td>2024-12-06 17:55:41</td>\n",
       "      <td>36 years old, married but no kids yet. Have 90...</td>\n",
       "      <td>4</td>\n",
       "      <td>NaN</td>\n",
       "      <td>comment</td>\n",
       "      <td>...</td>\n",
       "      <td>36 years old, married kids yet. have 90% equit...</td>\n",
       "      <td>year old marri kid yet have equiti short term ...</td>\n",
       "      <td>433</td>\n",
       "      <td>-0.6652</td>\n",
       "      <td>[ETH, VGT, QQQ, VOO]</td>\n",
       "      <td>[0.24014705, -0.79617554, -0.21952175, 0.06111...</td>\n",
       "      <td>[ETH, QQQ]</td>\n",
       "      <td>QQQ</td>\n",
       "      <td>521.799988</td>\n",
       "      <td>526.510010</td>\n",
       "    </tr>\n",
       "    <tr>\n",
       "      <th>3</th>\n",
       "      <td>1h7i31g</td>\n",
       "      <td>My biggest fear for 2025 is declines becoming ...</td>\n",
       "      <td>https://www.reddit.com/r/investing/comments/1h...</td>\n",
       "      <td>investing</td>\n",
       "      <td>2024-12-05 19:53:10</td>\n",
       "      <td>2024-12-06 17:55:42</td>\n",
       "      <td>When has this not been a risk, it's why the ec...</td>\n",
       "      <td>102</td>\n",
       "      <td>92.0</td>\n",
       "      <td>submission</td>\n",
       "      <td>...</td>\n",
       "      <td>when risk, economy acts ratchet, going slow fa...</td>\n",
       "      <td>when risk economi act ratchet go slow fast but...</td>\n",
       "      <td>1362</td>\n",
       "      <td>-0.9131</td>\n",
       "      <td>[Economics, fed, AI]</td>\n",
       "      <td>[0.36487904, -0.9539981, -0.13656119, -1.58051...</td>\n",
       "      <td>[AI]</td>\n",
       "      <td>AI</td>\n",
       "      <td>37.490002</td>\n",
       "      <td>40.520000</td>\n",
       "    </tr>\n",
       "    <tr>\n",
       "      <th>4</th>\n",
       "      <td>m0m473e</td>\n",
       "      <td>None</td>\n",
       "      <td>None</td>\n",
       "      <td>investing</td>\n",
       "      <td>2024-12-05 22:33:54</td>\n",
       "      <td>2024-12-06 17:55:42</td>\n",
       "      <td>I'm waiting for Tesla to pop. From there I spe...</td>\n",
       "      <td>1</td>\n",
       "      <td>NaN</td>\n",
       "      <td>comment</td>\n",
       "      <td>...</td>\n",
       "      <td>i'm waiting tesla pop. from i speculate automa...</td>\n",
       "      <td>i wait tesla pop from i specul automak tech bu...</td>\n",
       "      <td>332</td>\n",
       "      <td>-0.1280</td>\n",
       "      <td>[Tesla, AI]</td>\n",
       "      <td>[0.4363078, -0.67959464, 0.8144916, 0.16138163...</td>\n",
       "      <td>[AI]</td>\n",
       "      <td>AI</td>\n",
       "      <td>37.490002</td>\n",
       "      <td>40.520000</td>\n",
       "    </tr>\n",
       "  </tbody>\n",
       "</table>\n",
       "<p>5 rows × 21 columns</p>\n",
       "</div>"
      ],
      "text/plain": [
       "        id                                              title  \\\n",
       "0  m0miqte                                               None   \n",
       "1  m0lmgzo                                               None   \n",
       "2  m0lvb3h                                               None   \n",
       "3  1h7i31g  My biggest fear for 2025 is declines becoming ...   \n",
       "4  m0m473e                                               None   \n",
       "\n",
       "                                                 url  subreddit  \\\n",
       "0                                               None  investing   \n",
       "1                                               None  investing   \n",
       "2                                               None  investing   \n",
       "3  https://www.reddit.com/r/investing/comments/1h...  investing   \n",
       "4                                               None  investing   \n",
       "\n",
       "          created_utc           parsed_utc  \\\n",
       "0 2024-12-05 23:58:30  2024-12-06 17:55:40   \n",
       "1 2024-12-05 21:00:41  2024-12-06 17:55:40   \n",
       "2 2024-12-05 21:46:35  2024-12-06 17:55:41   \n",
       "3 2024-12-05 19:53:10  2024-12-06 17:55:42   \n",
       "4 2024-12-05 22:33:54  2024-12-06 17:55:42   \n",
       "\n",
       "                                                text  score  num_comments  \\\n",
       "0  Depends on what type of debt. For example if i...      3           NaN   \n",
       "1                                       KAR and PRAA      1           NaN   \n",
       "2  36 years old, married but no kids yet. Have 90...      4           NaN   \n",
       "3  When has this not been a risk, it's why the ec...    102          92.0   \n",
       "4  I'm waiting for Tesla to pop. From there I spe...      1           NaN   \n",
       "\n",
       "         type  ...                                         clean_text  \\\n",
       "0     comment  ...  depends type debt. for example it’s debt mortg...   \n",
       "1     comment  ...                                           kar praa   \n",
       "2     comment  ...  36 years old, married kids yet. have 90% equit...   \n",
       "3  submission  ...  when risk, economy acts ratchet, going slow fa...   \n",
       "4     comment  ...  i'm waiting tesla pop. from i speculate automa...   \n",
       "\n",
       "                                      processed_text processed_text_length  \\\n",
       "0  depend type debt for exampl it debt mortgag at...                   594   \n",
       "1                                           kar praa                    12   \n",
       "2  year old marri kid yet have equiti short term ...                   433   \n",
       "3  when risk economi act ratchet go slow fast but...                  1362   \n",
       "4  i wait tesla pop from i specul automak tech bu...                   332   \n",
       "\n",
       "   sentiment_scores                                           entities  \\\n",
       "0           -0.0772  [PATH, FDIS, RPA, BTI, AMEX, Robotic Process A...   \n",
       "1            0.0000                                              [KAR]   \n",
       "2           -0.6652                               [ETH, VGT, QQQ, VOO]   \n",
       "3           -0.9131                               [Economics, fed, AI]   \n",
       "4           -0.1280                                        [Tesla, AI]   \n",
       "\n",
       "                                       doc_embedding      tickers ticker  \\\n",
       "0  [1.0175916, -0.26974982, -0.18348941, -0.53738...  [PATH, BTI]   PATH   \n",
       "1  [0.0036067592, -0.009290272, -0.0037351453, -0...        [KAR]    KAR   \n",
       "2  [0.24014705, -0.79617554, -0.21952175, 0.06111...   [ETH, QQQ]    QQQ   \n",
       "3  [0.36487904, -0.9539981, -0.13656119, -1.58051...         [AI]     AI   \n",
       "4  [0.4363078, -0.67959464, 0.8144916, 0.16138163...         [AI]     AI   \n",
       "\n",
       "  created_price    price_1d  \n",
       "0     14.940000   14.820000  \n",
       "1     20.250000   20.190001  \n",
       "2    521.799988  526.510010  \n",
       "3     37.490002   40.520000  \n",
       "4     37.490002   40.520000  \n",
       "\n",
       "[5 rows x 21 columns]"
      ]
     },
     "execution_count": 21,
     "metadata": {},
     "output_type": "execute_result"
    }
   ],
   "source": [
    "df.head()"
   ]
  },
  {
   "cell_type": "markdown",
   "metadata": {
    "id": "NS0avWxcr26Z"
   },
   "source": [
    "# Data cleaning"
   ]
  },
  {
   "cell_type": "markdown",
   "metadata": {
    "id": "Nz_487P1tXqP"
   },
   "source": [
    "### Drop redundant columns"
   ]
  },
  {
   "cell_type": "code",
   "execution_count": 22,
   "metadata": {
    "id": "JmXgH7sBsoss"
   },
   "outputs": [],
   "source": [
    "df.drop(columns=['id', 'title', 'url', 'created_utc', 'parsed_utc', 'text', 'parent_id', 'clean_text', 'processed_text', 'entities', 'tickers'], inplace=True)"
   ]
  },
  {
   "cell_type": "code",
   "execution_count": 23,
   "metadata": {
    "colab": {
     "base_uri": "https://localhost:8080/",
     "height": 206
    },
    "id": "LnTzQ_xlvDw8",
    "outputId": "1c4b01e5-5d32-4dbf-8648-8d56dfc53a85"
   },
   "outputs": [
    {
     "data": {
      "text/html": [
       "<div>\n",
       "<style scoped>\n",
       "    .dataframe tbody tr th:only-of-type {\n",
       "        vertical-align: middle;\n",
       "    }\n",
       "\n",
       "    .dataframe tbody tr th {\n",
       "        vertical-align: top;\n",
       "    }\n",
       "\n",
       "    .dataframe thead th {\n",
       "        text-align: right;\n",
       "    }\n",
       "</style>\n",
       "<table border=\"1\" class=\"dataframe\">\n",
       "  <thead>\n",
       "    <tr style=\"text-align: right;\">\n",
       "      <th></th>\n",
       "      <th>subreddit</th>\n",
       "      <th>score</th>\n",
       "      <th>num_comments</th>\n",
       "      <th>type</th>\n",
       "      <th>processed_text_length</th>\n",
       "      <th>sentiment_scores</th>\n",
       "      <th>doc_embedding</th>\n",
       "      <th>ticker</th>\n",
       "      <th>created_price</th>\n",
       "      <th>price_1d</th>\n",
       "    </tr>\n",
       "  </thead>\n",
       "  <tbody>\n",
       "    <tr>\n",
       "      <th>0</th>\n",
       "      <td>investing</td>\n",
       "      <td>3</td>\n",
       "      <td>NaN</td>\n",
       "      <td>comment</td>\n",
       "      <td>594</td>\n",
       "      <td>-0.0772</td>\n",
       "      <td>[1.0175916, -0.26974982, -0.18348941, -0.53738...</td>\n",
       "      <td>PATH</td>\n",
       "      <td>14.940000</td>\n",
       "      <td>14.820000</td>\n",
       "    </tr>\n",
       "    <tr>\n",
       "      <th>1</th>\n",
       "      <td>investing</td>\n",
       "      <td>1</td>\n",
       "      <td>NaN</td>\n",
       "      <td>comment</td>\n",
       "      <td>12</td>\n",
       "      <td>0.0000</td>\n",
       "      <td>[0.0036067592, -0.009290272, -0.0037351453, -0...</td>\n",
       "      <td>KAR</td>\n",
       "      <td>20.250000</td>\n",
       "      <td>20.190001</td>\n",
       "    </tr>\n",
       "    <tr>\n",
       "      <th>2</th>\n",
       "      <td>investing</td>\n",
       "      <td>4</td>\n",
       "      <td>NaN</td>\n",
       "      <td>comment</td>\n",
       "      <td>433</td>\n",
       "      <td>-0.6652</td>\n",
       "      <td>[0.24014705, -0.79617554, -0.21952175, 0.06111...</td>\n",
       "      <td>QQQ</td>\n",
       "      <td>521.799988</td>\n",
       "      <td>526.510010</td>\n",
       "    </tr>\n",
       "    <tr>\n",
       "      <th>3</th>\n",
       "      <td>investing</td>\n",
       "      <td>102</td>\n",
       "      <td>92.0</td>\n",
       "      <td>submission</td>\n",
       "      <td>1362</td>\n",
       "      <td>-0.9131</td>\n",
       "      <td>[0.36487904, -0.9539981, -0.13656119, -1.58051...</td>\n",
       "      <td>AI</td>\n",
       "      <td>37.490002</td>\n",
       "      <td>40.520000</td>\n",
       "    </tr>\n",
       "    <tr>\n",
       "      <th>4</th>\n",
       "      <td>investing</td>\n",
       "      <td>1</td>\n",
       "      <td>NaN</td>\n",
       "      <td>comment</td>\n",
       "      <td>332</td>\n",
       "      <td>-0.1280</td>\n",
       "      <td>[0.4363078, -0.67959464, 0.8144916, 0.16138163...</td>\n",
       "      <td>AI</td>\n",
       "      <td>37.490002</td>\n",
       "      <td>40.520000</td>\n",
       "    </tr>\n",
       "  </tbody>\n",
       "</table>\n",
       "</div>"
      ],
      "text/plain": [
       "   subreddit  score  num_comments        type  processed_text_length  \\\n",
       "0  investing      3           NaN     comment                    594   \n",
       "1  investing      1           NaN     comment                     12   \n",
       "2  investing      4           NaN     comment                    433   \n",
       "3  investing    102          92.0  submission                   1362   \n",
       "4  investing      1           NaN     comment                    332   \n",
       "\n",
       "   sentiment_scores                                      doc_embedding ticker  \\\n",
       "0           -0.0772  [1.0175916, -0.26974982, -0.18348941, -0.53738...   PATH   \n",
       "1            0.0000  [0.0036067592, -0.009290272, -0.0037351453, -0...    KAR   \n",
       "2           -0.6652  [0.24014705, -0.79617554, -0.21952175, 0.06111...    QQQ   \n",
       "3           -0.9131  [0.36487904, -0.9539981, -0.13656119, -1.58051...     AI   \n",
       "4           -0.1280  [0.4363078, -0.67959464, 0.8144916, 0.16138163...     AI   \n",
       "\n",
       "   created_price    price_1d  \n",
       "0      14.940000   14.820000  \n",
       "1      20.250000   20.190001  \n",
       "2     521.799988  526.510010  \n",
       "3      37.490002   40.520000  \n",
       "4      37.490002   40.520000  "
      ]
     },
     "execution_count": 23,
     "metadata": {},
     "output_type": "execute_result"
    }
   ],
   "source": [
    "df.head()"
   ]
  },
  {
   "cell_type": "code",
   "execution_count": 24,
   "metadata": {
    "colab": {
     "base_uri": "https://localhost:8080/",
     "height": 490
    },
    "id": "c5rwgFskKRzJ",
    "outputId": "f9727a80-962a-40c7-cd59-ba4dc387de91"
   },
   "outputs": [
    {
     "data": {
      "text/plain": [
       "ticker\n",
       "NVDA    757\n",
       "MSTR    756\n",
       "ACHR    650\n",
       "AI      588\n",
       "SPY     501\n",
       "       ... \n",
       "EVTL      1\n",
       "IAUM      1\n",
       "HALO      1\n",
       "UUUU      1\n",
       "JFIN      1\n",
       "Name: count, Length: 810, dtype: int64"
      ]
     },
     "execution_count": 24,
     "metadata": {},
     "output_type": "execute_result"
    }
   ],
   "source": [
    "df['ticker'].value_counts()"
   ]
  },
  {
   "cell_type": "markdown",
   "metadata": {
    "id": "8hdq0q1Jvvfz"
   },
   "source": [
    "### Fill missing values"
   ]
  },
  {
   "cell_type": "code",
   "execution_count": 25,
   "metadata": {
    "colab": {
     "base_uri": "https://localhost:8080/"
    },
    "id": "_JaTIlctvjfO",
    "outputId": "ff07a4ac-2770-4102-cdca-68c5ae0c51e6"
   },
   "outputs": [
    {
     "name": "stdout",
     "output_type": "stream",
     "text": [
      "<class 'pandas.core.frame.DataFrame'>\n",
      "RangeIndex: 8416 entries, 0 to 8415\n",
      "Data columns (total 10 columns):\n",
      " #   Column                 Non-Null Count  Dtype  \n",
      "---  ------                 --------------  -----  \n",
      " 0   subreddit              8416 non-null   object \n",
      " 1   score                  8416 non-null   int64  \n",
      " 2   num_comments           847 non-null    float64\n",
      " 3   type                   8416 non-null   object \n",
      " 4   processed_text_length  8416 non-null   int64  \n",
      " 5   sentiment_scores       8416 non-null   float64\n",
      " 6   doc_embedding          8416 non-null   object \n",
      " 7   ticker                 8416 non-null   object \n",
      " 8   created_price          8416 non-null   float64\n",
      " 9   price_1d               8416 non-null   float64\n",
      "dtypes: float64(4), int64(2), object(4)\n",
      "memory usage: 657.6+ KB\n"
     ]
    }
   ],
   "source": [
    "df.info()"
   ]
  },
  {
   "cell_type": "code",
   "execution_count": 26,
   "metadata": {
    "id": "YJJ6iqLnv0Dy"
   },
   "outputs": [],
   "source": [
    "df['num_comments'] = df['num_comments'].fillna(0)"
   ]
  },
  {
   "cell_type": "markdown",
   "metadata": {
    "id": "KXWdxDiF5LCD"
   },
   "source": [
    "# Regression"
   ]
  },
  {
   "cell_type": "markdown",
   "metadata": {
    "id": "U6TiRyMr_jVE"
   },
   "source": [
    "### Use embedding mean for linear regression"
   ]
  },
  {
   "cell_type": "code",
   "execution_count": null,
   "metadata": {
    "id": "vorrA_XA5KcT"
   },
   "outputs": [],
   "source": [
    "df_em = df.copy()\n",
    "df_em['embedding_mean'] = df['doc_embedding'].apply(lambda x: np.mean(x))\n",
    "df_em.drop(columns=['doc_embedding'], inplace=True)"
   ]
  },
  {
   "cell_type": "code",
   "execution_count": null,
   "metadata": {
    "colab": {
     "base_uri": "https://localhost:8080/",
     "height": 596
    },
    "id": "SR0oLRkZ-T3z",
    "outputId": "2b40b280-632f-46dc-e04f-614a8f1dc99a"
   },
   "outputs": [
    {
     "data": {
      "text/plain": [
       "<Axes: >"
      ]
     },
     "execution_count": 18,
     "metadata": {},
     "output_type": "execute_result"
    },
    {
     "data": {
      "image/png": "[encoded data removed]",
      "text/plain": [
       "<Figure size 640x480 with 2 Axes>"
      ]
     },
     "metadata": {},
     "output_type": "display_data"
    }
   ],
   "source": [
    "sns.heatmap(df.corr(numeric_only=True), annot=True)"
   ]
  },
  {
   "cell_type": "markdown",
   "metadata": {
    "id": "6BkqfuPP7nuP"
   },
   "source": [
    "### Calculate regression target as price change percentage and remove outliers"
   ]
  },
  {
   "cell_type": "code",
   "execution_count": null,
   "metadata": {
    "id": "bbcx3bCh5UHQ"
   },
   "outputs": [],
   "source": [
    "df_em['target'] = ((df_em['price_1d'] - df_em['created_price'])/df_em['created_price']) * 100"
   ]
  },
  {
   "cell_type": "code",
   "execution_count": null,
   "metadata": {
    "id": "r10dhmhe_hxn"
   },
   "outputs": [],
   "source": [
    "df_em = df_em[df_em['target'] > -100]\n",
    "df_em = df_em[df_em['target'] < 100]"
   ]
  },
  {
   "cell_type": "code",
   "execution_count": null,
   "metadata": {
    "colab": {
     "base_uri": "https://localhost:8080/",
     "height": 640
    },
    "id": "3Bqx8tvow8jP",
    "outputId": "0fdf451c-148c-42ed-a252-5d03d66062d8"
   },
   "outputs": [
    {
     "data": {
      "text/plain": [
       "array([[<Axes: title={'center': 'target'}>]], dtype=object)"
      ]
     },
     "execution_count": 21,
     "metadata": {},
     "output_type": "execute_result"
    },
    {
     "data": {
      "image/png": "[encoded data removed]",
      "text/plain": [
       "<Figure size 1500x700 with 1 Axes>"
      ]
     },
     "metadata": {},
     "output_type": "display_data"
    }
   ],
   "source": [
    "df_em.hist('target', bins=200, figsize=(15, 7))"
   ]
  },
  {
   "cell_type": "markdown",
   "metadata": {
    "id": "-LkHt4ZX538N"
   },
   "source": [
    "## Regression baseline"
   ]
  },
  {
   "cell_type": "code",
   "execution_count": null,
   "metadata": {
    "id": "KUs0B_u255zF"
   },
   "outputs": [],
   "source": [
    "X_train, X_test, y_train, y_test = train_test_split(df_em.drop(columns=['target', 'price_1d']), df_em['target'], test_size=0.2, random_state=69)\n",
    "X_train['baseline'] = y_train.median()"
   ]
  },
  {
   "cell_type": "code",
   "execution_count": null,
   "metadata": {
    "colab": {
     "base_uri": "https://localhost:8080/"
    },
    "id": "WxG1gkDR9NFU",
    "outputId": "480b5b5c-0313-4782-fda5-9722bcc099e0"
   },
   "outputs": [
    {
     "name": "stdout",
     "output_type": "stream",
     "text": [
      "RMSE baseline: 8.74043427063015\n",
      "R2 baseline: -0.0001449942765967549\n",
      "MAE baseline: 4.0811469425353355\n",
      "MAPE baseline: 313308683953.5865\n"
     ]
    }
   ],
   "source": [
    "X_test['baseline'] = y_train.median()\n",
    "\n",
    "RMSE = root_mean_squared_error(y_test, X_test['baseline'])\n",
    "R2 = r2_score(y_test, X_test['baseline'])\n",
    "MAE = mean_absolute_error(y_test, X_test['baseline'])\n",
    "MAPE = mean_absolute_percentage_error(y_test, X_test['baseline'])\n",
    "\n",
    "print(f\"RMSE baseline: {RMSE}\")\n",
    "print(f\"R2 baseline: {R2}\")\n",
    "print(f\"MAE baseline: {MAE}\")\n",
    "print(f\"MAPE baseline: {MAPE}\")"
   ]
  },
  {
   "cell_type": "markdown",
   "metadata": {
    "id": "Bg_BMwxrwqYI"
   },
   "source": [
    "## Experiment 1: LR, OHE tickers"
   ]
  },
  {
   "cell_type": "code",
   "execution_count": null,
   "metadata": {
    "id": "inbqD9_uz_Rd"
   },
   "outputs": [],
   "source": [
    "X_train, X_test, y_train, y_test = train_test_split(df_em.drop(columns=['target', 'price_1d']), df_em['target'], test_size=0.2, random_state=69)"
   ]
  },
  {
   "cell_type": "code",
   "execution_count": null,
   "metadata": {
    "id": "VhjkNpp4yMcf"
   },
   "outputs": [],
   "source": [
    "ohe = OneHotEncoder(drop='first', handle_unknown='ignore', sparse_output=False)\n",
    "\n",
    "X_train_encoded = ohe.fit_transform(X_train[['subreddit', 'type', 'ticker']])\n",
    "\n",
    "X_train_encoded = pd.DataFrame(X_train_encoded, columns=ohe.get_feature_names_out(), index=X_train.index)"
   ]
  },
  {
   "cell_type": "code",
   "execution_count": null,
   "metadata": {
    "colab": {
     "base_uri": "https://localhost:8080/"
    },
    "id": "Ucr0782J2dc9",
    "outputId": "b4eb3f28-8114-4636-f502-bfd62ce2532c"
   },
   "outputs": [
    {
     "data": {
      "text/plain": [
       "(6726, 718)"
      ]
     },
     "execution_count": 127,
     "metadata": {},
     "output_type": "execute_result"
    }
   ],
   "source": [
    "X_train = pd.concat([X_train, X_train_encoded], axis=1)\n",
    "X_train.drop(columns=['subreddit', 'type', 'ticker'], inplace=True)\n",
    "X_train.shape"
   ]
  },
  {
   "cell_type": "code",
   "execution_count": null,
   "metadata": {
    "colab": {
     "base_uri": "https://localhost:8080/"
    },
    "id": "l-Q6bBCz2t6q",
    "outputId": "a96167f5-1335-419a-f843-a3945f6dcb22"
   },
   "outputs": [
    {
     "name": "stderr",
     "output_type": "stream",
     "text": [
      "/usr/local/lib/python3.10/dist-packages/sklearn/preprocessing/_encoders.py:242: UserWarning: Found unknown categories in columns [2] during transform. These unknown categories will be encoded as all zeros\n",
      "  warnings.warn(\n"
     ]
    },
    {
     "data": {
      "text/plain": [
       "(1682, 718)"
      ]
     },
     "execution_count": 128,
     "metadata": {},
     "output_type": "execute_result"
    }
   ],
   "source": [
    "X_test_encoded = ohe.transform(X_test[['subreddit', 'type', 'ticker']])\n",
    "\n",
    "X_test_encoded = pd.DataFrame(X_test_encoded, columns=ohe.get_feature_names_out(), index=X_test.index)\n",
    "\n",
    "X_test = pd.concat([X_test, X_test_encoded], axis=1)\n",
    "X_test.drop(columns=['subreddit', 'type', 'ticker'], inplace=True)\n",
    "\n",
    "X_test.shape"
   ]
  },
  {
   "cell_type": "code",
   "execution_count": null,
   "metadata": {
    "id": "80PfKupqVC3q"
   },
   "outputs": [],
   "source": [
    "ss = StandardScaler()\n",
    "X_train_scaled = ss.fit_transform(X_train)\n",
    "X_test_scaled = ss.transform(X_test)\n",
    "\n",
    "X_train = pd.DataFrame(X_train_scaled, columns=ss.get_feature_names_out(), index=X_train.index)\n",
    "X_test = pd.DataFrame(X_test_scaled, columns=ss.get_feature_names_out(), index=X_test.index)"
   ]
  },
  {
   "cell_type": "code",
   "execution_count": null,
   "metadata": {
    "colab": {
     "base_uri": "https://localhost:8080/"
    },
    "id": "AP8zbUsO3YQT",
    "outputId": "d54c2fbf-a445-46f8-d639-9392ed98ff1a"
   },
   "outputs": [
    {
     "name": "stdout",
     "output_type": "stream",
     "text": [
      "RMSE_train: 6.2255653503348345\n",
      "R2_train: 0.30025619829290273\n",
      "MAE_train: 3.3404977361584423\n",
      "MAPE_train: 4417711597652.801\n",
      "-------------------------\n",
      "RMSE_test: 8.048546026214133\n",
      "R2_test: 0.1519297918769299\n",
      "MAE_test: 4.262733521618125\n",
      "MAPE_test: 5973959166614.119\n"
     ]
    }
   ],
   "source": [
    "lr = LinearRegression()\n",
    "lr.fit(X_train, y_train)\n",
    "\n",
    "pred_train = lr.predict(X_train)\n",
    "pred_test = lr.predict(X_test)\n",
    "\n",
    "RMSE_train = root_mean_squared_error(y_train, pred_train)\n",
    "R2_train = r2_score(y_train, pred_train)\n",
    "MAE_train = mean_absolute_error(y_train, pred_train)\n",
    "MAPE_train = mean_absolute_percentage_error(y_train, pred_train)\n",
    "\n",
    "RMSE_test = root_mean_squared_error(y_test, pred_test)\n",
    "R2_test = r2_score(y_test, pred_test)\n",
    "MAE_test = mean_absolute_error(y_test, pred_test)\n",
    "MAPE_test = mean_absolute_percentage_error(y_test, pred_test)\n",
    "\n",
    "print(f\"RMSE_train: {RMSE_train}\")\n",
    "print(f\"R2_train: {R2_train}\")\n",
    "print(f\"MAE_train: {MAE_train}\")\n",
    "print(f\"MAPE_train: {MAPE_train}\")\n",
    "print(\"-------------------------\")\n",
    "print(f\"RMSE_test: {RMSE_test}\")\n",
    "print(f\"R2_test: {R2_test}\")\n",
    "print(f\"MAE_test: {MAE_test}\")\n",
    "print(f\"MAPE_test: {MAPE_test}\")"
   ]
  },
  {
   "cell_type": "markdown",
   "metadata": {
    "id": "SkFwA61o8QtP"
   },
   "source": [
    "## Experiment 2: LR, drop tickers"
   ]
  },
  {
   "cell_type": "code",
   "execution_count": null,
   "metadata": {
    "id": "ezX0Glru8z8i"
   },
   "outputs": [],
   "source": [
    "X_train, X_test, y_train, y_test = train_test_split(df_em.drop(columns=['target', 'price_1d']), df_em['target'], test_size=0.2, random_state=69)"
   ]
  },
  {
   "cell_type": "code",
   "execution_count": null,
   "metadata": {
    "id": "ijqcxs9Z8z8i"
   },
   "outputs": [],
   "source": [
    "ohe = OneHotEncoder(drop='first', handle_unknown='ignore', sparse_output=False)\n",
    "\n",
    "X_train_encoded = ohe.fit_transform(X_train[['subreddit', 'type']])\n",
    "\n",
    "X_train_encoded = pd.DataFrame(X_train_encoded, columns=ohe.get_feature_names_out(), index=X_train.index)"
   ]
  },
  {
   "cell_type": "code",
   "execution_count": null,
   "metadata": {
    "colab": {
     "base_uri": "https://localhost:8080/"
    },
    "id": "j1qFTe-x8z8j",
    "outputId": "2695c289-b7e7-4a1b-8205-ff41cb190964"
   },
   "outputs": [
    {
     "data": {
      "text/plain": [
       "(6726, 13)"
      ]
     },
     "execution_count": 133,
     "metadata": {},
     "output_type": "execute_result"
    }
   ],
   "source": [
    "X_train = pd.concat([X_train, X_train_encoded], axis=1)\n",
    "X_train.drop(columns=['subreddit', 'type', 'ticker'], inplace=True)\n",
    "X_train.shape"
   ]
  },
  {
   "cell_type": "code",
   "execution_count": null,
   "metadata": {
    "colab": {
     "base_uri": "https://localhost:8080/"
    },
    "id": "AH4nvU2T8z8j",
    "outputId": "5e5d65ba-6b22-4f88-9a9f-a6ebe4512663"
   },
   "outputs": [
    {
     "data": {
      "text/plain": [
       "(1682, 13)"
      ]
     },
     "execution_count": 134,
     "metadata": {},
     "output_type": "execute_result"
    }
   ],
   "source": [
    "X_test_encoded = ohe.transform(X_test[['subreddit', 'type']])\n",
    "\n",
    "X_test_encoded = pd.DataFrame(X_test_encoded, columns=ohe.get_feature_names_out(), index=X_test.index)\n",
    "\n",
    "X_test = pd.concat([X_test, X_test_encoded], axis=1)\n",
    "X_test.drop(columns=['subreddit', 'type', 'ticker'], inplace=True)\n",
    "\n",
    "X_test.shape"
   ]
  },
  {
   "cell_type": "code",
   "execution_count": null,
   "metadata": {
    "id": "pgmyph2fVVO7"
   },
   "outputs": [],
   "source": [
    "ss = StandardScaler()\n",
    "X_train_scaled = ss.fit_transform(X_train)\n",
    "X_test_scaled = ss.transform(X_test)\n",
    "\n",
    "X_train = pd.DataFrame(X_train_scaled, columns=ss.get_feature_names_out(), index=X_train.index)\n",
    "X_test = pd.DataFrame(X_test_scaled, columns=ss.get_feature_names_out(), index=X_test.index)"
   ]
  },
  {
   "cell_type": "code",
   "execution_count": null,
   "metadata": {
    "colab": {
     "base_uri": "https://localhost:8080/"
    },
    "id": "XJrS3WTw9FIf",
    "outputId": "af2108b3-5fdb-4668-f027-8100f03cd19b"
   },
   "outputs": [
    {
     "name": "stdout",
     "output_type": "stream",
     "text": [
      "RMSE_train: 7.423334354553378\n",
      "R2_train: 0.005099814831342364\n",
      "MAE_train: 3.8305584769836445\n",
      "MAPE_train: 5463511917987.38\n",
      "-------------------------\n",
      "RMSE_test: 8.714644180500525\n",
      "R2_test: 0.005748482930035603\n",
      "MAE_test: 4.1777863336987915\n",
      "MAPE_test: 2290938515847.97\n"
     ]
    }
   ],
   "source": [
    "lr = LinearRegression()\n",
    "lr.fit(X_train, y_train)\n",
    "\n",
    "pred_train = lr.predict(X_train)\n",
    "pred_test = lr.predict(X_test)\n",
    "\n",
    "RMSE_train = root_mean_squared_error(y_train, pred_train)\n",
    "R2_train = r2_score(y_train, pred_train)\n",
    "MAE_train = mean_absolute_error(y_train, pred_train)\n",
    "MAPE_train = mean_absolute_percentage_error(y_train, pred_train)\n",
    "\n",
    "RMSE_test = root_mean_squared_error(y_test, pred_test)\n",
    "R2_test = r2_score(y_test, pred_test)\n",
    "MAE_test = mean_absolute_error(y_test, pred_test)\n",
    "MAPE_test = mean_absolute_percentage_error(y_test, pred_test)\n",
    "\n",
    "print(f\"RMSE_train: {RMSE_train}\")\n",
    "print(f\"R2_train: {R2_train}\")\n",
    "print(f\"MAE_train: {MAE_train}\")\n",
    "print(f\"MAPE_train: {MAPE_train}\")\n",
    "print(\"-------------------------\")\n",
    "print(f\"RMSE_test: {RMSE_test}\")\n",
    "print(f\"R2_test: {R2_test}\")\n",
    "print(f\"MAE_test: {MAE_test}\")\n",
    "print(f\"MAPE_test: {MAPE_test}\")"
   ]
  },
  {
   "cell_type": "markdown",
   "metadata": {
    "id": "25XTh1FsA7iP"
   },
   "source": [
    "## Experiment 3: Ridge, OHE tickers"
   ]
  },
  {
   "cell_type": "code",
   "execution_count": null,
   "metadata": {
    "id": "oXGq3y1kBG6x"
   },
   "outputs": [],
   "source": [
    "X_train, X_test, y_train, y_test = train_test_split(df_em.drop(columns=['target', 'price_1d']), df_em['target'], test_size=0.2, random_state=69)"
   ]
  },
  {
   "cell_type": "code",
   "execution_count": null,
   "metadata": {
    "id": "DT69FAtHBG6x"
   },
   "outputs": [],
   "source": [
    "ohe = OneHotEncoder(drop='first', handle_unknown='ignore', sparse_output=False)\n",
    "\n",
    "X_train_encoded = ohe.fit_transform(X_train[['subreddit', 'type', 'ticker']])\n",
    "\n",
    "X_train_encoded = pd.DataFrame(X_train_encoded, columns=ohe.get_feature_names_out(), index=X_train.index)"
   ]
  },
  {
   "cell_type": "code",
   "execution_count": null,
   "metadata": {
    "colab": {
     "base_uri": "https://localhost:8080/"
    },
    "id": "Hq4t-HWwBG6x",
    "outputId": "40d7633f-6d18-446b-aabe-710d27d6b741"
   },
   "outputs": [
    {
     "data": {
      "text/plain": [
       "(6726, 718)"
      ]
     },
     "execution_count": 140,
     "metadata": {},
     "output_type": "execute_result"
    }
   ],
   "source": [
    "X_train = pd.concat([X_train, X_train_encoded], axis=1)\n",
    "X_train.drop(columns=['subreddit', 'type', 'ticker'], inplace=True)\n",
    "X_train.shape"
   ]
  },
  {
   "cell_type": "code",
   "execution_count": null,
   "metadata": {
    "colab": {
     "base_uri": "https://localhost:8080/"
    },
    "id": "i_LNu9weBG6x",
    "outputId": "aac02e2d-16ef-43da-9097-7bbe50a7bc6a"
   },
   "outputs": [
    {
     "name": "stderr",
     "output_type": "stream",
     "text": [
      "/usr/local/lib/python3.10/dist-packages/sklearn/preprocessing/_encoders.py:242: UserWarning: Found unknown categories in columns [2] during transform. These unknown categories will be encoded as all zeros\n",
      "  warnings.warn(\n"
     ]
    },
    {
     "data": {
      "text/plain": [
       "(1682, 718)"
      ]
     },
     "execution_count": 141,
     "metadata": {},
     "output_type": "execute_result"
    }
   ],
   "source": [
    "X_test_encoded = ohe.transform(X_test[['subreddit', 'type', 'ticker']])\n",
    "\n",
    "X_test_encoded = pd.DataFrame(X_test_encoded, columns=ohe.get_feature_names_out(), index=X_test.index)\n",
    "\n",
    "X_test = pd.concat([X_test, X_test_encoded], axis=1)\n",
    "X_test.drop(columns=['subreddit', 'type', 'ticker'], inplace=True)\n",
    "\n",
    "X_test.shape"
   ]
  },
  {
   "cell_type": "code",
   "execution_count": null,
   "metadata": {
    "id": "Hn7ol2NRVmuM"
   },
   "outputs": [],
   "source": [
    "ss = StandardScaler()\n",
    "X_train_scaled = ss.fit_transform(X_train)\n",
    "X_test_scaled = ss.transform(X_test)\n",
    "\n",
    "X_train = pd.DataFrame(X_train_scaled, columns=ss.get_feature_names_out(), index=X_train.index)\n",
    "X_test = pd.DataFrame(X_test_scaled, columns=ss.get_feature_names_out(), index=X_test.index)"
   ]
  },
  {
   "cell_type": "code",
   "execution_count": null,
   "metadata": {
    "colab": {
     "base_uri": "https://localhost:8080/",
     "height": 136
    },
    "id": "esXAFkYPA0qV",
    "outputId": "b9490d76-f421-4cba-e287-0650ba55f7b1"
   },
   "outputs": [
    {
     "data": {
      "text/html": [
       "<style>#sk-container-id-1 {\n",
       "  /* Definition of color scheme common for light and dark mode */\n",
       "  --sklearn-color-text: black;\n",
       "  --sklearn-color-line: gray;\n",
       "  /* Definition of color scheme for unfitted estimators */\n",
       "  --sklearn-color-unfitted-level-0: #fff5e6;\n",
       "  --sklearn-color-unfitted-level-1: #f6e4d2;\n",
       "  --sklearn-color-unfitted-level-2: #ffe0b3;\n",
       "  --sklearn-color-unfitted-level-3: chocolate;\n",
       "  /* Definition of color scheme for fitted estimators */\n",
       "  --sklearn-color-fitted-level-0: #f0f8ff;\n",
       "  --sklearn-color-fitted-level-1: #d4ebff;\n",
       "  --sklearn-color-fitted-level-2: #b3dbfd;\n",
       "  --sklearn-color-fitted-level-3: cornflowerblue;\n",
       "\n",
       "  /* Specific color for light theme */\n",
       "  --sklearn-color-text-on-default-background: var(--sg-text-color, var(--theme-code-foreground, var(--jp-content-font-color1, black)));\n",
       "  --sklearn-color-background: var(--sg-background-color, var(--theme-background, var(--jp-layout-color0, white)));\n",
       "  --sklearn-color-border-box: var(--sg-text-color, var(--theme-code-foreground, var(--jp-content-font-color1, black)));\n",
       "  --sklearn-color-icon: #696969;\n",
       "\n",
       "  @media (prefers-color-scheme: dark) {\n",
       "    /* Redefinition of color scheme for dark theme */\n",
       "    --sklearn-color-text-on-default-background: var(--sg-text-color, var(--theme-code-foreground, var(--jp-content-font-color1, white)));\n",
       "    --sklearn-color-background: var(--sg-background-color, var(--theme-background, var(--jp-layout-color0, #111)));\n",
       "    --sklearn-color-border-box: var(--sg-text-color, var(--theme-code-foreground, var(--jp-content-font-color1, white)));\n",
       "    --sklearn-color-icon: #878787;\n",
       "  }\n",
       "}\n",
       "\n",
       "#sk-container-id-1 {\n",
       "  color: var(--sklearn-color-text);\n",
       "}\n",
       "\n",
       "#sk-container-id-1 pre {\n",
       "  padding: 0;\n",
       "}\n",
       "\n",
       "#sk-container-id-1 input.sk-hidden--visually {\n",
       "  border: 0;\n",
       "  clip: rect(1px 1px 1px 1px);\n",
       "  clip: rect(1px, 1px, 1px, 1px);\n",
       "  height: 1px;\n",
       "  margin: -1px;\n",
       "  overflow: hidden;\n",
       "  padding: 0;\n",
       "  position: absolute;\n",
       "  width: 1px;\n",
       "}\n",
       "\n",
       "#sk-container-id-1 div.sk-dashed-wrapped {\n",
       "  border: 1px dashed var(--sklearn-color-line);\n",
       "  margin: 0 0.4em 0.5em 0.4em;\n",
       "  box-sizing: border-box;\n",
       "  padding-bottom: 0.4em;\n",
       "  background-color: var(--sklearn-color-background);\n",
       "}\n",
       "\n",
       "#sk-container-id-1 div.sk-container {\n",
       "  /* jupyter's `normalize.less` sets `[hidden] { display: none; }`\n",
       "     but bootstrap.min.css set `[hidden] { display: none !important; }`\n",
       "     so we also need the `!important` here to be able to override the\n",
       "     default hidden behavior on the sphinx rendered scikit-learn.org.\n",
       "     See: https://github.com/scikit-learn/scikit-learn/issues/21755 */\n",
       "  display: inline-block !important;\n",
       "  position: relative;\n",
       "}\n",
       "\n",
       "#sk-container-id-1 div.sk-text-repr-fallback {\n",
       "  display: none;\n",
       "}\n",
       "\n",
       "div.sk-parallel-item,\n",
       "div.sk-serial,\n",
       "div.sk-item {\n",
       "  /* draw centered vertical line to link estimators */\n",
       "  background-image: linear-gradient(var(--sklearn-color-text-on-default-background), var(--sklearn-color-text-on-default-background));\n",
       "  background-size: 2px 100%;\n",
       "  background-repeat: no-repeat;\n",
       "  background-position: center center;\n",
       "}\n",
       "\n",
       "/* Parallel-specific style estimator block */\n",
       "\n",
       "#sk-container-id-1 div.sk-parallel-item::after {\n",
       "  content: \"\";\n",
       "  width: 100%;\n",
       "  border-bottom: 2px solid var(--sklearn-color-text-on-default-background);\n",
       "  flex-grow: 1;\n",
       "}\n",
       "\n",
       "#sk-container-id-1 div.sk-parallel {\n",
       "  display: flex;\n",
       "  align-items: stretch;\n",
       "  justify-content: center;\n",
       "  background-color: var(--sklearn-color-background);\n",
       "  position: relative;\n",
       "}\n",
       "\n",
       "#sk-container-id-1 div.sk-parallel-item {\n",
       "  display: flex;\n",
       "  flex-direction: column;\n",
       "}\n",
       "\n",
       "#sk-container-id-1 div.sk-parallel-item:first-child::after {\n",
       "  align-self: flex-end;\n",
       "  width: 50%;\n",
       "}\n",
       "\n",
       "#sk-container-id-1 div.sk-parallel-item:last-child::after {\n",
       "  align-self: flex-start;\n",
       "  width: 50%;\n",
       "}\n",
       "\n",
       "#sk-container-id-1 div.sk-parallel-item:only-child::after {\n",
       "  width: 0;\n",
       "}\n",
       "\n",
       "/* Serial-specific style estimator block */\n",
       "\n",
       "#sk-container-id-1 div.sk-serial {\n",
       "  display: flex;\n",
       "  flex-direction: column;\n",
       "  align-items: center;\n",
       "  background-color: var(--sklearn-color-background);\n",
       "  padding-right: 1em;\n",
       "  padding-left: 1em;\n",
       "}\n",
       "\n",
       "\n",
       "/* Toggleable style: style used for estimator/Pipeline/ColumnTransformer box that is\n",
       "clickable and can be expanded/collapsed.\n",
       "- Pipeline and ColumnTransformer use this feature and define the default style\n",
       "- Estimators will overwrite some part of the style using the `sk-estimator` class\n",
       "*/\n",
       "\n",
       "/* Pipeline and ColumnTransformer style (default) */\n",
       "\n",
       "#sk-container-id-1 div.sk-toggleable {\n",
       "  /* Default theme specific background. It is overwritten whether we have a\n",
       "  specific estimator or a Pipeline/ColumnTransformer */\n",
       "  background-color: var(--sklearn-color-background);\n",
       "}\n",
       "\n",
       "/* Toggleable label */\n",
       "#sk-container-id-1 label.sk-toggleable__label {\n",
       "  cursor: pointer;\n",
       "  display: block;\n",
       "  width: 100%;\n",
       "  margin-bottom: 0;\n",
       "  padding: 0.5em;\n",
       "  box-sizing: border-box;\n",
       "  text-align: center;\n",
       "}\n",
       "\n",
       "#sk-container-id-1 label.sk-toggleable__label-arrow:before {\n",
       "  /* Arrow on the left of the label */\n",
       "  content: \"▸\";\n",
       "  float: left;\n",
       "  margin-right: 0.25em;\n",
       "  color: var(--sklearn-color-icon);\n",
       "}\n",
       "\n",
       "#sk-container-id-1 label.sk-toggleable__label-arrow:hover:before {\n",
       "  color: var(--sklearn-color-text);\n",
       "}\n",
       "\n",
       "/* Toggleable content - dropdown */\n",
       "\n",
       "#sk-container-id-1 div.sk-toggleable__content {\n",
       "  max-height: 0;\n",
       "  max-width: 0;\n",
       "  overflow: hidden;\n",
       "  text-align: left;\n",
       "  /* unfitted */\n",
       "  background-color: var(--sklearn-color-unfitted-level-0);\n",
       "}\n",
       "\n",
       "#sk-container-id-1 div.sk-toggleable__content.fitted {\n",
       "  /* fitted */\n",
       "  background-color: var(--sklearn-color-fitted-level-0);\n",
       "}\n",
       "\n",
       "#sk-container-id-1 div.sk-toggleable__content pre {\n",
       "  margin: 0.2em;\n",
       "  border-radius: 0.25em;\n",
       "  color: var(--sklearn-color-text);\n",
       "  /* unfitted */\n",
       "  background-color: var(--sklearn-color-unfitted-level-0);\n",
       "}\n",
       "\n",
       "#sk-container-id-1 div.sk-toggleable__content.fitted pre {\n",
       "  /* unfitted */\n",
       "  background-color: var(--sklearn-color-fitted-level-0);\n",
       "}\n",
       "\n",
       "#sk-container-id-1 input.sk-toggleable__control:checked~div.sk-toggleable__content {\n",
       "  /* Expand drop-down */\n",
       "  max-height: 200px;\n",
       "  max-width: 100%;\n",
       "  overflow: auto;\n",
       "}\n",
       "\n",
       "#sk-container-id-1 input.sk-toggleable__control:checked~label.sk-toggleable__label-arrow:before {\n",
       "  content: \"▾\";\n",
       "}\n",
       "\n",
       "/* Pipeline/ColumnTransformer-specific style */\n",
       "\n",
       "#sk-container-id-1 div.sk-label input.sk-toggleable__control:checked~label.sk-toggleable__label {\n",
       "  color: var(--sklearn-color-text);\n",
       "  background-color: var(--sklearn-color-unfitted-level-2);\n",
       "}\n",
       "\n",
       "#sk-container-id-1 div.sk-label.fitted input.sk-toggleable__control:checked~label.sk-toggleable__label {\n",
       "  background-color: var(--sklearn-color-fitted-level-2);\n",
       "}\n",
       "\n",
       "/* Estimator-specific style */\n",
       "\n",
       "/* Colorize estimator box */\n",
       "#sk-container-id-1 div.sk-estimator input.sk-toggleable__control:checked~label.sk-toggleable__label {\n",
       "  /* unfitted */\n",
       "  background-color: var(--sklearn-color-unfitted-level-2);\n",
       "}\n",
       "\n",
       "#sk-container-id-1 div.sk-estimator.fitted input.sk-toggleable__control:checked~label.sk-toggleable__label {\n",
       "  /* fitted */\n",
       "  background-color: var(--sklearn-color-fitted-level-2);\n",
       "}\n",
       "\n",
       "#sk-container-id-1 div.sk-label label.sk-toggleable__label,\n",
       "#sk-container-id-1 div.sk-label label {\n",
       "  /* The background is the default theme color */\n",
       "  color: var(--sklearn-color-text-on-default-background);\n",
       "}\n",
       "\n",
       "/* On hover, darken the color of the background */\n",
       "#sk-container-id-1 div.sk-label:hover label.sk-toggleable__label {\n",
       "  color: var(--sklearn-color-text);\n",
       "  background-color: var(--sklearn-color-unfitted-level-2);\n",
       "}\n",
       "\n",
       "/* Label box, darken color on hover, fitted */\n",
       "#sk-container-id-1 div.sk-label.fitted:hover label.sk-toggleable__label.fitted {\n",
       "  color: var(--sklearn-color-text);\n",
       "  background-color: var(--sklearn-color-fitted-level-2);\n",
       "}\n",
       "\n",
       "/* Estimator label */\n",
       "\n",
       "#sk-container-id-1 div.sk-label label {\n",
       "  font-family: monospace;\n",
       "  font-weight: bold;\n",
       "  display: inline-block;\n",
       "  line-height: 1.2em;\n",
       "}\n",
       "\n",
       "#sk-container-id-1 div.sk-label-container {\n",
       "  text-align: center;\n",
       "}\n",
       "\n",
       "/* Estimator-specific */\n",
       "#sk-container-id-1 div.sk-estimator {\n",
       "  font-family: monospace;\n",
       "  border: 1px dotted var(--sklearn-color-border-box);\n",
       "  border-radius: 0.25em;\n",
       "  box-sizing: border-box;\n",
       "  margin-bottom: 0.5em;\n",
       "  /* unfitted */\n",
       "  background-color: var(--sklearn-color-unfitted-level-0);\n",
       "}\n",
       "\n",
       "#sk-container-id-1 div.sk-estimator.fitted {\n",
       "  /* fitted */\n",
       "  background-color: var(--sklearn-color-fitted-level-0);\n",
       "}\n",
       "\n",
       "/* on hover */\n",
       "#sk-container-id-1 div.sk-estimator:hover {\n",
       "  /* unfitted */\n",
       "  background-color: var(--sklearn-color-unfitted-level-2);\n",
       "}\n",
       "\n",
       "#sk-container-id-1 div.sk-estimator.fitted:hover {\n",
       "  /* fitted */\n",
       "  background-color: var(--sklearn-color-fitted-level-2);\n",
       "}\n",
       "\n",
       "/* Specification for estimator info (e.g. \"i\" and \"?\") */\n",
       "\n",
       "/* Common style for \"i\" and \"?\" */\n",
       "\n",
       ".sk-estimator-doc-link,\n",
       "a:link.sk-estimator-doc-link,\n",
       "a:visited.sk-estimator-doc-link {\n",
       "  float: right;\n",
       "  font-size: smaller;\n",
       "  line-height: 1em;\n",
       "  font-family: monospace;\n",
       "  background-color: var(--sklearn-color-background);\n",
       "  border-radius: 1em;\n",
       "  height: 1em;\n",
       "  width: 1em;\n",
       "  text-decoration: none !important;\n",
       "  margin-left: 1ex;\n",
       "  /* unfitted */\n",
       "  border: var(--sklearn-color-unfitted-level-1) 1pt solid;\n",
       "  color: var(--sklearn-color-unfitted-level-1);\n",
       "}\n",
       "\n",
       ".sk-estimator-doc-link.fitted,\n",
       "a:link.sk-estimator-doc-link.fitted,\n",
       "a:visited.sk-estimator-doc-link.fitted {\n",
       "  /* fitted */\n",
       "  border: var(--sklearn-color-fitted-level-1) 1pt solid;\n",
       "  color: var(--sklearn-color-fitted-level-1);\n",
       "}\n",
       "\n",
       "/* On hover */\n",
       "div.sk-estimator:hover .sk-estimator-doc-link:hover,\n",
       ".sk-estimator-doc-link:hover,\n",
       "div.sk-label-container:hover .sk-estimator-doc-link:hover,\n",
       ".sk-estimator-doc-link:hover {\n",
       "  /* unfitted */\n",
       "  background-color: var(--sklearn-color-unfitted-level-3);\n",
       "  color: var(--sklearn-color-background);\n",
       "  text-decoration: none;\n",
       "}\n",
       "\n",
       "div.sk-estimator.fitted:hover .sk-estimator-doc-link.fitted:hover,\n",
       ".sk-estimator-doc-link.fitted:hover,\n",
       "div.sk-label-container:hover .sk-estimator-doc-link.fitted:hover,\n",
       ".sk-estimator-doc-link.fitted:hover {\n",
       "  /* fitted */\n",
       "  background-color: var(--sklearn-color-fitted-level-3);\n",
       "  color: var(--sklearn-color-background);\n",
       "  text-decoration: none;\n",
       "}\n",
       "\n",
       "/* Span, style for the box shown on hovering the info icon */\n",
       ".sk-estimator-doc-link span {\n",
       "  display: none;\n",
       "  z-index: 9999;\n",
       "  position: relative;\n",
       "  font-weight: normal;\n",
       "  right: .2ex;\n",
       "  padding: .5ex;\n",
       "  margin: .5ex;\n",
       "  width: min-content;\n",
       "  min-width: 20ex;\n",
       "  max-width: 50ex;\n",
       "  color: var(--sklearn-color-text);\n",
       "  box-shadow: 2pt 2pt 4pt #999;\n",
       "  /* unfitted */\n",
       "  background: var(--sklearn-color-unfitted-level-0);\n",
       "  border: .5pt solid var(--sklearn-color-unfitted-level-3);\n",
       "}\n",
       "\n",
       ".sk-estimator-doc-link.fitted span {\n",
       "  /* fitted */\n",
       "  background: var(--sklearn-color-fitted-level-0);\n",
       "  border: var(--sklearn-color-fitted-level-3);\n",
       "}\n",
       "\n",
       ".sk-estimator-doc-link:hover span {\n",
       "  display: block;\n",
       "}\n",
       "\n",
       "/* \"?\"-specific style due to the `<a>` HTML tag */\n",
       "\n",
       "#sk-container-id-1 a.estimator_doc_link {\n",
       "  float: right;\n",
       "  font-size: 1rem;\n",
       "  line-height: 1em;\n",
       "  font-family: monospace;\n",
       "  background-color: var(--sklearn-color-background);\n",
       "  border-radius: 1rem;\n",
       "  height: 1rem;\n",
       "  width: 1rem;\n",
       "  text-decoration: none;\n",
       "  /* unfitted */\n",
       "  color: var(--sklearn-color-unfitted-level-1);\n",
       "  border: var(--sklearn-color-unfitted-level-1) 1pt solid;\n",
       "}\n",
       "\n",
       "#sk-container-id-1 a.estimator_doc_link.fitted {\n",
       "  /* fitted */\n",
       "  border: var(--sklearn-color-fitted-level-1) 1pt solid;\n",
       "  color: var(--sklearn-color-fitted-level-1);\n",
       "}\n",
       "\n",
       "/* On hover */\n",
       "#sk-container-id-1 a.estimator_doc_link:hover {\n",
       "  /* unfitted */\n",
       "  background-color: var(--sklearn-color-unfitted-level-3);\n",
       "  color: var(--sklearn-color-background);\n",
       "  text-decoration: none;\n",
       "}\n",
       "\n",
       "#sk-container-id-1 a.estimator_doc_link.fitted:hover {\n",
       "  /* fitted */\n",
       "  background-color: var(--sklearn-color-fitted-level-3);\n",
       "}\n",
       "</style><div id=\"sk-container-id-1\" class=\"sk-top-container\"><div class=\"sk-text-repr-fallback\"><pre>GridSearchCV(cv=10, estimator=Ridge(), n_jobs=-1,\n",
       "             param_grid={&#x27;alpha&#x27;: [0.001, 0.01, 0.1, 1, 10, 100, 1000, 10000,\n",
       "                                   100000, 1000000]},\n",
       "             scoring=&#x27;r2&#x27;)</pre><b>In a Jupyter environment, please rerun this cell to show the HTML representation or trust the notebook. <br />On GitHub, the HTML representation is unable to render, please try loading this page with nbviewer.org.</b></div><div class=\"sk-container\" hidden><div class=\"sk-item sk-dashed-wrapped\"><div class=\"sk-label-container\"><div class=\"sk-label fitted sk-toggleable\"><input class=\"sk-toggleable__control sk-hidden--visually\" id=\"sk-estimator-id-1\" type=\"checkbox\" ><label for=\"sk-estimator-id-1\" class=\"sk-toggleable__label fitted sk-toggleable__label-arrow fitted\">&nbsp;&nbsp;GridSearchCV<a class=\"sk-estimator-doc-link fitted\" rel=\"noreferrer\" target=\"_blank\" href=\"https://scikit-learn.org/1.5/modules/generated/sklearn.model_selection.GridSearchCV.html\">?<span>Documentation for GridSearchCV</span></a><span class=\"sk-estimator-doc-link fitted\">i<span>Fitted</span></span></label><div class=\"sk-toggleable__content fitted\"><pre>GridSearchCV(cv=10, estimator=Ridge(), n_jobs=-1,\n",
       "             param_grid={&#x27;alpha&#x27;: [0.001, 0.01, 0.1, 1, 10, 100, 1000, 10000,\n",
       "                                   100000, 1000000]},\n",
       "             scoring=&#x27;r2&#x27;)</pre></div> </div></div><div class=\"sk-parallel\"><div class=\"sk-parallel-item\"><div class=\"sk-item\"><div class=\"sk-label-container\"><div class=\"sk-label fitted sk-toggleable\"><input class=\"sk-toggleable__control sk-hidden--visually\" id=\"sk-estimator-id-2\" type=\"checkbox\" ><label for=\"sk-estimator-id-2\" class=\"sk-toggleable__label fitted sk-toggleable__label-arrow fitted\">best_estimator_: Ridge</label><div class=\"sk-toggleable__content fitted\"><pre>Ridge(alpha=100)</pre></div> </div></div><div class=\"sk-serial\"><div class=\"sk-item\"><div class=\"sk-estimator fitted sk-toggleable\"><input class=\"sk-toggleable__control sk-hidden--visually\" id=\"sk-estimator-id-3\" type=\"checkbox\" ><label for=\"sk-estimator-id-3\" class=\"sk-toggleable__label fitted sk-toggleable__label-arrow fitted\">&nbsp;Ridge<a class=\"sk-estimator-doc-link fitted\" rel=\"noreferrer\" target=\"_blank\" href=\"https://scikit-learn.org/1.5/modules/generated/sklearn.linear_model.Ridge.html\">?<span>Documentation for Ridge</span></a></label><div class=\"sk-toggleable__content fitted\"><pre>Ridge(alpha=100)</pre></div> </div></div></div></div></div></div></div></div></div>"
      ],
      "text/plain": [
       "GridSearchCV(cv=10, estimator=Ridge(), n_jobs=-1,\n",
       "             param_grid={'alpha': [0.001, 0.01, 0.1, 1, 10, 100, 1000, 10000,\n",
       "                                   100000, 1000000]},\n",
       "             scoring='r2')"
      ]
     },
     "execution_count": 143,
     "metadata": {},
     "output_type": "execute_result"
    }
   ],
   "source": [
    "\n",
    "ridge = Ridge()\n",
    "\n",
    "param_grid = {'alpha': [0.001, 0.01, 0.1, 1, 10, 100, 1000, 10000, 100000, 1000000]}\n",
    "\n",
    "gs = GridSearchCV(ridge, param_grid, n_jobs=-1, cv=10, scoring='r2')\n",
    "gs.fit(X_train, y_train)"
   ]
  },
  {
   "cell_type": "code",
   "execution_count": null,
   "metadata": {
    "colab": {
     "base_uri": "https://localhost:8080/"
    },
    "id": "tchqEQoFBP_a",
    "outputId": "7ac72488-044a-4a05-e22f-96ebaf3ac42c"
   },
   "outputs": [
    {
     "name": "stdout",
     "output_type": "stream",
     "text": [
      "RMSE_train: 6.474575672786115\n",
      "R2_train: 0.24315997769975117\n",
      "MAE_train: 3.3718951348219344\n",
      "MAPE_train: 4622321170403.398\n",
      "-------------------------\n",
      "RMSE_test: 7.912323550020209\n",
      "R2_test: 0.1803942068668809\n",
      "MAE_test: 4.034797722471261\n",
      "MAPE_test: 6373067140765.547\n"
     ]
    }
   ],
   "source": [
    "best_grid = gs.best_estimator_\n",
    "\n",
    "pred_train = best_grid.predict(X_train)\n",
    "pred_test = best_grid.predict(X_test)\n",
    "\n",
    "RMSE_train = root_mean_squared_error(y_train, pred_train)\n",
    "R2_train = r2_score(y_train, pred_train)\n",
    "MAE_train = mean_absolute_error(y_train, pred_train)\n",
    "MAPE_train = mean_absolute_percentage_error(y_train, pred_train)\n",
    "\n",
    "RMSE_test = root_mean_squared_error(y_test, pred_test)\n",
    "R2_test = r2_score(y_test, pred_test)\n",
    "MAE_test = mean_absolute_error(y_test, pred_test)\n",
    "MAPE_test = mean_absolute_percentage_error(y_test, pred_test)\n",
    "\n",
    "print(f\"RMSE_train: {RMSE_train}\")\n",
    "print(f\"R2_train: {R2_train}\")\n",
    "print(f\"MAE_train: {MAE_train}\")\n",
    "print(f\"MAPE_train: {MAPE_train}\")\n",
    "print(\"-------------------------\")\n",
    "print(f\"RMSE_test: {RMSE_test}\")\n",
    "print(f\"R2_test: {R2_test}\")\n",
    "print(f\"MAE_test: {MAE_test}\")\n",
    "print(f\"MAPE_test: {MAPE_test}\")"
   ]
  },
  {
   "cell_type": "markdown",
   "metadata": {
    "id": "Z2-hYSXJSDU-"
   },
   "source": [
    "## Experiment 4: LR, drop low-freq tickers and apply OHE, drop embeddings"
   ]
  },
  {
   "cell_type": "code",
   "execution_count": null,
   "metadata": {
    "id": "bX4960TySPXU"
   },
   "outputs": [],
   "source": [
    "X_train, X_test, y_train, y_test = train_test_split(df_em.drop(columns=['target', 'price_1d', 'embedding_mean']), df_em['target'], test_size=0.2, random_state=69)"
   ]
  },
  {
   "cell_type": "code",
   "execution_count": null,
   "metadata": {
    "id": "yl3WfYMYSToE"
   },
   "outputs": [],
   "source": [
    "X_train = X_train[X_train['ticker'].map(X_train['ticker'].value_counts()) > 100]\n",
    "y_train = y_train[X_train.index]"
   ]
  },
  {
   "cell_type": "code",
   "execution_count": null,
   "metadata": {
    "id": "lCnzNGTtTnax"
   },
   "outputs": [],
   "source": [
    "ohe = OneHotEncoder(drop='first', handle_unknown='ignore', sparse_output=False)\n",
    "\n",
    "X_train_encoded = ohe.fit_transform(X_train[['subreddit', 'type', 'ticker']])\n",
    "\n",
    "X_train_encoded = pd.DataFrame(X_train_encoded, columns=ohe.get_feature_names_out(), index=X_train.index)"
   ]
  },
  {
   "cell_type": "code",
   "execution_count": null,
   "metadata": {
    "colab": {
     "base_uri": "https://localhost:8080/"
    },
    "id": "J6cE6la5Tnay",
    "outputId": "f8371e28-6ebc-4ab2-ea76-be740ef04796"
   },
   "outputs": [
    {
     "data": {
      "text/plain": [
       "(3357, 21)"
      ]
     },
     "execution_count": 149,
     "metadata": {},
     "output_type": "execute_result"
    }
   ],
   "source": [
    "X_train = pd.concat([X_train, X_train_encoded], axis=1)\n",
    "X_train.drop(columns=['subreddit', 'type', 'ticker'], inplace=True)\n",
    "X_train.shape"
   ]
  },
  {
   "cell_type": "code",
   "execution_count": null,
   "metadata": {
    "colab": {
     "base_uri": "https://localhost:8080/"
    },
    "id": "4lBUqYXtTnay",
    "outputId": "e1f1bfb2-08a6-4162-c8fe-87fb0aba292e"
   },
   "outputs": [
    {
     "name": "stderr",
     "output_type": "stream",
     "text": [
      "/usr/local/lib/python3.10/dist-packages/sklearn/preprocessing/_encoders.py:242: UserWarning: Found unknown categories in columns [2] during transform. These unknown categories will be encoded as all zeros\n",
      "  warnings.warn(\n"
     ]
    },
    {
     "data": {
      "text/plain": [
       "(1682, 21)"
      ]
     },
     "execution_count": 150,
     "metadata": {},
     "output_type": "execute_result"
    }
   ],
   "source": [
    "X_test_encoded = ohe.transform(X_test[['subreddit', 'type', 'ticker']])\n",
    "\n",
    "X_test_encoded = pd.DataFrame(X_test_encoded, columns=ohe.get_feature_names_out(), index=X_test.index)\n",
    "\n",
    "X_test = pd.concat([X_test, X_test_encoded], axis=1)\n",
    "X_test.drop(columns=['subreddit', 'type', 'ticker'], inplace=True)\n",
    "\n",
    "X_test.shape"
   ]
  },
  {
   "cell_type": "code",
   "execution_count": null,
   "metadata": {
    "id": "s-DRNQbOVzjZ"
   },
   "outputs": [],
   "source": [
    "ss = StandardScaler()\n",
    "X_train_scaled = ss.fit_transform(X_train)\n",
    "X_test_scaled = ss.transform(X_test)\n",
    "\n",
    "X_train = pd.DataFrame(X_train_scaled, columns=ss.get_feature_names_out(), index=X_train.index)\n",
    "X_test = pd.DataFrame(X_test_scaled, columns=ss.get_feature_names_out(), index=X_test.index)"
   ]
  },
  {
   "cell_type": "code",
   "execution_count": null,
   "metadata": {
    "colab": {
     "base_uri": "https://localhost:8080/"
    },
    "id": "ht43_uUPTv_y",
    "outputId": "915510a1-f985-4e3b-e841-9751e173ff05"
   },
   "outputs": [
    {
     "name": "stdout",
     "output_type": "stream",
     "text": [
      "RMSE_train: 5.7606950482211055\n",
      "R2_train: 0.23922207578046617\n",
      "MAE_train: 3.9356664206632668\n",
      "MAPE_train: 1535909728254.406\n",
      "RMSE_test: 27.689469342608337\n",
      "R2_test: -9.03751503362758\n",
      "MAE_test: 11.277448408749986\n",
      "MAPE_test: 16853215969786.615\n"
     ]
    }
   ],
   "source": [
    "lr = LinearRegression()\n",
    "lr.fit(X_train, y_train)\n",
    "\n",
    "pred_train = lr.predict(X_train)\n",
    "pred_test = lr.predict(X_test)\n",
    "\n",
    "RMSE_train = root_mean_squared_error(y_train, pred_train)\n",
    "R2_train = r2_score(y_train, pred_train)\n",
    "MAE_train = mean_absolute_error(y_train, pred_train)\n",
    "MAPE_train = mean_absolute_percentage_error(y_train, pred_train)\n",
    "\n",
    "RMSE_test = root_mean_squared_error(y_test, pred_test)\n",
    "R2_test = r2_score(y_test, pred_test)\n",
    "MAE_test = mean_absolute_error(y_test, pred_test)\n",
    "MAPE_test = mean_absolute_percentage_error(y_test, pred_test)\n",
    "\n",
    "print(f\"RMSE_train: {RMSE_train}\")\n",
    "print(f\"R2_train: {R2_train}\")\n",
    "print(f\"MAE_train: {MAE_train}\")\n",
    "print(f\"MAPE_train: {MAPE_train}\")\n",
    "\n",
    "print(f\"RMSE_test: {RMSE_test}\")\n",
    "print(f\"R2_test: {R2_test}\")\n",
    "print(f\"MAE_test: {MAE_test}\")\n",
    "print(f\"MAPE_test: {MAPE_test}\")"
   ]
  },
  {
   "cell_type": "markdown",
   "metadata": {
    "id": "1dPt25NEIBYp"
   },
   "source": [
    "# Classification"
   ]
  },
  {
   "cell_type": "markdown",
   "metadata": {
    "id": "xUpDDguHD7Tw"
   },
   "source": [
    "### Calculate classification target"
   ]
  },
  {
   "cell_type": "code",
   "execution_count": 35,
   "metadata": {
    "id": "SudzZ4y4D6kc"
   },
   "outputs": [],
   "source": [
    "df['target'] = np.where(df['price_1d'] > df['created_price'], 1, 0)"
   ]
  },
  {
   "cell_type": "code",
   "execution_count": 36,
   "metadata": {
    "colab": {
     "base_uri": "https://localhost:8080/",
     "height": 206
    },
    "id": "JW2lNpinEnhX",
    "outputId": "332214aa-8330-401e-b108-db3cf49246e8"
   },
   "outputs": [
    {
     "data": {
      "text/html": [
       "<div>\n",
       "<style scoped>\n",
       "    .dataframe tbody tr th:only-of-type {\n",
       "        vertical-align: middle;\n",
       "    }\n",
       "\n",
       "    .dataframe tbody tr th {\n",
       "        vertical-align: top;\n",
       "    }\n",
       "\n",
       "    .dataframe thead th {\n",
       "        text-align: right;\n",
       "    }\n",
       "</style>\n",
       "<table border=\"1\" class=\"dataframe\">\n",
       "  <thead>\n",
       "    <tr style=\"text-align: right;\">\n",
       "      <th></th>\n",
       "      <th>subreddit</th>\n",
       "      <th>score</th>\n",
       "      <th>num_comments</th>\n",
       "      <th>type</th>\n",
       "      <th>processed_text_length</th>\n",
       "      <th>sentiment_scores</th>\n",
       "      <th>doc_embedding</th>\n",
       "      <th>ticker</th>\n",
       "      <th>created_price</th>\n",
       "      <th>price_1d</th>\n",
       "      <th>target</th>\n",
       "      <th>rel_price_change</th>\n",
       "    </tr>\n",
       "  </thead>\n",
       "  <tbody>\n",
       "    <tr>\n",
       "      <th>0</th>\n",
       "      <td>investing</td>\n",
       "      <td>3</td>\n",
       "      <td>0.0</td>\n",
       "      <td>comment</td>\n",
       "      <td>594</td>\n",
       "      <td>-0.0772</td>\n",
       "      <td>[1.0175916, -0.26974982, -0.18348941, -0.53738...</td>\n",
       "      <td>PATH</td>\n",
       "      <td>14.940000</td>\n",
       "      <td>14.820000</td>\n",
       "      <td>0</td>\n",
       "      <td>-0.803212</td>\n",
       "    </tr>\n",
       "    <tr>\n",
       "      <th>1</th>\n",
       "      <td>investing</td>\n",
       "      <td>1</td>\n",
       "      <td>0.0</td>\n",
       "      <td>comment</td>\n",
       "      <td>12</td>\n",
       "      <td>0.0000</td>\n",
       "      <td>[0.0036067592, -0.009290272, -0.0037351453, -0...</td>\n",
       "      <td>KAR</td>\n",
       "      <td>20.250000</td>\n",
       "      <td>20.190001</td>\n",
       "      <td>0</td>\n",
       "      <td>-0.296294</td>\n",
       "    </tr>\n",
       "    <tr>\n",
       "      <th>2</th>\n",
       "      <td>investing</td>\n",
       "      <td>4</td>\n",
       "      <td>0.0</td>\n",
       "      <td>comment</td>\n",
       "      <td>433</td>\n",
       "      <td>-0.6652</td>\n",
       "      <td>[0.24014705, -0.79617554, -0.21952175, 0.06111...</td>\n",
       "      <td>QQQ</td>\n",
       "      <td>521.799988</td>\n",
       "      <td>526.510010</td>\n",
       "      <td>1</td>\n",
       "      <td>0.902649</td>\n",
       "    </tr>\n",
       "    <tr>\n",
       "      <th>3</th>\n",
       "      <td>investing</td>\n",
       "      <td>102</td>\n",
       "      <td>92.0</td>\n",
       "      <td>submission</td>\n",
       "      <td>1362</td>\n",
       "      <td>-0.9131</td>\n",
       "      <td>[0.36487904, -0.9539981, -0.13656119, -1.58051...</td>\n",
       "      <td>AI</td>\n",
       "      <td>37.490002</td>\n",
       "      <td>40.520000</td>\n",
       "      <td>1</td>\n",
       "      <td>8.082152</td>\n",
       "    </tr>\n",
       "    <tr>\n",
       "      <th>4</th>\n",
       "      <td>investing</td>\n",
       "      <td>1</td>\n",
       "      <td>0.0</td>\n",
       "      <td>comment</td>\n",
       "      <td>332</td>\n",
       "      <td>-0.1280</td>\n",
       "      <td>[0.4363078, -0.67959464, 0.8144916, 0.16138163...</td>\n",
       "      <td>AI</td>\n",
       "      <td>37.490002</td>\n",
       "      <td>40.520000</td>\n",
       "      <td>1</td>\n",
       "      <td>8.082152</td>\n",
       "    </tr>\n",
       "  </tbody>\n",
       "</table>\n",
       "</div>"
      ],
      "text/plain": [
       "   subreddit  score  num_comments        type  processed_text_length  \\\n",
       "0  investing      3           0.0     comment                    594   \n",
       "1  investing      1           0.0     comment                     12   \n",
       "2  investing      4           0.0     comment                    433   \n",
       "3  investing    102          92.0  submission                   1362   \n",
       "4  investing      1           0.0     comment                    332   \n",
       "\n",
       "   sentiment_scores                                      doc_embedding ticker  \\\n",
       "0           -0.0772  [1.0175916, -0.26974982, -0.18348941, -0.53738...   PATH   \n",
       "1            0.0000  [0.0036067592, -0.009290272, -0.0037351453, -0...    KAR   \n",
       "2           -0.6652  [0.24014705, -0.79617554, -0.21952175, 0.06111...    QQQ   \n",
       "3           -0.9131  [0.36487904, -0.9539981, -0.13656119, -1.58051...     AI   \n",
       "4           -0.1280  [0.4363078, -0.67959464, 0.8144916, 0.16138163...     AI   \n",
       "\n",
       "   created_price    price_1d  target  rel_price_change  \n",
       "0      14.940000   14.820000       0         -0.803212  \n",
       "1      20.250000   20.190001       0         -0.296294  \n",
       "2     521.799988  526.510010       1          0.902649  \n",
       "3      37.490002   40.520000       1          8.082152  \n",
       "4      37.490002   40.520000       1          8.082152  "
      ]
     },
     "execution_count": 36,
     "metadata": {},
     "output_type": "execute_result"
    }
   ],
   "source": [
    "df.head()"
   ]
  },
  {
   "cell_type": "code",
   "execution_count": 42,
   "metadata": {},
   "outputs": [
    {
     "data": {
      "text/plain": [
       "np.float64(0.5043963878326996)"
      ]
     },
     "execution_count": 42,
     "metadata": {},
     "output_type": "execute_result"
    }
   ],
   "source": [
    "df['target'].value_counts()[0]/df.shape[0]"
   ]
  },
  {
   "cell_type": "code",
   "execution_count": 64,
   "metadata": {},
   "outputs": [
    {
     "data": {
      "text/plain": [
       "target\n",
       "0    4245\n",
       "1    4171\n",
       "Name: count, dtype: int64"
      ]
     },
     "execution_count": 64,
     "metadata": {},
     "output_type": "execute_result"
    }
   ],
   "source": [
    "df['target'].value_counts()"
   ]
  },
  {
   "cell_type": "markdown",
   "metadata": {
    "id": "J98u_IxCLChR"
   },
   "source": [
    "## Classification baseline"
   ]
  },
  {
   "cell_type": "code",
   "execution_count": 12,
   "metadata": {
    "id": "c_E5GYF1LChS"
   },
   "outputs": [],
   "source": [
    "X_train, X_test, y_train, y_test = train_test_split(df.drop(columns=['target', 'price_1d']), df['target'], test_size=0.2, random_state=69)\n",
    "X_train['baseline'] = np.ones(len(X_train))\n",
    "X_test['baseline'] = np.ones(len(X_test))"
   ]
  },
  {
   "cell_type": "code",
   "execution_count": 13,
   "metadata": {
    "colab": {
     "base_uri": "https://localhost:8080/"
    },
    "id": "mdr5HXeELChS",
    "outputId": "1e6a3c5c-fb30-4a37-9888-908af1dcee7e"
   },
   "outputs": [
    {
     "name": "stdout",
     "output_type": "stream",
     "text": [
      "Accuracy baseline: 0.5083135391923991\n",
      "Precision baseline: 0.5083135391923991\n",
      "Recall baseline: 1.0\n",
      "F1 baseline: 0.6740157480314961\n"
     ]
    }
   ],
   "source": [
    "accuracy = accuracy_score(y_test, X_test['baseline'])\n",
    "precision = precision_score(y_test, X_test['baseline'])\n",
    "recall = recall_score(y_test, X_test['baseline'])\n",
    "f1 = f1_score(y_test, X_test['baseline'])\n",
    "\n",
    "print(f\"Accuracy baseline: {accuracy}\")\n",
    "print(f\"Precision baseline: {precision}\")\n",
    "print(f\"Recall baseline: {recall}\")\n",
    "print(f\"F1 baseline: {f1}\")"
   ]
  },
  {
   "cell_type": "markdown",
   "metadata": {
    "id": "opozcZ9WPusw"
   },
   "source": [
    "## Classification metrics"
   ]
  },
  {
   "cell_type": "code",
   "execution_count": 14,
   "metadata": {
    "id": "y0GX0WQ5Qgox"
   },
   "outputs": [],
   "source": [
    "def classification_metrics(y_train, pred_train, y_test, pred_test):\n",
    "  print(f\"Accuracy_train: {accuracy_score(y_train, pred_train)}\")\n",
    "  print(f\"Precision_train: {precision_score(y_train, pred_train)}\")\n",
    "  print(f\"Recall_train: {recall_score(y_train, pred_train)}\")\n",
    "  print(f\"F1_train: {f1_score(y_train, pred_train)}\")\n",
    "  print(\"----------------------\")\n",
    "  print(f\"Accuracy_test: {accuracy_score(y_test, pred_test)}\")\n",
    "  print(f\"Precision_test: {precision_score(y_test, pred_test)}\")\n",
    "  print(f\"Recall_test: {recall_score(y_test, pred_test)}\")\n",
    "  print(f\"F1_test: {f1_score(y_test, pred_test)}\")"
   ]
  },
  {
   "cell_type": "markdown",
   "metadata": {
    "id": "x8lFkjlmNty5"
   },
   "source": [
    "## Experiment 1: LogReg, OHE tickers, drop embeddings"
   ]
  },
  {
   "cell_type": "code",
   "execution_count": 15,
   "metadata": {
    "id": "yOSOtIf2OBVT"
   },
   "outputs": [],
   "source": [
    "X_train, X_test, y_train, y_test = train_test_split(df.drop(columns=['target', 'price_1d', 'doc_embedding']), df['target'], test_size=0.2, random_state=69)"
   ]
  },
  {
   "cell_type": "code",
   "execution_count": 16,
   "metadata": {
    "id": "V9aGXjOIOBVT"
   },
   "outputs": [],
   "source": [
    "ohe = OneHotEncoder(drop='first', handle_unknown='ignore', sparse_output=False)\n",
    "\n",
    "X_train_encoded = ohe.fit_transform(X_train[['subreddit', 'type', 'ticker']])\n",
    "\n",
    "X_train_encoded = pd.DataFrame(X_train_encoded, columns=ohe.get_feature_names_out(), index=X_train.index)"
   ]
  },
  {
   "cell_type": "code",
   "execution_count": 17,
   "metadata": {
    "colab": {
     "base_uri": "https://localhost:8080/"
    },
    "id": "SJoGpKO_OBVT",
    "outputId": "08dde5c5-d90c-4f81-dfcb-6e7a6b9fb134"
   },
   "outputs": [
    {
     "data": {
      "text/plain": [
       "(6732, 722)"
      ]
     },
     "execution_count": 17,
     "metadata": {},
     "output_type": "execute_result"
    }
   ],
   "source": [
    "X_train = pd.concat([X_train, X_train_encoded], axis=1)\n",
    "X_train.drop(columns=['subreddit', 'type', 'ticker'], inplace=True)\n",
    "X_train.shape"
   ]
  },
  {
   "cell_type": "code",
   "execution_count": 18,
   "metadata": {
    "colab": {
     "base_uri": "https://localhost:8080/"
    },
    "id": "IIvrp2SKOBVT",
    "outputId": "53bdbf71-ed6e-42f9-819e-a88fbda92049"
   },
   "outputs": [
    {
     "name": "stderr",
     "output_type": "stream",
     "text": [
      "/usr/local/lib/python3.10/dist-packages/sklearn/preprocessing/_encoders.py:246: UserWarning: Found unknown categories in columns [2] during transform. These unknown categories will be encoded as all zeros\n",
      "  warnings.warn(\n"
     ]
    },
    {
     "data": {
      "text/plain": [
       "(1684, 722)"
      ]
     },
     "execution_count": 18,
     "metadata": {},
     "output_type": "execute_result"
    }
   ],
   "source": [
    "X_test_encoded = ohe.transform(X_test[['subreddit', 'type', 'ticker']])\n",
    "\n",
    "X_test_encoded = pd.DataFrame(X_test_encoded, columns=ohe.get_feature_names_out(), index=X_test.index)\n",
    "\n",
    "X_test = pd.concat([X_test, X_test_encoded], axis=1)\n",
    "X_test.drop(columns=['subreddit', 'type', 'ticker'], inplace=True)\n",
    "\n",
    "X_test.shape"
   ]
  },
  {
   "cell_type": "code",
   "execution_count": 19,
   "metadata": {
    "id": "6cNcQbzzSFwF"
   },
   "outputs": [],
   "source": [
    "ss = StandardScaler()\n",
    "X_train_scaled = ss.fit_transform(X_train)\n",
    "X_test_scaled = ss.transform(X_test)\n",
    "\n",
    "X_train = pd.DataFrame(X_train_scaled, columns=ss.get_feature_names_out(), index=X_train.index)\n",
    "X_test = pd.DataFrame(X_test_scaled, columns=ss.get_feature_names_out(), index=X_test.index)"
   ]
  },
  {
   "cell_type": "code",
   "execution_count": 20,
   "metadata": {
    "colab": {
     "base_uri": "https://localhost:8080/"
    },
    "id": "BUvtZzamOVkl",
    "outputId": "5fade3af-bab2-4e07-dc99-99a2366e48b0"
   },
   "outputs": [
    {
     "name": "stdout",
     "output_type": "stream",
     "text": [
      "Accuracy_train: 0.6772133095662507\n",
      "Precision_train: 0.687828947368421\n",
      "Recall_train: 0.6307692307692307\n",
      "F1_train: 0.6580645161290323\n",
      "----------------------\n",
      "Accuracy_test: 0.586104513064133\n",
      "Precision_test: 0.5940828402366863\n",
      "Recall_test: 0.5864485981308412\n",
      "F1_test: 0.5902410346854792\n"
     ]
    }
   ],
   "source": [
    "lg = LogisticRegression()\n",
    "\n",
    "lg.fit(X_train, y_train)\n",
    "\n",
    "pred_train = lg.predict(X_train)\n",
    "pred_test = lg.predict(X_test)\n",
    "\n",
    "classification_metrics(y_train, pred_train, y_test, pred_test)"
   ]
  },
  {
   "cell_type": "markdown",
   "metadata": {
    "id": "75Tsrva9tdmM"
   },
   "source": [
    "### Grid search"
   ]
  },
  {
   "cell_type": "code",
   "execution_count": 21,
   "metadata": {
    "colab": {
     "base_uri": "https://localhost:8080/"
    },
    "id": "sp7144c8tf8E",
    "outputId": "ec4f0af4-974d-4c0f-8242-9ba745824a5f"
   },
   "outputs": [
    {
     "name": "stdout",
     "output_type": "stream",
     "text": [
      "Fitting 5 folds for each of 120 candidates, totalling 600 fits\n"
     ]
    },
    {
     "name": "stderr",
     "output_type": "stream",
     "text": [
      "/usr/local/lib/python3.10/dist-packages/sklearn/linear_model/_logistic.py:1207: UserWarning: Setting penalty=None will ignore the C and l1_ratio parameters\n",
      "  warnings.warn(\n"
     ]
    },
    {
     "name": "stdout",
     "output_type": "stream",
     "text": [
      "Best Score: 0.612571094507705\n",
      "Best Params: {'C': 0.0001, 'class_weight': 'balanced', 'penalty': None, 'solver': 'newton-cg'}\n"
     ]
    }
   ],
   "source": [
    "lr = LogisticRegression()\n",
    "\n",
    "param_grid = [\n",
    "    {\n",
    "        'solver': ['liblinear', 'saga'],\n",
    "        'penalty': ['l1', 'l2'],\n",
    "        'C': [0.0001, 0.001, 0.01, 0.1, 1, 10],\n",
    "        'class_weight': [None, 'balanced']\n",
    "    },\n",
    "    {\n",
    "        'solver': ['lbfgs', 'newton-cg', 'newton-cholesky'],\n",
    "        'penalty': [None, 'l2'],\n",
    "        'C': [0.0001, 0.001, 0.01, 0.1, 1, 10],\n",
    "        'class_weight': [None, 'balanced']\n",
    "    }\n",
    "]\n",
    "\n",
    "gs = GridSearchCV(lr, param_grid, n_jobs=-1, cv=5, scoring='f1', verbose=10)\n",
    "\n",
    "gs.fit(X_train, y_train)\n",
    "\n",
    "print(\"Best Score:\", gs.best_score_)\n",
    "print(\"Best Params:\", gs.best_params_)"
   ]
  },
  {
   "cell_type": "code",
   "execution_count": 22,
   "metadata": {
    "colab": {
     "base_uri": "https://localhost:8080/"
    },
    "id": "mv2ImHcq4aeJ",
    "outputId": "e274fb00-b8d2-4848-e07e-22993c3de337"
   },
   "outputs": [
    {
     "name": "stderr",
     "output_type": "stream",
     "text": [
      "/usr/local/lib/python3.10/dist-packages/sklearn/linear_model/_logistic.py:1207: UserWarning: Setting penalty=None will ignore the C and l1_ratio parameters\n",
      "  warnings.warn(\n"
     ]
    },
    {
     "name": "stdout",
     "output_type": "stream",
     "text": [
      "Accuracy_train: 0.6822638146167558\n",
      "Precision_train: 0.6900452488687783\n",
      "Recall_train: 0.6440422322775264\n",
      "F1_train: 0.6662505851146825\n",
      "----------------------\n",
      "Accuracy_test: 0.5979809976247031\n",
      "Precision_test: 0.6046783625730994\n",
      "Recall_test: 0.6039719626168224\n",
      "F1_test: 0.6043249561659848\n"
     ]
    }
   ],
   "source": [
    "lg = LogisticRegression(C= 0.0001, class_weight='balanced', penalty=None, solver= 'newton-cg')\n",
    "\n",
    "lg.fit(X_train, y_train)\n",
    "\n",
    "pred_train = lg.predict(X_train)\n",
    "pred_test = lg.predict(X_test)\n",
    "\n",
    "classification_metrics(y_train, pred_train, y_test, pred_test)"
   ]
  },
  {
   "cell_type": "markdown",
   "metadata": {
    "id": "pW_dn4KiWI1M"
   },
   "source": [
    "## Experiment 2: SVM, OHE tickers, drop embeddings"
   ]
  },
  {
   "cell_type": "code",
   "execution_count": 15,
   "metadata": {
    "id": "pxgjbZAjWWyl"
   },
   "outputs": [],
   "source": [
    "X_train, X_test, y_train, y_test = train_test_split(df.drop(columns=['target', 'price_1d', 'doc_embedding']), df['target'], test_size=0.2, random_state=69)"
   ]
  },
  {
   "cell_type": "code",
   "execution_count": 16,
   "metadata": {
    "id": "8k1bfh23WWyl"
   },
   "outputs": [],
   "source": [
    "ohe = OneHotEncoder(drop='first', handle_unknown='ignore', sparse_output=False)\n",
    "\n",
    "X_train_encoded = ohe.fit_transform(X_train[['subreddit', 'type', 'ticker']])\n",
    "\n",
    "X_train_encoded = pd.DataFrame(X_train_encoded, columns=ohe.get_feature_names_out(), index=X_train.index)"
   ]
  },
  {
   "cell_type": "code",
   "execution_count": 17,
   "metadata": {
    "colab": {
     "base_uri": "https://localhost:8080/"
    },
    "id": "dDMLRIdEWWyl",
    "outputId": "64973526-3c20-418f-bbfc-157aaa70c165"
   },
   "outputs": [
    {
     "data": {
      "text/plain": [
       "(6732, 722)"
      ]
     },
     "execution_count": 17,
     "metadata": {},
     "output_type": "execute_result"
    }
   ],
   "source": [
    "X_train = pd.concat([X_train, X_train_encoded], axis=1)\n",
    "X_train.drop(columns=['subreddit', 'type', 'ticker'], inplace=True)\n",
    "X_train.shape"
   ]
  },
  {
   "cell_type": "code",
   "execution_count": 18,
   "metadata": {
    "colab": {
     "base_uri": "https://localhost:8080/"
    },
    "id": "9sSc7PKVWWyl",
    "outputId": "601abe6f-29d1-40e4-dfe7-6fef5edf1b65"
   },
   "outputs": [
    {
     "name": "stderr",
     "output_type": "stream",
     "text": [
      "/Users/grylkov/git/hse/ml_homework3/venv/lib/python3.12/site-packages/sklearn/preprocessing/_encoders.py:246: UserWarning: Found unknown categories in columns [2] during transform. These unknown categories will be encoded as all zeros\n",
      "  warnings.warn(\n"
     ]
    },
    {
     "data": {
      "text/plain": [
       "(1684, 722)"
      ]
     },
     "execution_count": 18,
     "metadata": {},
     "output_type": "execute_result"
    }
   ],
   "source": [
    "X_test_encoded = ohe.transform(X_test[['subreddit', 'type', 'ticker']])\n",
    "\n",
    "X_test_encoded = pd.DataFrame(X_test_encoded, columns=ohe.get_feature_names_out(), index=X_test.index)\n",
    "\n",
    "X_test = pd.concat([X_test, X_test_encoded], axis=1)\n",
    "X_test.drop(columns=['subreddit', 'type', 'ticker'], inplace=True)\n",
    "\n",
    "X_test.shape"
   ]
  },
  {
   "cell_type": "code",
   "execution_count": 19,
   "metadata": {
    "id": "GpfMrI7MWWyl"
   },
   "outputs": [],
   "source": [
    "ss = StandardScaler()\n",
    "X_train_scaled = ss.fit_transform(X_train)\n",
    "X_test_scaled = ss.transform(X_test)\n",
    "\n",
    "X_train = pd.DataFrame(X_train_scaled, columns=ss.get_feature_names_out(), index=X_train.index)\n",
    "X_test = pd.DataFrame(X_test_scaled, columns=ss.get_feature_names_out(), index=X_test.index)"
   ]
  },
  {
   "cell_type": "code",
   "execution_count": 20,
   "metadata": {
    "colab": {
     "base_uri": "https://localhost:8080/"
    },
    "id": "1cI5w302WZIJ",
    "outputId": "745c1a8d-a604-4872-f94b-c2d77c1a3b7f"
   },
   "outputs": [
    {
     "name": "stdout",
     "output_type": "stream",
     "text": [
      "Accuracy_train: 0.6789958407605466\n",
      "Precision_train: 0.6906807666886979\n",
      "Recall_train: 0.6304675716440422\n",
      "F1_train: 0.6592020186090523\n",
      "----------------------\n",
      "Accuracy_test: 0.5938242280285035\n",
      "Precision_test: 0.6026252983293556\n",
      "Recall_test: 0.5899532710280374\n",
      "F1_test: 0.5962219598583235\n"
     ]
    }
   ],
   "source": [
    "svm = LinearSVC()\n",
    "\n",
    "svm.fit(X_train, y_train)\n",
    "\n",
    "pred_train = svm.predict(X_train)\n",
    "pred_test = svm.predict(X_test)\n",
    "\n",
    "classification_metrics(y_train, pred_train, y_test, pred_test)"
   ]
  },
  {
   "cell_type": "markdown",
   "metadata": {
    "id": "N4PAeyo0WuR5"
   },
   "source": [
    "### Grid search"
   ]
  },
  {
   "cell_type": "code",
   "execution_count": null,
   "metadata": {},
   "outputs": [],
   "source": [
    "svc = SVC(probability=True)\n",
    "param_grid = {\n",
    "    'C': [0.001, 0.01, 0.1, 1],\n",
    "    'kernel': ['linear', 'poly', 'rbf', 'sigmoid'],\n",
    "    'class_weight': [None, 'balanced'],\n",
    "    'degree': [2, 3, 5, 10],\n",
    "    'shrinking': [True, False]\n",
    "}\n",
    "\n",
    "gs = GridSearchCV(svc, param_grid, n_jobs=8, cv=5, scoring='f1', verbose=10)\n",
    "\n",
    "gs.fit(X_train, y_train)\n",
    "\n",
    "print(\"Best Score:\", gs.best_score_)\n",
    "print(\"Best Params:\", gs.best_params_)\n",
    "\n",
    "# Best Score: 0.685\n",
    "# Best Params: {'C': 0.001, 'class_weight': 'balanced', 'degree': 5, 'kernel': 'poly', 'shrinking': True}"
   ]
  },
  {
   "cell_type": "code",
   "execution_count": 22,
   "metadata": {},
   "outputs": [
    {
     "name": "stdout",
     "output_type": "stream",
     "text": [
      "Accuracy_train: 0.5412953060011884\n",
      "Precision_train: 0.517781607394642\n",
      "Recall_train: 0.9969834087481146\n",
      "F1_train: 0.68158383171788\n",
      "----------------------\n",
      "Accuracy_test: 0.5195961995249406\n",
      "Precision_test: 0.5145510835913313\n",
      "Recall_test: 0.9707943925233645\n",
      "F1_test: 0.6726021853500607\n"
     ]
    }
   ],
   "source": [
    "# best_svc = gs.best_estimator_\n",
    "\n",
    "best_svc.fit(X_train, y_train)\n",
    "\n",
    "pred_train = best_svc.predict(X_train)\n",
    "pred_test = best_svc.predict(X_test)\n",
    "\n",
    "classification_metrics(y_train, pred_train, y_test, pred_test)"
   ]
  },
  {
   "cell_type": "markdown",
   "metadata": {
    "id": "fEYK723iXMyl"
   },
   "source": [
    "## Additional visualization"
   ]
  },
  {
   "cell_type": "code",
   "execution_count": null,
   "metadata": {
    "colab": {
     "base_uri": "https://localhost:8080/",
     "height": 707
    },
    "id": "8xTDTlCxXOgR",
    "outputId": "638c0f34-1873-424d-c99f-3fd2ea56b0a1"
   },
   "outputs": [
    {
     "data": {
      "application/vnd.google.colaboratory.intrinsic+json": {
       "type": "dataframe",
       "variable_name": "df"
      },
      "text/html": [
       "\n",
       "  <div id=\"df-f1427f31-18ff-4d3e-8201-6d68d16dcb56\" class=\"colab-df-container\">\n",
       "    <div>\n",
       "<style scoped>\n",
       "    .dataframe tbody tr th:only-of-type {\n",
       "        vertical-align: middle;\n",
       "    }\n",
       "\n",
       "    .dataframe tbody tr th {\n",
       "        vertical-align: top;\n",
       "    }\n",
       "\n",
       "    .dataframe thead th {\n",
       "        text-align: right;\n",
       "    }\n",
       "</style>\n",
       "<table border=\"1\" class=\"dataframe\">\n",
       "  <thead>\n",
       "    <tr style=\"text-align: right;\">\n",
       "      <th></th>\n",
       "      <th>id</th>\n",
       "      <th>title</th>\n",
       "      <th>url</th>\n",
       "      <th>subreddit</th>\n",
       "      <th>created_utc</th>\n",
       "      <th>parsed_utc</th>\n",
       "      <th>text</th>\n",
       "      <th>score</th>\n",
       "      <th>num_comments</th>\n",
       "      <th>type</th>\n",
       "      <th>...</th>\n",
       "      <th>clean_text</th>\n",
       "      <th>processed_text</th>\n",
       "      <th>processed_text_length</th>\n",
       "      <th>sentiment_scores</th>\n",
       "      <th>entities</th>\n",
       "      <th>doc_embedding</th>\n",
       "      <th>tickers</th>\n",
       "      <th>ticker</th>\n",
       "      <th>created_price</th>\n",
       "      <th>price_1d</th>\n",
       "    </tr>\n",
       "  </thead>\n",
       "  <tbody>\n",
       "    <tr>\n",
       "      <th>0</th>\n",
       "      <td>m0miqte</td>\n",
       "      <td>None</td>\n",
       "      <td>None</td>\n",
       "      <td>investing</td>\n",
       "      <td>2024-12-05 23:58:30</td>\n",
       "      <td>2024-12-06 17:55:40</td>\n",
       "      <td>Depends on what type of debt. For example if i...</td>\n",
       "      <td>3</td>\n",
       "      <td>NaN</td>\n",
       "      <td>comment</td>\n",
       "      <td>...</td>\n",
       "      <td>depends type debt. for example it’s debt mortg...</td>\n",
       "      <td>depend type debt for exampl it debt mortgag at...</td>\n",
       "      <td>594</td>\n",
       "      <td>-0.0772</td>\n",
       "      <td>[PATH, FDIS, RPA, BTI, AMEX, Robotic Process A...</td>\n",
       "      <td>[1.0175916, -0.26974982, -0.18348941, -0.53738...</td>\n",
       "      <td>[PATH, BTI]</td>\n",
       "      <td>PATH</td>\n",
       "      <td>14.940000</td>\n",
       "      <td>14.820000</td>\n",
       "    </tr>\n",
       "    <tr>\n",
       "      <th>1</th>\n",
       "      <td>m0lmgzo</td>\n",
       "      <td>None</td>\n",
       "      <td>None</td>\n",
       "      <td>investing</td>\n",
       "      <td>2024-12-05 21:00:41</td>\n",
       "      <td>2024-12-06 17:55:40</td>\n",
       "      <td>KAR and PRAA</td>\n",
       "      <td>1</td>\n",
       "      <td>NaN</td>\n",
       "      <td>comment</td>\n",
       "      <td>...</td>\n",
       "      <td>kar praa</td>\n",
       "      <td>kar praa</td>\n",
       "      <td>12</td>\n",
       "      <td>0.0000</td>\n",
       "      <td>[KAR]</td>\n",
       "      <td>[0.0036067592, -0.009290272, -0.0037351453, -0...</td>\n",
       "      <td>[KAR]</td>\n",
       "      <td>KAR</td>\n",
       "      <td>20.250000</td>\n",
       "      <td>20.190001</td>\n",
       "    </tr>\n",
       "    <tr>\n",
       "      <th>2</th>\n",
       "      <td>m0lvb3h</td>\n",
       "      <td>None</td>\n",
       "      <td>None</td>\n",
       "      <td>investing</td>\n",
       "      <td>2024-12-05 21:46:35</td>\n",
       "      <td>2024-12-06 17:55:41</td>\n",
       "      <td>36 years old, married but no kids yet. Have 90...</td>\n",
       "      <td>4</td>\n",
       "      <td>NaN</td>\n",
       "      <td>comment</td>\n",
       "      <td>...</td>\n",
       "      <td>36 years old, married kids yet. have 90% equit...</td>\n",
       "      <td>year old marri kid yet have equiti short term ...</td>\n",
       "      <td>433</td>\n",
       "      <td>-0.6652</td>\n",
       "      <td>[ETH, VGT, QQQ, VOO]</td>\n",
       "      <td>[0.24014705, -0.79617554, -0.21952175, 0.06111...</td>\n",
       "      <td>[ETH, QQQ]</td>\n",
       "      <td>QQQ</td>\n",
       "      <td>521.799988</td>\n",
       "      <td>526.510010</td>\n",
       "    </tr>\n",
       "    <tr>\n",
       "      <th>3</th>\n",
       "      <td>1h7i31g</td>\n",
       "      <td>My biggest fear for 2025 is declines becoming ...</td>\n",
       "      <td>https://www.reddit.com/r/investing/comments/1h...</td>\n",
       "      <td>investing</td>\n",
       "      <td>2024-12-05 19:53:10</td>\n",
       "      <td>2024-12-06 17:55:42</td>\n",
       "      <td>When has this not been a risk, it's why the ec...</td>\n",
       "      <td>102</td>\n",
       "      <td>92.0</td>\n",
       "      <td>submission</td>\n",
       "      <td>...</td>\n",
       "      <td>when risk, economy acts ratchet, going slow fa...</td>\n",
       "      <td>when risk economi act ratchet go slow fast but...</td>\n",
       "      <td>1362</td>\n",
       "      <td>-0.9131</td>\n",
       "      <td>[Economics, fed, AI]</td>\n",
       "      <td>[0.36487904, -0.9539981, -0.13656119, -1.58051...</td>\n",
       "      <td>[AI]</td>\n",
       "      <td>AI</td>\n",
       "      <td>37.490002</td>\n",
       "      <td>40.520000</td>\n",
       "    </tr>\n",
       "    <tr>\n",
       "      <th>4</th>\n",
       "      <td>m0m473e</td>\n",
       "      <td>None</td>\n",
       "      <td>None</td>\n",
       "      <td>investing</td>\n",
       "      <td>2024-12-05 22:33:54</td>\n",
       "      <td>2024-12-06 17:55:42</td>\n",
       "      <td>I'm waiting for Tesla to pop. From there I spe...</td>\n",
       "      <td>1</td>\n",
       "      <td>NaN</td>\n",
       "      <td>comment</td>\n",
       "      <td>...</td>\n",
       "      <td>i'm waiting tesla pop. from i speculate automa...</td>\n",
       "      <td>i wait tesla pop from i specul automak tech bu...</td>\n",
       "      <td>332</td>\n",
       "      <td>-0.1280</td>\n",
       "      <td>[Tesla, AI]</td>\n",
       "      <td>[0.4363078, -0.67959464, 0.8144916, 0.16138163...</td>\n",
       "      <td>[AI]</td>\n",
       "      <td>AI</td>\n",
       "      <td>37.490002</td>\n",
       "      <td>40.520000</td>\n",
       "    </tr>\n",
       "  </tbody>\n",
       "</table>\n",
       "<p>5 rows × 21 columns</p>\n",
       "</div>\n",
       "    <div class=\"colab-df-buttons\">\n",
       "\n",
       "  <div class=\"colab-df-container\">\n",
       "    <button class=\"colab-df-convert\" onclick=\"convertToInteractive('df-f1427f31-18ff-4d3e-8201-6d68d16dcb56')\"\n",
       "            title=\"Convert this dataframe to an interactive table.\"\n",
       "            style=\"display:none;\">\n",
       "\n",
       "  <svg xmlns=\"http://www.w3.org/2000/svg\" height=\"24px\" viewBox=\"0 -960 960 960\">\n",
       "    <path d=\"M120-120v-720h720v720H120Zm60-500h600v-160H180v160Zm220 220h160v-160H400v160Zm0 220h160v-160H400v160ZM180-400h160v-160H180v160Zm440 0h160v-160H620v160ZM180-180h160v-160H180v160Zm440 0h160v-160H620v160Z\"/>\n",
       "  </svg>\n",
       "    </button>\n",
       "\n",
       "  <style>\n",
       "    .colab-df-container {\n",
       "      display:flex;\n",
       "      gap: 12px;\n",
       "    }\n",
       "\n",
       "    .colab-df-convert {\n",
       "      background-color: #E8F0FE;\n",
       "      border: none;\n",
       "      border-radius: 50%;\n",
       "      cursor: pointer;\n",
       "      display: none;\n",
       "      fill: #1967D2;\n",
       "      height: 32px;\n",
       "      padding: 0 0 0 0;\n",
       "      width: 32px;\n",
       "    }\n",
       "\n",
       "    .colab-df-convert:hover {\n",
       "      background-color: #E2EBFA;\n",
       "      box-shadow: 0px 1px 2px rgba(60, 64, 67, 0.3), 0px 1px 3px 1px rgba(60, 64, 67, 0.15);\n",
       "      fill: #174EA6;\n",
       "    }\n",
       "\n",
       "    .colab-df-buttons div {\n",
       "      margin-bottom: 4px;\n",
       "    }\n",
       "\n",
       "    [theme=dark] .colab-df-convert {\n",
       "      background-color: #3B4455;\n",
       "      fill: #D2E3FC;\n",
       "    }\n",
       "\n",
       "    [theme=dark] .colab-df-convert:hover {\n",
       "      background-color: #434B5C;\n",
       "      box-shadow: 0px 1px 3px 1px rgba(0, 0, 0, 0.15);\n",
       "      filter: drop-shadow(0px 1px 2px rgba(0, 0, 0, 0.3));\n",
       "      fill: #FFFFFF;\n",
       "    }\n",
       "  </style>\n",
       "\n",
       "    <script>\n",
       "      const buttonEl =\n",
       "        document.querySelector('#df-f1427f31-18ff-4d3e-8201-6d68d16dcb56 button.colab-df-convert');\n",
       "      buttonEl.style.display =\n",
       "        google.colab.kernel.accessAllowed ? 'block' : 'none';\n",
       "\n",
       "      async function convertToInteractive(key) {\n",
       "        const element = document.querySelector('#df-f1427f31-18ff-4d3e-8201-6d68d16dcb56');\n",
       "        const dataTable =\n",
       "          await google.colab.kernel.invokeFunction('convertToInteractive',\n",
       "                                                    [key], {});\n",
       "        if (!dataTable) return;\n",
       "\n",
       "        const docLinkHtml = 'Like what you see? Visit the ' +\n",
       "          '<a target=\"_blank\" href=https://colab.research.google.com/notebooks/data_table.ipynb>data table notebook</a>'\n",
       "          + ' to learn more about interactive tables.';\n",
       "        element.innerHTML = '';\n",
       "        dataTable['output_type'] = 'display_data';\n",
       "        await google.colab.output.renderOutput(dataTable, element);\n",
       "        const docLink = document.createElement('div');\n",
       "        docLink.innerHTML = docLinkHtml;\n",
       "        element.appendChild(docLink);\n",
       "      }\n",
       "    </script>\n",
       "  </div>\n",
       "\n",
       "\n",
       "<div id=\"df-fdab469e-7d3e-4cdf-b439-6095158e22bd\">\n",
       "  <button class=\"colab-df-quickchart\" onclick=\"quickchart('df-fdab469e-7d3e-4cdf-b439-6095158e22bd')\"\n",
       "            title=\"Suggest charts\"\n",
       "            style=\"display:none;\">\n",
       "\n",
       "<svg xmlns=\"http://www.w3.org/2000/svg\" height=\"24px\"viewBox=\"0 0 24 24\"\n",
       "     width=\"24px\">\n",
       "    <g>\n",
       "        <path d=\"M19 3H5c-1.1 0-2 .9-2 2v14c0 1.1.9 2 2 2h14c1.1 0 2-.9 2-2V5c0-1.1-.9-2-2-2zM9 17H7v-7h2v7zm4 0h-2V7h2v10zm4 0h-2v-4h2v4z\"/>\n",
       "    </g>\n",
       "</svg>\n",
       "  </button>\n",
       "\n",
       "<style>\n",
       "  .colab-df-quickchart {\n",
       "      --bg-color: #E8F0FE;\n",
       "      --fill-color: #1967D2;\n",
       "      --hover-bg-color: #E2EBFA;\n",
       "      --hover-fill-color: #174EA6;\n",
       "      --disabled-fill-color: #AAA;\n",
       "      --disabled-bg-color: #DDD;\n",
       "  }\n",
       "\n",
       "  [theme=dark] .colab-df-quickchart {\n",
       "      --bg-color: #3B4455;\n",
       "      --fill-color: #D2E3FC;\n",
       "      --hover-bg-color: #434B5C;\n",
       "      --hover-fill-color: #FFFFFF;\n",
       "      --disabled-bg-color: #3B4455;\n",
       "      --disabled-fill-color: #666;\n",
       "  }\n",
       "\n",
       "  .colab-df-quickchart {\n",
       "    background-color: var(--bg-color);\n",
       "    border: none;\n",
       "    border-radius: 50%;\n",
       "    cursor: pointer;\n",
       "    display: none;\n",
       "    fill: var(--fill-color);\n",
       "    height: 32px;\n",
       "    padding: 0;\n",
       "    width: 32px;\n",
       "  }\n",
       "\n",
       "  .colab-df-quickchart:hover {\n",
       "    background-color: var(--hover-bg-color);\n",
       "    box-shadow: 0 1px 2px rgba(60, 64, 67, 0.3), 0 1px 3px 1px rgba(60, 64, 67, 0.15);\n",
       "    fill: var(--button-hover-fill-color);\n",
       "  }\n",
       "\n",
       "  .colab-df-quickchart-complete:disabled,\n",
       "  .colab-df-quickchart-complete:disabled:hover {\n",
       "    background-color: var(--disabled-bg-color);\n",
       "    fill: var(--disabled-fill-color);\n",
       "    box-shadow: none;\n",
       "  }\n",
       "\n",
       "  .colab-df-spinner {\n",
       "    border: 2px solid var(--fill-color);\n",
       "    border-color: transparent;\n",
       "    border-bottom-color: var(--fill-color);\n",
       "    animation:\n",
       "      spin 1s steps(1) infinite;\n",
       "  }\n",
       "\n",
       "  @keyframes spin {\n",
       "    0% {\n",
       "      border-color: transparent;\n",
       "      border-bottom-color: var(--fill-color);\n",
       "      border-left-color: var(--fill-color);\n",
       "    }\n",
       "    20% {\n",
       "      border-color: transparent;\n",
       "      border-left-color: var(--fill-color);\n",
       "      border-top-color: var(--fill-color);\n",
       "    }\n",
       "    30% {\n",
       "      border-color: transparent;\n",
       "      border-left-color: var(--fill-color);\n",
       "      border-top-color: var(--fill-color);\n",
       "      border-right-color: var(--fill-color);\n",
       "    }\n",
       "    40% {\n",
       "      border-color: transparent;\n",
       "      border-right-color: var(--fill-color);\n",
       "      border-top-color: var(--fill-color);\n",
       "    }\n",
       "    60% {\n",
       "      border-color: transparent;\n",
       "      border-right-color: var(--fill-color);\n",
       "    }\n",
       "    80% {\n",
       "      border-color: transparent;\n",
       "      border-right-color: var(--fill-color);\n",
       "      border-bottom-color: var(--fill-color);\n",
       "    }\n",
       "    90% {\n",
       "      border-color: transparent;\n",
       "      border-bottom-color: var(--fill-color);\n",
       "    }\n",
       "  }\n",
       "</style>\n",
       "\n",
       "  <script>\n",
       "    async function quickchart(key) {\n",
       "      const quickchartButtonEl =\n",
       "        document.querySelector('#' + key + ' button');\n",
       "      quickchartButtonEl.disabled = true;  // To prevent multiple clicks.\n",
       "      quickchartButtonEl.classList.add('colab-df-spinner');\n",
       "      try {\n",
       "        const charts = await google.colab.kernel.invokeFunction(\n",
       "            'suggestCharts', [key], {});\n",
       "      } catch (error) {\n",
       "        console.error('Error during call to suggestCharts:', error);\n",
       "      }\n",
       "      quickchartButtonEl.classList.remove('colab-df-spinner');\n",
       "      quickchartButtonEl.classList.add('colab-df-quickchart-complete');\n",
       "    }\n",
       "    (() => {\n",
       "      let quickchartButtonEl =\n",
       "        document.querySelector('#df-fdab469e-7d3e-4cdf-b439-6095158e22bd button');\n",
       "      quickchartButtonEl.style.display =\n",
       "        google.colab.kernel.accessAllowed ? 'block' : 'none';\n",
       "    })();\n",
       "  </script>\n",
       "</div>\n",
       "\n",
       "    </div>\n",
       "  </div>\n"
      ],
      "text/plain": [
       "        id                                              title  \\\n",
       "0  m0miqte                                               None   \n",
       "1  m0lmgzo                                               None   \n",
       "2  m0lvb3h                                               None   \n",
       "3  1h7i31g  My biggest fear for 2025 is declines becoming ...   \n",
       "4  m0m473e                                               None   \n",
       "\n",
       "                                                 url  subreddit  \\\n",
       "0                                               None  investing   \n",
       "1                                               None  investing   \n",
       "2                                               None  investing   \n",
       "3  https://www.reddit.com/r/investing/comments/1h...  investing   \n",
       "4                                               None  investing   \n",
       "\n",
       "          created_utc           parsed_utc  \\\n",
       "0 2024-12-05 23:58:30  2024-12-06 17:55:40   \n",
       "1 2024-12-05 21:00:41  2024-12-06 17:55:40   \n",
       "2 2024-12-05 21:46:35  2024-12-06 17:55:41   \n",
       "3 2024-12-05 19:53:10  2024-12-06 17:55:42   \n",
       "4 2024-12-05 22:33:54  2024-12-06 17:55:42   \n",
       "\n",
       "                                                text  score  num_comments  \\\n",
       "0  Depends on what type of debt. For example if i...      3           NaN   \n",
       "1                                       KAR and PRAA      1           NaN   \n",
       "2  36 years old, married but no kids yet. Have 90...      4           NaN   \n",
       "3  When has this not been a risk, it's why the ec...    102          92.0   \n",
       "4  I'm waiting for Tesla to pop. From there I spe...      1           NaN   \n",
       "\n",
       "         type  ...                                         clean_text  \\\n",
       "0     comment  ...  depends type debt. for example it’s debt mortg...   \n",
       "1     comment  ...                                           kar praa   \n",
       "2     comment  ...  36 years old, married kids yet. have 90% equit...   \n",
       "3  submission  ...  when risk, economy acts ratchet, going slow fa...   \n",
       "4     comment  ...  i'm waiting tesla pop. from i speculate automa...   \n",
       "\n",
       "                                      processed_text processed_text_length  \\\n",
       "0  depend type debt for exampl it debt mortgag at...                   594   \n",
       "1                                           kar praa                    12   \n",
       "2  year old marri kid yet have equiti short term ...                   433   \n",
       "3  when risk economi act ratchet go slow fast but...                  1362   \n",
       "4  i wait tesla pop from i specul automak tech bu...                   332   \n",
       "\n",
       "   sentiment_scores                                           entities  \\\n",
       "0           -0.0772  [PATH, FDIS, RPA, BTI, AMEX, Robotic Process A...   \n",
       "1            0.0000                                              [KAR]   \n",
       "2           -0.6652                               [ETH, VGT, QQQ, VOO]   \n",
       "3           -0.9131                               [Economics, fed, AI]   \n",
       "4           -0.1280                                        [Tesla, AI]   \n",
       "\n",
       "                                       doc_embedding      tickers ticker  \\\n",
       "0  [1.0175916, -0.26974982, -0.18348941, -0.53738...  [PATH, BTI]   PATH   \n",
       "1  [0.0036067592, -0.009290272, -0.0037351453, -0...        [KAR]    KAR   \n",
       "2  [0.24014705, -0.79617554, -0.21952175, 0.06111...   [ETH, QQQ]    QQQ   \n",
       "3  [0.36487904, -0.9539981, -0.13656119, -1.58051...         [AI]     AI   \n",
       "4  [0.4363078, -0.67959464, 0.8144916, 0.16138163...         [AI]     AI   \n",
       "\n",
       "  created_price    price_1d  \n",
       "0     14.940000   14.820000  \n",
       "1     20.250000   20.190001  \n",
       "2    521.799988  526.510010  \n",
       "3     37.490002   40.520000  \n",
       "4     37.490002   40.520000  \n",
       "\n",
       "[5 rows x 21 columns]"
      ]
     },
     "execution_count": 5,
     "metadata": {},
     "output_type": "execute_result"
    }
   ],
   "source": [
    "df.head()"
   ]
  },
  {
   "cell_type": "markdown",
   "metadata": {
    "id": "yixU7rO99nPc",
    "jp-MarkdownHeadingCollapsed": true
   },
   "source": [
    "## Pipeline"
   ]
  },
  {
   "cell_type": "code",
   "execution_count": null,
   "metadata": {
    "id": "L1-zpKOF_K5J"
   },
   "outputs": [],
   "source": [
    "import cloudpickle\n",
    "from sklearn.base import TransformerMixin, BaseEstimator\n",
    "from sklearn.pipeline import Pipeline\n",
    "from sklearn.compose import ColumnTransformer"
   ]
  },
  {
   "cell_type": "code",
   "execution_count": null,
   "metadata": {
    "id": "m_jwVeDfCE7m"
   },
   "outputs": [],
   "source": [
    "df['target'] = np.where(df['price_1d'] > df['created_price'], 1, 0)\n",
    "X_train, X_test, y_train, y_test = train_test_split(df.drop(columns=['target']), df['target'], test_size=0.2, random_state=69)"
   ]
  },
  {
   "cell_type": "code",
   "execution_count": null,
   "metadata": {
    "colab": {
     "base_uri": "https://localhost:8080/",
     "height": 457
    },
    "id": "d_IwFv2V-_Dv",
    "outputId": "3e348833-6d2d-46c8-f4ee-1b144a80eda3"
   },
   "outputs": [
    {
     "name": "stderr",
     "output_type": "stream",
     "text": [
      "/usr/local/lib/python3.10/dist-packages/sklearn/compose/_column_transformer.py:1651: FutureWarning: \n",
      "The format of the columns of the 'remainder' transformer in ColumnTransformer.transformers_ will change in version 1.7 to match the format of the other transformers.\n",
      "At the moment the remainder columns are stored as indices (of type int). With the same ColumnTransformer configuration, in the future they will be stored as column names (of type str).\n",
      "To use the new behavior now and suppress this warning, use ColumnTransformer(force_int_remainder_cols=False).\n",
      "\n",
      "  warnings.warn(\n"
     ]
    },
    {
     "data": {
      "text/html": [
       "<style>#sk-container-id-2 {\n",
       "  /* Definition of color scheme common for light and dark mode */\n",
       "  --sklearn-color-text: #000;\n",
       "  --sklearn-color-text-muted: #666;\n",
       "  --sklearn-color-line: gray;\n",
       "  /* Definition of color scheme for unfitted estimators */\n",
       "  --sklearn-color-unfitted-level-0: #fff5e6;\n",
       "  --sklearn-color-unfitted-level-1: #f6e4d2;\n",
       "  --sklearn-color-unfitted-level-2: #ffe0b3;\n",
       "  --sklearn-color-unfitted-level-3: chocolate;\n",
       "  /* Definition of color scheme for fitted estimators */\n",
       "  --sklearn-color-fitted-level-0: #f0f8ff;\n",
       "  --sklearn-color-fitted-level-1: #d4ebff;\n",
       "  --sklearn-color-fitted-level-2: #b3dbfd;\n",
       "  --sklearn-color-fitted-level-3: cornflowerblue;\n",
       "\n",
       "  /* Specific color for light theme */\n",
       "  --sklearn-color-text-on-default-background: var(--sg-text-color, var(--theme-code-foreground, var(--jp-content-font-color1, black)));\n",
       "  --sklearn-color-background: var(--sg-background-color, var(--theme-background, var(--jp-layout-color0, white)));\n",
       "  --sklearn-color-border-box: var(--sg-text-color, var(--theme-code-foreground, var(--jp-content-font-color1, black)));\n",
       "  --sklearn-color-icon: #696969;\n",
       "\n",
       "  @media (prefers-color-scheme: dark) {\n",
       "    /* Redefinition of color scheme for dark theme */\n",
       "    --sklearn-color-text-on-default-background: var(--sg-text-color, var(--theme-code-foreground, var(--jp-content-font-color1, white)));\n",
       "    --sklearn-color-background: var(--sg-background-color, var(--theme-background, var(--jp-layout-color0, #111)));\n",
       "    --sklearn-color-border-box: var(--sg-text-color, var(--theme-code-foreground, var(--jp-content-font-color1, white)));\n",
       "    --sklearn-color-icon: #878787;\n",
       "  }\n",
       "}\n",
       "\n",
       "#sk-container-id-2 {\n",
       "  color: var(--sklearn-color-text);\n",
       "}\n",
       "\n",
       "#sk-container-id-2 pre {\n",
       "  padding: 0;\n",
       "}\n",
       "\n",
       "#sk-container-id-2 input.sk-hidden--visually {\n",
       "  border: 0;\n",
       "  clip: rect(1px 1px 1px 1px);\n",
       "  clip: rect(1px, 1px, 1px, 1px);\n",
       "  height: 1px;\n",
       "  margin: -1px;\n",
       "  overflow: hidden;\n",
       "  padding: 0;\n",
       "  position: absolute;\n",
       "  width: 1px;\n",
       "}\n",
       "\n",
       "#sk-container-id-2 div.sk-dashed-wrapped {\n",
       "  border: 1px dashed var(--sklearn-color-line);\n",
       "  margin: 0 0.4em 0.5em 0.4em;\n",
       "  box-sizing: border-box;\n",
       "  padding-bottom: 0.4em;\n",
       "  background-color: var(--sklearn-color-background);\n",
       "}\n",
       "\n",
       "#sk-container-id-2 div.sk-container {\n",
       "  /* jupyter's `normalize.less` sets `[hidden] { display: none; }`\n",
       "     but bootstrap.min.css set `[hidden] { display: none !important; }`\n",
       "     so we also need the `!important` here to be able to override the\n",
       "     default hidden behavior on the sphinx rendered scikit-learn.org.\n",
       "     See: https://github.com/scikit-learn/scikit-learn/issues/21755 */\n",
       "  display: inline-block !important;\n",
       "  position: relative;\n",
       "}\n",
       "\n",
       "#sk-container-id-2 div.sk-text-repr-fallback {\n",
       "  display: none;\n",
       "}\n",
       "\n",
       "div.sk-parallel-item,\n",
       "div.sk-serial,\n",
       "div.sk-item {\n",
       "  /* draw centered vertical line to link estimators */\n",
       "  background-image: linear-gradient(var(--sklearn-color-text-on-default-background), var(--sklearn-color-text-on-default-background));\n",
       "  background-size: 2px 100%;\n",
       "  background-repeat: no-repeat;\n",
       "  background-position: center center;\n",
       "}\n",
       "\n",
       "/* Parallel-specific style estimator block */\n",
       "\n",
       "#sk-container-id-2 div.sk-parallel-item::after {\n",
       "  content: \"\";\n",
       "  width: 100%;\n",
       "  border-bottom: 2px solid var(--sklearn-color-text-on-default-background);\n",
       "  flex-grow: 1;\n",
       "}\n",
       "\n",
       "#sk-container-id-2 div.sk-parallel {\n",
       "  display: flex;\n",
       "  align-items: stretch;\n",
       "  justify-content: center;\n",
       "  background-color: var(--sklearn-color-background);\n",
       "  position: relative;\n",
       "}\n",
       "\n",
       "#sk-container-id-2 div.sk-parallel-item {\n",
       "  display: flex;\n",
       "  flex-direction: column;\n",
       "}\n",
       "\n",
       "#sk-container-id-2 div.sk-parallel-item:first-child::after {\n",
       "  align-self: flex-end;\n",
       "  width: 50%;\n",
       "}\n",
       "\n",
       "#sk-container-id-2 div.sk-parallel-item:last-child::after {\n",
       "  align-self: flex-start;\n",
       "  width: 50%;\n",
       "}\n",
       "\n",
       "#sk-container-id-2 div.sk-parallel-item:only-child::after {\n",
       "  width: 0;\n",
       "}\n",
       "\n",
       "/* Serial-specific style estimator block */\n",
       "\n",
       "#sk-container-id-2 div.sk-serial {\n",
       "  display: flex;\n",
       "  flex-direction: column;\n",
       "  align-items: center;\n",
       "  background-color: var(--sklearn-color-background);\n",
       "  padding-right: 1em;\n",
       "  padding-left: 1em;\n",
       "}\n",
       "\n",
       "\n",
       "/* Toggleable style: style used for estimator/Pipeline/ColumnTransformer box that is\n",
       "clickable and can be expanded/collapsed.\n",
       "- Pipeline and ColumnTransformer use this feature and define the default style\n",
       "- Estimators will overwrite some part of the style using the `sk-estimator` class\n",
       "*/\n",
       "\n",
       "/* Pipeline and ColumnTransformer style (default) */\n",
       "\n",
       "#sk-container-id-2 div.sk-toggleable {\n",
       "  /* Default theme specific background. It is overwritten whether we have a\n",
       "  specific estimator or a Pipeline/ColumnTransformer */\n",
       "  background-color: var(--sklearn-color-background);\n",
       "}\n",
       "\n",
       "/* Toggleable label */\n",
       "#sk-container-id-2 label.sk-toggleable__label {\n",
       "  cursor: pointer;\n",
       "  display: flex;\n",
       "  width: 100%;\n",
       "  margin-bottom: 0;\n",
       "  padding: 0.5em;\n",
       "  box-sizing: border-box;\n",
       "  text-align: center;\n",
       "  align-items: start;\n",
       "  justify-content: space-between;\n",
       "  gap: 0.5em;\n",
       "}\n",
       "\n",
       "#sk-container-id-2 label.sk-toggleable__label .caption {\n",
       "  font-size: 0.6rem;\n",
       "  font-weight: lighter;\n",
       "  color: var(--sklearn-color-text-muted);\n",
       "}\n",
       "\n",
       "#sk-container-id-2 label.sk-toggleable__label-arrow:before {\n",
       "  /* Arrow on the left of the label */\n",
       "  content: \"▸\";\n",
       "  float: left;\n",
       "  margin-right: 0.25em;\n",
       "  color: var(--sklearn-color-icon);\n",
       "}\n",
       "\n",
       "#sk-container-id-2 label.sk-toggleable__label-arrow:hover:before {\n",
       "  color: var(--sklearn-color-text);\n",
       "}\n",
       "\n",
       "/* Toggleable content - dropdown */\n",
       "\n",
       "#sk-container-id-2 div.sk-toggleable__content {\n",
       "  max-height: 0;\n",
       "  max-width: 0;\n",
       "  overflow: hidden;\n",
       "  text-align: left;\n",
       "  /* unfitted */\n",
       "  background-color: var(--sklearn-color-unfitted-level-0);\n",
       "}\n",
       "\n",
       "#sk-container-id-2 div.sk-toggleable__content.fitted {\n",
       "  /* fitted */\n",
       "  background-color: var(--sklearn-color-fitted-level-0);\n",
       "}\n",
       "\n",
       "#sk-container-id-2 div.sk-toggleable__content pre {\n",
       "  margin: 0.2em;\n",
       "  border-radius: 0.25em;\n",
       "  color: var(--sklearn-color-text);\n",
       "  /* unfitted */\n",
       "  background-color: var(--sklearn-color-unfitted-level-0);\n",
       "}\n",
       "\n",
       "#sk-container-id-2 div.sk-toggleable__content.fitted pre {\n",
       "  /* unfitted */\n",
       "  background-color: var(--sklearn-color-fitted-level-0);\n",
       "}\n",
       "\n",
       "#sk-container-id-2 input.sk-toggleable__control:checked~div.sk-toggleable__content {\n",
       "  /* Expand drop-down */\n",
       "  max-height: 200px;\n",
       "  max-width: 100%;\n",
       "  overflow: auto;\n",
       "}\n",
       "\n",
       "#sk-container-id-2 input.sk-toggleable__control:checked~label.sk-toggleable__label-arrow:before {\n",
       "  content: \"▾\";\n",
       "}\n",
       "\n",
       "/* Pipeline/ColumnTransformer-specific style */\n",
       "\n",
       "#sk-container-id-2 div.sk-label input.sk-toggleable__control:checked~label.sk-toggleable__label {\n",
       "  color: var(--sklearn-color-text);\n",
       "  background-color: var(--sklearn-color-unfitted-level-2);\n",
       "}\n",
       "\n",
       "#sk-container-id-2 div.sk-label.fitted input.sk-toggleable__control:checked~label.sk-toggleable__label {\n",
       "  background-color: var(--sklearn-color-fitted-level-2);\n",
       "}\n",
       "\n",
       "/* Estimator-specific style */\n",
       "\n",
       "/* Colorize estimator box */\n",
       "#sk-container-id-2 div.sk-estimator input.sk-toggleable__control:checked~label.sk-toggleable__label {\n",
       "  /* unfitted */\n",
       "  background-color: var(--sklearn-color-unfitted-level-2);\n",
       "}\n",
       "\n",
       "#sk-container-id-2 div.sk-estimator.fitted input.sk-toggleable__control:checked~label.sk-toggleable__label {\n",
       "  /* fitted */\n",
       "  background-color: var(--sklearn-color-fitted-level-2);\n",
       "}\n",
       "\n",
       "#sk-container-id-2 div.sk-label label.sk-toggleable__label,\n",
       "#sk-container-id-2 div.sk-label label {\n",
       "  /* The background is the default theme color */\n",
       "  color: var(--sklearn-color-text-on-default-background);\n",
       "}\n",
       "\n",
       "/* On hover, darken the color of the background */\n",
       "#sk-container-id-2 div.sk-label:hover label.sk-toggleable__label {\n",
       "  color: var(--sklearn-color-text);\n",
       "  background-color: var(--sklearn-color-unfitted-level-2);\n",
       "}\n",
       "\n",
       "/* Label box, darken color on hover, fitted */\n",
       "#sk-container-id-2 div.sk-label.fitted:hover label.sk-toggleable__label.fitted {\n",
       "  color: var(--sklearn-color-text);\n",
       "  background-color: var(--sklearn-color-fitted-level-2);\n",
       "}\n",
       "\n",
       "/* Estimator label */\n",
       "\n",
       "#sk-container-id-2 div.sk-label label {\n",
       "  font-family: monospace;\n",
       "  font-weight: bold;\n",
       "  display: inline-block;\n",
       "  line-height: 1.2em;\n",
       "}\n",
       "\n",
       "#sk-container-id-2 div.sk-label-container {\n",
       "  text-align: center;\n",
       "}\n",
       "\n",
       "/* Estimator-specific */\n",
       "#sk-container-id-2 div.sk-estimator {\n",
       "  font-family: monospace;\n",
       "  border: 1px dotted var(--sklearn-color-border-box);\n",
       "  border-radius: 0.25em;\n",
       "  box-sizing: border-box;\n",
       "  margin-bottom: 0.5em;\n",
       "  /* unfitted */\n",
       "  background-color: var(--sklearn-color-unfitted-level-0);\n",
       "}\n",
       "\n",
       "#sk-container-id-2 div.sk-estimator.fitted {\n",
       "  /* fitted */\n",
       "  background-color: var(--sklearn-color-fitted-level-0);\n",
       "}\n",
       "\n",
       "/* on hover */\n",
       "#sk-container-id-2 div.sk-estimator:hover {\n",
       "  /* unfitted */\n",
       "  background-color: var(--sklearn-color-unfitted-level-2);\n",
       "}\n",
       "\n",
       "#sk-container-id-2 div.sk-estimator.fitted:hover {\n",
       "  /* fitted */\n",
       "  background-color: var(--sklearn-color-fitted-level-2);\n",
       "}\n",
       "\n",
       "/* Specification for estimator info (e.g. \"i\" and \"?\") */\n",
       "\n",
       "/* Common style for \"i\" and \"?\" */\n",
       "\n",
       ".sk-estimator-doc-link,\n",
       "a:link.sk-estimator-doc-link,\n",
       "a:visited.sk-estimator-doc-link {\n",
       "  float: right;\n",
       "  font-size: smaller;\n",
       "  line-height: 1em;\n",
       "  font-family: monospace;\n",
       "  background-color: var(--sklearn-color-background);\n",
       "  border-radius: 1em;\n",
       "  height: 1em;\n",
       "  width: 1em;\n",
       "  text-decoration: none !important;\n",
       "  margin-left: 0.5em;\n",
       "  text-align: center;\n",
       "  /* unfitted */\n",
       "  border: var(--sklearn-color-unfitted-level-1) 1pt solid;\n",
       "  color: var(--sklearn-color-unfitted-level-1);\n",
       "}\n",
       "\n",
       ".sk-estimator-doc-link.fitted,\n",
       "a:link.sk-estimator-doc-link.fitted,\n",
       "a:visited.sk-estimator-doc-link.fitted {\n",
       "  /* fitted */\n",
       "  border: var(--sklearn-color-fitted-level-1) 1pt solid;\n",
       "  color: var(--sklearn-color-fitted-level-1);\n",
       "}\n",
       "\n",
       "/* On hover */\n",
       "div.sk-estimator:hover .sk-estimator-doc-link:hover,\n",
       ".sk-estimator-doc-link:hover,\n",
       "div.sk-label-container:hover .sk-estimator-doc-link:hover,\n",
       ".sk-estimator-doc-link:hover {\n",
       "  /* unfitted */\n",
       "  background-color: var(--sklearn-color-unfitted-level-3);\n",
       "  color: var(--sklearn-color-background);\n",
       "  text-decoration: none;\n",
       "}\n",
       "\n",
       "div.sk-estimator.fitted:hover .sk-estimator-doc-link.fitted:hover,\n",
       ".sk-estimator-doc-link.fitted:hover,\n",
       "div.sk-label-container:hover .sk-estimator-doc-link.fitted:hover,\n",
       ".sk-estimator-doc-link.fitted:hover {\n",
       "  /* fitted */\n",
       "  background-color: var(--sklearn-color-fitted-level-3);\n",
       "  color: var(--sklearn-color-background);\n",
       "  text-decoration: none;\n",
       "}\n",
       "\n",
       "/* Span, style for the box shown on hovering the info icon */\n",
       ".sk-estimator-doc-link span {\n",
       "  display: none;\n",
       "  z-index: 9999;\n",
       "  position: relative;\n",
       "  font-weight: normal;\n",
       "  right: .2ex;\n",
       "  padding: .5ex;\n",
       "  margin: .5ex;\n",
       "  width: min-content;\n",
       "  min-width: 20ex;\n",
       "  max-width: 50ex;\n",
       "  color: var(--sklearn-color-text);\n",
       "  box-shadow: 2pt 2pt 4pt #999;\n",
       "  /* unfitted */\n",
       "  background: var(--sklearn-color-unfitted-level-0);\n",
       "  border: .5pt solid var(--sklearn-color-unfitted-level-3);\n",
       "}\n",
       "\n",
       ".sk-estimator-doc-link.fitted span {\n",
       "  /* fitted */\n",
       "  background: var(--sklearn-color-fitted-level-0);\n",
       "  border: var(--sklearn-color-fitted-level-3);\n",
       "}\n",
       "\n",
       ".sk-estimator-doc-link:hover span {\n",
       "  display: block;\n",
       "}\n",
       "\n",
       "/* \"?\"-specific style due to the `<a>` HTML tag */\n",
       "\n",
       "#sk-container-id-2 a.estimator_doc_link {\n",
       "  float: right;\n",
       "  font-size: 1rem;\n",
       "  line-height: 1em;\n",
       "  font-family: monospace;\n",
       "  background-color: var(--sklearn-color-background);\n",
       "  border-radius: 1rem;\n",
       "  height: 1rem;\n",
       "  width: 1rem;\n",
       "  text-decoration: none;\n",
       "  /* unfitted */\n",
       "  color: var(--sklearn-color-unfitted-level-1);\n",
       "  border: var(--sklearn-color-unfitted-level-1) 1pt solid;\n",
       "}\n",
       "\n",
       "#sk-container-id-2 a.estimator_doc_link.fitted {\n",
       "  /* fitted */\n",
       "  border: var(--sklearn-color-fitted-level-1) 1pt solid;\n",
       "  color: var(--sklearn-color-fitted-level-1);\n",
       "}\n",
       "\n",
       "/* On hover */\n",
       "#sk-container-id-2 a.estimator_doc_link:hover {\n",
       "  /* unfitted */\n",
       "  background-color: var(--sklearn-color-unfitted-level-3);\n",
       "  color: var(--sklearn-color-background);\n",
       "  text-decoration: none;\n",
       "}\n",
       "\n",
       "#sk-container-id-2 a.estimator_doc_link.fitted:hover {\n",
       "  /* fitted */\n",
       "  background-color: var(--sklearn-color-fitted-level-3);\n",
       "}\n",
       "</style><div id=\"sk-container-id-2\" class=\"sk-top-container\"><div class=\"sk-text-repr-fallback\"><pre>Pipeline(steps=[(&#x27;custom&#x27;, CustomTransformer()),\n",
       "                (&#x27;preprocessor&#x27;,\n",
       "                 ColumnTransformer(remainder=&#x27;passthrough&#x27;,\n",
       "                                   transformers=[(&#x27;ohe&#x27;,\n",
       "                                                  OneHotEncoder(drop=&#x27;first&#x27;,\n",
       "                                                                handle_unknown=&#x27;ignore&#x27;,\n",
       "                                                                sparse_output=False),\n",
       "                                                  [&#x27;subreddit&#x27;, &#x27;type&#x27;,\n",
       "                                                   &#x27;ticker&#x27;])])),\n",
       "                (&#x27;scaler&#x27;, StandardScaler()),\n",
       "                (&#x27;classifier&#x27;, LogisticRegression())])</pre><b>In a Jupyter environment, please rerun this cell to show the HTML representation or trust the notebook. <br />On GitHub, the HTML representation is unable to render, please try loading this page with nbviewer.org.</b></div><div class=\"sk-container\" hidden><div class=\"sk-item sk-dashed-wrapped\"><div class=\"sk-label-container\"><div class=\"sk-label fitted sk-toggleable\"><input class=\"sk-toggleable__control sk-hidden--visually\" id=\"sk-estimator-id-10\" type=\"checkbox\" ><label for=\"sk-estimator-id-10\" class=\"sk-toggleable__label fitted sk-toggleable__label-arrow\"><div><div>Pipeline</div></div><div><a class=\"sk-estimator-doc-link fitted\" rel=\"noreferrer\" target=\"_blank\" href=\"https://scikit-learn.org/1.6/modules/generated/sklearn.pipeline.Pipeline.html\">?<span>Documentation for Pipeline</span></a><span class=\"sk-estimator-doc-link fitted\">i<span>Fitted</span></span></div></label><div class=\"sk-toggleable__content fitted\"><pre>Pipeline(steps=[(&#x27;custom&#x27;, CustomTransformer()),\n",
       "                (&#x27;preprocessor&#x27;,\n",
       "                 ColumnTransformer(remainder=&#x27;passthrough&#x27;,\n",
       "                                   transformers=[(&#x27;ohe&#x27;,\n",
       "                                                  OneHotEncoder(drop=&#x27;first&#x27;,\n",
       "                                                                handle_unknown=&#x27;ignore&#x27;,\n",
       "                                                                sparse_output=False),\n",
       "                                                  [&#x27;subreddit&#x27;, &#x27;type&#x27;,\n",
       "                                                   &#x27;ticker&#x27;])])),\n",
       "                (&#x27;scaler&#x27;, StandardScaler()),\n",
       "                (&#x27;classifier&#x27;, LogisticRegression())])</pre></div> </div></div><div class=\"sk-serial\"><div class=\"sk-item\"><div class=\"sk-estimator fitted sk-toggleable\"><input class=\"sk-toggleable__control sk-hidden--visually\" id=\"sk-estimator-id-11\" type=\"checkbox\" ><label for=\"sk-estimator-id-11\" class=\"sk-toggleable__label fitted sk-toggleable__label-arrow\"><div><div>CustomTransformer</div></div></label><div class=\"sk-toggleable__content fitted\"><pre>CustomTransformer()</pre></div> </div></div><div class=\"sk-item sk-dashed-wrapped\"><div class=\"sk-label-container\"><div class=\"sk-label fitted sk-toggleable\"><input class=\"sk-toggleable__control sk-hidden--visually\" id=\"sk-estimator-id-12\" type=\"checkbox\" ><label for=\"sk-estimator-id-12\" class=\"sk-toggleable__label fitted sk-toggleable__label-arrow\"><div><div>preprocessor: ColumnTransformer</div></div><div><a class=\"sk-estimator-doc-link fitted\" rel=\"noreferrer\" target=\"_blank\" href=\"https://scikit-learn.org/1.6/modules/generated/sklearn.compose.ColumnTransformer.html\">?<span>Documentation for preprocessor: ColumnTransformer</span></a></div></label><div class=\"sk-toggleable__content fitted\"><pre>ColumnTransformer(remainder=&#x27;passthrough&#x27;,\n",
       "                  transformers=[(&#x27;ohe&#x27;,\n",
       "                                 OneHotEncoder(drop=&#x27;first&#x27;,\n",
       "                                               handle_unknown=&#x27;ignore&#x27;,\n",
       "                                               sparse_output=False),\n",
       "                                 [&#x27;subreddit&#x27;, &#x27;type&#x27;, &#x27;ticker&#x27;])])</pre></div> </div></div><div class=\"sk-parallel\"><div class=\"sk-parallel-item\"><div class=\"sk-item\"><div class=\"sk-label-container\"><div class=\"sk-label fitted sk-toggleable\"><input class=\"sk-toggleable__control sk-hidden--visually\" id=\"sk-estimator-id-13\" type=\"checkbox\" ><label for=\"sk-estimator-id-13\" class=\"sk-toggleable__label fitted sk-toggleable__label-arrow\"><div><div>ohe</div></div></label><div class=\"sk-toggleable__content fitted\"><pre>[&#x27;subreddit&#x27;, &#x27;type&#x27;, &#x27;ticker&#x27;]</pre></div> </div></div><div class=\"sk-serial\"><div class=\"sk-item\"><div class=\"sk-estimator fitted sk-toggleable\"><input class=\"sk-toggleable__control sk-hidden--visually\" id=\"sk-estimator-id-14\" type=\"checkbox\" ><label for=\"sk-estimator-id-14\" class=\"sk-toggleable__label fitted sk-toggleable__label-arrow\"><div><div>OneHotEncoder</div></div><div><a class=\"sk-estimator-doc-link fitted\" rel=\"noreferrer\" target=\"_blank\" href=\"https://scikit-learn.org/1.6/modules/generated/sklearn.preprocessing.OneHotEncoder.html\">?<span>Documentation for OneHotEncoder</span></a></div></label><div class=\"sk-toggleable__content fitted\"><pre>OneHotEncoder(drop=&#x27;first&#x27;, handle_unknown=&#x27;ignore&#x27;, sparse_output=False)</pre></div> </div></div></div></div></div><div class=\"sk-parallel-item\"><div class=\"sk-item\"><div class=\"sk-label-container\"><div class=\"sk-label fitted sk-toggleable\"><input class=\"sk-toggleable__control sk-hidden--visually\" id=\"sk-estimator-id-15\" type=\"checkbox\" ><label for=\"sk-estimator-id-15\" class=\"sk-toggleable__label fitted sk-toggleable__label-arrow\"><div><div>remainder</div></div></label><div class=\"sk-toggleable__content fitted\"><pre>[&#x27;score&#x27;, &#x27;num_comments&#x27;, &#x27;processed_text_length&#x27;, &#x27;sentiment_scores&#x27;, &#x27;created_price&#x27;]</pre></div> </div></div><div class=\"sk-serial\"><div class=\"sk-item\"><div class=\"sk-estimator fitted sk-toggleable\"><input class=\"sk-toggleable__control sk-hidden--visually\" id=\"sk-estimator-id-16\" type=\"checkbox\" ><label for=\"sk-estimator-id-16\" class=\"sk-toggleable__label fitted sk-toggleable__label-arrow\"><div><div>passthrough</div></div></label><div class=\"sk-toggleable__content fitted\"><pre>passthrough</pre></div> </div></div></div></div></div></div></div><div class=\"sk-item\"><div class=\"sk-estimator fitted sk-toggleable\"><input class=\"sk-toggleable__control sk-hidden--visually\" id=\"sk-estimator-id-17\" type=\"checkbox\" ><label for=\"sk-estimator-id-17\" class=\"sk-toggleable__label fitted sk-toggleable__label-arrow\"><div><div>StandardScaler</div></div><div><a class=\"sk-estimator-doc-link fitted\" rel=\"noreferrer\" target=\"_blank\" href=\"https://scikit-learn.org/1.6/modules/generated/sklearn.preprocessing.StandardScaler.html\">?<span>Documentation for StandardScaler</span></a></div></label><div class=\"sk-toggleable__content fitted\"><pre>StandardScaler()</pre></div> </div></div><div class=\"sk-item\"><div class=\"sk-estimator fitted sk-toggleable\"><input class=\"sk-toggleable__control sk-hidden--visually\" id=\"sk-estimator-id-18\" type=\"checkbox\" ><label for=\"sk-estimator-id-18\" class=\"sk-toggleable__label fitted sk-toggleable__label-arrow\"><div><div>LogisticRegression</div></div><div><a class=\"sk-estimator-doc-link fitted\" rel=\"noreferrer\" target=\"_blank\" href=\"https://scikit-learn.org/1.6/modules/generated/sklearn.linear_model.LogisticRegression.html\">?<span>Documentation for LogisticRegression</span></a></div></label><div class=\"sk-toggleable__content fitted\"><pre>LogisticRegression()</pre></div> </div></div></div></div></div></div>"
      ],
      "text/plain": [
       "Pipeline(steps=[('custom', CustomTransformer()),\n",
       "                ('preprocessor',\n",
       "                 ColumnTransformer(remainder='passthrough',\n",
       "                                   transformers=[('ohe',\n",
       "                                                  OneHotEncoder(drop='first',\n",
       "                                                                handle_unknown='ignore',\n",
       "                                                                sparse_output=False),\n",
       "                                                  ['subreddit', 'type',\n",
       "                                                   'ticker'])])),\n",
       "                ('scaler', StandardScaler()),\n",
       "                ('classifier', LogisticRegression())])"
      ]
     },
     "execution_count": 21,
     "metadata": {},
     "output_type": "execute_result"
    }
   ],
   "source": [
    "class CustomTransformer(BaseEstimator, TransformerMixin):\n",
    "    def fit(self, X, y=None):\n",
    "        return self\n",
    "\n",
    "    def transform(self, X):\n",
    "        X = X.drop(['id', 'title', 'url', 'created_utc', 'parsed_utc', 'text', 'parent_id', 'clean_text', 'processed_text', 'entities', 'tickers', 'price_1d', 'doc_embedding'], axis=1)\n",
    "        X = X.fillna(0)\n",
    "        return X\n",
    "\n",
    "preprocessor = ColumnTransformer(\n",
    "    transformers=[\n",
    "        ('ohe', OneHotEncoder(drop='first', handle_unknown='ignore', sparse_output=False), ['subreddit', 'type', 'ticker'])\n",
    "    ],\n",
    "    remainder='passthrough'\n",
    ")\n",
    "\n",
    "pipeline = Pipeline([\n",
    "    ('custom', CustomTransformer()),\n",
    "    ('preprocessor', preprocessor),\n",
    "    ('scaler', StandardScaler()),\n",
    "    ('classifier', LogisticRegression())\n",
    "])\n",
    "\n",
    "pipeline.fit(X_train, y_train)"
   ]
  },
  {
   "cell_type": "code",
   "execution_count": null,
   "metadata": {
    "colab": {
     "base_uri": "https://localhost:8080/"
    },
    "id": "izb30Y4jD1x9",
    "outputId": "ce651154-b526-437b-b255-5d06e57bc327"
   },
   "outputs": [
    {
     "name": "stdout",
     "output_type": "stream",
     "text": [
      "Accuracy_train: 0.6772133095662507\n",
      "Precision_train: 0.687828947368421\n",
      "Recall_train: 0.6307692307692307\n",
      "F1_train: 0.6580645161290323\n",
      "----------------------\n",
      "Accuracy_test: 0.586104513064133\n",
      "Precision_test: 0.5940828402366863\n",
      "Recall_test: 0.5864485981308412\n",
      "F1_test: 0.5902410346854792\n"
     ]
    },
    {
     "name": "stderr",
     "output_type": "stream",
     "text": [
      "/usr/local/lib/python3.10/dist-packages/sklearn/preprocessing/_encoders.py:246: UserWarning: Found unknown categories in columns [2] during transform. These unknown categories will be encoded as all zeros\n",
      "  warnings.warn(\n"
     ]
    }
   ],
   "source": [
    "pred_train = pipeline.predict(X_train)\n",
    "pred_test = pipeline.predict(X_test)\n",
    "\n",
    "classification_metrics(y_train, pred_train, y_test, pred_test)"
   ]
  },
  {
   "cell_type": "code",
   "execution_count": null,
   "metadata": {
    "id": "kB40jmzKC2eS"
   },
   "outputs": [],
   "source": [
    "# with open(\"logreg_pipeline.pkl\", \"wb\") as pkl_file:\n",
    "#         cloudpickle.dump(pipeline, pkl_file)\n",
    "\n",
    "with open(\"logreg_pipeline.pickle\", \"wb\") as f:\n",
    "           f.write(cloudpickle.dumps(pipeline))"
   ]
  },
  {
   "cell_type": "code",
   "execution_count": null,
   "metadata": {
    "colab": {
     "base_uri": "https://localhost:8080/",
     "height": 35
    },
    "id": "n5gRDHtWgl_j",
    "outputId": "7cf0c960-8c5b-4617-976e-4e0447d6e799"
   },
   "outputs": [
    {
     "data": {
      "application/vnd.google.colaboratory.intrinsic+json": {
       "type": "string"
      },
      "text/plain": [
       "'3.1.0'"
      ]
     },
     "execution_count": 26,
     "metadata": {},
     "output_type": "execute_result"
    }
   ],
   "source": [
    "cloudpickle.__version__\n"
   ]
  },
  {
   "cell_type": "code",
   "execution_count": null,
   "metadata": {
    "colab": {
     "base_uri": "https://localhost:8080/"
    },
    "id": "wjPhHc2HhnSZ",
    "outputId": "0a07c856-9b74-4492-b11b-d9da6aceceec"
   },
   "outputs": [
    {
     "name": "stdout",
     "output_type": "stream",
     "text": [
      "Python 3.10.12\n"
     ]
    }
   ],
   "source": [
    "!python3 --version"
   ]
  },
  {
   "cell_type": "markdown",
   "metadata": {},
   "source": [
    "## Additional visualization"
   ]
  },
  {
   "cell_type": "code",
   "execution_count": 62,
   "metadata": {},
   "outputs": [],
   "source": [
    "import plotly.graph_objects as go\n",
    "import plotly.express as px\n",
    "import plotly.io as pio\n",
    "\n",
    "# other renderers seem to be ugly\n",
    "pio.renderers.default = 'iframe'\n",
    "\n",
    "def plot_ticker_treemap(df: pd.DataFrame) -> go.Figure:\n",
    "    ticker_counts = df['ticker'].value_counts().reset_index()\n",
    "    ticker_counts.columns = ['ticker', 'count']\n",
    "\n",
    "    fig = px.treemap(\n",
    "        ticker_counts,\n",
    "        path=['ticker'],\n",
    "        values='count',\n",
    "        # title='Treemap of Ticker Counts'\n",
    "    )\n",
    "\n",
    "    fig.update_layout(\n",
    "        title={\n",
    "            'text': 'Treemap of Ticker Counts',\n",
    "            'font': {'size': 24}\n",
    "        },\n",
    "        # xaxis={\n",
    "        #     'title': {'text': 'Subreddit',\n",
    "        #               'font': {'size': 20}}\n",
    "        # },\n",
    "        # yaxis={\n",
    "        #     'title': {'text': 'Number of Posts',\n",
    "        #               'font': {'size': 20}}\n",
    "        # }\n",
    "    )\n",
    "    \n",
    "    return fig\n",
    "\n",
    "def plot_subreddits_distribution(df: pd.DataFrame) -> go.Figure:\n",
    "    subreddit_counts = df['subreddit'].value_counts().reset_index()\n",
    "    subreddit_counts.columns = ['subreddit', 'count']\n",
    "\n",
    "    custom_colors = ['#636EFA', '#EF553B', '#00CC96', '#AB63FA', '#FFA15A']\n",
    "\n",
    "    fig = px.bar(subreddit_counts,\n",
    "                 x='subreddit',\n",
    "                 y='count',\n",
    "                 color='subreddit',\n",
    "                 color_discrete_sequence=custom_colors)\n",
    "    \n",
    "    fig.update_layout(\n",
    "        title={\n",
    "            'text': 'Distribution of Posts by Subreddit',\n",
    "            'font': {'size': 24}\n",
    "        },\n",
    "        xaxis={\n",
    "            'title': {'text': 'Subreddit',\n",
    "                      'font': {'size': 20}},\n",
    "            'tickfont': {'size': 16}\n",
    "        },\n",
    "        yaxis={\n",
    "            'title': {'text': 'Number of Posts',\n",
    "                      'font': {'size': 20}}\n",
    "         }\n",
    "    )\n",
    "    \n",
    "    return fig\n",
    "\n",
    "\n",
    "\n",
    "def plot_relative_price_change(df: pd.DataFrame) -> go.Figure:\n",
    "    custom_colors = ['#636EFA', '#EF553B', '#00CC96', '#AB63FA', '#FFA15A']\n",
    "\n",
    "    df['rel_price_change'] = ((df['price_1d'] - df['created_price']) / df['created_price']) * 100\n",
    "    df = df[df['rel_price_change'] > -25]\n",
    "    df = df[df['rel_price_change'] < 25]\n",
    "\n",
    "    fig = px.histogram(\n",
    "        df,\n",
    "        x='rel_price_change',\n",
    "        nbins=200,\n",
    "        color_discrete_sequence=custom_colors\n",
    "    )\n",
    "\n",
    "    fig.update_layout(\n",
    "        title={\n",
    "            'text': 'Distribution of Price Change %',\n",
    "            'font': {'size': 24}\n",
    "        },\n",
    "        xaxis={\n",
    "            'title': {'text': 'Relative Price Change',\n",
    "                      'font': {'size': 20}}\n",
    "        },\n",
    "        yaxis={\n",
    "            'title': {'text': 'Frequency',\n",
    "                      'font': {'size': 20}}\n",
    "        },\n",
    "        bargap=0.1,\n",
    "        width=1000,\n",
    "        height=500,\n",
    "    )\n",
    "    return fig"
   ]
  },
  {
   "cell_type": "code",
   "execution_count": 57,
   "metadata": {},
   "outputs": [
    {
     "data": {
      "text/html": [
       "<iframe\n",
       "    scrolling=\"no\"\n",
       "    width=\"100%\"\n",
       "    height=\"545px\"\n",
       "    src=\"iframe_figures/figure_57.html\"\n",
       "    frameborder=\"0\"\n",
       "    allowfullscreen\n",
       "></iframe>\n"
      ]
     },
     "metadata": {},
     "output_type": "display_data"
    }
   ],
   "source": [
    "ticker_treemap = plot_ticker_treemap(df)\n",
    "\n",
    "ticker_treemap.show()"
   ]
  },
  {
   "cell_type": "code",
   "execution_count": 63,
   "metadata": {},
   "outputs": [
    {
     "data": {
      "text/html": [
       "<iframe\n",
       "    scrolling=\"no\"\n",
       "    width=\"100%\"\n",
       "    height=\"545px\"\n",
       "    src=\"iframe_figures/figure_63.html\"\n",
       "    frameborder=\"0\"\n",
       "    allowfullscreen\n",
       "></iframe>\n"
      ]
     },
     "metadata": {},
     "output_type": "display_data"
    }
   ],
   "source": [
    "subr = plot_subreddits_distribution(df)\n",
    "\n",
    "subr.show()"
   ]
  },
  {
   "cell_type": "code",
   "execution_count": 51,
   "metadata": {},
   "outputs": [
    {
     "data": {
      "text/html": [
       "<iframe\n",
       "    scrolling=\"no\"\n",
       "    width=\"1020px\"\n",
       "    height=\"520\"\n",
       "    src=\"iframe_figures/figure_51.html\"\n",
       "    frameborder=\"0\"\n",
       "    allowfullscreen\n",
       "></iframe>\n"
      ]
     },
     "metadata": {},
     "output_type": "display_data"
    }
   ],
   "source": [
    "rel_price_change = plot_relative_price_change(df)\n",
    "rel_price_change.show()"
   ]
  },
  {
   "cell_type": "code",
   "execution_count": 8,
   "metadata": {},
   "outputs": [
    {
     "data": {
      "text/plain": [
       "Renderers configuration\n",
       "-----------------------\n",
       "    Default renderer: 'notebook'\n",
       "    Available renderers:\n",
       "        ['plotly_mimetype', 'jupyterlab', 'nteract', 'vscode',\n",
       "         'notebook', 'notebook_connected', 'kaggle', 'azure', 'colab',\n",
       "         'cocalc', 'databricks', 'json', 'png', 'jpeg', 'jpg', 'svg',\n",
       "         'pdf', 'browser', 'firefox', 'chrome', 'chromium', 'iframe',\n",
       "         'iframe_connected', 'sphinx_gallery', 'sphinx_gallery_png']"
      ]
     },
     "execution_count": 8,
     "metadata": {},
     "output_type": "execute_result"
    }
   ],
   "source": [
    "pio.renderers"
   ]
  },
  {
   "cell_type": "code",
   "execution_count": null,
   "metadata": {},
   "outputs": [],
   "source": []
  }
 ],
 "metadata": {
  "colab": {
   "collapsed_sections": [
    "KXWdxDiF5LCD"
   ],
   "provenance": []
  },
  "kernelspec": {
   "display_name": "Python 3 (ipykernel)",
   "language": "python",
   "name": "python3"
  },
  "language_info": {
   "codemirror_mode": {
    "name": "ipython",
    "version": 3
   },
   "file_extension": ".py",
   "mimetype": "text/x-python",
   "name": "python",
   "nbconvert_exporter": "python",
   "pygments_lexer": "ipython3",
   "version": "3.12.7"
  }
 },
 "nbformat": 4,
 "nbformat_minor": 4
}
