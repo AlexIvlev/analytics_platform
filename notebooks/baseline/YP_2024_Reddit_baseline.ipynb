{
  "cells": [
    {
      "cell_type": "code",
      "source": [
        "!pip install optuna -q\n",
        "!pip install catboost -q"
      ],
      "metadata": {
        "colab": {
          "base_uri": "https://localhost:8080/"
        },
        "id": "-MEC0hiY60Qn",
        "outputId": "d6f5165b-8861-447a-f9ae-5e9bf5f459f3"
      },
      "execution_count": null,
      "outputs": [
        {
          "output_type": "stream",
          "name": "stdout",
          "text": [
            "\u001b[2K   \u001b[90m━━━━━━━━━━━━━━━━━━━━━━━━━━━━━━━━━━━━━━━━\u001b[0m \u001b[32m383.6/383.6 kB\u001b[0m \u001b[31m8.7 MB/s\u001b[0m eta \u001b[36m0:00:00\u001b[0m\n",
            "\u001b[2K   \u001b[90m━━━━━━━━━━━━━━━━━━━━━━━━━━━━━━━━━━━━━━━━\u001b[0m \u001b[32m231.8/231.8 kB\u001b[0m \u001b[31m12.5 MB/s\u001b[0m eta \u001b[36m0:00:00\u001b[0m\n",
            "\u001b[2K   \u001b[90m━━━━━━━━━━━━━━━━━━━━━━━━━━━━━━━━━━━━━━━━\u001b[0m \u001b[32m78.5/78.5 kB\u001b[0m \u001b[31m4.7 MB/s\u001b[0m eta \u001b[36m0:00:00\u001b[0m\n",
            "\u001b[2K   \u001b[90m━━━━━━━━━━━━━━━━━━━━━━━━━━━━━━━━━━━━━━━━\u001b[0m \u001b[32m98.7/98.7 MB\u001b[0m \u001b[31m6.1 MB/s\u001b[0m eta \u001b[36m0:00:00\u001b[0m\n",
            "\u001b[?25h"
          ]
        }
      ]
    },
    {
      "cell_type": "code",
      "execution_count": null,
      "metadata": {
        "id": "NImB2zvc1vSx"
      },
      "outputs": [],
      "source": [
        "import matplotlib.pyplot as plt\n",
        "import numpy as np\n",
        "import pandas as pd\n",
        "import seaborn as sns\n",
        "import optuna\n",
        "from sklearn.model_selection import train_test_split\n",
        "from sklearn.preprocessing import (OneHotEncoder,\n",
        "                                   StandardScaler)\n",
        "from sklearn.metrics import (accuracy_score,\n",
        "                            mean_absolute_error,\n",
        "                            mean_absolute_percentage_error,\n",
        "                            precision_score,\n",
        "                            recall_score,\n",
        "                            f1_score,\n",
        "                            root_mean_squared_error,\n",
        "                            r2_score)\n",
        "from sklearn.linear_model import (LinearRegression,\n",
        "                                  LogisticRegression,\n",
        "                                  Ridge)\n",
        "from sklearn.model_selection import GridSearchCV\n",
        "from sklearn.svm import LinearSVC, SVC\n",
        "from sklearn.ensemble import GradientBoostingClassifier\n",
        "\n",
        "from catboost import CatBoostClassifier"
      ]
    },
    {
      "cell_type": "code",
      "source": [
        "from google.colab import drive\n",
        "drive.mount('/content/drive')"
      ],
      "metadata": {
        "colab": {
          "base_uri": "https://localhost:8080/"
        },
        "id": "2z_7d_kpNgnY",
        "outputId": "e554c987-9181-4088-a7cb-02efba37e536"
      },
      "execution_count": null,
      "outputs": [
        {
          "output_type": "stream",
          "name": "stdout",
          "text": [
            "Mounted at /content/drive\n"
          ]
        }
      ]
    },
    {
      "cell_type": "code",
      "execution_count": null,
      "metadata": {
        "id": "aBiGMHTF2Utw"
      },
      "outputs": [],
      "source": [
        "df = pd.read_parquet(\"/content/drive/MyDrive/datasets/reddit_parser_2024_12_06_prices.parquet\")\n",
        "# df = pd.read_parquet(\"/Users/grylkov/git/hse/analytics-platform/parsers/reddit/reddit_parser_2024_12_06_prices.parquet\")"
      ]
    },
    {
      "cell_type": "code",
      "execution_count": null,
      "metadata": {
        "colab": {
          "base_uri": "https://localhost:8080/"
        },
        "id": "Z2vD6jJe5Mln",
        "outputId": "1ab5e4b4-be15-4fc0-d2c3-7b2f65e95286"
      },
      "outputs": [
        {
          "output_type": "stream",
          "name": "stdout",
          "text": [
            "<class 'pandas.core.frame.DataFrame'>\n",
            "RangeIndex: 8416 entries, 0 to 8415\n",
            "Data columns (total 21 columns):\n",
            " #   Column                 Non-Null Count  Dtype         \n",
            "---  ------                 --------------  -----         \n",
            " 0   id                     8416 non-null   object        \n",
            " 1   title                  847 non-null    object        \n",
            " 2   url                    847 non-null    object        \n",
            " 3   subreddit              8416 non-null   object        \n",
            " 4   created_utc            8416 non-null   datetime64[ns]\n",
            " 5   parsed_utc             8416 non-null   object        \n",
            " 6   text                   8416 non-null   object        \n",
            " 7   score                  8416 non-null   int64         \n",
            " 8   num_comments           847 non-null    float64       \n",
            " 9   type                   8416 non-null   object        \n",
            " 10  parent_id              7569 non-null   object        \n",
            " 11  clean_text             8416 non-null   object        \n",
            " 12  processed_text         8416 non-null   object        \n",
            " 13  processed_text_length  8416 non-null   int64         \n",
            " 14  sentiment_scores       8416 non-null   float64       \n",
            " 15  entities               8416 non-null   object        \n",
            " 16  doc_embedding          8416 non-null   object        \n",
            " 17  tickers                8416 non-null   object        \n",
            " 18  ticker                 8416 non-null   object        \n",
            " 19  created_price          8416 non-null   float64       \n",
            " 20  price_1d               8416 non-null   float64       \n",
            "dtypes: datetime64[ns](1), float64(4), int64(2), object(14)\n",
            "memory usage: 1.3+ MB\n"
          ]
        }
      ],
      "source": [
        "df.info()"
      ]
    },
    {
      "cell_type": "code",
      "execution_count": null,
      "metadata": {
        "colab": {
          "base_uri": "https://localhost:8080/",
          "height": 707
        },
        "id": "iXZYUT266SJo",
        "outputId": "b4a256c9-6794-4ecd-fd2a-1ad939f97c82"
      },
      "outputs": [
        {
          "output_type": "execute_result",
          "data": {
            "text/plain": [
              "        id                                              title  \\\n",
              "0  m0miqte                                               None   \n",
              "1  m0lmgzo                                               None   \n",
              "2  m0lvb3h                                               None   \n",
              "3  1h7i31g  My biggest fear for 2025 is declines becoming ...   \n",
              "4  m0m473e                                               None   \n",
              "\n",
              "                                                 url  subreddit  \\\n",
              "0                                               None  investing   \n",
              "1                                               None  investing   \n",
              "2                                               None  investing   \n",
              "3  https://www.reddit.com/r/investing/comments/1h...  investing   \n",
              "4                                               None  investing   \n",
              "\n",
              "          created_utc           parsed_utc  \\\n",
              "0 2024-12-05 23:58:30  2024-12-06 17:55:40   \n",
              "1 2024-12-05 21:00:41  2024-12-06 17:55:40   \n",
              "2 2024-12-05 21:46:35  2024-12-06 17:55:41   \n",
              "3 2024-12-05 19:53:10  2024-12-06 17:55:42   \n",
              "4 2024-12-05 22:33:54  2024-12-06 17:55:42   \n",
              "\n",
              "                                                text  score  num_comments  \\\n",
              "0  Depends on what type of debt. For example if i...      3           NaN   \n",
              "1                                       KAR and PRAA      1           NaN   \n",
              "2  36 years old, married but no kids yet. Have 90...      4           NaN   \n",
              "3  When has this not been a risk, it's why the ec...    102          92.0   \n",
              "4  I'm waiting for Tesla to pop. From there I spe...      1           NaN   \n",
              "\n",
              "         type  ...                                         clean_text  \\\n",
              "0     comment  ...  depends type debt. for example it’s debt mortg...   \n",
              "1     comment  ...                                           kar praa   \n",
              "2     comment  ...  36 years old, married kids yet. have 90% equit...   \n",
              "3  submission  ...  when risk, economy acts ratchet, going slow fa...   \n",
              "4     comment  ...  i'm waiting tesla pop. from i speculate automa...   \n",
              "\n",
              "                                      processed_text processed_text_length  \\\n",
              "0  depend type debt for exampl it debt mortgag at...                   594   \n",
              "1                                           kar praa                    12   \n",
              "2  year old marri kid yet have equiti short term ...                   433   \n",
              "3  when risk economi act ratchet go slow fast but...                  1362   \n",
              "4  i wait tesla pop from i specul automak tech bu...                   332   \n",
              "\n",
              "   sentiment_scores                                           entities  \\\n",
              "0           -0.0772  [PATH, FDIS, RPA, BTI, AMEX, Robotic Process A...   \n",
              "1            0.0000                                              [KAR]   \n",
              "2           -0.6652                               [ETH, VGT, QQQ, VOO]   \n",
              "3           -0.9131                               [Economics, fed, AI]   \n",
              "4           -0.1280                                        [Tesla, AI]   \n",
              "\n",
              "                                       doc_embedding      tickers ticker  \\\n",
              "0  [1.0175916, -0.26974982, -0.18348941, -0.53738...  [PATH, BTI]   PATH   \n",
              "1  [0.0036067592, -0.009290272, -0.0037351453, -0...        [KAR]    KAR   \n",
              "2  [0.24014705, -0.79617554, -0.21952175, 0.06111...   [ETH, QQQ]    QQQ   \n",
              "3  [0.36487904, -0.9539981, -0.13656119, -1.58051...         [AI]     AI   \n",
              "4  [0.4363078, -0.67959464, 0.8144916, 0.16138163...         [AI]     AI   \n",
              "\n",
              "  created_price    price_1d  \n",
              "0     14.940000   14.820000  \n",
              "1     20.250000   20.190001  \n",
              "2    521.799988  526.510010  \n",
              "3     37.490002   40.520000  \n",
              "4     37.490002   40.520000  \n",
              "\n",
              "[5 rows x 21 columns]"
            ],
            "text/html": [
              "\n",
              "  <div id=\"df-133ce735-51c9-4d61-879c-e2cf5e4f76d4\" class=\"colab-df-container\">\n",
              "    <div>\n",
              "<style scoped>\n",
              "    .dataframe tbody tr th:only-of-type {\n",
              "        vertical-align: middle;\n",
              "    }\n",
              "\n",
              "    .dataframe tbody tr th {\n",
              "        vertical-align: top;\n",
              "    }\n",
              "\n",
              "    .dataframe thead th {\n",
              "        text-align: right;\n",
              "    }\n",
              "</style>\n",
              "<table border=\"1\" class=\"dataframe\">\n",
              "  <thead>\n",
              "    <tr style=\"text-align: right;\">\n",
              "      <th></th>\n",
              "      <th>id</th>\n",
              "      <th>title</th>\n",
              "      <th>url</th>\n",
              "      <th>subreddit</th>\n",
              "      <th>created_utc</th>\n",
              "      <th>parsed_utc</th>\n",
              "      <th>text</th>\n",
              "      <th>score</th>\n",
              "      <th>num_comments</th>\n",
              "      <th>type</th>\n",
              "      <th>...</th>\n",
              "      <th>clean_text</th>\n",
              "      <th>processed_text</th>\n",
              "      <th>processed_text_length</th>\n",
              "      <th>sentiment_scores</th>\n",
              "      <th>entities</th>\n",
              "      <th>doc_embedding</th>\n",
              "      <th>tickers</th>\n",
              "      <th>ticker</th>\n",
              "      <th>created_price</th>\n",
              "      <th>price_1d</th>\n",
              "    </tr>\n",
              "  </thead>\n",
              "  <tbody>\n",
              "    <tr>\n",
              "      <th>0</th>\n",
              "      <td>m0miqte</td>\n",
              "      <td>None</td>\n",
              "      <td>None</td>\n",
              "      <td>investing</td>\n",
              "      <td>2024-12-05 23:58:30</td>\n",
              "      <td>2024-12-06 17:55:40</td>\n",
              "      <td>Depends on what type of debt. For example if i...</td>\n",
              "      <td>3</td>\n",
              "      <td>NaN</td>\n",
              "      <td>comment</td>\n",
              "      <td>...</td>\n",
              "      <td>depends type debt. for example it’s debt mortg...</td>\n",
              "      <td>depend type debt for exampl it debt mortgag at...</td>\n",
              "      <td>594</td>\n",
              "      <td>-0.0772</td>\n",
              "      <td>[PATH, FDIS, RPA, BTI, AMEX, Robotic Process A...</td>\n",
              "      <td>[1.0175916, -0.26974982, -0.18348941, -0.53738...</td>\n",
              "      <td>[PATH, BTI]</td>\n",
              "      <td>PATH</td>\n",
              "      <td>14.940000</td>\n",
              "      <td>14.820000</td>\n",
              "    </tr>\n",
              "    <tr>\n",
              "      <th>1</th>\n",
              "      <td>m0lmgzo</td>\n",
              "      <td>None</td>\n",
              "      <td>None</td>\n",
              "      <td>investing</td>\n",
              "      <td>2024-12-05 21:00:41</td>\n",
              "      <td>2024-12-06 17:55:40</td>\n",
              "      <td>KAR and PRAA</td>\n",
              "      <td>1</td>\n",
              "      <td>NaN</td>\n",
              "      <td>comment</td>\n",
              "      <td>...</td>\n",
              "      <td>kar praa</td>\n",
              "      <td>kar praa</td>\n",
              "      <td>12</td>\n",
              "      <td>0.0000</td>\n",
              "      <td>[KAR]</td>\n",
              "      <td>[0.0036067592, -0.009290272, -0.0037351453, -0...</td>\n",
              "      <td>[KAR]</td>\n",
              "      <td>KAR</td>\n",
              "      <td>20.250000</td>\n",
              "      <td>20.190001</td>\n",
              "    </tr>\n",
              "    <tr>\n",
              "      <th>2</th>\n",
              "      <td>m0lvb3h</td>\n",
              "      <td>None</td>\n",
              "      <td>None</td>\n",
              "      <td>investing</td>\n",
              "      <td>2024-12-05 21:46:35</td>\n",
              "      <td>2024-12-06 17:55:41</td>\n",
              "      <td>36 years old, married but no kids yet. Have 90...</td>\n",
              "      <td>4</td>\n",
              "      <td>NaN</td>\n",
              "      <td>comment</td>\n",
              "      <td>...</td>\n",
              "      <td>36 years old, married kids yet. have 90% equit...</td>\n",
              "      <td>year old marri kid yet have equiti short term ...</td>\n",
              "      <td>433</td>\n",
              "      <td>-0.6652</td>\n",
              "      <td>[ETH, VGT, QQQ, VOO]</td>\n",
              "      <td>[0.24014705, -0.79617554, -0.21952175, 0.06111...</td>\n",
              "      <td>[ETH, QQQ]</td>\n",
              "      <td>QQQ</td>\n",
              "      <td>521.799988</td>\n",
              "      <td>526.510010</td>\n",
              "    </tr>\n",
              "    <tr>\n",
              "      <th>3</th>\n",
              "      <td>1h7i31g</td>\n",
              "      <td>My biggest fear for 2025 is declines becoming ...</td>\n",
              "      <td>https://www.reddit.com/r/investing/comments/1h...</td>\n",
              "      <td>investing</td>\n",
              "      <td>2024-12-05 19:53:10</td>\n",
              "      <td>2024-12-06 17:55:42</td>\n",
              "      <td>When has this not been a risk, it's why the ec...</td>\n",
              "      <td>102</td>\n",
              "      <td>92.0</td>\n",
              "      <td>submission</td>\n",
              "      <td>...</td>\n",
              "      <td>when risk, economy acts ratchet, going slow fa...</td>\n",
              "      <td>when risk economi act ratchet go slow fast but...</td>\n",
              "      <td>1362</td>\n",
              "      <td>-0.9131</td>\n",
              "      <td>[Economics, fed, AI]</td>\n",
              "      <td>[0.36487904, -0.9539981, -0.13656119, -1.58051...</td>\n",
              "      <td>[AI]</td>\n",
              "      <td>AI</td>\n",
              "      <td>37.490002</td>\n",
              "      <td>40.520000</td>\n",
              "    </tr>\n",
              "    <tr>\n",
              "      <th>4</th>\n",
              "      <td>m0m473e</td>\n",
              "      <td>None</td>\n",
              "      <td>None</td>\n",
              "      <td>investing</td>\n",
              "      <td>2024-12-05 22:33:54</td>\n",
              "      <td>2024-12-06 17:55:42</td>\n",
              "      <td>I'm waiting for Tesla to pop. From there I spe...</td>\n",
              "      <td>1</td>\n",
              "      <td>NaN</td>\n",
              "      <td>comment</td>\n",
              "      <td>...</td>\n",
              "      <td>i'm waiting tesla pop. from i speculate automa...</td>\n",
              "      <td>i wait tesla pop from i specul automak tech bu...</td>\n",
              "      <td>332</td>\n",
              "      <td>-0.1280</td>\n",
              "      <td>[Tesla, AI]</td>\n",
              "      <td>[0.4363078, -0.67959464, 0.8144916, 0.16138163...</td>\n",
              "      <td>[AI]</td>\n",
              "      <td>AI</td>\n",
              "      <td>37.490002</td>\n",
              "      <td>40.520000</td>\n",
              "    </tr>\n",
              "  </tbody>\n",
              "</table>\n",
              "<p>5 rows × 21 columns</p>\n",
              "</div>\n",
              "    <div class=\"colab-df-buttons\">\n",
              "\n",
              "  <div class=\"colab-df-container\">\n",
              "    <button class=\"colab-df-convert\" onclick=\"convertToInteractive('df-133ce735-51c9-4d61-879c-e2cf5e4f76d4')\"\n",
              "            title=\"Convert this dataframe to an interactive table.\"\n",
              "            style=\"display:none;\">\n",
              "\n",
              "  <svg xmlns=\"http://www.w3.org/2000/svg\" height=\"24px\" viewBox=\"0 -960 960 960\">\n",
              "    <path d=\"M120-120v-720h720v720H120Zm60-500h600v-160H180v160Zm220 220h160v-160H400v160Zm0 220h160v-160H400v160ZM180-400h160v-160H180v160Zm440 0h160v-160H620v160ZM180-180h160v-160H180v160Zm440 0h160v-160H620v160Z\"/>\n",
              "  </svg>\n",
              "    </button>\n",
              "\n",
              "  <style>\n",
              "    .colab-df-container {\n",
              "      display:flex;\n",
              "      gap: 12px;\n",
              "    }\n",
              "\n",
              "    .colab-df-convert {\n",
              "      background-color: #E8F0FE;\n",
              "      border: none;\n",
              "      border-radius: 50%;\n",
              "      cursor: pointer;\n",
              "      display: none;\n",
              "      fill: #1967D2;\n",
              "      height: 32px;\n",
              "      padding: 0 0 0 0;\n",
              "      width: 32px;\n",
              "    }\n",
              "\n",
              "    .colab-df-convert:hover {\n",
              "      background-color: #E2EBFA;\n",
              "      box-shadow: 0px 1px 2px rgba(60, 64, 67, 0.3), 0px 1px 3px 1px rgba(60, 64, 67, 0.15);\n",
              "      fill: #174EA6;\n",
              "    }\n",
              "\n",
              "    .colab-df-buttons div {\n",
              "      margin-bottom: 4px;\n",
              "    }\n",
              "\n",
              "    [theme=dark] .colab-df-convert {\n",
              "      background-color: #3B4455;\n",
              "      fill: #D2E3FC;\n",
              "    }\n",
              "\n",
              "    [theme=dark] .colab-df-convert:hover {\n",
              "      background-color: #434B5C;\n",
              "      box-shadow: 0px 1px 3px 1px rgba(0, 0, 0, 0.15);\n",
              "      filter: drop-shadow(0px 1px 2px rgba(0, 0, 0, 0.3));\n",
              "      fill: #FFFFFF;\n",
              "    }\n",
              "  </style>\n",
              "\n",
              "    <script>\n",
              "      const buttonEl =\n",
              "        document.querySelector('#df-133ce735-51c9-4d61-879c-e2cf5e4f76d4 button.colab-df-convert');\n",
              "      buttonEl.style.display =\n",
              "        google.colab.kernel.accessAllowed ? 'block' : 'none';\n",
              "\n",
              "      async function convertToInteractive(key) {\n",
              "        const element = document.querySelector('#df-133ce735-51c9-4d61-879c-e2cf5e4f76d4');\n",
              "        const dataTable =\n",
              "          await google.colab.kernel.invokeFunction('convertToInteractive',\n",
              "                                                    [key], {});\n",
              "        if (!dataTable) return;\n",
              "\n",
              "        const docLinkHtml = 'Like what you see? Visit the ' +\n",
              "          '<a target=\"_blank\" href=https://colab.research.google.com/notebooks/data_table.ipynb>data table notebook</a>'\n",
              "          + ' to learn more about interactive tables.';\n",
              "        element.innerHTML = '';\n",
              "        dataTable['output_type'] = 'display_data';\n",
              "        await google.colab.output.renderOutput(dataTable, element);\n",
              "        const docLink = document.createElement('div');\n",
              "        docLink.innerHTML = docLinkHtml;\n",
              "        element.appendChild(docLink);\n",
              "      }\n",
              "    </script>\n",
              "  </div>\n",
              "\n",
              "\n",
              "<div id=\"df-2f55d009-f13d-4f8b-9d7f-24e087ffd300\">\n",
              "  <button class=\"colab-df-quickchart\" onclick=\"quickchart('df-2f55d009-f13d-4f8b-9d7f-24e087ffd300')\"\n",
              "            title=\"Suggest charts\"\n",
              "            style=\"display:none;\">\n",
              "\n",
              "<svg xmlns=\"http://www.w3.org/2000/svg\" height=\"24px\"viewBox=\"0 0 24 24\"\n",
              "     width=\"24px\">\n",
              "    <g>\n",
              "        <path d=\"M19 3H5c-1.1 0-2 .9-2 2v14c0 1.1.9 2 2 2h14c1.1 0 2-.9 2-2V5c0-1.1-.9-2-2-2zM9 17H7v-7h2v7zm4 0h-2V7h2v10zm4 0h-2v-4h2v4z\"/>\n",
              "    </g>\n",
              "</svg>\n",
              "  </button>\n",
              "\n",
              "<style>\n",
              "  .colab-df-quickchart {\n",
              "      --bg-color: #E8F0FE;\n",
              "      --fill-color: #1967D2;\n",
              "      --hover-bg-color: #E2EBFA;\n",
              "      --hover-fill-color: #174EA6;\n",
              "      --disabled-fill-color: #AAA;\n",
              "      --disabled-bg-color: #DDD;\n",
              "  }\n",
              "\n",
              "  [theme=dark] .colab-df-quickchart {\n",
              "      --bg-color: #3B4455;\n",
              "      --fill-color: #D2E3FC;\n",
              "      --hover-bg-color: #434B5C;\n",
              "      --hover-fill-color: #FFFFFF;\n",
              "      --disabled-bg-color: #3B4455;\n",
              "      --disabled-fill-color: #666;\n",
              "  }\n",
              "\n",
              "  .colab-df-quickchart {\n",
              "    background-color: var(--bg-color);\n",
              "    border: none;\n",
              "    border-radius: 50%;\n",
              "    cursor: pointer;\n",
              "    display: none;\n",
              "    fill: var(--fill-color);\n",
              "    height: 32px;\n",
              "    padding: 0;\n",
              "    width: 32px;\n",
              "  }\n",
              "\n",
              "  .colab-df-quickchart:hover {\n",
              "    background-color: var(--hover-bg-color);\n",
              "    box-shadow: 0 1px 2px rgba(60, 64, 67, 0.3), 0 1px 3px 1px rgba(60, 64, 67, 0.15);\n",
              "    fill: var(--button-hover-fill-color);\n",
              "  }\n",
              "\n",
              "  .colab-df-quickchart-complete:disabled,\n",
              "  .colab-df-quickchart-complete:disabled:hover {\n",
              "    background-color: var(--disabled-bg-color);\n",
              "    fill: var(--disabled-fill-color);\n",
              "    box-shadow: none;\n",
              "  }\n",
              "\n",
              "  .colab-df-spinner {\n",
              "    border: 2px solid var(--fill-color);\n",
              "    border-color: transparent;\n",
              "    border-bottom-color: var(--fill-color);\n",
              "    animation:\n",
              "      spin 1s steps(1) infinite;\n",
              "  }\n",
              "\n",
              "  @keyframes spin {\n",
              "    0% {\n",
              "      border-color: transparent;\n",
              "      border-bottom-color: var(--fill-color);\n",
              "      border-left-color: var(--fill-color);\n",
              "    }\n",
              "    20% {\n",
              "      border-color: transparent;\n",
              "      border-left-color: var(--fill-color);\n",
              "      border-top-color: var(--fill-color);\n",
              "    }\n",
              "    30% {\n",
              "      border-color: transparent;\n",
              "      border-left-color: var(--fill-color);\n",
              "      border-top-color: var(--fill-color);\n",
              "      border-right-color: var(--fill-color);\n",
              "    }\n",
              "    40% {\n",
              "      border-color: transparent;\n",
              "      border-right-color: var(--fill-color);\n",
              "      border-top-color: var(--fill-color);\n",
              "    }\n",
              "    60% {\n",
              "      border-color: transparent;\n",
              "      border-right-color: var(--fill-color);\n",
              "    }\n",
              "    80% {\n",
              "      border-color: transparent;\n",
              "      border-right-color: var(--fill-color);\n",
              "      border-bottom-color: var(--fill-color);\n",
              "    }\n",
              "    90% {\n",
              "      border-color: transparent;\n",
              "      border-bottom-color: var(--fill-color);\n",
              "    }\n",
              "  }\n",
              "</style>\n",
              "\n",
              "  <script>\n",
              "    async function quickchart(key) {\n",
              "      const quickchartButtonEl =\n",
              "        document.querySelector('#' + key + ' button');\n",
              "      quickchartButtonEl.disabled = true;  // To prevent multiple clicks.\n",
              "      quickchartButtonEl.classList.add('colab-df-spinner');\n",
              "      try {\n",
              "        const charts = await google.colab.kernel.invokeFunction(\n",
              "            'suggestCharts', [key], {});\n",
              "      } catch (error) {\n",
              "        console.error('Error during call to suggestCharts:', error);\n",
              "      }\n",
              "      quickchartButtonEl.classList.remove('colab-df-spinner');\n",
              "      quickchartButtonEl.classList.add('colab-df-quickchart-complete');\n",
              "    }\n",
              "    (() => {\n",
              "      let quickchartButtonEl =\n",
              "        document.querySelector('#df-2f55d009-f13d-4f8b-9d7f-24e087ffd300 button');\n",
              "      quickchartButtonEl.style.display =\n",
              "        google.colab.kernel.accessAllowed ? 'block' : 'none';\n",
              "    })();\n",
              "  </script>\n",
              "</div>\n",
              "\n",
              "    </div>\n",
              "  </div>\n"
            ],
            "application/vnd.google.colaboratory.intrinsic+json": {
              "type": "dataframe",
              "variable_name": "df"
            }
          },
          "metadata": {},
          "execution_count": 7
        }
      ],
      "source": [
        "df.head()"
      ]
    },
    {
      "cell_type": "markdown",
      "metadata": {
        "id": "NS0avWxcr26Z"
      },
      "source": [
        "# Data cleaning"
      ]
    },
    {
      "cell_type": "markdown",
      "metadata": {
        "id": "Nz_487P1tXqP"
      },
      "source": [
        "### Drop redundant columns"
      ]
    },
    {
      "cell_type": "code",
      "execution_count": null,
      "metadata": {
        "id": "JmXgH7sBsoss"
      },
      "outputs": [],
      "source": [
        "df.drop(columns=['id', 'title', 'url', 'created_utc', 'parsed_utc', 'text', 'parent_id', 'clean_text', 'processed_text', 'entities', 'tickers'], inplace=True)"
      ]
    },
    {
      "cell_type": "code",
      "execution_count": null,
      "metadata": {
        "colab": {
          "base_uri": "https://localhost:8080/",
          "height": 206
        },
        "id": "LnTzQ_xlvDw8",
        "outputId": "ade95b07-4391-439f-c2fc-0ad382cfac87"
      },
      "outputs": [
        {
          "output_type": "execute_result",
          "data": {
            "text/plain": [
              "   subreddit  score  num_comments        type  processed_text_length  \\\n",
              "0  investing      3           NaN     comment                    594   \n",
              "1  investing      1           NaN     comment                     12   \n",
              "2  investing      4           NaN     comment                    433   \n",
              "3  investing    102          92.0  submission                   1362   \n",
              "4  investing      1           NaN     comment                    332   \n",
              "\n",
              "   sentiment_scores                                      doc_embedding ticker  \\\n",
              "0           -0.0772  [1.0175916, -0.26974982, -0.18348941, -0.53738...   PATH   \n",
              "1            0.0000  [0.0036067592, -0.009290272, -0.0037351453, -0...    KAR   \n",
              "2           -0.6652  [0.24014705, -0.79617554, -0.21952175, 0.06111...    QQQ   \n",
              "3           -0.9131  [0.36487904, -0.9539981, -0.13656119, -1.58051...     AI   \n",
              "4           -0.1280  [0.4363078, -0.67959464, 0.8144916, 0.16138163...     AI   \n",
              "\n",
              "   created_price    price_1d  \n",
              "0      14.940000   14.820000  \n",
              "1      20.250000   20.190001  \n",
              "2     521.799988  526.510010  \n",
              "3      37.490002   40.520000  \n",
              "4      37.490002   40.520000  "
            ],
            "text/html": [
              "\n",
              "  <div id=\"df-264e8a7b-0ee0-4429-afc9-bc76137f8c9d\" class=\"colab-df-container\">\n",
              "    <div>\n",
              "<style scoped>\n",
              "    .dataframe tbody tr th:only-of-type {\n",
              "        vertical-align: middle;\n",
              "    }\n",
              "\n",
              "    .dataframe tbody tr th {\n",
              "        vertical-align: top;\n",
              "    }\n",
              "\n",
              "    .dataframe thead th {\n",
              "        text-align: right;\n",
              "    }\n",
              "</style>\n",
              "<table border=\"1\" class=\"dataframe\">\n",
              "  <thead>\n",
              "    <tr style=\"text-align: right;\">\n",
              "      <th></th>\n",
              "      <th>subreddit</th>\n",
              "      <th>score</th>\n",
              "      <th>num_comments</th>\n",
              "      <th>type</th>\n",
              "      <th>processed_text_length</th>\n",
              "      <th>sentiment_scores</th>\n",
              "      <th>doc_embedding</th>\n",
              "      <th>ticker</th>\n",
              "      <th>created_price</th>\n",
              "      <th>price_1d</th>\n",
              "    </tr>\n",
              "  </thead>\n",
              "  <tbody>\n",
              "    <tr>\n",
              "      <th>0</th>\n",
              "      <td>investing</td>\n",
              "      <td>3</td>\n",
              "      <td>NaN</td>\n",
              "      <td>comment</td>\n",
              "      <td>594</td>\n",
              "      <td>-0.0772</td>\n",
              "      <td>[1.0175916, -0.26974982, -0.18348941, -0.53738...</td>\n",
              "      <td>PATH</td>\n",
              "      <td>14.940000</td>\n",
              "      <td>14.820000</td>\n",
              "    </tr>\n",
              "    <tr>\n",
              "      <th>1</th>\n",
              "      <td>investing</td>\n",
              "      <td>1</td>\n",
              "      <td>NaN</td>\n",
              "      <td>comment</td>\n",
              "      <td>12</td>\n",
              "      <td>0.0000</td>\n",
              "      <td>[0.0036067592, -0.009290272, -0.0037351453, -0...</td>\n",
              "      <td>KAR</td>\n",
              "      <td>20.250000</td>\n",
              "      <td>20.190001</td>\n",
              "    </tr>\n",
              "    <tr>\n",
              "      <th>2</th>\n",
              "      <td>investing</td>\n",
              "      <td>4</td>\n",
              "      <td>NaN</td>\n",
              "      <td>comment</td>\n",
              "      <td>433</td>\n",
              "      <td>-0.6652</td>\n",
              "      <td>[0.24014705, -0.79617554, -0.21952175, 0.06111...</td>\n",
              "      <td>QQQ</td>\n",
              "      <td>521.799988</td>\n",
              "      <td>526.510010</td>\n",
              "    </tr>\n",
              "    <tr>\n",
              "      <th>3</th>\n",
              "      <td>investing</td>\n",
              "      <td>102</td>\n",
              "      <td>92.0</td>\n",
              "      <td>submission</td>\n",
              "      <td>1362</td>\n",
              "      <td>-0.9131</td>\n",
              "      <td>[0.36487904, -0.9539981, -0.13656119, -1.58051...</td>\n",
              "      <td>AI</td>\n",
              "      <td>37.490002</td>\n",
              "      <td>40.520000</td>\n",
              "    </tr>\n",
              "    <tr>\n",
              "      <th>4</th>\n",
              "      <td>investing</td>\n",
              "      <td>1</td>\n",
              "      <td>NaN</td>\n",
              "      <td>comment</td>\n",
              "      <td>332</td>\n",
              "      <td>-0.1280</td>\n",
              "      <td>[0.4363078, -0.67959464, 0.8144916, 0.16138163...</td>\n",
              "      <td>AI</td>\n",
              "      <td>37.490002</td>\n",
              "      <td>40.520000</td>\n",
              "    </tr>\n",
              "  </tbody>\n",
              "</table>\n",
              "</div>\n",
              "    <div class=\"colab-df-buttons\">\n",
              "\n",
              "  <div class=\"colab-df-container\">\n",
              "    <button class=\"colab-df-convert\" onclick=\"convertToInteractive('df-264e8a7b-0ee0-4429-afc9-bc76137f8c9d')\"\n",
              "            title=\"Convert this dataframe to an interactive table.\"\n",
              "            style=\"display:none;\">\n",
              "\n",
              "  <svg xmlns=\"http://www.w3.org/2000/svg\" height=\"24px\" viewBox=\"0 -960 960 960\">\n",
              "    <path d=\"M120-120v-720h720v720H120Zm60-500h600v-160H180v160Zm220 220h160v-160H400v160Zm0 220h160v-160H400v160ZM180-400h160v-160H180v160Zm440 0h160v-160H620v160ZM180-180h160v-160H180v160Zm440 0h160v-160H620v160Z\"/>\n",
              "  </svg>\n",
              "    </button>\n",
              "\n",
              "  <style>\n",
              "    .colab-df-container {\n",
              "      display:flex;\n",
              "      gap: 12px;\n",
              "    }\n",
              "\n",
              "    .colab-df-convert {\n",
              "      background-color: #E8F0FE;\n",
              "      border: none;\n",
              "      border-radius: 50%;\n",
              "      cursor: pointer;\n",
              "      display: none;\n",
              "      fill: #1967D2;\n",
              "      height: 32px;\n",
              "      padding: 0 0 0 0;\n",
              "      width: 32px;\n",
              "    }\n",
              "\n",
              "    .colab-df-convert:hover {\n",
              "      background-color: #E2EBFA;\n",
              "      box-shadow: 0px 1px 2px rgba(60, 64, 67, 0.3), 0px 1px 3px 1px rgba(60, 64, 67, 0.15);\n",
              "      fill: #174EA6;\n",
              "    }\n",
              "\n",
              "    .colab-df-buttons div {\n",
              "      margin-bottom: 4px;\n",
              "    }\n",
              "\n",
              "    [theme=dark] .colab-df-convert {\n",
              "      background-color: #3B4455;\n",
              "      fill: #D2E3FC;\n",
              "    }\n",
              "\n",
              "    [theme=dark] .colab-df-convert:hover {\n",
              "      background-color: #434B5C;\n",
              "      box-shadow: 0px 1px 3px 1px rgba(0, 0, 0, 0.15);\n",
              "      filter: drop-shadow(0px 1px 2px rgba(0, 0, 0, 0.3));\n",
              "      fill: #FFFFFF;\n",
              "    }\n",
              "  </style>\n",
              "\n",
              "    <script>\n",
              "      const buttonEl =\n",
              "        document.querySelector('#df-264e8a7b-0ee0-4429-afc9-bc76137f8c9d button.colab-df-convert');\n",
              "      buttonEl.style.display =\n",
              "        google.colab.kernel.accessAllowed ? 'block' : 'none';\n",
              "\n",
              "      async function convertToInteractive(key) {\n",
              "        const element = document.querySelector('#df-264e8a7b-0ee0-4429-afc9-bc76137f8c9d');\n",
              "        const dataTable =\n",
              "          await google.colab.kernel.invokeFunction('convertToInteractive',\n",
              "                                                    [key], {});\n",
              "        if (!dataTable) return;\n",
              "\n",
              "        const docLinkHtml = 'Like what you see? Visit the ' +\n",
              "          '<a target=\"_blank\" href=https://colab.research.google.com/notebooks/data_table.ipynb>data table notebook</a>'\n",
              "          + ' to learn more about interactive tables.';\n",
              "        element.innerHTML = '';\n",
              "        dataTable['output_type'] = 'display_data';\n",
              "        await google.colab.output.renderOutput(dataTable, element);\n",
              "        const docLink = document.createElement('div');\n",
              "        docLink.innerHTML = docLinkHtml;\n",
              "        element.appendChild(docLink);\n",
              "      }\n",
              "    </script>\n",
              "  </div>\n",
              "\n",
              "\n",
              "<div id=\"df-9b984e9b-e195-4ea4-841e-f4e3e89d6690\">\n",
              "  <button class=\"colab-df-quickchart\" onclick=\"quickchart('df-9b984e9b-e195-4ea4-841e-f4e3e89d6690')\"\n",
              "            title=\"Suggest charts\"\n",
              "            style=\"display:none;\">\n",
              "\n",
              "<svg xmlns=\"http://www.w3.org/2000/svg\" height=\"24px\"viewBox=\"0 0 24 24\"\n",
              "     width=\"24px\">\n",
              "    <g>\n",
              "        <path d=\"M19 3H5c-1.1 0-2 .9-2 2v14c0 1.1.9 2 2 2h14c1.1 0 2-.9 2-2V5c0-1.1-.9-2-2-2zM9 17H7v-7h2v7zm4 0h-2V7h2v10zm4 0h-2v-4h2v4z\"/>\n",
              "    </g>\n",
              "</svg>\n",
              "  </button>\n",
              "\n",
              "<style>\n",
              "  .colab-df-quickchart {\n",
              "      --bg-color: #E8F0FE;\n",
              "      --fill-color: #1967D2;\n",
              "      --hover-bg-color: #E2EBFA;\n",
              "      --hover-fill-color: #174EA6;\n",
              "      --disabled-fill-color: #AAA;\n",
              "      --disabled-bg-color: #DDD;\n",
              "  }\n",
              "\n",
              "  [theme=dark] .colab-df-quickchart {\n",
              "      --bg-color: #3B4455;\n",
              "      --fill-color: #D2E3FC;\n",
              "      --hover-bg-color: #434B5C;\n",
              "      --hover-fill-color: #FFFFFF;\n",
              "      --disabled-bg-color: #3B4455;\n",
              "      --disabled-fill-color: #666;\n",
              "  }\n",
              "\n",
              "  .colab-df-quickchart {\n",
              "    background-color: var(--bg-color);\n",
              "    border: none;\n",
              "    border-radius: 50%;\n",
              "    cursor: pointer;\n",
              "    display: none;\n",
              "    fill: var(--fill-color);\n",
              "    height: 32px;\n",
              "    padding: 0;\n",
              "    width: 32px;\n",
              "  }\n",
              "\n",
              "  .colab-df-quickchart:hover {\n",
              "    background-color: var(--hover-bg-color);\n",
              "    box-shadow: 0 1px 2px rgba(60, 64, 67, 0.3), 0 1px 3px 1px rgba(60, 64, 67, 0.15);\n",
              "    fill: var(--button-hover-fill-color);\n",
              "  }\n",
              "\n",
              "  .colab-df-quickchart-complete:disabled,\n",
              "  .colab-df-quickchart-complete:disabled:hover {\n",
              "    background-color: var(--disabled-bg-color);\n",
              "    fill: var(--disabled-fill-color);\n",
              "    box-shadow: none;\n",
              "  }\n",
              "\n",
              "  .colab-df-spinner {\n",
              "    border: 2px solid var(--fill-color);\n",
              "    border-color: transparent;\n",
              "    border-bottom-color: var(--fill-color);\n",
              "    animation:\n",
              "      spin 1s steps(1) infinite;\n",
              "  }\n",
              "\n",
              "  @keyframes spin {\n",
              "    0% {\n",
              "      border-color: transparent;\n",
              "      border-bottom-color: var(--fill-color);\n",
              "      border-left-color: var(--fill-color);\n",
              "    }\n",
              "    20% {\n",
              "      border-color: transparent;\n",
              "      border-left-color: var(--fill-color);\n",
              "      border-top-color: var(--fill-color);\n",
              "    }\n",
              "    30% {\n",
              "      border-color: transparent;\n",
              "      border-left-color: var(--fill-color);\n",
              "      border-top-color: var(--fill-color);\n",
              "      border-right-color: var(--fill-color);\n",
              "    }\n",
              "    40% {\n",
              "      border-color: transparent;\n",
              "      border-right-color: var(--fill-color);\n",
              "      border-top-color: var(--fill-color);\n",
              "    }\n",
              "    60% {\n",
              "      border-color: transparent;\n",
              "      border-right-color: var(--fill-color);\n",
              "    }\n",
              "    80% {\n",
              "      border-color: transparent;\n",
              "      border-right-color: var(--fill-color);\n",
              "      border-bottom-color: var(--fill-color);\n",
              "    }\n",
              "    90% {\n",
              "      border-color: transparent;\n",
              "      border-bottom-color: var(--fill-color);\n",
              "    }\n",
              "  }\n",
              "</style>\n",
              "\n",
              "  <script>\n",
              "    async function quickchart(key) {\n",
              "      const quickchartButtonEl =\n",
              "        document.querySelector('#' + key + ' button');\n",
              "      quickchartButtonEl.disabled = true;  // To prevent multiple clicks.\n",
              "      quickchartButtonEl.classList.add('colab-df-spinner');\n",
              "      try {\n",
              "        const charts = await google.colab.kernel.invokeFunction(\n",
              "            'suggestCharts', [key], {});\n",
              "      } catch (error) {\n",
              "        console.error('Error during call to suggestCharts:', error);\n",
              "      }\n",
              "      quickchartButtonEl.classList.remove('colab-df-spinner');\n",
              "      quickchartButtonEl.classList.add('colab-df-quickchart-complete');\n",
              "    }\n",
              "    (() => {\n",
              "      let quickchartButtonEl =\n",
              "        document.querySelector('#df-9b984e9b-e195-4ea4-841e-f4e3e89d6690 button');\n",
              "      quickchartButtonEl.style.display =\n",
              "        google.colab.kernel.accessAllowed ? 'block' : 'none';\n",
              "    })();\n",
              "  </script>\n",
              "</div>\n",
              "\n",
              "    </div>\n",
              "  </div>\n"
            ],
            "application/vnd.google.colaboratory.intrinsic+json": {
              "type": "dataframe",
              "variable_name": "df",
              "summary": "{\n  \"name\": \"df\",\n  \"rows\": 8416,\n  \"fields\": [\n    {\n      \"column\": \"subreddit\",\n      \"properties\": {\n        \"dtype\": \"category\",\n        \"num_unique_values\": 7,\n        \"samples\": [\n          \"investing\",\n          \"stocks\",\n          \"algotrading\"\n        ],\n        \"semantic_type\": \"\",\n        \"description\": \"\"\n      }\n    },\n    {\n      \"column\": \"score\",\n      \"properties\": {\n        \"dtype\": \"number\",\n        \"std\": 165,\n        \"min\": -40,\n        \"max\": 12015,\n        \"num_unique_values\": 279,\n        \"samples\": [\n          55,\n          374,\n          127\n        ],\n        \"semantic_type\": \"\",\n        \"description\": \"\"\n      }\n    },\n    {\n      \"column\": \"num_comments\",\n      \"properties\": {\n        \"dtype\": \"number\",\n        \"std\": 109.7396531511356,\n        \"min\": 0.0,\n        \"max\": 1654.0,\n        \"num_unique_values\": 159,\n        \"samples\": [\n          33.0,\n          62.0,\n          436.0\n        ],\n        \"semantic_type\": \"\",\n        \"description\": \"\"\n      }\n    },\n    {\n      \"column\": \"type\",\n      \"properties\": {\n        \"dtype\": \"category\",\n        \"num_unique_values\": 2,\n        \"samples\": [\n          \"submission\",\n          \"comment\"\n        ],\n        \"semantic_type\": \"\",\n        \"description\": \"\"\n      }\n    },\n    {\n      \"column\": \"processed_text_length\",\n      \"properties\": {\n        \"dtype\": \"number\",\n        \"std\": 971,\n        \"min\": 1,\n        \"max\": 29179,\n        \"num_unique_values\": 1549,\n        \"samples\": [\n          1735,\n          908\n        ],\n        \"semantic_type\": \"\",\n        \"description\": \"\"\n      }\n    },\n    {\n      \"column\": \"sentiment_scores\",\n      \"properties\": {\n        \"dtype\": \"number\",\n        \"std\": 0.5174077143580027,\n        \"min\": -0.9875,\n        \"max\": 0.9999,\n        \"num_unique_values\": 2590,\n        \"samples\": [\n          0.7684,\n          0.1511\n        ],\n        \"semantic_type\": \"\",\n        \"description\": \"\"\n      }\n    },\n    {\n      \"column\": \"doc_embedding\",\n      \"properties\": {\n        \"dtype\": \"object\",\n        \"semantic_type\": \"\",\n        \"description\": \"\"\n      }\n    },\n    {\n      \"column\": \"ticker\",\n      \"properties\": {\n        \"dtype\": \"category\",\n        \"num_unique_values\": 810,\n        \"samples\": [\n          \"CROX\",\n          \"MSN\"\n        ],\n        \"semantic_type\": \"\",\n        \"description\": \"\"\n      }\n    },\n    {\n      \"column\": \"created_price\",\n      \"properties\": {\n        \"dtype\": \"number\",\n        \"std\": 810.7749294261544,\n        \"min\": 0.00039999998989515007,\n        \"max\": 6098.240234375,\n        \"num_unique_values\": 3759,\n        \"samples\": [\n          71.55999755859375,\n          69.25\n        ],\n        \"semantic_type\": \"\",\n        \"description\": \"\"\n      }\n    },\n    {\n      \"column\": \"price_1d\",\n      \"properties\": {\n        \"dtype\": \"number\",\n        \"std\": 803.8962166361397,\n        \"min\": 0.00039999998989515007,\n        \"max\": 6098.240234375,\n        \"num_unique_values\": 3782,\n        \"samples\": [\n          46.18000030517578,\n          37.70000076293945\n        ],\n        \"semantic_type\": \"\",\n        \"description\": \"\"\n      }\n    }\n  ]\n}"
            }
          },
          "metadata": {},
          "execution_count": 9
        }
      ],
      "source": [
        "df.head()"
      ]
    },
    {
      "cell_type": "code",
      "execution_count": null,
      "metadata": {
        "colab": {
          "base_uri": "https://localhost:8080/",
          "height": 490
        },
        "id": "c5rwgFskKRzJ",
        "outputId": "db2ae926-cc8d-4d38-b291-36f7a01371e9"
      },
      "outputs": [
        {
          "output_type": "execute_result",
          "data": {
            "text/plain": [
              "ticker\n",
              "NVDA    757\n",
              "MSTR    756\n",
              "ACHR    650\n",
              "AI      588\n",
              "SPY     501\n",
              "       ... \n",
              "EVTL      1\n",
              "IAUM      1\n",
              "HALO      1\n",
              "UUUU      1\n",
              "JFIN      1\n",
              "Name: count, Length: 810, dtype: int64"
            ],
            "text/html": [
              "<div>\n",
              "<style scoped>\n",
              "    .dataframe tbody tr th:only-of-type {\n",
              "        vertical-align: middle;\n",
              "    }\n",
              "\n",
              "    .dataframe tbody tr th {\n",
              "        vertical-align: top;\n",
              "    }\n",
              "\n",
              "    .dataframe thead th {\n",
              "        text-align: right;\n",
              "    }\n",
              "</style>\n",
              "<table border=\"1\" class=\"dataframe\">\n",
              "  <thead>\n",
              "    <tr style=\"text-align: right;\">\n",
              "      <th></th>\n",
              "      <th>count</th>\n",
              "    </tr>\n",
              "    <tr>\n",
              "      <th>ticker</th>\n",
              "      <th></th>\n",
              "    </tr>\n",
              "  </thead>\n",
              "  <tbody>\n",
              "    <tr>\n",
              "      <th>NVDA</th>\n",
              "      <td>757</td>\n",
              "    </tr>\n",
              "    <tr>\n",
              "      <th>MSTR</th>\n",
              "      <td>756</td>\n",
              "    </tr>\n",
              "    <tr>\n",
              "      <th>ACHR</th>\n",
              "      <td>650</td>\n",
              "    </tr>\n",
              "    <tr>\n",
              "      <th>AI</th>\n",
              "      <td>588</td>\n",
              "    </tr>\n",
              "    <tr>\n",
              "      <th>SPY</th>\n",
              "      <td>501</td>\n",
              "    </tr>\n",
              "    <tr>\n",
              "      <th>...</th>\n",
              "      <td>...</td>\n",
              "    </tr>\n",
              "    <tr>\n",
              "      <th>EVTL</th>\n",
              "      <td>1</td>\n",
              "    </tr>\n",
              "    <tr>\n",
              "      <th>IAUM</th>\n",
              "      <td>1</td>\n",
              "    </tr>\n",
              "    <tr>\n",
              "      <th>HALO</th>\n",
              "      <td>1</td>\n",
              "    </tr>\n",
              "    <tr>\n",
              "      <th>UUUU</th>\n",
              "      <td>1</td>\n",
              "    </tr>\n",
              "    <tr>\n",
              "      <th>JFIN</th>\n",
              "      <td>1</td>\n",
              "    </tr>\n",
              "  </tbody>\n",
              "</table>\n",
              "<p>810 rows × 1 columns</p>\n",
              "</div><br><label><b>dtype:</b> int64</label>"
            ]
          },
          "metadata": {},
          "execution_count": 10
        }
      ],
      "source": [
        "df['ticker'].value_counts()"
      ]
    },
    {
      "cell_type": "markdown",
      "metadata": {
        "id": "8hdq0q1Jvvfz"
      },
      "source": [
        "### Fill missing values"
      ]
    },
    {
      "cell_type": "code",
      "execution_count": null,
      "metadata": {
        "colab": {
          "base_uri": "https://localhost:8080/"
        },
        "id": "_JaTIlctvjfO",
        "outputId": "4b360f7c-eadb-4584-cacd-d5747730e97d"
      },
      "outputs": [
        {
          "output_type": "stream",
          "name": "stdout",
          "text": [
            "<class 'pandas.core.frame.DataFrame'>\n",
            "RangeIndex: 8416 entries, 0 to 8415\n",
            "Data columns (total 10 columns):\n",
            " #   Column                 Non-Null Count  Dtype  \n",
            "---  ------                 --------------  -----  \n",
            " 0   subreddit              8416 non-null   object \n",
            " 1   score                  8416 non-null   int64  \n",
            " 2   num_comments           847 non-null    float64\n",
            " 3   type                   8416 non-null   object \n",
            " 4   processed_text_length  8416 non-null   int64  \n",
            " 5   sentiment_scores       8416 non-null   float64\n",
            " 6   doc_embedding          8416 non-null   object \n",
            " 7   ticker                 8416 non-null   object \n",
            " 8   created_price          8416 non-null   float64\n",
            " 9   price_1d               8416 non-null   float64\n",
            "dtypes: float64(4), int64(2), object(4)\n",
            "memory usage: 657.6+ KB\n"
          ]
        }
      ],
      "source": [
        "df.info()"
      ]
    },
    {
      "cell_type": "code",
      "execution_count": null,
      "metadata": {
        "id": "YJJ6iqLnv0Dy"
      },
      "outputs": [],
      "source": [
        "df['num_comments'] = df['num_comments'].fillna(0)"
      ]
    },
    {
      "cell_type": "markdown",
      "metadata": {
        "id": "KXWdxDiF5LCD"
      },
      "source": [
        "# Regression"
      ]
    },
    {
      "cell_type": "markdown",
      "metadata": {
        "id": "U6TiRyMr_jVE"
      },
      "source": [
        "### Use embedding mean for linear regression"
      ]
    },
    {
      "cell_type": "code",
      "execution_count": null,
      "metadata": {
        "id": "vorrA_XA5KcT"
      },
      "outputs": [],
      "source": [
        "df_em = df.copy()\n",
        "df_em['embedding_mean'] = df['doc_embedding'].apply(lambda x: np.mean(x))\n",
        "df_em.drop(columns=['doc_embedding'], inplace=True)"
      ]
    },
    {
      "cell_type": "code",
      "execution_count": null,
      "metadata": {
        "colab": {
          "base_uri": "https://localhost:8080/",
          "height": 596
        },
        "id": "SR0oLRkZ-T3z",
        "outputId": "2b40b280-632f-46dc-e04f-614a8f1dc99a"
      },
      "outputs": [
        {
          "data": {
            "text/plain": [
              "<Axes: >"
            ]
          },
          "execution_count": 18,
          "metadata": {},
          "output_type": "execute_result"
        },
        {
          "data": {
            "image/png": "[encoded data removed]",
            "text/plain": [
              "<Figure size 640x480 with 2 Axes>"
            ]
          },
          "metadata": {},
          "output_type": "display_data"
        }
      ],
      "source": [
        "sns.heatmap(df.corr(numeric_only=True), annot=True)"
      ]
    },
    {
      "cell_type": "markdown",
      "metadata": {
        "id": "6BkqfuPP7nuP"
      },
      "source": [
        "### Calculate regression target as price change percentage and remove outliers"
      ]
    },
    {
      "cell_type": "code",
      "execution_count": null,
      "metadata": {
        "id": "bbcx3bCh5UHQ"
      },
      "outputs": [],
      "source": [
        "df_em['target'] = ((df_em['price_1d'] - df_em['created_price'])/df_em['created_price']) * 100"
      ]
    },
    {
      "cell_type": "code",
      "execution_count": null,
      "metadata": {
        "id": "r10dhmhe_hxn"
      },
      "outputs": [],
      "source": [
        "df_em = df_em[df_em['target'] > -100]\n",
        "df_em = df_em[df_em['target'] < 100]"
      ]
    },
    {
      "cell_type": "code",
      "execution_count": null,
      "metadata": {
        "colab": {
          "base_uri": "https://localhost:8080/",
          "height": 640
        },
        "id": "3Bqx8tvow8jP",
        "outputId": "0fdf451c-148c-42ed-a252-5d03d66062d8"
      },
      "outputs": [
        {
          "data": {
            "text/plain": [
              "array([[<Axes: title={'center': 'target'}>]], dtype=object)"
            ]
          },
          "execution_count": 21,
          "metadata": {},
          "output_type": "execute_result"
        },
        {
          "data": {
            "image/png": "[encoded data removed]",
            "text/plain": [
              "<Figure size 1500x700 with 1 Axes>"
            ]
          },
          "metadata": {},
          "output_type": "display_data"
        }
      ],
      "source": [
        "df_em.hist('target', bins=200, figsize=(15, 7))"
      ]
    },
    {
      "cell_type": "markdown",
      "metadata": {
        "id": "-LkHt4ZX538N"
      },
      "source": [
        "## Regression baseline"
      ]
    },
    {
      "cell_type": "code",
      "execution_count": null,
      "metadata": {
        "id": "KUs0B_u255zF"
      },
      "outputs": [],
      "source": [
        "X_train, X_test, y_train, y_test = train_test_split(df_em.drop(columns=['target', 'price_1d']), df_em['target'], test_size=0.2, random_state=69)\n",
        "X_train['baseline'] = y_train.median()"
      ]
    },
    {
      "cell_type": "code",
      "execution_count": null,
      "metadata": {
        "colab": {
          "base_uri": "https://localhost:8080/"
        },
        "id": "WxG1gkDR9NFU",
        "outputId": "480b5b5c-0313-4782-fda5-9722bcc099e0"
      },
      "outputs": [
        {
          "name": "stdout",
          "output_type": "stream",
          "text": [
            "RMSE baseline: 8.74043427063015\n",
            "R2 baseline: -0.0001449942765967549\n",
            "MAE baseline: 4.0811469425353355\n",
            "MAPE baseline: 313308683953.5865\n"
          ]
        }
      ],
      "source": [
        "X_test['baseline'] = y_train.median()\n",
        "\n",
        "RMSE = root_mean_squared_error(y_test, X_test['baseline'])\n",
        "R2 = r2_score(y_test, X_test['baseline'])\n",
        "MAE = mean_absolute_error(y_test, X_test['baseline'])\n",
        "MAPE = mean_absolute_percentage_error(y_test, X_test['baseline'])\n",
        "\n",
        "print(f\"RMSE baseline: {RMSE}\")\n",
        "print(f\"R2 baseline: {R2}\")\n",
        "print(f\"MAE baseline: {MAE}\")\n",
        "print(f\"MAPE baseline: {MAPE}\")"
      ]
    },
    {
      "cell_type": "markdown",
      "metadata": {
        "id": "Bg_BMwxrwqYI"
      },
      "source": [
        "## Experiment 1: LR, OHE tickers"
      ]
    },
    {
      "cell_type": "code",
      "execution_count": null,
      "metadata": {
        "id": "inbqD9_uz_Rd"
      },
      "outputs": [],
      "source": [
        "X_train, X_test, y_train, y_test = train_test_split(df_em.drop(columns=['target', 'price_1d']), df_em['target'], test_size=0.2, random_state=69)"
      ]
    },
    {
      "cell_type": "code",
      "execution_count": null,
      "metadata": {
        "id": "VhjkNpp4yMcf"
      },
      "outputs": [],
      "source": [
        "ohe = OneHotEncoder(drop='first', handle_unknown='ignore', sparse_output=False)\n",
        "\n",
        "X_train_encoded = ohe.fit_transform(X_train[['subreddit', 'type', 'ticker']])\n",
        "\n",
        "X_train_encoded = pd.DataFrame(X_train_encoded, columns=ohe.get_feature_names_out(), index=X_train.index)"
      ]
    },
    {
      "cell_type": "code",
      "execution_count": null,
      "metadata": {
        "colab": {
          "base_uri": "https://localhost:8080/"
        },
        "id": "Ucr0782J2dc9",
        "outputId": "b4eb3f28-8114-4636-f502-bfd62ce2532c"
      },
      "outputs": [
        {
          "data": {
            "text/plain": [
              "(6726, 718)"
            ]
          },
          "execution_count": 127,
          "metadata": {},
          "output_type": "execute_result"
        }
      ],
      "source": [
        "X_train = pd.concat([X_train, X_train_encoded], axis=1)\n",
        "X_train.drop(columns=['subreddit', 'type', 'ticker'], inplace=True)\n",
        "X_train.shape"
      ]
    },
    {
      "cell_type": "code",
      "execution_count": null,
      "metadata": {
        "colab": {
          "base_uri": "https://localhost:8080/"
        },
        "id": "l-Q6bBCz2t6q",
        "outputId": "a96167f5-1335-419a-f843-a3945f6dcb22"
      },
      "outputs": [
        {
          "name": "stderr",
          "output_type": "stream",
          "text": [
            "/usr/local/lib/python3.10/dist-packages/sklearn/preprocessing/_encoders.py:242: UserWarning: Found unknown categories in columns [2] during transform. These unknown categories will be encoded as all zeros\n",
            "  warnings.warn(\n"
          ]
        },
        {
          "data": {
            "text/plain": [
              "(1682, 718)"
            ]
          },
          "execution_count": 128,
          "metadata": {},
          "output_type": "execute_result"
        }
      ],
      "source": [
        "X_test_encoded = ohe.transform(X_test[['subreddit', 'type', 'ticker']])\n",
        "\n",
        "X_test_encoded = pd.DataFrame(X_test_encoded, columns=ohe.get_feature_names_out(), index=X_test.index)\n",
        "\n",
        "X_test = pd.concat([X_test, X_test_encoded], axis=1)\n",
        "X_test.drop(columns=['subreddit', 'type', 'ticker'], inplace=True)\n",
        "\n",
        "X_test.shape"
      ]
    },
    {
      "cell_type": "code",
      "execution_count": null,
      "metadata": {
        "id": "80PfKupqVC3q"
      },
      "outputs": [],
      "source": [
        "ss = StandardScaler()\n",
        "X_train_scaled = ss.fit_transform(X_train)\n",
        "X_test_scaled = ss.transform(X_test)\n",
        "\n",
        "X_train = pd.DataFrame(X_train_scaled, columns=ss.get_feature_names_out(), index=X_train.index)\n",
        "X_test = pd.DataFrame(X_test_scaled, columns=ss.get_feature_names_out(), index=X_test.index)"
      ]
    },
    {
      "cell_type": "code",
      "execution_count": null,
      "metadata": {
        "colab": {
          "base_uri": "https://localhost:8080/"
        },
        "id": "AP8zbUsO3YQT",
        "outputId": "d54c2fbf-a445-46f8-d639-9392ed98ff1a"
      },
      "outputs": [
        {
          "name": "stdout",
          "output_type": "stream",
          "text": [
            "RMSE_train: 6.2255653503348345\n",
            "R2_train: 0.30025619829290273\n",
            "MAE_train: 3.3404977361584423\n",
            "MAPE_train: 4417711597652.801\n",
            "-------------------------\n",
            "RMSE_test: 8.048546026214133\n",
            "R2_test: 0.1519297918769299\n",
            "MAE_test: 4.262733521618125\n",
            "MAPE_test: 5973959166614.119\n"
          ]
        }
      ],
      "source": [
        "lr = LinearRegression()\n",
        "lr.fit(X_train, y_train)\n",
        "\n",
        "pred_train = lr.predict(X_train)\n",
        "pred_test = lr.predict(X_test)\n",
        "\n",
        "RMSE_train = root_mean_squared_error(y_train, pred_train)\n",
        "R2_train = r2_score(y_train, pred_train)\n",
        "MAE_train = mean_absolute_error(y_train, pred_train)\n",
        "MAPE_train = mean_absolute_percentage_error(y_train, pred_train)\n",
        "\n",
        "RMSE_test = root_mean_squared_error(y_test, pred_test)\n",
        "R2_test = r2_score(y_test, pred_test)\n",
        "MAE_test = mean_absolute_error(y_test, pred_test)\n",
        "MAPE_test = mean_absolute_percentage_error(y_test, pred_test)\n",
        "\n",
        "print(f\"RMSE_train: {RMSE_train}\")\n",
        "print(f\"R2_train: {R2_train}\")\n",
        "print(f\"MAE_train: {MAE_train}\")\n",
        "print(f\"MAPE_train: {MAPE_train}\")\n",
        "print(\"-------------------------\")\n",
        "print(f\"RMSE_test: {RMSE_test}\")\n",
        "print(f\"R2_test: {R2_test}\")\n",
        "print(f\"MAE_test: {MAE_test}\")\n",
        "print(f\"MAPE_test: {MAPE_test}\")"
      ]
    },
    {
      "cell_type": "markdown",
      "metadata": {
        "id": "SkFwA61o8QtP"
      },
      "source": [
        "## Experiment 2: LR, drop tickers"
      ]
    },
    {
      "cell_type": "code",
      "execution_count": null,
      "metadata": {
        "id": "ezX0Glru8z8i"
      },
      "outputs": [],
      "source": [
        "X_train, X_test, y_train, y_test = train_test_split(df_em.drop(columns=['target', 'price_1d']), df_em['target'], test_size=0.2, random_state=69)"
      ]
    },
    {
      "cell_type": "code",
      "execution_count": null,
      "metadata": {
        "id": "ijqcxs9Z8z8i"
      },
      "outputs": [],
      "source": [
        "ohe = OneHotEncoder(drop='first', handle_unknown='ignore', sparse_output=False)\n",
        "\n",
        "X_train_encoded = ohe.fit_transform(X_train[['subreddit', 'type']])\n",
        "\n",
        "X_train_encoded = pd.DataFrame(X_train_encoded, columns=ohe.get_feature_names_out(), index=X_train.index)"
      ]
    },
    {
      "cell_type": "code",
      "execution_count": null,
      "metadata": {
        "colab": {
          "base_uri": "https://localhost:8080/"
        },
        "id": "j1qFTe-x8z8j",
        "outputId": "2695c289-b7e7-4a1b-8205-ff41cb190964"
      },
      "outputs": [
        {
          "data": {
            "text/plain": [
              "(6726, 13)"
            ]
          },
          "execution_count": 133,
          "metadata": {},
          "output_type": "execute_result"
        }
      ],
      "source": [
        "X_train = pd.concat([X_train, X_train_encoded], axis=1)\n",
        "X_train.drop(columns=['subreddit', 'type', 'ticker'], inplace=True)\n",
        "X_train.shape"
      ]
    },
    {
      "cell_type": "code",
      "execution_count": null,
      "metadata": {
        "colab": {
          "base_uri": "https://localhost:8080/"
        },
        "id": "AH4nvU2T8z8j",
        "outputId": "5e5d65ba-6b22-4f88-9a9f-a6ebe4512663"
      },
      "outputs": [
        {
          "data": {
            "text/plain": [
              "(1682, 13)"
            ]
          },
          "execution_count": 134,
          "metadata": {},
          "output_type": "execute_result"
        }
      ],
      "source": [
        "X_test_encoded = ohe.transform(X_test[['subreddit', 'type']])\n",
        "\n",
        "X_test_encoded = pd.DataFrame(X_test_encoded, columns=ohe.get_feature_names_out(), index=X_test.index)\n",
        "\n",
        "X_test = pd.concat([X_test, X_test_encoded], axis=1)\n",
        "X_test.drop(columns=['subreddit', 'type', 'ticker'], inplace=True)\n",
        "\n",
        "X_test.shape"
      ]
    },
    {
      "cell_type": "code",
      "execution_count": null,
      "metadata": {
        "id": "pgmyph2fVVO7"
      },
      "outputs": [],
      "source": [
        "ss = StandardScaler()\n",
        "X_train_scaled = ss.fit_transform(X_train)\n",
        "X_test_scaled = ss.transform(X_test)\n",
        "\n",
        "X_train = pd.DataFrame(X_train_scaled, columns=ss.get_feature_names_out(), index=X_train.index)\n",
        "X_test = pd.DataFrame(X_test_scaled, columns=ss.get_feature_names_out(), index=X_test.index)"
      ]
    },
    {
      "cell_type": "code",
      "execution_count": null,
      "metadata": {
        "colab": {
          "base_uri": "https://localhost:8080/"
        },
        "id": "XJrS3WTw9FIf",
        "outputId": "af2108b3-5fdb-4668-f027-8100f03cd19b"
      },
      "outputs": [
        {
          "name": "stdout",
          "output_type": "stream",
          "text": [
            "RMSE_train: 7.423334354553378\n",
            "R2_train: 0.005099814831342364\n",
            "MAE_train: 3.8305584769836445\n",
            "MAPE_train: 5463511917987.38\n",
            "-------------------------\n",
            "RMSE_test: 8.714644180500525\n",
            "R2_test: 0.005748482930035603\n",
            "MAE_test: 4.1777863336987915\n",
            "MAPE_test: 2290938515847.97\n"
          ]
        }
      ],
      "source": [
        "lr = LinearRegression()\n",
        "lr.fit(X_train, y_train)\n",
        "\n",
        "pred_train = lr.predict(X_train)\n",
        "pred_test = lr.predict(X_test)\n",
        "\n",
        "RMSE_train = root_mean_squared_error(y_train, pred_train)\n",
        "R2_train = r2_score(y_train, pred_train)\n",
        "MAE_train = mean_absolute_error(y_train, pred_train)\n",
        "MAPE_train = mean_absolute_percentage_error(y_train, pred_train)\n",
        "\n",
        "RMSE_test = root_mean_squared_error(y_test, pred_test)\n",
        "R2_test = r2_score(y_test, pred_test)\n",
        "MAE_test = mean_absolute_error(y_test, pred_test)\n",
        "MAPE_test = mean_absolute_percentage_error(y_test, pred_test)\n",
        "\n",
        "print(f\"RMSE_train: {RMSE_train}\")\n",
        "print(f\"R2_train: {R2_train}\")\n",
        "print(f\"MAE_train: {MAE_train}\")\n",
        "print(f\"MAPE_train: {MAPE_train}\")\n",
        "print(\"-------------------------\")\n",
        "print(f\"RMSE_test: {RMSE_test}\")\n",
        "print(f\"R2_test: {R2_test}\")\n",
        "print(f\"MAE_test: {MAE_test}\")\n",
        "print(f\"MAPE_test: {MAPE_test}\")"
      ]
    },
    {
      "cell_type": "markdown",
      "metadata": {
        "id": "25XTh1FsA7iP"
      },
      "source": [
        "## Experiment 3: Ridge, OHE tickers"
      ]
    },
    {
      "cell_type": "code",
      "execution_count": null,
      "metadata": {
        "id": "oXGq3y1kBG6x"
      },
      "outputs": [],
      "source": [
        "X_train, X_test, y_train, y_test = train_test_split(df_em.drop(columns=['target', 'price_1d']), df_em['target'], test_size=0.2, random_state=69)"
      ]
    },
    {
      "cell_type": "code",
      "execution_count": null,
      "metadata": {
        "id": "DT69FAtHBG6x"
      },
      "outputs": [],
      "source": [
        "ohe = OneHotEncoder(drop='first', handle_unknown='ignore', sparse_output=False)\n",
        "\n",
        "X_train_encoded = ohe.fit_transform(X_train[['subreddit', 'type', 'ticker']])\n",
        "\n",
        "X_train_encoded = pd.DataFrame(X_train_encoded, columns=ohe.get_feature_names_out(), index=X_train.index)"
      ]
    },
    {
      "cell_type": "code",
      "execution_count": null,
      "metadata": {
        "colab": {
          "base_uri": "https://localhost:8080/"
        },
        "id": "Hq4t-HWwBG6x",
        "outputId": "40d7633f-6d18-446b-aabe-710d27d6b741"
      },
      "outputs": [
        {
          "data": {
            "text/plain": [
              "(6726, 718)"
            ]
          },
          "execution_count": 140,
          "metadata": {},
          "output_type": "execute_result"
        }
      ],
      "source": [
        "X_train = pd.concat([X_train, X_train_encoded], axis=1)\n",
        "X_train.drop(columns=['subreddit', 'type', 'ticker'], inplace=True)\n",
        "X_train.shape"
      ]
    },
    {
      "cell_type": "code",
      "execution_count": null,
      "metadata": {
        "colab": {
          "base_uri": "https://localhost:8080/"
        },
        "id": "i_LNu9weBG6x",
        "outputId": "aac02e2d-16ef-43da-9097-7bbe50a7bc6a"
      },
      "outputs": [
        {
          "name": "stderr",
          "output_type": "stream",
          "text": [
            "/usr/local/lib/python3.10/dist-packages/sklearn/preprocessing/_encoders.py:242: UserWarning: Found unknown categories in columns [2] during transform. These unknown categories will be encoded as all zeros\n",
            "  warnings.warn(\n"
          ]
        },
        {
          "data": {
            "text/plain": [
              "(1682, 718)"
            ]
          },
          "execution_count": 141,
          "metadata": {},
          "output_type": "execute_result"
        }
      ],
      "source": [
        "X_test_encoded = ohe.transform(X_test[['subreddit', 'type', 'ticker']])\n",
        "\n",
        "X_test_encoded = pd.DataFrame(X_test_encoded, columns=ohe.get_feature_names_out(), index=X_test.index)\n",
        "\n",
        "X_test = pd.concat([X_test, X_test_encoded], axis=1)\n",
        "X_test.drop(columns=['subreddit', 'type', 'ticker'], inplace=True)\n",
        "\n",
        "X_test.shape"
      ]
    },
    {
      "cell_type": "code",
      "execution_count": null,
      "metadata": {
        "id": "Hn7ol2NRVmuM"
      },
      "outputs": [],
      "source": [
        "ss = StandardScaler()\n",
        "X_train_scaled = ss.fit_transform(X_train)\n",
        "X_test_scaled = ss.transform(X_test)\n",
        "\n",
        "X_train = pd.DataFrame(X_train_scaled, columns=ss.get_feature_names_out(), index=X_train.index)\n",
        "X_test = pd.DataFrame(X_test_scaled, columns=ss.get_feature_names_out(), index=X_test.index)"
      ]
    },
    {
      "cell_type": "code",
      "execution_count": null,
      "metadata": {
        "colab": {
          "base_uri": "https://localhost:8080/",
          "height": 136
        },
        "id": "esXAFkYPA0qV",
        "outputId": "b9490d76-f421-4cba-e287-0650ba55f7b1"
      },
      "outputs": [
        {
          "data": {
            "text/html": [
              "<style>#sk-container-id-1 {\n",
              "  /* Definition of color scheme common for light and dark mode */\n",
              "  --sklearn-color-text: black;\n",
              "  --sklearn-color-line: gray;\n",
              "  /* Definition of color scheme for unfitted estimators */\n",
              "  --sklearn-color-unfitted-level-0: #fff5e6;\n",
              "  --sklearn-color-unfitted-level-1: #f6e4d2;\n",
              "  --sklearn-color-unfitted-level-2: #ffe0b3;\n",
              "  --sklearn-color-unfitted-level-3: chocolate;\n",
              "  /* Definition of color scheme for fitted estimators */\n",
              "  --sklearn-color-fitted-level-0: #f0f8ff;\n",
              "  --sklearn-color-fitted-level-1: #d4ebff;\n",
              "  --sklearn-color-fitted-level-2: #b3dbfd;\n",
              "  --sklearn-color-fitted-level-3: cornflowerblue;\n",
              "\n",
              "  /* Specific color for light theme */\n",
              "  --sklearn-color-text-on-default-background: var(--sg-text-color, var(--theme-code-foreground, var(--jp-content-font-color1, black)));\n",
              "  --sklearn-color-background: var(--sg-background-color, var(--theme-background, var(--jp-layout-color0, white)));\n",
              "  --sklearn-color-border-box: var(--sg-text-color, var(--theme-code-foreground, var(--jp-content-font-color1, black)));\n",
              "  --sklearn-color-icon: #696969;\n",
              "\n",
              "  @media (prefers-color-scheme: dark) {\n",
              "    /* Redefinition of color scheme for dark theme */\n",
              "    --sklearn-color-text-on-default-background: var(--sg-text-color, var(--theme-code-foreground, var(--jp-content-font-color1, white)));\n",
              "    --sklearn-color-background: var(--sg-background-color, var(--theme-background, var(--jp-layout-color0, #111)));\n",
              "    --sklearn-color-border-box: var(--sg-text-color, var(--theme-code-foreground, var(--jp-content-font-color1, white)));\n",
              "    --sklearn-color-icon: #878787;\n",
              "  }\n",
              "}\n",
              "\n",
              "#sk-container-id-1 {\n",
              "  color: var(--sklearn-color-text);\n",
              "}\n",
              "\n",
              "#sk-container-id-1 pre {\n",
              "  padding: 0;\n",
              "}\n",
              "\n",
              "#sk-container-id-1 input.sk-hidden--visually {\n",
              "  border: 0;\n",
              "  clip: rect(1px 1px 1px 1px);\n",
              "  clip: rect(1px, 1px, 1px, 1px);\n",
              "  height: 1px;\n",
              "  margin: -1px;\n",
              "  overflow: hidden;\n",
              "  padding: 0;\n",
              "  position: absolute;\n",
              "  width: 1px;\n",
              "}\n",
              "\n",
              "#sk-container-id-1 div.sk-dashed-wrapped {\n",
              "  border: 1px dashed var(--sklearn-color-line);\n",
              "  margin: 0 0.4em 0.5em 0.4em;\n",
              "  box-sizing: border-box;\n",
              "  padding-bottom: 0.4em;\n",
              "  background-color: var(--sklearn-color-background);\n",
              "}\n",
              "\n",
              "#sk-container-id-1 div.sk-container {\n",
              "  /* jupyter's `normalize.less` sets `[hidden] { display: none; }`\n",
              "     but bootstrap.min.css set `[hidden] { display: none !important; }`\n",
              "     so we also need the `!important` here to be able to override the\n",
              "     default hidden behavior on the sphinx rendered scikit-learn.org.\n",
              "     See: https://github.com/scikit-learn/scikit-learn/issues/21755 */\n",
              "  display: inline-block !important;\n",
              "  position: relative;\n",
              "}\n",
              "\n",
              "#sk-container-id-1 div.sk-text-repr-fallback {\n",
              "  display: none;\n",
              "}\n",
              "\n",
              "div.sk-parallel-item,\n",
              "div.sk-serial,\n",
              "div.sk-item {\n",
              "  /* draw centered vertical line to link estimators */\n",
              "  background-image: linear-gradient(var(--sklearn-color-text-on-default-background), var(--sklearn-color-text-on-default-background));\n",
              "  background-size: 2px 100%;\n",
              "  background-repeat: no-repeat;\n",
              "  background-position: center center;\n",
              "}\n",
              "\n",
              "/* Parallel-specific style estimator block */\n",
              "\n",
              "#sk-container-id-1 div.sk-parallel-item::after {\n",
              "  content: \"\";\n",
              "  width: 100%;\n",
              "  border-bottom: 2px solid var(--sklearn-color-text-on-default-background);\n",
              "  flex-grow: 1;\n",
              "}\n",
              "\n",
              "#sk-container-id-1 div.sk-parallel {\n",
              "  display: flex;\n",
              "  align-items: stretch;\n",
              "  justify-content: center;\n",
              "  background-color: var(--sklearn-color-background);\n",
              "  position: relative;\n",
              "}\n",
              "\n",
              "#sk-container-id-1 div.sk-parallel-item {\n",
              "  display: flex;\n",
              "  flex-direction: column;\n",
              "}\n",
              "\n",
              "#sk-container-id-1 div.sk-parallel-item:first-child::after {\n",
              "  align-self: flex-end;\n",
              "  width: 50%;\n",
              "}\n",
              "\n",
              "#sk-container-id-1 div.sk-parallel-item:last-child::after {\n",
              "  align-self: flex-start;\n",
              "  width: 50%;\n",
              "}\n",
              "\n",
              "#sk-container-id-1 div.sk-parallel-item:only-child::after {\n",
              "  width: 0;\n",
              "}\n",
              "\n",
              "/* Serial-specific style estimator block */\n",
              "\n",
              "#sk-container-id-1 div.sk-serial {\n",
              "  display: flex;\n",
              "  flex-direction: column;\n",
              "  align-items: center;\n",
              "  background-color: var(--sklearn-color-background);\n",
              "  padding-right: 1em;\n",
              "  padding-left: 1em;\n",
              "}\n",
              "\n",
              "\n",
              "/* Toggleable style: style used for estimator/Pipeline/ColumnTransformer box that is\n",
              "clickable and can be expanded/collapsed.\n",
              "- Pipeline and ColumnTransformer use this feature and define the default style\n",
              "- Estimators will overwrite some part of the style using the `sk-estimator` class\n",
              "*/\n",
              "\n",
              "/* Pipeline and ColumnTransformer style (default) */\n",
              "\n",
              "#sk-container-id-1 div.sk-toggleable {\n",
              "  /* Default theme specific background. It is overwritten whether we have a\n",
              "  specific estimator or a Pipeline/ColumnTransformer */\n",
              "  background-color: var(--sklearn-color-background);\n",
              "}\n",
              "\n",
              "/* Toggleable label */\n",
              "#sk-container-id-1 label.sk-toggleable__label {\n",
              "  cursor: pointer;\n",
              "  display: block;\n",
              "  width: 100%;\n",
              "  margin-bottom: 0;\n",
              "  padding: 0.5em;\n",
              "  box-sizing: border-box;\n",
              "  text-align: center;\n",
              "}\n",
              "\n",
              "#sk-container-id-1 label.sk-toggleable__label-arrow:before {\n",
              "  /* Arrow on the left of the label */\n",
              "  content: \"▸\";\n",
              "  float: left;\n",
              "  margin-right: 0.25em;\n",
              "  color: var(--sklearn-color-icon);\n",
              "}\n",
              "\n",
              "#sk-container-id-1 label.sk-toggleable__label-arrow:hover:before {\n",
              "  color: var(--sklearn-color-text);\n",
              "}\n",
              "\n",
              "/* Toggleable content - dropdown */\n",
              "\n",
              "#sk-container-id-1 div.sk-toggleable__content {\n",
              "  max-height: 0;\n",
              "  max-width: 0;\n",
              "  overflow: hidden;\n",
              "  text-align: left;\n",
              "  /* unfitted */\n",
              "  background-color: var(--sklearn-color-unfitted-level-0);\n",
              "}\n",
              "\n",
              "#sk-container-id-1 div.sk-toggleable__content.fitted {\n",
              "  /* fitted */\n",
              "  background-color: var(--sklearn-color-fitted-level-0);\n",
              "}\n",
              "\n",
              "#sk-container-id-1 div.sk-toggleable__content pre {\n",
              "  margin: 0.2em;\n",
              "  border-radius: 0.25em;\n",
              "  color: var(--sklearn-color-text);\n",
              "  /* unfitted */\n",
              "  background-color: var(--sklearn-color-unfitted-level-0);\n",
              "}\n",
              "\n",
              "#sk-container-id-1 div.sk-toggleable__content.fitted pre {\n",
              "  /* unfitted */\n",
              "  background-color: var(--sklearn-color-fitted-level-0);\n",
              "}\n",
              "\n",
              "#sk-container-id-1 input.sk-toggleable__control:checked~div.sk-toggleable__content {\n",
              "  /* Expand drop-down */\n",
              "  max-height: 200px;\n",
              "  max-width: 100%;\n",
              "  overflow: auto;\n",
              "}\n",
              "\n",
              "#sk-container-id-1 input.sk-toggleable__control:checked~label.sk-toggleable__label-arrow:before {\n",
              "  content: \"▾\";\n",
              "}\n",
              "\n",
              "/* Pipeline/ColumnTransformer-specific style */\n",
              "\n",
              "#sk-container-id-1 div.sk-label input.sk-toggleable__control:checked~label.sk-toggleable__label {\n",
              "  color: var(--sklearn-color-text);\n",
              "  background-color: var(--sklearn-color-unfitted-level-2);\n",
              "}\n",
              "\n",
              "#sk-container-id-1 div.sk-label.fitted input.sk-toggleable__control:checked~label.sk-toggleable__label {\n",
              "  background-color: var(--sklearn-color-fitted-level-2);\n",
              "}\n",
              "\n",
              "/* Estimator-specific style */\n",
              "\n",
              "/* Colorize estimator box */\n",
              "#sk-container-id-1 div.sk-estimator input.sk-toggleable__control:checked~label.sk-toggleable__label {\n",
              "  /* unfitted */\n",
              "  background-color: var(--sklearn-color-unfitted-level-2);\n",
              "}\n",
              "\n",
              "#sk-container-id-1 div.sk-estimator.fitted input.sk-toggleable__control:checked~label.sk-toggleable__label {\n",
              "  /* fitted */\n",
              "  background-color: var(--sklearn-color-fitted-level-2);\n",
              "}\n",
              "\n",
              "#sk-container-id-1 div.sk-label label.sk-toggleable__label,\n",
              "#sk-container-id-1 div.sk-label label {\n",
              "  /* The background is the default theme color */\n",
              "  color: var(--sklearn-color-text-on-default-background);\n",
              "}\n",
              "\n",
              "/* On hover, darken the color of the background */\n",
              "#sk-container-id-1 div.sk-label:hover label.sk-toggleable__label {\n",
              "  color: var(--sklearn-color-text);\n",
              "  background-color: var(--sklearn-color-unfitted-level-2);\n",
              "}\n",
              "\n",
              "/* Label box, darken color on hover, fitted */\n",
              "#sk-container-id-1 div.sk-label.fitted:hover label.sk-toggleable__label.fitted {\n",
              "  color: var(--sklearn-color-text);\n",
              "  background-color: var(--sklearn-color-fitted-level-2);\n",
              "}\n",
              "\n",
              "/* Estimator label */\n",
              "\n",
              "#sk-container-id-1 div.sk-label label {\n",
              "  font-family: monospace;\n",
              "  font-weight: bold;\n",
              "  display: inline-block;\n",
              "  line-height: 1.2em;\n",
              "}\n",
              "\n",
              "#sk-container-id-1 div.sk-label-container {\n",
              "  text-align: center;\n",
              "}\n",
              "\n",
              "/* Estimator-specific */\n",
              "#sk-container-id-1 div.sk-estimator {\n",
              "  font-family: monospace;\n",
              "  border: 1px dotted var(--sklearn-color-border-box);\n",
              "  border-radius: 0.25em;\n",
              "  box-sizing: border-box;\n",
              "  margin-bottom: 0.5em;\n",
              "  /* unfitted */\n",
              "  background-color: var(--sklearn-color-unfitted-level-0);\n",
              "}\n",
              "\n",
              "#sk-container-id-1 div.sk-estimator.fitted {\n",
              "  /* fitted */\n",
              "  background-color: var(--sklearn-color-fitted-level-0);\n",
              "}\n",
              "\n",
              "/* on hover */\n",
              "#sk-container-id-1 div.sk-estimator:hover {\n",
              "  /* unfitted */\n",
              "  background-color: var(--sklearn-color-unfitted-level-2);\n",
              "}\n",
              "\n",
              "#sk-container-id-1 div.sk-estimator.fitted:hover {\n",
              "  /* fitted */\n",
              "  background-color: var(--sklearn-color-fitted-level-2);\n",
              "}\n",
              "\n",
              "/* Specification for estimator info (e.g. \"i\" and \"?\") */\n",
              "\n",
              "/* Common style for \"i\" and \"?\" */\n",
              "\n",
              ".sk-estimator-doc-link,\n",
              "a:link.sk-estimator-doc-link,\n",
              "a:visited.sk-estimator-doc-link {\n",
              "  float: right;\n",
              "  font-size: smaller;\n",
              "  line-height: 1em;\n",
              "  font-family: monospace;\n",
              "  background-color: var(--sklearn-color-background);\n",
              "  border-radius: 1em;\n",
              "  height: 1em;\n",
              "  width: 1em;\n",
              "  text-decoration: none !important;\n",
              "  margin-left: 1ex;\n",
              "  /* unfitted */\n",
              "  border: var(--sklearn-color-unfitted-level-1) 1pt solid;\n",
              "  color: var(--sklearn-color-unfitted-level-1);\n",
              "}\n",
              "\n",
              ".sk-estimator-doc-link.fitted,\n",
              "a:link.sk-estimator-doc-link.fitted,\n",
              "a:visited.sk-estimator-doc-link.fitted {\n",
              "  /* fitted */\n",
              "  border: var(--sklearn-color-fitted-level-1) 1pt solid;\n",
              "  color: var(--sklearn-color-fitted-level-1);\n",
              "}\n",
              "\n",
              "/* On hover */\n",
              "div.sk-estimator:hover .sk-estimator-doc-link:hover,\n",
              ".sk-estimator-doc-link:hover,\n",
              "div.sk-label-container:hover .sk-estimator-doc-link:hover,\n",
              ".sk-estimator-doc-link:hover {\n",
              "  /* unfitted */\n",
              "  background-color: var(--sklearn-color-unfitted-level-3);\n",
              "  color: var(--sklearn-color-background);\n",
              "  text-decoration: none;\n",
              "}\n",
              "\n",
              "div.sk-estimator.fitted:hover .sk-estimator-doc-link.fitted:hover,\n",
              ".sk-estimator-doc-link.fitted:hover,\n",
              "div.sk-label-container:hover .sk-estimator-doc-link.fitted:hover,\n",
              ".sk-estimator-doc-link.fitted:hover {\n",
              "  /* fitted */\n",
              "  background-color: var(--sklearn-color-fitted-level-3);\n",
              "  color: var(--sklearn-color-background);\n",
              "  text-decoration: none;\n",
              "}\n",
              "\n",
              "/* Span, style for the box shown on hovering the info icon */\n",
              ".sk-estimator-doc-link span {\n",
              "  display: none;\n",
              "  z-index: 9999;\n",
              "  position: relative;\n",
              "  font-weight: normal;\n",
              "  right: .2ex;\n",
              "  padding: .5ex;\n",
              "  margin: .5ex;\n",
              "  width: min-content;\n",
              "  min-width: 20ex;\n",
              "  max-width: 50ex;\n",
              "  color: var(--sklearn-color-text);\n",
              "  box-shadow: 2pt 2pt 4pt #999;\n",
              "  /* unfitted */\n",
              "  background: var(--sklearn-color-unfitted-level-0);\n",
              "  border: .5pt solid var(--sklearn-color-unfitted-level-3);\n",
              "}\n",
              "\n",
              ".sk-estimator-doc-link.fitted span {\n",
              "  /* fitted */\n",
              "  background: var(--sklearn-color-fitted-level-0);\n",
              "  border: var(--sklearn-color-fitted-level-3);\n",
              "}\n",
              "\n",
              ".sk-estimator-doc-link:hover span {\n",
              "  display: block;\n",
              "}\n",
              "\n",
              "/* \"?\"-specific style due to the `<a>` HTML tag */\n",
              "\n",
              "#sk-container-id-1 a.estimator_doc_link {\n",
              "  float: right;\n",
              "  font-size: 1rem;\n",
              "  line-height: 1em;\n",
              "  font-family: monospace;\n",
              "  background-color: var(--sklearn-color-background);\n",
              "  border-radius: 1rem;\n",
              "  height: 1rem;\n",
              "  width: 1rem;\n",
              "  text-decoration: none;\n",
              "  /* unfitted */\n",
              "  color: var(--sklearn-color-unfitted-level-1);\n",
              "  border: var(--sklearn-color-unfitted-level-1) 1pt solid;\n",
              "}\n",
              "\n",
              "#sk-container-id-1 a.estimator_doc_link.fitted {\n",
              "  /* fitted */\n",
              "  border: var(--sklearn-color-fitted-level-1) 1pt solid;\n",
              "  color: var(--sklearn-color-fitted-level-1);\n",
              "}\n",
              "\n",
              "/* On hover */\n",
              "#sk-container-id-1 a.estimator_doc_link:hover {\n",
              "  /* unfitted */\n",
              "  background-color: var(--sklearn-color-unfitted-level-3);\n",
              "  color: var(--sklearn-color-background);\n",
              "  text-decoration: none;\n",
              "}\n",
              "\n",
              "#sk-container-id-1 a.estimator_doc_link.fitted:hover {\n",
              "  /* fitted */\n",
              "  background-color: var(--sklearn-color-fitted-level-3);\n",
              "}\n",
              "</style><div id=\"sk-container-id-1\" class=\"sk-top-container\"><div class=\"sk-text-repr-fallback\"><pre>GridSearchCV(cv=10, estimator=Ridge(), n_jobs=-1,\n",
              "             param_grid={&#x27;alpha&#x27;: [0.001, 0.01, 0.1, 1, 10, 100, 1000, 10000,\n",
              "                                   100000, 1000000]},\n",
              "             scoring=&#x27;r2&#x27;)</pre><b>In a Jupyter environment, please rerun this cell to show the HTML representation or trust the notebook. <br />On GitHub, the HTML representation is unable to render, please try loading this page with nbviewer.org.</b></div><div class=\"sk-container\" hidden><div class=\"sk-item sk-dashed-wrapped\"><div class=\"sk-label-container\"><div class=\"sk-label fitted sk-toggleable\"><input class=\"sk-toggleable__control sk-hidden--visually\" id=\"sk-estimator-id-1\" type=\"checkbox\" ><label for=\"sk-estimator-id-1\" class=\"sk-toggleable__label fitted sk-toggleable__label-arrow fitted\">&nbsp;&nbsp;GridSearchCV<a class=\"sk-estimator-doc-link fitted\" rel=\"noreferrer\" target=\"_blank\" href=\"https://scikit-learn.org/1.5/modules/generated/sklearn.model_selection.GridSearchCV.html\">?<span>Documentation for GridSearchCV</span></a><span class=\"sk-estimator-doc-link fitted\">i<span>Fitted</span></span></label><div class=\"sk-toggleable__content fitted\"><pre>GridSearchCV(cv=10, estimator=Ridge(), n_jobs=-1,\n",
              "             param_grid={&#x27;alpha&#x27;: [0.001, 0.01, 0.1, 1, 10, 100, 1000, 10000,\n",
              "                                   100000, 1000000]},\n",
              "             scoring=&#x27;r2&#x27;)</pre></div> </div></div><div class=\"sk-parallel\"><div class=\"sk-parallel-item\"><div class=\"sk-item\"><div class=\"sk-label-container\"><div class=\"sk-label fitted sk-toggleable\"><input class=\"sk-toggleable__control sk-hidden--visually\" id=\"sk-estimator-id-2\" type=\"checkbox\" ><label for=\"sk-estimator-id-2\" class=\"sk-toggleable__label fitted sk-toggleable__label-arrow fitted\">best_estimator_: Ridge</label><div class=\"sk-toggleable__content fitted\"><pre>Ridge(alpha=100)</pre></div> </div></div><div class=\"sk-serial\"><div class=\"sk-item\"><div class=\"sk-estimator fitted sk-toggleable\"><input class=\"sk-toggleable__control sk-hidden--visually\" id=\"sk-estimator-id-3\" type=\"checkbox\" ><label for=\"sk-estimator-id-3\" class=\"sk-toggleable__label fitted sk-toggleable__label-arrow fitted\">&nbsp;Ridge<a class=\"sk-estimator-doc-link fitted\" rel=\"noreferrer\" target=\"_blank\" href=\"https://scikit-learn.org/1.5/modules/generated/sklearn.linear_model.Ridge.html\">?<span>Documentation for Ridge</span></a></label><div class=\"sk-toggleable__content fitted\"><pre>Ridge(alpha=100)</pre></div> </div></div></div></div></div></div></div></div></div>"
            ],
            "text/plain": [
              "GridSearchCV(cv=10, estimator=Ridge(), n_jobs=-1,\n",
              "             param_grid={'alpha': [0.001, 0.01, 0.1, 1, 10, 100, 1000, 10000,\n",
              "                                   100000, 1000000]},\n",
              "             scoring='r2')"
            ]
          },
          "execution_count": 143,
          "metadata": {},
          "output_type": "execute_result"
        }
      ],
      "source": [
        "\n",
        "ridge = Ridge()\n",
        "\n",
        "param_grid = {'alpha': [0.001, 0.01, 0.1, 1, 10, 100, 1000, 10000, 100000, 1000000]}\n",
        "\n",
        "gs = GridSearchCV(ridge, param_grid, n_jobs=-1, cv=10, scoring='r2')\n",
        "gs.fit(X_train, y_train)"
      ]
    },
    {
      "cell_type": "code",
      "execution_count": null,
      "metadata": {
        "colab": {
          "base_uri": "https://localhost:8080/"
        },
        "id": "tchqEQoFBP_a",
        "outputId": "7ac72488-044a-4a05-e22f-96ebaf3ac42c"
      },
      "outputs": [
        {
          "name": "stdout",
          "output_type": "stream",
          "text": [
            "RMSE_train: 6.474575672786115\n",
            "R2_train: 0.24315997769975117\n",
            "MAE_train: 3.3718951348219344\n",
            "MAPE_train: 4622321170403.398\n",
            "-------------------------\n",
            "RMSE_test: 7.912323550020209\n",
            "R2_test: 0.1803942068668809\n",
            "MAE_test: 4.034797722471261\n",
            "MAPE_test: 6373067140765.547\n"
          ]
        }
      ],
      "source": [
        "best_grid = gs.best_estimator_\n",
        "\n",
        "pred_train = best_grid.predict(X_train)\n",
        "pred_test = best_grid.predict(X_test)\n",
        "\n",
        "RMSE_train = root_mean_squared_error(y_train, pred_train)\n",
        "R2_train = r2_score(y_train, pred_train)\n",
        "MAE_train = mean_absolute_error(y_train, pred_train)\n",
        "MAPE_train = mean_absolute_percentage_error(y_train, pred_train)\n",
        "\n",
        "RMSE_test = root_mean_squared_error(y_test, pred_test)\n",
        "R2_test = r2_score(y_test, pred_test)\n",
        "MAE_test = mean_absolute_error(y_test, pred_test)\n",
        "MAPE_test = mean_absolute_percentage_error(y_test, pred_test)\n",
        "\n",
        "print(f\"RMSE_train: {RMSE_train}\")\n",
        "print(f\"R2_train: {R2_train}\")\n",
        "print(f\"MAE_train: {MAE_train}\")\n",
        "print(f\"MAPE_train: {MAPE_train}\")\n",
        "print(\"-------------------------\")\n",
        "print(f\"RMSE_test: {RMSE_test}\")\n",
        "print(f\"R2_test: {R2_test}\")\n",
        "print(f\"MAE_test: {MAE_test}\")\n",
        "print(f\"MAPE_test: {MAPE_test}\")"
      ]
    },
    {
      "cell_type": "markdown",
      "metadata": {
        "id": "Z2-hYSXJSDU-"
      },
      "source": [
        "## Experiment 4: LR, drop low-freq tickers and apply OHE, drop embeddings"
      ]
    },
    {
      "cell_type": "code",
      "execution_count": null,
      "metadata": {
        "id": "bX4960TySPXU"
      },
      "outputs": [],
      "source": [
        "X_train, X_test, y_train, y_test = train_test_split(df_em.drop(columns=['target', 'price_1d', 'embedding_mean']), df_em['target'], test_size=0.2, random_state=69)"
      ]
    },
    {
      "cell_type": "code",
      "execution_count": null,
      "metadata": {
        "id": "yl3WfYMYSToE"
      },
      "outputs": [],
      "source": [
        "X_train = X_train[X_train['ticker'].map(X_train['ticker'].value_counts()) > 100]\n",
        "y_train = y_train[X_train.index]"
      ]
    },
    {
      "cell_type": "code",
      "execution_count": null,
      "metadata": {
        "id": "lCnzNGTtTnax"
      },
      "outputs": [],
      "source": [
        "ohe = OneHotEncoder(drop='first', handle_unknown='ignore', sparse_output=False)\n",
        "\n",
        "X_train_encoded = ohe.fit_transform(X_train[['subreddit', 'type', 'ticker']])\n",
        "\n",
        "X_train_encoded = pd.DataFrame(X_train_encoded, columns=ohe.get_feature_names_out(), index=X_train.index)"
      ]
    },
    {
      "cell_type": "code",
      "execution_count": null,
      "metadata": {
        "colab": {
          "base_uri": "https://localhost:8080/"
        },
        "id": "J6cE6la5Tnay",
        "outputId": "f8371e28-6ebc-4ab2-ea76-be740ef04796"
      },
      "outputs": [
        {
          "data": {
            "text/plain": [
              "(3357, 21)"
            ]
          },
          "execution_count": 149,
          "metadata": {},
          "output_type": "execute_result"
        }
      ],
      "source": [
        "X_train = pd.concat([X_train, X_train_encoded], axis=1)\n",
        "X_train.drop(columns=['subreddit', 'type', 'ticker'], inplace=True)\n",
        "X_train.shape"
      ]
    },
    {
      "cell_type": "code",
      "execution_count": null,
      "metadata": {
        "colab": {
          "base_uri": "https://localhost:8080/"
        },
        "id": "4lBUqYXtTnay",
        "outputId": "e1f1bfb2-08a6-4162-c8fe-87fb0aba292e"
      },
      "outputs": [
        {
          "name": "stderr",
          "output_type": "stream",
          "text": [
            "/usr/local/lib/python3.10/dist-packages/sklearn/preprocessing/_encoders.py:242: UserWarning: Found unknown categories in columns [2] during transform. These unknown categories will be encoded as all zeros\n",
            "  warnings.warn(\n"
          ]
        },
        {
          "data": {
            "text/plain": [
              "(1682, 21)"
            ]
          },
          "execution_count": 150,
          "metadata": {},
          "output_type": "execute_result"
        }
      ],
      "source": [
        "X_test_encoded = ohe.transform(X_test[['subreddit', 'type', 'ticker']])\n",
        "\n",
        "X_test_encoded = pd.DataFrame(X_test_encoded, columns=ohe.get_feature_names_out(), index=X_test.index)\n",
        "\n",
        "X_test = pd.concat([X_test, X_test_encoded], axis=1)\n",
        "X_test.drop(columns=['subreddit', 'type', 'ticker'], inplace=True)\n",
        "\n",
        "X_test.shape"
      ]
    },
    {
      "cell_type": "code",
      "execution_count": null,
      "metadata": {
        "id": "s-DRNQbOVzjZ"
      },
      "outputs": [],
      "source": [
        "ss = StandardScaler()\n",
        "X_train_scaled = ss.fit_transform(X_train)\n",
        "X_test_scaled = ss.transform(X_test)\n",
        "\n",
        "X_train = pd.DataFrame(X_train_scaled, columns=ss.get_feature_names_out(), index=X_train.index)\n",
        "X_test = pd.DataFrame(X_test_scaled, columns=ss.get_feature_names_out(), index=X_test.index)"
      ]
    },
    {
      "cell_type": "code",
      "execution_count": null,
      "metadata": {
        "colab": {
          "base_uri": "https://localhost:8080/"
        },
        "id": "ht43_uUPTv_y",
        "outputId": "915510a1-f985-4e3b-e841-9751e173ff05"
      },
      "outputs": [
        {
          "name": "stdout",
          "output_type": "stream",
          "text": [
            "RMSE_train: 5.7606950482211055\n",
            "R2_train: 0.23922207578046617\n",
            "MAE_train: 3.9356664206632668\n",
            "MAPE_train: 1535909728254.406\n",
            "RMSE_test: 27.689469342608337\n",
            "R2_test: -9.03751503362758\n",
            "MAE_test: 11.277448408749986\n",
            "MAPE_test: 16853215969786.615\n"
          ]
        }
      ],
      "source": [
        "lr = LinearRegression()\n",
        "lr.fit(X_train, y_train)\n",
        "\n",
        "pred_train = lr.predict(X_train)\n",
        "pred_test = lr.predict(X_test)\n",
        "\n",
        "RMSE_train = root_mean_squared_error(y_train, pred_train)\n",
        "R2_train = r2_score(y_train, pred_train)\n",
        "MAE_train = mean_absolute_error(y_train, pred_train)\n",
        "MAPE_train = mean_absolute_percentage_error(y_train, pred_train)\n",
        "\n",
        "RMSE_test = root_mean_squared_error(y_test, pred_test)\n",
        "R2_test = r2_score(y_test, pred_test)\n",
        "MAE_test = mean_absolute_error(y_test, pred_test)\n",
        "MAPE_test = mean_absolute_percentage_error(y_test, pred_test)\n",
        "\n",
        "print(f\"RMSE_train: {RMSE_train}\")\n",
        "print(f\"R2_train: {R2_train}\")\n",
        "print(f\"MAE_train: {MAE_train}\")\n",
        "print(f\"MAPE_train: {MAPE_train}\")\n",
        "\n",
        "print(f\"RMSE_test: {RMSE_test}\")\n",
        "print(f\"R2_test: {R2_test}\")\n",
        "print(f\"MAE_test: {MAE_test}\")\n",
        "print(f\"MAPE_test: {MAPE_test}\")"
      ]
    },
    {
      "cell_type": "markdown",
      "metadata": {
        "id": "1dPt25NEIBYp"
      },
      "source": [
        "# Classification"
      ]
    },
    {
      "cell_type": "markdown",
      "metadata": {
        "id": "xUpDDguHD7Tw"
      },
      "source": [
        "### Calculate classification target"
      ]
    },
    {
      "cell_type": "code",
      "execution_count": null,
      "metadata": {
        "id": "SudzZ4y4D6kc"
      },
      "outputs": [],
      "source": [
        "df['target'] = np.where(df['price_1d'] > df['created_price'], 1, 0)"
      ]
    },
    {
      "cell_type": "code",
      "execution_count": null,
      "metadata": {
        "colab": {
          "base_uri": "https://localhost:8080/",
          "height": 206
        },
        "id": "JW2lNpinEnhX",
        "outputId": "2824ccb6-c805-41ad-d1ac-1441b29d0e7b"
      },
      "outputs": [
        {
          "output_type": "execute_result",
          "data": {
            "text/plain": [
              "   subreddit  score  num_comments        type  processed_text_length  \\\n",
              "0  investing      3           0.0     comment                    594   \n",
              "1  investing      1           0.0     comment                     12   \n",
              "2  investing      4           0.0     comment                    433   \n",
              "3  investing    102          92.0  submission                   1362   \n",
              "4  investing      1           0.0     comment                    332   \n",
              "\n",
              "   sentiment_scores                                      doc_embedding ticker  \\\n",
              "0           -0.0772  [1.0175916, -0.26974982, -0.18348941, -0.53738...   PATH   \n",
              "1            0.0000  [0.0036067592, -0.009290272, -0.0037351453, -0...    KAR   \n",
              "2           -0.6652  [0.24014705, -0.79617554, -0.21952175, 0.06111...    QQQ   \n",
              "3           -0.9131  [0.36487904, -0.9539981, -0.13656119, -1.58051...     AI   \n",
              "4           -0.1280  [0.4363078, -0.67959464, 0.8144916, 0.16138163...     AI   \n",
              "\n",
              "   created_price    price_1d  target  \n",
              "0      14.940000   14.820000       0  \n",
              "1      20.250000   20.190001       0  \n",
              "2     521.799988  526.510010       1  \n",
              "3      37.490002   40.520000       1  \n",
              "4      37.490002   40.520000       1  "
            ],
            "text/html": [
              "\n",
              "  <div id=\"df-29b447b2-ba97-4699-b0a8-643c10028e17\" class=\"colab-df-container\">\n",
              "    <div>\n",
              "<style scoped>\n",
              "    .dataframe tbody tr th:only-of-type {\n",
              "        vertical-align: middle;\n",
              "    }\n",
              "\n",
              "    .dataframe tbody tr th {\n",
              "        vertical-align: top;\n",
              "    }\n",
              "\n",
              "    .dataframe thead th {\n",
              "        text-align: right;\n",
              "    }\n",
              "</style>\n",
              "<table border=\"1\" class=\"dataframe\">\n",
              "  <thead>\n",
              "    <tr style=\"text-align: right;\">\n",
              "      <th></th>\n",
              "      <th>subreddit</th>\n",
              "      <th>score</th>\n",
              "      <th>num_comments</th>\n",
              "      <th>type</th>\n",
              "      <th>processed_text_length</th>\n",
              "      <th>sentiment_scores</th>\n",
              "      <th>doc_embedding</th>\n",
              "      <th>ticker</th>\n",
              "      <th>created_price</th>\n",
              "      <th>price_1d</th>\n",
              "      <th>target</th>\n",
              "    </tr>\n",
              "  </thead>\n",
              "  <tbody>\n",
              "    <tr>\n",
              "      <th>0</th>\n",
              "      <td>investing</td>\n",
              "      <td>3</td>\n",
              "      <td>0.0</td>\n",
              "      <td>comment</td>\n",
              "      <td>594</td>\n",
              "      <td>-0.0772</td>\n",
              "      <td>[1.0175916, -0.26974982, -0.18348941, -0.53738...</td>\n",
              "      <td>PATH</td>\n",
              "      <td>14.940000</td>\n",
              "      <td>14.820000</td>\n",
              "      <td>0</td>\n",
              "    </tr>\n",
              "    <tr>\n",
              "      <th>1</th>\n",
              "      <td>investing</td>\n",
              "      <td>1</td>\n",
              "      <td>0.0</td>\n",
              "      <td>comment</td>\n",
              "      <td>12</td>\n",
              "      <td>0.0000</td>\n",
              "      <td>[0.0036067592, -0.009290272, -0.0037351453, -0...</td>\n",
              "      <td>KAR</td>\n",
              "      <td>20.250000</td>\n",
              "      <td>20.190001</td>\n",
              "      <td>0</td>\n",
              "    </tr>\n",
              "    <tr>\n",
              "      <th>2</th>\n",
              "      <td>investing</td>\n",
              "      <td>4</td>\n",
              "      <td>0.0</td>\n",
              "      <td>comment</td>\n",
              "      <td>433</td>\n",
              "      <td>-0.6652</td>\n",
              "      <td>[0.24014705, -0.79617554, -0.21952175, 0.06111...</td>\n",
              "      <td>QQQ</td>\n",
              "      <td>521.799988</td>\n",
              "      <td>526.510010</td>\n",
              "      <td>1</td>\n",
              "    </tr>\n",
              "    <tr>\n",
              "      <th>3</th>\n",
              "      <td>investing</td>\n",
              "      <td>102</td>\n",
              "      <td>92.0</td>\n",
              "      <td>submission</td>\n",
              "      <td>1362</td>\n",
              "      <td>-0.9131</td>\n",
              "      <td>[0.36487904, -0.9539981, -0.13656119, -1.58051...</td>\n",
              "      <td>AI</td>\n",
              "      <td>37.490002</td>\n",
              "      <td>40.520000</td>\n",
              "      <td>1</td>\n",
              "    </tr>\n",
              "    <tr>\n",
              "      <th>4</th>\n",
              "      <td>investing</td>\n",
              "      <td>1</td>\n",
              "      <td>0.0</td>\n",
              "      <td>comment</td>\n",
              "      <td>332</td>\n",
              "      <td>-0.1280</td>\n",
              "      <td>[0.4363078, -0.67959464, 0.8144916, 0.16138163...</td>\n",
              "      <td>AI</td>\n",
              "      <td>37.490002</td>\n",
              "      <td>40.520000</td>\n",
              "      <td>1</td>\n",
              "    </tr>\n",
              "  </tbody>\n",
              "</table>\n",
              "</div>\n",
              "    <div class=\"colab-df-buttons\">\n",
              "\n",
              "  <div class=\"colab-df-container\">\n",
              "    <button class=\"colab-df-convert\" onclick=\"convertToInteractive('df-29b447b2-ba97-4699-b0a8-643c10028e17')\"\n",
              "            title=\"Convert this dataframe to an interactive table.\"\n",
              "            style=\"display:none;\">\n",
              "\n",
              "  <svg xmlns=\"http://www.w3.org/2000/svg\" height=\"24px\" viewBox=\"0 -960 960 960\">\n",
              "    <path d=\"M120-120v-720h720v720H120Zm60-500h600v-160H180v160Zm220 220h160v-160H400v160Zm0 220h160v-160H400v160ZM180-400h160v-160H180v160Zm440 0h160v-160H620v160ZM180-180h160v-160H180v160Zm440 0h160v-160H620v160Z\"/>\n",
              "  </svg>\n",
              "    </button>\n",
              "\n",
              "  <style>\n",
              "    .colab-df-container {\n",
              "      display:flex;\n",
              "      gap: 12px;\n",
              "    }\n",
              "\n",
              "    .colab-df-convert {\n",
              "      background-color: #E8F0FE;\n",
              "      border: none;\n",
              "      border-radius: 50%;\n",
              "      cursor: pointer;\n",
              "      display: none;\n",
              "      fill: #1967D2;\n",
              "      height: 32px;\n",
              "      padding: 0 0 0 0;\n",
              "      width: 32px;\n",
              "    }\n",
              "\n",
              "    .colab-df-convert:hover {\n",
              "      background-color: #E2EBFA;\n",
              "      box-shadow: 0px 1px 2px rgba(60, 64, 67, 0.3), 0px 1px 3px 1px rgba(60, 64, 67, 0.15);\n",
              "      fill: #174EA6;\n",
              "    }\n",
              "\n",
              "    .colab-df-buttons div {\n",
              "      margin-bottom: 4px;\n",
              "    }\n",
              "\n",
              "    [theme=dark] .colab-df-convert {\n",
              "      background-color: #3B4455;\n",
              "      fill: #D2E3FC;\n",
              "    }\n",
              "\n",
              "    [theme=dark] .colab-df-convert:hover {\n",
              "      background-color: #434B5C;\n",
              "      box-shadow: 0px 1px 3px 1px rgba(0, 0, 0, 0.15);\n",
              "      filter: drop-shadow(0px 1px 2px rgba(0, 0, 0, 0.3));\n",
              "      fill: #FFFFFF;\n",
              "    }\n",
              "  </style>\n",
              "\n",
              "    <script>\n",
              "      const buttonEl =\n",
              "        document.querySelector('#df-29b447b2-ba97-4699-b0a8-643c10028e17 button.colab-df-convert');\n",
              "      buttonEl.style.display =\n",
              "        google.colab.kernel.accessAllowed ? 'block' : 'none';\n",
              "\n",
              "      async function convertToInteractive(key) {\n",
              "        const element = document.querySelector('#df-29b447b2-ba97-4699-b0a8-643c10028e17');\n",
              "        const dataTable =\n",
              "          await google.colab.kernel.invokeFunction('convertToInteractive',\n",
              "                                                    [key], {});\n",
              "        if (!dataTable) return;\n",
              "\n",
              "        const docLinkHtml = 'Like what you see? Visit the ' +\n",
              "          '<a target=\"_blank\" href=https://colab.research.google.com/notebooks/data_table.ipynb>data table notebook</a>'\n",
              "          + ' to learn more about interactive tables.';\n",
              "        element.innerHTML = '';\n",
              "        dataTable['output_type'] = 'display_data';\n",
              "        await google.colab.output.renderOutput(dataTable, element);\n",
              "        const docLink = document.createElement('div');\n",
              "        docLink.innerHTML = docLinkHtml;\n",
              "        element.appendChild(docLink);\n",
              "      }\n",
              "    </script>\n",
              "  </div>\n",
              "\n",
              "\n",
              "<div id=\"df-6e22d935-b7b0-43db-a814-defd16b4a3b1\">\n",
              "  <button class=\"colab-df-quickchart\" onclick=\"quickchart('df-6e22d935-b7b0-43db-a814-defd16b4a3b1')\"\n",
              "            title=\"Suggest charts\"\n",
              "            style=\"display:none;\">\n",
              "\n",
              "<svg xmlns=\"http://www.w3.org/2000/svg\" height=\"24px\"viewBox=\"0 0 24 24\"\n",
              "     width=\"24px\">\n",
              "    <g>\n",
              "        <path d=\"M19 3H5c-1.1 0-2 .9-2 2v14c0 1.1.9 2 2 2h14c1.1 0 2-.9 2-2V5c0-1.1-.9-2-2-2zM9 17H7v-7h2v7zm4 0h-2V7h2v10zm4 0h-2v-4h2v4z\"/>\n",
              "    </g>\n",
              "</svg>\n",
              "  </button>\n",
              "\n",
              "<style>\n",
              "  .colab-df-quickchart {\n",
              "      --bg-color: #E8F0FE;\n",
              "      --fill-color: #1967D2;\n",
              "      --hover-bg-color: #E2EBFA;\n",
              "      --hover-fill-color: #174EA6;\n",
              "      --disabled-fill-color: #AAA;\n",
              "      --disabled-bg-color: #DDD;\n",
              "  }\n",
              "\n",
              "  [theme=dark] .colab-df-quickchart {\n",
              "      --bg-color: #3B4455;\n",
              "      --fill-color: #D2E3FC;\n",
              "      --hover-bg-color: #434B5C;\n",
              "      --hover-fill-color: #FFFFFF;\n",
              "      --disabled-bg-color: #3B4455;\n",
              "      --disabled-fill-color: #666;\n",
              "  }\n",
              "\n",
              "  .colab-df-quickchart {\n",
              "    background-color: var(--bg-color);\n",
              "    border: none;\n",
              "    border-radius: 50%;\n",
              "    cursor: pointer;\n",
              "    display: none;\n",
              "    fill: var(--fill-color);\n",
              "    height: 32px;\n",
              "    padding: 0;\n",
              "    width: 32px;\n",
              "  }\n",
              "\n",
              "  .colab-df-quickchart:hover {\n",
              "    background-color: var(--hover-bg-color);\n",
              "    box-shadow: 0 1px 2px rgba(60, 64, 67, 0.3), 0 1px 3px 1px rgba(60, 64, 67, 0.15);\n",
              "    fill: var(--button-hover-fill-color);\n",
              "  }\n",
              "\n",
              "  .colab-df-quickchart-complete:disabled,\n",
              "  .colab-df-quickchart-complete:disabled:hover {\n",
              "    background-color: var(--disabled-bg-color);\n",
              "    fill: var(--disabled-fill-color);\n",
              "    box-shadow: none;\n",
              "  }\n",
              "\n",
              "  .colab-df-spinner {\n",
              "    border: 2px solid var(--fill-color);\n",
              "    border-color: transparent;\n",
              "    border-bottom-color: var(--fill-color);\n",
              "    animation:\n",
              "      spin 1s steps(1) infinite;\n",
              "  }\n",
              "\n",
              "  @keyframes spin {\n",
              "    0% {\n",
              "      border-color: transparent;\n",
              "      border-bottom-color: var(--fill-color);\n",
              "      border-left-color: var(--fill-color);\n",
              "    }\n",
              "    20% {\n",
              "      border-color: transparent;\n",
              "      border-left-color: var(--fill-color);\n",
              "      border-top-color: var(--fill-color);\n",
              "    }\n",
              "    30% {\n",
              "      border-color: transparent;\n",
              "      border-left-color: var(--fill-color);\n",
              "      border-top-color: var(--fill-color);\n",
              "      border-right-color: var(--fill-color);\n",
              "    }\n",
              "    40% {\n",
              "      border-color: transparent;\n",
              "      border-right-color: var(--fill-color);\n",
              "      border-top-color: var(--fill-color);\n",
              "    }\n",
              "    60% {\n",
              "      border-color: transparent;\n",
              "      border-right-color: var(--fill-color);\n",
              "    }\n",
              "    80% {\n",
              "      border-color: transparent;\n",
              "      border-right-color: var(--fill-color);\n",
              "      border-bottom-color: var(--fill-color);\n",
              "    }\n",
              "    90% {\n",
              "      border-color: transparent;\n",
              "      border-bottom-color: var(--fill-color);\n",
              "    }\n",
              "  }\n",
              "</style>\n",
              "\n",
              "  <script>\n",
              "    async function quickchart(key) {\n",
              "      const quickchartButtonEl =\n",
              "        document.querySelector('#' + key + ' button');\n",
              "      quickchartButtonEl.disabled = true;  // To prevent multiple clicks.\n",
              "      quickchartButtonEl.classList.add('colab-df-spinner');\n",
              "      try {\n",
              "        const charts = await google.colab.kernel.invokeFunction(\n",
              "            'suggestCharts', [key], {});\n",
              "      } catch (error) {\n",
              "        console.error('Error during call to suggestCharts:', error);\n",
              "      }\n",
              "      quickchartButtonEl.classList.remove('colab-df-spinner');\n",
              "      quickchartButtonEl.classList.add('colab-df-quickchart-complete');\n",
              "    }\n",
              "    (() => {\n",
              "      let quickchartButtonEl =\n",
              "        document.querySelector('#df-6e22d935-b7b0-43db-a814-defd16b4a3b1 button');\n",
              "      quickchartButtonEl.style.display =\n",
              "        google.colab.kernel.accessAllowed ? 'block' : 'none';\n",
              "    })();\n",
              "  </script>\n",
              "</div>\n",
              "\n",
              "    </div>\n",
              "  </div>\n"
            ],
            "application/vnd.google.colaboratory.intrinsic+json": {
              "type": "dataframe",
              "variable_name": "df",
              "summary": "{\n  \"name\": \"df\",\n  \"rows\": 8416,\n  \"fields\": [\n    {\n      \"column\": \"subreddit\",\n      \"properties\": {\n        \"dtype\": \"category\",\n        \"num_unique_values\": 7,\n        \"samples\": [\n          \"investing\",\n          \"stocks\",\n          \"algotrading\"\n        ],\n        \"semantic_type\": \"\",\n        \"description\": \"\"\n      }\n    },\n    {\n      \"column\": \"score\",\n      \"properties\": {\n        \"dtype\": \"number\",\n        \"std\": 165,\n        \"min\": -40,\n        \"max\": 12015,\n        \"num_unique_values\": 279,\n        \"samples\": [\n          55,\n          374,\n          127\n        ],\n        \"semantic_type\": \"\",\n        \"description\": \"\"\n      }\n    },\n    {\n      \"column\": \"num_comments\",\n      \"properties\": {\n        \"dtype\": \"number\",\n        \"std\": 37.26948409283589,\n        \"min\": 0.0,\n        \"max\": 1654.0,\n        \"num_unique_values\": 159,\n        \"samples\": [\n          33.0,\n          62.0,\n          436.0\n        ],\n        \"semantic_type\": \"\",\n        \"description\": \"\"\n      }\n    },\n    {\n      \"column\": \"type\",\n      \"properties\": {\n        \"dtype\": \"category\",\n        \"num_unique_values\": 2,\n        \"samples\": [\n          \"submission\",\n          \"comment\"\n        ],\n        \"semantic_type\": \"\",\n        \"description\": \"\"\n      }\n    },\n    {\n      \"column\": \"processed_text_length\",\n      \"properties\": {\n        \"dtype\": \"number\",\n        \"std\": 971,\n        \"min\": 1,\n        \"max\": 29179,\n        \"num_unique_values\": 1549,\n        \"samples\": [\n          1735,\n          908\n        ],\n        \"semantic_type\": \"\",\n        \"description\": \"\"\n      }\n    },\n    {\n      \"column\": \"sentiment_scores\",\n      \"properties\": {\n        \"dtype\": \"number\",\n        \"std\": 0.5174077143580027,\n        \"min\": -0.9875,\n        \"max\": 0.9999,\n        \"num_unique_values\": 2590,\n        \"samples\": [\n          0.7684,\n          0.1511\n        ],\n        \"semantic_type\": \"\",\n        \"description\": \"\"\n      }\n    },\n    {\n      \"column\": \"doc_embedding\",\n      \"properties\": {\n        \"dtype\": \"object\",\n        \"semantic_type\": \"\",\n        \"description\": \"\"\n      }\n    },\n    {\n      \"column\": \"ticker\",\n      \"properties\": {\n        \"dtype\": \"category\",\n        \"num_unique_values\": 810,\n        \"samples\": [\n          \"CROX\",\n          \"MSN\"\n        ],\n        \"semantic_type\": \"\",\n        \"description\": \"\"\n      }\n    },\n    {\n      \"column\": \"created_price\",\n      \"properties\": {\n        \"dtype\": \"number\",\n        \"std\": 810.7749294261544,\n        \"min\": 0.00039999998989515007,\n        \"max\": 6098.240234375,\n        \"num_unique_values\": 3759,\n        \"samples\": [\n          71.55999755859375,\n          69.25\n        ],\n        \"semantic_type\": \"\",\n        \"description\": \"\"\n      }\n    },\n    {\n      \"column\": \"price_1d\",\n      \"properties\": {\n        \"dtype\": \"number\",\n        \"std\": 803.8962166361397,\n        \"min\": 0.00039999998989515007,\n        \"max\": 6098.240234375,\n        \"num_unique_values\": 3782,\n        \"samples\": [\n          46.18000030517578,\n          37.70000076293945\n        ],\n        \"semantic_type\": \"\",\n        \"description\": \"\"\n      }\n    },\n    {\n      \"column\": \"target\",\n      \"properties\": {\n        \"dtype\": \"number\",\n        \"std\": 0,\n        \"min\": 0,\n        \"max\": 1,\n        \"num_unique_values\": 2,\n        \"samples\": [\n          1,\n          0\n        ],\n        \"semantic_type\": \"\",\n        \"description\": \"\"\n      }\n    }\n  ]\n}"
            }
          },
          "metadata": {},
          "execution_count": 17
        }
      ],
      "source": [
        "df.head()"
      ]
    },
    {
      "cell_type": "code",
      "execution_count": null,
      "metadata": {
        "colab": {
          "base_uri": "https://localhost:8080/"
        },
        "id": "Ffjw9UfH4zMC",
        "outputId": "6ae8e863-da20-4f3e-9912-8217b1b57957"
      },
      "outputs": [
        {
          "output_type": "execute_result",
          "data": {
            "text/plain": [
              "0.5043963878326996"
            ]
          },
          "metadata": {},
          "execution_count": 18
        }
      ],
      "source": [
        "df['target'].value_counts()[0]/df.shape[0]"
      ]
    },
    {
      "cell_type": "code",
      "execution_count": null,
      "metadata": {
        "colab": {
          "base_uri": "https://localhost:8080/",
          "height": 178
        },
        "id": "MGJIMBWD4zMC",
        "outputId": "8dcf7050-2804-4c5f-9dfa-8ce1b7f3c0d8"
      },
      "outputs": [
        {
          "output_type": "execute_result",
          "data": {
            "text/plain": [
              "target\n",
              "0    4245\n",
              "1    4171\n",
              "Name: count, dtype: int64"
            ],
            "text/html": [
              "<div>\n",
              "<style scoped>\n",
              "    .dataframe tbody tr th:only-of-type {\n",
              "        vertical-align: middle;\n",
              "    }\n",
              "\n",
              "    .dataframe tbody tr th {\n",
              "        vertical-align: top;\n",
              "    }\n",
              "\n",
              "    .dataframe thead th {\n",
              "        text-align: right;\n",
              "    }\n",
              "</style>\n",
              "<table border=\"1\" class=\"dataframe\">\n",
              "  <thead>\n",
              "    <tr style=\"text-align: right;\">\n",
              "      <th></th>\n",
              "      <th>count</th>\n",
              "    </tr>\n",
              "    <tr>\n",
              "      <th>target</th>\n",
              "      <th></th>\n",
              "    </tr>\n",
              "  </thead>\n",
              "  <tbody>\n",
              "    <tr>\n",
              "      <th>0</th>\n",
              "      <td>4245</td>\n",
              "    </tr>\n",
              "    <tr>\n",
              "      <th>1</th>\n",
              "      <td>4171</td>\n",
              "    </tr>\n",
              "  </tbody>\n",
              "</table>\n",
              "</div><br><label><b>dtype:</b> int64</label>"
            ]
          },
          "metadata": {},
          "execution_count": 19
        }
      ],
      "source": [
        "df['target'].value_counts()"
      ]
    },
    {
      "cell_type": "markdown",
      "metadata": {
        "id": "J98u_IxCLChR"
      },
      "source": [
        "## Classification baseline"
      ]
    },
    {
      "cell_type": "code",
      "execution_count": null,
      "metadata": {
        "id": "c_E5GYF1LChS"
      },
      "outputs": [],
      "source": [
        "X_train, X_test, y_train, y_test = train_test_split(df.drop(columns=['target', 'price_1d']), df['target'], test_size=0.2, random_state=69)\n",
        "X_train['baseline'] = np.ones(len(X_train))\n",
        "X_test['baseline'] = np.ones(len(X_test))"
      ]
    },
    {
      "cell_type": "code",
      "execution_count": null,
      "metadata": {
        "colab": {
          "base_uri": "https://localhost:8080/"
        },
        "id": "mdr5HXeELChS",
        "outputId": "a8c38869-2e1e-4c84-8de1-20f1349af422"
      },
      "outputs": [
        {
          "output_type": "stream",
          "name": "stdout",
          "text": [
            "Accuracy baseline: 0.5083135391923991\n",
            "Precision baseline: 0.5083135391923991\n",
            "Recall baseline: 1.0\n",
            "F1 baseline: 0.6740157480314961\n"
          ]
        }
      ],
      "source": [
        "accuracy = accuracy_score(y_test, X_test['baseline'])\n",
        "precision = precision_score(y_test, X_test['baseline'])\n",
        "recall = recall_score(y_test, X_test['baseline'])\n",
        "f1 = f1_score(y_test, X_test['baseline'])\n",
        "\n",
        "print(f\"Accuracy baseline: {accuracy}\")\n",
        "print(f\"Precision baseline: {precision}\")\n",
        "print(f\"Recall baseline: {recall}\")\n",
        "print(f\"F1 baseline: {f1}\")"
      ]
    },
    {
      "cell_type": "markdown",
      "metadata": {
        "id": "opozcZ9WPusw"
      },
      "source": [
        "## Classification metrics"
      ]
    },
    {
      "cell_type": "code",
      "execution_count": null,
      "metadata": {
        "id": "y0GX0WQ5Qgox"
      },
      "outputs": [],
      "source": [
        "def classification_metrics(y_train, pred_train, y_test, pred_test):\n",
        "  print(f\"Accuracy_train: {accuracy_score(y_train, pred_train)}\")\n",
        "  print(f\"Precision_train: {precision_score(y_train, pred_train)}\")\n",
        "  print(f\"Recall_train: {recall_score(y_train, pred_train)}\")\n",
        "  print(f\"F1_train: {f1_score(y_train, pred_train)}\")\n",
        "  print(\"----------------------\")\n",
        "  print(f\"Accuracy_test: {accuracy_score(y_test, pred_test)}\")\n",
        "  print(f\"Precision_test: {precision_score(y_test, pred_test)}\")\n",
        "  print(f\"Recall_test: {recall_score(y_test, pred_test)}\")\n",
        "  print(f\"F1_test: {f1_score(y_test, pred_test)}\")"
      ]
    },
    {
      "cell_type": "markdown",
      "metadata": {
        "id": "x8lFkjlmNty5"
      },
      "source": [
        "## Experiment 1: LogReg, OHE tickers, drop embeddings"
      ]
    },
    {
      "cell_type": "code",
      "execution_count": null,
      "metadata": {
        "id": "yOSOtIf2OBVT"
      },
      "outputs": [],
      "source": [
        "X_train, X_test, y_train, y_test = train_test_split(df.drop(columns=['target', 'price_1d', 'doc_embedding']), df['target'], test_size=0.2, random_state=69)"
      ]
    },
    {
      "cell_type": "code",
      "execution_count": null,
      "metadata": {
        "id": "V9aGXjOIOBVT"
      },
      "outputs": [],
      "source": [
        "ohe = OneHotEncoder(drop='first', handle_unknown='ignore', sparse_output=False)\n",
        "\n",
        "X_train_encoded = ohe.fit_transform(X_train[['subreddit', 'type', 'ticker']])\n",
        "\n",
        "X_train_encoded = pd.DataFrame(X_train_encoded, columns=ohe.get_feature_names_out(), index=X_train.index)"
      ]
    },
    {
      "cell_type": "code",
      "execution_count": null,
      "metadata": {
        "colab": {
          "base_uri": "https://localhost:8080/"
        },
        "id": "SJoGpKO_OBVT",
        "outputId": "680da725-f175-4658-afd3-98aa85278b30"
      },
      "outputs": [
        {
          "output_type": "execute_result",
          "data": {
            "text/plain": [
              "(6732, 722)"
            ]
          },
          "metadata": {},
          "execution_count": 23
        }
      ],
      "source": [
        "X_train = pd.concat([X_train, X_train_encoded], axis=1)\n",
        "X_train.drop(columns=['subreddit', 'type', 'ticker'], inplace=True)\n",
        "X_train.shape"
      ]
    },
    {
      "cell_type": "code",
      "execution_count": null,
      "metadata": {
        "colab": {
          "base_uri": "https://localhost:8080/"
        },
        "id": "IIvrp2SKOBVT",
        "outputId": "6a214d6a-0eae-4735-9e31-26e2e1385849"
      },
      "outputs": [
        {
          "output_type": "stream",
          "name": "stderr",
          "text": [
            "/usr/local/lib/python3.11/dist-packages/sklearn/preprocessing/_encoders.py:246: UserWarning: Found unknown categories in columns [2] during transform. These unknown categories will be encoded as all zeros\n",
            "  warnings.warn(\n"
          ]
        },
        {
          "output_type": "execute_result",
          "data": {
            "text/plain": [
              "(1684, 722)"
            ]
          },
          "metadata": {},
          "execution_count": 24
        }
      ],
      "source": [
        "X_test_encoded = ohe.transform(X_test[['subreddit', 'type', 'ticker']])\n",
        "\n",
        "X_test_encoded = pd.DataFrame(X_test_encoded, columns=ohe.get_feature_names_out(), index=X_test.index)\n",
        "\n",
        "X_test = pd.concat([X_test, X_test_encoded], axis=1)\n",
        "X_test.drop(columns=['subreddit', 'type', 'ticker'], inplace=True)\n",
        "\n",
        "X_test.shape"
      ]
    },
    {
      "cell_type": "code",
      "execution_count": null,
      "metadata": {
        "id": "6cNcQbzzSFwF"
      },
      "outputs": [],
      "source": [
        "ss = StandardScaler()\n",
        "X_train_scaled = ss.fit_transform(X_train)\n",
        "X_test_scaled = ss.transform(X_test)\n",
        "\n",
        "X_train = pd.DataFrame(X_train_scaled, columns=ss.get_feature_names_out(), index=X_train.index)\n",
        "X_test = pd.DataFrame(X_test_scaled, columns=ss.get_feature_names_out(), index=X_test.index)"
      ]
    },
    {
      "cell_type": "code",
      "execution_count": null,
      "metadata": {
        "colab": {
          "base_uri": "https://localhost:8080/"
        },
        "id": "BUvtZzamOVkl",
        "outputId": "916e934f-4662-4620-fd01-eac097ca0fb6"
      },
      "outputs": [
        {
          "output_type": "stream",
          "name": "stdout",
          "text": [
            "Accuracy_train: 0.6772133095662507\n",
            "Precision_train: 0.687828947368421\n",
            "Recall_train: 0.6307692307692307\n",
            "F1_train: 0.6580645161290323\n",
            "----------------------\n",
            "Accuracy_test: 0.586104513064133\n",
            "Precision_test: 0.5940828402366863\n",
            "Recall_test: 0.5864485981308412\n",
            "F1_test: 0.5902410346854792\n"
          ]
        }
      ],
      "source": [
        "lg = LogisticRegression()\n",
        "\n",
        "lg.fit(X_train, y_train)\n",
        "\n",
        "pred_train = lg.predict(X_train)\n",
        "pred_test = lg.predict(X_test)\n",
        "\n",
        "classification_metrics(y_train, pred_train, y_test, pred_test)"
      ]
    },
    {
      "cell_type": "markdown",
      "metadata": {
        "id": "75Tsrva9tdmM"
      },
      "source": [
        "### Grid search"
      ]
    },
    {
      "cell_type": "code",
      "execution_count": null,
      "metadata": {
        "colab": {
          "base_uri": "https://localhost:8080/"
        },
        "id": "sp7144c8tf8E",
        "outputId": "ec4f0af4-974d-4c0f-8242-9ba745824a5f"
      },
      "outputs": [
        {
          "name": "stdout",
          "output_type": "stream",
          "text": [
            "Fitting 5 folds for each of 120 candidates, totalling 600 fits\n"
          ]
        },
        {
          "name": "stderr",
          "output_type": "stream",
          "text": [
            "/usr/local/lib/python3.10/dist-packages/sklearn/linear_model/_logistic.py:1207: UserWarning: Setting penalty=None will ignore the C and l1_ratio parameters\n",
            "  warnings.warn(\n"
          ]
        },
        {
          "name": "stdout",
          "output_type": "stream",
          "text": [
            "Best Score: 0.612571094507705\n",
            "Best Params: {'C': 0.0001, 'class_weight': 'balanced', 'penalty': None, 'solver': 'newton-cg'}\n"
          ]
        }
      ],
      "source": [
        "lr = LogisticRegression()\n",
        "\n",
        "param_grid = [\n",
        "    {\n",
        "        'solver': ['liblinear', 'saga'],\n",
        "        'penalty': ['l1', 'l2'],\n",
        "        'C': [0.0001, 0.001, 0.01, 0.1, 1, 10],\n",
        "        'class_weight': [None, 'balanced']\n",
        "    },\n",
        "    {\n",
        "        'solver': ['lbfgs', 'newton-cg', 'newton-cholesky'],\n",
        "        'penalty': [None, 'l2'],\n",
        "        'C': [0.0001, 0.001, 0.01, 0.1, 1, 10],\n",
        "        'class_weight': [None, 'balanced']\n",
        "    }\n",
        "]\n",
        "\n",
        "gs = GridSearchCV(lr, param_grid, n_jobs=-1, cv=5, scoring='f1', verbose=10)\n",
        "\n",
        "gs.fit(X_train, y_train)\n",
        "\n",
        "print(\"Best Score:\", gs.best_score_)\n",
        "print(\"Best Params:\", gs.best_params_)"
      ]
    },
    {
      "cell_type": "code",
      "execution_count": null,
      "metadata": {
        "colab": {
          "base_uri": "https://localhost:8080/"
        },
        "id": "mv2ImHcq4aeJ",
        "outputId": "e274fb00-b8d2-4848-e07e-22993c3de337"
      },
      "outputs": [
        {
          "name": "stderr",
          "output_type": "stream",
          "text": [
            "/usr/local/lib/python3.10/dist-packages/sklearn/linear_model/_logistic.py:1207: UserWarning: Setting penalty=None will ignore the C and l1_ratio parameters\n",
            "  warnings.warn(\n"
          ]
        },
        {
          "name": "stdout",
          "output_type": "stream",
          "text": [
            "Accuracy_train: 0.6822638146167558\n",
            "Precision_train: 0.6900452488687783\n",
            "Recall_train: 0.6440422322775264\n",
            "F1_train: 0.6662505851146825\n",
            "----------------------\n",
            "Accuracy_test: 0.5979809976247031\n",
            "Precision_test: 0.6046783625730994\n",
            "Recall_test: 0.6039719626168224\n",
            "F1_test: 0.6043249561659848\n"
          ]
        }
      ],
      "source": [
        "lg = LogisticRegression(C= 0.0001, class_weight='balanced', penalty=None, solver= 'newton-cg')\n",
        "\n",
        "lg.fit(X_train, y_train)\n",
        "\n",
        "pred_train = lg.predict(X_train)\n",
        "pred_test = lg.predict(X_test)\n",
        "\n",
        "classification_metrics(y_train, pred_train, y_test, pred_test)"
      ]
    },
    {
      "cell_type": "markdown",
      "metadata": {
        "id": "pW_dn4KiWI1M"
      },
      "source": [
        "## Experiment 2: SVM, OHE tickers, drop embeddings"
      ]
    },
    {
      "cell_type": "code",
      "execution_count": null,
      "metadata": {
        "id": "pxgjbZAjWWyl"
      },
      "outputs": [],
      "source": [
        "X_train, X_test, y_train, y_test = train_test_split(df.drop(columns=['target', 'price_1d', 'doc_embedding']), df['target'], test_size=0.2, random_state=69)"
      ]
    },
    {
      "cell_type": "code",
      "execution_count": null,
      "metadata": {
        "id": "8k1bfh23WWyl"
      },
      "outputs": [],
      "source": [
        "ohe = OneHotEncoder(drop='first', handle_unknown='ignore', sparse_output=False)\n",
        "\n",
        "X_train_encoded = ohe.fit_transform(X_train[['subreddit', 'type', 'ticker']])\n",
        "\n",
        "X_train_encoded = pd.DataFrame(X_train_encoded, columns=ohe.get_feature_names_out(), index=X_train.index)"
      ]
    },
    {
      "cell_type": "code",
      "execution_count": null,
      "metadata": {
        "colab": {
          "base_uri": "https://localhost:8080/"
        },
        "id": "dDMLRIdEWWyl",
        "outputId": "64973526-3c20-418f-bbfc-157aaa70c165"
      },
      "outputs": [
        {
          "data": {
            "text/plain": [
              "(6732, 722)"
            ]
          },
          "execution_count": 17,
          "metadata": {},
          "output_type": "execute_result"
        }
      ],
      "source": [
        "X_train = pd.concat([X_train, X_train_encoded], axis=1)\n",
        "X_train.drop(columns=['subreddit', 'type', 'ticker'], inplace=True)\n",
        "X_train.shape"
      ]
    },
    {
      "cell_type": "code",
      "execution_count": null,
      "metadata": {
        "colab": {
          "base_uri": "https://localhost:8080/"
        },
        "id": "9sSc7PKVWWyl",
        "outputId": "601abe6f-29d1-40e4-dfe7-6fef5edf1b65"
      },
      "outputs": [
        {
          "name": "stderr",
          "output_type": "stream",
          "text": [
            "/Users/grylkov/git/hse/ml_homework3/venv/lib/python3.12/site-packages/sklearn/preprocessing/_encoders.py:246: UserWarning: Found unknown categories in columns [2] during transform. These unknown categories will be encoded as all zeros\n",
            "  warnings.warn(\n"
          ]
        },
        {
          "data": {
            "text/plain": [
              "(1684, 722)"
            ]
          },
          "execution_count": 18,
          "metadata": {},
          "output_type": "execute_result"
        }
      ],
      "source": [
        "X_test_encoded = ohe.transform(X_test[['subreddit', 'type', 'ticker']])\n",
        "\n",
        "X_test_encoded = pd.DataFrame(X_test_encoded, columns=ohe.get_feature_names_out(), index=X_test.index)\n",
        "\n",
        "X_test = pd.concat([X_test, X_test_encoded], axis=1)\n",
        "X_test.drop(columns=['subreddit', 'type', 'ticker'], inplace=True)\n",
        "\n",
        "X_test.shape"
      ]
    },
    {
      "cell_type": "code",
      "execution_count": null,
      "metadata": {
        "id": "GpfMrI7MWWyl"
      },
      "outputs": [],
      "source": [
        "ss = StandardScaler()\n",
        "X_train_scaled = ss.fit_transform(X_train)\n",
        "X_test_scaled = ss.transform(X_test)\n",
        "\n",
        "X_train = pd.DataFrame(X_train_scaled, columns=ss.get_feature_names_out(), index=X_train.index)\n",
        "X_test = pd.DataFrame(X_test_scaled, columns=ss.get_feature_names_out(), index=X_test.index)"
      ]
    },
    {
      "cell_type": "code",
      "execution_count": null,
      "metadata": {
        "colab": {
          "base_uri": "https://localhost:8080/"
        },
        "id": "1cI5w302WZIJ",
        "outputId": "745c1a8d-a604-4872-f94b-c2d77c1a3b7f"
      },
      "outputs": [
        {
          "name": "stdout",
          "output_type": "stream",
          "text": [
            "Accuracy_train: 0.6789958407605466\n",
            "Precision_train: 0.6906807666886979\n",
            "Recall_train: 0.6304675716440422\n",
            "F1_train: 0.6592020186090523\n",
            "----------------------\n",
            "Accuracy_test: 0.5938242280285035\n",
            "Precision_test: 0.6026252983293556\n",
            "Recall_test: 0.5899532710280374\n",
            "F1_test: 0.5962219598583235\n"
          ]
        }
      ],
      "source": [
        "svm = LinearSVC()\n",
        "\n",
        "svm.fit(X_train, y_train)\n",
        "\n",
        "pred_train = svm.predict(X_train)\n",
        "pred_test = svm.predict(X_test)\n",
        "\n",
        "classification_metrics(y_train, pred_train, y_test, pred_test)"
      ]
    },
    {
      "cell_type": "markdown",
      "metadata": {
        "id": "N4PAeyo0WuR5"
      },
      "source": [
        "### Grid search"
      ]
    },
    {
      "cell_type": "code",
      "execution_count": null,
      "metadata": {
        "id": "2dFyT9rK4zME"
      },
      "outputs": [],
      "source": [
        "svc = SVC(probability=True)\n",
        "param_grid = {\n",
        "    'C': [0.001, 0.01, 0.1, 1],\n",
        "    'kernel': ['linear', 'poly', 'rbf', 'sigmoid'],\n",
        "    'class_weight': [None, 'balanced'],\n",
        "    'degree': [2, 3, 5, 10],\n",
        "    'shrinking': [True, False]\n",
        "}\n",
        "\n",
        "gs = GridSearchCV(svc, param_grid, n_jobs=8, cv=5, scoring='f1', verbose=10)\n",
        "\n",
        "gs.fit(X_train, y_train)\n",
        "\n",
        "print(\"Best Score:\", gs.best_score_)\n",
        "print(\"Best Params:\", gs.best_params_)\n",
        "\n",
        "# Best Score: 0.685\n",
        "# Best Params: {'C': 0.001, 'class_weight': 'balanced', 'degree': 5, 'kernel': 'poly', 'shrinking': True}"
      ]
    },
    {
      "cell_type": "code",
      "execution_count": null,
      "metadata": {
        "colab": {
          "base_uri": "https://localhost:8080/"
        },
        "id": "xNJ7PhZF4zME",
        "outputId": "182344e4-e437-4614-f5b9-3cba867c7d06"
      },
      "outputs": [
        {
          "output_type": "stream",
          "name": "stdout",
          "text": [
            "Accuracy_train: 0.5412953060011884\n",
            "Precision_train: 0.517781607394642\n",
            "Recall_train: 0.9969834087481146\n",
            "F1_train: 0.68158383171788\n",
            "----------------------\n",
            "Accuracy_test: 0.5195961995249406\n",
            "Precision_test: 0.5145510835913313\n",
            "Recall_test: 0.9707943925233645\n",
            "F1_test: 0.6726021853500607\n"
          ]
        }
      ],
      "source": [
        "best_params = {'C': 0.001, 'class_weight': 'balanced', 'degree': 5, 'kernel': 'poly', 'shrinking': True}\n",
        "best_svc = SVC(**best_params)\n",
        "best_svc.fit(X_train, y_train)\n",
        "\n",
        "pred_train = best_svc.predict(X_train)\n",
        "pred_test = best_svc.predict(X_test)\n",
        "\n",
        "classification_metrics(y_train, pred_train, y_test, pred_test)"
      ]
    },
    {
      "cell_type": "markdown",
      "source": [
        "## Experiment 3: GBC, OHE tickers, drop embeddings"
      ],
      "metadata": {
        "id": "_cI-Ftz96EDM"
      }
    },
    {
      "cell_type": "code",
      "execution_count": 48,
      "metadata": {
        "id": "YAuC-puk6dZT"
      },
      "outputs": [],
      "source": [
        "X_train, X_test, y_train, y_test = train_test_split(df.drop(columns=['target', 'price_1d', 'doc_embedding']), df['target'], test_size=0.2, random_state=69)"
      ]
    },
    {
      "cell_type": "code",
      "execution_count": 49,
      "metadata": {
        "id": "Y7VNS72R6dZT"
      },
      "outputs": [],
      "source": [
        "ohe = OneHotEncoder(drop='first', handle_unknown='ignore', sparse_output=False)\n",
        "\n",
        "X_train_encoded = ohe.fit_transform(X_train[['subreddit', 'type', 'ticker']])\n",
        "\n",
        "X_train_encoded = pd.DataFrame(X_train_encoded, columns=ohe.get_feature_names_out(), index=X_train.index)"
      ]
    },
    {
      "cell_type": "code",
      "execution_count": 50,
      "metadata": {
        "colab": {
          "base_uri": "https://localhost:8080/"
        },
        "outputId": "8668b573-67fa-4493-dc86-8824948f100f",
        "id": "JM1u9-Cl6dZT"
      },
      "outputs": [
        {
          "output_type": "execute_result",
          "data": {
            "text/plain": [
              "(6732, 722)"
            ]
          },
          "metadata": {},
          "execution_count": 50
        }
      ],
      "source": [
        "X_train = pd.concat([X_train, X_train_encoded], axis=1)\n",
        "X_train.drop(columns=['subreddit', 'type', 'ticker'], inplace=True)\n",
        "X_train.shape"
      ]
    },
    {
      "cell_type": "code",
      "execution_count": 51,
      "metadata": {
        "colab": {
          "base_uri": "https://localhost:8080/"
        },
        "outputId": "5631cbd0-4d04-46f7-a301-bd7c9e3d6bb3",
        "id": "RMxV4ZbB6dZU"
      },
      "outputs": [
        {
          "output_type": "stream",
          "name": "stderr",
          "text": [
            "/usr/local/lib/python3.11/dist-packages/sklearn/preprocessing/_encoders.py:246: UserWarning: Found unknown categories in columns [2] during transform. These unknown categories will be encoded as all zeros\n",
            "  warnings.warn(\n"
          ]
        },
        {
          "output_type": "execute_result",
          "data": {
            "text/plain": [
              "(1684, 722)"
            ]
          },
          "metadata": {},
          "execution_count": 51
        }
      ],
      "source": [
        "X_test_encoded = ohe.transform(X_test[['subreddit', 'type', 'ticker']])\n",
        "\n",
        "X_test_encoded = pd.DataFrame(X_test_encoded, columns=ohe.get_feature_names_out(), index=X_test.index)\n",
        "\n",
        "X_test = pd.concat([X_test, X_test_encoded], axis=1)\n",
        "X_test.drop(columns=['subreddit', 'type', 'ticker'], inplace=True)\n",
        "\n",
        "X_test.shape"
      ]
    },
    {
      "cell_type": "code",
      "source": [
        "def objective(trial):\n",
        "    param = {\n",
        "        'n_estimators': trial.suggest_int('n_estimators', 50, 500),\n",
        "        'learning_rate': trial.suggest_float('learning_rate', 0.01, 0.3, log=True),\n",
        "        'max_depth': trial.suggest_int('max_depth', 3, 10),\n",
        "        'min_samples_split': trial.suggest_int('min_samples_split', 2, 20),\n",
        "        'min_samples_leaf': trial.suggest_int('min_samples_leaf', 1, 20),\n",
        "        'subsample': trial.suggest_float('subsample', 0.5, 1.0),\n",
        "        'max_features': trial.suggest_categorical('max_features', ['sqrt', 'log2', None])\n",
        "    }\n",
        "    model = GradientBoostingClassifier(**param, random_state=42)\n",
        "    model.fit(X_train, y_train)\n",
        "    y_pred = model.predict(X_test)\n",
        "    f1 = f1_score(y_test, y_pred)\n",
        "    accuracy = accuracy_score(y_test, y_pred)\n",
        "    return f1, accuracy"
      ],
      "metadata": {
        "id": "f4MpwjlG6hBs"
      },
      "execution_count": null,
      "outputs": []
    },
    {
      "cell_type": "code",
      "source": [
        "study = optuna.create_study(directions=['maximize', 'maximize'])\n",
        "study.optimize(objective, n_jobs=-1, n_trials=100)"
      ],
      "metadata": {
        "colab": {
          "base_uri": "https://localhost:8080/"
        },
        "id": "SWtrfZOH8Huw",
        "outputId": "de3580f5-31de-4402-e05b-7de11c3659d1"
      },
      "execution_count": null,
      "outputs": [
        {
          "output_type": "stream",
          "name": "stderr",
          "text": [
            "[I 2025-03-07 23:30:21,487] A new study created in memory with name: no-name-300f5cf3-0625-47d8-9036-5e4c70cf5741\n",
            "[I 2025-03-07 23:30:23,361] Trial 1 finished with values: [0.5558510638297872, 0.6033254156769596] and parameters: {'n_estimators': 100, 'learning_rate': 0.11967665422552573, 'max_depth': 3, 'min_samples_split': 13, 'min_samples_leaf': 15, 'subsample': 0.8705067067174042, 'max_features': 'sqrt'}.\n",
            "[I 2025-03-07 23:30:28,652] Trial 0 finished with values: [0.6072974644403216, 0.6229216152019003] and parameters: {'n_estimators': 229, 'learning_rate': 0.06391389618624012, 'max_depth': 7, 'min_samples_split': 11, 'min_samples_leaf': 13, 'subsample': 0.6959300182993684, 'max_features': 'sqrt'}.\n",
            "[I 2025-03-07 23:30:31,508] Trial 3 finished with values: [0.4234375, 0.5617577197149644] and parameters: {'n_estimators': 229, 'learning_rate': 0.010952366562205532, 'max_depth': 4, 'min_samples_split': 19, 'min_samples_leaf': 17, 'subsample': 0.5165668259765447, 'max_features': 'sqrt'}.\n",
            "[I 2025-03-07 23:30:31,741] Trial 2 finished with values: [0.4742857142857143, 0.5629453681710214] and parameters: {'n_estimators': 386, 'learning_rate': 0.017474285607832755, 'max_depth': 4, 'min_samples_split': 8, 'min_samples_leaf': 16, 'subsample': 0.8156151347775984, 'max_features': 'sqrt'}.\n",
            "[I 2025-03-07 23:30:32,505] Trial 5 finished with values: [0.4015686274509804, 0.5469121140142518] and parameters: {'n_estimators': 77, 'learning_rate': 0.12160705909343325, 'max_depth': 4, 'min_samples_split': 16, 'min_samples_leaf': 18, 'subsample': 0.7788501244341809, 'max_features': 'log2'}.\n",
            "[I 2025-03-07 23:30:33,975] Trial 4 finished with values: [0.6252263126131563, 0.6312351543942993] and parameters: {'n_estimators': 399, 'learning_rate': 0.20754739085144236, 'max_depth': 6, 'min_samples_split': 17, 'min_samples_leaf': 11, 'subsample': 0.8385590630206297, 'max_features': 'log2'}.\n",
            "[I 2025-03-07 23:30:36,325] Trial 7 finished with values: [0.6647024160282852, 0.6621140142517815] and parameters: {'n_estimators': 147, 'learning_rate': 0.2980769981911043, 'max_depth': 8, 'min_samples_split': 5, 'min_samples_leaf': 3, 'subsample': 0.9851536430168523, 'max_features': 'sqrt'}.\n",
            "[I 2025-03-07 23:30:37,436] Trial 8 finished with values: [0.5613577023498695, 0.6009501187648456] and parameters: {'n_estimators': 264, 'learning_rate': 0.10947154124800747, 'max_depth': 3, 'min_samples_split': 16, 'min_samples_leaf': 9, 'subsample': 0.7178848663351134, 'max_features': 'log2'}.\n",
            "[I 2025-03-07 23:30:39,264] Trial 9 finished with values: [0.5697445972495089, 0.6098574821852731] and parameters: {'n_estimators': 427, 'learning_rate': 0.29013853933636946, 'max_depth': 4, 'min_samples_split': 5, 'min_samples_leaf': 19, 'subsample': 0.5016403258844357, 'max_features': 'log2'}.\n",
            "[I 2025-03-07 23:31:01,764] Trial 6 finished with values: [0.7094873305833824, 0.7072446555819477] and parameters: {'n_estimators': 259, 'learning_rate': 0.03078983766672552, 'max_depth': 7, 'min_samples_split': 17, 'min_samples_leaf': 14, 'subsample': 0.5286676545158648, 'max_features': None}.\n",
            "[I 2025-03-07 23:31:03,623] Trial 11 finished with values: [0.5661861074705111, 0.6068883610451307] and parameters: {'n_estimators': 217, 'learning_rate': 0.03146741268364009, 'max_depth': 7, 'min_samples_split': 7, 'min_samples_leaf': 17, 'subsample': 0.740166232011454, 'max_features': 'sqrt'}.\n",
            "[I 2025-03-07 23:31:05,353] Trial 12 finished with values: [0.47542186353631694, 0.5754156769596199] and parameters: {'n_estimators': 157, 'learning_rate': 0.0292949572779129, 'max_depth': 5, 'min_samples_split': 19, 'min_samples_leaf': 4, 'subsample': 0.9789781162676376, 'max_features': 'sqrt'}.\n",
            "[I 2025-03-07 23:31:12,766] Trial 13 finished with values: [0.5530685920577617, 0.6324228028503563] and parameters: {'n_estimators': 58, 'learning_rate': 0.02241299929259572, 'max_depth': 3, 'min_samples_split': 15, 'min_samples_leaf': 1, 'subsample': 0.9886012534462907, 'max_features': None}.\n",
            "[I 2025-03-07 23:31:13,338] Trial 14 finished with values: [0.3690773067331671, 0.5492874109263658] and parameters: {'n_estimators': 86, 'learning_rate': 0.02463158462993892, 'max_depth': 3, 'min_samples_split': 17, 'min_samples_leaf': 19, 'subsample': 0.7894654425559094, 'max_features': 'sqrt'}.\n",
            "[I 2025-03-07 23:32:52,068] Trial 10 finished with values: [0.7461447212336892, 0.7458432304038005] and parameters: {'n_estimators': 471, 'learning_rate': 0.035704978252596456, 'max_depth': 7, 'min_samples_split': 15, 'min_samples_leaf': 12, 'subsample': 0.9639354753715081, 'max_features': None}.\n",
            "[I 2025-03-07 23:32:57,226] Trial 16 finished with values: [0.5530764029749831, 0.6074821852731591] and parameters: {'n_estimators': 337, 'learning_rate': 0.020739833503531018, 'max_depth': 5, 'min_samples_split': 12, 'min_samples_leaf': 18, 'subsample': 0.9771579811118429, 'max_features': 'sqrt'}.\n",
            "[I 2025-03-07 23:33:47,941] Trial 17 finished with values: [0.7139479905437353, 0.7125890736342043] and parameters: {'n_estimators': 370, 'learning_rate': 0.027547305262048384, 'max_depth': 6, 'min_samples_split': 4, 'min_samples_leaf': 14, 'subsample': 0.6057617440538042, 'max_features': None}.\n",
            "[I 2025-03-07 23:34:07,247] Trial 15 finished with values: [0.7702152414194299, 0.7654394299287411] and parameters: {'n_estimators': 460, 'learning_rate': 0.10270500950873558, 'max_depth': 9, 'min_samples_split': 10, 'min_samples_leaf': 4, 'subsample': 0.9995540338327519, 'max_features': None}.\n",
            "[I 2025-03-07 23:34:08,747] Trial 19 finished with values: [0.6150091519219036, 0.6252969121140143] and parameters: {'n_estimators': 293, 'learning_rate': 0.08479378521184112, 'max_depth': 5, 'min_samples_split': 2, 'min_samples_leaf': 6, 'subsample': 0.7666531005222561, 'max_features': 'log2'}.\n",
            "[I 2025-03-07 23:34:12,821] Trial 18 finished with values: [0.7250437828371279, 0.7203087885985748] and parameters: {'n_estimators': 223, 'learning_rate': 0.07608109873276094, 'max_depth': 6, 'min_samples_split': 5, 'min_samples_leaf': 12, 'subsample': 0.5760852962282434, 'max_features': None}.\n",
            "[I 2025-03-07 23:35:12,100] Trial 20 finished with values: [0.7291910902696366, 0.7256532066508313] and parameters: {'n_estimators': 281, 'learning_rate': 0.09606734737192564, 'max_depth': 5, 'min_samples_split': 3, 'min_samples_leaf': 8, 'subsample': 0.8788659529230936, 'max_features': None}.\n",
            "[I 2025-03-07 23:35:26,245] Trial 22 finished with values: [0.6401491609695463, 0.6561757719714965] and parameters: {'n_estimators': 381, 'learning_rate': 0.01593524565707697, 'max_depth': 8, 'min_samples_split': 7, 'min_samples_leaf': 1, 'subsample': 0.6096900762338056, 'max_features': 'sqrt'}.\n",
            "[I 2025-03-07 23:35:49,544] Trial 23 finished with values: [0.7177950868783702, 0.7203087885985748] and parameters: {'n_estimators': 130, 'learning_rate': 0.03398288604956171, 'max_depth': 7, 'min_samples_split': 17, 'min_samples_leaf': 4, 'subsample': 0.7493357390083034, 'max_features': None}.\n",
            "[I 2025-03-07 23:35:51,102] Trial 21 finished with values: [0.7482598607888631, 0.7422802850356295] and parameters: {'n_estimators': 436, 'learning_rate': 0.2357188192359843, 'max_depth': 7, 'min_samples_split': 14, 'min_samples_leaf': 1, 'subsample': 0.6714391407584062, 'max_features': None}.\n",
            "[I 2025-03-07 23:35:51,894] Trial 24 finished with values: [0.6150121065375302, 0.6223277909738717] and parameters: {'n_estimators': 144, 'learning_rate': 0.09976846785046352, 'max_depth': 8, 'min_samples_split': 12, 'min_samples_leaf': 14, 'subsample': 0.774966480013096, 'max_features': 'sqrt'}.\n",
            "[I 2025-03-07 23:35:53,615] Trial 26 finished with values: [0.5107604017216643, 0.5950118764845606] and parameters: {'n_estimators': 191, 'learning_rate': 0.02792570807369791, 'max_depth': 4, 'min_samples_split': 7, 'min_samples_leaf': 6, 'subsample': 0.9783445945589253, 'max_features': 'sqrt'}.\n",
            "[I 2025-03-07 23:35:58,224] Trial 27 finished with values: [0.5363825363825364, 0.6027315914489311] and parameters: {'n_estimators': 405, 'learning_rate': 0.010466675706917731, 'max_depth': 7, 'min_samples_split': 15, 'min_samples_leaf': 11, 'subsample': 0.868597977338151, 'max_features': 'sqrt'}.\n",
            "[I 2025-03-07 23:35:59,545] Trial 28 finished with values: [0.594960049170252, 0.6086698337292161] and parameters: {'n_estimators': 150, 'learning_rate': 0.09453506685457609, 'max_depth': 7, 'min_samples_split': 17, 'min_samples_leaf': 16, 'subsample': 0.7570339190218498, 'max_features': 'sqrt'}.\n",
            "[I 2025-03-07 23:36:07,549] Trial 29 finished with values: [0.6415584415584416, 0.672209026128266] and parameters: {'n_estimators': 73, 'learning_rate': 0.055961632938145905, 'max_depth': 4, 'min_samples_split': 14, 'min_samples_leaf': 19, 'subsample': 0.6996081930893236, 'max_features': None}.\n",
            "[I 2025-03-07 23:36:08,245] Trial 25 finished with values: [0.7048611111111112, 0.6971496437054632] and parameters: {'n_estimators': 189, 'learning_rate': 0.1221361395630382, 'max_depth': 4, 'min_samples_split': 12, 'min_samples_leaf': 14, 'subsample': 0.6677151004501218, 'max_features': None}.\n",
            "[I 2025-03-07 23:36:08,742] Trial 31 finished with values: [0.49199417758369723, 0.5855106888361045] and parameters: {'n_estimators': 107, 'learning_rate': 0.08265851558627015, 'max_depth': 4, 'min_samples_split': 5, 'min_samples_leaf': 9, 'subsample': 0.615102442600415, 'max_features': 'log2'}.\n",
            "[I 2025-03-07 23:36:09,452] Trial 32 finished with values: [0.4095617529880478, 0.5599762470308789] and parameters: {'n_estimators': 155, 'learning_rate': 0.04582910060572111, 'max_depth': 7, 'min_samples_split': 9, 'min_samples_leaf': 17, 'subsample': 0.9240290348538608, 'max_features': 'log2'}.\n",
            "[I 2025-03-07 23:36:15,282] Trial 33 finished with values: [0.6887182516243355, 0.6870546318289786] and parameters: {'n_estimators': 61, 'learning_rate': 0.2169168512262279, 'max_depth': 4, 'min_samples_split': 7, 'min_samples_leaf': 13, 'subsample': 0.7884280852109045, 'max_features': None}.\n",
            "[I 2025-03-07 23:36:16,557] Trial 34 finished with values: [0.3669724770642202, 0.5492874109263658] and parameters: {'n_estimators': 183, 'learning_rate': 0.012198693201630147, 'max_depth': 6, 'min_samples_split': 3, 'min_samples_leaf': 6, 'subsample': 0.7473721231585784, 'max_features': 'log2'}.\n",
            "[I 2025-03-07 23:36:18,389] Trial 35 finished with values: [0.5642715886618326, 0.6074821852731591] and parameters: {'n_estimators': 261, 'learning_rate': 0.14180397796876937, 'max_depth': 9, 'min_samples_split': 9, 'min_samples_leaf': 20, 'subsample': 0.8379694159985498, 'max_features': 'log2'}.\n",
            "[I 2025-03-07 23:36:20,357] Trial 36 finished with values: [0.5589980224126566, 0.6027315914489311] and parameters: {'n_estimators': 269, 'learning_rate': 0.24460631363334123, 'max_depth': 8, 'min_samples_split': 18, 'min_samples_leaf': 17, 'subsample': 0.788822471147913, 'max_features': 'log2'}.\n",
            "[I 2025-03-07 23:36:21,863] Trial 37 finished with values: [0.43309002433090027, 0.584916864608076] and parameters: {'n_estimators': 389, 'learning_rate': 0.01130250485042804, 'max_depth': 4, 'min_samples_split': 4, 'min_samples_leaf': 18, 'subsample': 0.8040303320617299, 'max_features': 'log2'}.\n",
            "[I 2025-03-07 23:36:31,843] Trial 38 finished with values: [0.7051206592113007, 0.7024940617577197] and parameters: {'n_estimators': 73, 'learning_rate': 0.15676801957097794, 'max_depth': 8, 'min_samples_split': 12, 'min_samples_leaf': 20, 'subsample': 0.6339434604882591, 'max_features': None}.\n",
            "[I 2025-03-07 23:36:34,583] Trial 30 finished with values: [0.6996291718170581, 0.7114014251781473] and parameters: {'n_estimators': 174, 'learning_rate': 0.015061035528036875, 'max_depth': 9, 'min_samples_split': 15, 'min_samples_leaf': 10, 'subsample': 0.5855174149333757, 'max_features': None}.\n",
            "[I 2025-03-07 23:36:36,610] Trial 40 finished with values: [0.6588648332358105, 0.6538004750593824] and parameters: {'n_estimators': 246, 'learning_rate': 0.22114721924487912, 'max_depth': 6, 'min_samples_split': 16, 'min_samples_leaf': 11, 'subsample': 0.5900359978906561, 'max_features': 'sqrt'}.\n",
            "[I 2025-03-07 23:36:54,903] Trial 39 finished with values: [0.6896948762233737, 0.6799287410926366] and parameters: {'n_estimators': 344, 'learning_rate': 0.26305135550232134, 'max_depth': 3, 'min_samples_split': 16, 'min_samples_leaf': 18, 'subsample': 0.5678242982712141, 'max_features': None}.\n",
            "[I 2025-03-07 23:37:44,272] Trial 41 finished with values: [0.724198250728863, 0.7191211401425178] and parameters: {'n_estimators': 468, 'learning_rate': 0.0699621924575894, 'max_depth': 4, 'min_samples_split': 11, 'min_samples_leaf': 6, 'subsample': 0.9816765475800326, 'max_features': None}.\n",
            "[I 2025-03-07 23:37:49,967] Trial 43 finished with values: [0.5778364116094987, 0.6199524940617577] and parameters: {'n_estimators': 307, 'learning_rate': 0.02246286698307342, 'max_depth': 9, 'min_samples_split': 5, 'min_samples_leaf': 2, 'subsample': 0.9652788264316702, 'max_features': 'log2'}.\n",
            "[I 2025-03-07 23:37:50,640] Trial 44 finished with values: [0.5515846257585975, 0.6051068883610451] and parameters: {'n_estimators': 148, 'learning_rate': 0.07671042187631066, 'max_depth': 6, 'min_samples_split': 11, 'min_samples_leaf': 5, 'subsample': 0.5042727456112065, 'max_features': 'log2'}.\n",
            "[I 2025-03-07 23:38:09,169] Trial 45 finished with values: [0.7348837209302326, 0.7292161520190024] and parameters: {'n_estimators': 99, 'learning_rate': 0.11715362460071818, 'max_depth': 10, 'min_samples_split': 4, 'min_samples_leaf': 8, 'subsample': 0.6545367320195126, 'max_features': None}.\n",
            "[I 2025-03-07 23:38:10,920] Trial 46 finished with values: [0.5693811074918567, 0.6074821852731591] and parameters: {'n_estimators': 409, 'learning_rate': 0.05750431534708337, 'max_depth': 3, 'min_samples_split': 5, 'min_samples_leaf': 8, 'subsample': 0.982307237537827, 'max_features': 'log2'}.\n",
            "[I 2025-03-07 23:38:12,750] Trial 47 finished with values: [0.4502698535080956, 0.5766033254156769] and parameters: {'n_estimators': 450, 'learning_rate': 0.016420200925503597, 'max_depth': 6, 'min_samples_split': 10, 'min_samples_leaf': 13, 'subsample': 0.7091771847012844, 'max_features': 'log2'}.\n",
            "[I 2025-03-07 23:38:18,258] Trial 42 finished with values: [0.7554252199413489, 0.752375296912114] and parameters: {'n_estimators': 290, 'learning_rate': 0.09921954157342187, 'max_depth': 10, 'min_samples_split': 9, 'min_samples_leaf': 6, 'subsample': 0.8748008169406887, 'max_features': None}.\n",
            "[I 2025-03-07 23:38:24,885] Trial 48 finished with values: [0.694687682428488, 0.6894299287410927] and parameters: {'n_estimators': 85, 'learning_rate': 0.11228592369032321, 'max_depth': 5, 'min_samples_split': 2, 'min_samples_leaf': 18, 'subsample': 0.8110737240536268, 'max_features': None}.\n",
            "[I 2025-03-07 23:38:27,753] Trial 50 finished with values: [0.5780346820809249, 0.6098574821852731] and parameters: {'n_estimators': 391, 'learning_rate': 0.040285693513557895, 'max_depth': 4, 'min_samples_split': 12, 'min_samples_leaf': 17, 'subsample': 0.8104338254223458, 'max_features': 'sqrt'}.\n",
            "[I 2025-03-07 23:38:28,137] Trial 49 finished with values: [0.6982035928143713, 0.7007125890736342] and parameters: {'n_estimators': 102, 'learning_rate': 0.09557849269103966, 'max_depth': 5, 'min_samples_split': 19, 'min_samples_leaf': 18, 'subsample': 0.6681699695525338, 'max_features': None}.\n",
            "[I 2025-03-07 23:38:30,001] Trial 52 finished with values: [0.5774456521739131, 0.6306413301662708] and parameters: {'n_estimators': 147, 'learning_rate': 0.04880391021826391, 'max_depth': 10, 'min_samples_split': 5, 'min_samples_leaf': 6, 'subsample': 0.8748008169406887, 'max_features': 'log2'}.\n",
            "[I 2025-03-07 23:38:32,862] Trial 51 finished with values: [0.6333927510398099, 0.6336104513064132] and parameters: {'n_estimators': 337, 'learning_rate': 0.09606734737192564, 'max_depth': 5, 'min_samples_split': 12, 'min_samples_leaf': 8, 'subsample': 0.8788659529230936, 'max_features': 'sqrt'}.\n",
            "[I 2025-03-07 23:38:33,069] Trial 53 finished with values: [0.6840579710144927, 0.6763657957244655] and parameters: {'n_estimators': 132, 'learning_rate': 0.2880832032178352, 'max_depth': 10, 'min_samples_split': 17, 'min_samples_leaf': 1, 'subsample': 0.7570339190218498, 'max_features': 'sqrt'}.\n",
            "[I 2025-03-07 23:38:37,478] Trial 54 finished with values: [0.6759036144578313, 0.6805225653206651] and parameters: {'n_estimators': 61, 'learning_rate': 0.15676801957097794, 'max_depth': 4, 'min_samples_split': 12, 'min_samples_leaf': 12, 'subsample': 0.6339434604882591, 'max_features': None}.\n",
            "[I 2025-03-07 23:38:38,190] Trial 55 finished with values: [0.6205160478288232, 0.6419239904988123] and parameters: {'n_estimators': 391, 'learning_rate': 0.011718023712336923, 'max_depth': 8, 'min_samples_split': 12, 'min_samples_leaf': 1, 'subsample': 0.6096900762338056, 'max_features': 'sqrt'}.\n",
            "[I 2025-03-07 23:38:38,322] Trial 56 finished with values: [0.435126582278481, 0.5760095011876485] and parameters: {'n_estimators': 139, 'learning_rate': 0.02246286698307342, 'max_depth': 9, 'min_samples_split': 11, 'min_samples_leaf': 5, 'subsample': 0.5042727456112065, 'max_features': 'log2'}.\n",
            "[I 2025-03-07 23:39:08,052] Trial 58 finished with values: [0.70260663507109, 0.7019002375296912] and parameters: {'n_estimators': 290, 'learning_rate': 0.09921954157342187, 'max_depth': 3, 'min_samples_split': 16, 'min_samples_leaf': 9, 'subsample': 0.8748008169406887, 'max_features': None}.\n",
            "[I 2025-03-07 23:39:31,953] Trial 59 finished with values: [0.7049576783555018, 0.7102137767220903] and parameters: {'n_estimators': 189, 'learning_rate': 0.09921954157342187, 'max_depth': 4, 'min_samples_split': 12, 'min_samples_leaf': 14, 'subsample': 0.8748008169406887, 'max_features': None}.\n",
            "[I 2025-03-07 23:39:50,975] Trial 57 finished with values: [0.7302325581395349, 0.7244655581947743] and parameters: {'n_estimators': 436, 'learning_rate': 0.04510647507881349, 'max_depth': 8, 'min_samples_split': 14, 'min_samples_leaf': 14, 'subsample': 0.6714391407584062, 'max_features': None}.\n",
            "[I 2025-03-07 23:40:06,929] Trial 61 finished with values: [0.66541588492808, 0.6823040380047506] and parameters: {'n_estimators': 130, 'learning_rate': 0.03398288604956171, 'max_depth': 4, 'min_samples_split': 17, 'min_samples_leaf': 4, 'subsample': 0.8704666904888372, 'max_features': None}.\n",
            "[I 2025-03-07 23:40:07,598] Trial 62 finished with values: [0.45808383233532934, 0.5700712589073634] and parameters: {'n_estimators': 73, 'learning_rate': 0.055961632938145905, 'max_depth': 7, 'min_samples_split': 6, 'min_samples_leaf': 1, 'subsample': 0.6996081930893236, 'max_features': 'log2'}.\n",
            "[I 2025-03-07 23:40:09,690] Trial 63 finished with values: [0.5649566955363091, 0.6122327790973872] and parameters: {'n_estimators': 450, 'learning_rate': 0.03916871220872842, 'max_depth': 8, 'min_samples_split': 15, 'min_samples_leaf': 10, 'subsample': 0.7091771847012844, 'max_features': 'log2'}.\n",
            "[I 2025-03-07 23:40:35,094] Trial 60 finished with values: [0.7216138328530259, 0.7131828978622328] and parameters: {'n_estimators': 468, 'learning_rate': 0.11228592369032321, 'max_depth': 5, 'min_samples_split': 11, 'min_samples_leaf': 18, 'subsample': 0.8110737240536268, 'max_features': None}.\n",
            "[I 2025-03-07 23:40:45,757] Trial 64 finished with values: [0.7198096371207614, 0.7203087885985748] and parameters: {'n_estimators': 229, 'learning_rate': 0.06391389618624012, 'max_depth': 7, 'min_samples_split': 3, 'min_samples_leaf': 13, 'subsample': 0.6959300182993684, 'max_features': None}.\n",
            "[I 2025-03-07 23:40:47,644] Trial 66 finished with values: [0.6400966183574879, 0.6460807600950119] and parameters: {'n_estimators': 409, 'learning_rate': 0.11715362460071818, 'max_depth': 10, 'min_samples_split': 4, 'min_samples_leaf': 8, 'subsample': 0.6545367320195126, 'max_features': 'log2'}.\n",
            "[I 2025-03-07 23:40:48,931] Trial 67 finished with values: [0.5779987569919205, 0.5967933491686461] and parameters: {'n_estimators': 344, 'learning_rate': 0.20754739085144236, 'max_depth': 3, 'min_samples_split': 17, 'min_samples_leaf': 11, 'subsample': 0.5678242982712141, 'max_features': 'log2'}.\n",
            "[I 2025-03-07 23:40:50,489] Trial 68 finished with values: [0.6392132759680393, 0.6514251781472684] and parameters: {'n_estimators': 150, 'learning_rate': 0.09453506685457609, 'max_depth': 9, 'min_samples_split': 17, 'min_samples_leaf': 2, 'subsample': 0.9652788264316702, 'max_features': 'log2'}.\n",
            "[I 2025-03-07 23:40:51,779] Trial 69 finished with values: [0.6244674376141205, 0.6336104513064132] and parameters: {'n_estimators': 269, 'learning_rate': 0.24460631363334123, 'max_depth': 8, 'min_samples_split': 18, 'min_samples_leaf': 9, 'subsample': 0.788822471147913, 'max_features': 'log2'}.\n",
            "[I 2025-03-07 23:40:58,150] Trial 70 finished with values: [0.6792452830188679, 0.6769596199524941] and parameters: {'n_estimators': 399, 'learning_rate': 0.20754739085144236, 'max_depth': 8, 'min_samples_split': 17, 'min_samples_leaf': 1, 'subsample': 0.6096900762338056, 'max_features': 'sqrt'}.\n",
            "[I 2025-03-07 23:41:17,727] Trial 65 finished with values: [0.7219626168224299, 0.7173396674584323] and parameters: {'n_estimators': 293, 'learning_rate': 0.08479378521184112, 'max_depth': 5, 'min_samples_split': 2, 'min_samples_leaf': 16, 'subsample': 0.8110737240536268, 'max_features': None}.\n",
            "[I 2025-03-07 23:41:47,076] Trial 72 finished with values: [0.7262180974477959, 0.7197149643705463] and parameters: {'n_estimators': 189, 'learning_rate': 0.1221361395630382, 'max_depth': 5, 'min_samples_split': 3, 'min_samples_leaf': 8, 'subsample': 0.8788659529230936, 'max_features': None}.\n",
            "[I 2025-03-07 23:42:12,223] Trial 71 finished with values: [0.7505827505827506, 0.7458432304038005] and parameters: {'n_estimators': 281, 'learning_rate': 0.09606734737192564, 'max_depth': 9, 'min_samples_split': 5, 'min_samples_leaf': 8, 'subsample': 0.8788659529230936, 'max_features': None}.\n",
            "[I 2025-03-07 23:42:25,069] Trial 73 finished with values: [0.7021013597033374, 0.7137767220902613] and parameters: {'n_estimators': 174, 'learning_rate': 0.015061035528036875, 'max_depth': 9, 'min_samples_split': 15, 'min_samples_leaf': 16, 'subsample': 0.7813571119042513, 'max_features': None}.\n",
            "[I 2025-03-07 23:42:31,191] Trial 75 finished with values: [0.6375082836315441, 0.6751781472684085] and parameters: {'n_estimators': 99, 'learning_rate': 0.05750431534708337, 'max_depth': 3, 'min_samples_split': 5, 'min_samples_leaf': 8, 'subsample': 0.6545367320195126, 'max_features': None}.\n",
            "[I 2025-03-07 23:42:47,651] Trial 76 finished with values: [0.7136204889406287, 0.7078384798099763] and parameters: {'n_estimators': 174, 'learning_rate': 0.1367944099319242, 'max_depth': 5, 'min_samples_split': 2, 'min_samples_leaf': 10, 'subsample': 0.5855174149333757, 'max_features': None}.\n",
            "[I 2025-03-07 23:43:01,615] Trial 74 finished with values: [0.7114252061248527, 0.7090261282660333] and parameters: {'n_estimators': 436, 'learning_rate': 0.027547305262048384, 'max_depth': 6, 'min_samples_split': 4, 'min_samples_leaf': 14, 'subsample': 0.6057617440538042, 'max_features': None}.\n",
            "[I 2025-03-07 23:43:02,165] Trial 78 finished with values: [0.5408719346049047, 0.5997624703087886] and parameters: {'n_estimators': 58, 'learning_rate': 0.09453506685457609, 'max_depth': 7, 'min_samples_split': 15, 'min_samples_leaf': 16, 'subsample': 0.7570339190218498, 'max_features': 'sqrt'}.\n",
            "[I 2025-03-07 23:43:14,281] Trial 79 finished with values: [0.6804245283018868, 0.6781472684085511] and parameters: {'n_estimators': 174, 'learning_rate': 0.16045380539043796, 'max_depth': 3, 'min_samples_split': 15, 'min_samples_leaf': 10, 'subsample': 0.5678242982712141, 'max_features': None}.\n",
            "[I 2025-03-07 23:43:16,016] Trial 80 finished with values: [0.5850860420650096, 0.6134204275534442] and parameters: {'n_estimators': 144, 'learning_rate': 0.07608109873276094, 'max_depth': 6, 'min_samples_split': 19, 'min_samples_leaf': 12, 'subsample': 0.5760852962282434, 'max_features': 'sqrt'}.\n",
            "[I 2025-03-07 23:43:18,830] Trial 81 finished with values: [0.5776918117343649, 0.6110451306413301] and parameters: {'n_estimators': 471, 'learning_rate': 0.07671042187631066, 'max_depth': 7, 'min_samples_split': 15, 'min_samples_leaf': 12, 'subsample': 0.5042727456112065, 'max_features': 'log2'}.\n",
            "[I 2025-03-07 23:43:22,528] Trial 77 finished with values: [0.6781914893617021, 0.7125890736342043] and parameters: {'n_estimators': 130, 'learning_rate': 0.03398288604956171, 'max_depth': 7, 'min_samples_split': 17, 'min_samples_leaf': 4, 'subsample': 0.9995540338327519, 'max_features': None}.\n",
            "[I 2025-03-07 23:43:32,699] Trial 83 finished with values: [0.7400828892835998, 0.7393111638954869] and parameters: {'n_estimators': 61, 'learning_rate': 0.2357188192359843, 'max_depth': 7, 'min_samples_split': 7, 'min_samples_leaf': 1, 'subsample': 0.7884280852109045, 'max_features': None}.\n",
            "[I 2025-03-07 23:43:35,259] Trial 84 finished with values: [0.546084546084546, 0.6110451306413301] and parameters: {'n_estimators': 223, 'learning_rate': 0.020739833503531018, 'max_depth': 7, 'min_samples_split': 5, 'min_samples_leaf': 18, 'subsample': 0.5760852962282434, 'max_features': 'sqrt'}.\n",
            "[I 2025-03-07 23:44:01,511] Trial 82 finished with values: [0.7291910902696366, 0.7256532066508313] and parameters: {'n_estimators': 281, 'learning_rate': 0.09606734737192564, 'max_depth': 5, 'min_samples_split': 3, 'min_samples_leaf': 8, 'subsample': 0.8788659529230936, 'max_features': None}.\n",
            "[I 2025-03-07 23:44:02,735] Trial 86 finished with values: [0.5446194225721784, 0.5878859857482185] and parameters: {'n_estimators': 73, 'learning_rate': 0.15676801957097794, 'max_depth': 7, 'min_samples_split': 17, 'min_samples_leaf': 20, 'subsample': 0.7570339190218498, 'max_features': 'sqrt'}.\n",
            "[I 2025-03-07 23:44:05,670] Trial 87 finished with values: [0.646441073512252, 0.6401425178147269] and parameters: {'n_estimators': 246, 'learning_rate': 0.22114721924487912, 'max_depth': 6, 'min_samples_split': 14, 'min_samples_leaf': 19, 'subsample': 0.5900359978906561, 'max_features': 'sqrt'}.\n",
            "[I 2025-03-07 23:44:21,481] Trial 85 finished with values: [0.7163289630512515, 0.7173396674584323] and parameters: {'n_estimators': 259, 'learning_rate': 0.03078983766672552, 'max_depth': 7, 'min_samples_split': 17, 'min_samples_leaf': 17, 'subsample': 0.7884280852109045, 'max_features': None}.\n",
            "[I 2025-03-07 23:45:08,464] Trial 89 finished with values: [0.7332549941245593, 0.7304038004750594] and parameters: {'n_estimators': 229, 'learning_rate': 0.06391389618624012, 'max_depth': 7, 'min_samples_split': 11, 'min_samples_leaf': 14, 'subsample': 0.8968261172981095, 'max_features': None}.\n",
            "[I 2025-03-07 23:45:20,776] Trial 90 finished with values: [0.6735086593970494, 0.6977434679334917] and parameters: {'n_estimators': 85, 'learning_rate': 0.05572687011552259, 'max_depth': 5, 'min_samples_split': 2, 'min_samples_leaf': 4, 'subsample': 0.8110737240536268, 'max_features': None}.\n",
            "[I 2025-03-07 23:45:22,291] Trial 91 finished with values: [0.5664429530201343, 0.6163895486935868] and parameters: {'n_estimators': 293, 'learning_rate': 0.026366436259721186, 'max_depth': 5, 'min_samples_split': 2, 'min_samples_leaf': 6, 'subsample': 0.8018082079419049, 'max_features': 'log2'}.\n",
            "[I 2025-03-07 23:45:23,734] Trial 92 finished with values: [0.6092879256965944, 0.6252969121140143] and parameters: {'n_estimators': 307, 'learning_rate': 0.0769683885604014, 'max_depth': 9, 'min_samples_split': 11, 'min_samples_leaf': 5, 'subsample': 0.5042727456112065, 'max_features': 'log2'}.\n",
            "[I 2025-03-07 23:45:34,704] Trial 88 finished with values: [0.7548273844353423, 0.751187648456057] and parameters: {'n_estimators': 460, 'learning_rate': 0.2357188192359843, 'max_depth': 9, 'min_samples_split': 10, 'min_samples_leaf': 4, 'subsample': 0.6714391407584062, 'max_features': None}.\n",
            "[I 2025-03-07 23:46:06,818] Trial 94 finished with values: [0.7532163742690059, 0.7494061757719715] and parameters: {'n_estimators': 223, 'learning_rate': 0.07608109873276094, 'max_depth': 8, 'min_samples_split': 5, 'min_samples_leaf': 2, 'subsample': 0.5760852962282434, 'max_features': None}.\n",
            "[I 2025-03-07 23:46:09,032] Trial 93 finished with values: [0.6754221388367729, 0.6918052256532067] and parameters: {'n_estimators': 468, 'learning_rate': 0.015269369250017577, 'max_depth': 4, 'min_samples_split': 11, 'min_samples_leaf': 6, 'subsample': 0.6681699695525338, 'max_features': None}.\n",
            "[I 2025-03-07 23:46:16,763] Trial 96 finished with values: [0.6744615384615384, 0.6858669833729216] and parameters: {'n_estimators': 73, 'learning_rate': 0.055961632938145905, 'max_depth': 4, 'min_samples_split': 9, 'min_samples_leaf': 13, 'subsample': 0.6996081930893236, 'max_features': None}.\n",
            "[I 2025-03-07 23:46:17,994] Trial 95 finished with values: [0.7051206592113007, 0.7024940617577197] and parameters: {'n_estimators': 73, 'learning_rate': 0.15676801957097794, 'max_depth': 8, 'min_samples_split': 19, 'min_samples_leaf': 20, 'subsample': 0.6339434604882591, 'max_features': None}.\n",
            "[I 2025-03-07 23:46:20,203] Trial 97 finished with values: [0.6620370370370371, 0.6532066508313539] and parameters: {'n_estimators': 399, 'learning_rate': 0.22114721924487912, 'max_depth': 6, 'min_samples_split': 17, 'min_samples_leaf': 11, 'subsample': 0.5900359978906561, 'max_features': 'sqrt'}.\n",
            "[I 2025-03-07 23:46:31,042] Trial 98 finished with values: [0.6863753213367609, 0.7102137767220903] and parameters: {'n_estimators': 73, 'learning_rate': 0.014346433926006298, 'max_depth': 10, 'min_samples_split': 12, 'min_samples_leaf': 8, 'subsample': 0.6339434604882591, 'max_features': None}.\n",
            "[I 2025-03-07 23:46:35,101] Trial 99 finished with values: [0.6623207301173403, 0.6923990498812351] and parameters: {'n_estimators': 102, 'learning_rate': 0.07409457509582347, 'max_depth': 5, 'min_samples_split': 19, 'min_samples_leaf': 4, 'subsample': 0.9789781162676376, 'max_features': None}.\n"
          ]
        }
      ]
    },
    {
      "cell_type": "code",
      "source": [
        "pareto_front_trials = study.best_trials\n",
        "\n",
        "for trial in pareto_front_trials:\n",
        "    print(f\"Trial number: {trial.number}\")\n",
        "    print(f\"Parameters: {trial.params}\")\n",
        "    print(f\"Objective values: {trial.values}\")\n",
        "    print(\"\\n\")"
      ],
      "metadata": {
        "colab": {
          "base_uri": "https://localhost:8080/"
        },
        "id": "DS7oTNjIBDk3",
        "outputId": "5f83bfc0-b987-4e65-8803-15a078c2eba9"
      },
      "execution_count": null,
      "outputs": [
        {
          "output_type": "stream",
          "name": "stdout",
          "text": [
            "Trial number: 15\n",
            "Parameters: {'n_estimators': 460, 'learning_rate': 0.10270500950873558, 'max_depth': 9, 'min_samples_split': 10, 'min_samples_leaf': 4, 'subsample': 0.9995540338327519, 'max_features': None}\n",
            "Objective values: [0.7702152414194299, 0.7654394299287411]\n",
            "\n",
            "\n"
          ]
        }
      ]
    },
    {
      "cell_type": "code",
      "source": [
        "best_parameters = {'n_estimators': 460, 'learning_rate': 0.10270500950873558, 'max_depth': 9, 'min_samples_split': 10, 'min_samples_leaf': 4, 'subsample': 0.9995540338327519, 'max_features': None}\n",
        "\n",
        "best_gbc = GradientBoostingClassifier(**best_parameters)\n",
        "best_gbc.fit(X_train, y_train)\n",
        "\n",
        "pred_train = best_gbc.predict(X_train)\n",
        "pred_test = best_gbc.predict(X_test)\n",
        "\n",
        "classification_metrics(y_train, pred_train, y_test, pred_test)"
      ],
      "metadata": {
        "colab": {
          "base_uri": "https://localhost:8080/"
        },
        "id": "l_1XEB2HFBZw",
        "outputId": "f62ee62c-3536-484a-9588-0baa4ec10018"
      },
      "execution_count": null,
      "outputs": [
        {
          "output_type": "stream",
          "name": "stdout",
          "text": [
            "Accuracy_train: 0.9875222816399287\n",
            "Precision_train: 0.9870364787458547\n",
            "Recall_train: 0.98763197586727\n",
            "F1_train: 0.9873341375150784\n",
            "----------------------\n",
            "Accuracy_test: 0.7618764845605701\n",
            "Precision_test: 0.7667057444314185\n",
            "Recall_test: 0.764018691588785\n",
            "F1_test: 0.7653598595669983\n"
          ]
        }
      ]
    },
    {
      "cell_type": "code",
      "source": [
        "import optuna.visualization as vis\n",
        "\n",
        "def target_f1(trial):\n",
        "    return trial.values[0]\n",
        "\n",
        "vis.plot_param_importances(study).show()\n",
        "vis.plot_optimization_history(study, target=target_f1, target_name=\"f1 score\").show()\n",
        "vis.plot_parallel_coordinate(study, target=target_f1, target_name=\"f1 score\").show()"
      ],
      "metadata": {
        "colab": {
          "base_uri": "https://localhost:8080/",
          "height": 1000
        },
        "id": "5cJFJJjMGU44",
        "outputId": "37661491-ec20-4746-8dad-66bace5e0b5a"
      },
      "execution_count": null,
      "outputs": [
        {
          "output_type": "display_data",
          "data": {
            "text/html": [
              "<html>\n",
              "<head><meta charset=\"utf-8\" /></head>\n",
              "<body>\n",
              "    <div>            <script src=\"https://cdnjs.cloudflare.com/ajax/libs/mathjax/2.7.5/MathJax.js?config=TeX-AMS-MML_SVG\"></script><script type=\"text/javascript\">if (window.MathJax && window.MathJax.Hub && window.MathJax.Hub.Config) {window.MathJax.Hub.Config({SVG: {font: \"STIX-Web\"}});}</script>                <script type=\"text/javascript\">window.PlotlyConfig = {MathJaxConfig: 'local'};</script>\n",
              "        <script charset=\"utf-8\" src=\"https://cdn.plot.ly/plotly-2.35.2.min.js\"></script>                <div id=\"d6fc60f1-3350-4c3c-837d-bbb999f33c98\" class=\"plotly-graph-div\" style=\"height:525px; width:100%;\"></div>            <script type=\"text/javascript\">                                    window.PLOTLYENV=window.PLOTLYENV || {};                                    if (document.getElementById(\"d6fc60f1-3350-4c3c-837d-bbb999f33c98\")) {                    Plotly.newPlot(                        \"d6fc60f1-3350-4c3c-837d-bbb999f33c98\",                        [{\"cliponaxis\":false,\"hovertemplate\":[\"subsample (FloatDistribution): 0.003979872795016312\\u003cextra\\u003e\\u003c\\u002fextra\\u003e\",\"min_samples_split (IntDistribution): 0.004912533796501142\\u003cextra\\u003e\\u003c\\u002fextra\\u003e\",\"min_samples_leaf (IntDistribution): 0.022362569251976154\\u003cextra\\u003e\\u003c\\u002fextra\\u003e\",\"max_depth (IntDistribution): 0.03919338574579695\\u003cextra\\u003e\\u003c\\u002fextra\\u003e\",\"learning_rate (FloatDistribution): 0.058556105221091684\\u003cextra\\u003e\\u003c\\u002fextra\\u003e\",\"n_estimators (IntDistribution): 0.09681800910392341\\u003cextra\\u003e\\u003c\\u002fextra\\u003e\",\"max_features (CategoricalDistribution): 0.7741775240856943\\u003cextra\\u003e\\u003c\\u002fextra\\u003e\"],\"name\":\"Objective Value 0\",\"orientation\":\"h\",\"text\":[\"\\u003c0.01\",\"\\u003c0.01\",\"0.02\",\"0.04\",\"0.06\",\"0.10\",\"0.77\"],\"textposition\":\"outside\",\"x\":[0.003979872795016312,0.004912533796501142,0.022362569251976154,0.03919338574579695,0.058556105221091684,0.09681800910392341,0.7741775240856943],\"y\":[\"subsample\",\"min_samples_split\",\"min_samples_leaf\",\"max_depth\",\"learning_rate\",\"n_estimators\",\"max_features\"],\"type\":\"bar\"},{\"cliponaxis\":false,\"hovertemplate\":[\"min_samples_split (IntDistribution): 0.001673079182635618\\u003cextra\\u003e\\u003c\\u002fextra\\u003e\",\"subsample (FloatDistribution): 0.005181395392508384\\u003cextra\\u003e\\u003c\\u002fextra\\u003e\",\"learning_rate (FloatDistribution): 0.02032822283119551\\u003cextra\\u003e\\u003c\\u002fextra\\u003e\",\"min_samples_leaf (IntDistribution): 0.021508339905916406\\u003cextra\\u003e\\u003c\\u002fextra\\u003e\",\"n_estimators (IntDistribution): 0.024657407281041814\\u003cextra\\u003e\\u003c\\u002fextra\\u003e\",\"max_depth (IntDistribution): 0.040237596050127084\\u003cextra\\u003e\\u003c\\u002fextra\\u003e\",\"max_features (CategoricalDistribution): 0.8864139593565753\\u003cextra\\u003e\\u003c\\u002fextra\\u003e\"],\"name\":\"Objective Value 1\",\"orientation\":\"h\",\"text\":[\"\\u003c0.01\",\"\\u003c0.01\",\"0.02\",\"0.02\",\"0.02\",\"0.04\",\"0.89\"],\"textposition\":\"outside\",\"x\":[0.001673079182635618,0.005181395392508384,0.02032822283119551,0.021508339905916406,0.024657407281041814,0.040237596050127084,0.8864139593565753],\"y\":[\"min_samples_split\",\"subsample\",\"learning_rate\",\"min_samples_leaf\",\"n_estimators\",\"max_depth\",\"max_features\"],\"type\":\"bar\"}],                        {\"title\":{\"text\":\"Hyperparameter Importances\"},\"xaxis\":{\"title\":{\"text\":\"Hyperparameter Importance\"}},\"yaxis\":{\"title\":{\"text\":\"Hyperparameter\"}},\"template\":{\"data\":{\"histogram2dcontour\":[{\"type\":\"histogram2dcontour\",\"colorbar\":{\"outlinewidth\":0,\"ticks\":\"\"},\"colorscale\":[[0.0,\"#0d0887\"],[0.1111111111111111,\"#46039f\"],[0.2222222222222222,\"#7201a8\"],[0.3333333333333333,\"#9c179e\"],[0.4444444444444444,\"#bd3786\"],[0.5555555555555556,\"#d8576b\"],[0.6666666666666666,\"#ed7953\"],[0.7777777777777778,\"#fb9f3a\"],[0.8888888888888888,\"#fdca26\"],[1.0,\"#f0f921\"]]}],\"choropleth\":[{\"type\":\"choropleth\",\"colorbar\":{\"outlinewidth\":0,\"ticks\":\"\"}}],\"histogram2d\":[{\"type\":\"histogram2d\",\"colorbar\":{\"outlinewidth\":0,\"ticks\":\"\"},\"colorscale\":[[0.0,\"#0d0887\"],[0.1111111111111111,\"#46039f\"],[0.2222222222222222,\"#7201a8\"],[0.3333333333333333,\"#9c179e\"],[0.4444444444444444,\"#bd3786\"],[0.5555555555555556,\"#d8576b\"],[0.6666666666666666,\"#ed7953\"],[0.7777777777777778,\"#fb9f3a\"],[0.8888888888888888,\"#fdca26\"],[1.0,\"#f0f921\"]]}],\"heatmap\":[{\"type\":\"heatmap\",\"colorbar\":{\"outlinewidth\":0,\"ticks\":\"\"},\"colorscale\":[[0.0,\"#0d0887\"],[0.1111111111111111,\"#46039f\"],[0.2222222222222222,\"#7201a8\"],[0.3333333333333333,\"#9c179e\"],[0.4444444444444444,\"#bd3786\"],[0.5555555555555556,\"#d8576b\"],[0.6666666666666666,\"#ed7953\"],[0.7777777777777778,\"#fb9f3a\"],[0.8888888888888888,\"#fdca26\"],[1.0,\"#f0f921\"]]}],\"heatmapgl\":[{\"type\":\"heatmapgl\",\"colorbar\":{\"outlinewidth\":0,\"ticks\":\"\"},\"colorscale\":[[0.0,\"#0d0887\"],[0.1111111111111111,\"#46039f\"],[0.2222222222222222,\"#7201a8\"],[0.3333333333333333,\"#9c179e\"],[0.4444444444444444,\"#bd3786\"],[0.5555555555555556,\"#d8576b\"],[0.6666666666666666,\"#ed7953\"],[0.7777777777777778,\"#fb9f3a\"],[0.8888888888888888,\"#fdca26\"],[1.0,\"#f0f921\"]]}],\"contourcarpet\":[{\"type\":\"contourcarpet\",\"colorbar\":{\"outlinewidth\":0,\"ticks\":\"\"}}],\"contour\":[{\"type\":\"contour\",\"colorbar\":{\"outlinewidth\":0,\"ticks\":\"\"},\"colorscale\":[[0.0,\"#0d0887\"],[0.1111111111111111,\"#46039f\"],[0.2222222222222222,\"#7201a8\"],[0.3333333333333333,\"#9c179e\"],[0.4444444444444444,\"#bd3786\"],[0.5555555555555556,\"#d8576b\"],[0.6666666666666666,\"#ed7953\"],[0.7777777777777778,\"#fb9f3a\"],[0.8888888888888888,\"#fdca26\"],[1.0,\"#f0f921\"]]}],\"surface\":[{\"type\":\"surface\",\"colorbar\":{\"outlinewidth\":0,\"ticks\":\"\"},\"colorscale\":[[0.0,\"#0d0887\"],[0.1111111111111111,\"#46039f\"],[0.2222222222222222,\"#7201a8\"],[0.3333333333333333,\"#9c179e\"],[0.4444444444444444,\"#bd3786\"],[0.5555555555555556,\"#d8576b\"],[0.6666666666666666,\"#ed7953\"],[0.7777777777777778,\"#fb9f3a\"],[0.8888888888888888,\"#fdca26\"],[1.0,\"#f0f921\"]]}],\"mesh3d\":[{\"type\":\"mesh3d\",\"colorbar\":{\"outlinewidth\":0,\"ticks\":\"\"}}],\"scatter\":[{\"fillpattern\":{\"fillmode\":\"overlay\",\"size\":10,\"solidity\":0.2},\"type\":\"scatter\"}],\"parcoords\":[{\"type\":\"parcoords\",\"line\":{\"colorbar\":{\"outlinewidth\":0,\"ticks\":\"\"}}}],\"scatterpolargl\":[{\"type\":\"scatterpolargl\",\"marker\":{\"colorbar\":{\"outlinewidth\":0,\"ticks\":\"\"}}}],\"bar\":[{\"error_x\":{\"color\":\"#2a3f5f\"},\"error_y\":{\"color\":\"#2a3f5f\"},\"marker\":{\"line\":{\"color\":\"#E5ECF6\",\"width\":0.5},\"pattern\":{\"fillmode\":\"overlay\",\"size\":10,\"solidity\":0.2}},\"type\":\"bar\"}],\"scattergeo\":[{\"type\":\"scattergeo\",\"marker\":{\"colorbar\":{\"outlinewidth\":0,\"ticks\":\"\"}}}],\"scatterpolar\":[{\"type\":\"scatterpolar\",\"marker\":{\"colorbar\":{\"outlinewidth\":0,\"ticks\":\"\"}}}],\"histogram\":[{\"marker\":{\"pattern\":{\"fillmode\":\"overlay\",\"size\":10,\"solidity\":0.2}},\"type\":\"histogram\"}],\"scattergl\":[{\"type\":\"scattergl\",\"marker\":{\"colorbar\":{\"outlinewidth\":0,\"ticks\":\"\"}}}],\"scatter3d\":[{\"type\":\"scatter3d\",\"line\":{\"colorbar\":{\"outlinewidth\":0,\"ticks\":\"\"}},\"marker\":{\"colorbar\":{\"outlinewidth\":0,\"ticks\":\"\"}}}],\"scattermapbox\":[{\"type\":\"scattermapbox\",\"marker\":{\"colorbar\":{\"outlinewidth\":0,\"ticks\":\"\"}}}],\"scatterternary\":[{\"type\":\"scatterternary\",\"marker\":{\"colorbar\":{\"outlinewidth\":0,\"ticks\":\"\"}}}],\"scattercarpet\":[{\"type\":\"scattercarpet\",\"marker\":{\"colorbar\":{\"outlinewidth\":0,\"ticks\":\"\"}}}],\"carpet\":[{\"aaxis\":{\"endlinecolor\":\"#2a3f5f\",\"gridcolor\":\"white\",\"linecolor\":\"white\",\"minorgridcolor\":\"white\",\"startlinecolor\":\"#2a3f5f\"},\"baxis\":{\"endlinecolor\":\"#2a3f5f\",\"gridcolor\":\"white\",\"linecolor\":\"white\",\"minorgridcolor\":\"white\",\"startlinecolor\":\"#2a3f5f\"},\"type\":\"carpet\"}],\"table\":[{\"cells\":{\"fill\":{\"color\":\"#EBF0F8\"},\"line\":{\"color\":\"white\"}},\"header\":{\"fill\":{\"color\":\"#C8D4E3\"},\"line\":{\"color\":\"white\"}},\"type\":\"table\"}],\"barpolar\":[{\"marker\":{\"line\":{\"color\":\"#E5ECF6\",\"width\":0.5},\"pattern\":{\"fillmode\":\"overlay\",\"size\":10,\"solidity\":0.2}},\"type\":\"barpolar\"}],\"pie\":[{\"automargin\":true,\"type\":\"pie\"}]},\"layout\":{\"autotypenumbers\":\"strict\",\"colorway\":[\"#636efa\",\"#EF553B\",\"#00cc96\",\"#ab63fa\",\"#FFA15A\",\"#19d3f3\",\"#FF6692\",\"#B6E880\",\"#FF97FF\",\"#FECB52\"],\"font\":{\"color\":\"#2a3f5f\"},\"hovermode\":\"closest\",\"hoverlabel\":{\"align\":\"left\"},\"paper_bgcolor\":\"white\",\"plot_bgcolor\":\"#E5ECF6\",\"polar\":{\"bgcolor\":\"#E5ECF6\",\"angularaxis\":{\"gridcolor\":\"white\",\"linecolor\":\"white\",\"ticks\":\"\"},\"radialaxis\":{\"gridcolor\":\"white\",\"linecolor\":\"white\",\"ticks\":\"\"}},\"ternary\":{\"bgcolor\":\"#E5ECF6\",\"aaxis\":{\"gridcolor\":\"white\",\"linecolor\":\"white\",\"ticks\":\"\"},\"baxis\":{\"gridcolor\":\"white\",\"linecolor\":\"white\",\"ticks\":\"\"},\"caxis\":{\"gridcolor\":\"white\",\"linecolor\":\"white\",\"ticks\":\"\"}},\"coloraxis\":{\"colorbar\":{\"outlinewidth\":0,\"ticks\":\"\"}},\"colorscale\":{\"sequential\":[[0.0,\"#0d0887\"],[0.1111111111111111,\"#46039f\"],[0.2222222222222222,\"#7201a8\"],[0.3333333333333333,\"#9c179e\"],[0.4444444444444444,\"#bd3786\"],[0.5555555555555556,\"#d8576b\"],[0.6666666666666666,\"#ed7953\"],[0.7777777777777778,\"#fb9f3a\"],[0.8888888888888888,\"#fdca26\"],[1.0,\"#f0f921\"]],\"sequentialminus\":[[0.0,\"#0d0887\"],[0.1111111111111111,\"#46039f\"],[0.2222222222222222,\"#7201a8\"],[0.3333333333333333,\"#9c179e\"],[0.4444444444444444,\"#bd3786\"],[0.5555555555555556,\"#d8576b\"],[0.6666666666666666,\"#ed7953\"],[0.7777777777777778,\"#fb9f3a\"],[0.8888888888888888,\"#fdca26\"],[1.0,\"#f0f921\"]],\"diverging\":[[0,\"#8e0152\"],[0.1,\"#c51b7d\"],[0.2,\"#de77ae\"],[0.3,\"#f1b6da\"],[0.4,\"#fde0ef\"],[0.5,\"#f7f7f7\"],[0.6,\"#e6f5d0\"],[0.7,\"#b8e186\"],[0.8,\"#7fbc41\"],[0.9,\"#4d9221\"],[1,\"#276419\"]]},\"xaxis\":{\"gridcolor\":\"white\",\"linecolor\":\"white\",\"ticks\":\"\",\"title\":{\"standoff\":15},\"zerolinecolor\":\"white\",\"automargin\":true,\"zerolinewidth\":2},\"yaxis\":{\"gridcolor\":\"white\",\"linecolor\":\"white\",\"ticks\":\"\",\"title\":{\"standoff\":15},\"zerolinecolor\":\"white\",\"automargin\":true,\"zerolinewidth\":2},\"scene\":{\"xaxis\":{\"backgroundcolor\":\"#E5ECF6\",\"gridcolor\":\"white\",\"linecolor\":\"white\",\"showbackground\":true,\"ticks\":\"\",\"zerolinecolor\":\"white\",\"gridwidth\":2},\"yaxis\":{\"backgroundcolor\":\"#E5ECF6\",\"gridcolor\":\"white\",\"linecolor\":\"white\",\"showbackground\":true,\"ticks\":\"\",\"zerolinecolor\":\"white\",\"gridwidth\":2},\"zaxis\":{\"backgroundcolor\":\"#E5ECF6\",\"gridcolor\":\"white\",\"linecolor\":\"white\",\"showbackground\":true,\"ticks\":\"\",\"zerolinecolor\":\"white\",\"gridwidth\":2}},\"shapedefaults\":{\"line\":{\"color\":\"#2a3f5f\"}},\"annotationdefaults\":{\"arrowcolor\":\"#2a3f5f\",\"arrowhead\":0,\"arrowwidth\":1},\"geo\":{\"bgcolor\":\"white\",\"landcolor\":\"#E5ECF6\",\"subunitcolor\":\"white\",\"showland\":true,\"showlakes\":true,\"lakecolor\":\"white\"},\"title\":{\"x\":0.05},\"mapbox\":{\"style\":\"light\"}}}},                        {\"responsive\": true}                    ).then(function(){\n",
              "                            \n",
              "var gd = document.getElementById('d6fc60f1-3350-4c3c-837d-bbb999f33c98');\n",
              "var x = new MutationObserver(function (mutations, observer) {{\n",
              "        var display = window.getComputedStyle(gd).display;\n",
              "        if (!display || display === 'none') {{\n",
              "            console.log([gd, 'removed!']);\n",
              "            Plotly.purge(gd);\n",
              "            observer.disconnect();\n",
              "        }}\n",
              "}});\n",
              "\n",
              "// Listen for the removal of the full notebook cells\n",
              "var notebookContainer = gd.closest('#notebook-container');\n",
              "if (notebookContainer) {{\n",
              "    x.observe(notebookContainer, {childList: true});\n",
              "}}\n",
              "\n",
              "// Listen for the clearing of the current output cell\n",
              "var outputEl = gd.closest('.output');\n",
              "if (outputEl) {{\n",
              "    x.observe(outputEl, {childList: true});\n",
              "}}\n",
              "\n",
              "                        })                };                            </script>        </div>\n",
              "</body>\n",
              "</html>"
            ]
          },
          "metadata": {}
        },
        {
          "output_type": "display_data",
          "data": {
            "text/html": [
              "<html>\n",
              "<head><meta charset=\"utf-8\" /></head>\n",
              "<body>\n",
              "    <div>            <script src=\"https://cdnjs.cloudflare.com/ajax/libs/mathjax/2.7.5/MathJax.js?config=TeX-AMS-MML_SVG\"></script><script type=\"text/javascript\">if (window.MathJax && window.MathJax.Hub && window.MathJax.Hub.Config) {window.MathJax.Hub.Config({SVG: {font: \"STIX-Web\"}});}</script>                <script type=\"text/javascript\">window.PlotlyConfig = {MathJaxConfig: 'local'};</script>\n",
              "        <script charset=\"utf-8\" src=\"https://cdn.plot.ly/plotly-2.35.2.min.js\"></script>                <div id=\"7c547a94-dd8c-4520-9a7d-e94b32dc81f6\" class=\"plotly-graph-div\" style=\"height:525px; width:100%;\"></div>            <script type=\"text/javascript\">                                    window.PLOTLYENV=window.PLOTLYENV || {};                                    if (document.getElementById(\"7c547a94-dd8c-4520-9a7d-e94b32dc81f6\")) {                    Plotly.newPlot(                        \"7c547a94-dd8c-4520-9a7d-e94b32dc81f6\",                        [{\"mode\":\"markers\",\"name\":\"f1 score\",\"x\":[0,1,2,3,4,5,6,7,8,9,10,11,12,13,14,15,16,17,18,19,20,21,22,23,24,25,26,27,28,29,30,31,32,33,34,35,36,37,38,39,40,41,42,43,44,45,46,47,48,49,50,51,52,53,54,55,56,57,58,59,60,61,62,63,64,65,66,67,68,69,70,71,72,73,74,75,76,77,78,79,80,81,82,83,84,85,86,87,88,89,90,91,92,93,94,95,96,97,98,99],\"y\":[0.6072974644403216,0.5558510638297872,0.4742857142857143,0.4234375,0.6252263126131563,0.4015686274509804,0.7094873305833824,0.6647024160282852,0.5613577023498695,0.5697445972495089,0.7461447212336892,0.5661861074705111,0.47542186353631694,0.5530685920577617,0.3690773067331671,0.7702152414194299,0.5530764029749831,0.7139479905437353,0.7250437828371279,0.6150091519219036,0.7291910902696366,0.7482598607888631,0.6401491609695463,0.7177950868783702,0.6150121065375302,0.7048611111111112,0.5107604017216643,0.5363825363825364,0.594960049170252,0.6415584415584416,0.6996291718170581,0.49199417758369723,0.4095617529880478,0.6887182516243355,0.3669724770642202,0.5642715886618326,0.5589980224126566,0.43309002433090027,0.7051206592113007,0.6896948762233737,0.6588648332358105,0.724198250728863,0.7554252199413489,0.5778364116094987,0.5515846257585975,0.7348837209302326,0.5693811074918567,0.4502698535080956,0.694687682428488,0.6982035928143713,0.5780346820809249,0.6333927510398099,0.5774456521739131,0.6840579710144927,0.6759036144578313,0.6205160478288232,0.435126582278481,0.7302325581395349,0.70260663507109,0.7049576783555018,0.7216138328530259,0.66541588492808,0.45808383233532934,0.5649566955363091,0.7198096371207614,0.7219626168224299,0.6400966183574879,0.5779987569919205,0.6392132759680393,0.6244674376141205,0.6792452830188679,0.7505827505827506,0.7262180974477959,0.7021013597033374,0.7114252061248527,0.6375082836315441,0.7136204889406287,0.6781914893617021,0.5408719346049047,0.6804245283018868,0.5850860420650096,0.5776918117343649,0.7291910902696366,0.7400828892835998,0.546084546084546,0.7163289630512515,0.5446194225721784,0.646441073512252,0.7548273844353423,0.7332549941245593,0.6735086593970494,0.5664429530201343,0.6092879256965944,0.6754221388367729,0.7532163742690059,0.7051206592113007,0.6744615384615384,0.6620370370370371,0.6863753213367609,0.6623207301173403],\"type\":\"scatter\"},{\"marker\":{\"color\":\"#cccccc\"},\"mode\":\"markers\",\"name\":\"Infeasible Trial\",\"showlegend\":false,\"x\":[],\"y\":[],\"type\":\"scatter\"}],                        {\"title\":{\"text\":\"Optimization History Plot\"},\"xaxis\":{\"title\":{\"text\":\"Trial\"}},\"yaxis\":{\"title\":{\"text\":\"f1 score\"}},\"template\":{\"data\":{\"histogram2dcontour\":[{\"type\":\"histogram2dcontour\",\"colorbar\":{\"outlinewidth\":0,\"ticks\":\"\"},\"colorscale\":[[0.0,\"#0d0887\"],[0.1111111111111111,\"#46039f\"],[0.2222222222222222,\"#7201a8\"],[0.3333333333333333,\"#9c179e\"],[0.4444444444444444,\"#bd3786\"],[0.5555555555555556,\"#d8576b\"],[0.6666666666666666,\"#ed7953\"],[0.7777777777777778,\"#fb9f3a\"],[0.8888888888888888,\"#fdca26\"],[1.0,\"#f0f921\"]]}],\"choropleth\":[{\"type\":\"choropleth\",\"colorbar\":{\"outlinewidth\":0,\"ticks\":\"\"}}],\"histogram2d\":[{\"type\":\"histogram2d\",\"colorbar\":{\"outlinewidth\":0,\"ticks\":\"\"},\"colorscale\":[[0.0,\"#0d0887\"],[0.1111111111111111,\"#46039f\"],[0.2222222222222222,\"#7201a8\"],[0.3333333333333333,\"#9c179e\"],[0.4444444444444444,\"#bd3786\"],[0.5555555555555556,\"#d8576b\"],[0.6666666666666666,\"#ed7953\"],[0.7777777777777778,\"#fb9f3a\"],[0.8888888888888888,\"#fdca26\"],[1.0,\"#f0f921\"]]}],\"heatmap\":[{\"type\":\"heatmap\",\"colorbar\":{\"outlinewidth\":0,\"ticks\":\"\"},\"colorscale\":[[0.0,\"#0d0887\"],[0.1111111111111111,\"#46039f\"],[0.2222222222222222,\"#7201a8\"],[0.3333333333333333,\"#9c179e\"],[0.4444444444444444,\"#bd3786\"],[0.5555555555555556,\"#d8576b\"],[0.6666666666666666,\"#ed7953\"],[0.7777777777777778,\"#fb9f3a\"],[0.8888888888888888,\"#fdca26\"],[1.0,\"#f0f921\"]]}],\"heatmapgl\":[{\"type\":\"heatmapgl\",\"colorbar\":{\"outlinewidth\":0,\"ticks\":\"\"},\"colorscale\":[[0.0,\"#0d0887\"],[0.1111111111111111,\"#46039f\"],[0.2222222222222222,\"#7201a8\"],[0.3333333333333333,\"#9c179e\"],[0.4444444444444444,\"#bd3786\"],[0.5555555555555556,\"#d8576b\"],[0.6666666666666666,\"#ed7953\"],[0.7777777777777778,\"#fb9f3a\"],[0.8888888888888888,\"#fdca26\"],[1.0,\"#f0f921\"]]}],\"contourcarpet\":[{\"type\":\"contourcarpet\",\"colorbar\":{\"outlinewidth\":0,\"ticks\":\"\"}}],\"contour\":[{\"type\":\"contour\",\"colorbar\":{\"outlinewidth\":0,\"ticks\":\"\"},\"colorscale\":[[0.0,\"#0d0887\"],[0.1111111111111111,\"#46039f\"],[0.2222222222222222,\"#7201a8\"],[0.3333333333333333,\"#9c179e\"],[0.4444444444444444,\"#bd3786\"],[0.5555555555555556,\"#d8576b\"],[0.6666666666666666,\"#ed7953\"],[0.7777777777777778,\"#fb9f3a\"],[0.8888888888888888,\"#fdca26\"],[1.0,\"#f0f921\"]]}],\"surface\":[{\"type\":\"surface\",\"colorbar\":{\"outlinewidth\":0,\"ticks\":\"\"},\"colorscale\":[[0.0,\"#0d0887\"],[0.1111111111111111,\"#46039f\"],[0.2222222222222222,\"#7201a8\"],[0.3333333333333333,\"#9c179e\"],[0.4444444444444444,\"#bd3786\"],[0.5555555555555556,\"#d8576b\"],[0.6666666666666666,\"#ed7953\"],[0.7777777777777778,\"#fb9f3a\"],[0.8888888888888888,\"#fdca26\"],[1.0,\"#f0f921\"]]}],\"mesh3d\":[{\"type\":\"mesh3d\",\"colorbar\":{\"outlinewidth\":0,\"ticks\":\"\"}}],\"scatter\":[{\"fillpattern\":{\"fillmode\":\"overlay\",\"size\":10,\"solidity\":0.2},\"type\":\"scatter\"}],\"parcoords\":[{\"type\":\"parcoords\",\"line\":{\"colorbar\":{\"outlinewidth\":0,\"ticks\":\"\"}}}],\"scatterpolargl\":[{\"type\":\"scatterpolargl\",\"marker\":{\"colorbar\":{\"outlinewidth\":0,\"ticks\":\"\"}}}],\"bar\":[{\"error_x\":{\"color\":\"#2a3f5f\"},\"error_y\":{\"color\":\"#2a3f5f\"},\"marker\":{\"line\":{\"color\":\"#E5ECF6\",\"width\":0.5},\"pattern\":{\"fillmode\":\"overlay\",\"size\":10,\"solidity\":0.2}},\"type\":\"bar\"}],\"scattergeo\":[{\"type\":\"scattergeo\",\"marker\":{\"colorbar\":{\"outlinewidth\":0,\"ticks\":\"\"}}}],\"scatterpolar\":[{\"type\":\"scatterpolar\",\"marker\":{\"colorbar\":{\"outlinewidth\":0,\"ticks\":\"\"}}}],\"histogram\":[{\"marker\":{\"pattern\":{\"fillmode\":\"overlay\",\"size\":10,\"solidity\":0.2}},\"type\":\"histogram\"}],\"scattergl\":[{\"type\":\"scattergl\",\"marker\":{\"colorbar\":{\"outlinewidth\":0,\"ticks\":\"\"}}}],\"scatter3d\":[{\"type\":\"scatter3d\",\"line\":{\"colorbar\":{\"outlinewidth\":0,\"ticks\":\"\"}},\"marker\":{\"colorbar\":{\"outlinewidth\":0,\"ticks\":\"\"}}}],\"scattermapbox\":[{\"type\":\"scattermapbox\",\"marker\":{\"colorbar\":{\"outlinewidth\":0,\"ticks\":\"\"}}}],\"scatterternary\":[{\"type\":\"scatterternary\",\"marker\":{\"colorbar\":{\"outlinewidth\":0,\"ticks\":\"\"}}}],\"scattercarpet\":[{\"type\":\"scattercarpet\",\"marker\":{\"colorbar\":{\"outlinewidth\":0,\"ticks\":\"\"}}}],\"carpet\":[{\"aaxis\":{\"endlinecolor\":\"#2a3f5f\",\"gridcolor\":\"white\",\"linecolor\":\"white\",\"minorgridcolor\":\"white\",\"startlinecolor\":\"#2a3f5f\"},\"baxis\":{\"endlinecolor\":\"#2a3f5f\",\"gridcolor\":\"white\",\"linecolor\":\"white\",\"minorgridcolor\":\"white\",\"startlinecolor\":\"#2a3f5f\"},\"type\":\"carpet\"}],\"table\":[{\"cells\":{\"fill\":{\"color\":\"#EBF0F8\"},\"line\":{\"color\":\"white\"}},\"header\":{\"fill\":{\"color\":\"#C8D4E3\"},\"line\":{\"color\":\"white\"}},\"type\":\"table\"}],\"barpolar\":[{\"marker\":{\"line\":{\"color\":\"#E5ECF6\",\"width\":0.5},\"pattern\":{\"fillmode\":\"overlay\",\"size\":10,\"solidity\":0.2}},\"type\":\"barpolar\"}],\"pie\":[{\"automargin\":true,\"type\":\"pie\"}]},\"layout\":{\"autotypenumbers\":\"strict\",\"colorway\":[\"#636efa\",\"#EF553B\",\"#00cc96\",\"#ab63fa\",\"#FFA15A\",\"#19d3f3\",\"#FF6692\",\"#B6E880\",\"#FF97FF\",\"#FECB52\"],\"font\":{\"color\":\"#2a3f5f\"},\"hovermode\":\"closest\",\"hoverlabel\":{\"align\":\"left\"},\"paper_bgcolor\":\"white\",\"plot_bgcolor\":\"#E5ECF6\",\"polar\":{\"bgcolor\":\"#E5ECF6\",\"angularaxis\":{\"gridcolor\":\"white\",\"linecolor\":\"white\",\"ticks\":\"\"},\"radialaxis\":{\"gridcolor\":\"white\",\"linecolor\":\"white\",\"ticks\":\"\"}},\"ternary\":{\"bgcolor\":\"#E5ECF6\",\"aaxis\":{\"gridcolor\":\"white\",\"linecolor\":\"white\",\"ticks\":\"\"},\"baxis\":{\"gridcolor\":\"white\",\"linecolor\":\"white\",\"ticks\":\"\"},\"caxis\":{\"gridcolor\":\"white\",\"linecolor\":\"white\",\"ticks\":\"\"}},\"coloraxis\":{\"colorbar\":{\"outlinewidth\":0,\"ticks\":\"\"}},\"colorscale\":{\"sequential\":[[0.0,\"#0d0887\"],[0.1111111111111111,\"#46039f\"],[0.2222222222222222,\"#7201a8\"],[0.3333333333333333,\"#9c179e\"],[0.4444444444444444,\"#bd3786\"],[0.5555555555555556,\"#d8576b\"],[0.6666666666666666,\"#ed7953\"],[0.7777777777777778,\"#fb9f3a\"],[0.8888888888888888,\"#fdca26\"],[1.0,\"#f0f921\"]],\"sequentialminus\":[[0.0,\"#0d0887\"],[0.1111111111111111,\"#46039f\"],[0.2222222222222222,\"#7201a8\"],[0.3333333333333333,\"#9c179e\"],[0.4444444444444444,\"#bd3786\"],[0.5555555555555556,\"#d8576b\"],[0.6666666666666666,\"#ed7953\"],[0.7777777777777778,\"#fb9f3a\"],[0.8888888888888888,\"#fdca26\"],[1.0,\"#f0f921\"]],\"diverging\":[[0,\"#8e0152\"],[0.1,\"#c51b7d\"],[0.2,\"#de77ae\"],[0.3,\"#f1b6da\"],[0.4,\"#fde0ef\"],[0.5,\"#f7f7f7\"],[0.6,\"#e6f5d0\"],[0.7,\"#b8e186\"],[0.8,\"#7fbc41\"],[0.9,\"#4d9221\"],[1,\"#276419\"]]},\"xaxis\":{\"gridcolor\":\"white\",\"linecolor\":\"white\",\"ticks\":\"\",\"title\":{\"standoff\":15},\"zerolinecolor\":\"white\",\"automargin\":true,\"zerolinewidth\":2},\"yaxis\":{\"gridcolor\":\"white\",\"linecolor\":\"white\",\"ticks\":\"\",\"title\":{\"standoff\":15},\"zerolinecolor\":\"white\",\"automargin\":true,\"zerolinewidth\":2},\"scene\":{\"xaxis\":{\"backgroundcolor\":\"#E5ECF6\",\"gridcolor\":\"white\",\"linecolor\":\"white\",\"showbackground\":true,\"ticks\":\"\",\"zerolinecolor\":\"white\",\"gridwidth\":2},\"yaxis\":{\"backgroundcolor\":\"#E5ECF6\",\"gridcolor\":\"white\",\"linecolor\":\"white\",\"showbackground\":true,\"ticks\":\"\",\"zerolinecolor\":\"white\",\"gridwidth\":2},\"zaxis\":{\"backgroundcolor\":\"#E5ECF6\",\"gridcolor\":\"white\",\"linecolor\":\"white\",\"showbackground\":true,\"ticks\":\"\",\"zerolinecolor\":\"white\",\"gridwidth\":2}},\"shapedefaults\":{\"line\":{\"color\":\"#2a3f5f\"}},\"annotationdefaults\":{\"arrowcolor\":\"#2a3f5f\",\"arrowhead\":0,\"arrowwidth\":1},\"geo\":{\"bgcolor\":\"white\",\"landcolor\":\"#E5ECF6\",\"subunitcolor\":\"white\",\"showland\":true,\"showlakes\":true,\"lakecolor\":\"white\"},\"title\":{\"x\":0.05},\"mapbox\":{\"style\":\"light\"}}}},                        {\"responsive\": true}                    ).then(function(){\n",
              "                            \n",
              "var gd = document.getElementById('7c547a94-dd8c-4520-9a7d-e94b32dc81f6');\n",
              "var x = new MutationObserver(function (mutations, observer) {{\n",
              "        var display = window.getComputedStyle(gd).display;\n",
              "        if (!display || display === 'none') {{\n",
              "            console.log([gd, 'removed!']);\n",
              "            Plotly.purge(gd);\n",
              "            observer.disconnect();\n",
              "        }}\n",
              "}});\n",
              "\n",
              "// Listen for the removal of the full notebook cells\n",
              "var notebookContainer = gd.closest('#notebook-container');\n",
              "if (notebookContainer) {{\n",
              "    x.observe(notebookContainer, {childList: true});\n",
              "}}\n",
              "\n",
              "// Listen for the clearing of the current output cell\n",
              "var outputEl = gd.closest('.output');\n",
              "if (outputEl) {{\n",
              "    x.observe(outputEl, {childList: true});\n",
              "}}\n",
              "\n",
              "                        })                };                            </script>        </div>\n",
              "</body>\n",
              "</html>"
            ]
          },
          "metadata": {}
        },
        {
          "output_type": "display_data",
          "data": {
            "text/html": [
              "<html>\n",
              "<head><meta charset=\"utf-8\" /></head>\n",
              "<body>\n",
              "    <div>            <script src=\"https://cdnjs.cloudflare.com/ajax/libs/mathjax/2.7.5/MathJax.js?config=TeX-AMS-MML_SVG\"></script><script type=\"text/javascript\">if (window.MathJax && window.MathJax.Hub && window.MathJax.Hub.Config) {window.MathJax.Hub.Config({SVG: {font: \"STIX-Web\"}});}</script>                <script type=\"text/javascript\">window.PlotlyConfig = {MathJaxConfig: 'local'};</script>\n",
              "        <script charset=\"utf-8\" src=\"https://cdn.plot.ly/plotly-2.35.2.min.js\"></script>                <div id=\"03686211-1b34-4c89-962b-f5ce5d1ebbe0\" class=\"plotly-graph-div\" style=\"height:525px; width:100%;\"></div>            <script type=\"text/javascript\">                                    window.PLOTLYENV=window.PLOTLYENV || {};                                    if (document.getElementById(\"03686211-1b34-4c89-962b-f5ce5d1ebbe0\")) {                    Plotly.newPlot(                        \"03686211-1b34-4c89-962b-f5ce5d1ebbe0\",                        [{\"dimensions\":[{\"label\":\"f1 score\",\"range\":[0.3669724770642202,0.7702152414194299],\"values\":[0.6072974644403216,0.5558510638297872,0.4742857142857143,0.4234375,0.6252263126131563,0.4015686274509804,0.7094873305833824,0.6647024160282852,0.5613577023498695,0.5697445972495089,0.7461447212336892,0.5661861074705111,0.47542186353631694,0.5530685920577617,0.3690773067331671,0.7702152414194299,0.5530764029749831,0.7139479905437353,0.7250437828371279,0.6150091519219036,0.7291910902696366,0.7482598607888631,0.6401491609695463,0.7177950868783702,0.6150121065375302,0.7048611111111112,0.5107604017216643,0.5363825363825364,0.594960049170252,0.6415584415584416,0.6996291718170581,0.49199417758369723,0.4095617529880478,0.6887182516243355,0.3669724770642202,0.5642715886618326,0.5589980224126566,0.43309002433090027,0.7051206592113007,0.6896948762233737,0.6588648332358105,0.724198250728863,0.7554252199413489,0.5778364116094987,0.5515846257585975,0.7348837209302326,0.5693811074918567,0.4502698535080956,0.694687682428488,0.6982035928143713,0.5780346820809249,0.6333927510398099,0.5774456521739131,0.6840579710144927,0.6759036144578313,0.6205160478288232,0.435126582278481,0.7302325581395349,0.70260663507109,0.7049576783555018,0.7216138328530259,0.66541588492808,0.45808383233532934,0.5649566955363091,0.7198096371207614,0.7219626168224299,0.6400966183574879,0.5779987569919205,0.6392132759680393,0.6244674376141205,0.6792452830188679,0.7505827505827506,0.7262180974477959,0.7021013597033374,0.7114252061248527,0.6375082836315441,0.7136204889406287,0.6781914893617021,0.5408719346049047,0.6804245283018868,0.5850860420650096,0.5776918117343649,0.7291910902696366,0.7400828892835998,0.546084546084546,0.7163289630512515,0.5446194225721784,0.646441073512252,0.7548273844353423,0.7332549941245593,0.6735086593970494,0.5664429530201343,0.6092879256965944,0.6754221388367729,0.7532163742690059,0.7051206592113007,0.6744615384615384,0.6620370370370371,0.6863753213367609,0.6623207301173403]},{\"label\":\"learning_rate\",\"range\":[-1.9801912315385377,-0.5256715360240654],\"ticktext\":[\"0.0105\",\"0.1\",\"0.298\"],\"tickvals\":[-1.9801912315385377,-1,-0.5256715360240654],\"values\":[-1.194404707085952,-0.9219905607872927,-1.7576005702557054,-1.9604920293299593,-0.6828827219141949,-0.9150412142380916,-1.511592600821751,-0.5256715360240654,-0.960698767447863,-0.5373945796790675,-1.4472712271118349,-1.5021389642177458,-1.5332071310061899,-1.6495000225784993,-1.6085076476858293,-0.9884083728687219,-1.6831947343880567,-1.5599208783752392,-1.1187232241183611,-1.071635977308284,-1.0174242009465106,-0.6276057430417654,-1.7976412370731718,-1.4687397407649612,-1.0010066972133569,-0.9131558111533686,-1.5539958062660268,-1.9801912315385377,-1.0244070643319703,-1.2521096214554206,-1.8221451670030853,-1.0827123982132791,-1.3388586656835382,-0.663706708427064,-1.9136866911054833,-0.8483115858972856,-0.6115323374030309,-1.9468252979177618,-0.8047425280062752,-0.5799594559437595,-0.6553185171770237,-1.155136589168872,-1.0034027838770674,-1.648534814616556,-1.1151456288033443,-0.9312442702788013,-1.2402995629433609,-1.7846215329471748,-0.9496746840482976,-1.0196398227493715,-1.3948491556262665,-1.0174242009465106,-1.3115453804935384,-0.5404820626583761,-0.8047425280062752,-1.931145627498782,-1.648534814616556,-1.3457611102473228,-1.0034027838770674,-1.0034027838770674,-0.9496746840482976,-1.4687397407649612,-1.2521096214554206,-1.40706070697746,-1.194404707085952,-1.071635977308284,-0.9312442702788013,-0.6828827219141949,-1.0244070643319703,-0.6115323374030309,-0.6828827219141949,-1.0174242009465106,-0.9131558111533686,-1.8221451670030853,-1.5599208783752392,-1.2402995629433609,-0.8639316495846343,-1.4687397407649612,-1.0244070643319703,-0.7946499785343796,-1.1187232241183611,-1.1151456288033443,-1.0174242009465106,-0.6276057430417654,-1.6831947343880567,-1.511592600821751,-0.8047425280062752,-0.6553185171770237,-0.6276057430417654,-1.194404707085952,-1.2539353482900935,-1.578948566351021,-1.1136876059005902,-1.8161789024913555,-1.1187232241183611,-0.8047425280062752,-1.2521096214554206,-0.6553185171770237,-1.8432560375170264,-1.1302135881366666]},{\"label\":\"max_depth\",\"range\":[3,10],\"values\":[7,3,4,4,6,4,7,8,3,4,7,7,5,3,3,9,5,6,6,5,5,7,8,7,8,4,4,7,7,4,9,4,7,4,6,9,8,4,8,3,6,4,10,9,6,10,3,6,5,5,4,5,10,10,4,8,9,8,3,4,5,4,7,8,7,5,10,3,9,8,8,9,5,9,6,3,5,7,7,3,6,7,5,7,7,7,7,6,9,7,5,5,9,4,8,8,4,6,10,5]},{\"label\":\"max_features\",\"range\":[0,2],\"ticktext\":[\"sqrt\",\"log2\",\"None\"],\"tickvals\":[0,1,2],\"values\":[0,0,0,0,1,1,2,0,1,1,2,0,0,2,0,2,0,2,2,1,2,2,0,2,0,2,0,0,0,2,2,1,1,2,1,1,1,1,2,2,0,2,2,1,1,2,1,1,2,2,0,0,1,0,2,0,1,2,2,2,2,2,1,1,2,2,1,1,1,1,0,2,2,2,2,2,2,2,0,2,0,1,2,2,0,2,0,0,2,2,2,1,1,2,2,2,2,0,2,2]},{\"label\":\"min_samples_leaf\",\"range\":[1,20],\"values\":[13,15,16,17,11,18,14,3,9,19,12,17,4,1,19,4,18,14,12,6,8,1,1,4,14,14,6,11,16,19,10,9,17,13,6,20,17,18,20,18,11,6,6,2,5,8,8,13,18,18,17,8,6,1,12,1,5,14,9,14,18,4,1,10,13,16,8,11,2,9,1,8,8,16,14,8,10,4,16,10,12,12,8,1,18,17,20,19,4,14,4,6,5,6,2,20,13,11,8,4]},{\"label\":\"min_samples_split\",\"range\":[2,19],\"values\":[11,13,8,19,17,16,17,5,16,5,15,7,19,15,17,10,12,4,5,2,3,14,7,17,12,12,7,15,17,14,15,5,9,7,3,9,18,4,12,16,16,11,9,5,11,4,5,10,2,19,12,12,5,17,12,12,11,14,16,12,11,17,6,15,3,2,4,17,17,18,17,5,3,15,4,5,2,17,15,15,19,15,3,7,5,17,17,14,10,11,2,2,11,11,5,19,9,17,12,19]},{\"label\":\"n_estimators\",\"range\":[58,471],\"values\":[229,100,386,229,399,77,259,147,264,427,471,217,157,58,86,460,337,370,223,293,281,436,381,130,144,189,191,405,150,73,174,107,155,61,183,261,269,389,73,344,246,468,290,307,148,99,409,450,85,102,391,337,147,132,61,391,139,436,290,189,468,130,73,450,229,293,409,344,150,269,399,281,189,174,436,99,174,130,58,174,144,471,281,61,223,259,73,246,460,229,85,293,307,468,223,73,73,399,73,102]},{\"label\":\"subsample\",\"range\":[0.5016403258844357,0.9995540338327519],\"values\":[0.6959300182993684,0.8705067067174042,0.8156151347775984,0.5165668259765447,0.8385590630206297,0.7788501244341809,0.5286676545158648,0.9851536430168523,0.7178848663351134,0.5016403258844357,0.9639354753715081,0.740166232011454,0.9789781162676376,0.9886012534462907,0.7894654425559094,0.9995540338327519,0.9771579811118429,0.6057617440538042,0.5760852962282434,0.7666531005222561,0.8788659529230936,0.6714391407584062,0.6096900762338056,0.7493357390083034,0.774966480013096,0.6677151004501218,0.9783445945589253,0.868597977338151,0.7570339190218498,0.6996081930893236,0.5855174149333757,0.615102442600415,0.9240290348538608,0.7884280852109045,0.7473721231585784,0.8379694159985498,0.788822471147913,0.8040303320617299,0.6339434604882591,0.5678242982712141,0.5900359978906561,0.9816765475800326,0.8748008169406887,0.9652788264316702,0.5042727456112065,0.6545367320195126,0.982307237537827,0.7091771847012844,0.8110737240536268,0.6681699695525338,0.8104338254223458,0.8788659529230936,0.8748008169406887,0.7570339190218498,0.6339434604882591,0.6096900762338056,0.5042727456112065,0.6714391407584062,0.8748008169406887,0.8748008169406887,0.8110737240536268,0.8704666904888372,0.6996081930893236,0.7091771847012844,0.6959300182993684,0.8110737240536268,0.6545367320195126,0.5678242982712141,0.9652788264316702,0.788822471147913,0.6096900762338056,0.8788659529230936,0.8788659529230936,0.7813571119042513,0.6057617440538042,0.6545367320195126,0.5855174149333757,0.9995540338327519,0.7570339190218498,0.5678242982712141,0.5760852962282434,0.5042727456112065,0.8788659529230936,0.7884280852109045,0.5760852962282434,0.7884280852109045,0.7570339190218498,0.5900359978906561,0.6714391407584062,0.8968261172981095,0.8110737240536268,0.8018082079419049,0.5042727456112065,0.6681699695525338,0.5760852962282434,0.6339434604882591,0.6996081930893236,0.5900359978906561,0.6339434604882591,0.9789781162676376]}],\"labelangle\":30,\"labelside\":\"bottom\",\"line\":{\"color\":[0.6072974644403216,0.5558510638297872,0.4742857142857143,0.4234375,0.6252263126131563,0.4015686274509804,0.7094873305833824,0.6647024160282852,0.5613577023498695,0.5697445972495089,0.7461447212336892,0.5661861074705111,0.47542186353631694,0.5530685920577617,0.3690773067331671,0.7702152414194299,0.5530764029749831,0.7139479905437353,0.7250437828371279,0.6150091519219036,0.7291910902696366,0.7482598607888631,0.6401491609695463,0.7177950868783702,0.6150121065375302,0.7048611111111112,0.5107604017216643,0.5363825363825364,0.594960049170252,0.6415584415584416,0.6996291718170581,0.49199417758369723,0.4095617529880478,0.6887182516243355,0.3669724770642202,0.5642715886618326,0.5589980224126566,0.43309002433090027,0.7051206592113007,0.6896948762233737,0.6588648332358105,0.724198250728863,0.7554252199413489,0.5778364116094987,0.5515846257585975,0.7348837209302326,0.5693811074918567,0.4502698535080956,0.694687682428488,0.6982035928143713,0.5780346820809249,0.6333927510398099,0.5774456521739131,0.6840579710144927,0.6759036144578313,0.6205160478288232,0.435126582278481,0.7302325581395349,0.70260663507109,0.7049576783555018,0.7216138328530259,0.66541588492808,0.45808383233532934,0.5649566955363091,0.7198096371207614,0.7219626168224299,0.6400966183574879,0.5779987569919205,0.6392132759680393,0.6244674376141205,0.6792452830188679,0.7505827505827506,0.7262180974477959,0.7021013597033374,0.7114252061248527,0.6375082836315441,0.7136204889406287,0.6781914893617021,0.5408719346049047,0.6804245283018868,0.5850860420650096,0.5776918117343649,0.7291910902696366,0.7400828892835998,0.546084546084546,0.7163289630512515,0.5446194225721784,0.646441073512252,0.7548273844353423,0.7332549941245593,0.6735086593970494,0.5664429530201343,0.6092879256965944,0.6754221388367729,0.7532163742690059,0.7051206592113007,0.6744615384615384,0.6620370370370371,0.6863753213367609,0.6623207301173403],\"colorbar\":{\"title\":{\"text\":\"f1 score\"}},\"colorscale\":[[0.0,\"rgb(247,251,255)\"],[0.125,\"rgb(222,235,247)\"],[0.25,\"rgb(198,219,239)\"],[0.375,\"rgb(158,202,225)\"],[0.5,\"rgb(107,174,214)\"],[0.625,\"rgb(66,146,198)\"],[0.75,\"rgb(33,113,181)\"],[0.875,\"rgb(8,81,156)\"],[1.0,\"rgb(8,48,107)\"]],\"reversescale\":true,\"showscale\":true},\"type\":\"parcoords\"}],                        {\"title\":{\"text\":\"Parallel Coordinate Plot\"},\"template\":{\"data\":{\"histogram2dcontour\":[{\"type\":\"histogram2dcontour\",\"colorbar\":{\"outlinewidth\":0,\"ticks\":\"\"},\"colorscale\":[[0.0,\"#0d0887\"],[0.1111111111111111,\"#46039f\"],[0.2222222222222222,\"#7201a8\"],[0.3333333333333333,\"#9c179e\"],[0.4444444444444444,\"#bd3786\"],[0.5555555555555556,\"#d8576b\"],[0.6666666666666666,\"#ed7953\"],[0.7777777777777778,\"#fb9f3a\"],[0.8888888888888888,\"#fdca26\"],[1.0,\"#f0f921\"]]}],\"choropleth\":[{\"type\":\"choropleth\",\"colorbar\":{\"outlinewidth\":0,\"ticks\":\"\"}}],\"histogram2d\":[{\"type\":\"histogram2d\",\"colorbar\":{\"outlinewidth\":0,\"ticks\":\"\"},\"colorscale\":[[0.0,\"#0d0887\"],[0.1111111111111111,\"#46039f\"],[0.2222222222222222,\"#7201a8\"],[0.3333333333333333,\"#9c179e\"],[0.4444444444444444,\"#bd3786\"],[0.5555555555555556,\"#d8576b\"],[0.6666666666666666,\"#ed7953\"],[0.7777777777777778,\"#fb9f3a\"],[0.8888888888888888,\"#fdca26\"],[1.0,\"#f0f921\"]]}],\"heatmap\":[{\"type\":\"heatmap\",\"colorbar\":{\"outlinewidth\":0,\"ticks\":\"\"},\"colorscale\":[[0.0,\"#0d0887\"],[0.1111111111111111,\"#46039f\"],[0.2222222222222222,\"#7201a8\"],[0.3333333333333333,\"#9c179e\"],[0.4444444444444444,\"#bd3786\"],[0.5555555555555556,\"#d8576b\"],[0.6666666666666666,\"#ed7953\"],[0.7777777777777778,\"#fb9f3a\"],[0.8888888888888888,\"#fdca26\"],[1.0,\"#f0f921\"]]}],\"heatmapgl\":[{\"type\":\"heatmapgl\",\"colorbar\":{\"outlinewidth\":0,\"ticks\":\"\"},\"colorscale\":[[0.0,\"#0d0887\"],[0.1111111111111111,\"#46039f\"],[0.2222222222222222,\"#7201a8\"],[0.3333333333333333,\"#9c179e\"],[0.4444444444444444,\"#bd3786\"],[0.5555555555555556,\"#d8576b\"],[0.6666666666666666,\"#ed7953\"],[0.7777777777777778,\"#fb9f3a\"],[0.8888888888888888,\"#fdca26\"],[1.0,\"#f0f921\"]]}],\"contourcarpet\":[{\"type\":\"contourcarpet\",\"colorbar\":{\"outlinewidth\":0,\"ticks\":\"\"}}],\"contour\":[{\"type\":\"contour\",\"colorbar\":{\"outlinewidth\":0,\"ticks\":\"\"},\"colorscale\":[[0.0,\"#0d0887\"],[0.1111111111111111,\"#46039f\"],[0.2222222222222222,\"#7201a8\"],[0.3333333333333333,\"#9c179e\"],[0.4444444444444444,\"#bd3786\"],[0.5555555555555556,\"#d8576b\"],[0.6666666666666666,\"#ed7953\"],[0.7777777777777778,\"#fb9f3a\"],[0.8888888888888888,\"#fdca26\"],[1.0,\"#f0f921\"]]}],\"surface\":[{\"type\":\"surface\",\"colorbar\":{\"outlinewidth\":0,\"ticks\":\"\"},\"colorscale\":[[0.0,\"#0d0887\"],[0.1111111111111111,\"#46039f\"],[0.2222222222222222,\"#7201a8\"],[0.3333333333333333,\"#9c179e\"],[0.4444444444444444,\"#bd3786\"],[0.5555555555555556,\"#d8576b\"],[0.6666666666666666,\"#ed7953\"],[0.7777777777777778,\"#fb9f3a\"],[0.8888888888888888,\"#fdca26\"],[1.0,\"#f0f921\"]]}],\"mesh3d\":[{\"type\":\"mesh3d\",\"colorbar\":{\"outlinewidth\":0,\"ticks\":\"\"}}],\"scatter\":[{\"fillpattern\":{\"fillmode\":\"overlay\",\"size\":10,\"solidity\":0.2},\"type\":\"scatter\"}],\"parcoords\":[{\"type\":\"parcoords\",\"line\":{\"colorbar\":{\"outlinewidth\":0,\"ticks\":\"\"}}}],\"scatterpolargl\":[{\"type\":\"scatterpolargl\",\"marker\":{\"colorbar\":{\"outlinewidth\":0,\"ticks\":\"\"}}}],\"bar\":[{\"error_x\":{\"color\":\"#2a3f5f\"},\"error_y\":{\"color\":\"#2a3f5f\"},\"marker\":{\"line\":{\"color\":\"#E5ECF6\",\"width\":0.5},\"pattern\":{\"fillmode\":\"overlay\",\"size\":10,\"solidity\":0.2}},\"type\":\"bar\"}],\"scattergeo\":[{\"type\":\"scattergeo\",\"marker\":{\"colorbar\":{\"outlinewidth\":0,\"ticks\":\"\"}}}],\"scatterpolar\":[{\"type\":\"scatterpolar\",\"marker\":{\"colorbar\":{\"outlinewidth\":0,\"ticks\":\"\"}}}],\"histogram\":[{\"marker\":{\"pattern\":{\"fillmode\":\"overlay\",\"size\":10,\"solidity\":0.2}},\"type\":\"histogram\"}],\"scattergl\":[{\"type\":\"scattergl\",\"marker\":{\"colorbar\":{\"outlinewidth\":0,\"ticks\":\"\"}}}],\"scatter3d\":[{\"type\":\"scatter3d\",\"line\":{\"colorbar\":{\"outlinewidth\":0,\"ticks\":\"\"}},\"marker\":{\"colorbar\":{\"outlinewidth\":0,\"ticks\":\"\"}}}],\"scattermapbox\":[{\"type\":\"scattermapbox\",\"marker\":{\"colorbar\":{\"outlinewidth\":0,\"ticks\":\"\"}}}],\"scatterternary\":[{\"type\":\"scatterternary\",\"marker\":{\"colorbar\":{\"outlinewidth\":0,\"ticks\":\"\"}}}],\"scattercarpet\":[{\"type\":\"scattercarpet\",\"marker\":{\"colorbar\":{\"outlinewidth\":0,\"ticks\":\"\"}}}],\"carpet\":[{\"aaxis\":{\"endlinecolor\":\"#2a3f5f\",\"gridcolor\":\"white\",\"linecolor\":\"white\",\"minorgridcolor\":\"white\",\"startlinecolor\":\"#2a3f5f\"},\"baxis\":{\"endlinecolor\":\"#2a3f5f\",\"gridcolor\":\"white\",\"linecolor\":\"white\",\"minorgridcolor\":\"white\",\"startlinecolor\":\"#2a3f5f\"},\"type\":\"carpet\"}],\"table\":[{\"cells\":{\"fill\":{\"color\":\"#EBF0F8\"},\"line\":{\"color\":\"white\"}},\"header\":{\"fill\":{\"color\":\"#C8D4E3\"},\"line\":{\"color\":\"white\"}},\"type\":\"table\"}],\"barpolar\":[{\"marker\":{\"line\":{\"color\":\"#E5ECF6\",\"width\":0.5},\"pattern\":{\"fillmode\":\"overlay\",\"size\":10,\"solidity\":0.2}},\"type\":\"barpolar\"}],\"pie\":[{\"automargin\":true,\"type\":\"pie\"}]},\"layout\":{\"autotypenumbers\":\"strict\",\"colorway\":[\"#636efa\",\"#EF553B\",\"#00cc96\",\"#ab63fa\",\"#FFA15A\",\"#19d3f3\",\"#FF6692\",\"#B6E880\",\"#FF97FF\",\"#FECB52\"],\"font\":{\"color\":\"#2a3f5f\"},\"hovermode\":\"closest\",\"hoverlabel\":{\"align\":\"left\"},\"paper_bgcolor\":\"white\",\"plot_bgcolor\":\"#E5ECF6\",\"polar\":{\"bgcolor\":\"#E5ECF6\",\"angularaxis\":{\"gridcolor\":\"white\",\"linecolor\":\"white\",\"ticks\":\"\"},\"radialaxis\":{\"gridcolor\":\"white\",\"linecolor\":\"white\",\"ticks\":\"\"}},\"ternary\":{\"bgcolor\":\"#E5ECF6\",\"aaxis\":{\"gridcolor\":\"white\",\"linecolor\":\"white\",\"ticks\":\"\"},\"baxis\":{\"gridcolor\":\"white\",\"linecolor\":\"white\",\"ticks\":\"\"},\"caxis\":{\"gridcolor\":\"white\",\"linecolor\":\"white\",\"ticks\":\"\"}},\"coloraxis\":{\"colorbar\":{\"outlinewidth\":0,\"ticks\":\"\"}},\"colorscale\":{\"sequential\":[[0.0,\"#0d0887\"],[0.1111111111111111,\"#46039f\"],[0.2222222222222222,\"#7201a8\"],[0.3333333333333333,\"#9c179e\"],[0.4444444444444444,\"#bd3786\"],[0.5555555555555556,\"#d8576b\"],[0.6666666666666666,\"#ed7953\"],[0.7777777777777778,\"#fb9f3a\"],[0.8888888888888888,\"#fdca26\"],[1.0,\"#f0f921\"]],\"sequentialminus\":[[0.0,\"#0d0887\"],[0.1111111111111111,\"#46039f\"],[0.2222222222222222,\"#7201a8\"],[0.3333333333333333,\"#9c179e\"],[0.4444444444444444,\"#bd3786\"],[0.5555555555555556,\"#d8576b\"],[0.6666666666666666,\"#ed7953\"],[0.7777777777777778,\"#fb9f3a\"],[0.8888888888888888,\"#fdca26\"],[1.0,\"#f0f921\"]],\"diverging\":[[0,\"#8e0152\"],[0.1,\"#c51b7d\"],[0.2,\"#de77ae\"],[0.3,\"#f1b6da\"],[0.4,\"#fde0ef\"],[0.5,\"#f7f7f7\"],[0.6,\"#e6f5d0\"],[0.7,\"#b8e186\"],[0.8,\"#7fbc41\"],[0.9,\"#4d9221\"],[1,\"#276419\"]]},\"xaxis\":{\"gridcolor\":\"white\",\"linecolor\":\"white\",\"ticks\":\"\",\"title\":{\"standoff\":15},\"zerolinecolor\":\"white\",\"automargin\":true,\"zerolinewidth\":2},\"yaxis\":{\"gridcolor\":\"white\",\"linecolor\":\"white\",\"ticks\":\"\",\"title\":{\"standoff\":15},\"zerolinecolor\":\"white\",\"automargin\":true,\"zerolinewidth\":2},\"scene\":{\"xaxis\":{\"backgroundcolor\":\"#E5ECF6\",\"gridcolor\":\"white\",\"linecolor\":\"white\",\"showbackground\":true,\"ticks\":\"\",\"zerolinecolor\":\"white\",\"gridwidth\":2},\"yaxis\":{\"backgroundcolor\":\"#E5ECF6\",\"gridcolor\":\"white\",\"linecolor\":\"white\",\"showbackground\":true,\"ticks\":\"\",\"zerolinecolor\":\"white\",\"gridwidth\":2},\"zaxis\":{\"backgroundcolor\":\"#E5ECF6\",\"gridcolor\":\"white\",\"linecolor\":\"white\",\"showbackground\":true,\"ticks\":\"\",\"zerolinecolor\":\"white\",\"gridwidth\":2}},\"shapedefaults\":{\"line\":{\"color\":\"#2a3f5f\"}},\"annotationdefaults\":{\"arrowcolor\":\"#2a3f5f\",\"arrowhead\":0,\"arrowwidth\":1},\"geo\":{\"bgcolor\":\"white\",\"landcolor\":\"#E5ECF6\",\"subunitcolor\":\"white\",\"showland\":true,\"showlakes\":true,\"lakecolor\":\"white\"},\"title\":{\"x\":0.05},\"mapbox\":{\"style\":\"light\"}}}},                        {\"responsive\": true}                    ).then(function(){\n",
              "                            \n",
              "var gd = document.getElementById('03686211-1b34-4c89-962b-f5ce5d1ebbe0');\n",
              "var x = new MutationObserver(function (mutations, observer) {{\n",
              "        var display = window.getComputedStyle(gd).display;\n",
              "        if (!display || display === 'none') {{\n",
              "            console.log([gd, 'removed!']);\n",
              "            Plotly.purge(gd);\n",
              "            observer.disconnect();\n",
              "        }}\n",
              "}});\n",
              "\n",
              "// Listen for the removal of the full notebook cells\n",
              "var notebookContainer = gd.closest('#notebook-container');\n",
              "if (notebookContainer) {{\n",
              "    x.observe(notebookContainer, {childList: true});\n",
              "}}\n",
              "\n",
              "// Listen for the clearing of the current output cell\n",
              "var outputEl = gd.closest('.output');\n",
              "if (outputEl) {{\n",
              "    x.observe(outputEl, {childList: true});\n",
              "}}\n",
              "\n",
              "                        })                };                            </script>        </div>\n",
              "</body>\n",
              "</html>"
            ]
          },
          "metadata": {}
        }
      ]
    },
    {
      "cell_type": "code",
      "source": [
        "from optuna.visualization import plot_pareto_front\n",
        "plot_pareto_front(study).show()"
      ],
      "metadata": {
        "colab": {
          "base_uri": "https://localhost:8080/",
          "height": 542
        },
        "id": "774gFjVCW5CT",
        "outputId": "1b8f431e-1f1d-4f6e-a254-26c7612b5d08"
      },
      "execution_count": null,
      "outputs": [
        {
          "output_type": "display_data",
          "data": {
            "text/html": [
              "<html>\n",
              "<head><meta charset=\"utf-8\" /></head>\n",
              "<body>\n",
              "    <div>            <script src=\"https://cdnjs.cloudflare.com/ajax/libs/mathjax/2.7.5/MathJax.js?config=TeX-AMS-MML_SVG\"></script><script type=\"text/javascript\">if (window.MathJax && window.MathJax.Hub && window.MathJax.Hub.Config) {window.MathJax.Hub.Config({SVG: {font: \"STIX-Web\"}});}</script>                <script type=\"text/javascript\">window.PlotlyConfig = {MathJaxConfig: 'local'};</script>\n",
              "        <script charset=\"utf-8\" src=\"https://cdn.plot.ly/plotly-2.35.2.min.js\"></script>                <div id=\"3174c41a-f766-48ef-82aa-302fcd354bb5\" class=\"plotly-graph-div\" style=\"height:525px; width:100%;\"></div>            <script type=\"text/javascript\">                                    window.PLOTLYENV=window.PLOTLYENV || {};                                    if (document.getElementById(\"3174c41a-f766-48ef-82aa-302fcd354bb5\")) {                    Plotly.newPlot(                        \"3174c41a-f766-48ef-82aa-302fcd354bb5\",                        [{\"hovertemplate\":\"%{text}\\u003cextra\\u003eTrial\\u003c\\u002fextra\\u003e\",\"marker\":{\"color\":[0,1,2,3,4,5,6,7,8,9,10,11,12,13,14,16,17,18,19,20,21,22,23,24,25,26,27,28,29,30,31,32,33,34,35,36,37,38,39,40,41,42,43,44,45,46,47,48,49,50,51,52,53,54,55,56,57,58,59,60,61,62,63,64,65,66,67,68,69,70,71,72,73,74,75,76,77,78,79,80,81,82,83,84,85,86,87,88,89,90,91,92,93,94,95,96,97,98,99],\"colorbar\":{\"title\":{\"text\":\"Trial\"}},\"colorscale\":[[0.0,\"rgb(247,251,255)\"],[0.125,\"rgb(222,235,247)\"],[0.25,\"rgb(198,219,239)\"],[0.375,\"rgb(158,202,225)\"],[0.5,\"rgb(107,174,214)\"],[0.625,\"rgb(66,146,198)\"],[0.75,\"rgb(33,113,181)\"],[0.875,\"rgb(8,81,156)\"],[1.0,\"rgb(8,48,107)\"]],\"line\":{\"color\":\"Grey\",\"width\":0.5}},\"mode\":\"markers\",\"showlegend\":false,\"text\":[\"{\\u003cbr\\u003e  \\\"number\\\": 0,\\u003cbr\\u003e  \\\"values\\\": [\\u003cbr\\u003e    0.6072974644403216,\\u003cbr\\u003e    0.6229216152019003\\u003cbr\\u003e  ],\\u003cbr\\u003e  \\\"params\\\": {\\u003cbr\\u003e    \\\"n_estimators\\\": 229,\\u003cbr\\u003e    \\\"learning_rate\\\": 0.06391389618624012,\\u003cbr\\u003e    \\\"max_depth\\\": 7,\\u003cbr\\u003e    \\\"min_samples_split\\\": 11,\\u003cbr\\u003e    \\\"min_samples_leaf\\\": 13,\\u003cbr\\u003e    \\\"subsample\\\": 0.6959300182993684,\\u003cbr\\u003e    \\\"max_features\\\": \\\"sqrt\\\"\\u003cbr\\u003e  }\\u003cbr\\u003e}\",\"{\\u003cbr\\u003e  \\\"number\\\": 1,\\u003cbr\\u003e  \\\"values\\\": [\\u003cbr\\u003e    0.5558510638297872,\\u003cbr\\u003e    0.6033254156769596\\u003cbr\\u003e  ],\\u003cbr\\u003e  \\\"params\\\": {\\u003cbr\\u003e    \\\"n_estimators\\\": 100,\\u003cbr\\u003e    \\\"learning_rate\\\": 0.11967665422552573,\\u003cbr\\u003e    \\\"max_depth\\\": 3,\\u003cbr\\u003e    \\\"min_samples_split\\\": 13,\\u003cbr\\u003e    \\\"min_samples_leaf\\\": 15,\\u003cbr\\u003e    \\\"subsample\\\": 0.8705067067174042,\\u003cbr\\u003e    \\\"max_features\\\": \\\"sqrt\\\"\\u003cbr\\u003e  }\\u003cbr\\u003e}\",\"{\\u003cbr\\u003e  \\\"number\\\": 2,\\u003cbr\\u003e  \\\"values\\\": [\\u003cbr\\u003e    0.4742857142857143,\\u003cbr\\u003e    0.5629453681710214\\u003cbr\\u003e  ],\\u003cbr\\u003e  \\\"params\\\": {\\u003cbr\\u003e    \\\"n_estimators\\\": 386,\\u003cbr\\u003e    \\\"learning_rate\\\": 0.017474285607832755,\\u003cbr\\u003e    \\\"max_depth\\\": 4,\\u003cbr\\u003e    \\\"min_samples_split\\\": 8,\\u003cbr\\u003e    \\\"min_samples_leaf\\\": 16,\\u003cbr\\u003e    \\\"subsample\\\": 0.8156151347775984,\\u003cbr\\u003e    \\\"max_features\\\": \\\"sqrt\\\"\\u003cbr\\u003e  }\\u003cbr\\u003e}\",\"{\\u003cbr\\u003e  \\\"number\\\": 3,\\u003cbr\\u003e  \\\"values\\\": [\\u003cbr\\u003e    0.4234375,\\u003cbr\\u003e    0.5617577197149644\\u003cbr\\u003e  ],\\u003cbr\\u003e  \\\"params\\\": {\\u003cbr\\u003e    \\\"n_estimators\\\": 229,\\u003cbr\\u003e    \\\"learning_rate\\\": 0.010952366562205532,\\u003cbr\\u003e    \\\"max_depth\\\": 4,\\u003cbr\\u003e    \\\"min_samples_split\\\": 19,\\u003cbr\\u003e    \\\"min_samples_leaf\\\": 17,\\u003cbr\\u003e    \\\"subsample\\\": 0.5165668259765447,\\u003cbr\\u003e    \\\"max_features\\\": \\\"sqrt\\\"\\u003cbr\\u003e  }\\u003cbr\\u003e}\",\"{\\u003cbr\\u003e  \\\"number\\\": 4,\\u003cbr\\u003e  \\\"values\\\": [\\u003cbr\\u003e    0.6252263126131563,\\u003cbr\\u003e    0.6312351543942993\\u003cbr\\u003e  ],\\u003cbr\\u003e  \\\"params\\\": {\\u003cbr\\u003e    \\\"n_estimators\\\": 399,\\u003cbr\\u003e    \\\"learning_rate\\\": 0.20754739085144236,\\u003cbr\\u003e    \\\"max_depth\\\": 6,\\u003cbr\\u003e    \\\"min_samples_split\\\": 17,\\u003cbr\\u003e    \\\"min_samples_leaf\\\": 11,\\u003cbr\\u003e    \\\"subsample\\\": 0.8385590630206297,\\u003cbr\\u003e    \\\"max_features\\\": \\\"log2\\\"\\u003cbr\\u003e  }\\u003cbr\\u003e}\",\"{\\u003cbr\\u003e  \\\"number\\\": 5,\\u003cbr\\u003e  \\\"values\\\": [\\u003cbr\\u003e    0.4015686274509804,\\u003cbr\\u003e    0.5469121140142518\\u003cbr\\u003e  ],\\u003cbr\\u003e  \\\"params\\\": {\\u003cbr\\u003e    \\\"n_estimators\\\": 77,\\u003cbr\\u003e    \\\"learning_rate\\\": 0.12160705909343325,\\u003cbr\\u003e    \\\"max_depth\\\": 4,\\u003cbr\\u003e    \\\"min_samples_split\\\": 16,\\u003cbr\\u003e    \\\"min_samples_leaf\\\": 18,\\u003cbr\\u003e    \\\"subsample\\\": 0.7788501244341809,\\u003cbr\\u003e    \\\"max_features\\\": \\\"log2\\\"\\u003cbr\\u003e  }\\u003cbr\\u003e}\",\"{\\u003cbr\\u003e  \\\"number\\\": 6,\\u003cbr\\u003e  \\\"values\\\": [\\u003cbr\\u003e    0.7094873305833824,\\u003cbr\\u003e    0.7072446555819477\\u003cbr\\u003e  ],\\u003cbr\\u003e  \\\"params\\\": {\\u003cbr\\u003e    \\\"n_estimators\\\": 259,\\u003cbr\\u003e    \\\"learning_rate\\\": 0.03078983766672552,\\u003cbr\\u003e    \\\"max_depth\\\": 7,\\u003cbr\\u003e    \\\"min_samples_split\\\": 17,\\u003cbr\\u003e    \\\"min_samples_leaf\\\": 14,\\u003cbr\\u003e    \\\"subsample\\\": 0.5286676545158648,\\u003cbr\\u003e    \\\"max_features\\\": null\\u003cbr\\u003e  }\\u003cbr\\u003e}\",\"{\\u003cbr\\u003e  \\\"number\\\": 7,\\u003cbr\\u003e  \\\"values\\\": [\\u003cbr\\u003e    0.6647024160282852,\\u003cbr\\u003e    0.6621140142517815\\u003cbr\\u003e  ],\\u003cbr\\u003e  \\\"params\\\": {\\u003cbr\\u003e    \\\"n_estimators\\\": 147,\\u003cbr\\u003e    \\\"learning_rate\\\": 0.2980769981911043,\\u003cbr\\u003e    \\\"max_depth\\\": 8,\\u003cbr\\u003e    \\\"min_samples_split\\\": 5,\\u003cbr\\u003e    \\\"min_samples_leaf\\\": 3,\\u003cbr\\u003e    \\\"subsample\\\": 0.9851536430168523,\\u003cbr\\u003e    \\\"max_features\\\": \\\"sqrt\\\"\\u003cbr\\u003e  }\\u003cbr\\u003e}\",\"{\\u003cbr\\u003e  \\\"number\\\": 8,\\u003cbr\\u003e  \\\"values\\\": [\\u003cbr\\u003e    0.5613577023498695,\\u003cbr\\u003e    0.6009501187648456\\u003cbr\\u003e  ],\\u003cbr\\u003e  \\\"params\\\": {\\u003cbr\\u003e    \\\"n_estimators\\\": 264,\\u003cbr\\u003e    \\\"learning_rate\\\": 0.10947154124800747,\\u003cbr\\u003e    \\\"max_depth\\\": 3,\\u003cbr\\u003e    \\\"min_samples_split\\\": 16,\\u003cbr\\u003e    \\\"min_samples_leaf\\\": 9,\\u003cbr\\u003e    \\\"subsample\\\": 0.7178848663351134,\\u003cbr\\u003e    \\\"max_features\\\": \\\"log2\\\"\\u003cbr\\u003e  }\\u003cbr\\u003e}\",\"{\\u003cbr\\u003e  \\\"number\\\": 9,\\u003cbr\\u003e  \\\"values\\\": [\\u003cbr\\u003e    0.5697445972495089,\\u003cbr\\u003e    0.6098574821852731\\u003cbr\\u003e  ],\\u003cbr\\u003e  \\\"params\\\": {\\u003cbr\\u003e    \\\"n_estimators\\\": 427,\\u003cbr\\u003e    \\\"learning_rate\\\": 0.29013853933636946,\\u003cbr\\u003e    \\\"max_depth\\\": 4,\\u003cbr\\u003e    \\\"min_samples_split\\\": 5,\\u003cbr\\u003e    \\\"min_samples_leaf\\\": 19,\\u003cbr\\u003e    \\\"subsample\\\": 0.5016403258844357,\\u003cbr\\u003e    \\\"max_features\\\": \\\"log2\\\"\\u003cbr\\u003e  }\\u003cbr\\u003e}\",\"{\\u003cbr\\u003e  \\\"number\\\": 10,\\u003cbr\\u003e  \\\"values\\\": [\\u003cbr\\u003e    0.7461447212336892,\\u003cbr\\u003e    0.7458432304038005\\u003cbr\\u003e  ],\\u003cbr\\u003e  \\\"params\\\": {\\u003cbr\\u003e    \\\"n_estimators\\\": 471,\\u003cbr\\u003e    \\\"learning_rate\\\": 0.035704978252596456,\\u003cbr\\u003e    \\\"max_depth\\\": 7,\\u003cbr\\u003e    \\\"min_samples_split\\\": 15,\\u003cbr\\u003e    \\\"min_samples_leaf\\\": 12,\\u003cbr\\u003e    \\\"subsample\\\": 0.9639354753715081,\\u003cbr\\u003e    \\\"max_features\\\": null\\u003cbr\\u003e  }\\u003cbr\\u003e}\",\"{\\u003cbr\\u003e  \\\"number\\\": 11,\\u003cbr\\u003e  \\\"values\\\": [\\u003cbr\\u003e    0.5661861074705111,\\u003cbr\\u003e    0.6068883610451307\\u003cbr\\u003e  ],\\u003cbr\\u003e  \\\"params\\\": {\\u003cbr\\u003e    \\\"n_estimators\\\": 217,\\u003cbr\\u003e    \\\"learning_rate\\\": 0.03146741268364009,\\u003cbr\\u003e    \\\"max_depth\\\": 7,\\u003cbr\\u003e    \\\"min_samples_split\\\": 7,\\u003cbr\\u003e    \\\"min_samples_leaf\\\": 17,\\u003cbr\\u003e    \\\"subsample\\\": 0.740166232011454,\\u003cbr\\u003e    \\\"max_features\\\": \\\"sqrt\\\"\\u003cbr\\u003e  }\\u003cbr\\u003e}\",\"{\\u003cbr\\u003e  \\\"number\\\": 12,\\u003cbr\\u003e  \\\"values\\\": [\\u003cbr\\u003e    0.47542186353631694,\\u003cbr\\u003e    0.5754156769596199\\u003cbr\\u003e  ],\\u003cbr\\u003e  \\\"params\\\": {\\u003cbr\\u003e    \\\"n_estimators\\\": 157,\\u003cbr\\u003e    \\\"learning_rate\\\": 0.0292949572779129,\\u003cbr\\u003e    \\\"max_depth\\\": 5,\\u003cbr\\u003e    \\\"min_samples_split\\\": 19,\\u003cbr\\u003e    \\\"min_samples_leaf\\\": 4,\\u003cbr\\u003e    \\\"subsample\\\": 0.9789781162676376,\\u003cbr\\u003e    \\\"max_features\\\": \\\"sqrt\\\"\\u003cbr\\u003e  }\\u003cbr\\u003e}\",\"{\\u003cbr\\u003e  \\\"number\\\": 13,\\u003cbr\\u003e  \\\"values\\\": [\\u003cbr\\u003e    0.5530685920577617,\\u003cbr\\u003e    0.6324228028503563\\u003cbr\\u003e  ],\\u003cbr\\u003e  \\\"params\\\": {\\u003cbr\\u003e    \\\"n_estimators\\\": 58,\\u003cbr\\u003e    \\\"learning_rate\\\": 0.02241299929259572,\\u003cbr\\u003e    \\\"max_depth\\\": 3,\\u003cbr\\u003e    \\\"min_samples_split\\\": 15,\\u003cbr\\u003e    \\\"min_samples_leaf\\\": 1,\\u003cbr\\u003e    \\\"subsample\\\": 0.9886012534462907,\\u003cbr\\u003e    \\\"max_features\\\": null\\u003cbr\\u003e  }\\u003cbr\\u003e}\",\"{\\u003cbr\\u003e  \\\"number\\\": 14,\\u003cbr\\u003e  \\\"values\\\": [\\u003cbr\\u003e    0.3690773067331671,\\u003cbr\\u003e    0.5492874109263658\\u003cbr\\u003e  ],\\u003cbr\\u003e  \\\"params\\\": {\\u003cbr\\u003e    \\\"n_estimators\\\": 86,\\u003cbr\\u003e    \\\"learning_rate\\\": 0.02463158462993892,\\u003cbr\\u003e    \\\"max_depth\\\": 3,\\u003cbr\\u003e    \\\"min_samples_split\\\": 17,\\u003cbr\\u003e    \\\"min_samples_leaf\\\": 19,\\u003cbr\\u003e    \\\"subsample\\\": 0.7894654425559094,\\u003cbr\\u003e    \\\"max_features\\\": \\\"sqrt\\\"\\u003cbr\\u003e  }\\u003cbr\\u003e}\",\"{\\u003cbr\\u003e  \\\"number\\\": 16,\\u003cbr\\u003e  \\\"values\\\": [\\u003cbr\\u003e    0.5530764029749831,\\u003cbr\\u003e    0.6074821852731591\\u003cbr\\u003e  ],\\u003cbr\\u003e  \\\"params\\\": {\\u003cbr\\u003e    \\\"n_estimators\\\": 337,\\u003cbr\\u003e    \\\"learning_rate\\\": 0.020739833503531018,\\u003cbr\\u003e    \\\"max_depth\\\": 5,\\u003cbr\\u003e    \\\"min_samples_split\\\": 12,\\u003cbr\\u003e    \\\"min_samples_leaf\\\": 18,\\u003cbr\\u003e    \\\"subsample\\\": 0.9771579811118429,\\u003cbr\\u003e    \\\"max_features\\\": \\\"sqrt\\\"\\u003cbr\\u003e  }\\u003cbr\\u003e}\",\"{\\u003cbr\\u003e  \\\"number\\\": 17,\\u003cbr\\u003e  \\\"values\\\": [\\u003cbr\\u003e    0.7139479905437353,\\u003cbr\\u003e    0.7125890736342043\\u003cbr\\u003e  ],\\u003cbr\\u003e  \\\"params\\\": {\\u003cbr\\u003e    \\\"n_estimators\\\": 370,\\u003cbr\\u003e    \\\"learning_rate\\\": 0.027547305262048384,\\u003cbr\\u003e    \\\"max_depth\\\": 6,\\u003cbr\\u003e    \\\"min_samples_split\\\": 4,\\u003cbr\\u003e    \\\"min_samples_leaf\\\": 14,\\u003cbr\\u003e    \\\"subsample\\\": 0.6057617440538042,\\u003cbr\\u003e    \\\"max_features\\\": null\\u003cbr\\u003e  }\\u003cbr\\u003e}\",\"{\\u003cbr\\u003e  \\\"number\\\": 18,\\u003cbr\\u003e  \\\"values\\\": [\\u003cbr\\u003e    0.7250437828371279,\\u003cbr\\u003e    0.7203087885985748\\u003cbr\\u003e  ],\\u003cbr\\u003e  \\\"params\\\": {\\u003cbr\\u003e    \\\"n_estimators\\\": 223,\\u003cbr\\u003e    \\\"learning_rate\\\": 0.07608109873276094,\\u003cbr\\u003e    \\\"max_depth\\\": 6,\\u003cbr\\u003e    \\\"min_samples_split\\\": 5,\\u003cbr\\u003e    \\\"min_samples_leaf\\\": 12,\\u003cbr\\u003e    \\\"subsample\\\": 0.5760852962282434,\\u003cbr\\u003e    \\\"max_features\\\": null\\u003cbr\\u003e  }\\u003cbr\\u003e}\",\"{\\u003cbr\\u003e  \\\"number\\\": 19,\\u003cbr\\u003e  \\\"values\\\": [\\u003cbr\\u003e    0.6150091519219036,\\u003cbr\\u003e    0.6252969121140143\\u003cbr\\u003e  ],\\u003cbr\\u003e  \\\"params\\\": {\\u003cbr\\u003e    \\\"n_estimators\\\": 293,\\u003cbr\\u003e    \\\"learning_rate\\\": 0.08479378521184112,\\u003cbr\\u003e    \\\"max_depth\\\": 5,\\u003cbr\\u003e    \\\"min_samples_split\\\": 2,\\u003cbr\\u003e    \\\"min_samples_leaf\\\": 6,\\u003cbr\\u003e    \\\"subsample\\\": 0.7666531005222561,\\u003cbr\\u003e    \\\"max_features\\\": \\\"log2\\\"\\u003cbr\\u003e  }\\u003cbr\\u003e}\",\"{\\u003cbr\\u003e  \\\"number\\\": 20,\\u003cbr\\u003e  \\\"values\\\": [\\u003cbr\\u003e    0.7291910902696366,\\u003cbr\\u003e    0.7256532066508313\\u003cbr\\u003e  ],\\u003cbr\\u003e  \\\"params\\\": {\\u003cbr\\u003e    \\\"n_estimators\\\": 281,\\u003cbr\\u003e    \\\"learning_rate\\\": 0.09606734737192564,\\u003cbr\\u003e    \\\"max_depth\\\": 5,\\u003cbr\\u003e    \\\"min_samples_split\\\": 3,\\u003cbr\\u003e    \\\"min_samples_leaf\\\": 8,\\u003cbr\\u003e    \\\"subsample\\\": 0.8788659529230936,\\u003cbr\\u003e    \\\"max_features\\\": null\\u003cbr\\u003e  }\\u003cbr\\u003e}\",\"{\\u003cbr\\u003e  \\\"number\\\": 21,\\u003cbr\\u003e  \\\"values\\\": [\\u003cbr\\u003e    0.7482598607888631,\\u003cbr\\u003e    0.7422802850356295\\u003cbr\\u003e  ],\\u003cbr\\u003e  \\\"params\\\": {\\u003cbr\\u003e    \\\"n_estimators\\\": 436,\\u003cbr\\u003e    \\\"learning_rate\\\": 0.2357188192359843,\\u003cbr\\u003e    \\\"max_depth\\\": 7,\\u003cbr\\u003e    \\\"min_samples_split\\\": 14,\\u003cbr\\u003e    \\\"min_samples_leaf\\\": 1,\\u003cbr\\u003e    \\\"subsample\\\": 0.6714391407584062,\\u003cbr\\u003e    \\\"max_features\\\": null\\u003cbr\\u003e  }\\u003cbr\\u003e}\",\"{\\u003cbr\\u003e  \\\"number\\\": 22,\\u003cbr\\u003e  \\\"values\\\": [\\u003cbr\\u003e    0.6401491609695463,\\u003cbr\\u003e    0.6561757719714965\\u003cbr\\u003e  ],\\u003cbr\\u003e  \\\"params\\\": {\\u003cbr\\u003e    \\\"n_estimators\\\": 381,\\u003cbr\\u003e    \\\"learning_rate\\\": 0.01593524565707697,\\u003cbr\\u003e    \\\"max_depth\\\": 8,\\u003cbr\\u003e    \\\"min_samples_split\\\": 7,\\u003cbr\\u003e    \\\"min_samples_leaf\\\": 1,\\u003cbr\\u003e    \\\"subsample\\\": 0.6096900762338056,\\u003cbr\\u003e    \\\"max_features\\\": \\\"sqrt\\\"\\u003cbr\\u003e  }\\u003cbr\\u003e}\",\"{\\u003cbr\\u003e  \\\"number\\\": 23,\\u003cbr\\u003e  \\\"values\\\": [\\u003cbr\\u003e    0.7177950868783702,\\u003cbr\\u003e    0.7203087885985748\\u003cbr\\u003e  ],\\u003cbr\\u003e  \\\"params\\\": {\\u003cbr\\u003e    \\\"n_estimators\\\": 130,\\u003cbr\\u003e    \\\"learning_rate\\\": 0.03398288604956171,\\u003cbr\\u003e    \\\"max_depth\\\": 7,\\u003cbr\\u003e    \\\"min_samples_split\\\": 17,\\u003cbr\\u003e    \\\"min_samples_leaf\\\": 4,\\u003cbr\\u003e    \\\"subsample\\\": 0.7493357390083034,\\u003cbr\\u003e    \\\"max_features\\\": null\\u003cbr\\u003e  }\\u003cbr\\u003e}\",\"{\\u003cbr\\u003e  \\\"number\\\": 24,\\u003cbr\\u003e  \\\"values\\\": [\\u003cbr\\u003e    0.6150121065375302,\\u003cbr\\u003e    0.6223277909738717\\u003cbr\\u003e  ],\\u003cbr\\u003e  \\\"params\\\": {\\u003cbr\\u003e    \\\"n_estimators\\\": 144,\\u003cbr\\u003e    \\\"learning_rate\\\": 0.09976846785046352,\\u003cbr\\u003e    \\\"max_depth\\\": 8,\\u003cbr\\u003e    \\\"min_samples_split\\\": 12,\\u003cbr\\u003e    \\\"min_samples_leaf\\\": 14,\\u003cbr\\u003e    \\\"subsample\\\": 0.774966480013096,\\u003cbr\\u003e    \\\"max_features\\\": \\\"sqrt\\\"\\u003cbr\\u003e  }\\u003cbr\\u003e}\",\"{\\u003cbr\\u003e  \\\"number\\\": 25,\\u003cbr\\u003e  \\\"values\\\": [\\u003cbr\\u003e    0.7048611111111112,\\u003cbr\\u003e    0.6971496437054632\\u003cbr\\u003e  ],\\u003cbr\\u003e  \\\"params\\\": {\\u003cbr\\u003e    \\\"n_estimators\\\": 189,\\u003cbr\\u003e    \\\"learning_rate\\\": 0.1221361395630382,\\u003cbr\\u003e    \\\"max_depth\\\": 4,\\u003cbr\\u003e    \\\"min_samples_split\\\": 12,\\u003cbr\\u003e    \\\"min_samples_leaf\\\": 14,\\u003cbr\\u003e    \\\"subsample\\\": 0.6677151004501218,\\u003cbr\\u003e    \\\"max_features\\\": null\\u003cbr\\u003e  }\\u003cbr\\u003e}\",\"{\\u003cbr\\u003e  \\\"number\\\": 26,\\u003cbr\\u003e  \\\"values\\\": [\\u003cbr\\u003e    0.5107604017216643,\\u003cbr\\u003e    0.5950118764845606\\u003cbr\\u003e  ],\\u003cbr\\u003e  \\\"params\\\": {\\u003cbr\\u003e    \\\"n_estimators\\\": 191,\\u003cbr\\u003e    \\\"learning_rate\\\": 0.02792570807369791,\\u003cbr\\u003e    \\\"max_depth\\\": 4,\\u003cbr\\u003e    \\\"min_samples_split\\\": 7,\\u003cbr\\u003e    \\\"min_samples_leaf\\\": 6,\\u003cbr\\u003e    \\\"subsample\\\": 0.9783445945589253,\\u003cbr\\u003e    \\\"max_features\\\": \\\"sqrt\\\"\\u003cbr\\u003e  }\\u003cbr\\u003e}\",\"{\\u003cbr\\u003e  \\\"number\\\": 27,\\u003cbr\\u003e  \\\"values\\\": [\\u003cbr\\u003e    0.5363825363825364,\\u003cbr\\u003e    0.6027315914489311\\u003cbr\\u003e  ],\\u003cbr\\u003e  \\\"params\\\": {\\u003cbr\\u003e    \\\"n_estimators\\\": 405,\\u003cbr\\u003e    \\\"learning_rate\\\": 0.010466675706917731,\\u003cbr\\u003e    \\\"max_depth\\\": 7,\\u003cbr\\u003e    \\\"min_samples_split\\\": 15,\\u003cbr\\u003e    \\\"min_samples_leaf\\\": 11,\\u003cbr\\u003e    \\\"subsample\\\": 0.868597977338151,\\u003cbr\\u003e    \\\"max_features\\\": \\\"sqrt\\\"\\u003cbr\\u003e  }\\u003cbr\\u003e}\",\"{\\u003cbr\\u003e  \\\"number\\\": 28,\\u003cbr\\u003e  \\\"values\\\": [\\u003cbr\\u003e    0.594960049170252,\\u003cbr\\u003e    0.6086698337292161\\u003cbr\\u003e  ],\\u003cbr\\u003e  \\\"params\\\": {\\u003cbr\\u003e    \\\"n_estimators\\\": 150,\\u003cbr\\u003e    \\\"learning_rate\\\": 0.09453506685457609,\\u003cbr\\u003e    \\\"max_depth\\\": 7,\\u003cbr\\u003e    \\\"min_samples_split\\\": 17,\\u003cbr\\u003e    \\\"min_samples_leaf\\\": 16,\\u003cbr\\u003e    \\\"subsample\\\": 0.7570339190218498,\\u003cbr\\u003e    \\\"max_features\\\": \\\"sqrt\\\"\\u003cbr\\u003e  }\\u003cbr\\u003e}\",\"{\\u003cbr\\u003e  \\\"number\\\": 29,\\u003cbr\\u003e  \\\"values\\\": [\\u003cbr\\u003e    0.6415584415584416,\\u003cbr\\u003e    0.672209026128266\\u003cbr\\u003e  ],\\u003cbr\\u003e  \\\"params\\\": {\\u003cbr\\u003e    \\\"n_estimators\\\": 73,\\u003cbr\\u003e    \\\"learning_rate\\\": 0.055961632938145905,\\u003cbr\\u003e    \\\"max_depth\\\": 4,\\u003cbr\\u003e    \\\"min_samples_split\\\": 14,\\u003cbr\\u003e    \\\"min_samples_leaf\\\": 19,\\u003cbr\\u003e    \\\"subsample\\\": 0.6996081930893236,\\u003cbr\\u003e    \\\"max_features\\\": null\\u003cbr\\u003e  }\\u003cbr\\u003e}\",\"{\\u003cbr\\u003e  \\\"number\\\": 30,\\u003cbr\\u003e  \\\"values\\\": [\\u003cbr\\u003e    0.6996291718170581,\\u003cbr\\u003e    0.7114014251781473\\u003cbr\\u003e  ],\\u003cbr\\u003e  \\\"params\\\": {\\u003cbr\\u003e    \\\"n_estimators\\\": 174,\\u003cbr\\u003e    \\\"learning_rate\\\": 0.015061035528036875,\\u003cbr\\u003e    \\\"max_depth\\\": 9,\\u003cbr\\u003e    \\\"min_samples_split\\\": 15,\\u003cbr\\u003e    \\\"min_samples_leaf\\\": 10,\\u003cbr\\u003e    \\\"subsample\\\": 0.5855174149333757,\\u003cbr\\u003e    \\\"max_features\\\": null\\u003cbr\\u003e  }\\u003cbr\\u003e}\",\"{\\u003cbr\\u003e  \\\"number\\\": 31,\\u003cbr\\u003e  \\\"values\\\": [\\u003cbr\\u003e    0.49199417758369723,\\u003cbr\\u003e    0.5855106888361045\\u003cbr\\u003e  ],\\u003cbr\\u003e  \\\"params\\\": {\\u003cbr\\u003e    \\\"n_estimators\\\": 107,\\u003cbr\\u003e    \\\"learning_rate\\\": 0.08265851558627015,\\u003cbr\\u003e    \\\"max_depth\\\": 4,\\u003cbr\\u003e    \\\"min_samples_split\\\": 5,\\u003cbr\\u003e    \\\"min_samples_leaf\\\": 9,\\u003cbr\\u003e    \\\"subsample\\\": 0.615102442600415,\\u003cbr\\u003e    \\\"max_features\\\": \\\"log2\\\"\\u003cbr\\u003e  }\\u003cbr\\u003e}\",\"{\\u003cbr\\u003e  \\\"number\\\": 32,\\u003cbr\\u003e  \\\"values\\\": [\\u003cbr\\u003e    0.4095617529880478,\\u003cbr\\u003e    0.5599762470308789\\u003cbr\\u003e  ],\\u003cbr\\u003e  \\\"params\\\": {\\u003cbr\\u003e    \\\"n_estimators\\\": 155,\\u003cbr\\u003e    \\\"learning_rate\\\": 0.04582910060572111,\\u003cbr\\u003e    \\\"max_depth\\\": 7,\\u003cbr\\u003e    \\\"min_samples_split\\\": 9,\\u003cbr\\u003e    \\\"min_samples_leaf\\\": 17,\\u003cbr\\u003e    \\\"subsample\\\": 0.9240290348538608,\\u003cbr\\u003e    \\\"max_features\\\": \\\"log2\\\"\\u003cbr\\u003e  }\\u003cbr\\u003e}\",\"{\\u003cbr\\u003e  \\\"number\\\": 33,\\u003cbr\\u003e  \\\"values\\\": [\\u003cbr\\u003e    0.6887182516243355,\\u003cbr\\u003e    0.6870546318289786\\u003cbr\\u003e  ],\\u003cbr\\u003e  \\\"params\\\": {\\u003cbr\\u003e    \\\"n_estimators\\\": 61,\\u003cbr\\u003e    \\\"learning_rate\\\": 0.2169168512262279,\\u003cbr\\u003e    \\\"max_depth\\\": 4,\\u003cbr\\u003e    \\\"min_samples_split\\\": 7,\\u003cbr\\u003e    \\\"min_samples_leaf\\\": 13,\\u003cbr\\u003e    \\\"subsample\\\": 0.7884280852109045,\\u003cbr\\u003e    \\\"max_features\\\": null\\u003cbr\\u003e  }\\u003cbr\\u003e}\",\"{\\u003cbr\\u003e  \\\"number\\\": 34,\\u003cbr\\u003e  \\\"values\\\": [\\u003cbr\\u003e    0.3669724770642202,\\u003cbr\\u003e    0.5492874109263658\\u003cbr\\u003e  ],\\u003cbr\\u003e  \\\"params\\\": {\\u003cbr\\u003e    \\\"n_estimators\\\": 183,\\u003cbr\\u003e    \\\"learning_rate\\\": 0.012198693201630147,\\u003cbr\\u003e    \\\"max_depth\\\": 6,\\u003cbr\\u003e    \\\"min_samples_split\\\": 3,\\u003cbr\\u003e    \\\"min_samples_leaf\\\": 6,\\u003cbr\\u003e    \\\"subsample\\\": 0.7473721231585784,\\u003cbr\\u003e    \\\"max_features\\\": \\\"log2\\\"\\u003cbr\\u003e  }\\u003cbr\\u003e}\",\"{\\u003cbr\\u003e  \\\"number\\\": 35,\\u003cbr\\u003e  \\\"values\\\": [\\u003cbr\\u003e    0.5642715886618326,\\u003cbr\\u003e    0.6074821852731591\\u003cbr\\u003e  ],\\u003cbr\\u003e  \\\"params\\\": {\\u003cbr\\u003e    \\\"n_estimators\\\": 261,\\u003cbr\\u003e    \\\"learning_rate\\\": 0.14180397796876937,\\u003cbr\\u003e    \\\"max_depth\\\": 9,\\u003cbr\\u003e    \\\"min_samples_split\\\": 9,\\u003cbr\\u003e    \\\"min_samples_leaf\\\": 20,\\u003cbr\\u003e    \\\"subsample\\\": 0.8379694159985498,\\u003cbr\\u003e    \\\"max_features\\\": \\\"log2\\\"\\u003cbr\\u003e  }\\u003cbr\\u003e}\",\"{\\u003cbr\\u003e  \\\"number\\\": 36,\\u003cbr\\u003e  \\\"values\\\": [\\u003cbr\\u003e    0.5589980224126566,\\u003cbr\\u003e    0.6027315914489311\\u003cbr\\u003e  ],\\u003cbr\\u003e  \\\"params\\\": {\\u003cbr\\u003e    \\\"n_estimators\\\": 269,\\u003cbr\\u003e    \\\"learning_rate\\\": 0.24460631363334123,\\u003cbr\\u003e    \\\"max_depth\\\": 8,\\u003cbr\\u003e    \\\"min_samples_split\\\": 18,\\u003cbr\\u003e    \\\"min_samples_leaf\\\": 17,\\u003cbr\\u003e    \\\"subsample\\\": 0.788822471147913,\\u003cbr\\u003e    \\\"max_features\\\": \\\"log2\\\"\\u003cbr\\u003e  }\\u003cbr\\u003e}\",\"{\\u003cbr\\u003e  \\\"number\\\": 37,\\u003cbr\\u003e  \\\"values\\\": [\\u003cbr\\u003e    0.43309002433090027,\\u003cbr\\u003e    0.584916864608076\\u003cbr\\u003e  ],\\u003cbr\\u003e  \\\"params\\\": {\\u003cbr\\u003e    \\\"n_estimators\\\": 389,\\u003cbr\\u003e    \\\"learning_rate\\\": 0.01130250485042804,\\u003cbr\\u003e    \\\"max_depth\\\": 4,\\u003cbr\\u003e    \\\"min_samples_split\\\": 4,\\u003cbr\\u003e    \\\"min_samples_leaf\\\": 18,\\u003cbr\\u003e    \\\"subsample\\\": 0.8040303320617299,\\u003cbr\\u003e    \\\"max_features\\\": \\\"log2\\\"\\u003cbr\\u003e  }\\u003cbr\\u003e}\",\"{\\u003cbr\\u003e  \\\"number\\\": 38,\\u003cbr\\u003e  \\\"values\\\": [\\u003cbr\\u003e    0.7051206592113007,\\u003cbr\\u003e    0.7024940617577197\\u003cbr\\u003e  ],\\u003cbr\\u003e  \\\"params\\\": {\\u003cbr\\u003e    \\\"n_estimators\\\": 73,\\u003cbr\\u003e    \\\"learning_rate\\\": 0.15676801957097794,\\u003cbr\\u003e    \\\"max_depth\\\": 8,\\u003cbr\\u003e    \\\"min_samples_split\\\": 12,\\u003cbr\\u003e    \\\"min_samples_leaf\\\": 20,\\u003cbr\\u003e    \\\"subsample\\\": 0.6339434604882591,\\u003cbr\\u003e    \\\"max_features\\\": null\\u003cbr\\u003e  }\\u003cbr\\u003e}\",\"{\\u003cbr\\u003e  \\\"number\\\": 39,\\u003cbr\\u003e  \\\"values\\\": [\\u003cbr\\u003e    0.6896948762233737,\\u003cbr\\u003e    0.6799287410926366\\u003cbr\\u003e  ],\\u003cbr\\u003e  \\\"params\\\": {\\u003cbr\\u003e    \\\"n_estimators\\\": 344,\\u003cbr\\u003e    \\\"learning_rate\\\": 0.26305135550232134,\\u003cbr\\u003e    \\\"max_depth\\\": 3,\\u003cbr\\u003e    \\\"min_samples_split\\\": 16,\\u003cbr\\u003e    \\\"min_samples_leaf\\\": 18,\\u003cbr\\u003e    \\\"subsample\\\": 0.5678242982712141,\\u003cbr\\u003e    \\\"max_features\\\": null\\u003cbr\\u003e  }\\u003cbr\\u003e}\",\"{\\u003cbr\\u003e  \\\"number\\\": 40,\\u003cbr\\u003e  \\\"values\\\": [\\u003cbr\\u003e    0.6588648332358105,\\u003cbr\\u003e    0.6538004750593824\\u003cbr\\u003e  ],\\u003cbr\\u003e  \\\"params\\\": {\\u003cbr\\u003e    \\\"n_estimators\\\": 246,\\u003cbr\\u003e    \\\"learning_rate\\\": 0.22114721924487912,\\u003cbr\\u003e    \\\"max_depth\\\": 6,\\u003cbr\\u003e    \\\"min_samples_split\\\": 16,\\u003cbr\\u003e    \\\"min_samples_leaf\\\": 11,\\u003cbr\\u003e    \\\"subsample\\\": 0.5900359978906561,\\u003cbr\\u003e    \\\"max_features\\\": \\\"sqrt\\\"\\u003cbr\\u003e  }\\u003cbr\\u003e}\",\"{\\u003cbr\\u003e  \\\"number\\\": 41,\\u003cbr\\u003e  \\\"values\\\": [\\u003cbr\\u003e    0.724198250728863,\\u003cbr\\u003e    0.7191211401425178\\u003cbr\\u003e  ],\\u003cbr\\u003e  \\\"params\\\": {\\u003cbr\\u003e    \\\"n_estimators\\\": 468,\\u003cbr\\u003e    \\\"learning_rate\\\": 0.0699621924575894,\\u003cbr\\u003e    \\\"max_depth\\\": 4,\\u003cbr\\u003e    \\\"min_samples_split\\\": 11,\\u003cbr\\u003e    \\\"min_samples_leaf\\\": 6,\\u003cbr\\u003e    \\\"subsample\\\": 0.9816765475800326,\\u003cbr\\u003e    \\\"max_features\\\": null\\u003cbr\\u003e  }\\u003cbr\\u003e}\",\"{\\u003cbr\\u003e  \\\"number\\\": 42,\\u003cbr\\u003e  \\\"values\\\": [\\u003cbr\\u003e    0.7554252199413489,\\u003cbr\\u003e    0.752375296912114\\u003cbr\\u003e  ],\\u003cbr\\u003e  \\\"params\\\": {\\u003cbr\\u003e    \\\"n_estimators\\\": 290,\\u003cbr\\u003e    \\\"learning_rate\\\": 0.09921954157342187,\\u003cbr\\u003e    \\\"max_depth\\\": 10,\\u003cbr\\u003e    \\\"min_samples_split\\\": 9,\\u003cbr\\u003e    \\\"min_samples_leaf\\\": 6,\\u003cbr\\u003e    \\\"subsample\\\": 0.8748008169406887,\\u003cbr\\u003e    \\\"max_features\\\": null\\u003cbr\\u003e  }\\u003cbr\\u003e}\",\"{\\u003cbr\\u003e  \\\"number\\\": 43,\\u003cbr\\u003e  \\\"values\\\": [\\u003cbr\\u003e    0.5778364116094987,\\u003cbr\\u003e    0.6199524940617577\\u003cbr\\u003e  ],\\u003cbr\\u003e  \\\"params\\\": {\\u003cbr\\u003e    \\\"n_estimators\\\": 307,\\u003cbr\\u003e    \\\"learning_rate\\\": 0.02246286698307342,\\u003cbr\\u003e    \\\"max_depth\\\": 9,\\u003cbr\\u003e    \\\"min_samples_split\\\": 5,\\u003cbr\\u003e    \\\"min_samples_leaf\\\": 2,\\u003cbr\\u003e    \\\"subsample\\\": 0.9652788264316702,\\u003cbr\\u003e    \\\"max_features\\\": \\\"log2\\\"\\u003cbr\\u003e  }\\u003cbr\\u003e}\",\"{\\u003cbr\\u003e  \\\"number\\\": 44,\\u003cbr\\u003e  \\\"values\\\": [\\u003cbr\\u003e    0.5515846257585975,\\u003cbr\\u003e    0.6051068883610451\\u003cbr\\u003e  ],\\u003cbr\\u003e  \\\"params\\\": {\\u003cbr\\u003e    \\\"n_estimators\\\": 148,\\u003cbr\\u003e    \\\"learning_rate\\\": 0.07671042187631066,\\u003cbr\\u003e    \\\"max_depth\\\": 6,\\u003cbr\\u003e    \\\"min_samples_split\\\": 11,\\u003cbr\\u003e    \\\"min_samples_leaf\\\": 5,\\u003cbr\\u003e    \\\"subsample\\\": 0.5042727456112065,\\u003cbr\\u003e    \\\"max_features\\\": \\\"log2\\\"\\u003cbr\\u003e  }\\u003cbr\\u003e}\",\"{\\u003cbr\\u003e  \\\"number\\\": 45,\\u003cbr\\u003e  \\\"values\\\": [\\u003cbr\\u003e    0.7348837209302326,\\u003cbr\\u003e    0.7292161520190024\\u003cbr\\u003e  ],\\u003cbr\\u003e  \\\"params\\\": {\\u003cbr\\u003e    \\\"n_estimators\\\": 99,\\u003cbr\\u003e    \\\"learning_rate\\\": 0.11715362460071818,\\u003cbr\\u003e    \\\"max_depth\\\": 10,\\u003cbr\\u003e    \\\"min_samples_split\\\": 4,\\u003cbr\\u003e    \\\"min_samples_leaf\\\": 8,\\u003cbr\\u003e    \\\"subsample\\\": 0.6545367320195126,\\u003cbr\\u003e    \\\"max_features\\\": null\\u003cbr\\u003e  }\\u003cbr\\u003e}\",\"{\\u003cbr\\u003e  \\\"number\\\": 46,\\u003cbr\\u003e  \\\"values\\\": [\\u003cbr\\u003e    0.5693811074918567,\\u003cbr\\u003e    0.6074821852731591\\u003cbr\\u003e  ],\\u003cbr\\u003e  \\\"params\\\": {\\u003cbr\\u003e    \\\"n_estimators\\\": 409,\\u003cbr\\u003e    \\\"learning_rate\\\": 0.05750431534708337,\\u003cbr\\u003e    \\\"max_depth\\\": 3,\\u003cbr\\u003e    \\\"min_samples_split\\\": 5,\\u003cbr\\u003e    \\\"min_samples_leaf\\\": 8,\\u003cbr\\u003e    \\\"subsample\\\": 0.982307237537827,\\u003cbr\\u003e    \\\"max_features\\\": \\\"log2\\\"\\u003cbr\\u003e  }\\u003cbr\\u003e}\",\"{\\u003cbr\\u003e  \\\"number\\\": 47,\\u003cbr\\u003e  \\\"values\\\": [\\u003cbr\\u003e    0.4502698535080956,\\u003cbr\\u003e    0.5766033254156769\\u003cbr\\u003e  ],\\u003cbr\\u003e  \\\"params\\\": {\\u003cbr\\u003e    \\\"n_estimators\\\": 450,\\u003cbr\\u003e    \\\"learning_rate\\\": 0.016420200925503597,\\u003cbr\\u003e    \\\"max_depth\\\": 6,\\u003cbr\\u003e    \\\"min_samples_split\\\": 10,\\u003cbr\\u003e    \\\"min_samples_leaf\\\": 13,\\u003cbr\\u003e    \\\"subsample\\\": 0.7091771847012844,\\u003cbr\\u003e    \\\"max_features\\\": \\\"log2\\\"\\u003cbr\\u003e  }\\u003cbr\\u003e}\",\"{\\u003cbr\\u003e  \\\"number\\\": 48,\\u003cbr\\u003e  \\\"values\\\": [\\u003cbr\\u003e    0.694687682428488,\\u003cbr\\u003e    0.6894299287410927\\u003cbr\\u003e  ],\\u003cbr\\u003e  \\\"params\\\": {\\u003cbr\\u003e    \\\"n_estimators\\\": 85,\\u003cbr\\u003e    \\\"learning_rate\\\": 0.11228592369032321,\\u003cbr\\u003e    \\\"max_depth\\\": 5,\\u003cbr\\u003e    \\\"min_samples_split\\\": 2,\\u003cbr\\u003e    \\\"min_samples_leaf\\\": 18,\\u003cbr\\u003e    \\\"subsample\\\": 0.8110737240536268,\\u003cbr\\u003e    \\\"max_features\\\": null\\u003cbr\\u003e  }\\u003cbr\\u003e}\",\"{\\u003cbr\\u003e  \\\"number\\\": 49,\\u003cbr\\u003e  \\\"values\\\": [\\u003cbr\\u003e    0.6982035928143713,\\u003cbr\\u003e    0.7007125890736342\\u003cbr\\u003e  ],\\u003cbr\\u003e  \\\"params\\\": {\\u003cbr\\u003e    \\\"n_estimators\\\": 102,\\u003cbr\\u003e    \\\"learning_rate\\\": 0.09557849269103966,\\u003cbr\\u003e    \\\"max_depth\\\": 5,\\u003cbr\\u003e    \\\"min_samples_split\\\": 19,\\u003cbr\\u003e    \\\"min_samples_leaf\\\": 18,\\u003cbr\\u003e    \\\"subsample\\\": 0.6681699695525338,\\u003cbr\\u003e    \\\"max_features\\\": null\\u003cbr\\u003e  }\\u003cbr\\u003e}\",\"{\\u003cbr\\u003e  \\\"number\\\": 50,\\u003cbr\\u003e  \\\"values\\\": [\\u003cbr\\u003e    0.5780346820809249,\\u003cbr\\u003e    0.6098574821852731\\u003cbr\\u003e  ],\\u003cbr\\u003e  \\\"params\\\": {\\u003cbr\\u003e    \\\"n_estimators\\\": 391,\\u003cbr\\u003e    \\\"learning_rate\\\": 0.040285693513557895,\\u003cbr\\u003e    \\\"max_depth\\\": 4,\\u003cbr\\u003e    \\\"min_samples_split\\\": 12,\\u003cbr\\u003e    \\\"min_samples_leaf\\\": 17,\\u003cbr\\u003e    \\\"subsample\\\": 0.8104338254223458,\\u003cbr\\u003e    \\\"max_features\\\": \\\"sqrt\\\"\\u003cbr\\u003e  }\\u003cbr\\u003e}\",\"{\\u003cbr\\u003e  \\\"number\\\": 51,\\u003cbr\\u003e  \\\"values\\\": [\\u003cbr\\u003e    0.6333927510398099,\\u003cbr\\u003e    0.6336104513064132\\u003cbr\\u003e  ],\\u003cbr\\u003e  \\\"params\\\": {\\u003cbr\\u003e    \\\"n_estimators\\\": 337,\\u003cbr\\u003e    \\\"learning_rate\\\": 0.09606734737192564,\\u003cbr\\u003e    \\\"max_depth\\\": 5,\\u003cbr\\u003e    \\\"min_samples_split\\\": 12,\\u003cbr\\u003e    \\\"min_samples_leaf\\\": 8,\\u003cbr\\u003e    \\\"subsample\\\": 0.8788659529230936,\\u003cbr\\u003e    \\\"max_features\\\": \\\"sqrt\\\"\\u003cbr\\u003e  }\\u003cbr\\u003e}\",\"{\\u003cbr\\u003e  \\\"number\\\": 52,\\u003cbr\\u003e  \\\"values\\\": [\\u003cbr\\u003e    0.5774456521739131,\\u003cbr\\u003e    0.6306413301662708\\u003cbr\\u003e  ],\\u003cbr\\u003e  \\\"params\\\": {\\u003cbr\\u003e    \\\"n_estimators\\\": 147,\\u003cbr\\u003e    \\\"learning_rate\\\": 0.04880391021826391,\\u003cbr\\u003e    \\\"max_depth\\\": 10,\\u003cbr\\u003e    \\\"min_samples_split\\\": 5,\\u003cbr\\u003e    \\\"min_samples_leaf\\\": 6,\\u003cbr\\u003e    \\\"subsample\\\": 0.8748008169406887,\\u003cbr\\u003e    \\\"max_features\\\": \\\"log2\\\"\\u003cbr\\u003e  }\\u003cbr\\u003e}\",\"{\\u003cbr\\u003e  \\\"number\\\": 53,\\u003cbr\\u003e  \\\"values\\\": [\\u003cbr\\u003e    0.6840579710144927,\\u003cbr\\u003e    0.6763657957244655\\u003cbr\\u003e  ],\\u003cbr\\u003e  \\\"params\\\": {\\u003cbr\\u003e    \\\"n_estimators\\\": 132,\\u003cbr\\u003e    \\\"learning_rate\\\": 0.2880832032178352,\\u003cbr\\u003e    \\\"max_depth\\\": 10,\\u003cbr\\u003e    \\\"min_samples_split\\\": 17,\\u003cbr\\u003e    \\\"min_samples_leaf\\\": 1,\\u003cbr\\u003e    \\\"subsample\\\": 0.7570339190218498,\\u003cbr\\u003e    \\\"max_features\\\": \\\"sqrt\\\"\\u003cbr\\u003e  }\\u003cbr\\u003e}\",\"{\\u003cbr\\u003e  \\\"number\\\": 54,\\u003cbr\\u003e  \\\"values\\\": [\\u003cbr\\u003e    0.6759036144578313,\\u003cbr\\u003e    0.6805225653206651\\u003cbr\\u003e  ],\\u003cbr\\u003e  \\\"params\\\": {\\u003cbr\\u003e    \\\"n_estimators\\\": 61,\\u003cbr\\u003e    \\\"learning_rate\\\": 0.15676801957097794,\\u003cbr\\u003e    \\\"max_depth\\\": 4,\\u003cbr\\u003e    \\\"min_samples_split\\\": 12,\\u003cbr\\u003e    \\\"min_samples_leaf\\\": 12,\\u003cbr\\u003e    \\\"subsample\\\": 0.6339434604882591,\\u003cbr\\u003e    \\\"max_features\\\": null\\u003cbr\\u003e  }\\u003cbr\\u003e}\",\"{\\u003cbr\\u003e  \\\"number\\\": 55,\\u003cbr\\u003e  \\\"values\\\": [\\u003cbr\\u003e    0.6205160478288232,\\u003cbr\\u003e    0.6419239904988123\\u003cbr\\u003e  ],\\u003cbr\\u003e  \\\"params\\\": {\\u003cbr\\u003e    \\\"n_estimators\\\": 391,\\u003cbr\\u003e    \\\"learning_rate\\\": 0.011718023712336923,\\u003cbr\\u003e    \\\"max_depth\\\": 8,\\u003cbr\\u003e    \\\"min_samples_split\\\": 12,\\u003cbr\\u003e    \\\"min_samples_leaf\\\": 1,\\u003cbr\\u003e    \\\"subsample\\\": 0.6096900762338056,\\u003cbr\\u003e    \\\"max_features\\\": \\\"sqrt\\\"\\u003cbr\\u003e  }\\u003cbr\\u003e}\",\"{\\u003cbr\\u003e  \\\"number\\\": 56,\\u003cbr\\u003e  \\\"values\\\": [\\u003cbr\\u003e    0.435126582278481,\\u003cbr\\u003e    0.5760095011876485\\u003cbr\\u003e  ],\\u003cbr\\u003e  \\\"params\\\": {\\u003cbr\\u003e    \\\"n_estimators\\\": 139,\\u003cbr\\u003e    \\\"learning_rate\\\": 0.02246286698307342,\\u003cbr\\u003e    \\\"max_depth\\\": 9,\\u003cbr\\u003e    \\\"min_samples_split\\\": 11,\\u003cbr\\u003e    \\\"min_samples_leaf\\\": 5,\\u003cbr\\u003e    \\\"subsample\\\": 0.5042727456112065,\\u003cbr\\u003e    \\\"max_features\\\": \\\"log2\\\"\\u003cbr\\u003e  }\\u003cbr\\u003e}\",\"{\\u003cbr\\u003e  \\\"number\\\": 57,\\u003cbr\\u003e  \\\"values\\\": [\\u003cbr\\u003e    0.7302325581395349,\\u003cbr\\u003e    0.7244655581947743\\u003cbr\\u003e  ],\\u003cbr\\u003e  \\\"params\\\": {\\u003cbr\\u003e    \\\"n_estimators\\\": 436,\\u003cbr\\u003e    \\\"learning_rate\\\": 0.04510647507881349,\\u003cbr\\u003e    \\\"max_depth\\\": 8,\\u003cbr\\u003e    \\\"min_samples_split\\\": 14,\\u003cbr\\u003e    \\\"min_samples_leaf\\\": 14,\\u003cbr\\u003e    \\\"subsample\\\": 0.6714391407584062,\\u003cbr\\u003e    \\\"max_features\\\": null\\u003cbr\\u003e  }\\u003cbr\\u003e}\",\"{\\u003cbr\\u003e  \\\"number\\\": 58,\\u003cbr\\u003e  \\\"values\\\": [\\u003cbr\\u003e    0.70260663507109,\\u003cbr\\u003e    0.7019002375296912\\u003cbr\\u003e  ],\\u003cbr\\u003e  \\\"params\\\": {\\u003cbr\\u003e    \\\"n_estimators\\\": 290,\\u003cbr\\u003e    \\\"learning_rate\\\": 0.09921954157342187,\\u003cbr\\u003e    \\\"max_depth\\\": 3,\\u003cbr\\u003e    \\\"min_samples_split\\\": 16,\\u003cbr\\u003e    \\\"min_samples_leaf\\\": 9,\\u003cbr\\u003e    \\\"subsample\\\": 0.8748008169406887,\\u003cbr\\u003e    \\\"max_features\\\": null\\u003cbr\\u003e  }\\u003cbr\\u003e}\",\"{\\u003cbr\\u003e  \\\"number\\\": 59,\\u003cbr\\u003e  \\\"values\\\": [\\u003cbr\\u003e    0.7049576783555018,\\u003cbr\\u003e    0.7102137767220903\\u003cbr\\u003e  ],\\u003cbr\\u003e  \\\"params\\\": {\\u003cbr\\u003e    \\\"n_estimators\\\": 189,\\u003cbr\\u003e    \\\"learning_rate\\\": 0.09921954157342187,\\u003cbr\\u003e    \\\"max_depth\\\": 4,\\u003cbr\\u003e    \\\"min_samples_split\\\": 12,\\u003cbr\\u003e    \\\"min_samples_leaf\\\": 14,\\u003cbr\\u003e    \\\"subsample\\\": 0.8748008169406887,\\u003cbr\\u003e    \\\"max_features\\\": null\\u003cbr\\u003e  }\\u003cbr\\u003e}\",\"{\\u003cbr\\u003e  \\\"number\\\": 60,\\u003cbr\\u003e  \\\"values\\\": [\\u003cbr\\u003e    0.7216138328530259,\\u003cbr\\u003e    0.7131828978622328\\u003cbr\\u003e  ],\\u003cbr\\u003e  \\\"params\\\": {\\u003cbr\\u003e    \\\"n_estimators\\\": 468,\\u003cbr\\u003e    \\\"learning_rate\\\": 0.11228592369032321,\\u003cbr\\u003e    \\\"max_depth\\\": 5,\\u003cbr\\u003e    \\\"min_samples_split\\\": 11,\\u003cbr\\u003e    \\\"min_samples_leaf\\\": 18,\\u003cbr\\u003e    \\\"subsample\\\": 0.8110737240536268,\\u003cbr\\u003e    \\\"max_features\\\": null\\u003cbr\\u003e  }\\u003cbr\\u003e}\",\"{\\u003cbr\\u003e  \\\"number\\\": 61,\\u003cbr\\u003e  \\\"values\\\": [\\u003cbr\\u003e    0.66541588492808,\\u003cbr\\u003e    0.6823040380047506\\u003cbr\\u003e  ],\\u003cbr\\u003e  \\\"params\\\": {\\u003cbr\\u003e    \\\"n_estimators\\\": 130,\\u003cbr\\u003e    \\\"learning_rate\\\": 0.03398288604956171,\\u003cbr\\u003e    \\\"max_depth\\\": 4,\\u003cbr\\u003e    \\\"min_samples_split\\\": 17,\\u003cbr\\u003e    \\\"min_samples_leaf\\\": 4,\\u003cbr\\u003e    \\\"subsample\\\": 0.8704666904888372,\\u003cbr\\u003e    \\\"max_features\\\": null\\u003cbr\\u003e  }\\u003cbr\\u003e}\",\"{\\u003cbr\\u003e  \\\"number\\\": 62,\\u003cbr\\u003e  \\\"values\\\": [\\u003cbr\\u003e    0.45808383233532934,\\u003cbr\\u003e    0.5700712589073634\\u003cbr\\u003e  ],\\u003cbr\\u003e  \\\"params\\\": {\\u003cbr\\u003e    \\\"n_estimators\\\": 73,\\u003cbr\\u003e    \\\"learning_rate\\\": 0.055961632938145905,\\u003cbr\\u003e    \\\"max_depth\\\": 7,\\u003cbr\\u003e    \\\"min_samples_split\\\": 6,\\u003cbr\\u003e    \\\"min_samples_leaf\\\": 1,\\u003cbr\\u003e    \\\"subsample\\\": 0.6996081930893236,\\u003cbr\\u003e    \\\"max_features\\\": \\\"log2\\\"\\u003cbr\\u003e  }\\u003cbr\\u003e}\",\"{\\u003cbr\\u003e  \\\"number\\\": 63,\\u003cbr\\u003e  \\\"values\\\": [\\u003cbr\\u003e    0.5649566955363091,\\u003cbr\\u003e    0.6122327790973872\\u003cbr\\u003e  ],\\u003cbr\\u003e  \\\"params\\\": {\\u003cbr\\u003e    \\\"n_estimators\\\": 450,\\u003cbr\\u003e    \\\"learning_rate\\\": 0.03916871220872842,\\u003cbr\\u003e    \\\"max_depth\\\": 8,\\u003cbr\\u003e    \\\"min_samples_split\\\": 15,\\u003cbr\\u003e    \\\"min_samples_leaf\\\": 10,\\u003cbr\\u003e    \\\"subsample\\\": 0.7091771847012844,\\u003cbr\\u003e    \\\"max_features\\\": \\\"log2\\\"\\u003cbr\\u003e  }\\u003cbr\\u003e}\",\"{\\u003cbr\\u003e  \\\"number\\\": 64,\\u003cbr\\u003e  \\\"values\\\": [\\u003cbr\\u003e    0.7198096371207614,\\u003cbr\\u003e    0.7203087885985748\\u003cbr\\u003e  ],\\u003cbr\\u003e  \\\"params\\\": {\\u003cbr\\u003e    \\\"n_estimators\\\": 229,\\u003cbr\\u003e    \\\"learning_rate\\\": 0.06391389618624012,\\u003cbr\\u003e    \\\"max_depth\\\": 7,\\u003cbr\\u003e    \\\"min_samples_split\\\": 3,\\u003cbr\\u003e    \\\"min_samples_leaf\\\": 13,\\u003cbr\\u003e    \\\"subsample\\\": 0.6959300182993684,\\u003cbr\\u003e    \\\"max_features\\\": null\\u003cbr\\u003e  }\\u003cbr\\u003e}\",\"{\\u003cbr\\u003e  \\\"number\\\": 65,\\u003cbr\\u003e  \\\"values\\\": [\\u003cbr\\u003e    0.7219626168224299,\\u003cbr\\u003e    0.7173396674584323\\u003cbr\\u003e  ],\\u003cbr\\u003e  \\\"params\\\": {\\u003cbr\\u003e    \\\"n_estimators\\\": 293,\\u003cbr\\u003e    \\\"learning_rate\\\": 0.08479378521184112,\\u003cbr\\u003e    \\\"max_depth\\\": 5,\\u003cbr\\u003e    \\\"min_samples_split\\\": 2,\\u003cbr\\u003e    \\\"min_samples_leaf\\\": 16,\\u003cbr\\u003e    \\\"subsample\\\": 0.8110737240536268,\\u003cbr\\u003e    \\\"max_features\\\": null\\u003cbr\\u003e  }\\u003cbr\\u003e}\",\"{\\u003cbr\\u003e  \\\"number\\\": 66,\\u003cbr\\u003e  \\\"values\\\": [\\u003cbr\\u003e    0.6400966183574879,\\u003cbr\\u003e    0.6460807600950119\\u003cbr\\u003e  ],\\u003cbr\\u003e  \\\"params\\\": {\\u003cbr\\u003e    \\\"n_estimators\\\": 409,\\u003cbr\\u003e    \\\"learning_rate\\\": 0.11715362460071818,\\u003cbr\\u003e    \\\"max_depth\\\": 10,\\u003cbr\\u003e    \\\"min_samples_split\\\": 4,\\u003cbr\\u003e    \\\"min_samples_leaf\\\": 8,\\u003cbr\\u003e    \\\"subsample\\\": 0.6545367320195126,\\u003cbr\\u003e    \\\"max_features\\\": \\\"log2\\\"\\u003cbr\\u003e  }\\u003cbr\\u003e}\",\"{\\u003cbr\\u003e  \\\"number\\\": 67,\\u003cbr\\u003e  \\\"values\\\": [\\u003cbr\\u003e    0.5779987569919205,\\u003cbr\\u003e    0.5967933491686461\\u003cbr\\u003e  ],\\u003cbr\\u003e  \\\"params\\\": {\\u003cbr\\u003e    \\\"n_estimators\\\": 344,\\u003cbr\\u003e    \\\"learning_rate\\\": 0.20754739085144236,\\u003cbr\\u003e    \\\"max_depth\\\": 3,\\u003cbr\\u003e    \\\"min_samples_split\\\": 17,\\u003cbr\\u003e    \\\"min_samples_leaf\\\": 11,\\u003cbr\\u003e    \\\"subsample\\\": 0.5678242982712141,\\u003cbr\\u003e    \\\"max_features\\\": \\\"log2\\\"\\u003cbr\\u003e  }\\u003cbr\\u003e}\",\"{\\u003cbr\\u003e  \\\"number\\\": 68,\\u003cbr\\u003e  \\\"values\\\": [\\u003cbr\\u003e    0.6392132759680393,\\u003cbr\\u003e    0.6514251781472684\\u003cbr\\u003e  ],\\u003cbr\\u003e  \\\"params\\\": {\\u003cbr\\u003e    \\\"n_estimators\\\": 150,\\u003cbr\\u003e    \\\"learning_rate\\\": 0.09453506685457609,\\u003cbr\\u003e    \\\"max_depth\\\": 9,\\u003cbr\\u003e    \\\"min_samples_split\\\": 17,\\u003cbr\\u003e    \\\"min_samples_leaf\\\": 2,\\u003cbr\\u003e    \\\"subsample\\\": 0.9652788264316702,\\u003cbr\\u003e    \\\"max_features\\\": \\\"log2\\\"\\u003cbr\\u003e  }\\u003cbr\\u003e}\",\"{\\u003cbr\\u003e  \\\"number\\\": 69,\\u003cbr\\u003e  \\\"values\\\": [\\u003cbr\\u003e    0.6244674376141205,\\u003cbr\\u003e    0.6336104513064132\\u003cbr\\u003e  ],\\u003cbr\\u003e  \\\"params\\\": {\\u003cbr\\u003e    \\\"n_estimators\\\": 269,\\u003cbr\\u003e    \\\"learning_rate\\\": 0.24460631363334123,\\u003cbr\\u003e    \\\"max_depth\\\": 8,\\u003cbr\\u003e    \\\"min_samples_split\\\": 18,\\u003cbr\\u003e    \\\"min_samples_leaf\\\": 9,\\u003cbr\\u003e    \\\"subsample\\\": 0.788822471147913,\\u003cbr\\u003e    \\\"max_features\\\": \\\"log2\\\"\\u003cbr\\u003e  }\\u003cbr\\u003e}\",\"{\\u003cbr\\u003e  \\\"number\\\": 70,\\u003cbr\\u003e  \\\"values\\\": [\\u003cbr\\u003e    0.6792452830188679,\\u003cbr\\u003e    0.6769596199524941\\u003cbr\\u003e  ],\\u003cbr\\u003e  \\\"params\\\": {\\u003cbr\\u003e    \\\"n_estimators\\\": 399,\\u003cbr\\u003e    \\\"learning_rate\\\": 0.20754739085144236,\\u003cbr\\u003e    \\\"max_depth\\\": 8,\\u003cbr\\u003e    \\\"min_samples_split\\\": 17,\\u003cbr\\u003e    \\\"min_samples_leaf\\\": 1,\\u003cbr\\u003e    \\\"subsample\\\": 0.6096900762338056,\\u003cbr\\u003e    \\\"max_features\\\": \\\"sqrt\\\"\\u003cbr\\u003e  }\\u003cbr\\u003e}\",\"{\\u003cbr\\u003e  \\\"number\\\": 71,\\u003cbr\\u003e  \\\"values\\\": [\\u003cbr\\u003e    0.7505827505827506,\\u003cbr\\u003e    0.7458432304038005\\u003cbr\\u003e  ],\\u003cbr\\u003e  \\\"params\\\": {\\u003cbr\\u003e    \\\"n_estimators\\\": 281,\\u003cbr\\u003e    \\\"learning_rate\\\": 0.09606734737192564,\\u003cbr\\u003e    \\\"max_depth\\\": 9,\\u003cbr\\u003e    \\\"min_samples_split\\\": 5,\\u003cbr\\u003e    \\\"min_samples_leaf\\\": 8,\\u003cbr\\u003e    \\\"subsample\\\": 0.8788659529230936,\\u003cbr\\u003e    \\\"max_features\\\": null\\u003cbr\\u003e  }\\u003cbr\\u003e}\",\"{\\u003cbr\\u003e  \\\"number\\\": 72,\\u003cbr\\u003e  \\\"values\\\": [\\u003cbr\\u003e    0.7262180974477959,\\u003cbr\\u003e    0.7197149643705463\\u003cbr\\u003e  ],\\u003cbr\\u003e  \\\"params\\\": {\\u003cbr\\u003e    \\\"n_estimators\\\": 189,\\u003cbr\\u003e    \\\"learning_rate\\\": 0.1221361395630382,\\u003cbr\\u003e    \\\"max_depth\\\": 5,\\u003cbr\\u003e    \\\"min_samples_split\\\": 3,\\u003cbr\\u003e    \\\"min_samples_leaf\\\": 8,\\u003cbr\\u003e    \\\"subsample\\\": 0.8788659529230936,\\u003cbr\\u003e    \\\"max_features\\\": null\\u003cbr\\u003e  }\\u003cbr\\u003e}\",\"{\\u003cbr\\u003e  \\\"number\\\": 73,\\u003cbr\\u003e  \\\"values\\\": [\\u003cbr\\u003e    0.7021013597033374,\\u003cbr\\u003e    0.7137767220902613\\u003cbr\\u003e  ],\\u003cbr\\u003e  \\\"params\\\": {\\u003cbr\\u003e    \\\"n_estimators\\\": 174,\\u003cbr\\u003e    \\\"learning_rate\\\": 0.015061035528036875,\\u003cbr\\u003e    \\\"max_depth\\\": 9,\\u003cbr\\u003e    \\\"min_samples_split\\\": 15,\\u003cbr\\u003e    \\\"min_samples_leaf\\\": 16,\\u003cbr\\u003e    \\\"subsample\\\": 0.7813571119042513,\\u003cbr\\u003e    \\\"max_features\\\": null\\u003cbr\\u003e  }\\u003cbr\\u003e}\",\"{\\u003cbr\\u003e  \\\"number\\\": 74,\\u003cbr\\u003e  \\\"values\\\": [\\u003cbr\\u003e    0.7114252061248527,\\u003cbr\\u003e    0.7090261282660333\\u003cbr\\u003e  ],\\u003cbr\\u003e  \\\"params\\\": {\\u003cbr\\u003e    \\\"n_estimators\\\": 436,\\u003cbr\\u003e    \\\"learning_rate\\\": 0.027547305262048384,\\u003cbr\\u003e    \\\"max_depth\\\": 6,\\u003cbr\\u003e    \\\"min_samples_split\\\": 4,\\u003cbr\\u003e    \\\"min_samples_leaf\\\": 14,\\u003cbr\\u003e    \\\"subsample\\\": 0.6057617440538042,\\u003cbr\\u003e    \\\"max_features\\\": null\\u003cbr\\u003e  }\\u003cbr\\u003e}\",\"{\\u003cbr\\u003e  \\\"number\\\": 75,\\u003cbr\\u003e  \\\"values\\\": [\\u003cbr\\u003e    0.6375082836315441,\\u003cbr\\u003e    0.6751781472684085\\u003cbr\\u003e  ],\\u003cbr\\u003e  \\\"params\\\": {\\u003cbr\\u003e    \\\"n_estimators\\\": 99,\\u003cbr\\u003e    \\\"learning_rate\\\": 0.05750431534708337,\\u003cbr\\u003e    \\\"max_depth\\\": 3,\\u003cbr\\u003e    \\\"min_samples_split\\\": 5,\\u003cbr\\u003e    \\\"min_samples_leaf\\\": 8,\\u003cbr\\u003e    \\\"subsample\\\": 0.6545367320195126,\\u003cbr\\u003e    \\\"max_features\\\": null\\u003cbr\\u003e  }\\u003cbr\\u003e}\",\"{\\u003cbr\\u003e  \\\"number\\\": 76,\\u003cbr\\u003e  \\\"values\\\": [\\u003cbr\\u003e    0.7136204889406287,\\u003cbr\\u003e    0.7078384798099763\\u003cbr\\u003e  ],\\u003cbr\\u003e  \\\"params\\\": {\\u003cbr\\u003e    \\\"n_estimators\\\": 174,\\u003cbr\\u003e    \\\"learning_rate\\\": 0.1367944099319242,\\u003cbr\\u003e    \\\"max_depth\\\": 5,\\u003cbr\\u003e    \\\"min_samples_split\\\": 2,\\u003cbr\\u003e    \\\"min_samples_leaf\\\": 10,\\u003cbr\\u003e    \\\"subsample\\\": 0.5855174149333757,\\u003cbr\\u003e    \\\"max_features\\\": null\\u003cbr\\u003e  }\\u003cbr\\u003e}\",\"{\\u003cbr\\u003e  \\\"number\\\": 77,\\u003cbr\\u003e  \\\"values\\\": [\\u003cbr\\u003e    0.6781914893617021,\\u003cbr\\u003e    0.7125890736342043\\u003cbr\\u003e  ],\\u003cbr\\u003e  \\\"params\\\": {\\u003cbr\\u003e    \\\"n_estimators\\\": 130,\\u003cbr\\u003e    \\\"learning_rate\\\": 0.03398288604956171,\\u003cbr\\u003e    \\\"max_depth\\\": 7,\\u003cbr\\u003e    \\\"min_samples_split\\\": 17,\\u003cbr\\u003e    \\\"min_samples_leaf\\\": 4,\\u003cbr\\u003e    \\\"subsample\\\": 0.9995540338327519,\\u003cbr\\u003e    \\\"max_features\\\": null\\u003cbr\\u003e  }\\u003cbr\\u003e}\",\"{\\u003cbr\\u003e  \\\"number\\\": 78,\\u003cbr\\u003e  \\\"values\\\": [\\u003cbr\\u003e    0.5408719346049047,\\u003cbr\\u003e    0.5997624703087886\\u003cbr\\u003e  ],\\u003cbr\\u003e  \\\"params\\\": {\\u003cbr\\u003e    \\\"n_estimators\\\": 58,\\u003cbr\\u003e    \\\"learning_rate\\\": 0.09453506685457609,\\u003cbr\\u003e    \\\"max_depth\\\": 7,\\u003cbr\\u003e    \\\"min_samples_split\\\": 15,\\u003cbr\\u003e    \\\"min_samples_leaf\\\": 16,\\u003cbr\\u003e    \\\"subsample\\\": 0.7570339190218498,\\u003cbr\\u003e    \\\"max_features\\\": \\\"sqrt\\\"\\u003cbr\\u003e  }\\u003cbr\\u003e}\",\"{\\u003cbr\\u003e  \\\"number\\\": 79,\\u003cbr\\u003e  \\\"values\\\": [\\u003cbr\\u003e    0.6804245283018868,\\u003cbr\\u003e    0.6781472684085511\\u003cbr\\u003e  ],\\u003cbr\\u003e  \\\"params\\\": {\\u003cbr\\u003e    \\\"n_estimators\\\": 174,\\u003cbr\\u003e    \\\"learning_rate\\\": 0.16045380539043796,\\u003cbr\\u003e    \\\"max_depth\\\": 3,\\u003cbr\\u003e    \\\"min_samples_split\\\": 15,\\u003cbr\\u003e    \\\"min_samples_leaf\\\": 10,\\u003cbr\\u003e    \\\"subsample\\\": 0.5678242982712141,\\u003cbr\\u003e    \\\"max_features\\\": null\\u003cbr\\u003e  }\\u003cbr\\u003e}\",\"{\\u003cbr\\u003e  \\\"number\\\": 80,\\u003cbr\\u003e  \\\"values\\\": [\\u003cbr\\u003e    0.5850860420650096,\\u003cbr\\u003e    0.6134204275534442\\u003cbr\\u003e  ],\\u003cbr\\u003e  \\\"params\\\": {\\u003cbr\\u003e    \\\"n_estimators\\\": 144,\\u003cbr\\u003e    \\\"learning_rate\\\": 0.07608109873276094,\\u003cbr\\u003e    \\\"max_depth\\\": 6,\\u003cbr\\u003e    \\\"min_samples_split\\\": 19,\\u003cbr\\u003e    \\\"min_samples_leaf\\\": 12,\\u003cbr\\u003e    \\\"subsample\\\": 0.5760852962282434,\\u003cbr\\u003e    \\\"max_features\\\": \\\"sqrt\\\"\\u003cbr\\u003e  }\\u003cbr\\u003e}\",\"{\\u003cbr\\u003e  \\\"number\\\": 81,\\u003cbr\\u003e  \\\"values\\\": [\\u003cbr\\u003e    0.5776918117343649,\\u003cbr\\u003e    0.6110451306413301\\u003cbr\\u003e  ],\\u003cbr\\u003e  \\\"params\\\": {\\u003cbr\\u003e    \\\"n_estimators\\\": 471,\\u003cbr\\u003e    \\\"learning_rate\\\": 0.07671042187631066,\\u003cbr\\u003e    \\\"max_depth\\\": 7,\\u003cbr\\u003e    \\\"min_samples_split\\\": 15,\\u003cbr\\u003e    \\\"min_samples_leaf\\\": 12,\\u003cbr\\u003e    \\\"subsample\\\": 0.5042727456112065,\\u003cbr\\u003e    \\\"max_features\\\": \\\"log2\\\"\\u003cbr\\u003e  }\\u003cbr\\u003e}\",\"{\\u003cbr\\u003e  \\\"number\\\": 82,\\u003cbr\\u003e  \\\"values\\\": [\\u003cbr\\u003e    0.7291910902696366,\\u003cbr\\u003e    0.7256532066508313\\u003cbr\\u003e  ],\\u003cbr\\u003e  \\\"params\\\": {\\u003cbr\\u003e    \\\"n_estimators\\\": 281,\\u003cbr\\u003e    \\\"learning_rate\\\": 0.09606734737192564,\\u003cbr\\u003e    \\\"max_depth\\\": 5,\\u003cbr\\u003e    \\\"min_samples_split\\\": 3,\\u003cbr\\u003e    \\\"min_samples_leaf\\\": 8,\\u003cbr\\u003e    \\\"subsample\\\": 0.8788659529230936,\\u003cbr\\u003e    \\\"max_features\\\": null\\u003cbr\\u003e  }\\u003cbr\\u003e}\",\"{\\u003cbr\\u003e  \\\"number\\\": 83,\\u003cbr\\u003e  \\\"values\\\": [\\u003cbr\\u003e    0.7400828892835998,\\u003cbr\\u003e    0.7393111638954869\\u003cbr\\u003e  ],\\u003cbr\\u003e  \\\"params\\\": {\\u003cbr\\u003e    \\\"n_estimators\\\": 61,\\u003cbr\\u003e    \\\"learning_rate\\\": 0.2357188192359843,\\u003cbr\\u003e    \\\"max_depth\\\": 7,\\u003cbr\\u003e    \\\"min_samples_split\\\": 7,\\u003cbr\\u003e    \\\"min_samples_leaf\\\": 1,\\u003cbr\\u003e    \\\"subsample\\\": 0.7884280852109045,\\u003cbr\\u003e    \\\"max_features\\\": null\\u003cbr\\u003e  }\\u003cbr\\u003e}\",\"{\\u003cbr\\u003e  \\\"number\\\": 84,\\u003cbr\\u003e  \\\"values\\\": [\\u003cbr\\u003e    0.546084546084546,\\u003cbr\\u003e    0.6110451306413301\\u003cbr\\u003e  ],\\u003cbr\\u003e  \\\"params\\\": {\\u003cbr\\u003e    \\\"n_estimators\\\": 223,\\u003cbr\\u003e    \\\"learning_rate\\\": 0.020739833503531018,\\u003cbr\\u003e    \\\"max_depth\\\": 7,\\u003cbr\\u003e    \\\"min_samples_split\\\": 5,\\u003cbr\\u003e    \\\"min_samples_leaf\\\": 18,\\u003cbr\\u003e    \\\"subsample\\\": 0.5760852962282434,\\u003cbr\\u003e    \\\"max_features\\\": \\\"sqrt\\\"\\u003cbr\\u003e  }\\u003cbr\\u003e}\",\"{\\u003cbr\\u003e  \\\"number\\\": 85,\\u003cbr\\u003e  \\\"values\\\": [\\u003cbr\\u003e    0.7163289630512515,\\u003cbr\\u003e    0.7173396674584323\\u003cbr\\u003e  ],\\u003cbr\\u003e  \\\"params\\\": {\\u003cbr\\u003e    \\\"n_estimators\\\": 259,\\u003cbr\\u003e    \\\"learning_rate\\\": 0.03078983766672552,\\u003cbr\\u003e    \\\"max_depth\\\": 7,\\u003cbr\\u003e    \\\"min_samples_split\\\": 17,\\u003cbr\\u003e    \\\"min_samples_leaf\\\": 17,\\u003cbr\\u003e    \\\"subsample\\\": 0.7884280852109045,\\u003cbr\\u003e    \\\"max_features\\\": null\\u003cbr\\u003e  }\\u003cbr\\u003e}\",\"{\\u003cbr\\u003e  \\\"number\\\": 86,\\u003cbr\\u003e  \\\"values\\\": [\\u003cbr\\u003e    0.5446194225721784,\\u003cbr\\u003e    0.5878859857482185\\u003cbr\\u003e  ],\\u003cbr\\u003e  \\\"params\\\": {\\u003cbr\\u003e    \\\"n_estimators\\\": 73,\\u003cbr\\u003e    \\\"learning_rate\\\": 0.15676801957097794,\\u003cbr\\u003e    \\\"max_depth\\\": 7,\\u003cbr\\u003e    \\\"min_samples_split\\\": 17,\\u003cbr\\u003e    \\\"min_samples_leaf\\\": 20,\\u003cbr\\u003e    \\\"subsample\\\": 0.7570339190218498,\\u003cbr\\u003e    \\\"max_features\\\": \\\"sqrt\\\"\\u003cbr\\u003e  }\\u003cbr\\u003e}\",\"{\\u003cbr\\u003e  \\\"number\\\": 87,\\u003cbr\\u003e  \\\"values\\\": [\\u003cbr\\u003e    0.646441073512252,\\u003cbr\\u003e    0.6401425178147269\\u003cbr\\u003e  ],\\u003cbr\\u003e  \\\"params\\\": {\\u003cbr\\u003e    \\\"n_estimators\\\": 246,\\u003cbr\\u003e    \\\"learning_rate\\\": 0.22114721924487912,\\u003cbr\\u003e    \\\"max_depth\\\": 6,\\u003cbr\\u003e    \\\"min_samples_split\\\": 14,\\u003cbr\\u003e    \\\"min_samples_leaf\\\": 19,\\u003cbr\\u003e    \\\"subsample\\\": 0.5900359978906561,\\u003cbr\\u003e    \\\"max_features\\\": \\\"sqrt\\\"\\u003cbr\\u003e  }\\u003cbr\\u003e}\",\"{\\u003cbr\\u003e  \\\"number\\\": 88,\\u003cbr\\u003e  \\\"values\\\": [\\u003cbr\\u003e    0.7548273844353423,\\u003cbr\\u003e    0.751187648456057\\u003cbr\\u003e  ],\\u003cbr\\u003e  \\\"params\\\": {\\u003cbr\\u003e    \\\"n_estimators\\\": 460,\\u003cbr\\u003e    \\\"learning_rate\\\": 0.2357188192359843,\\u003cbr\\u003e    \\\"max_depth\\\": 9,\\u003cbr\\u003e    \\\"min_samples_split\\\": 10,\\u003cbr\\u003e    \\\"min_samples_leaf\\\": 4,\\u003cbr\\u003e    \\\"subsample\\\": 0.6714391407584062,\\u003cbr\\u003e    \\\"max_features\\\": null\\u003cbr\\u003e  }\\u003cbr\\u003e}\",\"{\\u003cbr\\u003e  \\\"number\\\": 89,\\u003cbr\\u003e  \\\"values\\\": [\\u003cbr\\u003e    0.7332549941245593,\\u003cbr\\u003e    0.7304038004750594\\u003cbr\\u003e  ],\\u003cbr\\u003e  \\\"params\\\": {\\u003cbr\\u003e    \\\"n_estimators\\\": 229,\\u003cbr\\u003e    \\\"learning_rate\\\": 0.06391389618624012,\\u003cbr\\u003e    \\\"max_depth\\\": 7,\\u003cbr\\u003e    \\\"min_samples_split\\\": 11,\\u003cbr\\u003e    \\\"min_samples_leaf\\\": 14,\\u003cbr\\u003e    \\\"subsample\\\": 0.8968261172981095,\\u003cbr\\u003e    \\\"max_features\\\": null\\u003cbr\\u003e  }\\u003cbr\\u003e}\",\"{\\u003cbr\\u003e  \\\"number\\\": 90,\\u003cbr\\u003e  \\\"values\\\": [\\u003cbr\\u003e    0.6735086593970494,\\u003cbr\\u003e    0.6977434679334917\\u003cbr\\u003e  ],\\u003cbr\\u003e  \\\"params\\\": {\\u003cbr\\u003e    \\\"n_estimators\\\": 85,\\u003cbr\\u003e    \\\"learning_rate\\\": 0.05572687011552259,\\u003cbr\\u003e    \\\"max_depth\\\": 5,\\u003cbr\\u003e    \\\"min_samples_split\\\": 2,\\u003cbr\\u003e    \\\"min_samples_leaf\\\": 4,\\u003cbr\\u003e    \\\"subsample\\\": 0.8110737240536268,\\u003cbr\\u003e    \\\"max_features\\\": null\\u003cbr\\u003e  }\\u003cbr\\u003e}\",\"{\\u003cbr\\u003e  \\\"number\\\": 91,\\u003cbr\\u003e  \\\"values\\\": [\\u003cbr\\u003e    0.5664429530201343,\\u003cbr\\u003e    0.6163895486935868\\u003cbr\\u003e  ],\\u003cbr\\u003e  \\\"params\\\": {\\u003cbr\\u003e    \\\"n_estimators\\\": 293,\\u003cbr\\u003e    \\\"learning_rate\\\": 0.026366436259721186,\\u003cbr\\u003e    \\\"max_depth\\\": 5,\\u003cbr\\u003e    \\\"min_samples_split\\\": 2,\\u003cbr\\u003e    \\\"min_samples_leaf\\\": 6,\\u003cbr\\u003e    \\\"subsample\\\": 0.8018082079419049,\\u003cbr\\u003e    \\\"max_features\\\": \\\"log2\\\"\\u003cbr\\u003e  }\\u003cbr\\u003e}\",\"{\\u003cbr\\u003e  \\\"number\\\": 92,\\u003cbr\\u003e  \\\"values\\\": [\\u003cbr\\u003e    0.6092879256965944,\\u003cbr\\u003e    0.6252969121140143\\u003cbr\\u003e  ],\\u003cbr\\u003e  \\\"params\\\": {\\u003cbr\\u003e    \\\"n_estimators\\\": 307,\\u003cbr\\u003e    \\\"learning_rate\\\": 0.0769683885604014,\\u003cbr\\u003e    \\\"max_depth\\\": 9,\\u003cbr\\u003e    \\\"min_samples_split\\\": 11,\\u003cbr\\u003e    \\\"min_samples_leaf\\\": 5,\\u003cbr\\u003e    \\\"subsample\\\": 0.5042727456112065,\\u003cbr\\u003e    \\\"max_features\\\": \\\"log2\\\"\\u003cbr\\u003e  }\\u003cbr\\u003e}\",\"{\\u003cbr\\u003e  \\\"number\\\": 93,\\u003cbr\\u003e  \\\"values\\\": [\\u003cbr\\u003e    0.6754221388367729,\\u003cbr\\u003e    0.6918052256532067\\u003cbr\\u003e  ],\\u003cbr\\u003e  \\\"params\\\": {\\u003cbr\\u003e    \\\"n_estimators\\\": 468,\\u003cbr\\u003e    \\\"learning_rate\\\": 0.015269369250017577,\\u003cbr\\u003e    \\\"max_depth\\\": 4,\\u003cbr\\u003e    \\\"min_samples_split\\\": 11,\\u003cbr\\u003e    \\\"min_samples_leaf\\\": 6,\\u003cbr\\u003e    \\\"subsample\\\": 0.6681699695525338,\\u003cbr\\u003e    \\\"max_features\\\": null\\u003cbr\\u003e  }\\u003cbr\\u003e}\",\"{\\u003cbr\\u003e  \\\"number\\\": 94,\\u003cbr\\u003e  \\\"values\\\": [\\u003cbr\\u003e    0.7532163742690059,\\u003cbr\\u003e    0.7494061757719715\\u003cbr\\u003e  ],\\u003cbr\\u003e  \\\"params\\\": {\\u003cbr\\u003e    \\\"n_estimators\\\": 223,\\u003cbr\\u003e    \\\"learning_rate\\\": 0.07608109873276094,\\u003cbr\\u003e    \\\"max_depth\\\": 8,\\u003cbr\\u003e    \\\"min_samples_split\\\": 5,\\u003cbr\\u003e    \\\"min_samples_leaf\\\": 2,\\u003cbr\\u003e    \\\"subsample\\\": 0.5760852962282434,\\u003cbr\\u003e    \\\"max_features\\\": null\\u003cbr\\u003e  }\\u003cbr\\u003e}\",\"{\\u003cbr\\u003e  \\\"number\\\": 95,\\u003cbr\\u003e  \\\"values\\\": [\\u003cbr\\u003e    0.7051206592113007,\\u003cbr\\u003e    0.7024940617577197\\u003cbr\\u003e  ],\\u003cbr\\u003e  \\\"params\\\": {\\u003cbr\\u003e    \\\"n_estimators\\\": 73,\\u003cbr\\u003e    \\\"learning_rate\\\": 0.15676801957097794,\\u003cbr\\u003e    \\\"max_depth\\\": 8,\\u003cbr\\u003e    \\\"min_samples_split\\\": 19,\\u003cbr\\u003e    \\\"min_samples_leaf\\\": 20,\\u003cbr\\u003e    \\\"subsample\\\": 0.6339434604882591,\\u003cbr\\u003e    \\\"max_features\\\": null\\u003cbr\\u003e  }\\u003cbr\\u003e}\",\"{\\u003cbr\\u003e  \\\"number\\\": 96,\\u003cbr\\u003e  \\\"values\\\": [\\u003cbr\\u003e    0.6744615384615384,\\u003cbr\\u003e    0.6858669833729216\\u003cbr\\u003e  ],\\u003cbr\\u003e  \\\"params\\\": {\\u003cbr\\u003e    \\\"n_estimators\\\": 73,\\u003cbr\\u003e    \\\"learning_rate\\\": 0.055961632938145905,\\u003cbr\\u003e    \\\"max_depth\\\": 4,\\u003cbr\\u003e    \\\"min_samples_split\\\": 9,\\u003cbr\\u003e    \\\"min_samples_leaf\\\": 13,\\u003cbr\\u003e    \\\"subsample\\\": 0.6996081930893236,\\u003cbr\\u003e    \\\"max_features\\\": null\\u003cbr\\u003e  }\\u003cbr\\u003e}\",\"{\\u003cbr\\u003e  \\\"number\\\": 97,\\u003cbr\\u003e  \\\"values\\\": [\\u003cbr\\u003e    0.6620370370370371,\\u003cbr\\u003e    0.6532066508313539\\u003cbr\\u003e  ],\\u003cbr\\u003e  \\\"params\\\": {\\u003cbr\\u003e    \\\"n_estimators\\\": 399,\\u003cbr\\u003e    \\\"learning_rate\\\": 0.22114721924487912,\\u003cbr\\u003e    \\\"max_depth\\\": 6,\\u003cbr\\u003e    \\\"min_samples_split\\\": 17,\\u003cbr\\u003e    \\\"min_samples_leaf\\\": 11,\\u003cbr\\u003e    \\\"subsample\\\": 0.5900359978906561,\\u003cbr\\u003e    \\\"max_features\\\": \\\"sqrt\\\"\\u003cbr\\u003e  }\\u003cbr\\u003e}\",\"{\\u003cbr\\u003e  \\\"number\\\": 98,\\u003cbr\\u003e  \\\"values\\\": [\\u003cbr\\u003e    0.6863753213367609,\\u003cbr\\u003e    0.7102137767220903\\u003cbr\\u003e  ],\\u003cbr\\u003e  \\\"params\\\": {\\u003cbr\\u003e    \\\"n_estimators\\\": 73,\\u003cbr\\u003e    \\\"learning_rate\\\": 0.014346433926006298,\\u003cbr\\u003e    \\\"max_depth\\\": 10,\\u003cbr\\u003e    \\\"min_samples_split\\\": 12,\\u003cbr\\u003e    \\\"min_samples_leaf\\\": 8,\\u003cbr\\u003e    \\\"subsample\\\": 0.6339434604882591,\\u003cbr\\u003e    \\\"max_features\\\": null\\u003cbr\\u003e  }\\u003cbr\\u003e}\",\"{\\u003cbr\\u003e  \\\"number\\\": 99,\\u003cbr\\u003e  \\\"values\\\": [\\u003cbr\\u003e    0.6623207301173403,\\u003cbr\\u003e    0.6923990498812351\\u003cbr\\u003e  ],\\u003cbr\\u003e  \\\"params\\\": {\\u003cbr\\u003e    \\\"n_estimators\\\": 102,\\u003cbr\\u003e    \\\"learning_rate\\\": 0.07409457509582347,\\u003cbr\\u003e    \\\"max_depth\\\": 5,\\u003cbr\\u003e    \\\"min_samples_split\\\": 19,\\u003cbr\\u003e    \\\"min_samples_leaf\\\": 4,\\u003cbr\\u003e    \\\"subsample\\\": 0.9789781162676376,\\u003cbr\\u003e    \\\"max_features\\\": null\\u003cbr\\u003e  }\\u003cbr\\u003e}\"],\"x\":[0.6072974644403216,0.5558510638297872,0.4742857142857143,0.4234375,0.6252263126131563,0.4015686274509804,0.7094873305833824,0.6647024160282852,0.5613577023498695,0.5697445972495089,0.7461447212336892,0.5661861074705111,0.47542186353631694,0.5530685920577617,0.3690773067331671,0.5530764029749831,0.7139479905437353,0.7250437828371279,0.6150091519219036,0.7291910902696366,0.7482598607888631,0.6401491609695463,0.7177950868783702,0.6150121065375302,0.7048611111111112,0.5107604017216643,0.5363825363825364,0.594960049170252,0.6415584415584416,0.6996291718170581,0.49199417758369723,0.4095617529880478,0.6887182516243355,0.3669724770642202,0.5642715886618326,0.5589980224126566,0.43309002433090027,0.7051206592113007,0.6896948762233737,0.6588648332358105,0.724198250728863,0.7554252199413489,0.5778364116094987,0.5515846257585975,0.7348837209302326,0.5693811074918567,0.4502698535080956,0.694687682428488,0.6982035928143713,0.5780346820809249,0.6333927510398099,0.5774456521739131,0.6840579710144927,0.6759036144578313,0.6205160478288232,0.435126582278481,0.7302325581395349,0.70260663507109,0.7049576783555018,0.7216138328530259,0.66541588492808,0.45808383233532934,0.5649566955363091,0.7198096371207614,0.7219626168224299,0.6400966183574879,0.5779987569919205,0.6392132759680393,0.6244674376141205,0.6792452830188679,0.7505827505827506,0.7262180974477959,0.7021013597033374,0.7114252061248527,0.6375082836315441,0.7136204889406287,0.6781914893617021,0.5408719346049047,0.6804245283018868,0.5850860420650096,0.5776918117343649,0.7291910902696366,0.7400828892835998,0.546084546084546,0.7163289630512515,0.5446194225721784,0.646441073512252,0.7548273844353423,0.7332549941245593,0.6735086593970494,0.5664429530201343,0.6092879256965944,0.6754221388367729,0.7532163742690059,0.7051206592113007,0.6744615384615384,0.6620370370370371,0.6863753213367609,0.6623207301173403],\"y\":[0.6229216152019003,0.6033254156769596,0.5629453681710214,0.5617577197149644,0.6312351543942993,0.5469121140142518,0.7072446555819477,0.6621140142517815,0.6009501187648456,0.6098574821852731,0.7458432304038005,0.6068883610451307,0.5754156769596199,0.6324228028503563,0.5492874109263658,0.6074821852731591,0.7125890736342043,0.7203087885985748,0.6252969121140143,0.7256532066508313,0.7422802850356295,0.6561757719714965,0.7203087885985748,0.6223277909738717,0.6971496437054632,0.5950118764845606,0.6027315914489311,0.6086698337292161,0.672209026128266,0.7114014251781473,0.5855106888361045,0.5599762470308789,0.6870546318289786,0.5492874109263658,0.6074821852731591,0.6027315914489311,0.584916864608076,0.7024940617577197,0.6799287410926366,0.6538004750593824,0.7191211401425178,0.752375296912114,0.6199524940617577,0.6051068883610451,0.7292161520190024,0.6074821852731591,0.5766033254156769,0.6894299287410927,0.7007125890736342,0.6098574821852731,0.6336104513064132,0.6306413301662708,0.6763657957244655,0.6805225653206651,0.6419239904988123,0.5760095011876485,0.7244655581947743,0.7019002375296912,0.7102137767220903,0.7131828978622328,0.6823040380047506,0.5700712589073634,0.6122327790973872,0.7203087885985748,0.7173396674584323,0.6460807600950119,0.5967933491686461,0.6514251781472684,0.6336104513064132,0.6769596199524941,0.7458432304038005,0.7197149643705463,0.7137767220902613,0.7090261282660333,0.6751781472684085,0.7078384798099763,0.7125890736342043,0.5997624703087886,0.6781472684085511,0.6134204275534442,0.6110451306413301,0.7256532066508313,0.7393111638954869,0.6110451306413301,0.7173396674584323,0.5878859857482185,0.6401425178147269,0.751187648456057,0.7304038004750594,0.6977434679334917,0.6163895486935868,0.6252969121140143,0.6918052256532067,0.7494061757719715,0.7024940617577197,0.6858669833729216,0.6532066508313539,0.7102137767220903,0.6923990498812351],\"type\":\"scatter\"},{\"hovertemplate\":\"%{text}\\u003cextra\\u003eBest Trial\\u003c\\u002fextra\\u003e\",\"marker\":{\"color\":[15],\"colorbar\":{\"title\":{\"text\":\"Best Trial\"},\"x\":1.1,\"xpad\":40},\"colorscale\":[[0.0,\"rgb(255,245,240)\"],[0.125,\"rgb(254,224,210)\"],[0.25,\"rgb(252,187,161)\"],[0.375,\"rgb(252,146,114)\"],[0.5,\"rgb(251,106,74)\"],[0.625,\"rgb(239,59,44)\"],[0.75,\"rgb(203,24,29)\"],[0.875,\"rgb(165,15,21)\"],[1.0,\"rgb(103,0,13)\"]],\"line\":{\"color\":\"Grey\",\"width\":0.5}},\"mode\":\"markers\",\"showlegend\":false,\"text\":[\"{\\u003cbr\\u003e  \\\"number\\\": 15,\\u003cbr\\u003e  \\\"values\\\": [\\u003cbr\\u003e    0.7702152414194299,\\u003cbr\\u003e    0.7654394299287411\\u003cbr\\u003e  ],\\u003cbr\\u003e  \\\"params\\\": {\\u003cbr\\u003e    \\\"n_estimators\\\": 460,\\u003cbr\\u003e    \\\"learning_rate\\\": 0.10270500950873558,\\u003cbr\\u003e    \\\"max_depth\\\": 9,\\u003cbr\\u003e    \\\"min_samples_split\\\": 10,\\u003cbr\\u003e    \\\"min_samples_leaf\\\": 4,\\u003cbr\\u003e    \\\"subsample\\\": 0.9995540338327519,\\u003cbr\\u003e    \\\"max_features\\\": null\\u003cbr\\u003e  }\\u003cbr\\u003e}\"],\"x\":[0.7702152414194299],\"y\":[0.7654394299287411],\"type\":\"scatter\"}],                        {\"title\":{\"text\":\"Pareto-front Plot\"},\"xaxis\":{\"title\":{\"text\":\"Objective 0\"}},\"yaxis\":{\"title\":{\"text\":\"Objective 1\"}},\"template\":{\"data\":{\"histogram2dcontour\":[{\"type\":\"histogram2dcontour\",\"colorbar\":{\"outlinewidth\":0,\"ticks\":\"\"},\"colorscale\":[[0.0,\"#0d0887\"],[0.1111111111111111,\"#46039f\"],[0.2222222222222222,\"#7201a8\"],[0.3333333333333333,\"#9c179e\"],[0.4444444444444444,\"#bd3786\"],[0.5555555555555556,\"#d8576b\"],[0.6666666666666666,\"#ed7953\"],[0.7777777777777778,\"#fb9f3a\"],[0.8888888888888888,\"#fdca26\"],[1.0,\"#f0f921\"]]}],\"choropleth\":[{\"type\":\"choropleth\",\"colorbar\":{\"outlinewidth\":0,\"ticks\":\"\"}}],\"histogram2d\":[{\"type\":\"histogram2d\",\"colorbar\":{\"outlinewidth\":0,\"ticks\":\"\"},\"colorscale\":[[0.0,\"#0d0887\"],[0.1111111111111111,\"#46039f\"],[0.2222222222222222,\"#7201a8\"],[0.3333333333333333,\"#9c179e\"],[0.4444444444444444,\"#bd3786\"],[0.5555555555555556,\"#d8576b\"],[0.6666666666666666,\"#ed7953\"],[0.7777777777777778,\"#fb9f3a\"],[0.8888888888888888,\"#fdca26\"],[1.0,\"#f0f921\"]]}],\"heatmap\":[{\"type\":\"heatmap\",\"colorbar\":{\"outlinewidth\":0,\"ticks\":\"\"},\"colorscale\":[[0.0,\"#0d0887\"],[0.1111111111111111,\"#46039f\"],[0.2222222222222222,\"#7201a8\"],[0.3333333333333333,\"#9c179e\"],[0.4444444444444444,\"#bd3786\"],[0.5555555555555556,\"#d8576b\"],[0.6666666666666666,\"#ed7953\"],[0.7777777777777778,\"#fb9f3a\"],[0.8888888888888888,\"#fdca26\"],[1.0,\"#f0f921\"]]}],\"heatmapgl\":[{\"type\":\"heatmapgl\",\"colorbar\":{\"outlinewidth\":0,\"ticks\":\"\"},\"colorscale\":[[0.0,\"#0d0887\"],[0.1111111111111111,\"#46039f\"],[0.2222222222222222,\"#7201a8\"],[0.3333333333333333,\"#9c179e\"],[0.4444444444444444,\"#bd3786\"],[0.5555555555555556,\"#d8576b\"],[0.6666666666666666,\"#ed7953\"],[0.7777777777777778,\"#fb9f3a\"],[0.8888888888888888,\"#fdca26\"],[1.0,\"#f0f921\"]]}],\"contourcarpet\":[{\"type\":\"contourcarpet\",\"colorbar\":{\"outlinewidth\":0,\"ticks\":\"\"}}],\"contour\":[{\"type\":\"contour\",\"colorbar\":{\"outlinewidth\":0,\"ticks\":\"\"},\"colorscale\":[[0.0,\"#0d0887\"],[0.1111111111111111,\"#46039f\"],[0.2222222222222222,\"#7201a8\"],[0.3333333333333333,\"#9c179e\"],[0.4444444444444444,\"#bd3786\"],[0.5555555555555556,\"#d8576b\"],[0.6666666666666666,\"#ed7953\"],[0.7777777777777778,\"#fb9f3a\"],[0.8888888888888888,\"#fdca26\"],[1.0,\"#f0f921\"]]}],\"surface\":[{\"type\":\"surface\",\"colorbar\":{\"outlinewidth\":0,\"ticks\":\"\"},\"colorscale\":[[0.0,\"#0d0887\"],[0.1111111111111111,\"#46039f\"],[0.2222222222222222,\"#7201a8\"],[0.3333333333333333,\"#9c179e\"],[0.4444444444444444,\"#bd3786\"],[0.5555555555555556,\"#d8576b\"],[0.6666666666666666,\"#ed7953\"],[0.7777777777777778,\"#fb9f3a\"],[0.8888888888888888,\"#fdca26\"],[1.0,\"#f0f921\"]]}],\"mesh3d\":[{\"type\":\"mesh3d\",\"colorbar\":{\"outlinewidth\":0,\"ticks\":\"\"}}],\"scatter\":[{\"fillpattern\":{\"fillmode\":\"overlay\",\"size\":10,\"solidity\":0.2},\"type\":\"scatter\"}],\"parcoords\":[{\"type\":\"parcoords\",\"line\":{\"colorbar\":{\"outlinewidth\":0,\"ticks\":\"\"}}}],\"scatterpolargl\":[{\"type\":\"scatterpolargl\",\"marker\":{\"colorbar\":{\"outlinewidth\":0,\"ticks\":\"\"}}}],\"bar\":[{\"error_x\":{\"color\":\"#2a3f5f\"},\"error_y\":{\"color\":\"#2a3f5f\"},\"marker\":{\"line\":{\"color\":\"#E5ECF6\",\"width\":0.5},\"pattern\":{\"fillmode\":\"overlay\",\"size\":10,\"solidity\":0.2}},\"type\":\"bar\"}],\"scattergeo\":[{\"type\":\"scattergeo\",\"marker\":{\"colorbar\":{\"outlinewidth\":0,\"ticks\":\"\"}}}],\"scatterpolar\":[{\"type\":\"scatterpolar\",\"marker\":{\"colorbar\":{\"outlinewidth\":0,\"ticks\":\"\"}}}],\"histogram\":[{\"marker\":{\"pattern\":{\"fillmode\":\"overlay\",\"size\":10,\"solidity\":0.2}},\"type\":\"histogram\"}],\"scattergl\":[{\"type\":\"scattergl\",\"marker\":{\"colorbar\":{\"outlinewidth\":0,\"ticks\":\"\"}}}],\"scatter3d\":[{\"type\":\"scatter3d\",\"line\":{\"colorbar\":{\"outlinewidth\":0,\"ticks\":\"\"}},\"marker\":{\"colorbar\":{\"outlinewidth\":0,\"ticks\":\"\"}}}],\"scattermapbox\":[{\"type\":\"scattermapbox\",\"marker\":{\"colorbar\":{\"outlinewidth\":0,\"ticks\":\"\"}}}],\"scatterternary\":[{\"type\":\"scatterternary\",\"marker\":{\"colorbar\":{\"outlinewidth\":0,\"ticks\":\"\"}}}],\"scattercarpet\":[{\"type\":\"scattercarpet\",\"marker\":{\"colorbar\":{\"outlinewidth\":0,\"ticks\":\"\"}}}],\"carpet\":[{\"aaxis\":{\"endlinecolor\":\"#2a3f5f\",\"gridcolor\":\"white\",\"linecolor\":\"white\",\"minorgridcolor\":\"white\",\"startlinecolor\":\"#2a3f5f\"},\"baxis\":{\"endlinecolor\":\"#2a3f5f\",\"gridcolor\":\"white\",\"linecolor\":\"white\",\"minorgridcolor\":\"white\",\"startlinecolor\":\"#2a3f5f\"},\"type\":\"carpet\"}],\"table\":[{\"cells\":{\"fill\":{\"color\":\"#EBF0F8\"},\"line\":{\"color\":\"white\"}},\"header\":{\"fill\":{\"color\":\"#C8D4E3\"},\"line\":{\"color\":\"white\"}},\"type\":\"table\"}],\"barpolar\":[{\"marker\":{\"line\":{\"color\":\"#E5ECF6\",\"width\":0.5},\"pattern\":{\"fillmode\":\"overlay\",\"size\":10,\"solidity\":0.2}},\"type\":\"barpolar\"}],\"pie\":[{\"automargin\":true,\"type\":\"pie\"}]},\"layout\":{\"autotypenumbers\":\"strict\",\"colorway\":[\"#636efa\",\"#EF553B\",\"#00cc96\",\"#ab63fa\",\"#FFA15A\",\"#19d3f3\",\"#FF6692\",\"#B6E880\",\"#FF97FF\",\"#FECB52\"],\"font\":{\"color\":\"#2a3f5f\"},\"hovermode\":\"closest\",\"hoverlabel\":{\"align\":\"left\"},\"paper_bgcolor\":\"white\",\"plot_bgcolor\":\"#E5ECF6\",\"polar\":{\"bgcolor\":\"#E5ECF6\",\"angularaxis\":{\"gridcolor\":\"white\",\"linecolor\":\"white\",\"ticks\":\"\"},\"radialaxis\":{\"gridcolor\":\"white\",\"linecolor\":\"white\",\"ticks\":\"\"}},\"ternary\":{\"bgcolor\":\"#E5ECF6\",\"aaxis\":{\"gridcolor\":\"white\",\"linecolor\":\"white\",\"ticks\":\"\"},\"baxis\":{\"gridcolor\":\"white\",\"linecolor\":\"white\",\"ticks\":\"\"},\"caxis\":{\"gridcolor\":\"white\",\"linecolor\":\"white\",\"ticks\":\"\"}},\"coloraxis\":{\"colorbar\":{\"outlinewidth\":0,\"ticks\":\"\"}},\"colorscale\":{\"sequential\":[[0.0,\"#0d0887\"],[0.1111111111111111,\"#46039f\"],[0.2222222222222222,\"#7201a8\"],[0.3333333333333333,\"#9c179e\"],[0.4444444444444444,\"#bd3786\"],[0.5555555555555556,\"#d8576b\"],[0.6666666666666666,\"#ed7953\"],[0.7777777777777778,\"#fb9f3a\"],[0.8888888888888888,\"#fdca26\"],[1.0,\"#f0f921\"]],\"sequentialminus\":[[0.0,\"#0d0887\"],[0.1111111111111111,\"#46039f\"],[0.2222222222222222,\"#7201a8\"],[0.3333333333333333,\"#9c179e\"],[0.4444444444444444,\"#bd3786\"],[0.5555555555555556,\"#d8576b\"],[0.6666666666666666,\"#ed7953\"],[0.7777777777777778,\"#fb9f3a\"],[0.8888888888888888,\"#fdca26\"],[1.0,\"#f0f921\"]],\"diverging\":[[0,\"#8e0152\"],[0.1,\"#c51b7d\"],[0.2,\"#de77ae\"],[0.3,\"#f1b6da\"],[0.4,\"#fde0ef\"],[0.5,\"#f7f7f7\"],[0.6,\"#e6f5d0\"],[0.7,\"#b8e186\"],[0.8,\"#7fbc41\"],[0.9,\"#4d9221\"],[1,\"#276419\"]]},\"xaxis\":{\"gridcolor\":\"white\",\"linecolor\":\"white\",\"ticks\":\"\",\"title\":{\"standoff\":15},\"zerolinecolor\":\"white\",\"automargin\":true,\"zerolinewidth\":2},\"yaxis\":{\"gridcolor\":\"white\",\"linecolor\":\"white\",\"ticks\":\"\",\"title\":{\"standoff\":15},\"zerolinecolor\":\"white\",\"automargin\":true,\"zerolinewidth\":2},\"scene\":{\"xaxis\":{\"backgroundcolor\":\"#E5ECF6\",\"gridcolor\":\"white\",\"linecolor\":\"white\",\"showbackground\":true,\"ticks\":\"\",\"zerolinecolor\":\"white\",\"gridwidth\":2},\"yaxis\":{\"backgroundcolor\":\"#E5ECF6\",\"gridcolor\":\"white\",\"linecolor\":\"white\",\"showbackground\":true,\"ticks\":\"\",\"zerolinecolor\":\"white\",\"gridwidth\":2},\"zaxis\":{\"backgroundcolor\":\"#E5ECF6\",\"gridcolor\":\"white\",\"linecolor\":\"white\",\"showbackground\":true,\"ticks\":\"\",\"zerolinecolor\":\"white\",\"gridwidth\":2}},\"shapedefaults\":{\"line\":{\"color\":\"#2a3f5f\"}},\"annotationdefaults\":{\"arrowcolor\":\"#2a3f5f\",\"arrowhead\":0,\"arrowwidth\":1},\"geo\":{\"bgcolor\":\"white\",\"landcolor\":\"#E5ECF6\",\"subunitcolor\":\"white\",\"showland\":true,\"showlakes\":true,\"lakecolor\":\"white\"},\"title\":{\"x\":0.05},\"mapbox\":{\"style\":\"light\"}}}},                        {\"responsive\": true}                    ).then(function(){\n",
              "                            \n",
              "var gd = document.getElementById('3174c41a-f766-48ef-82aa-302fcd354bb5');\n",
              "var x = new MutationObserver(function (mutations, observer) {{\n",
              "        var display = window.getComputedStyle(gd).display;\n",
              "        if (!display || display === 'none') {{\n",
              "            console.log([gd, 'removed!']);\n",
              "            Plotly.purge(gd);\n",
              "            observer.disconnect();\n",
              "        }}\n",
              "}});\n",
              "\n",
              "// Listen for the removal of the full notebook cells\n",
              "var notebookContainer = gd.closest('#notebook-container');\n",
              "if (notebookContainer) {{\n",
              "    x.observe(notebookContainer, {childList: true});\n",
              "}}\n",
              "\n",
              "// Listen for the clearing of the current output cell\n",
              "var outputEl = gd.closest('.output');\n",
              "if (outputEl) {{\n",
              "    x.observe(outputEl, {childList: true});\n",
              "}}\n",
              "\n",
              "                        })                };                            </script>        </div>\n",
              "</body>\n",
              "</html>"
            ]
          },
          "metadata": {}
        }
      ]
    },
    {
      "cell_type": "markdown",
      "source": [
        "### Correct training with validation dataset"
      ],
      "metadata": {
        "id": "14sWMAt2efB0"
      }
    },
    {
      "cell_type": "code",
      "execution_count": 35,
      "metadata": {
        "id": "xXwzB1hvepx7"
      },
      "outputs": [],
      "source": [
        "X_train, X_test, y_train, y_test = train_test_split(df.drop(columns=['target', 'price_1d', 'doc_embedding']), df['target'], test_size=0.2, random_state=69)\n",
        "X_train_sub, X_val, y_train_sub, y_val = train_test_split(X_train, y_train, test_size=0.2, random_state=69)"
      ]
    },
    {
      "cell_type": "code",
      "execution_count": 36,
      "metadata": {
        "id": "vwiCQTP-epx8"
      },
      "outputs": [],
      "source": [
        "ohe = OneHotEncoder(drop='first', handle_unknown='ignore', sparse_output=False)\n",
        "\n",
        "X_train_encoded = ohe.fit_transform(X_train_sub[['subreddit', 'type', 'ticker']])\n",
        "\n",
        "X_train_encoded = pd.DataFrame(X_train_encoded, columns=ohe.get_feature_names_out(), index=X_train_sub.index)"
      ]
    },
    {
      "cell_type": "code",
      "execution_count": 37,
      "metadata": {
        "colab": {
          "base_uri": "https://localhost:8080/"
        },
        "outputId": "78ea2857-1e3d-449d-b70d-1aa58f8542a1",
        "id": "qcC7HznXepx8"
      },
      "outputs": [
        {
          "output_type": "execute_result",
          "data": {
            "text/plain": [
              "(5385, 649)"
            ]
          },
          "metadata": {},
          "execution_count": 37
        }
      ],
      "source": [
        "X_train_sub = pd.concat([X_train_sub, X_train_encoded], axis=1)\n",
        "X_train_sub.drop(columns=['subreddit', 'type', 'ticker'], inplace=True)\n",
        "X_train_sub.shape"
      ]
    },
    {
      "cell_type": "code",
      "execution_count": 38,
      "metadata": {
        "colab": {
          "base_uri": "https://localhost:8080/"
        },
        "outputId": "4dd173a6-9c7c-4d0e-b321-9c7b0cfd5d24",
        "id": "K-C8UDRoepx8"
      },
      "outputs": [
        {
          "output_type": "stream",
          "name": "stderr",
          "text": [
            "/usr/local/lib/python3.11/dist-packages/sklearn/preprocessing/_encoders.py:246: UserWarning: Found unknown categories in columns [2] during transform. These unknown categories will be encoded as all zeros\n",
            "  warnings.warn(\n"
          ]
        },
        {
          "output_type": "execute_result",
          "data": {
            "text/plain": [
              "(1684, 649)"
            ]
          },
          "metadata": {},
          "execution_count": 38
        }
      ],
      "source": [
        "X_test_encoded = ohe.transform(X_test[['subreddit', 'type', 'ticker']])\n",
        "\n",
        "X_test_encoded = pd.DataFrame(X_test_encoded, columns=ohe.get_feature_names_out(), index=X_test.index)\n",
        "\n",
        "X_test = pd.concat([X_test, X_test_encoded], axis=1)\n",
        "X_test.drop(columns=['subreddit', 'type', 'ticker'], inplace=True)\n",
        "\n",
        "X_test.shape"
      ]
    },
    {
      "cell_type": "code",
      "source": [
        "X_val_encoded = ohe.transform(X_val[['subreddit', 'type', 'ticker']])\n",
        "\n",
        "X_val_encoded = pd.DataFrame(X_val_encoded, columns=ohe.get_feature_names_out(), index=X_val.index)\n",
        "\n",
        "X_val = pd.concat([X_val, X_val_encoded], axis=1)\n",
        "X_val.drop(columns=['subreddit', 'type', 'ticker'], inplace=True)\n",
        "\n",
        "X_val.shape"
      ],
      "metadata": {
        "colab": {
          "base_uri": "https://localhost:8080/"
        },
        "id": "ryfwDiiKgCkh",
        "outputId": "b7bbb522-19d2-43ac-ecfe-54f47d58a5a1"
      },
      "execution_count": 39,
      "outputs": [
        {
          "output_type": "stream",
          "name": "stderr",
          "text": [
            "/usr/local/lib/python3.11/dist-packages/sklearn/preprocessing/_encoders.py:246: UserWarning: Found unknown categories in columns [2] during transform. These unknown categories will be encoded as all zeros\n",
            "  warnings.warn(\n"
          ]
        },
        {
          "output_type": "execute_result",
          "data": {
            "text/plain": [
              "(1347, 649)"
            ]
          },
          "metadata": {},
          "execution_count": 39
        }
      ]
    },
    {
      "cell_type": "code",
      "source": [
        "def objective(trial):\n",
        "    param = {\n",
        "        'n_estimators': trial.suggest_int('n_estimators', 50, 500),\n",
        "        'learning_rate': trial.suggest_float('learning_rate', 0.01, 0.3, log=True),\n",
        "        'max_depth': trial.suggest_int('max_depth', 3, 10),\n",
        "        'min_samples_split': trial.suggest_int('min_samples_split', 2, 20),\n",
        "        'min_samples_leaf': trial.suggest_int('min_samples_leaf', 1, 20),\n",
        "        'subsample': trial.suggest_float('subsample', 0.5, 1.0),\n",
        "        'max_features': trial.suggest_categorical('max_features', ['sqrt', 'log2', None])\n",
        "    }\n",
        "    model = GradientBoostingClassifier(**param, random_state=42)\n",
        "    model.fit(X_train_sub, y_train_sub)\n",
        "    y_pred = model.predict(X_val)\n",
        "    f1 = f1_score(y_val, y_pred)\n",
        "    accuracy = accuracy_score(y_val, y_pred)\n",
        "    return f1, accuracy"
      ],
      "metadata": {
        "id": "8-FdWMLwepx9"
      },
      "execution_count": 40,
      "outputs": []
    },
    {
      "cell_type": "code",
      "source": [
        "study = optuna.create_study(directions=['maximize', 'maximize'])\n",
        "study.optimize(objective, n_jobs=-1, n_trials=100)"
      ],
      "metadata": {
        "colab": {
          "base_uri": "https://localhost:8080/"
        },
        "outputId": "d64cf20f-16e6-4f0f-d820-f905fcdc00aa",
        "id": "HLXAQ-qGepx9"
      },
      "execution_count": 41,
      "outputs": [
        {
          "output_type": "stream",
          "name": "stderr",
          "text": [
            "[I 2025-03-10 00:43:39,528] A new study created in memory with name: no-name-961ab3d0-fe8d-4940-aab0-e7babe51308a\n",
            "[I 2025-03-10 00:44:05,295] Trial 0 finished with values: [0.7017815646785438, 0.7141796585003712] and parameters: {'n_estimators': 254, 'learning_rate': 0.027343108316598128, 'max_depth': 5, 'min_samples_split': 9, 'min_samples_leaf': 5, 'subsample': 0.6126621830891219, 'max_features': None}.\n",
            "[I 2025-03-10 00:44:09,015] Trial 2 finished with values: [0.46096654275092935, 0.5694135115070527] and parameters: {'n_estimators': 359, 'learning_rate': 0.012184280026958002, 'max_depth': 3, 'min_samples_split': 14, 'min_samples_leaf': 19, 'subsample': 0.6081328486777839, 'max_features': 'sqrt'}.\n",
            "[I 2025-03-10 00:44:10,303] Trial 3 finished with values: [0.5097312326227988, 0.607275426874536] and parameters: {'n_estimators': 95, 'learning_rate': 0.016236331381722688, 'max_depth': 10, 'min_samples_split': 9, 'min_samples_leaf': 4, 'subsample': 0.6300400075759317, 'max_features': 'log2'}.\n",
            "[I 2025-03-10 00:44:16,118] Trial 4 finished with values: [0.5253218884120172, 0.5894580549368968] and parameters: {'n_estimators': 298, 'learning_rate': 0.021800500174145636, 'max_depth': 4, 'min_samples_split': 10, 'min_samples_leaf': 16, 'subsample': 0.6717649158644811, 'max_features': 'sqrt'}.\n",
            "[I 2025-03-10 00:44:22,356] Trial 5 finished with values: [0.6463512429831596, 0.6726057906458798] and parameters: {'n_estimators': 306, 'learning_rate': 0.01384868846876955, 'max_depth': 9, 'min_samples_split': 4, 'min_samples_leaf': 1, 'subsample': 0.7042841697612745, 'max_features': 'sqrt'}.\n",
            "[I 2025-03-10 00:44:45,681] Trial 1 finished with values: [0.7161572052401747, 0.7104677060133631] and parameters: {'n_estimators': 485, 'learning_rate': 0.02709626988393065, 'max_depth': 8, 'min_samples_split': 7, 'min_samples_leaf': 20, 'subsample': 0.5797175223029583, 'max_features': None}.\n",
            "[I 2025-03-10 00:44:50,075] Trial 7 finished with values: [0.6311667971808927, 0.6503340757238307] and parameters: {'n_estimators': 396, 'learning_rate': 0.048151650961630675, 'max_depth': 8, 'min_samples_split': 19, 'min_samples_leaf': 13, 'subsample': 0.864175193610357, 'max_features': 'sqrt'}.\n",
            "[I 2025-03-10 00:45:33,235] Trial 8 finished with values: [0.7394957983193278, 0.746844840386043] and parameters: {'n_estimators': 227, 'learning_rate': 0.03902337687590084, 'max_depth': 7, 'min_samples_split': 14, 'min_samples_leaf': 4, 'subsample': 0.914595696741549, 'max_features': None}.\n",
            "[I 2025-03-10 00:45:34,618] Trial 6 finished with values: [0.7120500782472613, 0.726800296956199] and parameters: {'n_estimators': 393, 'learning_rate': 0.017766662864715985, 'max_depth': 6, 'min_samples_split': 10, 'min_samples_leaf': 1, 'subsample': 0.9759067633129019, 'max_features': None}.\n",
            "[I 2025-03-10 00:45:35,072] Trial 10 finished with values: [0.5858585858585859, 0.6043058648849294] and parameters: {'n_estimators': 59, 'learning_rate': 0.16957210363452, 'max_depth': 9, 'min_samples_split': 6, 'min_samples_leaf': 19, 'subsample': 0.6414479813593041, 'max_features': 'sqrt'}.\n",
            "[I 2025-03-10 00:45:35,193] Trial 9 finished with values: [0.5873287671232876, 0.6421677802524127] and parameters: {'n_estimators': 280, 'learning_rate': 0.021995497905871304, 'max_depth': 10, 'min_samples_split': 6, 'min_samples_leaf': 5, 'subsample': 0.8975190076822008, 'max_features': 'log2'}.\n",
            "[I 2025-03-10 00:45:35,477] Trial 12 finished with values: [0.3423618634886241, 0.5493689680772086] and parameters: {'n_estimators': 54, 'learning_rate': 0.026778621812785904, 'max_depth': 6, 'min_samples_split': 15, 'min_samples_leaf': 11, 'subsample': 0.8139254640088253, 'max_features': 'log2'}.\n",
            "[I 2025-03-10 00:45:39,726] Trial 11 finished with values: [0.615505090054816, 0.635486265775798] and parameters: {'n_estimators': 477, 'learning_rate': 0.02351972276456922, 'max_depth': 8, 'min_samples_split': 5, 'min_samples_leaf': 18, 'subsample': 0.8199551491789583, 'max_features': 'sqrt'}.\n",
            "[I 2025-03-10 00:46:02,088] Trial 14 finished with values: [0.7065959059893859, 0.7126948775055679] and parameters: {'n_estimators': 273, 'learning_rate': 0.07303776035733345, 'max_depth': 3, 'min_samples_split': 6, 'min_samples_leaf': 19, 'subsample': 0.9754890234923252, 'max_features': None}.\n",
            "[I 2025-03-10 00:46:17,170] Trial 15 finished with values: [0.6851990984222389, 0.6889383815887157] and parameters: {'n_estimators': 197, 'learning_rate': 0.013376491783861938, 'max_depth': 6, 'min_samples_split': 6, 'min_samples_leaf': 20, 'subsample': 0.5604560621197827, 'max_features': None}.\n",
            "[I 2025-03-10 00:46:18,450] Trial 13 finished with values: [0.7213114754098361, 0.7223459539717891] and parameters: {'n_estimators': 453, 'learning_rate': 0.019127161636592584, 'max_depth': 6, 'min_samples_split': 10, 'min_samples_leaf': 9, 'subsample': 0.6531408482795804, 'max_features': None}.\n",
            "[I 2025-03-10 00:46:18,965] Trial 16 finished with values: [0.5913185913185913, 0.629547141796585] and parameters: {'n_estimators': 341, 'learning_rate': 0.02373756550114763, 'max_depth': 9, 'min_samples_split': 19, 'min_samples_leaf': 4, 'subsample': 0.5382997512733967, 'max_features': 'log2'}.\n",
            "[I 2025-03-10 00:46:19,227] Trial 17 finished with values: [0.3389450056116723, 0.562731997030438] and parameters: {'n_estimators': 155, 'learning_rate': 0.010665774463859952, 'max_depth': 7, 'min_samples_split': 10, 'min_samples_leaf': 13, 'subsample': 0.8876017509346494, 'max_features': 'log2'}.\n",
            "[I 2025-03-10 00:46:21,715] Trial 19 finished with values: [0.5833333333333334, 0.6139569413511508] and parameters: {'n_estimators': 482, 'learning_rate': 0.07092206227896623, 'max_depth': 10, 'min_samples_split': 18, 'min_samples_leaf': 14, 'subsample': 0.5894983333722901, 'max_features': 'log2'}.\n",
            "[I 2025-03-10 00:46:25,760] Trial 18 finished with values: [0.6661608497723824, 0.6733481811432813] and parameters: {'n_estimators': 358, 'learning_rate': 0.0492225449175265, 'max_depth': 10, 'min_samples_split': 13, 'min_samples_leaf': 4, 'subsample': 0.787001634905109, 'max_features': 'sqrt'}.\n",
            "[I 2025-03-10 00:46:26,304] Trial 21 finished with values: [0.566068515497553, 0.6050482553823311] and parameters: {'n_estimators': 144, 'learning_rate': 0.2547727890331909, 'max_depth': 4, 'min_samples_split': 11, 'min_samples_leaf': 12, 'subsample': 0.7246359166398577, 'max_features': 'log2'}.\n",
            "[I 2025-03-10 00:46:26,502] Trial 20 finished with values: [0.6103448275862069, 0.6644394951744618] and parameters: {'n_estimators': 78, 'learning_rate': 0.023353271311918743, 'max_depth': 4, 'min_samples_split': 7, 'min_samples_leaf': 13, 'subsample': 0.5176111960550203, 'max_features': None}.\n",
            "[I 2025-03-10 00:46:27,242] Trial 22 finished with values: [0.4225352112676056, 0.5738678544914625] and parameters: {'n_estimators': 177, 'learning_rate': 0.01383469351333446, 'max_depth': 3, 'min_samples_split': 13, 'min_samples_leaf': 20, 'subsample': 0.7513941936511372, 'max_features': 'sqrt'}.\n",
            "[I 2025-03-10 00:46:28,787] Trial 24 finished with values: [0.46396841066140176, 0.5968819599109132] and parameters: {'n_estimators': 189, 'learning_rate': 0.011448615589117158, 'max_depth': 4, 'min_samples_split': 7, 'min_samples_leaf': 1, 'subsample': 0.9894015789279577, 'max_features': 'sqrt'}.\n",
            "[I 2025-03-10 00:46:29,134] Trial 25 finished with values: [0.4140061791967044, 0.5775798069784707] and parameters: {'n_estimators': 91, 'learning_rate': 0.025903235436386753, 'max_depth': 3, 'min_samples_split': 18, 'min_samples_leaf': 14, 'subsample': 0.8684409790871066, 'max_features': 'log2'}.\n",
            "[I 2025-03-10 00:47:03,832] Trial 23 finished with values: [0.7368421052631579, 0.7364513734224202] and parameters: {'n_estimators': 382, 'learning_rate': 0.10092220781548172, 'max_depth': 8, 'min_samples_split': 16, 'min_samples_leaf': 8, 'subsample': 0.5713144991580843, 'max_features': None}.\n",
            "[I 2025-03-10 00:47:04,864] Trial 27 finished with values: [0.6003210272873194, 0.6302895322939867] and parameters: {'n_estimators': 137, 'learning_rate': 0.1598480799653133, 'max_depth': 7, 'min_samples_split': 7, 'min_samples_leaf': 7, 'subsample': 0.6165054897079649, 'max_features': 'log2'}.\n",
            "[I 2025-03-10 00:47:06,260] Trial 28 finished with values: [0.3599137931034483, 0.5590200445434298] and parameters: {'n_estimators': 189, 'learning_rate': 0.015872902965999237, 'max_depth': 10, 'min_samples_split': 12, 'min_samples_leaf': 16, 'subsample': 0.7890346303285722, 'max_features': 'log2'}.\n",
            "[I 2025-03-10 00:47:06,799] Trial 29 finished with values: [0.35607675906183367, 0.5515961395694136] and parameters: {'n_estimators': 72, 'learning_rate': 0.053207526148747644, 'max_depth': 4, 'min_samples_split': 4, 'min_samples_leaf': 19, 'subsample': 0.6277343106406024, 'max_features': 'log2'}.\n",
            "[I 2025-03-10 00:47:08,335] Trial 30 finished with values: [0.6425406203840472, 0.6406829992576095] and parameters: {'n_estimators': 313, 'learning_rate': 0.14406460034047153, 'max_depth': 3, 'min_samples_split': 8, 'min_samples_leaf': 2, 'subsample': 0.7969186092519629, 'max_features': 'log2'}.\n",
            "[I 2025-03-10 00:47:08,932] Trial 31 finished with values: [0.4162330905306972, 0.5835189309576837] and parameters: {'n_estimators': 119, 'learning_rate': 0.011989599098088211, 'max_depth': 4, 'min_samples_split': 13, 'min_samples_leaf': 2, 'subsample': 0.8626025481735238, 'max_features': 'log2'}.\n",
            "[I 2025-03-10 00:47:11,726] Trial 32 finished with values: [0.649923896499239, 0.6585003711952487] and parameters: {'n_estimators': 384, 'learning_rate': 0.1227583118797686, 'max_depth': 6, 'min_samples_split': 16, 'min_samples_leaf': 14, 'subsample': 0.8175142294818241, 'max_features': 'sqrt'}.\n",
            "[I 2025-03-10 00:47:11,987] Trial 33 finished with values: [0.5074626865671642, 0.5835189309576837] and parameters: {'n_estimators': 51, 'learning_rate': 0.09059419415181545, 'max_depth': 10, 'min_samples_split': 13, 'min_samples_leaf': 7, 'subsample': 0.706366082075961, 'max_features': 'log2'}.\n",
            "[I 2025-03-10 00:47:12,231] Trial 26 finished with values: [0.7346637102734663, 0.7334818114328137] and parameters: {'n_estimators': 242, 'learning_rate': 0.03500988657100064, 'max_depth': 9, 'min_samples_split': 11, 'min_samples_leaf': 20, 'subsample': 0.8720060019594418, 'max_features': None}.\n",
            "[I 2025-03-10 00:47:12,575] Trial 34 finished with values: [0.603047313552526, 0.6325167037861915] and parameters: {'n_estimators': 62, 'learning_rate': 0.06604335653657767, 'max_depth': 9, 'min_samples_split': 6, 'min_samples_leaf': 15, 'subsample': 0.718739148443575, 'max_features': 'sqrt'}.\n",
            "[I 2025-03-10 00:47:12,904] Trial 35 finished with values: [0.5651465798045603, 0.6035634743875279] and parameters: {'n_estimators': 101, 'learning_rate': 0.046467592020298355, 'max_depth': 7, 'min_samples_split': 9, 'min_samples_leaf': 6, 'subsample': 0.8237277263249068, 'max_features': 'log2'}.\n",
            "[I 2025-03-10 00:47:13,585] Trial 36 finished with values: [0.5355648535564853, 0.5879732739420935] and parameters: {'n_estimators': 178, 'learning_rate': 0.046748342975488584, 'max_depth': 7, 'min_samples_split': 7, 'min_samples_leaf': 3, 'subsample': 0.5052277300917829, 'max_features': 'log2'}.\n",
            "[I 2025-03-10 00:47:30,188] Trial 38 finished with values: [0.7237949502677888, 0.7319970304380103] and parameters: {'n_estimators': 289, 'learning_rate': 0.08332402235540196, 'max_depth': 3, 'min_samples_split': 8, 'min_samples_leaf': 5, 'subsample': 0.7218372893273071, 'max_features': None}.\n",
            "[I 2025-03-10 00:47:30,503] Trial 37 finished with values: [0.7535795026375283, 0.7572383073496659] and parameters: {'n_estimators': 101, 'learning_rate': 0.16300758163464646, 'max_depth': 7, 'min_samples_split': 8, 'min_samples_leaf': 9, 'subsample': 0.9970804606000938, 'max_features': None}.\n",
            "[I 2025-03-10 00:47:31,454] Trial 40 finished with values: [0.5229681978798587, 0.5991091314031181] and parameters: {'n_estimators': 142, 'learning_rate': 0.018537957895097573, 'max_depth': 7, 'min_samples_split': 8, 'min_samples_leaf': 12, 'subsample': 0.52919998279737, 'max_features': 'sqrt'}.\n",
            "[I 2025-03-10 00:47:37,304] Trial 39 finished with values: [0.6934749620637329, 0.7000742390497402] and parameters: {'n_estimators': 405, 'learning_rate': 0.1350484350640967, 'max_depth': 10, 'min_samples_split': 7, 'min_samples_leaf': 8, 'subsample': 0.9156483706341461, 'max_features': 'sqrt'}.\n",
            "[I 2025-03-10 00:47:57,166] Trial 42 finished with values: [0.7104874446085672, 0.7089829250185598] and parameters: {'n_estimators': 241, 'learning_rate': 0.02278740238320979, 'max_depth': 6, 'min_samples_split': 5, 'min_samples_leaf': 20, 'subsample': 0.6244014152994837, 'max_features': None}.\n",
            "[I 2025-03-10 00:47:57,988] Trial 41 finished with values: [0.7433234421364985, 0.7431328878990349] and parameters: {'n_estimators': 199, 'learning_rate': 0.23941464891717448, 'max_depth': 9, 'min_samples_split': 3, 'min_samples_leaf': 8, 'subsample': 0.6616773557981922, 'max_features': None}.\n",
            "[I 2025-03-10 00:47:58,158] Trial 43 finished with values: [0.5680272108843537, 0.6228656273199703] and parameters: {'n_estimators': 271, 'learning_rate': 0.07287927096396538, 'max_depth': 3, 'min_samples_split': 9, 'min_samples_leaf': 11, 'subsample': 0.6177291972140806, 'max_features': 'log2'}.\n",
            "[I 2025-03-10 00:47:58,978] Trial 45 finished with values: [0.5928853754940712, 0.6176688938381588] and parameters: {'n_estimators': 171, 'learning_rate': 0.2219857841001599, 'max_depth': 7, 'min_samples_split': 14, 'min_samples_leaf': 12, 'subsample': 0.7034300648264564, 'max_features': 'log2'}.\n",
            "[I 2025-03-10 00:47:59,498] Trial 44 finished with values: [0.5518987341772152, 0.6057906458797327] and parameters: {'n_estimators': 370, 'learning_rate': 0.05744911032734157, 'max_depth': 5, 'min_samples_split': 15, 'min_samples_leaf': 17, 'subsample': 0.8886527894040532, 'max_features': 'log2'}.\n",
            "[I 2025-03-10 00:48:36,886] Trial 46 finished with values: [0.7389380530973452, 0.7371937639198218] and parameters: {'n_estimators': 397, 'learning_rate': 0.19489073815779634, 'max_depth': 5, 'min_samples_split': 18, 'min_samples_leaf': 16, 'subsample': 0.60178826132769, 'max_features': None}.\n",
            "[I 2025-03-10 00:48:40,123] Trial 48 finished with values: [0.6310904872389791, 0.6458797327394209] and parameters: {'n_estimators': 450, 'learning_rate': 0.05124431179395546, 'max_depth': 6, 'min_samples_split': 14, 'min_samples_leaf': 13, 'subsample': 0.7654082369959954, 'max_features': 'sqrt'}.\n",
            "[I 2025-03-10 00:48:40,989] Trial 49 finished with values: [0.5027422303473492, 0.5961395694135115] and parameters: {'n_estimators': 161, 'learning_rate': 0.01859765836082282, 'max_depth': 10, 'min_samples_split': 7, 'min_samples_leaf': 16, 'subsample': 0.5236201431018241, 'max_features': 'sqrt'}.\n",
            "[I 2025-03-10 00:49:08,021] Trial 47 finished with values: [0.7520849128127369, 0.7572383073496659] and parameters: {'n_estimators': 442, 'learning_rate': 0.06479765152069968, 'max_depth': 5, 'min_samples_split': 18, 'min_samples_leaf': 2, 'subsample': 0.994211797092601, 'max_features': None}.\n",
            "[I 2025-03-10 00:49:08,878] Trial 51 finished with values: [0.4659498207885305, 0.5575352635486266] and parameters: {'n_estimators': 264, 'learning_rate': 0.05744911032734157, 'max_depth': 3, 'min_samples_split': 8, 'min_samples_leaf': 17, 'subsample': 0.7969186092519629, 'max_features': 'log2'}.\n",
            "[I 2025-03-10 00:49:12,109] Trial 52 finished with values: [0.6687069625095639, 0.6785449146250928] and parameters: {'n_estimators': 189, 'learning_rate': 0.07303776035733345, 'max_depth': 10, 'min_samples_split': 7, 'min_samples_leaf': 1, 'subsample': 0.9754890234923252, 'max_features': 'sqrt'}.\n",
            "[I 2025-03-10 00:49:22,994] Trial 53 finished with values: [0.7018927444794952, 0.7193763919821826] and parameters: {'n_estimators': 91, 'learning_rate': 0.06479765152069968, 'max_depth': 5, 'min_samples_split': 18, 'min_samples_leaf': 14, 'subsample': 0.8684409790871066, 'max_features': None}.\n",
            "[I 2025-03-10 00:49:25,333] Trial 54 finished with values: [0.6274821286735505, 0.651818856718634] and parameters: {'n_estimators': 450, 'learning_rate': 0.02373756550114763, 'max_depth': 9, 'min_samples_split': 17, 'min_samples_leaf': 4, 'subsample': 0.6173212203129472, 'max_features': 'log2'}.\n",
            "[I 2025-03-10 00:49:31,352] Trial 55 finished with values: [0.6612305411415864, 0.6607275426874536] and parameters: {'n_estimators': 358, 'learning_rate': 0.04127658065548329, 'max_depth': 9, 'min_samples_split': 13, 'min_samples_leaf': 4, 'subsample': 0.9365050351420576, 'max_features': 'sqrt'}.\n",
            "[I 2025-03-10 00:49:41,680] Trial 50 finished with values: [0.7366037735849057, 0.74090571640683] and parameters: {'n_estimators': 349, 'learning_rate': 0.03427691715834588, 'max_depth': 7, 'min_samples_split': 12, 'min_samples_leaf': 17, 'subsample': 0.9864576908593272, 'max_features': None}.\n",
            "[I 2025-03-10 00:49:45,137] Trial 57 finished with values: [0.5377107364685004, 0.6132145508537491] and parameters: {'n_estimators': 442, 'learning_rate': 0.01384868846876955, 'max_depth': 3, 'min_samples_split': 18, 'min_samples_leaf': 2, 'subsample': 0.7042841697612745, 'max_features': 'sqrt'}.\n",
            "[I 2025-03-10 00:49:48,352] Trial 56 finished with values: [0.7501898253606681, 0.7557535263548627] and parameters: {'n_estimators': 101, 'learning_rate': 0.16300758163464646, 'max_depth': 7, 'min_samples_split': 8, 'min_samples_leaf': 4, 'subsample': 0.914595696741549, 'max_features': None}.\n",
            "[I 2025-03-10 00:49:54,119] Trial 59 finished with values: [0.7180650037792895, 0.7230883444691908] and parameters: {'n_estimators': 78, 'learning_rate': 0.1227583118797686, 'max_depth': 4, 'min_samples_split': 16, 'min_samples_leaf': 13, 'subsample': 0.8175142294818241, 'max_features': None}.\n",
            "[I 2025-03-10 00:50:04,760] Trial 58 finished with values: [0.7314884068810771, 0.7334818114328137] and parameters: {'n_estimators': 254, 'learning_rate': 0.08332402235540196, 'max_depth': 5, 'min_samples_split': 8, 'min_samples_leaf': 5, 'subsample': 0.6126621830891219, 'max_features': None}.\n",
            "[I 2025-03-10 00:51:05,780] Trial 61 finished with values: [0.7301349325337332, 0.732739420935412] and parameters: {'n_estimators': 346, 'learning_rate': 0.03427691715834588, 'max_depth': 7, 'min_samples_split': 12, 'min_samples_leaf': 17, 'subsample': 0.9970804606000938, 'max_features': None}.\n",
            "[I 2025-03-10 00:51:05,891] Trial 60 finished with values: [0.7300380228136882, 0.7364513734224202] and parameters: {'n_estimators': 453, 'learning_rate': 0.017766662864715985, 'max_depth': 6, 'min_samples_split': 10, 'min_samples_leaf': 9, 'subsample': 0.9982192745408487, 'max_features': None}.\n",
            "[I 2025-03-10 00:51:08,239] Trial 63 finished with values: [0.5990415335463258, 0.6273199703043801] and parameters: {'n_estimators': 359, 'learning_rate': 0.02278740238320979, 'max_depth': 8, 'min_samples_split': 14, 'min_samples_leaf': 13, 'subsample': 0.6081328486777839, 'max_features': 'sqrt'}.\n",
            "[I 2025-03-10 00:51:14,024] Trial 62 finished with values: [0.583732057416268, 0.6770601336302895] and parameters: {'n_estimators': 50, 'learning_rate': 0.017766662864715985, 'max_depth': 6, 'min_samples_split': 3, 'min_samples_leaf': 8, 'subsample': 0.9759067633129019, 'max_features': None}.\n",
            "[I 2025-03-10 00:52:01,236] Trial 64 finished with values: [0.750375939849624, 0.7535263548626577] and parameters: {'n_estimators': 485, 'learning_rate': 0.02709626988393065, 'max_depth': 8, 'min_samples_split': 2, 'min_samples_leaf': 4, 'subsample': 0.5797175223029583, 'max_features': None}.\n",
            "[I 2025-03-10 00:52:08,961] Trial 65 finished with values: [0.7537537537537538, 0.7564959168522642] and parameters: {'n_estimators': 416, 'learning_rate': 0.021264482663396728, 'max_depth': 9, 'min_samples_split': 6, 'min_samples_leaf': 5, 'subsample': 0.6531408482795804, 'max_features': None}.\n",
            "[I 2025-03-10 00:52:18,009] Trial 66 finished with values: [0.7147335423197492, 0.7297698589458055] and parameters: {'n_estimators': 85, 'learning_rate': 0.027343108316598128, 'max_depth': 8, 'min_samples_split': 18, 'min_samples_leaf': 1, 'subsample': 0.994211797092601, 'max_features': None}.\n",
            "[I 2025-03-10 00:52:18,842] Trial 68 finished with values: [0.6309341500765697, 0.6421677802524127] and parameters: {'n_estimators': 199, 'learning_rate': 0.23372769769417043, 'max_depth': 9, 'min_samples_split': 3, 'min_samples_leaf': 8, 'subsample': 0.6616773557981922, 'max_features': 'log2'}.\n",
            "[I 2025-03-10 00:52:25,674] Trial 67 finished with values: [0.5799812909260992, 0.6666666666666666] and parameters: {'n_estimators': 197, 'learning_rate': 0.013376491783861938, 'max_depth': 3, 'min_samples_split': 9, 'min_samples_leaf': 1, 'subsample': 0.9754890234923252, 'max_features': None}.\n",
            "[I 2025-03-10 00:52:27,099] Trial 70 finished with values: [0.4635514018691589, 0.5738678544914625] and parameters: {'n_estimators': 349, 'learning_rate': 0.019127161636592584, 'max_depth': 6, 'min_samples_split': 12, 'min_samples_leaf': 17, 'subsample': 0.6531408482795804, 'max_features': 'log2'}.\n",
            "[I 2025-03-10 00:52:43,754] Trial 69 finished with values: [0.6948738812042311, 0.7216035634743875] and parameters: {'n_estimators': 172, 'learning_rate': 0.019127161636592584, 'max_depth': 6, 'min_samples_split': 10, 'min_samples_leaf': 9, 'subsample': 0.914595696741549, 'max_features': None}.\n",
            "[I 2025-03-10 00:52:44,317] Trial 72 finished with values: [0.5285338015803336, 0.6013363028953229] and parameters: {'n_estimators': 59, 'learning_rate': 0.048151650961630675, 'max_depth': 9, 'min_samples_split': 6, 'min_samples_leaf': 13, 'subsample': 0.864175193610357, 'max_features': 'sqrt'}.\n",
            "[I 2025-03-10 00:52:46,174] Trial 73 finished with values: [0.6413632842757552, 0.6562731997030438] and parameters: {'n_estimators': 273, 'learning_rate': 0.036039431295251854, 'max_depth': 9, 'min_samples_split': 6, 'min_samples_leaf': 4, 'subsample': 0.845195558474996, 'max_features': 'log2'}.\n",
            "[I 2025-03-10 00:52:49,387] Trial 74 finished with values: [0.6550680786686838, 0.6614699331848553] and parameters: {'n_estimators': 405, 'learning_rate': 0.1350484350640967, 'max_depth': 7, 'min_samples_split': 3, 'min_samples_leaf': 8, 'subsample': 0.6255459894121357, 'max_features': 'sqrt'}.\n",
            "[I 2025-03-10 00:52:52,733] Trial 71 finished with values: [0.6951702296120348, 0.7141796585003712] and parameters: {'n_estimators': 393, 'learning_rate': 0.017766662864715985, 'max_depth': 4, 'min_samples_split': 10, 'min_samples_leaf': 1, 'subsample': 0.6531408482795804, 'max_features': None}.\n",
            "[I 2025-03-10 00:53:17,914] Trial 75 finished with values: [0.7389380530973452, 0.7371937639198218] and parameters: {'n_estimators': 397, 'learning_rate': 0.19489073815779634, 'max_depth': 5, 'min_samples_split': 16, 'min_samples_leaf': 16, 'subsample': 0.60178826132769, 'max_features': None}.\n",
            "[I 2025-03-10 00:53:35,214] Trial 76 finished with values: [0.7223065250379362, 0.7282850779510023] and parameters: {'n_estimators': 453, 'learning_rate': 0.016236331381722688, 'max_depth': 6, 'min_samples_split': 10, 'min_samples_leaf': 4, 'subsample': 0.6531408482795804, 'max_features': None}.\n",
            "[I 2025-03-10 00:53:46,857] Trial 77 finished with values: [0.7319970304380103, 0.7319970304380103] and parameters: {'n_estimators': 397, 'learning_rate': 0.16300758163464646, 'max_depth': 5, 'min_samples_split': 18, 'min_samples_leaf': 16, 'subsample': 0.60178826132769, 'max_features': None}.\n",
            "[I 2025-03-10 00:53:46,921] Trial 78 finished with values: [0.7268588770864947, 0.732739420935412] and parameters: {'n_estimators': 101, 'learning_rate': 0.08332402235540196, 'max_depth': 7, 'min_samples_split': 8, 'min_samples_leaf': 9, 'subsample': 0.7218372893273071, 'max_features': None}.\n",
            "[I 2025-03-10 00:53:59,139] Trial 79 finished with values: [0.7146067415730337, 0.7171492204899778] and parameters: {'n_estimators': 101, 'learning_rate': 0.19489073815779634, 'max_depth': 6, 'min_samples_split': 18, 'min_samples_leaf': 16, 'subsample': 0.802982676852547, 'max_features': None}.\n",
            "[I 2025-03-10 00:53:59,652] Trial 81 finished with values: [0.35076252723311546, 0.5575352635486266] and parameters: {'n_estimators': 142, 'learning_rate': 0.018537957895097573, 'max_depth': 9, 'min_samples_split': 8, 'min_samples_leaf': 12, 'subsample': 0.52919998279737, 'max_features': 'log2'}.\n",
            "[I 2025-03-10 00:54:38,353] Trial 80 finished with values: [0.7488789237668162, 0.7505567928730512] and parameters: {'n_estimators': 254, 'learning_rate': 0.09636812223548165, 'max_depth': 9, 'min_samples_split': 11, 'min_samples_leaf': 13, 'subsample': 0.9237201235908059, 'max_features': None}.\n",
            "[I 2025-03-10 00:54:39,581] Trial 83 finished with values: [0.5839188134270101, 0.6043058648849294] and parameters: {'n_estimators': 273, 'learning_rate': 0.07303776035733345, 'max_depth': 3, 'min_samples_split': 6, 'min_samples_leaf': 19, 'subsample': 0.6081328486777839, 'max_features': 'sqrt'}.\n",
            "[I 2025-03-10 00:54:50,429] Trial 84 finished with values: [0.7102661596958175, 0.7171492204899778] and parameters: {'n_estimators': 139, 'learning_rate': 0.06479765152069968, 'max_depth': 5, 'min_samples_split': 12, 'min_samples_leaf': 2, 'subsample': 0.6059264052836109, 'max_features': None}.\n",
            "[I 2025-03-10 00:54:53,600] Trial 85 finished with values: [0.6095392077607114, 0.6414253897550112] and parameters: {'n_estimators': 313, 'learning_rate': 0.02278740238320979, 'max_depth': 6, 'min_samples_split': 11, 'min_samples_leaf': 2, 'subsample': 0.7969186092519629, 'max_features': 'sqrt'}.\n",
            "[I 2025-03-10 00:54:55,364] Trial 86 finished with values: [0.6, 0.6495916852264291] and parameters: {'n_estimators': 393, 'learning_rate': 0.017766662864715985, 'max_depth': 10, 'min_samples_split': 9, 'min_samples_leaf': 7, 'subsample': 0.706366082075961, 'max_features': 'log2'}.\n",
            "[I 2025-03-10 00:54:56,733] Trial 87 finished with values: [0.622848200312989, 0.6421677802524127] and parameters: {'n_estimators': 382, 'learning_rate': 0.22520968502851246, 'max_depth': 8, 'min_samples_split': 7, 'min_samples_leaf': 8, 'subsample': 0.5052277300917829, 'max_features': 'log2'}.\n",
            "[I 2025-03-10 00:54:57,275] Trial 82 finished with values: [0.7552552552552553, 0.7579806978470676] and parameters: {'n_estimators': 313, 'learning_rate': 0.16300758163464646, 'max_depth': 10, 'min_samples_split': 8, 'min_samples_leaf': 6, 'subsample': 0.7969186092519629, 'max_features': None}.\n",
            "[I 2025-03-10 00:54:57,585] Trial 88 finished with values: [0.6334355828220859, 0.6451373422420194] and parameters: {'n_estimators': 159, 'learning_rate': 0.2547727890331909, 'max_depth': 5, 'min_samples_split': 11, 'min_samples_leaf': 2, 'subsample': 0.5309546137306116, 'max_features': 'log2'}.\n",
            "[I 2025-03-10 00:54:59,722] Trial 90 finished with values: [0.6081871345029239, 0.651818856718634] and parameters: {'n_estimators': 156, 'learning_rate': 0.01383469351333446, 'max_depth': 10, 'min_samples_split': 13, 'min_samples_leaf': 5, 'subsample': 0.7513941936511372, 'max_features': 'sqrt'}.\n",
            "[I 2025-03-10 00:55:01,155] Trial 91 finished with values: [0.6029992107340174, 0.6265775798069785] and parameters: {'n_estimators': 313, 'learning_rate': 0.07303776035733345, 'max_depth': 3, 'min_samples_split': 8, 'min_samples_leaf': 2, 'subsample': 0.7969186092519629, 'max_features': 'log2'}.\n",
            "[I 2025-03-10 00:55:02,094] Trial 92 finished with values: [0.34075723830734966, 0.5605048255382331] and parameters: {'n_estimators': 144, 'learning_rate': 0.014161998291777804, 'max_depth': 4, 'min_samples_split': 11, 'min_samples_leaf': 12, 'subsample': 0.7246359166398577, 'max_features': 'log2'}.\n",
            "[I 2025-03-10 00:55:05,775] Trial 93 finished with values: [0.6594427244582043, 0.6733481811432813] and parameters: {'n_estimators': 242, 'learning_rate': 0.03500988657100064, 'max_depth': 9, 'min_samples_split': 4, 'min_samples_leaf': 2, 'subsample': 0.8720060019594418, 'max_features': 'log2'}.\n",
            "[I 2025-03-10 00:55:41,697] Trial 94 finished with values: [0.707787201233616, 0.718634001484781] and parameters: {'n_estimators': 442, 'learning_rate': 0.06479765152069968, 'max_depth': 3, 'min_samples_split': 18, 'min_samples_leaf': 2, 'subsample': 0.994211797092601, 'max_features': None}.\n",
            "[I 2025-03-10 00:55:44,434] Trial 95 finished with values: [0.6113744075829384, 0.6347438752783965] and parameters: {'n_estimators': 396, 'learning_rate': 0.048151650961630675, 'max_depth': 4, 'min_samples_split': 19, 'min_samples_leaf': 13, 'subsample': 0.864175193610357, 'max_features': 'sqrt'}.\n",
            "[I 2025-03-10 00:55:57,436] Trial 89 finished with values: [0.7391304347826086, 0.7416481069042317] and parameters: {'n_estimators': 349, 'learning_rate': 0.08332402235540196, 'max_depth': 7, 'min_samples_split': 10, 'min_samples_leaf': 17, 'subsample': 0.9864576908593272, 'max_features': None}.\n",
            "[I 2025-03-10 00:56:05,364] Trial 96 finished with values: [0.7194670614359734, 0.718634001484781] and parameters: {'n_estimators': 280, 'learning_rate': 0.19489073815779634, 'max_depth': 5, 'min_samples_split': 18, 'min_samples_leaf': 16, 'subsample': 0.60178826132769, 'max_features': None}.\n",
            "[I 2025-03-10 00:56:22,332] Trial 98 finished with values: [0.7198817442719881, 0.718634001484781] and parameters: {'n_estimators': 199, 'learning_rate': 0.02278740238320979, 'max_depth': 6, 'min_samples_split': 3, 'min_samples_leaf': 20, 'subsample': 0.6244014152994837, 'max_features': None}.\n",
            "[I 2025-03-10 00:56:25,564] Trial 99 finished with values: [0.6676691729323309, 0.6718634001484781] and parameters: {'n_estimators': 396, 'learning_rate': 0.2242646847110742, 'max_depth': 8, 'min_samples_split': 16, 'min_samples_leaf': 13, 'subsample': 0.7708598576442709, 'max_features': 'sqrt'}.\n",
            "[I 2025-03-10 00:56:27,178] Trial 97 finished with values: [0.7274074074074074, 0.726800296956199] and parameters: {'n_estimators': 241, 'learning_rate': 0.03500988657100064, 'max_depth': 6, 'min_samples_split': 11, 'min_samples_leaf': 20, 'subsample': 0.8720060019594418, 'max_features': None}.\n"
          ]
        }
      ]
    },
    {
      "cell_type": "code",
      "source": [
        "pareto_front_trials = study.best_trials\n",
        "\n",
        "for trial in pareto_front_trials:\n",
        "    print(f\"Trial number: {trial.number}\")\n",
        "    print(f\"Parameters: {trial.params}\")\n",
        "    print(f\"Objective values: {trial.values}\")\n",
        "    print(\"\\n\")"
      ],
      "metadata": {
        "colab": {
          "base_uri": "https://localhost:8080/"
        },
        "id": "Tm90caLWjmTb",
        "outputId": "0a6a8472-bea2-4948-a0c9-44c5f5941a78"
      },
      "execution_count": 44,
      "outputs": [
        {
          "output_type": "stream",
          "name": "stdout",
          "text": [
            "Trial number: 82\n",
            "Parameters: {'n_estimators': 313, 'learning_rate': 0.16300758163464646, 'max_depth': 10, 'min_samples_split': 8, 'min_samples_leaf': 6, 'subsample': 0.7969186092519629, 'max_features': None}\n",
            "Objective values: [0.7552552552552553, 0.7579806978470676]\n",
            "\n",
            "\n"
          ]
        }
      ]
    },
    {
      "cell_type": "code",
      "source": [
        "X_final_train = pd.concat([X_train_sub, X_val], axis=0).reset_index(drop=True)\n",
        "y_final_train = pd.concat([y_train_sub, y_val], axis=0).reset_index(drop=True)"
      ],
      "metadata": {
        "id": "1kmzbbjkkXTW"
      },
      "execution_count": 46,
      "outputs": []
    },
    {
      "cell_type": "code",
      "source": [
        "# Parameters: {'n_estimators': 313, 'learning_rate': 0.16300758163464646, 'max_depth': 10, 'min_samples_split': 8, 'min_samples_leaf': 6, 'subsample': 0.7969186092519629, 'max_features': None}\n",
        "\n",
        "best_gbc = GradientBoostingClassifier(**best_parameters)\n",
        "best_gbc.fit(X_final_train, y_final_train)\n",
        "\n",
        "pred_train = best_gbc.predict(X_final_train)\n",
        "pred_test = best_gbc.predict(X_test)\n",
        "\n",
        "classification_metrics(y_train, pred_train, y_test, pred_test)"
      ],
      "metadata": {
        "colab": {
          "base_uri": "https://localhost:8080/"
        },
        "id": "Rs6JWNw6ghPA",
        "outputId": "60c21d25-2556-4d7b-ada3-0b3fd2cec43b"
      },
      "execution_count": 47,
      "outputs": [
        {
          "output_type": "stream",
          "name": "stdout",
          "text": [
            "Accuracy_train: 0.5043077837195484\n",
            "Precision_train: 0.496690734055355\n",
            "Recall_train: 0.4980392156862745\n",
            "F1_train: 0.49736406085253804\n",
            "----------------------\n",
            "Accuracy_test: 0.7743467933491687\n",
            "Precision_test: 0.7761020881670534\n",
            "Recall_test: 0.7815420560747663\n",
            "F1_test: 0.7788125727590222\n"
          ]
        }
      ]
    },
    {
      "cell_type": "markdown",
      "source": [
        "## Experiment 4: CatBoost, OHE tickers, drop embeddings"
      ],
      "metadata": {
        "id": "Ca3k8_wS9HYN"
      }
    },
    {
      "cell_type": "code",
      "source": [
        "def objective(trial):\n",
        "    param = {\n",
        "        'iterations': trial.suggest_int('iterations', 100, 1000),\n",
        "        'learning_rate': trial.suggest_float('learning_rate', 0.01, 0.3),\n",
        "        'depth': trial.suggest_int('depth', 4, 10),\n",
        "        'l2_leaf_reg': trial.suggest_float('l2_leaf_reg', 1e-5, 10),\n",
        "        'bagging_temperature': trial.suggest_float('bagging_temperature', 0, 1),\n",
        "        'random_strength': trial.suggest_float('random_strength', 1, 20),\n",
        "        'border_count': trial.suggest_int('border_count', 32, 512),\n",
        "        'grow_policy': trial.suggest_categorical('grow_policy', ['SymmetricTree', 'Depthwise', 'Lossguide']),\n",
        "    }\n",
        "\n",
        "    model = CatBoostClassifier(**param, verbose=0)\n",
        "    model.fit(X_train, y_train)\n",
        "    y_pred = model.predict(X_test)\n",
        "    f1 = f1_score(y_test, y_pred)\n",
        "    accuracy = accuracy_score(y_test, y_pred)\n",
        "    return f1, accuracy"
      ],
      "metadata": {
        "id": "5iSIwjAA9D4b"
      },
      "execution_count": null,
      "outputs": []
    },
    {
      "cell_type": "code",
      "source": [
        "study_cb = optuna.create_study(directions=['maximize', 'maximize'])\n",
        "study_cb.optimize(objective, n_jobs=-1, n_trials=200)"
      ],
      "metadata": {
        "colab": {
          "base_uri": "https://localhost:8080/"
        },
        "id": "vvcNKIKI9ddM",
        "outputId": "b55d354e-a904-4754-e0ea-5c93419f72aa"
      },
      "execution_count": null,
      "outputs": [
        {
          "output_type": "stream",
          "name": "stderr",
          "text": [
            "[I 2025-03-08 00:50:26,850] A new study created in memory with name: no-name-4bd100e9-c8fd-4fcb-8d46-b921da7f63b9\n",
            "[I 2025-03-08 00:50:32,320] Trial 0 finished with values: [0.6744457409568262, 0.668646080760095] and parameters: {'iterations': 218, 'learning_rate': 0.1613302256114671, 'depth': 7, 'l2_leaf_reg': 3.615931017046997, 'bagging_temperature': 0.6331055810567243, 'random_strength': 9.97764729483685, 'border_count': 152, 'grow_policy': 'SymmetricTree'}.\n",
            "[I 2025-03-08 00:50:41,782] Trial 1 finished with values: [0.71900826446281, 0.7173396674584323] and parameters: {'iterations': 949, 'learning_rate': 0.0553260158948535, 'depth': 4, 'l2_leaf_reg': 2.9465844670829417, 'bagging_temperature': 0.23855359034954815, 'random_strength': 13.992265374617684, 'border_count': 328, 'grow_policy': 'Depthwise'}.\n",
            "[I 2025-03-08 00:50:54,368] Trial 2 finished with values: [0.6890243902439024, 0.6971496437054632] and parameters: {'iterations': 682, 'learning_rate': 0.02628589037723658, 'depth': 5, 'l2_leaf_reg': 3.366013725091381, 'bagging_temperature': 0.6095678158105144, 'random_strength': 11.73208364266712, 'border_count': 453, 'grow_policy': 'Lossguide'}.\n",
            "[I 2025-03-08 00:50:59,880] Trial 4 finished with values: [0.6860803727431567, 0.6799287410926366] and parameters: {'iterations': 517, 'learning_rate': 0.22181117973329353, 'depth': 4, 'l2_leaf_reg': 9.365039757911687, 'bagging_temperature': 0.9543620436364718, 'random_strength': 9.976494812006107, 'border_count': 183, 'grow_policy': 'SymmetricTree'}.\n",
            "[I 2025-03-08 00:51:29,601] Trial 5 finished with values: [0.6810495626822157, 0.6751781472684085] and parameters: {'iterations': 662, 'learning_rate': 0.17769298271710343, 'depth': 9, 'l2_leaf_reg': 9.093836259815719, 'bagging_temperature': 0.9816901850663212, 'random_strength': 19.02362768785546, 'border_count': 126, 'grow_policy': 'Depthwise'}.\n",
            "[I 2025-03-08 00:51:41,215] Trial 6 finished with values: [0.5594405594405595, 0.588479809976247] and parameters: {'iterations': 176, 'learning_rate': 0.06176142608013758, 'depth': 7, 'l2_leaf_reg': 5.884158467517625, 'bagging_temperature': 0.20369759920966668, 'random_strength': 18.180884049955463, 'border_count': 473, 'grow_policy': 'Depthwise'}.\n",
            "[I 2025-03-08 00:51:51,085] Trial 3 finished with values: [0.6858823529411765, 0.6828978622327792] and parameters: {'iterations': 944, 'learning_rate': 0.047727422266050486, 'depth': 10, 'l2_leaf_reg': 0.009827905134471978, 'bagging_temperature': 0.7186496729075248, 'random_strength': 7.42160842647546, 'border_count': 175, 'grow_policy': 'SymmetricTree'}.\n",
            "[I 2025-03-08 00:51:56,175] Trial 8 finished with values: [0.6827794561933535, 0.6882422802850356] and parameters: {'iterations': 130, 'learning_rate': 0.19433038987845538, 'depth': 6, 'l2_leaf_reg': 0.45625056560861416, 'bagging_temperature': 0.9699042330215666, 'random_strength': 13.24355055872785, 'border_count': 131, 'grow_policy': 'Depthwise'}.\n",
            "[I 2025-03-08 00:52:22,412] Trial 7 finished with values: [0.7080890973036342, 0.7042755344418052] and parameters: {'iterations': 772, 'learning_rate': 0.10192061363117765, 'depth': 9, 'l2_leaf_reg': 6.245198525441464, 'bagging_temperature': 0.7713260028179759, 'random_strength': 19.971873443462087, 'border_count': 215, 'grow_policy': 'SymmetricTree'}.\n",
            "[I 2025-03-08 00:52:40,594] Trial 9 finished with values: [0.7299355594610427, 0.7262470308788599] and parameters: {'iterations': 890, 'learning_rate': 0.1273944423789708, 'depth': 8, 'l2_leaf_reg': 9.324447305512294, 'bagging_temperature': 0.5896364511224796, 'random_strength': 4.379465651420864, 'border_count': 288, 'grow_policy': 'Lossguide'}.\n",
            "[I 2025-03-08 00:52:52,108] Trial 10 finished with values: [0.7329842931937173, 0.7274346793349169] and parameters: {'iterations': 722, 'learning_rate': 0.16815183076315832, 'depth': 7, 'l2_leaf_reg': 8.419705012399795, 'bagging_temperature': 0.21807327969201218, 'random_strength': 15.526653085025035, 'border_count': 493, 'grow_policy': 'Depthwise'}.\n",
            "[I 2025-03-08 00:52:56,958] Trial 11 finished with values: [0.6151079136690647, 0.6187648456057007] and parameters: {'iterations': 197, 'learning_rate': 0.05098150406385211, 'depth': 9, 'l2_leaf_reg': 9.1170792299532, 'bagging_temperature': 0.32153000015050004, 'random_strength': 8.138041213313127, 'border_count': 467, 'grow_policy': 'Depthwise'}.\n",
            "[I 2025-03-08 00:53:05,861] Trial 13 finished with values: [0.4617668893838159, 0.5694774346793349] and parameters: {'iterations': 103, 'learning_rate': 0.011376491449411923, 'depth': 10, 'l2_leaf_reg': 6.76905926000456, 'bagging_temperature': 0.7881197733473984, 'random_strength': 5.629170782097015, 'border_count': 262, 'grow_policy': 'Lossguide'}.\n",
            "[I 2025-03-08 00:53:28,020] Trial 14 finished with values: [0.6576629477392836, 0.6538004750593824] and parameters: {'iterations': 720, 'learning_rate': 0.17600918720783518, 'depth': 5, 'l2_leaf_reg': 0.4905986686426432, 'bagging_temperature': 0.6458022066895234, 'random_strength': 5.519259573857301, 'border_count': 43, 'grow_policy': 'Lossguide'}.\n",
            "[I 2025-03-08 00:53:34,910] Trial 15 finished with values: [0.6742108397855867, 0.6751781472684085] and parameters: {'iterations': 454, 'learning_rate': 0.05334825096502037, 'depth': 4, 'l2_leaf_reg': 4.38831600070905, 'bagging_temperature': 0.8096100897768002, 'random_strength': 13.094183086441125, 'border_count': 321, 'grow_policy': 'SymmetricTree'}.\n",
            "[I 2025-03-08 00:53:39,164] Trial 12 finished with values: [0.722737819025522, 0.7161520190023754] and parameters: {'iterations': 822, 'learning_rate': 0.07112528133270628, 'depth': 8, 'l2_leaf_reg': 6.872523671050619, 'bagging_temperature': 0.280031330488022, 'random_strength': 12.208171950907966, 'border_count': 284, 'grow_policy': 'Depthwise'}.\n",
            "[I 2025-03-08 00:53:47,908] Trial 17 finished with values: [0.6923076923076923, 0.6912114014251781] and parameters: {'iterations': 213, 'learning_rate': 0.17420109950880583, 'depth': 6, 'l2_leaf_reg': 4.372389858167566, 'bagging_temperature': 0.18413106632591947, 'random_strength': 17.330602084995103, 'border_count': 158, 'grow_policy': 'Depthwise'}.\n",
            "[I 2025-03-08 00:53:55,224] Trial 18 finished with values: [0.6666666666666666, 0.6656769596199525] and parameters: {'iterations': 144, 'learning_rate': 0.23512846892209388, 'depth': 6, 'l2_leaf_reg': 6.886317772211893, 'bagging_temperature': 0.30811044914464514, 'random_strength': 14.805718631245202, 'border_count': 100, 'grow_policy': 'Lossguide'}.\n",
            "[I 2025-03-08 00:54:02,765] Trial 16 finished with values: [0.6920374707259953, 0.6876484560570071] and parameters: {'iterations': 806, 'learning_rate': 0.20031906306786604, 'depth': 6, 'l2_leaf_reg': 0.1501565114619806, 'bagging_temperature': 0.11871710424762316, 'random_strength': 11.946181516338505, 'border_count': 101, 'grow_policy': 'Lossguide'}.\n",
            "[I 2025-03-08 00:54:08,968] Trial 19 finished with values: [0.7304964539007093, 0.7292161520190024] and parameters: {'iterations': 756, 'learning_rate': 0.19415853900067598, 'depth': 4, 'l2_leaf_reg': 0.4654135861770293, 'bagging_temperature': 0.8385652439281511, 'random_strength': 18.423686449774582, 'border_count': 387, 'grow_policy': 'Lossguide'}.\n",
            "[I 2025-03-08 00:54:27,775] Trial 20 finished with values: [0.734192037470726, 0.7304038004750594] and parameters: {'iterations': 643, 'learning_rate': 0.1310562361758888, 'depth': 8, 'l2_leaf_reg': 4.394383179120308, 'bagging_temperature': 0.9817237227904648, 'random_strength': 8.53214026857913, 'border_count': 362, 'grow_policy': 'Lossguide'}.\n",
            "[I 2025-03-08 00:54:44,202] Trial 21 finished with values: [0.696165191740413, 0.6941805225653207] and parameters: {'iterations': 565, 'learning_rate': 0.13007455212100394, 'depth': 10, 'l2_leaf_reg': 0.9638774158682224, 'bagging_temperature': 0.15481346765959514, 'random_strength': 9.74237481140375, 'border_count': 173, 'grow_policy': 'Lossguide'}.\n",
            "[I 2025-03-08 00:55:03,537] Trial 22 finished with values: [0.7388758782201406, 0.7351543942992874] and parameters: {'iterations': 926, 'learning_rate': 0.20675676788715477, 'depth': 8, 'l2_leaf_reg': 8.555501625256957, 'bagging_temperature': 0.1690766910263668, 'random_strength': 2.125427888190484, 'border_count': 351, 'grow_policy': 'SymmetricTree'}.\n",
            "[I 2025-03-08 00:55:15,922] Trial 24 finished with values: [0.7283372365339579, 0.7244655581947743] and parameters: {'iterations': 870, 'learning_rate': 0.27867765193823674, 'depth': 6, 'l2_leaf_reg': 7.307681360703898, 'bagging_temperature': 0.9160196978940194, 'random_strength': 15.2658891082939, 'border_count': 487, 'grow_policy': 'SymmetricTree'}.\n",
            "[I 2025-03-08 00:55:18,043] Trial 23 finished with values: [0.7155322862129145, 0.7096199524940617] and parameters: {'iterations': 491, 'learning_rate': 0.060490599767759674, 'depth': 10, 'l2_leaf_reg': 4.526955729901142, 'bagging_temperature': 0.6307897533265059, 'random_strength': 16.050671559737722, 'border_count': 288, 'grow_policy': 'SymmetricTree'}.\n",
            "[I 2025-03-08 00:55:25,604] Trial 25 finished with values: [0.6762762762762763, 0.6799287410926366] and parameters: {'iterations': 467, 'learning_rate': 0.05271743148553062, 'depth': 5, 'l2_leaf_reg': 2.403537744558905, 'bagging_temperature': 0.10151112929231054, 'random_strength': 5.183118393159104, 'border_count': 158, 'grow_policy': 'Lossguide'}.\n",
            "[I 2025-03-08 00:55:31,044] Trial 26 finished with values: [0.6585648148148148, 0.649643705463183] and parameters: {'iterations': 504, 'learning_rate': 0.061090395076304364, 'depth': 6, 'l2_leaf_reg': 3.7816462936664075, 'bagging_temperature': 0.947648289567738, 'random_strength': 18.92837100177801, 'border_count': 71, 'grow_policy': 'Lossguide'}.\n",
            "[I 2025-03-08 00:55:38,748] Trial 28 finished with values: [0.6760895170789164, 0.6733966745843231] and parameters: {'iterations': 367, 'learning_rate': 0.2835263204348578, 'depth': 4, 'l2_leaf_reg': 1.681912295481895, 'bagging_temperature': 0.7849718180012175, 'random_strength': 10.66118169284628, 'border_count': 121, 'grow_policy': 'Lossguide'}.\n",
            "[I 2025-03-08 00:55:46,682] Trial 29 finished with values: [0.7200942840306424, 0.7179334916864608] and parameters: {'iterations': 317, 'learning_rate': 0.13871280909115583, 'depth': 5, 'l2_leaf_reg': 0.08601909828699203, 'bagging_temperature': 0.9965642745859031, 'random_strength': 14.852145249732077, 'border_count': 429, 'grow_policy': 'SymmetricTree'}.\n",
            "[I 2025-03-08 00:56:13,709] Trial 27 finished with values: [0.7436950146627566, 0.7404988123515439] and parameters: {'iterations': 981, 'learning_rate': 0.2950264154178138, 'depth': 8, 'l2_leaf_reg': 3.2612400974596234, 'bagging_temperature': 0.25291827744144024, 'random_strength': 14.94924990994823, 'border_count': 482, 'grow_policy': 'Depthwise'}.\n",
            "[I 2025-03-08 00:56:21,053] Trial 31 finished with values: [0.7233294255568582, 0.7197149643705463] and parameters: {'iterations': 463, 'learning_rate': 0.1874434704301564, 'depth': 7, 'l2_leaf_reg': 2.168038594341736, 'bagging_temperature': 0.7826814150199959, 'random_strength': 4.221152670330703, 'border_count': 419, 'grow_policy': 'SymmetricTree'}.\n",
            "[I 2025-03-08 00:56:24,871] Trial 30 finished with values: [0.7201861547411286, 0.7143705463182898] and parameters: {'iterations': 736, 'learning_rate': 0.04938177325122106, 'depth': 9, 'l2_leaf_reg': 8.033469451953787, 'bagging_temperature': 0.004100278146205394, 'random_strength': 2.516829852267665, 'border_count': 286, 'grow_policy': 'SymmetricTree'}.\n",
            "[I 2025-03-08 00:56:27,800] Trial 33 finished with values: [0.6674698795180722, 0.672209026128266] and parameters: {'iterations': 153, 'learning_rate': 0.1112596637153587, 'depth': 7, 'l2_leaf_reg': 3.5599263728116965, 'bagging_temperature': 0.33954055259255667, 'random_strength': 9.098880848780421, 'border_count': 235, 'grow_policy': 'SymmetricTree'}.\n",
            "[I 2025-03-08 00:56:29,500] Trial 32 finished with values: [0.6137888956680903, 0.6241092636579573] and parameters: {'iterations': 292, 'learning_rate': 0.040925897016160805, 'depth': 5, 'l2_leaf_reg': 9.573791299580215, 'bagging_temperature': 0.7699355001085227, 'random_strength': 5.956866819738528, 'border_count': 83, 'grow_policy': 'Lossguide'}.\n",
            "[I 2025-03-08 00:56:44,967] Trial 34 finished with values: [0.6810810810810811, 0.6846793349168646] and parameters: {'iterations': 949, 'learning_rate': 0.020306030543006334, 'depth': 4, 'l2_leaf_reg': 4.4282347984518164, 'bagging_temperature': 0.13393333503050786, 'random_strength': 4.376739763584663, 'border_count': 437, 'grow_policy': 'Lossguide'}.\n",
            "[I 2025-03-08 00:56:49,455] Trial 35 finished with values: [0.7027992852888624, 0.7036817102137767] and parameters: {'iterations': 748, 'learning_rate': 0.023067944727764845, 'depth': 6, 'l2_leaf_reg': 3.925702928708401, 'bagging_temperature': 0.2589782463574367, 'random_strength': 11.676741685594235, 'border_count': 499, 'grow_policy': 'Depthwise'}.\n",
            "[I 2025-03-08 00:57:09,415] Trial 36 finished with values: [0.7298578199052133, 0.7292161520190024] and parameters: {'iterations': 729, 'learning_rate': 0.23227766729551438, 'depth': 8, 'l2_leaf_reg': 2.3011460328607827, 'bagging_temperature': 0.8025412716571139, 'random_strength': 4.287665471008125, 'border_count': 497, 'grow_policy': 'Depthwise'}.\n",
            "[I 2025-03-08 00:57:11,389] Trial 37 finished with values: [0.6902654867256637, 0.6882422802850356] and parameters: {'iterations': 760, 'learning_rate': 0.2764174955960951, 'depth': 8, 'l2_leaf_reg': 2.528293650413203, 'bagging_temperature': 0.5078578726516245, 'random_strength': 18.441531972753904, 'border_count': 205, 'grow_policy': 'Depthwise'}.\n",
            "[I 2025-03-08 00:57:17,101] Trial 39 finished with values: [0.7377521613832853, 0.7298099762470309] and parameters: {'iterations': 375, 'learning_rate': 0.1363779791086909, 'depth': 7, 'l2_leaf_reg': 1.589518261427109, 'bagging_temperature': 0.14072214030581787, 'random_strength': 1.4644488085718823, 'border_count': 423, 'grow_policy': 'SymmetricTree'}.\n",
            "[I 2025-03-08 00:57:20,859] Trial 40 finished with values: [0.5231388329979879, 0.577790973871734] and parameters: {'iterations': 206, 'learning_rate': 0.033577086556718864, 'depth': 7, 'l2_leaf_reg': 7.558706453865401, 'bagging_temperature': 0.8235638143468246, 'random_strength': 6.554798805770737, 'border_count': 236, 'grow_policy': 'SymmetricTree'}.\n",
            "[I 2025-03-08 00:57:35,916] Trial 38 finished with values: [0.7310182460270748, 0.7286223277909739] and parameters: {'iterations': 910, 'learning_rate': 0.15457886586405556, 'depth': 8, 'l2_leaf_reg': 4.520547787334923, 'bagging_temperature': 0.08122590926546025, 'random_strength': 3.754363268133262, 'border_count': 372, 'grow_policy': 'SymmetricTree'}.\n",
            "[I 2025-03-08 00:57:40,633] Trial 42 finished with values: [0.678743961352657, 0.684085510688836] and parameters: {'iterations': 266, 'learning_rate': 0.19628249406536818, 'depth': 4, 'l2_leaf_reg': 5.492663388834829, 'bagging_temperature': 0.8602344883089036, 'random_strength': 3.7438119098323037, 'border_count': 160, 'grow_policy': 'Lossguide'}.\n",
            "[I 2025-03-08 00:58:00,926] Trial 41 finished with values: [0.6484848484848484, 0.6555819477434679] and parameters: {'iterations': 981, 'learning_rate': 0.013306920799540186, 'depth': 9, 'l2_leaf_reg': 0.1939315829089809, 'bagging_temperature': 0.13461190307845883, 'random_strength': 16.22006439997911, 'border_count': 448, 'grow_policy': 'SymmetricTree'}.\n",
            "[I 2025-03-08 00:58:03,689] Trial 43 finished with values: [0.6972369194591417, 0.6941805225653207] and parameters: {'iterations': 805, 'learning_rate': 0.12923192839061087, 'depth': 9, 'l2_leaf_reg': 7.705570693136342, 'bagging_temperature': 0.5026356228802487, 'random_strength': 2.1754083576397254, 'border_count': 196, 'grow_policy': 'Lossguide'}.\n",
            "[I 2025-03-08 00:58:06,372] Trial 44 finished with values: [0.6970414201183432, 0.6959619952494062] and parameters: {'iterations': 179, 'learning_rate': 0.12483295917146002, 'depth': 5, 'l2_leaf_reg': 5.785654861860958, 'bagging_temperature': 0.9943447619447823, 'random_strength': 9.507813524836072, 'border_count': 372, 'grow_policy': 'Lossguide'}.\n",
            "[I 2025-03-08 00:58:12,936] Trial 45 finished with values: [0.6727383120825744, 0.6799287410926366] and parameters: {'iterations': 216, 'learning_rate': 0.13949280914655698, 'depth': 7, 'l2_leaf_reg': 0.53877529933855, 'bagging_temperature': 0.18393560371244266, 'random_strength': 11.436987803252165, 'border_count': 156, 'grow_policy': 'Lossguide'}.\n",
            "[I 2025-03-08 00:58:13,572] Trial 46 finished with values: [0.7090694935217904, 0.7066508313539193] and parameters: {'iterations': 423, 'learning_rate': 0.061970556950754235, 'depth': 7, 'l2_leaf_reg': 4.952306943409356, 'bagging_temperature': 0.4946631372799336, 'random_strength': 18.28820421932032, 'border_count': 288, 'grow_policy': 'SymmetricTree'}.\n",
            "[I 2025-03-08 00:58:24,226] Trial 48 finished with values: [0.6678550207961973, 0.6680522565320665] and parameters: {'iterations': 260, 'learning_rate': 0.10731506898517436, 'depth': 8, 'l2_leaf_reg': 3.5559756559276536, 'bagging_temperature': 0.5095880490674672, 'random_strength': 3.4712432195330103, 'border_count': 107, 'grow_policy': 'Depthwise'}.\n",
            "[I 2025-03-08 00:58:29,878] Trial 49 finished with values: [0.7172897196261683, 0.7125890736342043] and parameters: {'iterations': 306, 'learning_rate': 0.15549626004498748, 'depth': 6, 'l2_leaf_reg': 7.811802142244153, 'bagging_temperature': 0.9232429755108494, 'random_strength': 11.433475868718535, 'border_count': 370, 'grow_policy': 'Depthwise'}.\n",
            "[I 2025-03-08 00:58:31,975] Trial 47 finished with values: [0.6557568673290474, 0.6502375296912114] and parameters: {'iterations': 758, 'learning_rate': 0.045054289752898775, 'depth': 7, 'l2_leaf_reg': 9.471006843291999, 'bagging_temperature': 0.3899670078402334, 'random_strength': 13.689215551680414, 'border_count': 72, 'grow_policy': 'Depthwise'}.\n",
            "[I 2025-03-08 00:58:38,699] Trial 50 finished with values: [0.679135008766803, 0.6739904988123515] and parameters: {'iterations': 694, 'learning_rate': 0.26128743774481, 'depth': 5, 'l2_leaf_reg': 1.1479107221509721, 'bagging_temperature': 0.6946694220070526, 'random_strength': 12.62963304863368, 'border_count': 127, 'grow_policy': 'SymmetricTree'}.\n",
            "[I 2025-03-08 00:58:44,488] Trial 51 finished with values: [0.6879432624113475, 0.6864608076009501] and parameters: {'iterations': 218, 'learning_rate': 0.1613302256114671, 'depth': 9, 'l2_leaf_reg': 3.615931017046997, 'bagging_temperature': 0.6331055810567243, 'random_strength': 9.97764729483685, 'border_count': 152, 'grow_policy': 'SymmetricTree'}.\n",
            "[I 2025-03-08 00:58:56,799] Trial 53 finished with values: [0.7236533957845434, 0.7197149643705463] and parameters: {'iterations': 722, 'learning_rate': 0.13287909412510926, 'depth': 7, 'l2_leaf_reg': 8.419705012399795, 'bagging_temperature': 0.6307897533265059, 'random_strength': 16.050671559737722, 'border_count': 288, 'grow_policy': 'SymmetricTree'}.\n",
            "[I 2025-03-08 00:59:06,286] Trial 52 finished with values: [0.6972369194591417, 0.6941805225653207] and parameters: {'iterations': 805, 'learning_rate': 0.12923192839061087, 'depth': 9, 'l2_leaf_reg': 7.705570693136342, 'bagging_temperature': 0.5026356228802487, 'random_strength': 2.1754083576397254, 'border_count': 196, 'grow_policy': 'Lossguide'}.\n",
            "[I 2025-03-08 00:59:09,709] Trial 55 finished with values: [0.7082352941176471, 0.7054631828978623] and parameters: {'iterations': 517, 'learning_rate': 0.14612177065832427, 'depth': 4, 'l2_leaf_reg': 9.365039757911687, 'bagging_temperature': 0.6307897533265059, 'random_strength': 9.976494812006107, 'border_count': 288, 'grow_policy': 'SymmetricTree'}.\n",
            "[I 2025-03-08 00:59:18,956] Trial 54 finished with values: [0.6995305164319249, 0.6959619952494062] and parameters: {'iterations': 491, 'learning_rate': 0.2764174955960951, 'depth': 10, 'l2_leaf_reg': 4.526955729901142, 'bagging_temperature': 0.6307897533265059, 'random_strength': 16.050671559737722, 'border_count': 205, 'grow_policy': 'Depthwise'}.\n",
            "[I 2025-03-08 00:59:22,566] Trial 57 finished with values: [0.6710526315789473, 0.6733966745843231] and parameters: {'iterations': 463, 'learning_rate': 0.05334825096502037, 'depth': 4, 'l2_leaf_reg': 8.687564758284195, 'bagging_temperature': 0.8096100897768002, 'random_strength': 4.221152670330703, 'border_count': 324, 'grow_policy': 'SymmetricTree'}.\n",
            "[I 2025-03-08 00:59:35,857] Trial 56 finished with values: [0.7353951890034365, 0.7256532066508313] and parameters: {'iterations': 981, 'learning_rate': 0.2950264154178138, 'depth': 8, 'l2_leaf_reg': 3.2612400974596234, 'bagging_temperature': 0.1690766910263668, 'random_strength': 2.125427888190484, 'border_count': 250, 'grow_policy': 'Depthwise'}.\n",
            "[I 2025-03-08 00:59:44,741] Trial 58 finished with values: [0.7432198499711483, 0.7357482185273159] and parameters: {'iterations': 729, 'learning_rate': 0.15457886586405556, 'depth': 8, 'l2_leaf_reg': 9.815306297648444, 'bagging_temperature': 0.8025412716571139, 'random_strength': 3.754363268133262, 'border_count': 497, 'grow_policy': 'SymmetricTree'}.\n",
            "[I 2025-03-08 00:59:52,033] Trial 59 finished with values: [0.6914016489988222, 0.6888361045130641] and parameters: {'iterations': 949, 'learning_rate': 0.020306030543006334, 'depth': 7, 'l2_leaf_reg': 4.4282347984518164, 'bagging_temperature': 0.13393333503050786, 'random_strength': 4.376739763584663, 'border_count': 437, 'grow_policy': 'SymmetricTree'}.\n",
            "[I 2025-03-08 00:59:52,502] Trial 60 finished with values: [0.7318797878609311, 0.7298099762470309] and parameters: {'iterations': 682, 'learning_rate': 0.12483295917146002, 'depth': 5, 'l2_leaf_reg': 1.3677931856478007, 'bagging_temperature': 0.6095678158105144, 'random_strength': 15.611100918786502, 'border_count': 453, 'grow_policy': 'SymmetricTree'}.\n",
            "[I 2025-03-08 00:59:56,563] Trial 61 finished with values: [0.6738738738738739, 0.6775534441805225] and parameters: {'iterations': 179, 'learning_rate': 0.12483295917146002, 'depth': 5, 'l2_leaf_reg': 5.785654861860958, 'bagging_temperature': 0.9943447619447823, 'random_strength': 11.946181516338505, 'border_count': 372, 'grow_policy': 'Lossguide'}.\n",
            "[I 2025-03-08 01:00:16,503] Trial 62 finished with values: [0.6557949912638322, 0.6490498812351544] and parameters: {'iterations': 454, 'learning_rate': 0.04938177325122106, 'depth': 10, 'l2_leaf_reg': 8.033469451953787, 'bagging_temperature': 0.8096100897768002, 'random_strength': 13.094183086441125, 'border_count': 112, 'grow_policy': 'SymmetricTree'}.\n",
            "[I 2025-03-08 01:00:18,653] Trial 64 finished with values: [0.699357851722125, 0.6941805225653207] and parameters: {'iterations': 179, 'learning_rate': 0.1363779791086909, 'depth': 5, 'l2_leaf_reg': 5.785654861860958, 'bagging_temperature': 0.36377968727939536, 'random_strength': 1.4644488085718823, 'border_count': 372, 'grow_policy': 'SymmetricTree'}.\n",
            "[I 2025-03-08 01:00:24,117] Trial 63 finished with values: [0.7374631268436578, 0.7357482185273159] and parameters: {'iterations': 890, 'learning_rate': 0.1273944423789708, 'depth': 8, 'l2_leaf_reg': 7.307681360703898, 'bagging_temperature': 0.9160196978940194, 'random_strength': 10.750016813964894, 'border_count': 487, 'grow_policy': 'Lossguide'}.\n",
            "[I 2025-03-08 01:00:32,924] Trial 65 finished with values: [0.7311953352769679, 0.7262470308788599] and parameters: {'iterations': 870, 'learning_rate': 0.1752132213164345, 'depth': 6, 'l2_leaf_reg': 7.307681360703898, 'bagging_temperature': 0.9160196978940194, 'random_strength': 15.526653085025035, 'border_count': 487, 'grow_policy': 'SymmetricTree'}.\n",
            "[I 2025-03-08 01:00:40,942] Trial 67 finished with values: [0.6970414201183432, 0.6959619952494062] and parameters: {'iterations': 179, 'learning_rate': 0.12483295917146002, 'depth': 5, 'l2_leaf_reg': 5.785654861860958, 'bagging_temperature': 0.681771664113159, 'random_strength': 9.507813524836072, 'border_count': 372, 'grow_policy': 'Lossguide'}.\n",
            "[I 2025-03-08 01:00:54,665] Trial 66 finished with values: [0.7253396337861784, 0.7238717339667459] and parameters: {'iterations': 748, 'learning_rate': 0.0553260158948535, 'depth': 6, 'l2_leaf_reg': 3.925702928708401, 'bagging_temperature': 0.5720934641621322, 'random_strength': 13.992265374617684, 'border_count': 499, 'grow_policy': 'Depthwise'}.\n",
            "[I 2025-03-08 01:01:08,743] Trial 69 finished with values: [0.6812278630460449, 0.6793349168646081] and parameters: {'iterations': 910, 'learning_rate': 0.15457886586405556, 'depth': 7, 'l2_leaf_reg': 4.952306943409356, 'bagging_temperature': 0.4946631372799336, 'random_strength': 3.754363268133262, 'border_count': 123, 'grow_policy': 'SymmetricTree'}.\n",
            "[I 2025-03-08 01:01:09,801] Trial 68 finished with values: [0.7377049180327869, 0.7339667458432304] and parameters: {'iterations': 643, 'learning_rate': 0.15849987171807256, 'depth': 8, 'l2_leaf_reg': 4.394383179120308, 'bagging_temperature': 0.9817237227904648, 'random_strength': 8.53214026857913, 'border_count': 482, 'grow_policy': 'Lossguide'}.\n",
            "[I 2025-03-08 01:01:29,204] Trial 70 finished with values: [0.731995277449823, 0.7304038004750594] and parameters: {'iterations': 805, 'learning_rate': 0.12923192839061087, 'depth': 6, 'l2_leaf_reg': 7.705570693136342, 'bagging_temperature': 0.5026356228802487, 'random_strength': 2.1754083576397254, 'border_count': 487, 'grow_policy': 'Lossguide'}.\n",
            "[I 2025-03-08 01:01:34,915] Trial 71 finished with values: [0.7326732673267327, 0.7274346793349169] and parameters: {'iterations': 910, 'learning_rate': 0.152483037233295, 'depth': 8, 'l2_leaf_reg': 4.520547787334923, 'bagging_temperature': 0.280031330488022, 'random_strength': 12.208171950907966, 'border_count': 280, 'grow_policy': 'SymmetricTree'}.\n",
            "[I 2025-03-08 01:01:38,610] Trial 73 finished with values: [0.6755609460278957, 0.6823040380047506] and parameters: {'iterations': 317, 'learning_rate': 0.0553260158948535, 'depth': 4, 'l2_leaf_reg': 0.08601909828699203, 'bagging_temperature': 0.23855359034954815, 'random_strength': 13.992265374617684, 'border_count': 328, 'grow_policy': 'Depthwise'}.\n",
            "[I 2025-03-08 01:01:59,774] Trial 74 finished with values: [0.6902654867256637, 0.6882422802850356] and parameters: {'iterations': 760, 'learning_rate': 0.2764174955960951, 'depth': 8, 'l2_leaf_reg': 2.528293650413203, 'bagging_temperature': 0.5078578726516245, 'random_strength': 18.441531972753904, 'border_count': 205, 'grow_policy': 'Depthwise'}.\n",
            "[I 2025-03-08 01:02:00,533] Trial 72 finished with values: [0.7385159010600707, 0.7363420427553444] and parameters: {'iterations': 890, 'learning_rate': 0.08283280252248394, 'depth': 9, 'l2_leaf_reg': 3.366013725091381, 'bagging_temperature': 0.6095678158105144, 'random_strength': 11.73208364266712, 'border_count': 453, 'grow_policy': 'Lossguide'}.\n",
            "[I 2025-03-08 01:02:06,107] Trial 76 finished with values: [0.6647498562392179, 0.6538004750593824] and parameters: {'iterations': 375, 'learning_rate': 0.2216042806756069, 'depth': 5, 'l2_leaf_reg': 1.589518261427109, 'bagging_temperature': 0.6458022066895234, 'random_strength': 1.4644488085718823, 'border_count': 43, 'grow_policy': 'Lossguide'}.\n",
            "[I 2025-03-08 01:02:14,141] Trial 77 finished with values: [0.7117224880382775, 0.7137767220902613] and parameters: {'iterations': 463, 'learning_rate': 0.1273944423789708, 'depth': 4, 'l2_leaf_reg': 2.168038594341736, 'bagging_temperature': 0.679990630156862, 'random_strength': 4.221152670330703, 'border_count': 419, 'grow_policy': 'Lossguide'}.\n",
            "[I 2025-03-08 01:02:27,636] Trial 75 finished with values: [0.6727898966704937, 0.661520190023753] and parameters: {'iterations': 926, 'learning_rate': 0.04730055427482719, 'depth': 8, 'l2_leaf_reg': 8.555501625256957, 'bagging_temperature': 0.1690766910263668, 'random_strength': 2.125427888190484, 'border_count': 83, 'grow_policy': 'Lossguide'}.\n",
            "[I 2025-03-08 01:02:31,112] Trial 79 finished with values: [0.6762762762762763, 0.6799287410926366] and parameters: {'iterations': 454, 'learning_rate': 0.05334825096502037, 'depth': 4, 'l2_leaf_reg': 4.38831600070905, 'bagging_temperature': 0.8096100897768002, 'random_strength': 13.094183086441125, 'border_count': 387, 'grow_policy': 'SymmetricTree'}.\n",
            "[I 2025-03-08 01:02:52,684] Trial 78 finished with values: [0.7327536231884058, 0.7262470308788599] and parameters: {'iterations': 870, 'learning_rate': 0.04938177325122106, 'depth': 9, 'l2_leaf_reg': 8.033469451953787, 'bagging_temperature': 0.004100278146205394, 'random_strength': 2.516829852267665, 'border_count': 309, 'grow_policy': 'SymmetricTree'}.\n",
            "[I 2025-03-08 01:03:00,113] Trial 81 finished with values: [0.6867969212551805, 0.6858669833729216] and parameters: {'iterations': 694, 'learning_rate': 0.17420109950880583, 'depth': 5, 'l2_leaf_reg': 4.372389858167566, 'bagging_temperature': 0.18413106632591947, 'random_strength': 12.62963304863368, 'border_count': 127, 'grow_policy': 'SymmetricTree'}.\n",
            "[I 2025-03-08 01:03:01,382] Trial 80 finished with values: [0.7482517482517482, 0.7434679334916865] and parameters: {'iterations': 926, 'learning_rate': 0.20675676788715477, 'depth': 8, 'l2_leaf_reg': 2.3011460328607827, 'bagging_temperature': 0.8025412716571139, 'random_strength': 4.287665471008125, 'border_count': 497, 'grow_policy': 'SymmetricTree'}.\n",
            "[I 2025-03-08 01:03:05,554] Trial 82 finished with values: [0.6534407935523868, 0.6680522565320665] and parameters: {'iterations': 736, 'learning_rate': 0.020306030543006334, 'depth': 4, 'l2_leaf_reg': 4.4282347984518164, 'bagging_temperature': 0.13393333503050786, 'random_strength': 2.516829852267665, 'border_count': 437, 'grow_policy': 'SymmetricTree'}.\n",
            "[I 2025-03-08 01:03:14,581] Trial 84 finished with values: [0.5622641509433962, 0.5866983372921615] and parameters: {'iterations': 197, 'learning_rate': 0.047727422266050486, 'depth': 9, 'l2_leaf_reg': 9.1170792299532, 'bagging_temperature': 0.7186496729075248, 'random_strength': 8.138041213313127, 'border_count': 467, 'grow_policy': 'SymmetricTree'}.\n",
            "[I 2025-03-08 01:03:29,492] Trial 83 finished with values: [0.7337209302325581, 0.7280285035629454] and parameters: {'iterations': 926, 'learning_rate': 0.15549626004498748, 'depth': 8, 'l2_leaf_reg': 8.555501625256957, 'bagging_temperature': 0.1690766910263668, 'random_strength': 11.433475868718535, 'border_count': 351, 'grow_policy': 'Depthwise'}.\n",
            "[I 2025-03-08 01:03:34,917] Trial 85 finished with values: [0.7481268011527378, 0.7404988123515439] and parameters: {'iterations': 748, 'learning_rate': 0.1363779791086909, 'depth': 7, 'l2_leaf_reg': 1.0257168966963008, 'bagging_temperature': 0.08852514707483661, 'random_strength': 1.4644488085718823, 'border_count': 499, 'grow_policy': 'Depthwise'}.\n",
            "[I 2025-03-08 01:03:38,962] Trial 87 finished with values: [0.6969875959834613, 0.6953681710213777] and parameters: {'iterations': 276, 'learning_rate': 0.12483295917146002, 'depth': 4, 'l2_leaf_reg': 5.785654861860958, 'bagging_temperature': 0.9943447619447823, 'random_strength': 15.426525293492771, 'border_count': 328, 'grow_policy': 'Lossguide'}.\n",
            "[I 2025-03-08 01:03:44,901] Trial 86 finished with values: [0.7311703360370799, 0.7244655581947743] and parameters: {'iterations': 911, 'learning_rate': 0.04938177325122106, 'depth': 7, 'l2_leaf_reg': 4.952306943409356, 'bagging_temperature': 0.4946631372799336, 'random_strength': 18.28820421932032, 'border_count': 286, 'grow_policy': 'SymmetricTree'}.\n",
            "[I 2025-03-08 01:03:46,810] Trial 89 finished with values: [0.6755609460278957, 0.6823040380047506] and parameters: {'iterations': 130, 'learning_rate': 0.2764174955960951, 'depth': 6, 'l2_leaf_reg': 0.45625056560861416, 'bagging_temperature': 0.5078578726516245, 'random_strength': 18.441531972753904, 'border_count': 205, 'grow_policy': 'SymmetricTree'}.\n",
            "[I 2025-03-08 01:03:56,615] Trial 90 finished with values: [0.6828689982216953, 0.6823040380047506] and parameters: {'iterations': 694, 'learning_rate': 0.26128743774481, 'depth': 5, 'l2_leaf_reg': 4.656687033993655, 'bagging_temperature': 0.6946694220070526, 'random_strength': 12.62963304863368, 'border_count': 127, 'grow_policy': 'SymmetricTree'}.\n",
            "[I 2025-03-08 01:04:29,183] Trial 88 finished with values: [0.7345497351383167, 0.732185273159145] and parameters: {'iterations': 981, 'learning_rate': 0.12483295917146002, 'depth': 8, 'l2_leaf_reg': 5.785654861860958, 'bagging_temperature': 0.9943447619447823, 'random_strength': 9.507813524836072, 'border_count': 482, 'grow_policy': 'Lossguide'}.\n",
            "[I 2025-03-08 01:04:35,816] Trial 92 finished with values: [0.6844547563805105, 0.6769596199524941] and parameters: {'iterations': 517, 'learning_rate': 0.2661813870262881, 'depth': 4, 'l2_leaf_reg': 2.917623115430914, 'bagging_temperature': 0.9543620436364718, 'random_strength': 9.976494812006107, 'border_count': 107, 'grow_policy': 'Depthwise'}.\n",
            "[I 2025-03-08 01:04:48,268] Trial 93 finished with values: [0.6717557251908397, 0.6680522565320665] and parameters: {'iterations': 260, 'learning_rate': 0.22181117973329353, 'depth': 7, 'l2_leaf_reg': 3.5559756559276536, 'bagging_temperature': 0.5095880490674672, 'random_strength': 9.976494812006107, 'border_count': 107, 'grow_policy': 'Depthwise'}.\n",
            "[I 2025-03-08 01:04:56,426] Trial 91 finished with values: [0.703725606150207, 0.7024940617577197] and parameters: {'iterations': 944, 'learning_rate': 0.2764174955960951, 'depth': 10, 'l2_leaf_reg': 2.528293650413203, 'bagging_temperature': 0.5078578726516245, 'random_strength': 18.441531972753904, 'border_count': 205, 'grow_policy': 'Depthwise'}.\n",
            "[I 2025-03-08 01:04:58,830] Trial 94 finished with values: [0.7191011235955056, 0.7179334916864608] and parameters: {'iterations': 306, 'learning_rate': 0.15549626004498748, 'depth': 7, 'l2_leaf_reg': 2.168038594341736, 'bagging_temperature': 0.19948033823123912, 'random_strength': 11.433475868718535, 'border_count': 370, 'grow_policy': 'Depthwise'}.\n",
            "[I 2025-03-08 01:05:04,126] Trial 95 finished with values: [0.6782504493708807, 0.6811163895486936] and parameters: {'iterations': 216, 'learning_rate': 0.10192061363117765, 'depth': 9, 'l2_leaf_reg': 6.245198525441464, 'bagging_temperature': 0.18393560371244266, 'random_strength': 19.971873443462087, 'border_count': 215, 'grow_policy': 'Lossguide'}.\n",
            "[I 2025-03-08 01:05:05,799] Trial 96 finished with values: [0.7092457420924574, 0.7161520190023754] and parameters: {'iterations': 517, 'learning_rate': 0.05803677329346517, 'depth': 4, 'l2_leaf_reg': 0.4654135861770293, 'bagging_temperature': 0.9543620436364718, 'random_strength': 18.423686449774582, 'border_count': 265, 'grow_policy': 'Lossguide'}.\n",
            "[I 2025-03-08 01:05:08,295] Trial 97 finished with values: [0.6722288438617402, 0.6733966745843231] and parameters: {'iterations': 375, 'learning_rate': 0.1363779791086909, 'depth': 4, 'l2_leaf_reg': 1.589518261427109, 'bagging_temperature': 0.14072214030581787, 'random_strength': 9.97764729483685, 'border_count': 152, 'grow_policy': 'SymmetricTree'}.\n",
            "[I 2025-03-08 01:05:19,476] Trial 98 finished with values: [0.7175305765870704, 0.7119952494061758] and parameters: {'iterations': 463, 'learning_rate': 0.1874434704301564, 'depth': 7, 'l2_leaf_reg': 2.168038594341736, 'bagging_temperature': 0.7826814150199959, 'random_strength': 17.330602084995103, 'border_count': 419, 'grow_policy': 'Depthwise'}.\n",
            "[I 2025-03-08 01:05:30,532] Trial 100 finished with values: [0.7046511627906977, 0.6983372921615202] and parameters: {'iterations': 910, 'learning_rate': 0.15457886586405556, 'depth': 6, 'l2_leaf_reg': 5.492663388834829, 'bagging_temperature': 0.8602344883089036, 'random_strength': 3.7438119098323037, 'border_count': 160, 'grow_policy': 'SymmetricTree'}.\n",
            "[I 2025-03-08 01:05:38,539] Trial 99 finished with values: [0.7373380447585395, 0.7351543942992874] and parameters: {'iterations': 949, 'learning_rate': 0.2234818111056411, 'depth': 8, 'l2_leaf_reg': 2.9465844670829417, 'bagging_temperature': 0.23855359034954815, 'random_strength': 13.992265374617684, 'border_count': 482, 'grow_policy': 'Depthwise'}.\n",
            "[I 2025-03-08 01:05:45,523] Trial 101 finished with values: [0.7395156526875369, 0.7381235154394299] and parameters: {'iterations': 375, 'learning_rate': 0.1363779791086909, 'depth': 8, 'l2_leaf_reg': 1.589518261427109, 'bagging_temperature': 0.14072214030581787, 'random_strength': 14.94924990994823, 'border_count': 482, 'grow_policy': 'Depthwise'}.\n",
            "[I 2025-03-08 01:05:49,335] Trial 102 finished with values: [0.7411285631180919, 0.7357482185273159] and parameters: {'iterations': 870, 'learning_rate': 0.20675676788715477, 'depth': 6, 'l2_leaf_reg': 7.307681360703898, 'bagging_temperature': 0.0011002683790353185, 'random_strength': 15.526653085025035, 'border_count': 487, 'grow_policy': 'SymmetricTree'}.\n",
            "[I 2025-03-08 01:05:56,800] Trial 103 finished with values: [0.6916325336454067, 0.6870546318289786] and parameters: {'iterations': 910, 'learning_rate': 0.15457886586405556, 'depth': 6, 'l2_leaf_reg': 6.996125268702015, 'bagging_temperature': 0.8602344883089036, 'random_strength': 3.7438119098323037, 'border_count': 160, 'grow_policy': 'SymmetricTree'}.\n",
            "[I 2025-03-08 01:05:59,934] Trial 104 finished with values: [0.7063631056625803, 0.7013064133016627] and parameters: {'iterations': 949, 'learning_rate': 0.26751169106062717, 'depth': 4, 'l2_leaf_reg': 3.925702928708401, 'bagging_temperature': 0.5720934641621322, 'random_strength': 13.992265374617684, 'border_count': 190, 'grow_policy': 'Depthwise'}.\n",
            "[I 2025-03-08 01:06:19,622] Trial 106 finished with values: [0.690223792697291, 0.6876484560570071] and parameters: {'iterations': 643, 'learning_rate': 0.059137778885903755, 'depth': 8, 'l2_leaf_reg': 4.394383179120308, 'bagging_temperature': 0.9817237227904648, 'random_strength': 8.53214026857913, 'border_count': 150, 'grow_policy': 'Lossguide'}.\n",
            "[I 2025-03-08 01:06:21,830] Trial 105 finished with values: [0.7298578199052133, 0.7292161520190024] and parameters: {'iterations': 729, 'learning_rate': 0.23227766729551438, 'depth': 8, 'l2_leaf_reg': 2.3011460328607827, 'bagging_temperature': 0.14072214030581787, 'random_strength': 4.287665471008125, 'border_count': 497, 'grow_policy': 'Depthwise'}.\n",
            "[I 2025-03-08 01:06:25,944] Trial 107 finished with values: [0.7216734456711215, 0.7155581947743468] and parameters: {'iterations': 157, 'learning_rate': 0.2950264154178138, 'depth': 8, 'l2_leaf_reg': 3.2612400974596234, 'bagging_temperature': 0.1690766910263668, 'random_strength': 2.125427888190484, 'border_count': 250, 'grow_policy': 'Depthwise'}.\n",
            "[I 2025-03-08 01:06:32,121] Trial 109 finished with values: [0.6853731343283582, 0.6870546318289786] and parameters: {'iterations': 375, 'learning_rate': 0.0553260158948535, 'depth': 7, 'l2_leaf_reg': 8.192110701220189, 'bagging_temperature': 0.14072214030581787, 'random_strength': 14.126378963152161, 'border_count': 499, 'grow_policy': 'SymmetricTree'}.\n",
            "[I 2025-03-08 01:06:37,100] Trial 108 finished with values: [0.7208894090111176, 0.7167458432304038] and parameters: {'iterations': 375, 'learning_rate': 0.1363779791086909, 'depth': 8, 'l2_leaf_reg': 0.4654135861770293, 'bagging_temperature': 0.5022042504952425, 'random_strength': 18.423686449774582, 'border_count': 450, 'grow_policy': 'Depthwise'}.\n",
            "[I 2025-03-08 01:07:14,159] Trial 111 finished with values: [0.7327887981330222, 0.7280285035629454] and parameters: {'iterations': 772, 'learning_rate': 0.10192061363117765, 'depth': 9, 'l2_leaf_reg': 6.245198525441464, 'bagging_temperature': 0.25291827744144024, 'random_strength': 14.94924990994823, 'border_count': 482, 'grow_policy': 'Depthwise'}.\n",
            "[I 2025-03-08 01:07:27,868] Trial 112 finished with values: [0.7376381617219313, 0.732185273159145] and parameters: {'iterations': 375, 'learning_rate': 0.2494224747552621, 'depth': 8, 'l2_leaf_reg': 2.3011460328607827, 'bagging_temperature': 0.8025412716571139, 'random_strength': 4.287665471008125, 'border_count': 497, 'grow_policy': 'Depthwise'}.\n",
            "[I 2025-03-08 01:07:39,536] Trial 113 finished with values: [0.7311072056239016, 0.7274346793349169] and parameters: {'iterations': 574, 'learning_rate': 0.12483295917146002, 'depth': 7, 'l2_leaf_reg': 1.3677931856478007, 'bagging_temperature': 0.8917108225315801, 'random_strength': 17.062907541807817, 'border_count': 453, 'grow_policy': 'SymmetricTree'}.\n",
            "[I 2025-03-08 01:07:41,798] Trial 110 finished with values: [0.735052754982415, 0.7315914489311164] and parameters: {'iterations': 890, 'learning_rate': 0.12483295917146002, 'depth': 10, 'l2_leaf_reg': 1.3677931856478007, 'bagging_temperature': 0.6095678158105144, 'random_strength': 11.73208364266712, 'border_count': 453, 'grow_policy': 'SymmetricTree'}.\n",
            "[I 2025-03-08 01:07:48,574] Trial 115 finished with values: [0.7243627741553053, 0.7238717339667459] and parameters: {'iterations': 520, 'learning_rate': 0.1310562361758888, 'depth': 5, 'l2_leaf_reg': 0.08601909828699203, 'bagging_temperature': 0.9817237227904648, 'random_strength': 14.852145249732077, 'border_count': 362, 'grow_policy': 'SymmetricTree'}.\n",
            "[I 2025-03-08 01:08:06,691] Trial 116 finished with values: [0.7274840209180709, 0.7214964370546318] and parameters: {'iterations': 722, 'learning_rate': 0.1724449488242142, 'depth': 7, 'l2_leaf_reg': 8.419705012399795, 'bagging_temperature': 0.21807327969201218, 'random_strength': 15.526653085025035, 'border_count': 493, 'grow_policy': 'Depthwise'}.\n",
            "[I 2025-03-08 01:08:09,978] Trial 114 finished with values: [0.7447058823529412, 0.7422802850356295] and parameters: {'iterations': 981, 'learning_rate': 0.2950264154178138, 'depth': 8, 'l2_leaf_reg': 3.2612400974596234, 'bagging_temperature': 0.15143806016317918, 'random_strength': 19.73111502089016, 'border_count': 482, 'grow_policy': 'Lossguide'}.\n",
            "[I 2025-03-08 01:08:19,209] Trial 117 finished with values: [0.7283372365339579, 0.7244655581947743] and parameters: {'iterations': 870, 'learning_rate': 0.27867765193823674, 'depth': 6, 'l2_leaf_reg': 7.307681360703898, 'bagging_temperature': 0.9160196978940194, 'random_strength': 15.2658891082939, 'border_count': 487, 'grow_policy': 'SymmetricTree'}.\n",
            "[I 2025-03-08 01:08:27,029] Trial 118 finished with values: [0.7405247813411079, 0.7357482185273159] and parameters: {'iterations': 926, 'learning_rate': 0.2950264154178138, 'depth': 7, 'l2_leaf_reg': 8.555501625256957, 'bagging_temperature': 0.25291827744144024, 'random_strength': 14.94924990994823, 'border_count': 482, 'grow_policy': 'SymmetricTree'}.\n",
            "[I 2025-03-08 01:08:36,706] Trial 120 finished with values: [0.7191011235955056, 0.7179334916864608] and parameters: {'iterations': 306, 'learning_rate': 0.15549626004498748, 'depth': 7, 'l2_leaf_reg': 2.168038594341736, 'bagging_temperature': 0.19948033823123912, 'random_strength': 11.433475868718535, 'border_count': 370, 'grow_policy': 'Depthwise'}.\n",
            "[I 2025-03-08 01:08:49,744] Trial 119 finished with values: [0.731650029359953, 0.7286223277909739] and parameters: {'iterations': 890, 'learning_rate': 0.1273944423789708, 'depth': 9, 'l2_leaf_reg': 9.324447305512294, 'bagging_temperature': 0.6095678158105144, 'random_strength': 11.73208364266712, 'border_count': 453, 'grow_policy': 'Lossguide'}.\n",
            "[I 2025-03-08 01:09:05,464] Trial 121 finished with values: [0.7353951890034365, 0.7256532066508313] and parameters: {'iterations': 981, 'learning_rate': 0.2950264154178138, 'depth': 8, 'l2_leaf_reg': 3.2612400974596234, 'bagging_temperature': 0.1690766910263668, 'random_strength': 2.125427888190484, 'border_count': 250, 'grow_policy': 'Depthwise'}.\n",
            "[I 2025-03-08 01:09:08,058] Trial 122 finished with values: [0.7444574095682613, 0.7399049881235155] and parameters: {'iterations': 375, 'learning_rate': 0.23053716399222446, 'depth': 9, 'l2_leaf_reg': 1.589518261427109, 'bagging_temperature': 0.6095678158105144, 'random_strength': 1.4644488085718823, 'border_count': 453, 'grow_policy': 'SymmetricTree'}.\n",
            "[I 2025-03-08 01:09:30,518] Trial 123 finished with values: [0.7217694994179278, 0.7161520190023754] and parameters: {'iterations': 949, 'learning_rate': 0.04938177325122106, 'depth': 8, 'l2_leaf_reg': 8.033469451953787, 'bagging_temperature': 0.004100278146205394, 'random_strength': 11.433475868718535, 'border_count': 309, 'grow_policy': 'SymmetricTree'}.\n",
            "[I 2025-03-08 01:09:37,510] Trial 125 finished with values: [0.7239766081871345, 0.7197149643705463] and parameters: {'iterations': 643, 'learning_rate': 0.0766011798279878, 'depth': 6, 'l2_leaf_reg': 4.394383179120308, 'bagging_temperature': 0.9817237227904648, 'random_strength': 2.125427888190484, 'border_count': 351, 'grow_policy': 'SymmetricTree'}.\n",
            "[I 2025-03-08 01:09:46,439] Trial 124 finished with values: [0.7357392316647264, 0.7304038004750594] and parameters: {'iterations': 870, 'learning_rate': 0.1310562361758888, 'depth': 9, 'l2_leaf_reg': 8.033469451953787, 'bagging_temperature': 0.9817237227904648, 'random_strength': 2.516829852267665, 'border_count': 309, 'grow_policy': 'SymmetricTree'}.\n",
            "[I 2025-03-08 01:09:55,461] Trial 126 finished with values: [0.7285546415981199, 0.7256532066508313] and parameters: {'iterations': 722, 'learning_rate': 0.16815183076315832, 'depth': 7, 'l2_leaf_reg': 3.2612400974596234, 'bagging_temperature': 0.25291827744144024, 'random_strength': 14.94924990994823, 'border_count': 493, 'grow_policy': 'Depthwise'}.\n",
            "[I 2025-03-08 01:10:06,546] Trial 128 finished with values: [0.7292035398230089, 0.7274346793349169] and parameters: {'iterations': 910, 'learning_rate': 0.152483037233295, 'depth': 6, 'l2_leaf_reg': 4.520547787334923, 'bagging_temperature': 0.6959357655502437, 'random_strength': 11.433475868718535, 'border_count': 280, 'grow_policy': 'SymmetricTree'}.\n",
            "[I 2025-03-08 01:10:15,382] Trial 127 finished with values: [0.751316559391457, 0.747624703087886] and parameters: {'iterations': 926, 'learning_rate': 0.2950264154178138, 'depth': 8, 'l2_leaf_reg': 8.555501625256957, 'bagging_temperature': 0.25291827744144024, 'random_strength': 14.94924990994823, 'border_count': 482, 'grow_policy': 'SymmetricTree'}.\n",
            "[I 2025-03-08 01:10:28,570] Trial 129 finished with values: [0.7400468384074942, 0.7363420427553444] and parameters: {'iterations': 704, 'learning_rate': 0.2950264154178138, 'depth': 8, 'l2_leaf_reg': 3.2612400974596234, 'bagging_temperature': 0.25291827744144024, 'random_strength': 14.94924990994823, 'border_count': 482, 'grow_policy': 'Depthwise'}.\n",
            "[I 2025-03-08 01:10:39,189] Trial 130 finished with values: [0.724400234055003, 0.7203087885985748] and parameters: {'iterations': 870, 'learning_rate': 0.04938177325122106, 'depth': 8, 'l2_leaf_reg': 8.033469451953787, 'bagging_temperature': 0.004100278146205394, 'random_strength': 8.668352860537222, 'border_count': 351, 'grow_policy': 'SymmetricTree'}.\n",
            "[I 2025-03-08 01:10:40,747] Trial 131 finished with values: [0.72822910578609, 0.7238717339667459] and parameters: {'iterations': 375, 'learning_rate': 0.1363779791086909, 'depth': 8, 'l2_leaf_reg': 2.9465844670829417, 'bagging_temperature': 0.14072214030581787, 'random_strength': 15.808532453781892, 'border_count': 423, 'grow_policy': 'Depthwise'}.\n",
            "[I 2025-03-08 01:10:54,008] Trial 133 finished with values: [0.7270588235294118, 0.7244655581947743] and parameters: {'iterations': 311, 'learning_rate': 0.1310562361758888, 'depth': 8, 'l2_leaf_reg': 4.394383179120308, 'bagging_temperature': 0.9817237227904648, 'random_strength': 8.53214026857913, 'border_count': 362, 'grow_policy': 'Lossguide'}.\n",
            "[I 2025-03-08 01:10:59,420] Trial 132 finished with values: [0.7049180327868853, 0.7007125890736342] and parameters: {'iterations': 375, 'learning_rate': 0.08283280252248394, 'depth': 9, 'l2_leaf_reg': 1.589518261427109, 'bagging_temperature': 0.14072214030581787, 'random_strength': 11.73208364266712, 'border_count': 175, 'grow_policy': 'SymmetricTree'}.\n",
            "[I 2025-03-08 01:11:13,273] Trial 135 finished with values: [0.7390029325513197, 0.7357482185273159] and parameters: {'iterations': 926, 'learning_rate': 0.20675676788715477, 'depth': 5, 'l2_leaf_reg': 2.3011460328607827, 'bagging_temperature': 0.5026356228802487, 'random_strength': 4.287665471008125, 'border_count': 497, 'grow_policy': 'SymmetricTree'}.\n",
            "[I 2025-03-08 01:11:27,723] Trial 136 finished with values: [0.6655112651646448, 0.6561757719714965] and parameters: {'iterations': 517, 'learning_rate': 0.15549626004498748, 'depth': 7, 'l2_leaf_reg': 2.168038594341736, 'bagging_temperature': 0.19948033823123912, 'random_strength': 10.494113067352151, 'border_count': 71, 'grow_policy': 'SymmetricTree'}.\n",
            "[I 2025-03-08 01:11:42,832] Trial 134 finished with values: [0.7252747252747253, 0.7179334916864608] and parameters: {'iterations': 981, 'learning_rate': 0.13287909412510926, 'depth': 8, 'l2_leaf_reg': 3.2612400974596234, 'bagging_temperature': 0.25291827744144024, 'random_strength': 3.0555612504602285, 'border_count': 288, 'grow_policy': 'Depthwise'}.\n",
            "[I 2025-03-08 01:12:06,082] Trial 137 finished with values: [0.7285464098073555, 0.7238717339667459] and parameters: {'iterations': 736, 'learning_rate': 0.23171306342720405, 'depth': 9, 'l2_leaf_reg': 8.033469451953787, 'bagging_temperature': 0.5026356228802487, 'random_strength': 2.516829852267665, 'border_count': 286, 'grow_policy': 'SymmetricTree'}.\n",
            "[I 2025-03-08 01:12:14,269] Trial 138 finished with values: [0.7213695395513577, 0.7197149643705463] and parameters: {'iterations': 901, 'learning_rate': 0.18452292712473892, 'depth': 8, 'l2_leaf_reg': 2.3011460328607827, 'bagging_temperature': 0.8025412716571139, 'random_strength': 11.433475868718535, 'border_count': 351, 'grow_policy': 'SymmetricTree'}.\n",
            "[I 2025-03-08 01:12:26,667] Trial 140 finished with values: [0.7289829512051734, 0.7262470308788599] and parameters: {'iterations': 722, 'learning_rate': 0.13287909412510926, 'depth': 7, 'l2_leaf_reg': 4.520547787334923, 'bagging_temperature': 0.42757825870232313, 'random_strength': 3.754363268133262, 'border_count': 288, 'grow_policy': 'SymmetricTree'}.\n",
            "[I 2025-03-08 01:12:34,330] Trial 141 finished with values: [0.7310344827586207, 0.7220902612826603] and parameters: {'iterations': 632, 'learning_rate': 0.16815183076315832, 'depth': 6, 'l2_leaf_reg': 7.307681360703898, 'bagging_temperature': 0.9160196978940194, 'random_strength': 15.526653085025035, 'border_count': 487, 'grow_policy': 'SymmetricTree'}.\n",
            "[I 2025-03-08 01:12:39,853] Trial 139 finished with values: [0.7062279670975323, 0.7030878859857482] and parameters: {'iterations': 981, 'learning_rate': 0.05803677329346517, 'depth': 8, 'l2_leaf_reg': 0.4654135861770293, 'bagging_temperature': 0.9943447619447823, 'random_strength': 3.3158488962783568, 'border_count': 218, 'grow_policy': 'Lossguide'}.\n",
            "[I 2025-03-08 01:12:42,282] Trial 142 finished with values: [0.6513872135102533, 0.6567695961995249] and parameters: {'iterations': 682, 'learning_rate': 0.02628589037723658, 'depth': 5, 'l2_leaf_reg': 3.366013725091381, 'bagging_temperature': 0.042158529064767136, 'random_strength': 14.852145249732077, 'border_count': 302, 'grow_policy': 'SymmetricTree'}.\n",
            "[I 2025-03-08 01:13:00,459] Trial 144 finished with values: [0.7409568261376897, 0.7363420427553444] and parameters: {'iterations': 910, 'learning_rate': 0.1874434704301564, 'depth': 7, 'l2_leaf_reg': 9.401923364381066, 'bagging_temperature': 0.7826814150199959, 'random_strength': 13.621570829059632, 'border_count': 419, 'grow_policy': 'SymmetricTree'}.\n",
            "[I 2025-03-08 01:13:01,907] Trial 143 finished with values: [0.7334109429569267, 0.7280285035629454] and parameters: {'iterations': 682, 'learning_rate': 0.20675676788715477, 'depth': 8, 'l2_leaf_reg': 2.3011460328607827, 'bagging_temperature': 0.8025412716571139, 'random_strength': 15.611100918786502, 'border_count': 453, 'grow_policy': 'SymmetricTree'}.\n",
            "[I 2025-03-08 01:13:20,262] Trial 145 finished with values: [0.734192037470726, 0.7304038004750594] and parameters: {'iterations': 643, 'learning_rate': 0.1310562361758888, 'depth': 8, 'l2_leaf_reg': 4.394383179120308, 'bagging_temperature': 0.24340722685280447, 'random_strength': 8.53214026857913, 'border_count': 362, 'grow_policy': 'Lossguide'}.\n",
            "[I 2025-03-08 01:13:31,578] Trial 146 finished with values: [0.7383720930232558, 0.7327790973871734] and parameters: {'iterations': 981, 'learning_rate': 0.1273944423789708, 'depth': 8, 'l2_leaf_reg': 5.785654861860958, 'bagging_temperature': 0.9160196978940194, 'random_strength': 9.507813524836072, 'border_count': 482, 'grow_policy': 'Lossguide'}.\n",
            "[I 2025-03-08 01:13:32,373] Trial 147 finished with values: [0.7196702002355713, 0.7173396674584323] and parameters: {'iterations': 378, 'learning_rate': 0.16815183076315832, 'depth': 7, 'l2_leaf_reg': 1.589518261427109, 'bagging_temperature': 0.14072214030581787, 'random_strength': 1.4644488085718823, 'border_count': 423, 'grow_policy': 'Depthwise'}.\n",
            "[I 2025-03-08 01:13:40,852] Trial 149 finished with values: [0.7260843731431966, 0.7262470308788599] and parameters: {'iterations': 926, 'learning_rate': 0.09167880092906192, 'depth': 4, 'l2_leaf_reg': 0.4654135861770293, 'bagging_temperature': 0.8385652439281511, 'random_strength': 18.423686449774582, 'border_count': 497, 'grow_policy': 'SymmetricTree'}.\n",
            "[I 2025-03-08 01:14:02,632] Trial 148 finished with values: [0.7430232558139535, 0.7375296912114014] and parameters: {'iterations': 981, 'learning_rate': 0.20675676788715477, 'depth': 8, 'l2_leaf_reg': 7.767379768212127, 'bagging_temperature': 0.15306014038708649, 'random_strength': 2.125427888190484, 'border_count': 497, 'grow_policy': 'SymmetricTree'}.\n",
            "[I 2025-03-08 01:14:04,031] Trial 150 finished with values: [0.7299355594610427, 0.7262470308788599] and parameters: {'iterations': 890, 'learning_rate': 0.1273944423789708, 'depth': 8, 'l2_leaf_reg': 9.324447305512294, 'bagging_temperature': 0.5896364511224796, 'random_strength': 4.379465651420864, 'border_count': 288, 'grow_policy': 'Lossguide'}.\n",
            "[I 2025-03-08 01:14:11,386] Trial 151 finished with values: [0.7224513847967, 0.7203087885985748] and parameters: {'iterations': 306, 'learning_rate': 0.15549626004498748, 'depth': 6, 'l2_leaf_reg': 7.811802142244153, 'bagging_temperature': 0.08852514707483661, 'random_strength': 1.4644488085718823, 'border_count': 499, 'grow_policy': 'Depthwise'}.\n",
            "[I 2025-03-08 01:14:11,890] Trial 152 finished with values: [0.7184241019698725, 0.7114014251781473] and parameters: {'iterations': 282, 'learning_rate': 0.15549626004498748, 'depth': 6, 'l2_leaf_reg': 7.811802142244153, 'bagging_temperature': 0.5949963341278236, 'random_strength': 6.406315005412847, 'border_count': 370, 'grow_policy': 'Depthwise'}.\n",
            "[I 2025-03-08 01:14:18,107] Trial 154 finished with values: [0.7303634232121923, 0.7268408551068883] and parameters: {'iterations': 375, 'learning_rate': 0.1874434704301564, 'depth': 7, 'l2_leaf_reg': 1.589518261427109, 'bagging_temperature': 0.7826814150199959, 'random_strength': 13.621570829059632, 'border_count': 482, 'grow_policy': 'SymmetricTree'}.\n",
            "[I 2025-03-08 01:14:29,424] Trial 155 finished with values: [0.732824427480916, 0.7298099762470309] and parameters: {'iterations': 910, 'learning_rate': 0.1363779791086909, 'depth': 6, 'l2_leaf_reg': 1.589518261427109, 'bagging_temperature': 0.14072214030581787, 'random_strength': 11.433475868718535, 'border_count': 280, 'grow_policy': 'SymmetricTree'}.\n",
            "[I 2025-03-08 01:14:39,721] Trial 153 finished with values: [0.7376381617219313, 0.732185273159145] and parameters: {'iterations': 890, 'learning_rate': 0.15457886586405556, 'depth': 8, 'l2_leaf_reg': 9.324447305512294, 'bagging_temperature': 0.8025412716571139, 'random_strength': 4.379465651420864, 'border_count': 497, 'grow_policy': 'SymmetricTree'}.\n",
            "[I 2025-03-08 01:14:45,561] Trial 157 finished with values: [0.7365304914150385, 0.7357482185273159] and parameters: {'iterations': 628, 'learning_rate': 0.20675676788715477, 'depth': 5, 'l2_leaf_reg': 2.3011460328607827, 'bagging_temperature': 0.08852514707483661, 'random_strength': 1.4644488085718823, 'border_count': 497, 'grow_policy': 'SymmetricTree'}.\n",
            "[I 2025-03-08 01:15:07,477] Trial 158 finished with values: [0.7219003476245655, 0.7149643705463183] and parameters: {'iterations': 375, 'learning_rate': 0.1273944423789708, 'depth': 9, 'l2_leaf_reg': 1.589518261427109, 'bagging_temperature': 0.6095678158105144, 'random_strength': 3.902179003137812, 'border_count': 453, 'grow_policy': 'SymmetricTree'}.\n",
            "[I 2025-03-08 01:15:07,531] Trial 156 finished with values: [0.7393364928909952, 0.7387173396674585] and parameters: {'iterations': 981, 'learning_rate': 0.0684171873910011, 'depth': 9, 'l2_leaf_reg': 3.366013725091381, 'bagging_temperature': 0.6095678158105144, 'random_strength': 11.731129728173666, 'border_count': 482, 'grow_policy': 'Lossguide'}.\n",
            "[I 2025-03-08 01:15:17,530] Trial 159 finished with values: [0.7401296405421331, 0.7381235154394299] and parameters: {'iterations': 870, 'learning_rate': 0.2234818111056411, 'depth': 6, 'l2_leaf_reg': 0.03349975982480614, 'bagging_temperature': 0.23855359034954815, 'random_strength': 13.992265374617684, 'border_count': 482, 'grow_policy': 'SymmetricTree'}.\n",
            "[I 2025-03-08 01:15:32,572] Trial 160 finished with values: [0.7283304246655032, 0.7226840855106889] and parameters: {'iterations': 910, 'learning_rate': 0.152483037233295, 'depth': 8, 'l2_leaf_reg': 4.520547787334923, 'bagging_temperature': 0.280031330488022, 'random_strength': 13.539381858744315, 'border_count': 280, 'grow_policy': 'SymmetricTree'}.\n",
            "[I 2025-03-08 01:15:43,539] Trial 161 finished with values: [0.7408716136631331, 0.7387173396674585] and parameters: {'iterations': 870, 'learning_rate': 0.20675676788715477, 'depth': 8, 'l2_leaf_reg': 5.785654861860958, 'bagging_temperature': 0.9943447619447823, 'random_strength': 9.507813524836072, 'border_count': 482, 'grow_policy': 'SymmetricTree'}.\n",
            "[I 2025-03-08 01:15:57,452] Trial 163 finished with values: [0.735981308411215, 0.7315914489311164] and parameters: {'iterations': 926, 'learning_rate': 0.15549626004498748, 'depth': 5, 'l2_leaf_reg': 8.555501625256957, 'bagging_temperature': 0.8037989283961025, 'random_strength': 11.433475868718535, 'border_count': 351, 'grow_policy': 'Depthwise'}.\n",
            "[I 2025-03-08 01:16:03,091] Trial 162 finished with values: [0.7399650959860384, 0.7345605700712589] and parameters: {'iterations': 682, 'learning_rate': 0.12483295917146002, 'depth': 9, 'l2_leaf_reg': 1.3677931856478007, 'bagging_temperature': 0.014233091168161072, 'random_strength': 15.611100918786502, 'border_count': 453, 'grow_policy': 'Depthwise'}.\n",
            "[I 2025-03-08 01:16:11,097] Trial 164 finished with values: [0.7377622377622378, 0.7327790973871734] and parameters: {'iterations': 981, 'learning_rate': 0.12483295917146002, 'depth': 6, 'l2_leaf_reg': 7.307681360703898, 'bagging_temperature': 0.9943447619447823, 'random_strength': 9.507813524836072, 'border_count': 482, 'grow_policy': 'SymmetricTree'}.\n",
            "[I 2025-03-08 01:16:32,266] Trial 165 finished with values: [0.7358490566037735, 0.7339667458432304] and parameters: {'iterations': 949, 'learning_rate': 0.2494224747552621, 'depth': 8, 'l2_leaf_reg': 2.3011460328607827, 'bagging_temperature': 0.23855359034954815, 'random_strength': 5.937928654272173, 'border_count': 442, 'grow_policy': 'Depthwise'}.\n",
            "[I 2025-03-08 01:16:38,238] Trial 166 finished with values: [0.7410029498525074, 0.7393111638954869] and parameters: {'iterations': 870, 'learning_rate': 0.20675676788715477, 'depth': 8, 'l2_leaf_reg': 7.307681360703898, 'bagging_temperature': 0.9943447619447823, 'random_strength': 15.526653085025035, 'border_count': 482, 'grow_policy': 'SymmetricTree'}.\n",
            "[I 2025-03-08 01:16:58,648] Trial 168 finished with values: [0.7384435342305442, 0.7345605700712589] and parameters: {'iterations': 748, 'learning_rate': 0.2950264154178138, 'depth': 7, 'l2_leaf_reg': 1.0257168966963008, 'bagging_temperature': 0.08852514707483661, 'random_strength': 14.94924990994823, 'border_count': 499, 'grow_policy': 'Depthwise'}.\n",
            "[I 2025-03-08 01:17:05,543] Trial 167 finished with values: [0.7396937573616019, 0.7375296912114014] and parameters: {'iterations': 981, 'learning_rate': 0.1273944423789708, 'depth': 8, 'l2_leaf_reg': 7.307681360703898, 'bagging_temperature': 0.5850042389029892, 'random_strength': 10.750016813964894, 'border_count': 487, 'grow_policy': 'Lossguide'}.\n",
            "[I 2025-03-08 01:17:22,217] Trial 169 finished with values: [0.7314218841427735, 0.7274346793349169] and parameters: {'iterations': 756, 'learning_rate': 0.19415853900067598, 'depth': 8, 'l2_leaf_reg': 0.4654135861770293, 'bagging_temperature': 0.7585477519164493, 'random_strength': 14.94924990994823, 'border_count': 387, 'grow_policy': 'Depthwise'}.\n",
            "[I 2025-03-08 01:17:40,806] Trial 171 finished with values: [0.7403508771929824, 0.7363420427553444] and parameters: {'iterations': 981, 'learning_rate': 0.23735364260073935, 'depth': 6, 'l2_leaf_reg': 7.307681360703898, 'bagging_temperature': 0.1690766910263668, 'random_strength': 15.526653085025035, 'border_count': 487, 'grow_policy': 'Depthwise'}.\n",
            "[I 2025-03-08 01:17:59,727] Trial 170 finished with values: [0.7259953161592506, 0.7220902612826603] and parameters: {'iterations': 704, 'learning_rate': 0.2950264154178138, 'depth': 10, 'l2_leaf_reg': 3.2612400974596234, 'bagging_temperature': 0.25291827744144024, 'random_strength': 11.73208364266712, 'border_count': 453, 'grow_policy': 'SymmetricTree'}.\n",
            "[I 2025-03-08 01:18:15,916] Trial 172 finished with values: [0.7399650959860384, 0.7345605700712589] and parameters: {'iterations': 981, 'learning_rate': 0.23053716399222446, 'depth': 9, 'l2_leaf_reg': 5.785654861860958, 'bagging_temperature': 0.4246477292774874, 'random_strength': 9.507813524836072, 'border_count': 482, 'grow_policy': 'Lossguide'}.\n",
            "[I 2025-03-08 01:18:19,597] Trial 174 finished with values: [0.7106184364060677, 0.7054631828978623] and parameters: {'iterations': 246, 'learning_rate': 0.20675676788715477, 'depth': 6, 'l2_leaf_reg': 7.307681360703898, 'bagging_temperature': 0.7816841609641637, 'random_strength': 4.287665471008125, 'border_count': 497, 'grow_policy': 'SymmetricTree'}.\n",
            "[I 2025-03-08 01:18:26,087] Trial 173 finished with values: [0.7276995305164319, 0.7244655581947743] and parameters: {'iterations': 772, 'learning_rate': 0.10192061363117765, 'depth': 8, 'l2_leaf_reg': 8.555501625256957, 'bagging_temperature': 0.25291827744144024, 'random_strength': 2.125427888190484, 'border_count': 482, 'grow_policy': 'Depthwise'}.\n",
            "[I 2025-03-08 01:18:32,677] Trial 175 finished with values: [0.7273788674839463, 0.7226840855106889] and parameters: {'iterations': 722, 'learning_rate': 0.16815183076315832, 'depth': 7, 'l2_leaf_reg': 8.033469451953787, 'bagging_temperature': 0.9817237227904648, 'random_strength': 15.526653085025035, 'border_count': 470, 'grow_policy': 'SymmetricTree'}.\n",
            "[I 2025-03-08 01:19:07,774] Trial 177 finished with values: [0.7476525821596244, 0.7446555819477435] and parameters: {'iterations': 981, 'learning_rate': 0.1273944423789708, 'depth': 8, 'l2_leaf_reg': 1.9816475563768263, 'bagging_temperature': 0.9160196978940194, 'random_strength': 4.998111798338843, 'border_count': 482, 'grow_policy': 'Lossguide'}.\n",
            "[I 2025-03-08 01:19:11,765] Trial 176 finished with values: [0.7409144196951934, 0.7375296912114014] and parameters: {'iterations': 926, 'learning_rate': 0.2950264154178138, 'depth': 9, 'l2_leaf_reg': 8.555501625256957, 'bagging_temperature': 0.6095678158105144, 'random_strength': 14.94924990994823, 'border_count': 482, 'grow_policy': 'SymmetricTree'}.\n",
            "[I 2025-03-08 01:19:27,096] Trial 178 finished with values: [0.7507297139521307, 0.746437054631829] and parameters: {'iterations': 926, 'learning_rate': 0.2950264154178138, 'depth': 7, 'l2_leaf_reg': 9.815306297648444, 'bagging_temperature': 0.25291827744144024, 'random_strength': 14.94924990994823, 'border_count': 497, 'grow_policy': 'SymmetricTree'}.\n",
            "[I 2025-03-08 01:19:30,399] Trial 179 finished with values: [0.6972690296339338, 0.6906175771971497] and parameters: {'iterations': 643, 'learning_rate': 0.15849987171807256, 'depth': 8, 'l2_leaf_reg': 4.394383179120308, 'bagging_temperature': 0.25291827744144024, 'random_strength': 8.53214026857913, 'border_count': 166, 'grow_policy': 'Lossguide'}.\n",
            "[I 2025-03-08 01:19:36,700] Trial 181 finished with values: [0.6786334684423856, 0.6704275534441805] and parameters: {'iterations': 890, 'learning_rate': 0.12483295917146002, 'depth': 5, 'l2_leaf_reg': 9.324447305512294, 'bagging_temperature': 0.6095678158105144, 'random_strength': 11.73208364266712, 'border_count': 106, 'grow_policy': 'SymmetricTree'}.\n",
            "[I 2025-03-08 01:19:50,318] Trial 180 finished with values: [0.7219917012448133, 0.7214964370546318] and parameters: {'iterations': 643, 'learning_rate': 0.1310562361758888, 'depth': 8, 'l2_leaf_reg': 4.394383179120308, 'bagging_temperature': 0.9817237227904648, 'random_strength': 8.53214026857913, 'border_count': 482, 'grow_policy': 'Depthwise'}.\n",
            "[I 2025-03-08 01:19:59,417] Trial 182 finished with values: [0.7201405152224825, 0.7161520190023754] and parameters: {'iterations': 375, 'learning_rate': 0.12483295917146002, 'depth': 9, 'l2_leaf_reg': 1.3677931856478007, 'bagging_temperature': 0.6095678158105144, 'random_strength': 1.4644488085718823, 'border_count': 380, 'grow_policy': 'SymmetricTree'}.\n",
            "[I 2025-03-08 01:20:12,563] Trial 183 finished with values: [0.735981308411215, 0.7315914489311164] and parameters: {'iterations': 942, 'learning_rate': 0.15457886586405556, 'depth': 6, 'l2_leaf_reg': 9.815306297648444, 'bagging_temperature': 0.15306014038708649, 'random_strength': 2.125427888190484, 'border_count': 497, 'grow_policy': 'SymmetricTree'}.\n",
            "[I 2025-03-08 01:20:32,770] Trial 184 finished with values: [0.7228486646884273, 0.7226840855106889] and parameters: {'iterations': 410, 'learning_rate': 0.12483295917146002, 'depth': 10, 'l2_leaf_reg': 1.3677931856478007, 'bagging_temperature': 0.14126554881738984, 'random_strength': 11.73208364266712, 'border_count': 453, 'grow_policy': 'SymmetricTree'}.\n",
            "[I 2025-03-08 01:20:34,068] Trial 185 finished with values: [0.733955659276546, 0.7292161520190024] and parameters: {'iterations': 729, 'learning_rate': 0.15457886586405556, 'depth': 8, 'l2_leaf_reg': 9.815306297648444, 'bagging_temperature': 0.08852514707483661, 'random_strength': 3.754363268133262, 'border_count': 497, 'grow_policy': 'Lossguide'}.\n",
            "[I 2025-03-08 01:20:53,433] Trial 186 finished with values: [0.7312206572769953, 0.7280285035629454] and parameters: {'iterations': 576, 'learning_rate': 0.2234818111056411, 'depth': 8, 'l2_leaf_reg': 2.9465844670829417, 'bagging_temperature': 0.23855359034954815, 'random_strength': 13.992265374617684, 'border_count': 482, 'grow_policy': 'Depthwise'}.\n",
            "[I 2025-03-08 01:20:59,833] Trial 187 finished with values: [0.7260034904013961, 0.7203087885985748] and parameters: {'iterations': 722, 'learning_rate': 0.0744960549877576, 'depth': 7, 'l2_leaf_reg': 8.419705012399795, 'bagging_temperature': 0.21807327969201218, 'random_strength': 15.526653085025035, 'border_count': 493, 'grow_policy': 'Depthwise'}.\n",
            "[I 2025-03-08 01:21:14,504] Trial 188 finished with values: [0.7285302593659942, 0.7203087885985748] and parameters: {'iterations': 280, 'learning_rate': 0.12483295917146002, 'depth': 10, 'l2_leaf_reg': 1.3677931856478007, 'bagging_temperature': 0.5117949216400575, 'random_strength': 15.611100918786502, 'border_count': 453, 'grow_policy': 'Depthwise'}.\n",
            "[I 2025-03-08 01:21:27,536] Trial 189 finished with values: [0.7388758782201406, 0.7351543942992874] and parameters: {'iterations': 926, 'learning_rate': 0.20675676788715477, 'depth': 8, 'l2_leaf_reg': 8.555501625256957, 'bagging_temperature': 0.5663411600221602, 'random_strength': 2.125427888190484, 'border_count': 351, 'grow_policy': 'SymmetricTree'}.\n",
            "[I 2025-03-08 01:21:35,281] Trial 190 finished with values: [0.728126834997064, 0.7250593824228029] and parameters: {'iterations': 632, 'learning_rate': 0.16815183076315832, 'depth': 8, 'l2_leaf_reg': 7.307681360703898, 'bagging_temperature': 0.9160196978940194, 'random_strength': 15.526653085025035, 'border_count': 487, 'grow_policy': 'Depthwise'}.\n",
            "[I 2025-03-08 01:21:55,993] Trial 191 finished with values: [0.7466196355085244, 0.744061757719715] and parameters: {'iterations': 949, 'learning_rate': 0.20675676788715477, 'depth': 8, 'l2_leaf_reg': 7.307681360703898, 'bagging_temperature': 0.0011002683790353185, 'random_strength': 4.079293424742734, 'border_count': 487, 'grow_policy': 'SymmetricTree'}.\n",
            "[I 2025-03-08 01:22:12,525] Trial 192 finished with values: [0.7337624341720305, 0.7298099762470309] and parameters: {'iterations': 870, 'learning_rate': 0.20675676788715477, 'depth': 9, 'l2_leaf_reg': 8.555501625256957, 'bagging_temperature': 0.1690766910263668, 'random_strength': 2.125427888190484, 'border_count': 309, 'grow_policy': 'SymmetricTree'}.\n",
            "[I 2025-03-08 01:22:23,831] Trial 194 finished with values: [0.7292035398230089, 0.7274346793349169] and parameters: {'iterations': 910, 'learning_rate': 0.152483037233295, 'depth': 6, 'l2_leaf_reg': 4.520547787334923, 'bagging_temperature': 0.6959357655502437, 'random_strength': 11.433475868718535, 'border_count': 280, 'grow_policy': 'SymmetricTree'}.\n",
            "[I 2025-03-08 01:22:24,904] Trial 193 finished with values: [0.7269544924154026, 0.7220902612826603] and parameters: {'iterations': 926, 'learning_rate': 0.11528046891205433, 'depth': 8, 'l2_leaf_reg': 4.394383179120308, 'bagging_temperature': 0.1690766910263668, 'random_strength': 2.125427888190484, 'border_count': 351, 'grow_policy': 'Lossguide'}.\n",
            "[I 2025-03-08 01:22:30,355] Trial 196 finished with values: [0.7388535031847133, 0.732185273159145] and parameters: {'iterations': 682, 'learning_rate': 0.12483295917146002, 'depth': 5, 'l2_leaf_reg': 3.388861201628762, 'bagging_temperature': 0.6095678158105144, 'random_strength': 15.611100918786502, 'border_count': 453, 'grow_policy': 'SymmetricTree'}.\n",
            "[I 2025-03-08 01:22:38,855] Trial 197 finished with values: [0.7326388888888888, 0.7256532066508313] and parameters: {'iterations': 375, 'learning_rate': 0.2950264154178138, 'depth': 7, 'l2_leaf_reg': 3.2612400974596234, 'bagging_temperature': 0.6095678158105144, 'random_strength': 14.94924990994823, 'border_count': 453, 'grow_policy': 'SymmetricTree'}.\n",
            "[I 2025-03-08 01:22:51,356] Trial 195 finished with values: [0.7408695652173913, 0.7345605700712589] and parameters: {'iterations': 870, 'learning_rate': 0.20675676788715477, 'depth': 8, 'l2_leaf_reg': 8.555501625256957, 'bagging_temperature': 0.25291827744144024, 'random_strength': 14.94924990994823, 'border_count': 512, 'grow_policy': 'SymmetricTree'}.\n",
            "[I 2025-03-08 01:23:05,470] Trial 198 finished with values: [0.7407407407407407, 0.7339667458432304] and parameters: {'iterations': 926, 'learning_rate': 0.22230080426933738, 'depth': 8, 'l2_leaf_reg': 9.324447305512294, 'bagging_temperature': 0.5026356228802487, 'random_strength': 4.379465651420864, 'border_count': 288, 'grow_policy': 'SymmetricTree'}.\n",
            "[I 2025-03-08 01:23:08,879] Trial 199 finished with values: [0.7257971014492753, 0.7191211401425178] and parameters: {'iterations': 643, 'learning_rate': 0.2950264154178138, 'depth': 8, 'l2_leaf_reg': 3.2612400974596234, 'bagging_temperature': 0.24340722685280447, 'random_strength': 17.520421813327605, 'border_count': 362, 'grow_policy': 'Depthwise'}.\n"
          ]
        }
      ]
    },
    {
      "cell_type": "code",
      "source": [
        "pareto_front_trials = study_cb.best_trials\n",
        "\n",
        "for trial in pareto_front_trials:\n",
        "    print(f\"Trial number: {trial.number}\")\n",
        "    print(f\"Parameters: {trial.params}\")\n",
        "    print(f\"Objective values: {trial.values}\")\n",
        "    print(\"\\n\")"
      ],
      "metadata": {
        "colab": {
          "base_uri": "https://localhost:8080/"
        },
        "id": "uW2cr2FmLhvV",
        "outputId": "817d92b6-3695-40b0-e308-3246160ad09f"
      },
      "execution_count": null,
      "outputs": [
        {
          "output_type": "stream",
          "name": "stdout",
          "text": [
            "Trial number: 46\n",
            "Parameters: {'iterations': 926, 'learning_rate': 0.296267114929445, 'depth': 4, 'l2_leaf_reg': 1.8555891932663158, 'bagging_temperature': 0.10275570573367843, 'random_strength': 17.73150176774144, 'border_count': 248, 'grow_policy': 'Depthwise'}\n",
            "Objective values: [0.7334504979496193, 0.7298099762470309]\n",
            "\n",
            "\n"
          ]
        }
      ]
    },
    {
      "cell_type": "code",
      "source": [
        "best_parameters = trial.params\n",
        "\n",
        "best_cb = CatBoostClassifier(**best_parameters, verbose=0)\n",
        "best_cb.fit(X_train, y_train)\n",
        "\n",
        "pred_train = best_cb.predict(X_train)\n",
        "pred_test = best_cb.predict(X_test)\n",
        "\n",
        "classification_metrics(y_train, pred_train, y_test, pred_test)"
      ],
      "metadata": {
        "colab": {
          "base_uri": "https://localhost:8080/"
        },
        "id": "W-_j2_qCLtn1",
        "outputId": "e7421a4f-7d44-48ca-ec59-5d9906ffde51"
      },
      "execution_count": null,
      "outputs": [
        {
          "output_type": "stream",
          "name": "stdout",
          "text": [
            "Accuracy_train: 0.9496434937611408\n",
            "Precision_train: 0.9484629294755877\n",
            "Recall_train: 0.9493212669683257\n",
            "F1_train: 0.9488919041157847\n",
            "----------------------\n",
            "Accuracy_test: 0.7298099762470309\n",
            "Precision_test: 0.7356051703877791\n",
            "Recall_test: 0.7313084112149533\n",
            "F1_test: 0.7334504979496193\n"
          ]
        }
      ]
    },
    {
      "cell_type": "code",
      "source": [
        "import optuna.visualization as vis\n",
        "\n",
        "def target_f1(trial):\n",
        "    return trial.values[0]\n",
        "\n",
        "vis.plot_param_importances(study_cb).show()\n",
        "vis.plot_optimization_history(study_cb, target=target_f1, target_name=\"f1 score\").show()\n",
        "vis.plot_parallel_coordinate(study_cb, target=target_f1, target_name=\"f1 score\").show()"
      ],
      "metadata": {
        "colab": {
          "base_uri": "https://localhost:8080/",
          "height": 1000
        },
        "id": "82gpRuLhML7j",
        "outputId": "940cc49b-d951-40d9-8e52-4fc81d389556"
      },
      "execution_count": null,
      "outputs": [
        {
          "output_type": "display_data",
          "data": {
            "text/html": [
              "<html>\n",
              "<head><meta charset=\"utf-8\" /></head>\n",
              "<body>\n",
              "    <div>            <script src=\"https://cdnjs.cloudflare.com/ajax/libs/mathjax/2.7.5/MathJax.js?config=TeX-AMS-MML_SVG\"></script><script type=\"text/javascript\">if (window.MathJax && window.MathJax.Hub && window.MathJax.Hub.Config) {window.MathJax.Hub.Config({SVG: {font: \"STIX-Web\"}});}</script>                <script type=\"text/javascript\">window.PlotlyConfig = {MathJaxConfig: 'local'};</script>\n",
              "        <script charset=\"utf-8\" src=\"https://cdn.plot.ly/plotly-2.35.2.min.js\"></script>                <div id=\"f36503b3-7735-4bea-8b2a-be20c18789b3\" class=\"plotly-graph-div\" style=\"height:525px; width:100%;\"></div>            <script type=\"text/javascript\">                                    window.PLOTLYENV=window.PLOTLYENV || {};                                    if (document.getElementById(\"f36503b3-7735-4bea-8b2a-be20c18789b3\")) {                    Plotly.newPlot(                        \"f36503b3-7735-4bea-8b2a-be20c18789b3\",                        [{\"cliponaxis\":false,\"hovertemplate\":[\"grow_policy (CategoricalDistribution): 0.0014717904197429047\\u003cextra\\u003e\\u003c\\u002fextra\\u003e\",\"l2_leaf_reg (FloatDistribution): 0.002536031957234016\\u003cextra\\u003e\\u003c\\u002fextra\\u003e\",\"random_strength (FloatDistribution): 0.0026384539675302866\\u003cextra\\u003e\\u003c\\u002fextra\\u003e\",\"depth (IntDistribution): 0.006263502814266733\\u003cextra\\u003e\\u003c\\u002fextra\\u003e\",\"iterations (IntDistribution): 0.023119691229822086\\u003cextra\\u003e\\u003c\\u002fextra\\u003e\",\"bagging_temperature (FloatDistribution): 0.03565384992116786\\u003cextra\\u003e\\u003c\\u002fextra\\u003e\",\"border_count (IntDistribution): 0.3034962423075618\\u003cextra\\u003e\\u003c\\u002fextra\\u003e\",\"learning_rate (FloatDistribution): 0.6248204373826743\\u003cextra\\u003e\\u003c\\u002fextra\\u003e\"],\"name\":\"Objective Value 0\",\"orientation\":\"h\",\"text\":[\"\\u003c0.01\",\"\\u003c0.01\",\"\\u003c0.01\",\"\\u003c0.01\",\"0.02\",\"0.04\",\"0.30\",\"0.62\"],\"textposition\":\"outside\",\"x\":[0.0014717904197429047,0.002536031957234016,0.0026384539675302866,0.006263502814266733,0.023119691229822086,0.03565384992116786,0.3034962423075618,0.6248204373826743],\"y\":[\"grow_policy\",\"l2_leaf_reg\",\"random_strength\",\"depth\",\"iterations\",\"bagging_temperature\",\"border_count\",\"learning_rate\"],\"type\":\"bar\"},{\"cliponaxis\":false,\"hovertemplate\":[\"grow_policy (CategoricalDistribution): 0.002568120148119892\\u003cextra\\u003e\\u003c\\u002fextra\\u003e\",\"depth (IntDistribution): 0.0027275204800961727\\u003cextra\\u003e\\u003c\\u002fextra\\u003e\",\"random_strength (FloatDistribution): 0.0031738973716598285\\u003cextra\\u003e\\u003c\\u002fextra\\u003e\",\"l2_leaf_reg (FloatDistribution): 0.004806429461681869\\u003cextra\\u003e\\u003c\\u002fextra\\u003e\",\"iterations (IntDistribution): 0.01457391363322023\\u003cextra\\u003e\\u003c\\u002fextra\\u003e\",\"bagging_temperature (FloatDistribution): 0.025282197495174005\\u003cextra\\u003e\\u003c\\u002fextra\\u003e\",\"learning_rate (FloatDistribution): 0.4289987655395067\\u003cextra\\u003e\\u003c\\u002fextra\\u003e\",\"border_count (IntDistribution): 0.5178691558705413\\u003cextra\\u003e\\u003c\\u002fextra\\u003e\"],\"name\":\"Objective Value 1\",\"orientation\":\"h\",\"text\":[\"\\u003c0.01\",\"\\u003c0.01\",\"\\u003c0.01\",\"\\u003c0.01\",\"0.01\",\"0.03\",\"0.43\",\"0.52\"],\"textposition\":\"outside\",\"x\":[0.002568120148119892,0.0027275204800961727,0.0031738973716598285,0.004806429461681869,0.01457391363322023,0.025282197495174005,0.4289987655395067,0.5178691558705413],\"y\":[\"grow_policy\",\"depth\",\"random_strength\",\"l2_leaf_reg\",\"iterations\",\"bagging_temperature\",\"learning_rate\",\"border_count\"],\"type\":\"bar\"}],                        {\"title\":{\"text\":\"Hyperparameter Importances\"},\"xaxis\":{\"title\":{\"text\":\"Hyperparameter Importance\"}},\"yaxis\":{\"title\":{\"text\":\"Hyperparameter\"}},\"template\":{\"data\":{\"histogram2dcontour\":[{\"type\":\"histogram2dcontour\",\"colorbar\":{\"outlinewidth\":0,\"ticks\":\"\"},\"colorscale\":[[0.0,\"#0d0887\"],[0.1111111111111111,\"#46039f\"],[0.2222222222222222,\"#7201a8\"],[0.3333333333333333,\"#9c179e\"],[0.4444444444444444,\"#bd3786\"],[0.5555555555555556,\"#d8576b\"],[0.6666666666666666,\"#ed7953\"],[0.7777777777777778,\"#fb9f3a\"],[0.8888888888888888,\"#fdca26\"],[1.0,\"#f0f921\"]]}],\"choropleth\":[{\"type\":\"choropleth\",\"colorbar\":{\"outlinewidth\":0,\"ticks\":\"\"}}],\"histogram2d\":[{\"type\":\"histogram2d\",\"colorbar\":{\"outlinewidth\":0,\"ticks\":\"\"},\"colorscale\":[[0.0,\"#0d0887\"],[0.1111111111111111,\"#46039f\"],[0.2222222222222222,\"#7201a8\"],[0.3333333333333333,\"#9c179e\"],[0.4444444444444444,\"#bd3786\"],[0.5555555555555556,\"#d8576b\"],[0.6666666666666666,\"#ed7953\"],[0.7777777777777778,\"#fb9f3a\"],[0.8888888888888888,\"#fdca26\"],[1.0,\"#f0f921\"]]}],\"heatmap\":[{\"type\":\"heatmap\",\"colorbar\":{\"outlinewidth\":0,\"ticks\":\"\"},\"colorscale\":[[0.0,\"#0d0887\"],[0.1111111111111111,\"#46039f\"],[0.2222222222222222,\"#7201a8\"],[0.3333333333333333,\"#9c179e\"],[0.4444444444444444,\"#bd3786\"],[0.5555555555555556,\"#d8576b\"],[0.6666666666666666,\"#ed7953\"],[0.7777777777777778,\"#fb9f3a\"],[0.8888888888888888,\"#fdca26\"],[1.0,\"#f0f921\"]]}],\"heatmapgl\":[{\"type\":\"heatmapgl\",\"colorbar\":{\"outlinewidth\":0,\"ticks\":\"\"},\"colorscale\":[[0.0,\"#0d0887\"],[0.1111111111111111,\"#46039f\"],[0.2222222222222222,\"#7201a8\"],[0.3333333333333333,\"#9c179e\"],[0.4444444444444444,\"#bd3786\"],[0.5555555555555556,\"#d8576b\"],[0.6666666666666666,\"#ed7953\"],[0.7777777777777778,\"#fb9f3a\"],[0.8888888888888888,\"#fdca26\"],[1.0,\"#f0f921\"]]}],\"contourcarpet\":[{\"type\":\"contourcarpet\",\"colorbar\":{\"outlinewidth\":0,\"ticks\":\"\"}}],\"contour\":[{\"type\":\"contour\",\"colorbar\":{\"outlinewidth\":0,\"ticks\":\"\"},\"colorscale\":[[0.0,\"#0d0887\"],[0.1111111111111111,\"#46039f\"],[0.2222222222222222,\"#7201a8\"],[0.3333333333333333,\"#9c179e\"],[0.4444444444444444,\"#bd3786\"],[0.5555555555555556,\"#d8576b\"],[0.6666666666666666,\"#ed7953\"],[0.7777777777777778,\"#fb9f3a\"],[0.8888888888888888,\"#fdca26\"],[1.0,\"#f0f921\"]]}],\"surface\":[{\"type\":\"surface\",\"colorbar\":{\"outlinewidth\":0,\"ticks\":\"\"},\"colorscale\":[[0.0,\"#0d0887\"],[0.1111111111111111,\"#46039f\"],[0.2222222222222222,\"#7201a8\"],[0.3333333333333333,\"#9c179e\"],[0.4444444444444444,\"#bd3786\"],[0.5555555555555556,\"#d8576b\"],[0.6666666666666666,\"#ed7953\"],[0.7777777777777778,\"#fb9f3a\"],[0.8888888888888888,\"#fdca26\"],[1.0,\"#f0f921\"]]}],\"mesh3d\":[{\"type\":\"mesh3d\",\"colorbar\":{\"outlinewidth\":0,\"ticks\":\"\"}}],\"scatter\":[{\"fillpattern\":{\"fillmode\":\"overlay\",\"size\":10,\"solidity\":0.2},\"type\":\"scatter\"}],\"parcoords\":[{\"type\":\"parcoords\",\"line\":{\"colorbar\":{\"outlinewidth\":0,\"ticks\":\"\"}}}],\"scatterpolargl\":[{\"type\":\"scatterpolargl\",\"marker\":{\"colorbar\":{\"outlinewidth\":0,\"ticks\":\"\"}}}],\"bar\":[{\"error_x\":{\"color\":\"#2a3f5f\"},\"error_y\":{\"color\":\"#2a3f5f\"},\"marker\":{\"line\":{\"color\":\"#E5ECF6\",\"width\":0.5},\"pattern\":{\"fillmode\":\"overlay\",\"size\":10,\"solidity\":0.2}},\"type\":\"bar\"}],\"scattergeo\":[{\"type\":\"scattergeo\",\"marker\":{\"colorbar\":{\"outlinewidth\":0,\"ticks\":\"\"}}}],\"scatterpolar\":[{\"type\":\"scatterpolar\",\"marker\":{\"colorbar\":{\"outlinewidth\":0,\"ticks\":\"\"}}}],\"histogram\":[{\"marker\":{\"pattern\":{\"fillmode\":\"overlay\",\"size\":10,\"solidity\":0.2}},\"type\":\"histogram\"}],\"scattergl\":[{\"type\":\"scattergl\",\"marker\":{\"colorbar\":{\"outlinewidth\":0,\"ticks\":\"\"}}}],\"scatter3d\":[{\"type\":\"scatter3d\",\"line\":{\"colorbar\":{\"outlinewidth\":0,\"ticks\":\"\"}},\"marker\":{\"colorbar\":{\"outlinewidth\":0,\"ticks\":\"\"}}}],\"scattermapbox\":[{\"type\":\"scattermapbox\",\"marker\":{\"colorbar\":{\"outlinewidth\":0,\"ticks\":\"\"}}}],\"scatterternary\":[{\"type\":\"scatterternary\",\"marker\":{\"colorbar\":{\"outlinewidth\":0,\"ticks\":\"\"}}}],\"scattercarpet\":[{\"type\":\"scattercarpet\",\"marker\":{\"colorbar\":{\"outlinewidth\":0,\"ticks\":\"\"}}}],\"carpet\":[{\"aaxis\":{\"endlinecolor\":\"#2a3f5f\",\"gridcolor\":\"white\",\"linecolor\":\"white\",\"minorgridcolor\":\"white\",\"startlinecolor\":\"#2a3f5f\"},\"baxis\":{\"endlinecolor\":\"#2a3f5f\",\"gridcolor\":\"white\",\"linecolor\":\"white\",\"minorgridcolor\":\"white\",\"startlinecolor\":\"#2a3f5f\"},\"type\":\"carpet\"}],\"table\":[{\"cells\":{\"fill\":{\"color\":\"#EBF0F8\"},\"line\":{\"color\":\"white\"}},\"header\":{\"fill\":{\"color\":\"#C8D4E3\"},\"line\":{\"color\":\"white\"}},\"type\":\"table\"}],\"barpolar\":[{\"marker\":{\"line\":{\"color\":\"#E5ECF6\",\"width\":0.5},\"pattern\":{\"fillmode\":\"overlay\",\"size\":10,\"solidity\":0.2}},\"type\":\"barpolar\"}],\"pie\":[{\"automargin\":true,\"type\":\"pie\"}]},\"layout\":{\"autotypenumbers\":\"strict\",\"colorway\":[\"#636efa\",\"#EF553B\",\"#00cc96\",\"#ab63fa\",\"#FFA15A\",\"#19d3f3\",\"#FF6692\",\"#B6E880\",\"#FF97FF\",\"#FECB52\"],\"font\":{\"color\":\"#2a3f5f\"},\"hovermode\":\"closest\",\"hoverlabel\":{\"align\":\"left\"},\"paper_bgcolor\":\"white\",\"plot_bgcolor\":\"#E5ECF6\",\"polar\":{\"bgcolor\":\"#E5ECF6\",\"angularaxis\":{\"gridcolor\":\"white\",\"linecolor\":\"white\",\"ticks\":\"\"},\"radialaxis\":{\"gridcolor\":\"white\",\"linecolor\":\"white\",\"ticks\":\"\"}},\"ternary\":{\"bgcolor\":\"#E5ECF6\",\"aaxis\":{\"gridcolor\":\"white\",\"linecolor\":\"white\",\"ticks\":\"\"},\"baxis\":{\"gridcolor\":\"white\",\"linecolor\":\"white\",\"ticks\":\"\"},\"caxis\":{\"gridcolor\":\"white\",\"linecolor\":\"white\",\"ticks\":\"\"}},\"coloraxis\":{\"colorbar\":{\"outlinewidth\":0,\"ticks\":\"\"}},\"colorscale\":{\"sequential\":[[0.0,\"#0d0887\"],[0.1111111111111111,\"#46039f\"],[0.2222222222222222,\"#7201a8\"],[0.3333333333333333,\"#9c179e\"],[0.4444444444444444,\"#bd3786\"],[0.5555555555555556,\"#d8576b\"],[0.6666666666666666,\"#ed7953\"],[0.7777777777777778,\"#fb9f3a\"],[0.8888888888888888,\"#fdca26\"],[1.0,\"#f0f921\"]],\"sequentialminus\":[[0.0,\"#0d0887\"],[0.1111111111111111,\"#46039f\"],[0.2222222222222222,\"#7201a8\"],[0.3333333333333333,\"#9c179e\"],[0.4444444444444444,\"#bd3786\"],[0.5555555555555556,\"#d8576b\"],[0.6666666666666666,\"#ed7953\"],[0.7777777777777778,\"#fb9f3a\"],[0.8888888888888888,\"#fdca26\"],[1.0,\"#f0f921\"]],\"diverging\":[[0,\"#8e0152\"],[0.1,\"#c51b7d\"],[0.2,\"#de77ae\"],[0.3,\"#f1b6da\"],[0.4,\"#fde0ef\"],[0.5,\"#f7f7f7\"],[0.6,\"#e6f5d0\"],[0.7,\"#b8e186\"],[0.8,\"#7fbc41\"],[0.9,\"#4d9221\"],[1,\"#276419\"]]},\"xaxis\":{\"gridcolor\":\"white\",\"linecolor\":\"white\",\"ticks\":\"\",\"title\":{\"standoff\":15},\"zerolinecolor\":\"white\",\"automargin\":true,\"zerolinewidth\":2},\"yaxis\":{\"gridcolor\":\"white\",\"linecolor\":\"white\",\"ticks\":\"\",\"title\":{\"standoff\":15},\"zerolinecolor\":\"white\",\"automargin\":true,\"zerolinewidth\":2},\"scene\":{\"xaxis\":{\"backgroundcolor\":\"#E5ECF6\",\"gridcolor\":\"white\",\"linecolor\":\"white\",\"showbackground\":true,\"ticks\":\"\",\"zerolinecolor\":\"white\",\"gridwidth\":2},\"yaxis\":{\"backgroundcolor\":\"#E5ECF6\",\"gridcolor\":\"white\",\"linecolor\":\"white\",\"showbackground\":true,\"ticks\":\"\",\"zerolinecolor\":\"white\",\"gridwidth\":2},\"zaxis\":{\"backgroundcolor\":\"#E5ECF6\",\"gridcolor\":\"white\",\"linecolor\":\"white\",\"showbackground\":true,\"ticks\":\"\",\"zerolinecolor\":\"white\",\"gridwidth\":2}},\"shapedefaults\":{\"line\":{\"color\":\"#2a3f5f\"}},\"annotationdefaults\":{\"arrowcolor\":\"#2a3f5f\",\"arrowhead\":0,\"arrowwidth\":1},\"geo\":{\"bgcolor\":\"white\",\"landcolor\":\"#E5ECF6\",\"subunitcolor\":\"white\",\"showland\":true,\"showlakes\":true,\"lakecolor\":\"white\"},\"title\":{\"x\":0.05},\"mapbox\":{\"style\":\"light\"}}}},                        {\"responsive\": true}                    ).then(function(){\n",
              "                            \n",
              "var gd = document.getElementById('f36503b3-7735-4bea-8b2a-be20c18789b3');\n",
              "var x = new MutationObserver(function (mutations, observer) {{\n",
              "        var display = window.getComputedStyle(gd).display;\n",
              "        if (!display || display === 'none') {{\n",
              "            console.log([gd, 'removed!']);\n",
              "            Plotly.purge(gd);\n",
              "            observer.disconnect();\n",
              "        }}\n",
              "}});\n",
              "\n",
              "// Listen for the removal of the full notebook cells\n",
              "var notebookContainer = gd.closest('#notebook-container');\n",
              "if (notebookContainer) {{\n",
              "    x.observe(notebookContainer, {childList: true});\n",
              "}}\n",
              "\n",
              "// Listen for the clearing of the current output cell\n",
              "var outputEl = gd.closest('.output');\n",
              "if (outputEl) {{\n",
              "    x.observe(outputEl, {childList: true});\n",
              "}}\n",
              "\n",
              "                        })                };                            </script>        </div>\n",
              "</body>\n",
              "</html>"
            ]
          },
          "metadata": {}
        },
        {
          "output_type": "display_data",
          "data": {
            "text/html": [
              "<html>\n",
              "<head><meta charset=\"utf-8\" /></head>\n",
              "<body>\n",
              "    <div>            <script src=\"https://cdnjs.cloudflare.com/ajax/libs/mathjax/2.7.5/MathJax.js?config=TeX-AMS-MML_SVG\"></script><script type=\"text/javascript\">if (window.MathJax && window.MathJax.Hub && window.MathJax.Hub.Config) {window.MathJax.Hub.Config({SVG: {font: \"STIX-Web\"}});}</script>                <script type=\"text/javascript\">window.PlotlyConfig = {MathJaxConfig: 'local'};</script>\n",
              "        <script charset=\"utf-8\" src=\"https://cdn.plot.ly/plotly-2.35.2.min.js\"></script>                <div id=\"485c6794-2d6c-40af-9baf-09297564c3af\" class=\"plotly-graph-div\" style=\"height:525px; width:100%;\"></div>            <script type=\"text/javascript\">                                    window.PLOTLYENV=window.PLOTLYENV || {};                                    if (document.getElementById(\"485c6794-2d6c-40af-9baf-09297564c3af\")) {                    Plotly.newPlot(                        \"485c6794-2d6c-40af-9baf-09297564c3af\",                        [{\"mode\":\"markers\",\"name\":\"f1 score\",\"x\":[0,1,2,3,4,5,6,7,8,9,10,11,12,13,14,15,16,17,18,19,20,21,22,23,24,25,26,27,28,29,30,31,32,33,34,35,36,37,38,39,40,41,42,43,44,45,46,47,48,49,50,51,52,53,54,55,56,57,58,59,60,61,62,63,64,65,66,67,68,69,70,71,72,73,74,75,76,77,78,79,80,81,82,83,84,85,86,87,88,89,90,91,92,93,94,95,96,97,98,99],\"y\":[0.7148834429169157,0.5159538357094365,0.673721340388007,0.6945754716981132,0.6811764705882353,0.7148736037624926,0.6921718658034137,0.7076566125290024,0.7201405152224825,0.6814469078179697,0.6718192627824019,0.67018779342723,0.6791788856304986,0.6868327402135231,0.6833236490412551,0.6823806717737183,0.6998813760379596,0.6658696951583981,0.6959578207381371,0.6801909307875895,0.6514084507042254,0.6812278630460449,0.662777129521587,0.7132867132867133,0.687536231884058,0.5975609756097561,0.6057213930348259,0.6842413591095489,0.6365795724465558,0.6777905638665133,0.6590499098015634,0.6830122591943958,0.6373755125951962,0.6843657817109144,0.6875725900116144,0.6943963027151935,0.6650915534554046,0.6666666666666666,0.6344908769864627,0.6729081334113517,0.6678260869565218,0.6951934349355217,0.6900237529691211,0.6497041420118344,0.6607565011820331,0.7015643802647413,0.7334504979496193,0.6888888888888889,0.6682663467306539,0.6646848989298454,0.7216009417304297,0.6705744431418523,0.6788235294117647,0.5975609756097561,0.6618618618618619,0.6583184257602862,0.729745712596097,0.7018160515524312,0.6883500887049083,0.6596244131455399,0.716913946587537,0.5214477211796247,0.6773428232502966,0.6823253082795068,0.7168709865732633,0.6476530005941771,0.7071178529754959,0.7009345794392523,0.6915451895043732,0.724400234055003,0.6965232763700648,0.7093768200349446,0.6769596199524941,0.6770652801848642,0.7141162514827996,0.6843657817109144,0.6939017169923032,0.662004662004662,0.6875369167158889,0.6824364281490243,0.6607565011820331,0.7165586328815556,0.6899408284023668,0.7063679245283019,0.7090694935217904,0.6885630498533725,0.668227033352838,0.7182516243354992,0.6947368421052632,0.6910569105691057,0.6997050147492625,0.6892128279883382,0.6829268292682927,0.6904622586307783,0.6718192627824019,0.4745998608211552,0.6903790087463557,0.6055625790139064,0.6895306859205776,0.717948717948718],\"type\":\"scatter\"},{\"marker\":{\"color\":\"#cccccc\"},\"mode\":\"markers\",\"name\":\"Infeasible Trial\",\"showlegend\":false,\"x\":[],\"y\":[],\"type\":\"scatter\"}],                        {\"title\":{\"text\":\"Optimization History Plot\"},\"xaxis\":{\"title\":{\"text\":\"Trial\"}},\"yaxis\":{\"title\":{\"text\":\"f1 score\"}},\"template\":{\"data\":{\"histogram2dcontour\":[{\"type\":\"histogram2dcontour\",\"colorbar\":{\"outlinewidth\":0,\"ticks\":\"\"},\"colorscale\":[[0.0,\"#0d0887\"],[0.1111111111111111,\"#46039f\"],[0.2222222222222222,\"#7201a8\"],[0.3333333333333333,\"#9c179e\"],[0.4444444444444444,\"#bd3786\"],[0.5555555555555556,\"#d8576b\"],[0.6666666666666666,\"#ed7953\"],[0.7777777777777778,\"#fb9f3a\"],[0.8888888888888888,\"#fdca26\"],[1.0,\"#f0f921\"]]}],\"choropleth\":[{\"type\":\"choropleth\",\"colorbar\":{\"outlinewidth\":0,\"ticks\":\"\"}}],\"histogram2d\":[{\"type\":\"histogram2d\",\"colorbar\":{\"outlinewidth\":0,\"ticks\":\"\"},\"colorscale\":[[0.0,\"#0d0887\"],[0.1111111111111111,\"#46039f\"],[0.2222222222222222,\"#7201a8\"],[0.3333333333333333,\"#9c179e\"],[0.4444444444444444,\"#bd3786\"],[0.5555555555555556,\"#d8576b\"],[0.6666666666666666,\"#ed7953\"],[0.7777777777777778,\"#fb9f3a\"],[0.8888888888888888,\"#fdca26\"],[1.0,\"#f0f921\"]]}],\"heatmap\":[{\"type\":\"heatmap\",\"colorbar\":{\"outlinewidth\":0,\"ticks\":\"\"},\"colorscale\":[[0.0,\"#0d0887\"],[0.1111111111111111,\"#46039f\"],[0.2222222222222222,\"#7201a8\"],[0.3333333333333333,\"#9c179e\"],[0.4444444444444444,\"#bd3786\"],[0.5555555555555556,\"#d8576b\"],[0.6666666666666666,\"#ed7953\"],[0.7777777777777778,\"#fb9f3a\"],[0.8888888888888888,\"#fdca26\"],[1.0,\"#f0f921\"]]}],\"heatmapgl\":[{\"type\":\"heatmapgl\",\"colorbar\":{\"outlinewidth\":0,\"ticks\":\"\"},\"colorscale\":[[0.0,\"#0d0887\"],[0.1111111111111111,\"#46039f\"],[0.2222222222222222,\"#7201a8\"],[0.3333333333333333,\"#9c179e\"],[0.4444444444444444,\"#bd3786\"],[0.5555555555555556,\"#d8576b\"],[0.6666666666666666,\"#ed7953\"],[0.7777777777777778,\"#fb9f3a\"],[0.8888888888888888,\"#fdca26\"],[1.0,\"#f0f921\"]]}],\"contourcarpet\":[{\"type\":\"contourcarpet\",\"colorbar\":{\"outlinewidth\":0,\"ticks\":\"\"}}],\"contour\":[{\"type\":\"contour\",\"colorbar\":{\"outlinewidth\":0,\"ticks\":\"\"},\"colorscale\":[[0.0,\"#0d0887\"],[0.1111111111111111,\"#46039f\"],[0.2222222222222222,\"#7201a8\"],[0.3333333333333333,\"#9c179e\"],[0.4444444444444444,\"#bd3786\"],[0.5555555555555556,\"#d8576b\"],[0.6666666666666666,\"#ed7953\"],[0.7777777777777778,\"#fb9f3a\"],[0.8888888888888888,\"#fdca26\"],[1.0,\"#f0f921\"]]}],\"surface\":[{\"type\":\"surface\",\"colorbar\":{\"outlinewidth\":0,\"ticks\":\"\"},\"colorscale\":[[0.0,\"#0d0887\"],[0.1111111111111111,\"#46039f\"],[0.2222222222222222,\"#7201a8\"],[0.3333333333333333,\"#9c179e\"],[0.4444444444444444,\"#bd3786\"],[0.5555555555555556,\"#d8576b\"],[0.6666666666666666,\"#ed7953\"],[0.7777777777777778,\"#fb9f3a\"],[0.8888888888888888,\"#fdca26\"],[1.0,\"#f0f921\"]]}],\"mesh3d\":[{\"type\":\"mesh3d\",\"colorbar\":{\"outlinewidth\":0,\"ticks\":\"\"}}],\"scatter\":[{\"fillpattern\":{\"fillmode\":\"overlay\",\"size\":10,\"solidity\":0.2},\"type\":\"scatter\"}],\"parcoords\":[{\"type\":\"parcoords\",\"line\":{\"colorbar\":{\"outlinewidth\":0,\"ticks\":\"\"}}}],\"scatterpolargl\":[{\"type\":\"scatterpolargl\",\"marker\":{\"colorbar\":{\"outlinewidth\":0,\"ticks\":\"\"}}}],\"bar\":[{\"error_x\":{\"color\":\"#2a3f5f\"},\"error_y\":{\"color\":\"#2a3f5f\"},\"marker\":{\"line\":{\"color\":\"#E5ECF6\",\"width\":0.5},\"pattern\":{\"fillmode\":\"overlay\",\"size\":10,\"solidity\":0.2}},\"type\":\"bar\"}],\"scattergeo\":[{\"type\":\"scattergeo\",\"marker\":{\"colorbar\":{\"outlinewidth\":0,\"ticks\":\"\"}}}],\"scatterpolar\":[{\"type\":\"scatterpolar\",\"marker\":{\"colorbar\":{\"outlinewidth\":0,\"ticks\":\"\"}}}],\"histogram\":[{\"marker\":{\"pattern\":{\"fillmode\":\"overlay\",\"size\":10,\"solidity\":0.2}},\"type\":\"histogram\"}],\"scattergl\":[{\"type\":\"scattergl\",\"marker\":{\"colorbar\":{\"outlinewidth\":0,\"ticks\":\"\"}}}],\"scatter3d\":[{\"type\":\"scatter3d\",\"line\":{\"colorbar\":{\"outlinewidth\":0,\"ticks\":\"\"}},\"marker\":{\"colorbar\":{\"outlinewidth\":0,\"ticks\":\"\"}}}],\"scattermapbox\":[{\"type\":\"scattermapbox\",\"marker\":{\"colorbar\":{\"outlinewidth\":0,\"ticks\":\"\"}}}],\"scatterternary\":[{\"type\":\"scatterternary\",\"marker\":{\"colorbar\":{\"outlinewidth\":0,\"ticks\":\"\"}}}],\"scattercarpet\":[{\"type\":\"scattercarpet\",\"marker\":{\"colorbar\":{\"outlinewidth\":0,\"ticks\":\"\"}}}],\"carpet\":[{\"aaxis\":{\"endlinecolor\":\"#2a3f5f\",\"gridcolor\":\"white\",\"linecolor\":\"white\",\"minorgridcolor\":\"white\",\"startlinecolor\":\"#2a3f5f\"},\"baxis\":{\"endlinecolor\":\"#2a3f5f\",\"gridcolor\":\"white\",\"linecolor\":\"white\",\"minorgridcolor\":\"white\",\"startlinecolor\":\"#2a3f5f\"},\"type\":\"carpet\"}],\"table\":[{\"cells\":{\"fill\":{\"color\":\"#EBF0F8\"},\"line\":{\"color\":\"white\"}},\"header\":{\"fill\":{\"color\":\"#C8D4E3\"},\"line\":{\"color\":\"white\"}},\"type\":\"table\"}],\"barpolar\":[{\"marker\":{\"line\":{\"color\":\"#E5ECF6\",\"width\":0.5},\"pattern\":{\"fillmode\":\"overlay\",\"size\":10,\"solidity\":0.2}},\"type\":\"barpolar\"}],\"pie\":[{\"automargin\":true,\"type\":\"pie\"}]},\"layout\":{\"autotypenumbers\":\"strict\",\"colorway\":[\"#636efa\",\"#EF553B\",\"#00cc96\",\"#ab63fa\",\"#FFA15A\",\"#19d3f3\",\"#FF6692\",\"#B6E880\",\"#FF97FF\",\"#FECB52\"],\"font\":{\"color\":\"#2a3f5f\"},\"hovermode\":\"closest\",\"hoverlabel\":{\"align\":\"left\"},\"paper_bgcolor\":\"white\",\"plot_bgcolor\":\"#E5ECF6\",\"polar\":{\"bgcolor\":\"#E5ECF6\",\"angularaxis\":{\"gridcolor\":\"white\",\"linecolor\":\"white\",\"ticks\":\"\"},\"radialaxis\":{\"gridcolor\":\"white\",\"linecolor\":\"white\",\"ticks\":\"\"}},\"ternary\":{\"bgcolor\":\"#E5ECF6\",\"aaxis\":{\"gridcolor\":\"white\",\"linecolor\":\"white\",\"ticks\":\"\"},\"baxis\":{\"gridcolor\":\"white\",\"linecolor\":\"white\",\"ticks\":\"\"},\"caxis\":{\"gridcolor\":\"white\",\"linecolor\":\"white\",\"ticks\":\"\"}},\"coloraxis\":{\"colorbar\":{\"outlinewidth\":0,\"ticks\":\"\"}},\"colorscale\":{\"sequential\":[[0.0,\"#0d0887\"],[0.1111111111111111,\"#46039f\"],[0.2222222222222222,\"#7201a8\"],[0.3333333333333333,\"#9c179e\"],[0.4444444444444444,\"#bd3786\"],[0.5555555555555556,\"#d8576b\"],[0.6666666666666666,\"#ed7953\"],[0.7777777777777778,\"#fb9f3a\"],[0.8888888888888888,\"#fdca26\"],[1.0,\"#f0f921\"]],\"sequentialminus\":[[0.0,\"#0d0887\"],[0.1111111111111111,\"#46039f\"],[0.2222222222222222,\"#7201a8\"],[0.3333333333333333,\"#9c179e\"],[0.4444444444444444,\"#bd3786\"],[0.5555555555555556,\"#d8576b\"],[0.6666666666666666,\"#ed7953\"],[0.7777777777777778,\"#fb9f3a\"],[0.8888888888888888,\"#fdca26\"],[1.0,\"#f0f921\"]],\"diverging\":[[0,\"#8e0152\"],[0.1,\"#c51b7d\"],[0.2,\"#de77ae\"],[0.3,\"#f1b6da\"],[0.4,\"#fde0ef\"],[0.5,\"#f7f7f7\"],[0.6,\"#e6f5d0\"],[0.7,\"#b8e186\"],[0.8,\"#7fbc41\"],[0.9,\"#4d9221\"],[1,\"#276419\"]]},\"xaxis\":{\"gridcolor\":\"white\",\"linecolor\":\"white\",\"ticks\":\"\",\"title\":{\"standoff\":15},\"zerolinecolor\":\"white\",\"automargin\":true,\"zerolinewidth\":2},\"yaxis\":{\"gridcolor\":\"white\",\"linecolor\":\"white\",\"ticks\":\"\",\"title\":{\"standoff\":15},\"zerolinecolor\":\"white\",\"automargin\":true,\"zerolinewidth\":2},\"scene\":{\"xaxis\":{\"backgroundcolor\":\"#E5ECF6\",\"gridcolor\":\"white\",\"linecolor\":\"white\",\"showbackground\":true,\"ticks\":\"\",\"zerolinecolor\":\"white\",\"gridwidth\":2},\"yaxis\":{\"backgroundcolor\":\"#E5ECF6\",\"gridcolor\":\"white\",\"linecolor\":\"white\",\"showbackground\":true,\"ticks\":\"\",\"zerolinecolor\":\"white\",\"gridwidth\":2},\"zaxis\":{\"backgroundcolor\":\"#E5ECF6\",\"gridcolor\":\"white\",\"linecolor\":\"white\",\"showbackground\":true,\"ticks\":\"\",\"zerolinecolor\":\"white\",\"gridwidth\":2}},\"shapedefaults\":{\"line\":{\"color\":\"#2a3f5f\"}},\"annotationdefaults\":{\"arrowcolor\":\"#2a3f5f\",\"arrowhead\":0,\"arrowwidth\":1},\"geo\":{\"bgcolor\":\"white\",\"landcolor\":\"#E5ECF6\",\"subunitcolor\":\"white\",\"showland\":true,\"showlakes\":true,\"lakecolor\":\"white\"},\"title\":{\"x\":0.05},\"mapbox\":{\"style\":\"light\"}}}},                        {\"responsive\": true}                    ).then(function(){\n",
              "                            \n",
              "var gd = document.getElementById('485c6794-2d6c-40af-9baf-09297564c3af');\n",
              "var x = new MutationObserver(function (mutations, observer) {{\n",
              "        var display = window.getComputedStyle(gd).display;\n",
              "        if (!display || display === 'none') {{\n",
              "            console.log([gd, 'removed!']);\n",
              "            Plotly.purge(gd);\n",
              "            observer.disconnect();\n",
              "        }}\n",
              "}});\n",
              "\n",
              "// Listen for the removal of the full notebook cells\n",
              "var notebookContainer = gd.closest('#notebook-container');\n",
              "if (notebookContainer) {{\n",
              "    x.observe(notebookContainer, {childList: true});\n",
              "}}\n",
              "\n",
              "// Listen for the clearing of the current output cell\n",
              "var outputEl = gd.closest('.output');\n",
              "if (outputEl) {{\n",
              "    x.observe(outputEl, {childList: true});\n",
              "}}\n",
              "\n",
              "                        })                };                            </script>        </div>\n",
              "</body>\n",
              "</html>"
            ]
          },
          "metadata": {}
        },
        {
          "output_type": "display_data",
          "data": {
            "text/html": [
              "<html>\n",
              "<head><meta charset=\"utf-8\" /></head>\n",
              "<body>\n",
              "    <div>            <script src=\"https://cdnjs.cloudflare.com/ajax/libs/mathjax/2.7.5/MathJax.js?config=TeX-AMS-MML_SVG\"></script><script type=\"text/javascript\">if (window.MathJax && window.MathJax.Hub && window.MathJax.Hub.Config) {window.MathJax.Hub.Config({SVG: {font: \"STIX-Web\"}});}</script>                <script type=\"text/javascript\">window.PlotlyConfig = {MathJaxConfig: 'local'};</script>\n",
              "        <script charset=\"utf-8\" src=\"https://cdn.plot.ly/plotly-2.35.2.min.js\"></script>                <div id=\"8860082e-9b61-4375-8bb4-16a61c1cb43e\" class=\"plotly-graph-div\" style=\"height:525px; width:100%;\"></div>            <script type=\"text/javascript\">                                    window.PLOTLYENV=window.PLOTLYENV || {};                                    if (document.getElementById(\"8860082e-9b61-4375-8bb4-16a61c1cb43e\")) {                    Plotly.newPlot(                        \"8860082e-9b61-4375-8bb4-16a61c1cb43e\",                        [{\"dimensions\":[{\"label\":\"f1 score\",\"range\":[0.4745998608211552,0.7334504979496193],\"values\":[0.7148834429169157,0.5159538357094365,0.673721340388007,0.6945754716981132,0.6811764705882353,0.7148736037624926,0.6921718658034137,0.7076566125290024,0.7201405152224825,0.6814469078179697,0.6718192627824019,0.67018779342723,0.6791788856304986,0.6868327402135231,0.6833236490412551,0.6823806717737183,0.6998813760379596,0.6658696951583981,0.6959578207381371,0.6801909307875895,0.6514084507042254,0.6812278630460449,0.662777129521587,0.7132867132867133,0.687536231884058,0.5975609756097561,0.6057213930348259,0.6842413591095489,0.6365795724465558,0.6777905638665133,0.6590499098015634,0.6830122591943958,0.6373755125951962,0.6843657817109144,0.6875725900116144,0.6943963027151935,0.6650915534554046,0.6666666666666666,0.6344908769864627,0.6729081334113517,0.6678260869565218,0.6951934349355217,0.6900237529691211,0.6497041420118344,0.6607565011820331,0.7015643802647413,0.7334504979496193,0.6888888888888889,0.6682663467306539,0.6646848989298454,0.7216009417304297,0.6705744431418523,0.6788235294117647,0.5975609756097561,0.6618618618618619,0.6583184257602862,0.729745712596097,0.7018160515524312,0.6883500887049083,0.6596244131455399,0.716913946587537,0.5214477211796247,0.6773428232502966,0.6823253082795068,0.7168709865732633,0.6476530005941771,0.7071178529754959,0.7009345794392523,0.6915451895043732,0.724400234055003,0.6965232763700648,0.7093768200349446,0.6769596199524941,0.6770652801848642,0.7141162514827996,0.6843657817109144,0.6939017169923032,0.662004662004662,0.6875369167158889,0.6824364281490243,0.6607565011820331,0.7165586328815556,0.6899408284023668,0.7063679245283019,0.7090694935217904,0.6885630498533725,0.668227033352838,0.7182516243354992,0.6947368421052632,0.6910569105691057,0.6997050147492625,0.6892128279883382,0.6829268292682927,0.6904622586307783,0.6718192627824019,0.4745998608211552,0.6903790087463557,0.6055625790139064,0.6895306859205776,0.717948717948718]},{\"label\":\"bagging_temperature\",\"range\":[0.009327289220489976,0.998060023585212],\"values\":[0.24951088889005746,0.013540258447144793,0.2288876460808803,0.7166390977866196,0.32174761807285346,0.6897470199622288,0.7813541882871927,0.18795693877665165,0.706688816441373,0.4686043036583366,0.6995239129284707,0.7097949121648418,0.7738565922884555,0.3852164736494387,0.686782971233144,0.510009097868422,0.998060023585212,0.10394710756870751,0.7964587261971696,0.8633483170593405,0.1045163499368913,0.3458873425376128,0.07776605990208951,0.8448415122108175,0.8456189337375108,0.04997911698744362,0.9550968517136185,0.6710660009699618,0.25046077452836857,0.3322453091613282,0.0830130300093529,0.05183903994355976,0.20893272036174326,0.19600125659504586,0.7474408784002098,0.009327289220489976,0.5455282788503751,0.4953606127373139,0.8742400811708196,0.4463229047742079,0.19873706840744587,0.7115689288556539,0.44819922318323135,0.8170430011918146,0.15665246205096195,0.3648953676238149,0.10275570573367843,0.4927263230360931,0.02846674990007514,0.27225976708582256,0.7686958772385063,0.6710660009699618,0.686782971233144,0.04997911698744362,0.19600125659504586,0.7115689288556539,0.009327289220489976,0.5053775735775023,0.7166390977866196,0.1827500469059673,0.6995239129284707,0.6995239129284707,0.2288876460808803,0.10394710756870751,0.8448415122108175,0.4325313303845525,0.6710660009699618,0.7474408784002098,0.2376142944110179,0.7686958772385063,0.8633483170593405,0.24951088889005746,0.686782971233144,0.3322453091613282,0.7813541882871927,0.686782971233144,0.7530156934316681,0.1045163499368913,0.7738565922884555,0.18795693877665165,0.15665246205096195,0.6897470199622288,0.7964587261971696,0.4927263230360931,0.4686043036583366,0.10275570573367843,0.3852164736494387,0.7964587261971696,0.6710660009699618,0.998060023585212,0.3648953676238149,0.7738565922884555,0.4579187857157877,0.7813541882871927,0.8448415122108175,0.8633483170593405,0.6897470199622288,0.7686958772385063,0.7686958772385063,0.3648953676238149]},{\"label\":\"border_count\",\"range\":[35,248],\"values\":[246,210,96,195,117,232,166,153,224,135,148,77,165,173,159,163,224,163,191,188,49,177,87,217,171,91,205,207,41,81,90,129,35,172,166,169,118,86,41,75,82,221,195,67,58,218,248,116,121,232,239,88,159,91,172,75,248,171,195,93,224,148,96,117,224,41,207,166,116,241,188,246,153,81,232,159,207,49,171,153,58,230,187,191,224,153,116,232,207,172,166,165,116,166,217,188,169,239,224,248]},{\"label\":\"depth\",\"range\":[4,10],\"values\":[7,4,9,6,6,8,9,9,5,10,6,10,8,6,4,10,5,9,7,6,10,6,4,9,4,10,8,8,10,7,10,4,7,5,9,6,8,7,7,5,7,8,5,10,9,6,4,6,6,10,4,8,4,10,5,8,6,5,6,6,6,6,9,9,9,9,8,9,6,7,6,6,4,7,8,4,6,6,8,9,9,8,7,6,10,4,8,8,10,6,9,8,9,6,5,6,6,4,5,6]},{\"label\":\"grow_policy\",\"range\":[0,2],\"ticktext\":[\"Depthwise\",\"Lossguide\",\"SymmetricTree\"],\"tickvals\":[0,1,2],\"values\":[0,0,1,1,0,0,1,1,0,2,1,1,0,1,1,2,1,0,2,2,2,0,1,1,1,0,2,0,2,0,0,2,2,1,1,2,0,0,0,1,2,2,2,2,0,2,0,2,1,0,2,1,1,0,2,1,1,2,1,1,1,1,1,0,0,0,0,1,2,2,2,0,1,0,0,0,1,0,1,2,0,1,2,2,1,0,0,2,0,1,1,2,2,1,1,2,0,2,1,0]},{\"label\":\"iterations\",\"range\":[102,997],\"values\":[152,233,366,806,997,566,675,580,674,705,354,451,795,727,584,765,449,136,674,566,736,843,596,655,794,391,335,426,556,621,416,620,888,974,552,560,114,134,521,359,901,122,596,165,401,303,926,972,185,266,726,426,584,391,566,122,560,795,806,366,354,806,366,997,655,521,426,552,997,726,354,152,584,753,566,584,426,736,794,580,401,620,674,972,449,584,114,674,989,974,552,697,972,675,102,566,566,560,726,926]},{\"label\":\"l2_leaf_reg\",\"range\":[0.16234650367262798,9.27594436569177],\"values\":[3.221012274243658,5.113295859110709,3.917239770463023,7.730064076969466,2.9540522457225236,1.0018046450920541,2.221531760871873,2.5579389234614784,0.7524181734369318,3.4949423639859916,3.8638352622281062,8.251164535812071,5.419102851736563,7.047810528066797,5.818474513604233,6.38476969149188,4.303637308034894,2.055624250491844,0.9071711982378869,3.774356054324462,6.267823852247852,5.566024068875159,1.898199598618409,3.283467455946965,6.027687775823218,4.180328928390032,4.477530885030981,0.16234650367262798,0.7901089307520504,5.800617774037149,2.922579949089793,9.168630553640755,7.6807449056216,6.111450626080641,2.5666488742485987,2.523831643451359,4.289134489709674,1.8139567733540245,0.1766303171566472,3.8794517734124954,5.569329826908717,3.818882171631345,2.03642304726716,1.2777710766850117,6.666418724437083,0.16816644525225072,1.8555891932663158,9.27594436569177,7.910605068879438,2.0691162434542316,4.800981734687601,7.047810528066797,5.818474513604233,4.180328928390032,6.111450626080641,3.818882171631345,1.8555891932663158,6.027687775823218,7.730064076969466,3.917239770463023,4.303637308034894,7.730064076969466,7.910605068879438,2.9540522457225236,3.283467455946965,3.818882171631345,0.16234650367262798,2.5666488742485987,9.27594436569177,4.800981734687601,3.8638352622281062,3.221012274243658,5.818474513604233,5.800617774037149,1.0018046450920541,5.818474513604233,7.773787652211848,6.267823852247852,9.104519219549971,2.5579389234614784,6.666418724437083,1.0018046450920541,4.800981734687601,0.9263371271867686,4.303637308034894,1.8555891932663158,7.047810528066797,0.9071711982378869,0.16234650367262798,6.111450626080641,0.16816644525225072,4.800981734687601,2.5579389234614784,9.27594436569177,3.283467455946965,3.774356054324462,2.523831643451359,2.523831643451359,4.303637308034894,1.8555891932663158]},{\"label\":\"learning_rate\",\"range\":[0.011928030057845611,0.29946493757016407],\"values\":[0.2528041750473541,0.038602830294654514,0.10446304489248553,0.2785787732568689,0.27971499613445167,0.10579676304074337,0.17656034618463742,0.19500989428110213,0.2931229366346549,0.03856689810734336,0.22203031406877272,0.2980504549835969,0.027490118730060048,0.06295837965403996,0.10285964513197239,0.08086609143212906,0.21574997644065308,0.2276457322505736,0.2016372260080958,0.04238480718185594,0.21597661502763954,0.26420205815935827,0.16599352172213844,0.21607123985975016,0.09611623432277118,0.024532936834696612,0.016335682740719414,0.26791532078455443,0.21862226061381515,0.15585732895069213,0.29946493757016407,0.21934214508178987,0.2496634403346282,0.04757388265650184,0.12425353895699459,0.27211086952607755,0.2887345641161183,0.2608099177170867,0.034488121504477914,0.13233727010930318,0.14890191437892542,0.23676661849960076,0.29244511848556104,0.252035977658679,0.19266988370595756,0.09032164218303988,0.296267114929445,0.13407036531668248,0.1186009650399745,0.04567006665384889,0.2983880894409477,0.06295837965403996,0.10285964513197239,0.024532936834696612,0.04238480718185594,0.13233727010930318,0.27211086952607755,0.09611623432277118,0.04757388265650184,0.10446304489248553,0.22203031406877272,0.0125396756410335,0.10446304489248553,0.27971499613445167,0.2931229366346549,0.23676661849960076,0.26791532078455443,0.2785787732568689,0.13407036531668248,0.2983880894409477,0.22203031406877272,0.1186009650399745,0.10285964513197239,0.15585732895069213,0.17656034618463742,0.10285964513197239,0.26791532078455443,0.21597661502763954,0.027490118730060048,0.2016372260080958,0.19266988370595756,0.21934214508178987,0.2016372260080958,0.2016372260080958,0.21574997644065308,0.296267114929445,0.2887345641161183,0.10579676304074337,0.26791532078455443,0.28247175159088755,0.12425353895699459,0.2983880894409477,0.1824854042126545,0.13407036531668248,0.21607123985975016,0.011928030057845611,0.10579676304074337,0.022771149311313996,0.03150351202439762,0.09032164218303988]},{\"label\":\"random_strength\",\"range\":[1.041982776357186,19.586302080742502],\"values\":[15.429639351594052,8.063604457395627,6.470985183842222,8.298408843710483,1.5200053079596345,10.643204883945154,17.41145991061129,12.299042895526057,12.532410055680023,6.23043216499372,9.159753375491244,9.65802510006491,2.4586369275792266,12.095690718247024,5.175029784450423,15.726494937251477,10.907296468148807,9.484992998506517,1.041982776357186,12.1043113737711,19.431737619370256,19.586302080742502,9.883094534369446,5.070004730042672,3.416621660126834,7.935993530483179,1.8786092139923625,4.379415148605032,7.1469302945873325,11.960811635451716,17.97093211533133,11.41727926596425,5.88849688089251,17.03817933121944,9.04189535281818,12.376937150537179,17.045042064513762,1.7010934391101815,15.370415421401848,17.378794256000834,3.289249207159971,7.312709866378952,9.231543317782151,10.813443641711785,5.836736559608806,9.823783615906281,17.73150176774144,13.951585739730472,13.992268366664177,6.354469037341399,5.294463529603446,4.379415148605032,8.746185079888596,7.935993530483179,9.513804802268211,7.312709866378952,17.73150176774144,3.416621660126834,8.298408843710483,6.470985183842222,9.159753375491244,17.82775793805428,6.470985183842222,9.484992998506517,15.242709335653768,15.370415421401848,6.621432774613044,9.04189535281818,1.5200053079596345,12.299042895526057,9.159753375491244,15.429639351594052,17.90337018235372,11.960811635451716,10.643204883945154,5.175029784450423,4.379415148605032,19.431737619370256,3.416621660126834,1.041982776357186,5.836736559608806,10.643204883945154,1.041982776357186,1.041982776357186,6.23043216499372,12.299042895526057,17.045042064513762,10.643204883945154,4.379415148605032,16.670250464242123,9.823783615906281,2.4586369275792266,12.299042895526057,13.951585739730472,14.690346032629893,12.1043113737711,10.98028380433703,12.376937150537179,10.907296468148807,17.73150176774144]}],\"labelangle\":30,\"labelside\":\"bottom\",\"line\":{\"color\":[0.7148834429169157,0.5159538357094365,0.673721340388007,0.6945754716981132,0.6811764705882353,0.7148736037624926,0.6921718658034137,0.7076566125290024,0.7201405152224825,0.6814469078179697,0.6718192627824019,0.67018779342723,0.6791788856304986,0.6868327402135231,0.6833236490412551,0.6823806717737183,0.6998813760379596,0.6658696951583981,0.6959578207381371,0.6801909307875895,0.6514084507042254,0.6812278630460449,0.662777129521587,0.7132867132867133,0.687536231884058,0.5975609756097561,0.6057213930348259,0.6842413591095489,0.6365795724465558,0.6777905638665133,0.6590499098015634,0.6830122591943958,0.6373755125951962,0.6843657817109144,0.6875725900116144,0.6943963027151935,0.6650915534554046,0.6666666666666666,0.6344908769864627,0.6729081334113517,0.6678260869565218,0.6951934349355217,0.6900237529691211,0.6497041420118344,0.6607565011820331,0.7015643802647413,0.7334504979496193,0.6888888888888889,0.6682663467306539,0.6646848989298454,0.7216009417304297,0.6705744431418523,0.6788235294117647,0.5975609756097561,0.6618618618618619,0.6583184257602862,0.729745712596097,0.7018160515524312,0.6883500887049083,0.6596244131455399,0.716913946587537,0.5214477211796247,0.6773428232502966,0.6823253082795068,0.7168709865732633,0.6476530005941771,0.7071178529754959,0.7009345794392523,0.6915451895043732,0.724400234055003,0.6965232763700648,0.7093768200349446,0.6769596199524941,0.6770652801848642,0.7141162514827996,0.6843657817109144,0.6939017169923032,0.662004662004662,0.6875369167158889,0.6824364281490243,0.6607565011820331,0.7165586328815556,0.6899408284023668,0.7063679245283019,0.7090694935217904,0.6885630498533725,0.668227033352838,0.7182516243354992,0.6947368421052632,0.6910569105691057,0.6997050147492625,0.6892128279883382,0.6829268292682927,0.6904622586307783,0.6718192627824019,0.4745998608211552,0.6903790087463557,0.6055625790139064,0.6895306859205776,0.717948717948718],\"colorbar\":{\"title\":{\"text\":\"f1 score\"}},\"colorscale\":[[0.0,\"rgb(247,251,255)\"],[0.125,\"rgb(222,235,247)\"],[0.25,\"rgb(198,219,239)\"],[0.375,\"rgb(158,202,225)\"],[0.5,\"rgb(107,174,214)\"],[0.625,\"rgb(66,146,198)\"],[0.75,\"rgb(33,113,181)\"],[0.875,\"rgb(8,81,156)\"],[1.0,\"rgb(8,48,107)\"]],\"reversescale\":true,\"showscale\":true},\"type\":\"parcoords\"}],                        {\"title\":{\"text\":\"Parallel Coordinate Plot\"},\"template\":{\"data\":{\"histogram2dcontour\":[{\"type\":\"histogram2dcontour\",\"colorbar\":{\"outlinewidth\":0,\"ticks\":\"\"},\"colorscale\":[[0.0,\"#0d0887\"],[0.1111111111111111,\"#46039f\"],[0.2222222222222222,\"#7201a8\"],[0.3333333333333333,\"#9c179e\"],[0.4444444444444444,\"#bd3786\"],[0.5555555555555556,\"#d8576b\"],[0.6666666666666666,\"#ed7953\"],[0.7777777777777778,\"#fb9f3a\"],[0.8888888888888888,\"#fdca26\"],[1.0,\"#f0f921\"]]}],\"choropleth\":[{\"type\":\"choropleth\",\"colorbar\":{\"outlinewidth\":0,\"ticks\":\"\"}}],\"histogram2d\":[{\"type\":\"histogram2d\",\"colorbar\":{\"outlinewidth\":0,\"ticks\":\"\"},\"colorscale\":[[0.0,\"#0d0887\"],[0.1111111111111111,\"#46039f\"],[0.2222222222222222,\"#7201a8\"],[0.3333333333333333,\"#9c179e\"],[0.4444444444444444,\"#bd3786\"],[0.5555555555555556,\"#d8576b\"],[0.6666666666666666,\"#ed7953\"],[0.7777777777777778,\"#fb9f3a\"],[0.8888888888888888,\"#fdca26\"],[1.0,\"#f0f921\"]]}],\"heatmap\":[{\"type\":\"heatmap\",\"colorbar\":{\"outlinewidth\":0,\"ticks\":\"\"},\"colorscale\":[[0.0,\"#0d0887\"],[0.1111111111111111,\"#46039f\"],[0.2222222222222222,\"#7201a8\"],[0.3333333333333333,\"#9c179e\"],[0.4444444444444444,\"#bd3786\"],[0.5555555555555556,\"#d8576b\"],[0.6666666666666666,\"#ed7953\"],[0.7777777777777778,\"#fb9f3a\"],[0.8888888888888888,\"#fdca26\"],[1.0,\"#f0f921\"]]}],\"heatmapgl\":[{\"type\":\"heatmapgl\",\"colorbar\":{\"outlinewidth\":0,\"ticks\":\"\"},\"colorscale\":[[0.0,\"#0d0887\"],[0.1111111111111111,\"#46039f\"],[0.2222222222222222,\"#7201a8\"],[0.3333333333333333,\"#9c179e\"],[0.4444444444444444,\"#bd3786\"],[0.5555555555555556,\"#d8576b\"],[0.6666666666666666,\"#ed7953\"],[0.7777777777777778,\"#fb9f3a\"],[0.8888888888888888,\"#fdca26\"],[1.0,\"#f0f921\"]]}],\"contourcarpet\":[{\"type\":\"contourcarpet\",\"colorbar\":{\"outlinewidth\":0,\"ticks\":\"\"}}],\"contour\":[{\"type\":\"contour\",\"colorbar\":{\"outlinewidth\":0,\"ticks\":\"\"},\"colorscale\":[[0.0,\"#0d0887\"],[0.1111111111111111,\"#46039f\"],[0.2222222222222222,\"#7201a8\"],[0.3333333333333333,\"#9c179e\"],[0.4444444444444444,\"#bd3786\"],[0.5555555555555556,\"#d8576b\"],[0.6666666666666666,\"#ed7953\"],[0.7777777777777778,\"#fb9f3a\"],[0.8888888888888888,\"#fdca26\"],[1.0,\"#f0f921\"]]}],\"surface\":[{\"type\":\"surface\",\"colorbar\":{\"outlinewidth\":0,\"ticks\":\"\"},\"colorscale\":[[0.0,\"#0d0887\"],[0.1111111111111111,\"#46039f\"],[0.2222222222222222,\"#7201a8\"],[0.3333333333333333,\"#9c179e\"],[0.4444444444444444,\"#bd3786\"],[0.5555555555555556,\"#d8576b\"],[0.6666666666666666,\"#ed7953\"],[0.7777777777777778,\"#fb9f3a\"],[0.8888888888888888,\"#fdca26\"],[1.0,\"#f0f921\"]]}],\"mesh3d\":[{\"type\":\"mesh3d\",\"colorbar\":{\"outlinewidth\":0,\"ticks\":\"\"}}],\"scatter\":[{\"fillpattern\":{\"fillmode\":\"overlay\",\"size\":10,\"solidity\":0.2},\"type\":\"scatter\"}],\"parcoords\":[{\"type\":\"parcoords\",\"line\":{\"colorbar\":{\"outlinewidth\":0,\"ticks\":\"\"}}}],\"scatterpolargl\":[{\"type\":\"scatterpolargl\",\"marker\":{\"colorbar\":{\"outlinewidth\":0,\"ticks\":\"\"}}}],\"bar\":[{\"error_x\":{\"color\":\"#2a3f5f\"},\"error_y\":{\"color\":\"#2a3f5f\"},\"marker\":{\"line\":{\"color\":\"#E5ECF6\",\"width\":0.5},\"pattern\":{\"fillmode\":\"overlay\",\"size\":10,\"solidity\":0.2}},\"type\":\"bar\"}],\"scattergeo\":[{\"type\":\"scattergeo\",\"marker\":{\"colorbar\":{\"outlinewidth\":0,\"ticks\":\"\"}}}],\"scatterpolar\":[{\"type\":\"scatterpolar\",\"marker\":{\"colorbar\":{\"outlinewidth\":0,\"ticks\":\"\"}}}],\"histogram\":[{\"marker\":{\"pattern\":{\"fillmode\":\"overlay\",\"size\":10,\"solidity\":0.2}},\"type\":\"histogram\"}],\"scattergl\":[{\"type\":\"scattergl\",\"marker\":{\"colorbar\":{\"outlinewidth\":0,\"ticks\":\"\"}}}],\"scatter3d\":[{\"type\":\"scatter3d\",\"line\":{\"colorbar\":{\"outlinewidth\":0,\"ticks\":\"\"}},\"marker\":{\"colorbar\":{\"outlinewidth\":0,\"ticks\":\"\"}}}],\"scattermapbox\":[{\"type\":\"scattermapbox\",\"marker\":{\"colorbar\":{\"outlinewidth\":0,\"ticks\":\"\"}}}],\"scatterternary\":[{\"type\":\"scatterternary\",\"marker\":{\"colorbar\":{\"outlinewidth\":0,\"ticks\":\"\"}}}],\"scattercarpet\":[{\"type\":\"scattercarpet\",\"marker\":{\"colorbar\":{\"outlinewidth\":0,\"ticks\":\"\"}}}],\"carpet\":[{\"aaxis\":{\"endlinecolor\":\"#2a3f5f\",\"gridcolor\":\"white\",\"linecolor\":\"white\",\"minorgridcolor\":\"white\",\"startlinecolor\":\"#2a3f5f\"},\"baxis\":{\"endlinecolor\":\"#2a3f5f\",\"gridcolor\":\"white\",\"linecolor\":\"white\",\"minorgridcolor\":\"white\",\"startlinecolor\":\"#2a3f5f\"},\"type\":\"carpet\"}],\"table\":[{\"cells\":{\"fill\":{\"color\":\"#EBF0F8\"},\"line\":{\"color\":\"white\"}},\"header\":{\"fill\":{\"color\":\"#C8D4E3\"},\"line\":{\"color\":\"white\"}},\"type\":\"table\"}],\"barpolar\":[{\"marker\":{\"line\":{\"color\":\"#E5ECF6\",\"width\":0.5},\"pattern\":{\"fillmode\":\"overlay\",\"size\":10,\"solidity\":0.2}},\"type\":\"barpolar\"}],\"pie\":[{\"automargin\":true,\"type\":\"pie\"}]},\"layout\":{\"autotypenumbers\":\"strict\",\"colorway\":[\"#636efa\",\"#EF553B\",\"#00cc96\",\"#ab63fa\",\"#FFA15A\",\"#19d3f3\",\"#FF6692\",\"#B6E880\",\"#FF97FF\",\"#FECB52\"],\"font\":{\"color\":\"#2a3f5f\"},\"hovermode\":\"closest\",\"hoverlabel\":{\"align\":\"left\"},\"paper_bgcolor\":\"white\",\"plot_bgcolor\":\"#E5ECF6\",\"polar\":{\"bgcolor\":\"#E5ECF6\",\"angularaxis\":{\"gridcolor\":\"white\",\"linecolor\":\"white\",\"ticks\":\"\"},\"radialaxis\":{\"gridcolor\":\"white\",\"linecolor\":\"white\",\"ticks\":\"\"}},\"ternary\":{\"bgcolor\":\"#E5ECF6\",\"aaxis\":{\"gridcolor\":\"white\",\"linecolor\":\"white\",\"ticks\":\"\"},\"baxis\":{\"gridcolor\":\"white\",\"linecolor\":\"white\",\"ticks\":\"\"},\"caxis\":{\"gridcolor\":\"white\",\"linecolor\":\"white\",\"ticks\":\"\"}},\"coloraxis\":{\"colorbar\":{\"outlinewidth\":0,\"ticks\":\"\"}},\"colorscale\":{\"sequential\":[[0.0,\"#0d0887\"],[0.1111111111111111,\"#46039f\"],[0.2222222222222222,\"#7201a8\"],[0.3333333333333333,\"#9c179e\"],[0.4444444444444444,\"#bd3786\"],[0.5555555555555556,\"#d8576b\"],[0.6666666666666666,\"#ed7953\"],[0.7777777777777778,\"#fb9f3a\"],[0.8888888888888888,\"#fdca26\"],[1.0,\"#f0f921\"]],\"sequentialminus\":[[0.0,\"#0d0887\"],[0.1111111111111111,\"#46039f\"],[0.2222222222222222,\"#7201a8\"],[0.3333333333333333,\"#9c179e\"],[0.4444444444444444,\"#bd3786\"],[0.5555555555555556,\"#d8576b\"],[0.6666666666666666,\"#ed7953\"],[0.7777777777777778,\"#fb9f3a\"],[0.8888888888888888,\"#fdca26\"],[1.0,\"#f0f921\"]],\"diverging\":[[0,\"#8e0152\"],[0.1,\"#c51b7d\"],[0.2,\"#de77ae\"],[0.3,\"#f1b6da\"],[0.4,\"#fde0ef\"],[0.5,\"#f7f7f7\"],[0.6,\"#e6f5d0\"],[0.7,\"#b8e186\"],[0.8,\"#7fbc41\"],[0.9,\"#4d9221\"],[1,\"#276419\"]]},\"xaxis\":{\"gridcolor\":\"white\",\"linecolor\":\"white\",\"ticks\":\"\",\"title\":{\"standoff\":15},\"zerolinecolor\":\"white\",\"automargin\":true,\"zerolinewidth\":2},\"yaxis\":{\"gridcolor\":\"white\",\"linecolor\":\"white\",\"ticks\":\"\",\"title\":{\"standoff\":15},\"zerolinecolor\":\"white\",\"automargin\":true,\"zerolinewidth\":2},\"scene\":{\"xaxis\":{\"backgroundcolor\":\"#E5ECF6\",\"gridcolor\":\"white\",\"linecolor\":\"white\",\"showbackground\":true,\"ticks\":\"\",\"zerolinecolor\":\"white\",\"gridwidth\":2},\"yaxis\":{\"backgroundcolor\":\"#E5ECF6\",\"gridcolor\":\"white\",\"linecolor\":\"white\",\"showbackground\":true,\"ticks\":\"\",\"zerolinecolor\":\"white\",\"gridwidth\":2},\"zaxis\":{\"backgroundcolor\":\"#E5ECF6\",\"gridcolor\":\"white\",\"linecolor\":\"white\",\"showbackground\":true,\"ticks\":\"\",\"zerolinecolor\":\"white\",\"gridwidth\":2}},\"shapedefaults\":{\"line\":{\"color\":\"#2a3f5f\"}},\"annotationdefaults\":{\"arrowcolor\":\"#2a3f5f\",\"arrowhead\":0,\"arrowwidth\":1},\"geo\":{\"bgcolor\":\"white\",\"landcolor\":\"#E5ECF6\",\"subunitcolor\":\"white\",\"showland\":true,\"showlakes\":true,\"lakecolor\":\"white\"},\"title\":{\"x\":0.05},\"mapbox\":{\"style\":\"light\"}}}},                        {\"responsive\": true}                    ).then(function(){\n",
              "                            \n",
              "var gd = document.getElementById('8860082e-9b61-4375-8bb4-16a61c1cb43e');\n",
              "var x = new MutationObserver(function (mutations, observer) {{\n",
              "        var display = window.getComputedStyle(gd).display;\n",
              "        if (!display || display === 'none') {{\n",
              "            console.log([gd, 'removed!']);\n",
              "            Plotly.purge(gd);\n",
              "            observer.disconnect();\n",
              "        }}\n",
              "}});\n",
              "\n",
              "// Listen for the removal of the full notebook cells\n",
              "var notebookContainer = gd.closest('#notebook-container');\n",
              "if (notebookContainer) {{\n",
              "    x.observe(notebookContainer, {childList: true});\n",
              "}}\n",
              "\n",
              "// Listen for the clearing of the current output cell\n",
              "var outputEl = gd.closest('.output');\n",
              "if (outputEl) {{\n",
              "    x.observe(outputEl, {childList: true});\n",
              "}}\n",
              "\n",
              "                        })                };                            </script>        </div>\n",
              "</body>\n",
              "</html>"
            ]
          },
          "metadata": {}
        }
      ]
    },
    {
      "cell_type": "markdown",
      "source": [],
      "metadata": {
        "id": "LojLCdxQeZYK"
      }
    },
    {
      "cell_type": "markdown",
      "source": [
        "## Experiment 5: CatBoost, CatBoost encoding, drop embeddings"
      ],
      "metadata": {
        "id": "Ft4oci-MO5Zj"
      }
    },
    {
      "cell_type": "code",
      "source": [
        "X_train, X_test, y_train, y_test = train_test_split(df.drop(columns=['target', 'price_1d', 'doc_embedding']), df['target'], test_size=0.2, random_state=69)\n",
        "categorical_columns = ['subreddit', 'type', 'ticker']"
      ],
      "metadata": {
        "id": "ihG5fsxgPGAc"
      },
      "execution_count": null,
      "outputs": []
    },
    {
      "cell_type": "code",
      "source": [
        "def objective(trial):\n",
        "    param = {\n",
        "        'iterations': trial.suggest_int('iterations', 100, 1000),\n",
        "        'learning_rate': trial.suggest_float('learning_rate', 0.01, 0.3),\n",
        "        'depth': trial.suggest_int('depth', 4, 10),\n",
        "        'l2_leaf_reg': trial.suggest_float('l2_leaf_reg', 1e-5, 10),\n",
        "        'bagging_temperature': trial.suggest_float('bagging_temperature', 0, 1),\n",
        "        'random_strength': trial.suggest_float('random_strength', 1, 20),\n",
        "        'border_count': trial.suggest_int('border_count', 32, 512),\n",
        "        'grow_policy': trial.suggest_categorical('grow_policy', ['SymmetricTree', 'Depthwise', 'Lossguide']),\n",
        "    }\n",
        "\n",
        "    model = CatBoostClassifier(**param, cat_features=categorical_columns, verbose=0)\n",
        "    model.fit(X_train, y_train)\n",
        "    y_pred = model.predict(X_test)\n",
        "    f1 = f1_score(y_test, y_pred)\n",
        "    accuracy = accuracy_score(y_test, y_pred)\n",
        "    return f1, accuracy"
      ],
      "metadata": {
        "id": "reVehj77PtwT"
      },
      "execution_count": null,
      "outputs": []
    },
    {
      "cell_type": "code",
      "source": [
        "study_cb = optuna.create_study(directions=['maximize', 'maximize'])\n",
        "study_cb.optimize(objective, n_jobs=-1, n_trials=200)"
      ],
      "metadata": {
        "colab": {
          "base_uri": "https://localhost:8080/"
        },
        "id": "0ZUcka1HN1LW",
        "outputId": "c25c773a-daea-4715-97ef-1bb75b3f34cb"
      },
      "execution_count": null,
      "outputs": [
        {
          "output_type": "stream",
          "name": "stderr",
          "text": [
            "[I 2025-03-08 10:05:27,585] A new study created in memory with name: no-name-de4ed0a4-bd0b-41db-84bd-29e11cda31d5\n",
            "[I 2025-03-08 10:05:49,056] Trial 1 finished with values: [0.7216374269005847, 0.7173396674584323] and parameters: {'iterations': 788, 'learning_rate': 0.19701894907335954, 'depth': 4, 'l2_leaf_reg': 9.204147704038453, 'bagging_temperature': 0.7700441592534275, 'random_strength': 7.711796261466933, 'border_count': 314, 'grow_policy': 'SymmetricTree'}.\n",
            "[I 2025-03-08 10:06:04,192] Trial 2 finished with values: [0.6227758007117438, 0.6223277909738717] and parameters: {'iterations': 447, 'learning_rate': 0.24709232961037728, 'depth': 5, 'l2_leaf_reg': 7.0388750605351476, 'bagging_temperature': 0.40446614911846923, 'random_strength': 14.88675792461729, 'border_count': 60, 'grow_policy': 'Depthwise'}.\n",
            "[I 2025-03-08 10:06:09,418] Trial 0 finished with values: [0.7089639115250291, 0.7030878859857482] and parameters: {'iterations': 758, 'learning_rate': 0.14634392716962247, 'depth': 6, 'l2_leaf_reg': 1.898396673920269, 'bagging_temperature': 0.5325469816627236, 'random_strength': 9.106906267472906, 'border_count': 374, 'grow_policy': 'Lossguide'}.\n",
            "[I 2025-03-08 10:06:21,585] Trial 4 finished with values: [0.6690433749257279, 0.6692399049881235] and parameters: {'iterations': 391, 'learning_rate': 0.04078566715971809, 'depth': 8, 'l2_leaf_reg': 0.8521276028568253, 'bagging_temperature': 0.8145831845673928, 'random_strength': 11.975564401976923, 'border_count': 156, 'grow_policy': 'SymmetricTree'}.\n",
            "[I 2025-03-08 10:06:50,588] Trial 5 finished with values: [0.6729857819905213, 0.672209026128266] and parameters: {'iterations': 648, 'learning_rate': 0.17594386812841964, 'depth': 9, 'l2_leaf_reg': 0.3674386995490286, 'bagging_temperature': 0.6591279437455484, 'random_strength': 8.597942890846376, 'border_count': 196, 'grow_policy': 'SymmetricTree'}.\n",
            "[I 2025-03-08 10:07:03,382] Trial 6 finished with values: [0.721120186697783, 0.7161520190023754] and parameters: {'iterations': 820, 'learning_rate': 0.27514837805958664, 'depth': 4, 'l2_leaf_reg': 0.6457712703769077, 'bagging_temperature': 0.41667786253091377, 'random_strength': 19.761906766056818, 'border_count': 293, 'grow_policy': 'SymmetricTree'}.\n",
            "[I 2025-03-08 10:07:05,518] Trial 3 finished with values: [0.7115272088940902, 0.7072446555819477] and parameters: {'iterations': 878, 'learning_rate': 0.19160057423361535, 'depth': 9, 'l2_leaf_reg': 5.645692864561311, 'bagging_temperature': 0.8787256117172276, 'random_strength': 4.3371594231994575, 'border_count': 313, 'grow_policy': 'Depthwise'}.\n",
            "[I 2025-03-08 10:07:10,357] Trial 7 finished with values: [0.642603550295858, 0.6413301662707839] and parameters: {'iterations': 349, 'learning_rate': 0.29290506495442403, 'depth': 8, 'l2_leaf_reg': 3.2677582527966607, 'bagging_temperature': 0.755941705090842, 'random_strength': 6.169656858115457, 'border_count': 52, 'grow_policy': 'Lossguide'}.\n",
            "[I 2025-03-08 10:07:16,848] Trial 8 finished with values: [0.7046388725778039, 0.7013064133016627] and parameters: {'iterations': 479, 'learning_rate': 0.059605812176440585, 'depth': 7, 'l2_leaf_reg': 7.206430010065942, 'bagging_temperature': 0.46010702542126514, 'random_strength': 2.7615071140911853, 'border_count': 218, 'grow_policy': 'SymmetricTree'}.\n",
            "[I 2025-03-08 10:07:19,141] Trial 10 finished with values: [0.6998827667057445, 0.6959619952494062] and parameters: {'iterations': 159, 'learning_rate': 0.23377706460522918, 'depth': 8, 'l2_leaf_reg': 7.665068357905713, 'bagging_temperature': 0.763747244848019, 'random_strength': 17.73463826120536, 'border_count': 281, 'grow_policy': 'SymmetricTree'}.\n",
            "[I 2025-03-08 10:07:34,884] Trial 9 finished with values: [0.6908011869436201, 0.6906175771971497] and parameters: {'iterations': 955, 'learning_rate': 0.13087681007176177, 'depth': 6, 'l2_leaf_reg': 5.341904022709133, 'bagging_temperature': 0.7435764756861729, 'random_strength': 7.716974639471244, 'border_count': 196, 'grow_policy': 'Depthwise'}.\n",
            "[I 2025-03-08 10:07:46,207] Trial 11 finished with values: [0.6973995271867612, 0.6959619952494062] and parameters: {'iterations': 542, 'learning_rate': 0.059900880559864665, 'depth': 9, 'l2_leaf_reg': 3.5962094752075653, 'bagging_temperature': 0.3974337868371104, 'random_strength': 2.852068004814169, 'border_count': 377, 'grow_policy': 'SymmetricTree'}.\n",
            "[I 2025-03-08 10:07:53,412] Trial 12 finished with values: [0.7135199523525908, 0.7143705463182898] and parameters: {'iterations': 763, 'learning_rate': 0.05040843100043701, 'depth': 5, 'l2_leaf_reg': 9.43493359516854, 'bagging_temperature': 0.5383523071985467, 'random_strength': 14.114114751168268, 'border_count': 284, 'grow_policy': 'Lossguide'}.\n",
            "[I 2025-03-08 10:07:57,523] Trial 13 finished with values: [0.6844602609727165, 0.684085510688836] and parameters: {'iterations': 480, 'learning_rate': 0.1783019186670694, 'depth': 7, 'l2_leaf_reg': 4.633687308784706, 'bagging_temperature': 0.0918068952163501, 'random_strength': 19.750760811724373, 'border_count': 190, 'grow_policy': 'SymmetricTree'}.\n",
            "[I 2025-03-08 10:08:08,621] Trial 14 finished with values: [0.693853427895981, 0.6923990498812351] and parameters: {'iterations': 661, 'learning_rate': 0.02325661985523944, 'depth': 5, 'l2_leaf_reg': 0.05189607456556366, 'bagging_temperature': 0.07878144863315206, 'random_strength': 16.52192217854057, 'border_count': 352, 'grow_policy': 'Lossguide'}.\n",
            "[I 2025-03-08 10:08:22,397] Trial 15 finished with values: [0.7208480565371025, 0.7185273159144893] and parameters: {'iterations': 755, 'learning_rate': 0.07828318674652023, 'depth': 8, 'l2_leaf_reg': 3.378812653530973, 'bagging_temperature': 0.4503465111065912, 'random_strength': 12.276011804267384, 'border_count': 395, 'grow_policy': 'Lossguide'}.\n",
            "[I 2025-03-08 10:08:23,032] Trial 16 finished with values: [0.6866197183098591, 0.6828978622327792] and parameters: {'iterations': 345, 'learning_rate': 0.13925049191202007, 'depth': 9, 'l2_leaf_reg': 9.805632717752609, 'bagging_temperature': 0.9798470186840451, 'random_strength': 12.774605499338222, 'border_count': 214, 'grow_policy': 'SymmetricTree'}.\n",
            "[I 2025-03-08 10:08:31,770] Trial 18 finished with values: [0.6383981154299175, 0.6353919239904988] and parameters: {'iterations': 427, 'learning_rate': 0.13091160744857638, 'depth': 4, 'l2_leaf_reg': 1.8336241044511168, 'bagging_temperature': 0.6543940925371318, 'random_strength': 17.811128482884385, 'border_count': 36, 'grow_policy': 'Depthwise'}.\n",
            "[I 2025-03-08 10:08:34,381] Trial 17 finished with values: [0.7231308411214953, 0.7185273159144893] and parameters: {'iterations': 289, 'learning_rate': 0.10207176786412722, 'depth': 7, 'l2_leaf_reg': 8.252538030527065, 'bagging_temperature': 0.6464837808568242, 'random_strength': 11.633214108823195, 'border_count': 329, 'grow_policy': 'Lossguide'}.\n",
            "[I 2025-03-08 10:08:35,898] Trial 19 finished with values: [0.6777448071216617, 0.6775534441805225] and parameters: {'iterations': 237, 'learning_rate': 0.2611668798912777, 'depth': 5, 'l2_leaf_reg': 3.4105444081074068, 'bagging_temperature': 0.32825185930083745, 'random_strength': 5.268182940978613, 'border_count': 136, 'grow_policy': 'Depthwise'}.\n",
            "[I 2025-03-08 10:08:37,586] Trial 21 finished with values: [0.5852417302798982, 0.6128266033254157] and parameters: {'iterations': 119, 'learning_rate': 0.018165531939006732, 'depth': 6, 'l2_leaf_reg': 1.549374193402188, 'bagging_temperature': 0.1014384019143999, 'random_strength': 9.015554904071697, 'border_count': 242, 'grow_policy': 'Depthwise'}.\n",
            "[I 2025-03-08 10:08:46,379] Trial 20 finished with values: [0.6485849056603774, 0.6460807600950119] and parameters: {'iterations': 851, 'learning_rate': 0.156174780439537, 'depth': 4, 'l2_leaf_reg': 6.4622820654043815, 'bagging_temperature': 0.38364317326618946, 'random_strength': 4.886702503146298, 'border_count': 63, 'grow_policy': 'SymmetricTree'}.\n",
            "[I 2025-03-08 10:08:50,043] Trial 22 finished with values: [0.7061611374407583, 0.7054631828978623] and parameters: {'iterations': 411, 'learning_rate': 0.0775173002357552, 'depth': 8, 'l2_leaf_reg': 9.08567935326829, 'bagging_temperature': 0.5655692912827586, 'random_strength': 18.259884456696266, 'border_count': 317, 'grow_policy': 'SymmetricTree'}.\n",
            "[I 2025-03-08 10:08:52,393] Trial 24 finished with values: [0.6974236069502696, 0.7001187648456056] and parameters: {'iterations': 176, 'learning_rate': 0.261823581830328, 'depth': 8, 'l2_leaf_reg': 5.581822527605462, 'bagging_temperature': 0.1350841190194303, 'random_strength': 10.994590370815459, 'border_count': 314, 'grow_policy': 'SymmetricTree'}.\n",
            "[I 2025-03-08 10:09:11,887] Trial 25 finished with values: [0.7094117647058824, 0.7066508313539193] and parameters: {'iterations': 567, 'learning_rate': 0.21378694455640126, 'depth': 8, 'l2_leaf_reg': 5.555773493489803, 'bagging_temperature': 0.6395809614727659, 'random_strength': 7.7109882875556695, 'border_count': 385, 'grow_policy': 'SymmetricTree'}.\n",
            "[I 2025-03-08 10:09:19,529] Trial 23 finished with values: [0.6337105419892793, 0.6347980997624703] and parameters: {'iterations': 807, 'learning_rate': 0.2271364537437985, 'depth': 10, 'l2_leaf_reg': 4.69335121336444, 'bagging_temperature': 0.7737601169645758, 'random_strength': 1.6937860248934953, 'border_count': 87, 'grow_policy': 'SymmetricTree'}.\n",
            "[I 2025-03-08 10:09:39,588] Trial 26 finished with values: [0.6867612293144209, 0.6852731591448931] and parameters: {'iterations': 708, 'learning_rate': 0.06325189551367376, 'depth': 9, 'l2_leaf_reg': 2.768738679192853, 'bagging_temperature': 0.7909543717564363, 'random_strength': 17.093073053975584, 'border_count': 217, 'grow_policy': 'SymmetricTree'}.\n",
            "[I 2025-03-08 10:09:57,585] Trial 28 finished with values: [0.6919431279620853, 0.6912114014251781] and parameters: {'iterations': 706, 'learning_rate': 0.04398716177018413, 'depth': 5, 'l2_leaf_reg': 2.6002843702200304, 'bagging_temperature': 0.3717401309827606, 'random_strength': 2.0174825678032287, 'border_count': 190, 'grow_policy': 'Lossguide'}.\n",
            "[I 2025-03-08 10:09:58,516] Trial 27 finished with values: [0.721120186697783, 0.7161520190023754] and parameters: {'iterations': 986, 'learning_rate': 0.03739355883400224, 'depth': 7, 'l2_leaf_reg': 9.544420237042242, 'bagging_temperature': 0.8184316979837497, 'random_strength': 3.9698226125567477, 'border_count': 363, 'grow_policy': 'Depthwise'}.\n",
            "[I 2025-03-08 10:10:13,714] Trial 29 finished with values: [0.7040280210157618, 0.6989311163895487] and parameters: {'iterations': 497, 'learning_rate': 0.26547278717323786, 'depth': 9, 'l2_leaf_reg': 3.434186534132681, 'bagging_temperature': 0.22903256985283293, 'random_strength': 19.161819075367543, 'border_count': 305, 'grow_policy': 'Lossguide'}.\n",
            "[I 2025-03-08 10:10:25,589] Trial 30 finished with values: [0.6209386281588448, 0.6258907363420427] and parameters: {'iterations': 862, 'learning_rate': 0.012426657872820006, 'depth': 6, 'l2_leaf_reg': 3.1819430122670394, 'bagging_temperature': 0.41482396420430634, 'random_strength': 14.033421592641844, 'border_count': 481, 'grow_policy': 'Lossguide'}.\n",
            "[I 2025-03-08 10:10:31,255] Trial 31 finished with values: [0.7191142191142191, 0.7137767220902613] and parameters: {'iterations': 436, 'learning_rate': 0.15720296708999953, 'depth': 9, 'l2_leaf_reg': 5.010258392859824, 'bagging_temperature': 0.8914734180564217, 'random_strength': 6.120012165037681, 'border_count': 370, 'grow_policy': 'Lossguide'}.\n",
            "[I 2025-03-08 10:10:33,635] Trial 33 finished with values: [0.6997663551401869, 0.6947743467933492] and parameters: {'iterations': 163, 'learning_rate': 0.19795960766497092, 'depth': 5, 'l2_leaf_reg': 8.997133631851545, 'bagging_temperature': 0.40531283179183575, 'random_strength': 17.403857393918596, 'border_count': 258, 'grow_policy': 'Lossguide'}.\n",
            "[I 2025-03-08 10:10:35,279] Trial 32 finished with values: [0.6466431095406361, 0.6437054631828979] and parameters: {'iterations': 393, 'learning_rate': 0.21910436365046612, 'depth': 7, 'l2_leaf_reg': 2.377996258991102, 'bagging_temperature': 0.48280536445316435, 'random_strength': 11.591954633640347, 'border_count': 82, 'grow_policy': 'Lossguide'}.\n",
            "[I 2025-03-08 10:10:37,169] Trial 34 finished with values: [0.5564005069708492, 0.5843230403800475] and parameters: {'iterations': 268, 'learning_rate': 0.017412123281379224, 'depth': 5, 'l2_leaf_reg': 7.918212219882412, 'bagging_temperature': 0.3379922157752362, 'random_strength': 16.575737885934615, 'border_count': 458, 'grow_policy': 'SymmetricTree'}.\n",
            "[I 2025-03-08 10:10:46,992] Trial 36 finished with values: [0.7102803738317757, 0.7054631828978623] and parameters: {'iterations': 295, 'learning_rate': 0.11460336369958186, 'depth': 8, 'l2_leaf_reg': 3.281570738897721, 'bagging_temperature': 0.9316208360919783, 'random_strength': 3.378913079251605, 'border_count': 285, 'grow_policy': 'Lossguide'}.\n",
            "[I 2025-03-08 10:11:06,279] Trial 37 finished with values: [0.6584216725559482, 0.6555819477434679] and parameters: {'iterations': 975, 'learning_rate': 0.03853145786650003, 'depth': 6, 'l2_leaf_reg': 0.562845120671541, 'bagging_temperature': 0.012624779150315901, 'random_strength': 19.931818390356668, 'border_count': 99, 'grow_policy': 'Depthwise'}.\n",
            "[I 2025-03-08 10:11:08,666] Trial 35 finished with values: [0.7220259128386337, 0.7197149643705463] and parameters: {'iterations': 841, 'learning_rate': 0.17922177600668188, 'depth': 10, 'l2_leaf_reg': 9.742947631233735, 'bagging_temperature': 0.5001076337815371, 'random_strength': 18.355466853484756, 'border_count': 470, 'grow_policy': 'Lossguide'}.\n",
            "[I 2025-03-08 10:11:23,489] Trial 39 finished with values: [0.6430678466076696, 0.6407363420427553] and parameters: {'iterations': 756, 'learning_rate': 0.07598550923235675, 'depth': 5, 'l2_leaf_reg': 9.403533315127156, 'bagging_temperature': 0.6816911308616641, 'random_strength': 8.738954667122272, 'border_count': 64, 'grow_policy': 'Depthwise'}.\n",
            "[I 2025-03-08 10:11:29,335] Trial 38 finished with values: [0.7115839243498818, 0.7102137767220903] and parameters: {'iterations': 877, 'learning_rate': 0.04816400510033094, 'depth': 5, 'l2_leaf_reg': 9.809735519816426, 'bagging_temperature': 0.5947048300296232, 'random_strength': 19.83971598917388, 'border_count': 236, 'grow_policy': 'Depthwise'}.\n",
            "[I 2025-03-08 10:11:30,084] Trial 40 finished with values: [0.6294964028776978, 0.6330166270783848] and parameters: {'iterations': 144, 'learning_rate': 0.046231949754015386, 'depth': 8, 'l2_leaf_reg': 2.159437170888692, 'bagging_temperature': 0.2398890653065594, 'random_strength': 4.745039666794021, 'border_count': 332, 'grow_policy': 'Depthwise'}.\n",
            "[I 2025-03-08 10:11:33,054] Trial 41 finished with values: [0.6792675723567632, 0.6775534441805225] and parameters: {'iterations': 147, 'learning_rate': 0.22968653807143585, 'depth': 10, 'l2_leaf_reg': 8.41314034488344, 'bagging_temperature': 0.9540312033909946, 'random_strength': 12.650581056098849, 'border_count': 175, 'grow_policy': 'Lossguide'}.\n",
            "[I 2025-03-08 10:11:49,948] Trial 43 finished with values: [0.7181603773584906, 0.7161520190023754] and parameters: {'iterations': 251, 'learning_rate': 0.20415842491859132, 'depth': 8, 'l2_leaf_reg': 0.3008274177592548, 'bagging_temperature': 0.6311985760798716, 'random_strength': 3.2946839899653937, 'border_count': 462, 'grow_policy': 'Depthwise'}.\n",
            "[I 2025-03-08 10:11:57,006] Trial 44 finished with values: [0.6401925391095066, 0.6448931116389549] and parameters: {'iterations': 114, 'learning_rate': 0.037392662265321876, 'depth': 10, 'l2_leaf_reg': 4.888413935619375, 'bagging_temperature': 0.4787655745824876, 'random_strength': 3.065869766186985, 'border_count': 208, 'grow_policy': 'Depthwise'}.\n",
            "[I 2025-03-08 10:12:07,477] Trial 45 finished with values: [0.7202346041055718, 0.7167458432304038] and parameters: {'iterations': 328, 'learning_rate': 0.11283059924095543, 'depth': 7, 'l2_leaf_reg': 9.592717144677266, 'bagging_temperature': 0.4644283577608115, 'random_strength': 10.329911140036035, 'border_count': 460, 'grow_policy': 'Lossguide'}.\n",
            "[I 2025-03-08 10:12:23,810] Trial 42 finished with values: [0.7015891701000588, 0.6989311163895487] and parameters: {'iterations': 681, 'learning_rate': 0.026229311634793445, 'depth': 10, 'l2_leaf_reg': 1.5391785712255366, 'bagging_temperature': 0.6016076337109957, 'random_strength': 16.010683446742547, 'border_count': 336, 'grow_policy': 'Depthwise'}.\n",
            "[I 2025-03-08 10:12:39,976] Trial 47 finished with values: [0.6303317535545023, 0.6294536817102138] and parameters: {'iterations': 712, 'learning_rate': 0.25668357221592647, 'depth': 5, 'l2_leaf_reg': 0.07184618465711962, 'bagging_temperature': 0.02428130789746108, 'random_strength': 6.4402088007844664, 'border_count': 101, 'grow_policy': 'Lossguide'}.\n",
            "[I 2025-03-08 10:12:48,247] Trial 46 finished with values: [0.7123765252760024, 0.7060570071258907] and parameters: {'iterations': 812, 'learning_rate': 0.2266826970382999, 'depth': 8, 'l2_leaf_reg': 5.1129335797687645, 'bagging_temperature': 0.6277577951841897, 'random_strength': 14.968021133637764, 'border_count': 240, 'grow_policy': 'Depthwise'}.\n",
            "[I 2025-03-08 10:13:01,353] Trial 49 finished with values: [0.6765053128689492, 0.6745843230403801] and parameters: {'iterations': 710, 'learning_rate': 0.07045169543762048, 'depth': 4, 'l2_leaf_reg': 0.20030498653309636, 'bagging_temperature': 0.6545108823601836, 'random_strength': 5.650087818776309, 'border_count': 145, 'grow_policy': 'Lossguide'}.\n",
            "[I 2025-03-08 10:13:14,490] Trial 48 finished with values: [0.7245195107746069, 0.7191211401425178] and parameters: {'iterations': 952, 'learning_rate': 0.16664338518989621, 'depth': 8, 'l2_leaf_reg': 5.760353107414303, 'bagging_temperature': 0.02628760533790553, 'random_strength': 3.574558709941469, 'border_count': 507, 'grow_policy': 'SymmetricTree'}.\n",
            "[I 2025-03-08 10:13:29,490] Trial 50 finished with values: [0.7099822799763733, 0.7084323040380047] and parameters: {'iterations': 603, 'learning_rate': 0.10471929485887464, 'depth': 9, 'l2_leaf_reg': 1.5449462127460054, 'bagging_temperature': 0.16108177298462667, 'random_strength': 17.535163528783908, 'border_count': 283, 'grow_policy': 'SymmetricTree'}.\n",
            "[I 2025-03-08 10:13:30,158] Trial 51 finished with values: [0.6565064478311841, 0.6520190023752969] and parameters: {'iterations': 616, 'learning_rate': 0.03853145786650003, 'depth': 7, 'l2_leaf_reg': 0.562845120671541, 'bagging_temperature': 0.6464837808568242, 'random_strength': 19.931818390356668, 'border_count': 99, 'grow_policy': 'Lossguide'}.\n",
            "[I 2025-03-08 10:13:43,495] Trial 52 finished with values: [0.6871673565937315, 0.6858669833729216] and parameters: {'iterations': 480, 'learning_rate': 0.11460336369958186, 'depth': 7, 'l2_leaf_reg': 3.281570738897721, 'bagging_temperature': 0.9316208360919783, 'random_strength': 3.378913079251605, 'border_count': 190, 'grow_policy': 'Lossguide'}.\n",
            "[I 2025-03-08 10:13:48,618] Trial 53 finished with values: [0.67106051527861, 0.6739904988123515] and parameters: {'iterations': 345, 'learning_rate': 0.17922177600668188, 'depth': 10, 'l2_leaf_reg': 9.805632717752609, 'bagging_temperature': 0.5001076337815371, 'random_strength': 18.355466853484756, 'border_count': 214, 'grow_policy': 'SymmetricTree'}.\n",
            "[I 2025-03-08 10:13:58,105] Trial 55 finished with values: [0.7174677608440797, 0.7137767220902613] and parameters: {'iterations': 295, 'learning_rate': 0.11460336369958186, 'depth': 8, 'l2_leaf_reg': 3.1484931510459444, 'bagging_temperature': 0.41667786253091377, 'random_strength': 19.761906766056818, 'border_count': 285, 'grow_policy': 'SymmetricTree'}.\n",
            "[I 2025-03-08 10:14:15,249] Trial 54 finished with values: [0.681577398469688, 0.6787410926365796] and parameters: {'iterations': 708, 'learning_rate': 0.06325189551367376, 'depth': 9, 'l2_leaf_reg': 2.768738679192853, 'bagging_temperature': 0.32825185930083745, 'random_strength': 1.0297230087224132, 'border_count': 217, 'grow_policy': 'SymmetricTree'}.\n",
            "[I 2025-03-08 10:14:21,165] Trial 57 finished with values: [0.7187685020722321, 0.7179334916864608] and parameters: {'iterations': 251, 'learning_rate': 0.20415842491859132, 'depth': 5, 'l2_leaf_reg': 0.05189607456556366, 'bagging_temperature': 0.07878144863315206, 'random_strength': 3.2946839899653937, 'border_count': 462, 'grow_policy': 'Depthwise'}.\n",
            "[I 2025-03-08 10:14:32,066] Trial 56 finished with values: [0.73512252042007, 0.7304038004750594] and parameters: {'iterations': 952, 'learning_rate': 0.16664338518989621, 'depth': 8, 'l2_leaf_reg': 3.281570738897721, 'bagging_temperature': 0.9316208360919783, 'random_strength': 3.574558709941469, 'border_count': 507, 'grow_policy': 'Lossguide'}.\n",
            "[I 2025-03-08 10:14:46,442] Trial 58 finished with values: [0.7267441860465116, 0.7209026128266033] and parameters: {'iterations': 952, 'learning_rate': 0.10207176786412722, 'depth': 7, 'l2_leaf_reg': 5.760353107414303, 'bagging_temperature': 0.02628760533790553, 'random_strength': 3.574558709941469, 'border_count': 507, 'grow_policy': 'SymmetricTree'}.\n",
            "[I 2025-03-08 10:15:07,966] Trial 60 finished with values: [0.707474985285462, 0.7048693586698337] and parameters: {'iterations': 661, 'learning_rate': 0.02325661985523944, 'depth': 8, 'l2_leaf_reg': 0.05189607456556366, 'bagging_temperature': 0.07878144863315206, 'random_strength': 11.975564401976923, 'border_count': 305, 'grow_policy': 'Lossguide'}.\n",
            "[I 2025-03-08 10:15:09,770] Trial 59 finished with values: [0.7177371832645846, 0.7155581947743468] and parameters: {'iterations': 986, 'learning_rate': 0.03739355883400224, 'depth': 7, 'l2_leaf_reg': 5.341904022709133, 'bagging_temperature': 0.8184316979837497, 'random_strength': 7.716974639471244, 'border_count': 363, 'grow_policy': 'Depthwise'}.\n",
            "[I 2025-03-08 10:15:10,683] Trial 62 finished with values: [0.6958083832335329, 0.6983372921615202] and parameters: {'iterations': 163, 'learning_rate': 0.19795960766497092, 'depth': 5, 'l2_leaf_reg': 1.3462742724702237, 'bagging_temperature': 0.7909543717564363, 'random_strength': 17.093073053975584, 'border_count': 258, 'grow_policy': 'SymmetricTree'}.\n",
            "[I 2025-03-08 10:15:20,487] Trial 61 finished with values: [0.6769779892920881, 0.6775534441805225] and parameters: {'iterations': 820, 'learning_rate': 0.20415842491859132, 'depth': 4, 'l2_leaf_reg': 0.6457712703769077, 'bagging_temperature': 0.6311985760798716, 'random_strength': 3.2946839899653937, 'border_count': 157, 'grow_policy': 'Depthwise'}.\n",
            "[I 2025-03-08 10:15:28,566] Trial 63 finished with values: [0.7296037296037297, 0.7244655581947743] and parameters: {'iterations': 497, 'learning_rate': 0.26547278717323786, 'depth': 8, 'l2_leaf_reg': 2.9791680634073776, 'bagging_temperature': 0.22903256985283293, 'random_strength': 19.161819075367543, 'border_count': 470, 'grow_policy': 'Lossguide'}.\n",
            "[I 2025-03-08 10:15:38,325] Trial 64 finished with values: [0.6857483601669648, 0.6870546318289786] and parameters: {'iterations': 767, 'learning_rate': 0.04398716177018413, 'depth': 5, 'l2_leaf_reg': 1.5449462127460054, 'bagging_temperature': 0.16108177298462667, 'random_strength': 2.0174825678032287, 'border_count': 190, 'grow_policy': 'Lossguide'}.\n",
            "[I 2025-03-08 10:15:40,617] Trial 66 finished with values: [0.6902654867256637, 0.6882422802850356] and parameters: {'iterations': 163, 'learning_rate': 0.11460336369958186, 'depth': 5, 'l2_leaf_reg': 3.281570738897721, 'bagging_temperature': 0.9316208360919783, 'random_strength': 3.378913079251605, 'border_count': 285, 'grow_policy': 'Lossguide'}.\n",
            "[I 2025-03-08 10:16:00,620] Trial 67 finished with values: [0.689035350509287, 0.6918052256532067] and parameters: {'iterations': 758, 'learning_rate': 0.14735422761873235, 'depth': 6, 'l2_leaf_reg': 2.768738679192853, 'bagging_temperature': 0.5325469816627236, 'random_strength': 17.093073053975584, 'border_count': 217, 'grow_policy': 'Lossguide'}.\n",
            "[I 2025-03-08 10:16:17,983] Trial 65 finished with values: [0.7032069970845481, 0.6977434679334917] and parameters: {'iterations': 820, 'learning_rate': 0.27514837805958664, 'depth': 10, 'l2_leaf_reg': 9.742947631233735, 'bagging_temperature': 0.5001076337815371, 'random_strength': 18.355466853484756, 'border_count': 293, 'grow_policy': 'SymmetricTree'}.\n",
            "[I 2025-03-08 10:16:44,031] Trial 68 finished with values: [0.6903376018626309, 0.684085510688836] and parameters: {'iterations': 603, 'learning_rate': 0.19160057423361535, 'depth': 9, 'l2_leaf_reg': 1.5449462127460054, 'bagging_temperature': 0.8787256117172276, 'random_strength': 4.3371594231994575, 'border_count': 211, 'grow_policy': 'Depthwise'}.\n",
            "[I 2025-03-08 10:16:49,488] Trial 69 finished with values: [0.690223792697291, 0.6876484560570071] and parameters: {'iterations': 951, 'learning_rate': 0.21378694455640126, 'depth': 8, 'l2_leaf_reg': 5.555773493489803, 'bagging_temperature': 0.9798470186840451, 'random_strength': 12.774605499338222, 'border_count': 214, 'grow_policy': 'SymmetricTree'}.\n",
            "[I 2025-03-08 10:17:21,953] Trial 70 finished with values: [0.6333333333333333, 0.6342042755344418] and parameters: {'iterations': 975, 'learning_rate': 0.2266826970382999, 'depth': 8, 'l2_leaf_reg': 5.1129335797687645, 'bagging_temperature': 0.6277577951841897, 'random_strength': 14.968021133637764, 'border_count': 99, 'grow_policy': 'Depthwise'}.\n",
            "[I 2025-03-08 10:17:24,117] Trial 72 finished with values: [0.6423957721667646, 0.6383610451306413] and parameters: {'iterations': 114, 'learning_rate': 0.059605812176440585, 'depth': 7, 'l2_leaf_reg': 7.206430010065942, 'bagging_temperature': 0.5788323710841479, 'random_strength': 3.065869766186985, 'border_count': 218, 'grow_policy': 'Depthwise'}.\n",
            "[I 2025-03-08 10:17:53,457] Trial 71 finished with values: [0.7066431510875956, 0.7036817102137767] and parameters: {'iterations': 681, 'learning_rate': 0.20415842491859132, 'depth': 10, 'l2_leaf_reg': 0.3008274177592548, 'bagging_temperature': 0.6016076337109957, 'random_strength': 3.2946839899653937, 'border_count': 336, 'grow_policy': 'Depthwise'}.\n",
            "[I 2025-03-08 10:18:00,672] Trial 73 finished with values: [0.7159763313609467, 0.7149643705463183] and parameters: {'iterations': 755, 'learning_rate': 0.10471929485887464, 'depth': 9, 'l2_leaf_reg': 1.5449462127460054, 'bagging_temperature': 0.4503465111065912, 'random_strength': 17.535163528783908, 'border_count': 283, 'grow_policy': 'SymmetricTree'}.\n",
            "[I 2025-03-08 10:18:09,332] Trial 75 finished with values: [0.7138643067846607, 0.7119952494061758] and parameters: {'iterations': 251, 'learning_rate': 0.20415842491859132, 'depth': 7, 'l2_leaf_reg': 0.3008274177592548, 'bagging_temperature': 0.6311985760798716, 'random_strength': 12.69693839718646, 'border_count': 329, 'grow_policy': 'Depthwise'}.\n",
            "[I 2025-03-08 10:18:11,051] Trial 76 finished with values: [0.6722488038277512, 0.6745843230403801] and parameters: {'iterations': 114, 'learning_rate': 0.22022983379171732, 'depth': 6, 'l2_leaf_reg': 4.888413935619375, 'bagging_temperature': 0.4787655745824876, 'random_strength': 3.065869766186985, 'border_count': 196, 'grow_policy': 'Depthwise'}.\n",
            "[I 2025-03-08 10:18:21,251] Trial 77 finished with values: [0.7158018867924528, 0.7137767220902613] and parameters: {'iterations': 289, 'learning_rate': 0.10207176786412722, 'depth': 8, 'l2_leaf_reg': 8.252538030527065, 'bagging_temperature': 0.4429452382034096, 'random_strength': 14.968021133637764, 'border_count': 362, 'grow_policy': 'Lossguide'}.\n",
            "[I 2025-03-08 10:18:36,030] Trial 74 finished with values: [0.6951934349355217, 0.6912114014251781] and parameters: {'iterations': 877, 'learning_rate': 0.2277373456234761, 'depth': 8, 'l2_leaf_reg': 5.1129335797687645, 'bagging_temperature': 0.5947048300296232, 'random_strength': 19.83971598917388, 'border_count': 236, 'grow_policy': 'Depthwise'}.\n",
            "[I 2025-03-08 10:18:36,913] Trial 78 finished with values: [0.7191142191142191, 0.7137767220902613] and parameters: {'iterations': 436, 'learning_rate': 0.15720296708999953, 'depth': 9, 'l2_leaf_reg': 5.010258392859824, 'bagging_temperature': 0.8914734180564217, 'random_strength': 6.120012165037681, 'border_count': 370, 'grow_policy': 'Lossguide'}.\n",
            "[I 2025-03-08 10:18:39,272] Trial 80 finished with values: [0.7162083089526039, 0.7119952494061758] and parameters: {'iterations': 163, 'learning_rate': 0.19795960766497092, 'depth': 5, 'l2_leaf_reg': 3.281570738897721, 'bagging_temperature': 0.743586934378669, 'random_strength': 17.403857393918596, 'border_count': 285, 'grow_policy': 'Lossguide'}.\n",
            "[I 2025-03-08 10:18:45,071] Trial 81 finished with values: [0.7076923076923077, 0.7066508313539193] and parameters: {'iterations': 251, 'learning_rate': 0.27514837805958664, 'depth': 4, 'l2_leaf_reg': 0.6457712703769077, 'bagging_temperature': 0.6311985760798716, 'random_strength': 19.375757329605772, 'border_count': 293, 'grow_policy': 'Depthwise'}.\n",
            "[I 2025-03-08 10:18:49,355] Trial 79 finished with values: [0.6207309766327141, 0.6241092636579573] and parameters: {'iterations': 436, 'learning_rate': 0.02325661985523944, 'depth': 9, 'l2_leaf_reg': 0.05189607456556366, 'bagging_temperature': 0.8914734180564217, 'random_strength': 16.52192217854057, 'border_count': 461, 'grow_policy': 'Lossguide'}.\n",
            "[I 2025-03-08 10:19:06,211] Trial 82 finished with values: [0.6402835203780272, 0.6383610451306413] and parameters: {'iterations': 820, 'learning_rate': 0.27514837805958664, 'depth': 7, 'l2_leaf_reg': 0.6457712703769077, 'bagging_temperature': 0.41667786253091377, 'random_strength': 11.922407252318346, 'border_count': 82, 'grow_policy': 'Lossguide'}.\n",
            "[I 2025-03-08 10:19:10,139] Trial 84 finished with values: [0.6918090748379493, 0.6894299287410927] and parameters: {'iterations': 163, 'learning_rate': 0.19795960766497092, 'depth': 9, 'l2_leaf_reg': 4.937002772468391, 'bagging_temperature': 0.9798470186840451, 'random_strength': 17.403857393918596, 'border_count': 214, 'grow_policy': 'Lossguide'}.\n",
            "[I 2025-03-08 10:19:20,225] Trial 85 finished with values: [0.7147041593438781, 0.7108076009501187] and parameters: {'iterations': 295, 'learning_rate': 0.25492077584240946, 'depth': 8, 'l2_leaf_reg': 8.61276886348518, 'bagging_temperature': 0.9316208360919783, 'random_strength': 15.938564381255148, 'border_count': 285, 'grow_policy': 'Lossguide'}.\n",
            "[I 2025-03-08 10:19:29,798] Trial 83 finished with values: [0.7165400350672122, 0.7119952494061758] and parameters: {'iterations': 986, 'learning_rate': 0.14321375674087425, 'depth': 7, 'l2_leaf_reg': 9.544420237042242, 'bagging_temperature': 0.22903256985283293, 'random_strength': 6.697301996706361, 'border_count': 363, 'grow_policy': 'Depthwise'}.\n",
            "[I 2025-03-08 10:19:38,251] Trial 87 finished with values: [0.6785079928952042, 0.6775534441805225] and parameters: {'iterations': 391, 'learning_rate': 0.059605812176440585, 'depth': 8, 'l2_leaf_reg': 0.8521276028568253, 'bagging_temperature': 0.8145831845673928, 'random_strength': 15.369567855420954, 'border_count': 156, 'grow_policy': 'SymmetricTree'}.\n",
            "[I 2025-03-08 10:19:42,425] Trial 86 finished with values: [0.6674514420247204, 0.6644893111638955] and parameters: {'iterations': 975, 'learning_rate': 0.04816400510033094, 'depth': 6, 'l2_leaf_reg': 0.562845120671541, 'bagging_temperature': 0.012624779150315901, 'random_strength': 19.931818390356668, 'border_count': 99, 'grow_policy': 'Depthwise'}.\n",
            "[I 2025-03-08 10:19:51,026] Trial 88 finished with values: [0.6765227675931401, 0.6751781472684085] and parameters: {'iterations': 427, 'learning_rate': 0.03739355883400224, 'depth': 7, 'l2_leaf_reg': 9.544420237042242, 'bagging_temperature': 0.7435764756861729, 'random_strength': 7.716974639471244, 'border_count': 196, 'grow_policy': 'Depthwise'}.\n",
            "[I 2025-03-08 10:20:07,517] Trial 90 finished with values: [0.7177089421391, 0.7131828978622328] and parameters: {'iterations': 614, 'learning_rate': 0.11283059924095543, 'depth': 7, 'l2_leaf_reg': 9.100797777398153, 'bagging_temperature': 0.7700441592534275, 'random_strength': 7.711796261466933, 'border_count': 478, 'grow_policy': 'SymmetricTree'}.\n",
            "[I 2025-03-08 10:20:18,305] Trial 91 finished with values: [0.713022981732469, 0.7108076009501187] and parameters: {'iterations': 436, 'learning_rate': 0.15720296708999953, 'depth': 5, 'l2_leaf_reg': 3.4105444081074068, 'bagging_temperature': 0.8914734180564217, 'random_strength': 6.120012165037681, 'border_count': 370, 'grow_policy': 'Depthwise'}.\n",
            "[I 2025-03-08 10:20:22,416] Trial 89 finished with values: [0.7167155425219941, 0.7131828978622328] and parameters: {'iterations': 986, 'learning_rate': 0.03739355883400224, 'depth': 9, 'l2_leaf_reg': 9.544420237042242, 'bagging_temperature': 0.8184316979837497, 'random_strength': 12.774605499338222, 'border_count': 250, 'grow_policy': 'SymmetricTree'}.\n",
            "[I 2025-03-08 10:20:40,027] Trial 92 finished with values: [0.7094117647058824, 0.7066508313539193] and parameters: {'iterations': 567, 'learning_rate': 0.21378694455640126, 'depth': 8, 'l2_leaf_reg': 5.555773493489803, 'bagging_temperature': 0.6395809614727659, 'random_strength': 7.7109882875556695, 'border_count': 385, 'grow_policy': 'SymmetricTree'}.\n",
            "[I 2025-03-08 10:20:40,681] Trial 93 finished with values: [0.6989946777054997, 0.6977434679334917] and parameters: {'iterations': 251, 'learning_rate': 0.13925049191202007, 'depth': 9, 'l2_leaf_reg': 9.805632717752609, 'bagging_temperature': 0.9798470186840451, 'random_strength': 12.263565346714929, 'border_count': 462, 'grow_policy': 'SymmetricTree'}.\n",
            "[I 2025-03-08 10:20:41,947] Trial 94 finished with values: [0.5418016850291639, 0.580166270783848] and parameters: {'iterations': 159, 'learning_rate': 0.02325661985523944, 'depth': 5, 'l2_leaf_reg': 0.05189607456556366, 'bagging_temperature': 0.7934247651232793, 'random_strength': 17.73463826120536, 'border_count': 352, 'grow_policy': 'SymmetricTree'}.\n",
            "[I 2025-03-08 10:20:49,136] Trial 95 finished with values: [0.7143688190808609, 0.7084323040380047] and parameters: {'iterations': 289, 'learning_rate': 0.261823581830328, 'depth': 7, 'l2_leaf_reg': 8.252538030527065, 'bagging_temperature': 0.6464837808568242, 'random_strength': 10.994590370815459, 'border_count': 314, 'grow_policy': 'Lossguide'}.\n",
            "[I 2025-03-08 10:20:57,240] Trial 96 finished with values: [0.6230677764565993, 0.6235154394299287] and parameters: {'iterations': 448, 'learning_rate': 0.29290506495442403, 'depth': 8, 'l2_leaf_reg': 3.2677582527966607, 'bagging_temperature': 0.6311985760798716, 'random_strength': 3.2946839899653937, 'border_count': 52, 'grow_policy': 'Depthwise'}.\n",
            "[I 2025-03-08 10:20:58,722] Trial 97 finished with values: [0.7314487632508834, 0.7292161520190024] and parameters: {'iterations': 251, 'learning_rate': 0.2266826970382999, 'depth': 8, 'l2_leaf_reg': 0.3008274177592548, 'bagging_temperature': 0.6311985760798716, 'random_strength': 3.2946839899653937, 'border_count': 462, 'grow_policy': 'Lossguide'}.\n",
            "[I 2025-03-08 10:21:11,252] Trial 99 finished with values: [0.6823806717737183, 0.6799287410926366] and parameters: {'iterations': 391, 'learning_rate': 0.04078566715971809, 'depth': 8, 'l2_leaf_reg': 0.8521276028568253, 'bagging_temperature': 0.5449489773815347, 'random_strength': 11.975564401976923, 'border_count': 512, 'grow_policy': 'SymmetricTree'}.\n",
            "[I 2025-03-08 10:21:12,474] Trial 98 finished with values: [0.710161662817552, 0.7019002375296912] and parameters: {'iterations': 497, 'learning_rate': 0.26547278717323786, 'depth': 7, 'l2_leaf_reg': 3.434186534132681, 'bagging_temperature': 0.16108177298462667, 'random_strength': 17.535163528783908, 'border_count': 283, 'grow_policy': 'Lossguide'}.\n",
            "[I 2025-03-08 10:21:22,306] Trial 100 finished with values: [0.6612053832650673, 0.6561757719714965] and parameters: {'iterations': 820, 'learning_rate': 0.156174780439537, 'depth': 4, 'l2_leaf_reg': 0.6457712703769077, 'bagging_temperature': 0.38364317326618946, 'random_strength': 19.761906766056818, 'border_count': 63, 'grow_policy': 'SymmetricTree'}.\n",
            "[I 2025-03-08 10:21:30,357] Trial 101 finished with values: [0.7192060712200817, 0.7143705463182898] and parameters: {'iterations': 877, 'learning_rate': 0.14634392716962247, 'depth': 5, 'l2_leaf_reg': 9.809735519816426, 'bagging_temperature': 0.5947048300296232, 'random_strength': 19.83971598917388, 'border_count': 374, 'grow_policy': 'Depthwise'}.\n",
            "[I 2025-03-08 10:21:43,283] Trial 102 finished with values: [0.690099589923843, 0.6858669833729216] and parameters: {'iterations': 661, 'learning_rate': 0.02325661985523944, 'depth': 8, 'l2_leaf_reg': 2.9791680634073776, 'bagging_temperature': 0.22903256985283293, 'random_strength': 19.161819075367543, 'border_count': 232, 'grow_policy': 'Lossguide'}.\n",
            "[I 2025-03-08 10:22:28,336] Trial 103 finished with values: [0.717827626918536, 0.7161520190023754] and parameters: {'iterations': 986, 'learning_rate': 0.20415842491859132, 'depth': 8, 'l2_leaf_reg': 9.544420237042242, 'bagging_temperature': 0.6311985760798716, 'random_strength': 3.9698226125567477, 'border_count': 462, 'grow_policy': 'Depthwise'}.\n",
            "[I 2025-03-08 10:22:43,744] Trial 105 finished with values: [0.7172251616696061, 0.7143705463182898] and parameters: {'iterations': 436, 'learning_rate': 0.15720296708999953, 'depth': 9, 'l2_leaf_reg': 8.252538030527065, 'bagging_temperature': 0.8914734180564217, 'random_strength': 11.633214108823195, 'border_count': 329, 'grow_policy': 'Lossguide'}.\n",
            "[I 2025-03-08 10:22:53,018] Trial 104 finished with values: [0.7093023255813954, 0.7030878859857482] and parameters: {'iterations': 841, 'learning_rate': 0.17922177600668188, 'depth': 10, 'l2_leaf_reg': 9.742947631233735, 'bagging_temperature': 0.5001076337815371, 'random_strength': 6.120012165037681, 'border_count': 291, 'grow_policy': 'Depthwise'}.\n",
            "[I 2025-03-08 10:23:14,035] Trial 107 finished with values: [0.721830985915493, 0.7185273159144893] and parameters: {'iterations': 877, 'learning_rate': 0.26547278717323786, 'depth': 5, 'l2_leaf_reg': 2.9791680634073776, 'bagging_temperature': 0.5947048300296232, 'random_strength': 6.747696638646641, 'border_count': 470, 'grow_policy': 'Depthwise'}.\n",
            "[I 2025-03-08 10:23:32,491] Trial 108 finished with values: [0.7143695014662756, 0.7108076009501187] and parameters: {'iterations': 755, 'learning_rate': 0.10471929485887464, 'depth': 7, 'l2_leaf_reg': 9.544420237042242, 'bagging_temperature': 0.4503465111065912, 'random_strength': 17.535163528783908, 'border_count': 283, 'grow_policy': 'SymmetricTree'}.\n",
            "[I 2025-03-08 10:23:39,018] Trial 106 finished with values: [0.7055393586005831, 0.7001187648456056] and parameters: {'iterations': 681, 'learning_rate': 0.11283059924095543, 'depth': 10, 'l2_leaf_reg': 9.592717144677266, 'bagging_temperature': 0.6016076337109957, 'random_strength': 16.010683446742547, 'border_count': 246, 'grow_policy': 'Depthwise'}.\n",
            "[I 2025-03-08 10:23:42,449] Trial 109 finished with values: [0.724824355971897, 0.7209026128266033] and parameters: {'iterations': 289, 'learning_rate': 0.10207176786412722, 'depth': 7, 'l2_leaf_reg': 8.61276886348518, 'bagging_temperature': 0.6464837808568242, 'random_strength': 11.633214108823195, 'border_count': 329, 'grow_policy': 'Lossguide'}.\n",
            "[I 2025-03-08 10:24:12,730] Trial 111 finished with values: [0.7197674418604652, 0.7137767220902613] and parameters: {'iterations': 952, 'learning_rate': 0.15720296708999953, 'depth': 6, 'l2_leaf_reg': 5.760353107414303, 'bagging_temperature': 0.02628760533790553, 'random_strength': 6.120012165037681, 'border_count': 370, 'grow_policy': 'Lossguide'}.\n",
            "[I 2025-03-08 10:24:17,630] Trial 110 finished with values: [0.6405610753945061, 0.6347980997624703] and parameters: {'iterations': 986, 'learning_rate': 0.03739355883400224, 'depth': 9, 'l2_leaf_reg': 9.544420237042242, 'bagging_temperature': 0.8226696611099977, 'random_strength': 7.716974639471244, 'border_count': 44, 'grow_policy': 'Depthwise'}.\n",
            "[I 2025-03-08 10:24:29,165] Trial 112 finished with values: [0.7200942840306424, 0.7179334916864608] and parameters: {'iterations': 436, 'learning_rate': 0.11283059924095543, 'depth': 7, 'l2_leaf_reg': 9.592717144677266, 'bagging_temperature': 0.4644283577608115, 'random_strength': 6.120012165037681, 'border_count': 460, 'grow_policy': 'Lossguide'}.\n",
            "[I 2025-03-08 10:25:03,025] Trial 114 finished with values: [0.7141176470588235, 0.7114014251781473] and parameters: {'iterations': 986, 'learning_rate': 0.03739355883400224, 'depth': 8, 'l2_leaf_reg': 6.526238897079611, 'bagging_temperature': 0.8184316979837497, 'random_strength': 6.120012165037681, 'border_count': 363, 'grow_policy': 'Lossguide'}.\n",
            "[I 2025-03-08 10:25:23,169] Trial 115 finished with values: [0.7122641509433962, 0.7102137767220903] and parameters: {'iterations': 877, 'learning_rate': 0.04816400510033094, 'depth': 5, 'l2_leaf_reg': 9.809735519816426, 'bagging_temperature': 0.5947048300296232, 'random_strength': 19.83971598917388, 'border_count': 462, 'grow_policy': 'Depthwise'}.\n",
            "[I 2025-03-08 10:25:25,649] Trial 113 finished with values: [0.7215411558669002, 0.7167458432304038] and parameters: {'iterations': 681, 'learning_rate': 0.20415842491859132, 'depth': 10, 'l2_leaf_reg': 9.592717144677266, 'bagging_temperature': 0.4818630874678551, 'random_strength': 3.2946839899653937, 'border_count': 460, 'grow_policy': 'Depthwise'}.\n",
            "[I 2025-03-08 10:25:37,576] Trial 116 finished with values: [0.7197640117994101, 0.7179334916864608] and parameters: {'iterations': 986, 'learning_rate': 0.19701894907335954, 'depth': 4, 'l2_leaf_reg': 9.544420237042242, 'bagging_temperature': 0.22903256985283293, 'random_strength': 6.697301996706361, 'border_count': 314, 'grow_policy': 'SymmetricTree'}.\n",
            "[I 2025-03-08 10:25:42,419] Trial 118 finished with values: [0.7130333138515488, 0.7084323040380047] and parameters: {'iterations': 251, 'learning_rate': 0.20415842491859132, 'depth': 5, 'l2_leaf_reg': 3.378812653530973, 'bagging_temperature': 0.07878144863315206, 'random_strength': 3.2946839899653937, 'border_count': 395, 'grow_policy': 'Depthwise'}.\n",
            "[I 2025-03-08 10:25:42,795] Trial 117 finished with values: [0.7207100591715976, 0.7197149643705463] and parameters: {'iterations': 251, 'learning_rate': 0.20415842491859132, 'depth': 8, 'l2_leaf_reg': 0.3008274177592548, 'bagging_temperature': 0.07878144863315206, 'random_strength': 12.69693839718646, 'border_count': 462, 'grow_policy': 'Depthwise'}.\n",
            "[I 2025-03-08 10:25:50,200] Trial 119 finished with values: [0.6930810171496156, 0.6918052256532067] and parameters: {'iterations': 251, 'learning_rate': 0.0712851724877722, 'depth': 5, 'l2_leaf_reg': 9.592717144677266, 'bagging_temperature': 0.6311985760798716, 'random_strength': 15.249203563529482, 'border_count': 460, 'grow_policy': 'Lossguide'}.\n",
            "[I 2025-03-08 10:26:03,607] Trial 121 finished with values: [0.7156398104265402, 0.7149643705463183] and parameters: {'iterations': 820, 'learning_rate': 0.11460336369958186, 'depth': 4, 'l2_leaf_reg': 3.281570738897721, 'bagging_temperature': 0.41667786253091377, 'random_strength': 19.788828324678754, 'border_count': 285, 'grow_policy': 'SymmetricTree'}.\n",
            "[I 2025-03-08 10:26:10,876] Trial 122 finished with values: [0.723629935179729, 0.7214964370546318] and parameters: {'iterations': 295, 'learning_rate': 0.17922177600668188, 'depth': 5, 'l2_leaf_reg': 9.742947631233735, 'bagging_temperature': 0.5001076337815371, 'random_strength': 18.355466853484756, 'border_count': 470, 'grow_policy': 'Lossguide'}.\n",
            "[I 2025-03-08 10:26:23,045] Trial 123 finished with values: [0.722254844392249, 0.7191211401425178] and parameters: {'iterations': 328, 'learning_rate': 0.1866451449444167, 'depth': 7, 'l2_leaf_reg': 1.7630443911880815, 'bagging_temperature': 0.22903256985283293, 'random_strength': 10.329911140036035, 'border_count': 460, 'grow_policy': 'Lossguide'}.\n",
            "[I 2025-03-08 10:26:25,526] Trial 120 finished with values: [0.735173223722842, 0.732185273159145] and parameters: {'iterations': 952, 'learning_rate': 0.10207176786412722, 'depth': 7, 'l2_leaf_reg': 0.3008274177592548, 'bagging_temperature': 0.6311985760798716, 'random_strength': 3.574558709941469, 'border_count': 507, 'grow_policy': 'Depthwise'}.\n",
            "[I 2025-03-08 10:26:39,024] Trial 124 finished with values: [0.7149587750294464, 0.7125890736342043] and parameters: {'iterations': 497, 'learning_rate': 0.16664338518989621, 'depth': 8, 'l2_leaf_reg': 5.760353107414303, 'bagging_temperature': 0.02628760533790553, 'random_strength': 3.574558709941469, 'border_count': 283, 'grow_policy': 'Lossguide'}.\n",
            "[I 2025-03-08 10:26:45,836] Trial 125 finished with values: [0.6129223473621814, 0.6122327790973872] and parameters: {'iterations': 841, 'learning_rate': 0.17922177600668188, 'depth': 8, 'l2_leaf_reg': 9.742947631233735, 'bagging_temperature': 0.5001076337815371, 'random_strength': 18.355466853484756, 'border_count': 44, 'grow_policy': 'Lossguide'}.\n",
            "[I 2025-03-08 10:26:46,049] Trial 126 finished with values: [0.7142857142857143, 0.7125890736342043] and parameters: {'iterations': 251, 'learning_rate': 0.19795960766497092, 'depth': 7, 'l2_leaf_reg': 3.281570738897721, 'bagging_temperature': 0.743586934378669, 'random_strength': 17.403857393918596, 'border_count': 329, 'grow_policy': 'SymmetricTree'}.\n",
            "[I 2025-03-08 10:27:00,031] Trial 127 finished with values: [0.6729522687094873, 0.6704275534441805] and parameters: {'iterations': 436, 'learning_rate': 0.10207176786412722, 'depth': 8, 'l2_leaf_reg': 5.010258392859824, 'bagging_temperature': 0.4429452382034096, 'random_strength': 6.120012165037681, 'border_count': 122, 'grow_policy': 'Lossguide'}.\n",
            "[I 2025-03-08 10:27:03,073] Trial 128 finished with values: [0.7155425219941349, 0.7119952494061758] and parameters: {'iterations': 383, 'learning_rate': 0.14462288436237358, 'depth': 7, 'l2_leaf_reg': 9.809735519816426, 'bagging_temperature': 0.5947048300296232, 'random_strength': 6.697301996706361, 'border_count': 363, 'grow_policy': 'Depthwise'}.\n",
            "[I 2025-03-08 10:27:12,091] Trial 129 finished with values: [0.7219965177016832, 0.7155581947743468] and parameters: {'iterations': 841, 'learning_rate': 0.16664338518989621, 'depth': 4, 'l2_leaf_reg': 5.760353107414303, 'bagging_temperature': 0.5001076337815371, 'random_strength': 3.1232797949506486, 'border_count': 470, 'grow_policy': 'SymmetricTree'}.\n",
            "[I 2025-03-08 10:27:23,638] Trial 131 finished with values: [0.6726403823178017, 0.6745843230403801] and parameters: {'iterations': 820, 'learning_rate': 0.03739355883400224, 'depth': 4, 'l2_leaf_reg': 0.6457712703769077, 'bagging_temperature': 0.8184316979837497, 'random_strength': 7.716974639471244, 'border_count': 120, 'grow_policy': 'SymmetricTree'}.\n",
            "[I 2025-03-08 10:27:33,891] Trial 132 finished with values: [0.7076923076923077, 0.7066508313539193] and parameters: {'iterations': 289, 'learning_rate': 0.10207176786412722, 'depth': 9, 'l2_leaf_reg': 5.907577069316615, 'bagging_temperature': 0.8914734180564217, 'random_strength': 6.120012165037681, 'border_count': 329, 'grow_policy': 'Lossguide'}.\n",
            "[I 2025-03-08 10:27:44,243] Trial 130 finished with values: [0.7149532710280374, 0.7102137767220903] and parameters: {'iterations': 820, 'learning_rate': 0.15720296708999953, 'depth': 9, 'l2_leaf_reg': 0.6457712703769077, 'bagging_temperature': 0.41667786253091377, 'random_strength': 6.120012165037681, 'border_count': 370, 'grow_policy': 'SymmetricTree'}.\n",
            "[I 2025-03-08 10:27:51,782] Trial 133 finished with values: [0.7404355503237199, 0.7381235154394299] and parameters: {'iterations': 251, 'learning_rate': 0.16664338518989621, 'depth': 8, 'l2_leaf_reg': 0.05189607456556366, 'bagging_temperature': 0.02628760533790553, 'random_strength': 3.2946839899653937, 'border_count': 507, 'grow_policy': 'Depthwise'}.\n",
            "[I 2025-03-08 10:27:59,204] Trial 134 finished with values: [0.7191142191142191, 0.7137767220902613] and parameters: {'iterations': 436, 'learning_rate': 0.15720296708999953, 'depth': 9, 'l2_leaf_reg': 5.010258392859824, 'bagging_temperature': 0.8914734180564217, 'random_strength': 6.120012165037681, 'border_count': 370, 'grow_policy': 'Lossguide'}.\n",
            "[I 2025-03-08 10:28:06,910] Trial 135 finished with values: [0.7086053412462908, 0.7084323040380047] and parameters: {'iterations': 634, 'learning_rate': 0.05040843100043701, 'depth': 5, 'l2_leaf_reg': 0.6457712703769077, 'bagging_temperature': 0.41667786253091377, 'random_strength': 14.114114751168268, 'border_count': 284, 'grow_policy': 'Lossguide'}.\n",
            "[I 2025-03-08 10:28:13,697] Trial 137 finished with values: [0.691948658109685, 0.6864608076009501] and parameters: {'iterations': 185, 'learning_rate': 0.14321375674087425, 'depth': 7, 'l2_leaf_reg': 9.544420237042242, 'bagging_temperature': 0.22903256985283293, 'random_strength': 6.697301996706361, 'border_count': 363, 'grow_policy': 'Depthwise'}.\n",
            "[I 2025-03-08 10:28:22,373] Trial 136 finished with values: [0.724824355971897, 0.7209026128266033] and parameters: {'iterations': 952, 'learning_rate': 0.15720296708999953, 'depth': 7, 'l2_leaf_reg': 5.760353107414303, 'bagging_temperature': 0.02628760533790553, 'random_strength': 6.120012165037681, 'border_count': 370, 'grow_policy': 'SymmetricTree'}.\n",
            "[I 2025-03-08 10:28:24,340] Trial 138 finished with values: [0.7187316500293599, 0.7155581947743468] and parameters: {'iterations': 788, 'learning_rate': 0.27424132170508847, 'depth': 4, 'l2_leaf_reg': 9.204147704038453, 'bagging_temperature': 0.7700441592534275, 'random_strength': 7.711796261466933, 'border_count': 314, 'grow_policy': 'SymmetricTree'}.\n",
            "[I 2025-03-08 10:28:50,015] Trial 139 finished with values: [0.6941457586618877, 0.6959619952494062] and parameters: {'iterations': 614, 'learning_rate': 0.2266826970382999, 'depth': 9, 'l2_leaf_reg': 9.100797777398153, 'bagging_temperature': 0.6277577951841897, 'random_strength': 7.711796261466933, 'border_count': 240, 'grow_policy': 'SymmetricTree'}.\n",
            "[I 2025-03-08 10:29:02,054] Trial 140 finished with values: [0.7238542890716804, 0.7209026128266033] and parameters: {'iterations': 986, 'learning_rate': 0.10207176786412722, 'depth': 7, 'l2_leaf_reg': 8.252538030527065, 'bagging_temperature': 0.8184316979837497, 'random_strength': 11.633214108823195, 'border_count': 363, 'grow_policy': 'Depthwise'}.\n",
            "[I 2025-03-08 10:29:08,108] Trial 142 finished with values: [0.7203339296362552, 0.7214964370546318] and parameters: {'iterations': 251, 'learning_rate': 0.20415842491859132, 'depth': 7, 'l2_leaf_reg': 0.05189607456556366, 'bagging_temperature': 0.07878144863315206, 'random_strength': 7.716974639471244, 'border_count': 462, 'grow_policy': 'SymmetricTree'}.\n",
            "[I 2025-03-08 10:29:15,612] Trial 143 finished with values: [0.7085514834205934, 0.7024940617577197] and parameters: {'iterations': 251, 'learning_rate': 0.20415842491859132, 'depth': 8, 'l2_leaf_reg': 3.1484931510459444, 'bagging_temperature': 0.41667786253091377, 'random_strength': 19.761906766056818, 'border_count': 285, 'grow_policy': 'SymmetricTree'}.\n",
            "[I 2025-03-08 10:29:17,105] Trial 141 finished with values: [0.7267441860465116, 0.7209026128266033] and parameters: {'iterations': 952, 'learning_rate': 0.10207176786412722, 'depth': 7, 'l2_leaf_reg': 5.760353107414303, 'bagging_temperature': 0.7804929695802015, 'random_strength': 3.574558709941469, 'border_count': 507, 'grow_policy': 'SymmetricTree'}.\n",
            "[I 2025-03-08 10:29:32,007] Trial 145 finished with values: [0.7240566037735849, 0.7220902612826603] and parameters: {'iterations': 682, 'learning_rate': 0.15720296708999953, 'depth': 5, 'l2_leaf_reg': 3.4105444081074068, 'bagging_temperature': 0.7700441592534275, 'random_strength': 6.120012165037681, 'border_count': 478, 'grow_policy': 'SymmetricTree'}.\n",
            "[I 2025-03-08 10:29:32,738] Trial 144 finished with values: [0.7110332749562172, 0.7060570071258907] and parameters: {'iterations': 877, 'learning_rate': 0.28204900792187776, 'depth': 5, 'l2_leaf_reg': 9.43493359516854, 'bagging_temperature': 0.5947048300296232, 'random_strength': 19.83971598917388, 'border_count': 284, 'grow_policy': 'SymmetricTree'}.\n",
            "[I 2025-03-08 10:29:44,376] Trial 147 finished with values: [0.7191539365452408, 0.7161520190023754] and parameters: {'iterations': 328, 'learning_rate': 0.16664338518989621, 'depth': 8, 'l2_leaf_reg': 9.592717144677266, 'bagging_temperature': 0.30767417811732467, 'random_strength': 10.329911140036035, 'border_count': 460, 'grow_policy': 'SymmetricTree'}.\n",
            "[I 2025-03-08 10:30:06,585] Trial 146 finished with values: [0.7084565345949142, 0.7072446555819477] and parameters: {'iterations': 755, 'learning_rate': 0.10207176786412722, 'depth': 9, 'l2_leaf_reg': 2.803688588284437, 'bagging_temperature': 0.02628760533790553, 'random_strength': 3.574558709941469, 'border_count': 283, 'grow_policy': 'SymmetricTree'}.\n",
            "[I 2025-03-08 10:30:21,645] Trial 148 finished with values: [0.7025428740390302, 0.7013064133016627] and parameters: {'iterations': 986, 'learning_rate': 0.19701894907335954, 'depth': 7, 'l2_leaf_reg': 9.204147704038453, 'bagging_temperature': 0.22903256985283293, 'random_strength': 7.711796261466933, 'border_count': 363, 'grow_policy': 'Depthwise'}.\n",
            "[I 2025-03-08 10:30:28,462] Trial 149 finished with values: [0.7149587750294464, 0.7125890736342043] and parameters: {'iterations': 497, 'learning_rate': 0.20415842491859132, 'depth': 7, 'l2_leaf_reg': 0.3008274177592548, 'bagging_temperature': 0.22903256985283293, 'random_strength': 10.60002351027832, 'border_count': 305, 'grow_policy': 'Depthwise'}.\n",
            "[I 2025-03-08 10:30:49,603] Trial 150 finished with values: [0.7284382284382285, 0.7232779097387173] and parameters: {'iterations': 704, 'learning_rate': 0.16664338518989621, 'depth': 8, 'l2_leaf_reg': 5.760353107414303, 'bagging_temperature': 0.02628760533790553, 'random_strength': 3.574558709941469, 'border_count': 507, 'grow_policy': 'SymmetricTree'}.\n",
            "[I 2025-03-08 10:30:50,662] Trial 151 finished with values: [0.7138643067846607, 0.7119952494061758] and parameters: {'iterations': 763, 'learning_rate': 0.10207176786412722, 'depth': 5, 'l2_leaf_reg': 9.43493359516854, 'bagging_temperature': 0.6464837808568242, 'random_strength': 14.114114751168268, 'border_count': 329, 'grow_policy': 'Lossguide'}.\n",
            "[I 2025-03-08 10:30:59,217] Trial 153 finished with values: [0.7136204889406287, 0.7078384798099763] and parameters: {'iterations': 497, 'learning_rate': 0.27514837805958664, 'depth': 4, 'l2_leaf_reg': 2.9791680634073776, 'bagging_temperature': 0.41667786253091377, 'random_strength': 19.161819075367543, 'border_count': 470, 'grow_policy': 'SymmetricTree'}.\n",
            "[I 2025-03-08 10:31:13,791] Trial 154 finished with values: [0.7307692307692307, 0.7256532066508313] and parameters: {'iterations': 952, 'learning_rate': 0.10207176786412722, 'depth': 4, 'l2_leaf_reg': 5.760353107414303, 'bagging_temperature': 0.02628760533790553, 'random_strength': 3.574558709941469, 'border_count': 507, 'grow_policy': 'SymmetricTree'}.\n",
            "[I 2025-03-08 10:31:16,375] Trial 152 finished with values: [0.7208480565371025, 0.7185273159144893] and parameters: {'iterations': 755, 'learning_rate': 0.07828318674652023, 'depth': 8, 'l2_leaf_reg': 3.378812653530973, 'bagging_temperature': 0.4503465111065912, 'random_strength': 12.276011804267384, 'border_count': 395, 'grow_policy': 'Lossguide'}.\n",
            "[I 2025-03-08 10:31:21,740] Trial 156 finished with values: [0.6181599518941672, 0.6229216152019003] and parameters: {'iterations': 251, 'learning_rate': 0.16664338518989621, 'depth': 8, 'l2_leaf_reg': 3.4105444081074068, 'bagging_temperature': 0.02628760533790553, 'random_strength': 12.224453516759118, 'border_count': 33, 'grow_policy': 'SymmetricTree'}.\n",
            "[I 2025-03-08 10:31:37,878] Trial 155 finished with values: [0.7281213535589265, 0.7232779097387173] and parameters: {'iterations': 757, 'learning_rate': 0.10207176786412722, 'depth': 7, 'l2_leaf_reg': 5.760353107414303, 'bagging_temperature': 0.4818630874678551, 'random_strength': 3.574558709941469, 'border_count': 460, 'grow_policy': 'Lossguide'}.\n",
            "[I 2025-03-08 10:31:43,911] Trial 157 finished with values: [0.7104795737122558, 0.7096199524940617] and parameters: {'iterations': 436, 'learning_rate': 0.10207176786412722, 'depth': 9, 'l2_leaf_reg': 5.760353107414303, 'bagging_temperature': 0.8914734180564217, 'random_strength': 6.120012165037681, 'border_count': 370, 'grow_policy': 'SymmetricTree'}.\n",
            "[I 2025-03-08 10:32:07,409] Trial 158 finished with values: [0.723955267804591, 0.7214964370546318] and parameters: {'iterations': 986, 'learning_rate': 0.10207176786412722, 'depth': 7, 'l2_leaf_reg': 0.3008274177592548, 'bagging_temperature': 0.22903256985283293, 'random_strength': 6.697301996706361, 'border_count': 507, 'grow_policy': 'SymmetricTree'}.\n",
            "[I 2025-03-08 10:32:07,740] Trial 159 finished with values: [0.7204678362573099, 0.7161520190023754] and parameters: {'iterations': 704, 'learning_rate': 0.16664338518989621, 'depth': 7, 'l2_leaf_reg': 8.47313337641206, 'bagging_temperature': 0.02628760533790553, 'random_strength': 11.633214108823195, 'border_count': 329, 'grow_policy': 'Lossguide'}.\n",
            "[I 2025-03-08 10:32:19,039] Trial 160 finished with values: [0.7106357694592988, 0.7108076009501187] and parameters: {'iterations': 328, 'learning_rate': 0.11283059924095543, 'depth': 8, 'l2_leaf_reg': 9.592717144677266, 'bagging_temperature': 0.4503465111065912, 'random_strength': 12.276011804267384, 'border_count': 395, 'grow_policy': 'Lossguide'}.\n",
            "[I 2025-03-08 10:32:32,395] Trial 162 finished with values: [0.7185488589818607, 0.7143705463182898] and parameters: {'iterations': 820, 'learning_rate': 0.19701894907335954, 'depth': 4, 'l2_leaf_reg': 2.862098889799947, 'bagging_temperature': 0.41667786253091377, 'random_strength': 6.697301996706361, 'border_count': 293, 'grow_policy': 'SymmetricTree'}.\n",
            "[I 2025-03-08 10:32:36,994] Trial 161 finished with values: [0.7337624341720305, 0.7298099762470309] and parameters: {'iterations': 952, 'learning_rate': 0.26547278717323786, 'depth': 6, 'l2_leaf_reg': 2.9791680634073776, 'bagging_temperature': 0.5947048300296232, 'random_strength': 6.747696638646641, 'border_count': 470, 'grow_policy': 'Depthwise'}.\n",
            "[I 2025-03-08 10:32:51,494] Trial 164 finished with values: [0.735052754982415, 0.7315914489311164] and parameters: {'iterations': 497, 'learning_rate': 0.15680785969011954, 'depth': 5, 'l2_leaf_reg': 2.9791680634073776, 'bagging_temperature': 0.22903256985283293, 'random_strength': 18.355466853484756, 'border_count': 470, 'grow_policy': 'Lossguide'}.\n",
            "[I 2025-03-08 10:33:18,168] Trial 165 finished with values: [0.7224513847967, 0.7203087885985748] and parameters: {'iterations': 704, 'learning_rate': 0.16664338518989621, 'depth': 8, 'l2_leaf_reg': 8.251425131424433, 'bagging_temperature': 0.02628760533790553, 'random_strength': 7.711796261466933, 'border_count': 507, 'grow_policy': 'SymmetricTree'}.\n",
            "[I 2025-03-08 10:33:32,989] Trial 163 finished with values: [0.713353115727003, 0.7131828978622328] and parameters: {'iterations': 841, 'learning_rate': 0.2266826970382999, 'depth': 10, 'l2_leaf_reg': 9.742947631233735, 'bagging_temperature': 0.5001076337815371, 'random_strength': 18.355466853484756, 'border_count': 470, 'grow_policy': 'SymmetricTree'}.\n",
            "[I 2025-03-08 10:33:37,822] Trial 166 finished with values: [0.7045055588063195, 0.7001187648456056] and parameters: {'iterations': 251, 'learning_rate': 0.10207176786412722, 'depth': 10, 'l2_leaf_reg': 5.760353107414303, 'bagging_temperature': 0.7804929695802015, 'random_strength': 3.574558709941469, 'border_count': 507, 'grow_policy': 'SymmetricTree'}.\n",
            "[I 2025-03-08 10:33:43,698] Trial 167 finished with values: [0.7182516243354992, 0.7167458432304038] and parameters: {'iterations': 289, 'learning_rate': 0.10207176786412722, 'depth': 8, 'l2_leaf_reg': 3.281570738897721, 'bagging_temperature': 0.6464837808568242, 'random_strength': 3.574558709941469, 'border_count': 329, 'grow_policy': 'Lossguide'}.\n",
            "[I 2025-03-08 10:34:10,033] Trial 169 finished with values: [0.7203290246768508, 0.7173396674584323] and parameters: {'iterations': 952, 'learning_rate': 0.16664338518989621, 'depth': 7, 'l2_leaf_reg': 9.592717144677266, 'bagging_temperature': 0.4271597212013176, 'random_strength': 10.329911140036035, 'border_count': 460, 'grow_policy': 'SymmetricTree'}.\n",
            "[I 2025-03-08 10:34:21,117] Trial 170 finished with values: [0.6443661971830986, 0.6401425178147269] and parameters: {'iterations': 682, 'learning_rate': 0.19383612386948174, 'depth': 5, 'l2_leaf_reg': 9.657938496252969, 'bagging_temperature': 0.22903256985283293, 'random_strength': 6.120012165037681, 'border_count': 46, 'grow_policy': 'SymmetricTree'}.\n",
            "[I 2025-03-08 10:34:30,378] Trial 168 finished with values: [0.7170474516695958, 0.7131828978622328] and parameters: {'iterations': 877, 'learning_rate': 0.2857336355296272, 'depth': 8, 'l2_leaf_reg': 0.3008274177592548, 'bagging_temperature': 0.5947048300296232, 'random_strength': 12.69693839718646, 'border_count': 462, 'grow_policy': 'Depthwise'}.\n",
            "[I 2025-03-08 10:34:34,113] Trial 171 finished with values: [0.7181871005229518, 0.7119952494061758] and parameters: {'iterations': 488, 'learning_rate': 0.19701894907335954, 'depth': 6, 'l2_leaf_reg': 9.544420237042242, 'bagging_temperature': 0.22903256985283293, 'random_strength': 6.697301996706361, 'border_count': 314, 'grow_policy': 'Depthwise'}.\n",
            "[I 2025-03-08 10:34:43,408] Trial 173 finished with values: [0.6963855421686747, 0.7007125890736342] and parameters: {'iterations': 251, 'learning_rate': 0.16664338518989621, 'depth': 8, 'l2_leaf_reg': 0.05189607456556366, 'bagging_temperature': 0.02628760533790553, 'random_strength': 10.269454037953121, 'border_count': 285, 'grow_policy': 'SymmetricTree'}.\n",
            "[I 2025-03-08 10:34:50,304] Trial 172 finished with values: [0.6832151300236406, 0.6817102137767221] and parameters: {'iterations': 755, 'learning_rate': 0.04112056099527632, 'depth': 7, 'l2_leaf_reg': 9.592717144677266, 'bagging_temperature': 0.4644283577608115, 'random_strength': 6.120012165037681, 'border_count': 149, 'grow_policy': 'SymmetricTree'}.\n",
            "[I 2025-03-08 10:35:17,095] Trial 175 finished with values: [0.7267441860465116, 0.7209026128266033] and parameters: {'iterations': 952, 'learning_rate': 0.10207176786412722, 'depth': 7, 'l2_leaf_reg': 5.760353107414303, 'bagging_temperature': 0.829910469811336, 'random_strength': 3.574558709941469, 'border_count': 507, 'grow_policy': 'SymmetricTree'}.\n",
            "[I 2025-03-08 10:35:18,994] Trial 174 finished with values: [0.73094688221709, 0.7232779097387173] and parameters: {'iterations': 295, 'learning_rate': 0.17922177600668188, 'depth': 10, 'l2_leaf_reg': 4.4712980242491716, 'bagging_temperature': 0.4818630874678551, 'random_strength': 18.355466853484756, 'border_count': 460, 'grow_policy': 'Depthwise'}.\n",
            "[I 2025-03-08 10:35:38,606] Trial 176 finished with values: [0.727694090382387, 0.7209026128266033] and parameters: {'iterations': 614, 'learning_rate': 0.1866451449444167, 'depth': 7, 'l2_leaf_reg': 9.100797777398153, 'bagging_temperature': 0.22903256985283293, 'random_strength': 7.711796261466933, 'border_count': 460, 'grow_policy': 'Lossguide'}.\n",
            "[I 2025-03-08 10:35:43,335] Trial 177 finished with values: [0.7250580046403712, 0.7185273159144893] and parameters: {'iterations': 755, 'learning_rate': 0.15720296708999953, 'depth': 9, 'l2_leaf_reg': 8.252538030527065, 'bagging_temperature': 0.8914734180564217, 'random_strength': 11.633214108823195, 'border_count': 395, 'grow_policy': 'Lossguide'}.\n",
            "[I 2025-03-08 10:35:56,152] Trial 178 finished with values: [0.7349327091866589, 0.7309976247030879] and parameters: {'iterations': 497, 'learning_rate': 0.26547278717323786, 'depth': 8, 'l2_leaf_reg': 1.7630443911880815, 'bagging_temperature': 0.22903256985283293, 'random_strength': 10.329911140036035, 'border_count': 470, 'grow_policy': 'Lossguide'}.\n",
            "[I 2025-03-08 10:35:59,949] Trial 179 finished with values: [0.7177089421391, 0.7131828978622328] and parameters: {'iterations': 614, 'learning_rate': 0.11283059924095543, 'depth': 7, 'l2_leaf_reg': 9.100797777398153, 'bagging_temperature': 0.7700441592534275, 'random_strength': 7.711796261466933, 'border_count': 478, 'grow_policy': 'SymmetricTree'}.\n",
            "[I 2025-03-08 10:36:03,099] Trial 180 finished with values: [0.6887019230769231, 0.6923990498812351] and parameters: {'iterations': 251, 'learning_rate': 0.20415842491859132, 'depth': 7, 'l2_leaf_reg': 0.05189607456556366, 'bagging_temperature': 0.07878144863315206, 'random_strength': 11.633214108823195, 'border_count': 329, 'grow_policy': 'SymmetricTree'}.\n",
            "[I 2025-03-08 10:36:06,690] Trial 182 finished with values: [0.6686602870813397, 0.671021377672209] and parameters: {'iterations': 251, 'learning_rate': 0.16664338518989621, 'depth': 4, 'l2_leaf_reg': 5.760353107414303, 'bagging_temperature': 0.5001076337815371, 'random_strength': 12.69693839718646, 'border_count': 132, 'grow_policy': 'Depthwise'}.\n",
            "[I 2025-03-08 10:36:18,801] Trial 183 finished with values: [0.7123449497932663, 0.7108076009501187] and parameters: {'iterations': 251, 'learning_rate': 0.20415842491859132, 'depth': 7, 'l2_leaf_reg': 0.3008274177592548, 'bagging_temperature': 0.07878144863315206, 'random_strength': 12.69693839718646, 'border_count': 462, 'grow_policy': 'Depthwise'}.\n",
            "[I 2025-03-08 10:36:30,892] Trial 181 finished with values: [0.7184009406231628, 0.7155581947743468] and parameters: {'iterations': 952, 'learning_rate': 0.17922177600668188, 'depth': 6, 'l2_leaf_reg': 5.760353107414303, 'bagging_temperature': 0.6208223510705773, 'random_strength': 6.120012165037681, 'border_count': 470, 'grow_policy': 'Lossguide'}.\n",
            "[I 2025-03-08 10:36:39,124] Trial 185 finished with values: [0.7241784037558685, 0.7209026128266033] and parameters: {'iterations': 251, 'learning_rate': 0.20415842491859132, 'depth': 7, 'l2_leaf_reg': 8.61276886348518, 'bagging_temperature': 0.6464837808568242, 'random_strength': 7.716974639471244, 'border_count': 462, 'grow_policy': 'Lossguide'}.\n",
            "[I 2025-03-08 10:36:45,050] Trial 184 finished with values: [0.7126843657817109, 0.7108076009501187] and parameters: {'iterations': 820, 'learning_rate': 0.26547278717323786, 'depth': 7, 'l2_leaf_reg': 2.9791680634073776, 'bagging_temperature': 0.2814458897142198, 'random_strength': 7.716974639471244, 'border_count': 462, 'grow_policy': 'Lossguide'}.\n",
            "[I 2025-03-08 10:36:56,245] Trial 187 finished with values: [0.7142857142857143, 0.7125890736342043] and parameters: {'iterations': 820, 'learning_rate': 0.19701894907335954, 'depth': 4, 'l2_leaf_reg': 6.185825790598307, 'bagging_temperature': 0.41667786253091377, 'random_strength': 7.711796261466933, 'border_count': 293, 'grow_policy': 'SymmetricTree'}.\n",
            "[I 2025-03-08 10:37:07,565] Trial 186 finished with values: [0.7177985948477752, 0.7137767220902613] and parameters: {'iterations': 952, 'learning_rate': 0.15720296708999953, 'depth': 6, 'l2_leaf_reg': 7.423875035851123, 'bagging_temperature': 0.02628760533790553, 'random_strength': 6.120012165037681, 'border_count': 370, 'grow_policy': 'Lossguide'}.\n",
            "[I 2025-03-08 10:37:21,549] Trial 189 finished with values: [0.7219965177016832, 0.7155581947743468] and parameters: {'iterations': 436, 'learning_rate': 0.15720296708999953, 'depth': 7, 'l2_leaf_reg': 5.010258392859824, 'bagging_temperature': 0.05343157508873797, 'random_strength': 7.716974639471244, 'border_count': 462, 'grow_policy': 'SymmetricTree'}.\n",
            "[I 2025-03-08 10:37:24,523] Trial 188 finished with values: [0.7341477603257708, 0.7286223277909739] and parameters: {'iterations': 753, 'learning_rate': 0.2266826970382999, 'depth': 8, 'l2_leaf_reg': 0.3008274177592548, 'bagging_temperature': 0.6311985760798716, 'random_strength': 3.2946839899653937, 'border_count': 462, 'grow_policy': 'Lossguide'}.\n",
            "[I 2025-03-08 10:37:45,574] Trial 190 finished with values: [0.7209439528023599, 0.7191211401425178] and parameters: {'iterations': 755, 'learning_rate': 0.07828318674652023, 'depth': 8, 'l2_leaf_reg': 3.378812653530973, 'bagging_temperature': 0.4503465111065912, 'random_strength': 8.738687305727964, 'border_count': 462, 'grow_policy': 'SymmetricTree'}.\n",
            "[I 2025-03-08 10:37:58,159] Trial 191 finished with values: [0.7345029239766082, 0.7304038004750594] and parameters: {'iterations': 952, 'learning_rate': 0.11283059924095543, 'depth': 8, 'l2_leaf_reg': 0.3008274177592548, 'bagging_temperature': 0.4644283577608115, 'random_strength': 6.120012165037681, 'border_count': 460, 'grow_policy': 'Lossguide'}.\n",
            "[I 2025-03-08 10:38:02,214] Trial 193 finished with values: [0.6182040317654246, 0.6288598574821853] and parameters: {'iterations': 114, 'learning_rate': 0.0570048165535498, 'depth': 9, 'l2_leaf_reg': 5.523992518823914, 'bagging_temperature': 0.4503465111065912, 'random_strength': 7.946247832707484, 'border_count': 507, 'grow_policy': 'SymmetricTree'}.\n",
            "[I 2025-03-08 10:38:06,001] Trial 192 finished with values: [0.7140361094933023, 0.7084323040380047] and parameters: {'iterations': 952, 'learning_rate': 0.14634392716962247, 'depth': 5, 'l2_leaf_reg': 3.0783903015946814, 'bagging_temperature': 0.5947048300296232, 'random_strength': 3.574558709941469, 'border_count': 374, 'grow_policy': 'Depthwise'}.\n",
            "[I 2025-03-08 10:38:18,871] Trial 194 finished with values: [0.7164351851851852, 0.7090261282660333] and parameters: {'iterations': 497, 'learning_rate': 0.26547278717323786, 'depth': 8, 'l2_leaf_reg': 5.760353107414303, 'bagging_temperature': 0.02628760533790553, 'random_strength': 3.574558709941469, 'border_count': 507, 'grow_policy': 'SymmetricTree'}.\n",
            "[I 2025-03-08 10:38:26,121] Trial 196 finished with values: [0.7204237786933491, 0.7179334916864608] and parameters: {'iterations': 251, 'learning_rate': 0.15720296708999953, 'depth': 8, 'l2_leaf_reg': 0.3008274177592548, 'bagging_temperature': 0.8914734180564217, 'random_strength': 11.633214108823195, 'border_count': 462, 'grow_policy': 'Lossguide'}.\n",
            "[I 2025-03-08 10:38:32,702] Trial 195 finished with values: [0.7214665878178592, 0.7203087885985748] and parameters: {'iterations': 681, 'learning_rate': 0.20415842491859132, 'depth': 10, 'l2_leaf_reg': 1.7630443911880815, 'bagging_temperature': 0.22903256985283293, 'random_strength': 3.2946839899653937, 'border_count': 460, 'grow_policy': 'Lossguide'}.\n",
            "[I 2025-03-08 10:38:38,209] Trial 197 finished with values: [0.7330583382439599, 0.7309976247030879] and parameters: {'iterations': 788, 'learning_rate': 0.20415842491859132, 'depth': 4, 'l2_leaf_reg': 0.05189607456556366, 'bagging_temperature': 0.7700441592534275, 'random_strength': 7.711796261466933, 'border_count': 462, 'grow_policy': 'SymmetricTree'}.\n",
            "[I 2025-03-08 10:38:48,018] Trial 198 finished with values: [0.7292882147024504, 0.7244655581947743] and parameters: {'iterations': 877, 'learning_rate': 0.26547278717323786, 'depth': 4, 'l2_leaf_reg': 2.9791680634073776, 'bagging_temperature': 0.5947048300296232, 'random_strength': 6.747696638646641, 'border_count': 470, 'grow_policy': 'Depthwise'}.\n",
            "[I 2025-03-08 10:38:48,602] Trial 199 finished with values: [0.7222222222222222, 0.7209026128266033] and parameters: {'iterations': 289, 'learning_rate': 0.10207176786412722, 'depth': 7, 'l2_leaf_reg': 3.281570738897721, 'bagging_temperature': 0.6464837808568242, 'random_strength': 3.574558709941469, 'border_count': 507, 'grow_policy': 'Lossguide'}.\n"
          ]
        }
      ]
    },
    {
      "cell_type": "code",
      "source": [
        "pareto_front_trials = study_cb.best_trials\n",
        "\n",
        "for trial in pareto_front_trials:\n",
        "    print(f\"Trial number: {trial.number}\")\n",
        "    print(f\"Parameters: {trial.params}\")\n",
        "    print(f\"Objective values: {trial.values}\")\n",
        "    print(\"\\n\")"
      ],
      "metadata": {
        "colab": {
          "base_uri": "https://localhost:8080/"
        },
        "id": "gIFQEpCJZ3un",
        "outputId": "fc5d314f-e7af-4d9c-f316-96dec0eb7907"
      },
      "execution_count": null,
      "outputs": [
        {
          "output_type": "stream",
          "name": "stdout",
          "text": [
            "Trial number: 133\n",
            "Parameters: {'iterations': 251, 'learning_rate': 0.16664338518989621, 'depth': 8, 'l2_leaf_reg': 0.05189607456556366, 'bagging_temperature': 0.02628760533790553, 'random_strength': 3.2946839899653937, 'border_count': 507, 'grow_policy': 'Depthwise'}\n",
            "Objective values: [0.7404355503237199, 0.7381235154394299]\n",
            "\n",
            "\n"
          ]
        }
      ]
    },
    {
      "cell_type": "code",
      "source": [
        "best_parameters = trial.params\n",
        "\n",
        "best_cb = CatBoostClassifier(**best_parameters, cat_features=categorical_columns, verbose=0)\n",
        "best_cb.fit(X_train, y_train)\n",
        "\n",
        "pred_train = best_cb.predict(X_train)\n",
        "pred_test = best_cb.predict(X_test)\n",
        "\n",
        "classification_metrics(y_train, pred_train, y_test, pred_test)"
      ],
      "metadata": {
        "colab": {
          "base_uri": "https://localhost:8080/"
        },
        "id": "L7_mFkNnaELK",
        "outputId": "69ff8e18-0c37-47a9-852c-682d34d2a58f"
      },
      "execution_count": null,
      "outputs": [
        {
          "output_type": "stream",
          "name": "stdout",
          "text": [
            "Accuracy_train: 0.9897504456327986\n",
            "Precision_train: 0.990036231884058\n",
            "Recall_train: 0.9891402714932127\n",
            "F1_train: 0.9895880488909009\n",
            "----------------------\n",
            "Accuracy_test: 0.7381235154394299\n",
            "Precision_test: 0.7461447212336892\n",
            "Recall_test: 0.7348130841121495\n",
            "F1_test: 0.7404355503237199\n"
          ]
        }
      ]
    },
    {
      "cell_type": "code",
      "source": [
        "best_cb.get_feature_importance(prettified=True)"
      ],
      "metadata": {
        "colab": {
          "base_uri": "https://localhost:8080/",
          "height": 300
        },
        "id": "hOob8aWziHoI",
        "outputId": "51758d17-dfe0-4f7e-e366-70700a810a04"
      },
      "execution_count": null,
      "outputs": [
        {
          "output_type": "execute_result",
          "data": {
            "text/plain": [
              "              Feature Id  Importances\n",
              "0          created_price    50.263032\n",
              "1                 ticker    13.424845\n",
              "2  processed_text_length    12.203980\n",
              "3       sentiment_scores     9.523205\n",
              "4              subreddit     6.447541\n",
              "5                  score     6.407356\n",
              "6           num_comments     1.084712\n",
              "7                   type     0.645328"
            ],
            "text/html": [
              "\n",
              "  <div id=\"df-e7590454-b40f-49b4-9c4b-15820503b5bd\" class=\"colab-df-container\">\n",
              "    <div>\n",
              "<style scoped>\n",
              "    .dataframe tbody tr th:only-of-type {\n",
              "        vertical-align: middle;\n",
              "    }\n",
              "\n",
              "    .dataframe tbody tr th {\n",
              "        vertical-align: top;\n",
              "    }\n",
              "\n",
              "    .dataframe thead th {\n",
              "        text-align: right;\n",
              "    }\n",
              "</style>\n",
              "<table border=\"1\" class=\"dataframe\">\n",
              "  <thead>\n",
              "    <tr style=\"text-align: right;\">\n",
              "      <th></th>\n",
              "      <th>Feature Id</th>\n",
              "      <th>Importances</th>\n",
              "    </tr>\n",
              "  </thead>\n",
              "  <tbody>\n",
              "    <tr>\n",
              "      <th>0</th>\n",
              "      <td>created_price</td>\n",
              "      <td>50.263032</td>\n",
              "    </tr>\n",
              "    <tr>\n",
              "      <th>1</th>\n",
              "      <td>ticker</td>\n",
              "      <td>13.424845</td>\n",
              "    </tr>\n",
              "    <tr>\n",
              "      <th>2</th>\n",
              "      <td>processed_text_length</td>\n",
              "      <td>12.203980</td>\n",
              "    </tr>\n",
              "    <tr>\n",
              "      <th>3</th>\n",
              "      <td>sentiment_scores</td>\n",
              "      <td>9.523205</td>\n",
              "    </tr>\n",
              "    <tr>\n",
              "      <th>4</th>\n",
              "      <td>subreddit</td>\n",
              "      <td>6.447541</td>\n",
              "    </tr>\n",
              "    <tr>\n",
              "      <th>5</th>\n",
              "      <td>score</td>\n",
              "      <td>6.407356</td>\n",
              "    </tr>\n",
              "    <tr>\n",
              "      <th>6</th>\n",
              "      <td>num_comments</td>\n",
              "      <td>1.084712</td>\n",
              "    </tr>\n",
              "    <tr>\n",
              "      <th>7</th>\n",
              "      <td>type</td>\n",
              "      <td>0.645328</td>\n",
              "    </tr>\n",
              "  </tbody>\n",
              "</table>\n",
              "</div>\n",
              "    <div class=\"colab-df-buttons\">\n",
              "\n",
              "  <div class=\"colab-df-container\">\n",
              "    <button class=\"colab-df-convert\" onclick=\"convertToInteractive('df-e7590454-b40f-49b4-9c4b-15820503b5bd')\"\n",
              "            title=\"Convert this dataframe to an interactive table.\"\n",
              "            style=\"display:none;\">\n",
              "\n",
              "  <svg xmlns=\"http://www.w3.org/2000/svg\" height=\"24px\" viewBox=\"0 -960 960 960\">\n",
              "    <path d=\"M120-120v-720h720v720H120Zm60-500h600v-160H180v160Zm220 220h160v-160H400v160Zm0 220h160v-160H400v160ZM180-400h160v-160H180v160Zm440 0h160v-160H620v160ZM180-180h160v-160H180v160Zm440 0h160v-160H620v160Z\"/>\n",
              "  </svg>\n",
              "    </button>\n",
              "\n",
              "  <style>\n",
              "    .colab-df-container {\n",
              "      display:flex;\n",
              "      gap: 12px;\n",
              "    }\n",
              "\n",
              "    .colab-df-convert {\n",
              "      background-color: #E8F0FE;\n",
              "      border: none;\n",
              "      border-radius: 50%;\n",
              "      cursor: pointer;\n",
              "      display: none;\n",
              "      fill: #1967D2;\n",
              "      height: 32px;\n",
              "      padding: 0 0 0 0;\n",
              "      width: 32px;\n",
              "    }\n",
              "\n",
              "    .colab-df-convert:hover {\n",
              "      background-color: #E2EBFA;\n",
              "      box-shadow: 0px 1px 2px rgba(60, 64, 67, 0.3), 0px 1px 3px 1px rgba(60, 64, 67, 0.15);\n",
              "      fill: #174EA6;\n",
              "    }\n",
              "\n",
              "    .colab-df-buttons div {\n",
              "      margin-bottom: 4px;\n",
              "    }\n",
              "\n",
              "    [theme=dark] .colab-df-convert {\n",
              "      background-color: #3B4455;\n",
              "      fill: #D2E3FC;\n",
              "    }\n",
              "\n",
              "    [theme=dark] .colab-df-convert:hover {\n",
              "      background-color: #434B5C;\n",
              "      box-shadow: 0px 1px 3px 1px rgba(0, 0, 0, 0.15);\n",
              "      filter: drop-shadow(0px 1px 2px rgba(0, 0, 0, 0.3));\n",
              "      fill: #FFFFFF;\n",
              "    }\n",
              "  </style>\n",
              "\n",
              "    <script>\n",
              "      const buttonEl =\n",
              "        document.querySelector('#df-e7590454-b40f-49b4-9c4b-15820503b5bd button.colab-df-convert');\n",
              "      buttonEl.style.display =\n",
              "        google.colab.kernel.accessAllowed ? 'block' : 'none';\n",
              "\n",
              "      async function convertToInteractive(key) {\n",
              "        const element = document.querySelector('#df-e7590454-b40f-49b4-9c4b-15820503b5bd');\n",
              "        const dataTable =\n",
              "          await google.colab.kernel.invokeFunction('convertToInteractive',\n",
              "                                                    [key], {});\n",
              "        if (!dataTable) return;\n",
              "\n",
              "        const docLinkHtml = 'Like what you see? Visit the ' +\n",
              "          '<a target=\"_blank\" href=https://colab.research.google.com/notebooks/data_table.ipynb>data table notebook</a>'\n",
              "          + ' to learn more about interactive tables.';\n",
              "        element.innerHTML = '';\n",
              "        dataTable['output_type'] = 'display_data';\n",
              "        await google.colab.output.renderOutput(dataTable, element);\n",
              "        const docLink = document.createElement('div');\n",
              "        docLink.innerHTML = docLinkHtml;\n",
              "        element.appendChild(docLink);\n",
              "      }\n",
              "    </script>\n",
              "  </div>\n",
              "\n",
              "\n",
              "<div id=\"df-e23285fe-5af0-4986-b108-d50ef77cef66\">\n",
              "  <button class=\"colab-df-quickchart\" onclick=\"quickchart('df-e23285fe-5af0-4986-b108-d50ef77cef66')\"\n",
              "            title=\"Suggest charts\"\n",
              "            style=\"display:none;\">\n",
              "\n",
              "<svg xmlns=\"http://www.w3.org/2000/svg\" height=\"24px\"viewBox=\"0 0 24 24\"\n",
              "     width=\"24px\">\n",
              "    <g>\n",
              "        <path d=\"M19 3H5c-1.1 0-2 .9-2 2v14c0 1.1.9 2 2 2h14c1.1 0 2-.9 2-2V5c0-1.1-.9-2-2-2zM9 17H7v-7h2v7zm4 0h-2V7h2v10zm4 0h-2v-4h2v4z\"/>\n",
              "    </g>\n",
              "</svg>\n",
              "  </button>\n",
              "\n",
              "<style>\n",
              "  .colab-df-quickchart {\n",
              "      --bg-color: #E8F0FE;\n",
              "      --fill-color: #1967D2;\n",
              "      --hover-bg-color: #E2EBFA;\n",
              "      --hover-fill-color: #174EA6;\n",
              "      --disabled-fill-color: #AAA;\n",
              "      --disabled-bg-color: #DDD;\n",
              "  }\n",
              "\n",
              "  [theme=dark] .colab-df-quickchart {\n",
              "      --bg-color: #3B4455;\n",
              "      --fill-color: #D2E3FC;\n",
              "      --hover-bg-color: #434B5C;\n",
              "      --hover-fill-color: #FFFFFF;\n",
              "      --disabled-bg-color: #3B4455;\n",
              "      --disabled-fill-color: #666;\n",
              "  }\n",
              "\n",
              "  .colab-df-quickchart {\n",
              "    background-color: var(--bg-color);\n",
              "    border: none;\n",
              "    border-radius: 50%;\n",
              "    cursor: pointer;\n",
              "    display: none;\n",
              "    fill: var(--fill-color);\n",
              "    height: 32px;\n",
              "    padding: 0;\n",
              "    width: 32px;\n",
              "  }\n",
              "\n",
              "  .colab-df-quickchart:hover {\n",
              "    background-color: var(--hover-bg-color);\n",
              "    box-shadow: 0 1px 2px rgba(60, 64, 67, 0.3), 0 1px 3px 1px rgba(60, 64, 67, 0.15);\n",
              "    fill: var(--button-hover-fill-color);\n",
              "  }\n",
              "\n",
              "  .colab-df-quickchart-complete:disabled,\n",
              "  .colab-df-quickchart-complete:disabled:hover {\n",
              "    background-color: var(--disabled-bg-color);\n",
              "    fill: var(--disabled-fill-color);\n",
              "    box-shadow: none;\n",
              "  }\n",
              "\n",
              "  .colab-df-spinner {\n",
              "    border: 2px solid var(--fill-color);\n",
              "    border-color: transparent;\n",
              "    border-bottom-color: var(--fill-color);\n",
              "    animation:\n",
              "      spin 1s steps(1) infinite;\n",
              "  }\n",
              "\n",
              "  @keyframes spin {\n",
              "    0% {\n",
              "      border-color: transparent;\n",
              "      border-bottom-color: var(--fill-color);\n",
              "      border-left-color: var(--fill-color);\n",
              "    }\n",
              "    20% {\n",
              "      border-color: transparent;\n",
              "      border-left-color: var(--fill-color);\n",
              "      border-top-color: var(--fill-color);\n",
              "    }\n",
              "    30% {\n",
              "      border-color: transparent;\n",
              "      border-left-color: var(--fill-color);\n",
              "      border-top-color: var(--fill-color);\n",
              "      border-right-color: var(--fill-color);\n",
              "    }\n",
              "    40% {\n",
              "      border-color: transparent;\n",
              "      border-right-color: var(--fill-color);\n",
              "      border-top-color: var(--fill-color);\n",
              "    }\n",
              "    60% {\n",
              "      border-color: transparent;\n",
              "      border-right-color: var(--fill-color);\n",
              "    }\n",
              "    80% {\n",
              "      border-color: transparent;\n",
              "      border-right-color: var(--fill-color);\n",
              "      border-bottom-color: var(--fill-color);\n",
              "    }\n",
              "    90% {\n",
              "      border-color: transparent;\n",
              "      border-bottom-color: var(--fill-color);\n",
              "    }\n",
              "  }\n",
              "</style>\n",
              "\n",
              "  <script>\n",
              "    async function quickchart(key) {\n",
              "      const quickchartButtonEl =\n",
              "        document.querySelector('#' + key + ' button');\n",
              "      quickchartButtonEl.disabled = true;  // To prevent multiple clicks.\n",
              "      quickchartButtonEl.classList.add('colab-df-spinner');\n",
              "      try {\n",
              "        const charts = await google.colab.kernel.invokeFunction(\n",
              "            'suggestCharts', [key], {});\n",
              "      } catch (error) {\n",
              "        console.error('Error during call to suggestCharts:', error);\n",
              "      }\n",
              "      quickchartButtonEl.classList.remove('colab-df-spinner');\n",
              "      quickchartButtonEl.classList.add('colab-df-quickchart-complete');\n",
              "    }\n",
              "    (() => {\n",
              "      let quickchartButtonEl =\n",
              "        document.querySelector('#df-e23285fe-5af0-4986-b108-d50ef77cef66 button');\n",
              "      quickchartButtonEl.style.display =\n",
              "        google.colab.kernel.accessAllowed ? 'block' : 'none';\n",
              "    })();\n",
              "  </script>\n",
              "</div>\n",
              "\n",
              "    </div>\n",
              "  </div>\n"
            ],
            "application/vnd.google.colaboratory.intrinsic+json": {
              "type": "dataframe",
              "summary": "{\n  \"name\": \"best_cb\",\n  \"rows\": 8,\n  \"fields\": [\n    {\n      \"column\": \"Feature Id\",\n      \"properties\": {\n        \"dtype\": \"string\",\n        \"num_unique_values\": 8,\n        \"samples\": [\n          \"ticker\",\n          \"score\",\n          \"created_price\"\n        ],\n        \"semantic_type\": \"\",\n        \"description\": \"\"\n      }\n    },\n    {\n      \"column\": \"Importances\",\n      \"properties\": {\n        \"dtype\": \"number\",\n        \"std\": 15.948333950239537,\n        \"min\": 0.645328229872971,\n        \"max\": 50.263032298836606,\n        \"num_unique_values\": 8,\n        \"samples\": [\n          13.424845465889662,\n          6.407356138481654,\n          50.263032298836606\n        ],\n        \"semantic_type\": \"\",\n        \"description\": \"\"\n      }\n    }\n  ]\n}"
            }
          },
          "metadata": {},
          "execution_count": 40
        }
      ]
    },
    {
      "cell_type": "markdown",
      "source": [
        "## Experiment 6: GradientBoostingClassifier, OHE, keep embeddings"
      ],
      "metadata": {
        "id": "m_svYkGBR5-4"
      }
    },
    {
      "cell_type": "code",
      "source": [
        "embedding_df = pd.DataFrame(df['doc_embedding'].to_list(), columns=[f'emb_{i}' for i in range(100)])\n",
        "df_emb = df.copy()\n",
        "df_emb = df_emb.drop(columns=['doc_embedding']).join(embedding_df)"
      ],
      "metadata": {
        "id": "2dgEcxHVg17e"
      },
      "execution_count": null,
      "outputs": []
    },
    {
      "cell_type": "code",
      "source": [
        "X_train, X_test, y_train, y_test = train_test_split(df_emb.drop(columns=['target', 'price_1d']), df_emb['target'], test_size=0.2, random_state=69)"
      ],
      "metadata": {
        "id": "HJLHNGVvhTmu"
      },
      "execution_count": null,
      "outputs": []
    },
    {
      "cell_type": "code",
      "execution_count": null,
      "metadata": {
        "colab": {
          "base_uri": "https://localhost:8080/"
        },
        "id": "PhR89wJPhlig",
        "outputId": "eff3b945-f331-4ee4-cbe1-210e54040744"
      },
      "outputs": [
        {
          "output_type": "execute_result",
          "data": {
            "text/plain": [
              "(6732, 822)"
            ]
          },
          "metadata": {},
          "execution_count": 24
        }
      ],
      "source": [
        "ohe = OneHotEncoder(drop='first', handle_unknown='ignore', sparse_output=False)\n",
        "X_train_encoded = ohe.fit_transform(X_train[['subreddit', 'type', 'ticker']])\n",
        "X_train_encoded = pd.DataFrame(X_train_encoded, columns=ohe.get_feature_names_out(), index=X_train.index)\n",
        "X_train = pd.concat([X_train, X_train_encoded], axis=1)\n",
        "X_train.drop(columns=['subreddit', 'type', 'ticker'], inplace=True)\n",
        "X_train.shape"
      ]
    },
    {
      "cell_type": "code",
      "execution_count": null,
      "metadata": {
        "colab": {
          "base_uri": "https://localhost:8080/"
        },
        "outputId": "eaa8a9da-78aa-4526-9976-909a6b1b8d41",
        "id": "4zBLDxs6hlih"
      },
      "outputs": [
        {
          "output_type": "stream",
          "name": "stderr",
          "text": [
            "/usr/local/lib/python3.11/dist-packages/sklearn/preprocessing/_encoders.py:246: UserWarning: Found unknown categories in columns [2] during transform. These unknown categories will be encoded as all zeros\n",
            "  warnings.warn(\n"
          ]
        },
        {
          "output_type": "execute_result",
          "data": {
            "text/plain": [
              "(1684, 822)"
            ]
          },
          "metadata": {},
          "execution_count": 25
        }
      ],
      "source": [
        "X_test_encoded = ohe.transform(X_test[['subreddit', 'type', 'ticker']])\n",
        "X_test_encoded = pd.DataFrame(X_test_encoded, columns=ohe.get_feature_names_out(), index=X_test.index)\n",
        "X_test = pd.concat([X_test, X_test_encoded], axis=1)\n",
        "X_test.drop(columns=['subreddit', 'type', 'ticker'], inplace=True)\n",
        "X_test.shape"
      ]
    },
    {
      "cell_type": "code",
      "source": [
        "def objective(trial):\n",
        "    param = {\n",
        "        'n_estimators': trial.suggest_int('n_estimators', 50, 500),\n",
        "        'learning_rate': trial.suggest_float('learning_rate', 0.01, 0.3, log=True),\n",
        "        'max_depth': trial.suggest_int('max_depth', 3, 10),\n",
        "        'min_samples_split': trial.suggest_int('min_samples_split', 2, 20),\n",
        "        'min_samples_leaf': trial.suggest_int('min_samples_leaf', 1, 20),\n",
        "        'subsample': trial.suggest_float('subsample', 0.5, 1.0),\n",
        "        'max_features': trial.suggest_categorical('max_features', ['sqrt', 'log2', None])\n",
        "    }\n",
        "    model = GradientBoostingClassifier(**param, random_state=42)\n",
        "    model.fit(X_train, y_train)\n",
        "    y_pred = model.predict(X_test)\n",
        "    f1 = f1_score(y_test, y_pred)\n",
        "    accuracy = accuracy_score(y_test, y_pred)\n",
        "    return f1, accuracy"
      ],
      "metadata": {
        "id": "VfxFEl95h4zi"
      },
      "execution_count": null,
      "outputs": []
    },
    {
      "cell_type": "code",
      "source": [
        "study = optuna.create_study(directions=['maximize', 'maximize'])\n",
        "study.optimize(objective, n_jobs=-1, n_trials=100)"
      ],
      "metadata": {
        "colab": {
          "base_uri": "https://localhost:8080/"
        },
        "outputId": "224873ba-1439-4ac5-e405-248c131fcb7e",
        "id": "PYcdMNW2h4zi"
      },
      "execution_count": null,
      "outputs": [
        {
          "output_type": "stream",
          "name": "stderr",
          "text": [
            "[I 2025-03-08 11:36:39,694] A new study created in memory with name: no-name-5c76ee1d-1a4f-46a6-832d-282108e2f864\n",
            "[I 2025-03-08 11:36:42,199] Trial 0 finished with values: [0.4754664823773324, 0.5492874109263658] and parameters: {'n_estimators': 155, 'learning_rate': 0.02891958294014425, 'max_depth': 7, 'min_samples_split': 7, 'min_samples_leaf': 18, 'subsample': 0.8601035098816601, 'max_features': 'log2'}.\n",
            "[I 2025-03-08 11:36:55,612] Trial 1 finished with values: [0.5734513274336284, 0.5706650831353919] and parameters: {'n_estimators': 267, 'learning_rate': 0.20738180433015851, 'max_depth': 7, 'min_samples_split': 17, 'min_samples_leaf': 14, 'subsample': 0.7523370702580354, 'max_features': 'sqrt'}.\n",
            "[I 2025-03-08 11:37:19,997] Trial 3 finished with values: [0.5844858689116055, 0.5896674584323041] and parameters: {'n_estimators': 382, 'learning_rate': 0.08171085370831596, 'max_depth': 8, 'min_samples_split': 2, 'min_samples_leaf': 5, 'subsample': 0.923843257236803, 'max_features': 'sqrt'}.\n",
            "[I 2025-03-08 11:37:26,545] Trial 4 finished with values: [0.49348869088416725, 0.5611638954869359] and parameters: {'n_estimators': 337, 'learning_rate': 0.012206408470302776, 'max_depth': 8, 'min_samples_split': 12, 'min_samples_leaf': 9, 'subsample': 0.7307995136810552, 'max_features': 'log2'}.\n",
            "[I 2025-03-08 11:40:01,159] Trial 5 finished with values: [0.6423099587507366, 0.6395486935866983] and parameters: {'n_estimators': 434, 'learning_rate': 0.08977796268462429, 'max_depth': 3, 'min_samples_split': 19, 'min_samples_leaf': 14, 'subsample': 0.5862007959142702, 'max_features': None}.\n",
            "[I 2025-03-08 11:40:06,615] Trial 6 finished with values: [0.492, 0.5475059382422803] and parameters: {'n_estimators': 71, 'learning_rate': 0.015579803117337454, 'max_depth': 10, 'min_samples_split': 6, 'min_samples_leaf': 16, 'subsample': 0.6865459476801573, 'max_features': 'sqrt'}.\n",
            "[I 2025-03-08 11:40:16,134] Trial 7 finished with values: [0.5707317073170731, 0.5819477434679335] and parameters: {'n_estimators': 319, 'learning_rate': 0.04680788197684633, 'max_depth': 7, 'min_samples_split': 20, 'min_samples_leaf': 11, 'subsample': 0.5145971361303672, 'max_features': 'sqrt'}.\n",
            "[I 2025-03-08 11:40:23,299] Trial 8 finished with values: [0.5539739027283511, 0.5534441805225653] and parameters: {'n_estimators': 438, 'learning_rate': 0.11793651845466015, 'max_depth': 9, 'min_samples_split': 4, 'min_samples_leaf': 17, 'subsample': 0.6330821400793712, 'max_features': 'log2'}.\n",
            "[I 2025-03-08 11:40:29,554] Trial 2 finished with values: [0.6244284781188766, 0.6585510688836105] and parameters: {'n_estimators': 220, 'learning_rate': 0.01088370453810338, 'max_depth': 6, 'min_samples_split': 6, 'min_samples_leaf': 16, 'subsample': 0.8556519243743734, 'max_features': None}.\n",
            "[I 2025-03-08 11:40:32,604] Trial 10 finished with values: [0.5370030581039755, 0.5504750593824228] and parameters: {'n_estimators': 231, 'learning_rate': 0.17621369347747343, 'max_depth': 5, 'min_samples_split': 12, 'min_samples_leaf': 8, 'subsample': 0.6078422311590119, 'max_features': 'log2'}.\n",
            "[I 2025-03-08 11:40:35,480] Trial 11 finished with values: [0.49473684210526314, 0.5439429928741093] and parameters: {'n_estimators': 208, 'learning_rate': 0.06223587530755033, 'max_depth': 4, 'min_samples_split': 13, 'min_samples_leaf': 18, 'subsample': 0.6225462335933547, 'max_features': 'log2'}.\n",
            "[I 2025-03-08 11:40:49,572] Trial 9 finished with values: [0.5753588516746412, 0.5783847980997625] and parameters: {'n_estimators': 400, 'learning_rate': 0.12808965397827402, 'max_depth': 9, 'min_samples_split': 6, 'min_samples_leaf': 19, 'subsample': 0.8343510636281741, 'max_features': 'sqrt'}.\n",
            "[I 2025-03-08 11:40:53,027] Trial 12 finished with values: [0.5714285714285714, 0.5706650831353919] and parameters: {'n_estimators': 453, 'learning_rate': 0.0794423861836137, 'max_depth': 7, 'min_samples_split': 16, 'min_samples_leaf': 3, 'subsample': 0.5493001048537701, 'max_features': 'sqrt'}.\n",
            "[I 2025-03-08 11:40:59,385] Trial 14 finished with values: [0.56664674237896, 0.5694774346793349] and parameters: {'n_estimators': 372, 'learning_rate': 0.08820804544730951, 'max_depth': 9, 'min_samples_split': 2, 'min_samples_leaf': 11, 'subsample': 0.8251776369389816, 'max_features': 'log2'}.\n",
            "[I 2025-03-08 11:41:09,044] Trial 15 finished with values: [0.5947867298578199, 0.5938242280285035] and parameters: {'n_estimators': 269, 'learning_rate': 0.18491863489912555, 'max_depth': 4, 'min_samples_split': 7, 'min_samples_leaf': 12, 'subsample': 0.958084100232981, 'max_features': 'sqrt'}.\n",
            "[I 2025-03-08 11:41:33,164] Trial 13 finished with values: [0.5740291262135923, 0.5831353919239906] and parameters: {'n_estimators': 451, 'learning_rate': 0.11542510865206136, 'max_depth': 10, 'min_samples_split': 10, 'min_samples_leaf': 2, 'subsample': 0.998645921064133, 'max_features': 'sqrt'}.\n",
            "[I 2025-03-08 11:41:33,760] Trial 16 finished with values: [0.5654060756354619, 0.583729216152019] and parameters: {'n_estimators': 394, 'learning_rate': 0.0126966486130624, 'max_depth': 8, 'min_samples_split': 19, 'min_samples_leaf': 11, 'subsample': 0.859295812825008, 'max_features': 'sqrt'}.\n",
            "[I 2025-03-08 11:42:57,977] Trial 18 finished with values: [0.6080305927342257, 0.6347980997624703] and parameters: {'n_estimators': 141, 'learning_rate': 0.01207091649590468, 'max_depth': 6, 'min_samples_split': 15, 'min_samples_leaf': 15, 'subsample': 0.5144245681214475, 'max_features': None}.\n",
            "[I 2025-03-08 11:43:02,376] Trial 19 finished with values: [0.49230769230769234, 0.5492874109263658] and parameters: {'n_estimators': 214, 'learning_rate': 0.04217632001038471, 'max_depth': 3, 'min_samples_split': 19, 'min_samples_leaf': 3, 'subsample': 0.6501514804046687, 'max_features': 'sqrt'}.\n",
            "[I 2025-03-08 11:44:17,994] Trial 17 finished with values: [0.6534653465346535, 0.6466745843230404] and parameters: {'n_estimators': 286, 'learning_rate': 0.21163152717746245, 'max_depth': 4, 'min_samples_split': 12, 'min_samples_leaf': 8, 'subsample': 0.7135521456616348, 'max_features': None}.\n",
            "[I 2025-03-08 11:44:21,760] Trial 21 finished with values: [0.49432197728790916, 0.5504750593824228] and parameters: {'n_estimators': 233, 'learning_rate': 0.030411532876357148, 'max_depth': 7, 'min_samples_split': 13, 'min_samples_leaf': 14, 'subsample': 0.5501773709876938, 'max_features': 'log2'}.\n",
            "[I 2025-03-08 11:44:31,177] Trial 22 finished with values: [0.5346658338538414, 0.5576009501187649] and parameters: {'n_estimators': 200, 'learning_rate': 0.03293945068013057, 'max_depth': 7, 'min_samples_split': 4, 'min_samples_leaf': 16, 'subsample': 0.6750947872880715, 'max_features': 'sqrt'}.\n",
            "[I 2025-03-08 11:47:00,456] Trial 20 finished with values: [0.6214689265536724, 0.6419239904988123] and parameters: {'n_estimators': 446, 'learning_rate': 0.013736897004947981, 'max_depth': 4, 'min_samples_split': 19, 'min_samples_leaf': 13, 'subsample': 0.6509084057768786, 'max_features': None}.\n",
            "[I 2025-03-08 11:47:06,139] Trial 24 finished with values: [0.5505685218432077, 0.5540380047505938] and parameters: {'n_estimators': 405, 'learning_rate': 0.16465239046241872, 'max_depth': 8, 'min_samples_split': 8, 'min_samples_leaf': 20, 'subsample': 0.9069728078535348, 'max_features': 'log2'}.\n",
            "[I 2025-03-08 11:47:16,936] Trial 25 finished with values: [0.5604938271604938, 0.5771971496437055] and parameters: {'n_estimators': 495, 'learning_rate': 0.03952147265444115, 'max_depth': 9, 'min_samples_split': 12, 'min_samples_leaf': 10, 'subsample': 0.970795510359223, 'max_features': 'log2'}.\n",
            "[I 2025-03-08 11:47:25,266] Trial 26 finished with values: [0.5119363395225465, 0.5629453681710214] and parameters: {'n_estimators': 441, 'learning_rate': 0.010118969053010695, 'max_depth': 8, 'min_samples_split': 20, 'min_samples_leaf': 4, 'subsample': 0.647608854163817, 'max_features': 'log2'}.\n",
            "[I 2025-03-08 11:47:28,600] Trial 27 finished with values: [0.5656081485919713, 0.5694774346793349] and parameters: {'n_estimators': 273, 'learning_rate': 0.14934573944044185, 'max_depth': 5, 'min_samples_split': 7, 'min_samples_leaf': 2, 'subsample': 0.6348485621605884, 'max_features': 'log2'}.\n",
            "[I 2025-03-08 11:47:32,191] Trial 28 finished with values: [0.49064171122994654, 0.5475059382422803] and parameters: {'n_estimators': 311, 'learning_rate': 0.014453185753152437, 'max_depth': 8, 'min_samples_split': 8, 'min_samples_leaf': 10, 'subsample': 0.594817062564083, 'max_features': 'log2'}.\n",
            "[I 2025-03-08 11:48:22,126] Trial 23 finished with values: [0.6488781079442086, 0.6561757719714965] and parameters: {'n_estimators': 208, 'learning_rate': 0.01625211725047127, 'max_depth': 10, 'min_samples_split': 12, 'min_samples_leaf': 18, 'subsample': 0.6413691813530662, 'max_features': None}.\n",
            "[I 2025-03-08 11:48:41,112] Trial 30 finished with values: [0.6028537455410226, 0.6033254156769596] and parameters: {'n_estimators': 411, 'learning_rate': 0.07514357251538399, 'max_depth': 6, 'min_samples_split': 16, 'min_samples_leaf': 3, 'subsample': 0.8702714239301453, 'max_features': 'sqrt'}.\n",
            "[I 2025-03-08 11:48:43,278] Trial 29 finished with values: [0.6070087609511889, 0.6270783847980997] and parameters: {'n_estimators': 204, 'learning_rate': 0.03549883646997473, 'max_depth': 3, 'min_samples_split': 6, 'min_samples_leaf': 16, 'subsample': 0.576858981502826, 'max_features': None}.\n",
            "[I 2025-03-08 11:48:47,808] Trial 32 finished with values: [0.5152722443559097, 0.5665083135391924] and parameters: {'n_estimators': 395, 'learning_rate': 0.016179088014100736, 'max_depth': 5, 'min_samples_split': 14, 'min_samples_leaf': 1, 'subsample': 0.5543875029155008, 'max_features': 'log2'}.\n",
            "[I 2025-03-08 11:48:51,315] Trial 31 finished with values: [0.5457788347205708, 0.5463182897862233] and parameters: {'n_estimators': 316, 'learning_rate': 0.2946005711133457, 'max_depth': 6, 'min_samples_split': 10, 'min_samples_leaf': 19, 'subsample': 0.5808865757664305, 'max_features': 'sqrt'}.\n",
            "[I 2025-03-08 11:49:09,892] Trial 34 finished with values: [0.5845588235294118, 0.5973871733966746] and parameters: {'n_estimators': 223, 'learning_rate': 0.05399365627633923, 'max_depth': 10, 'min_samples_split': 6, 'min_samples_leaf': 11, 'subsample': 0.9317937203414652, 'max_features': 'sqrt'}.\n",
            "[I 2025-03-08 11:54:29,850] Trial 35 finished with values: [0.663895486935867, 0.663895486935867] and parameters: {'n_estimators': 399, 'learning_rate': 0.06136339001353322, 'max_depth': 4, 'min_samples_split': 15, 'min_samples_leaf': 20, 'subsample': 0.9507114715063791, 'max_features': None}.\n",
            "[I 2025-03-08 11:54:34,853] Trial 36 finished with values: [0.4601139601139601, 0.5498812351543944] and parameters: {'n_estimators': 276, 'learning_rate': 0.01187860849630814, 'max_depth': 4, 'min_samples_split': 8, 'min_samples_leaf': 9, 'subsample': 0.5298927377178686, 'max_features': 'sqrt'}.\n",
            "[I 2025-03-08 11:56:55,621] Trial 37 finished with values: [0.6550898203592814, 0.6579572446555819] and parameters: {'n_estimators': 150, 'learning_rate': 0.026322506085385347, 'max_depth': 8, 'min_samples_split': 7, 'min_samples_leaf': 4, 'subsample': 0.6211205873055379, 'max_features': None}.\n",
            "[I 2025-03-08 11:57:35,965] Trial 33 finished with values: [0.6538461538461539, 0.6472684085510689] and parameters: {'n_estimators': 434, 'learning_rate': 0.18486368378833143, 'max_depth': 9, 'min_samples_split': 11, 'min_samples_leaf': 7, 'subsample': 0.7226384889503619, 'max_features': None}.\n",
            "[I 2025-03-08 11:57:55,574] Trial 39 finished with values: [0.5632949727437916, 0.5718527315914489] and parameters: {'n_estimators': 323, 'learning_rate': 0.03540453390530857, 'max_depth': 10, 'min_samples_split': 4, 'min_samples_leaf': 17, 'subsample': 0.6735828931441955, 'max_features': 'sqrt'}.\n",
            "[I 2025-03-08 11:59:17,880] Trial 38 finished with values: [0.6456876456876457, 0.6389548693586699] and parameters: {'n_estimators': 355, 'learning_rate': 0.1962481608648849, 'max_depth': 3, 'min_samples_split': 2, 'min_samples_leaf': 11, 'subsample': 0.6590041620299478, 'max_features': None}.\n",
            "[I 2025-03-08 12:00:02,762] Trial 40 finished with values: [0.609181141439206, 0.6258907363420427] and parameters: {'n_estimators': 333, 'learning_rate': 0.03246700683871027, 'max_depth': 3, 'min_samples_split': 8, 'min_samples_leaf': 5, 'subsample': 0.6189874427012088, 'max_features': None}.\n",
            "[I 2025-03-08 12:00:06,799] Trial 42 finished with values: [0.4747191011235955, 0.5558194774346793] and parameters: {'n_estimators': 88, 'learning_rate': 0.03358769092842567, 'max_depth': 4, 'min_samples_split': 9, 'min_samples_leaf': 19, 'subsample': 0.7487389006688085, 'max_features': 'sqrt'}.\n",
            "[I 2025-03-08 12:00:13,403] Trial 43 finished with values: [0.5456821026282853, 0.5688836104513064] and parameters: {'n_estimators': 285, 'learning_rate': 0.02749392026108611, 'max_depth': 9, 'min_samples_split': 11, 'min_samples_leaf': 4, 'subsample': 0.927350817998561, 'max_features': 'log2'}.\n",
            "[I 2025-03-08 12:00:16,300] Trial 44 finished with values: [0.5329192546583851, 0.5534441805225653] and parameters: {'n_estimators': 187, 'learning_rate': 0.07361453045198725, 'max_depth': 9, 'min_samples_split': 12, 'min_samples_leaf': 15, 'subsample': 0.899780792533063, 'max_features': 'log2'}.\n",
            "[I 2025-03-08 12:03:05,699] Trial 41 finished with values: [0.6254589963280294, 0.6365795724465558] and parameters: {'n_estimators': 424, 'learning_rate': 0.021034016291447476, 'max_depth': 4, 'min_samples_split': 8, 'min_samples_leaf': 15, 'subsample': 0.654204173432836, 'max_features': None}.\n",
            "[I 2025-03-08 12:03:07,520] Trial 46 finished with values: [0.4200151630022744, 0.5457244655581948] and parameters: {'n_estimators': 218, 'learning_rate': 0.02162292851760823, 'max_depth': 3, 'min_samples_split': 5, 'min_samples_leaf': 18, 'subsample': 0.7859545803820047, 'max_features': 'log2'}.\n",
            "[I 2025-03-08 12:04:10,063] Trial 45 finished with values: [0.6650998824911868, 0.661520190023753] and parameters: {'n_estimators': 150, 'learning_rate': 0.050901659878383056, 'max_depth': 9, 'min_samples_split': 8, 'min_samples_leaf': 13, 'subsample': 0.8998159428381821, 'max_features': None}.\n",
            "[I 2025-03-08 12:04:30,301] Trial 48 finished with values: [0.5707434052757794, 0.5748218527315915] and parameters: {'n_estimators': 399, 'learning_rate': 0.07975800908944539, 'max_depth': 7, 'min_samples_split': 19, 'min_samples_leaf': 17, 'subsample': 0.741836487044504, 'max_features': 'sqrt'}.\n",
            "[I 2025-03-08 12:04:43,051] Trial 49 finished with values: [0.558645707376058, 0.5665083135391924] and parameters: {'n_estimators': 326, 'learning_rate': 0.0588435555051187, 'max_depth': 8, 'min_samples_split': 5, 'min_samples_leaf': 19, 'subsample': 0.5587333203347966, 'max_features': 'sqrt'}.\n",
            "[I 2025-03-08 12:05:54,898] Trial 47 finished with values: [0.6498533724340176, 0.6454869358669834] and parameters: {'n_estimators': 126, 'learning_rate': 0.2394138386398671, 'max_depth': 7, 'min_samples_split': 13, 'min_samples_leaf': 13, 'subsample': 0.9548377073365921, 'max_features': None}.\n",
            "[I 2025-03-08 12:07:11,580] Trial 51 finished with values: [0.60498687664042, 0.6425178147268409] and parameters: {'n_estimators': 119, 'learning_rate': 0.05399365627633923, 'max_depth': 3, 'min_samples_split': 6, 'min_samples_leaf': 9, 'subsample': 0.9904213997336472, 'max_features': None}.\n",
            "[I 2025-03-08 12:07:25,275] Trial 52 finished with values: [0.5422276621787026, 0.5558194774346793] and parameters: {'n_estimators': 208, 'learning_rate': 0.0794423861836137, 'max_depth': 10, 'min_samples_split': 16, 'min_samples_leaf': 5, 'subsample': 0.6413691813530662, 'max_features': 'sqrt'}.\n",
            "[I 2025-03-08 12:08:59,860] Trial 50 finished with values: [0.6437869822485207, 0.6425178147268409] and parameters: {'n_estimators': 312, 'learning_rate': 0.06144590948945862, 'max_depth': 8, 'min_samples_split': 15, 'min_samples_leaf': 11, 'subsample': 0.563332497792372, 'max_features': None}.\n",
            "[I 2025-03-08 12:09:21,424] Trial 54 finished with values: [0.5761875385564467, 0.5920427553444181] and parameters: {'n_estimators': 434, 'learning_rate': 0.012589816683109142, 'max_depth': 8, 'min_samples_split': 11, 'min_samples_leaf': 7, 'subsample': 0.7226384889503619, 'max_features': 'sqrt'}.\n",
            "[I 2025-03-08 12:10:45,302] Trial 53 finished with values: [0.6336154776299879, 0.6401425178147269] and parameters: {'n_estimators': 424, 'learning_rate': 0.021034016291447476, 'max_depth': 4, 'min_samples_split': 19, 'min_samples_leaf': 15, 'subsample': 0.5862007959142702, 'max_features': None}.\n",
            "[I 2025-03-08 12:10:57,034] Trial 56 finished with values: [0.5898942420681551, 0.5855106888361045] and parameters: {'n_estimators': 420, 'learning_rate': 0.12808965397827402, 'max_depth': 4, 'min_samples_split': 6, 'min_samples_leaf': 12, 'subsample': 0.8343510636281741, 'max_features': 'sqrt'}.\n",
            "[I 2025-03-08 12:11:29,117] Trial 57 finished with values: [0.5587529976019184, 0.5629453681710214] and parameters: {'n_estimators': 451, 'learning_rate': 0.03549883646997473, 'max_depth': 10, 'min_samples_split': 6, 'min_samples_leaf': 2, 'subsample': 0.576858981502826, 'max_features': 'sqrt'}.\n",
            "[I 2025-03-08 12:12:15,019] Trial 55 finished with values: [0.6312613156306578, 0.6371733966745843] and parameters: {'n_estimators': 312, 'learning_rate': 0.06144590948945862, 'max_depth': 3, 'min_samples_split': 15, 'min_samples_leaf': 19, 'subsample': 0.8702714239301453, 'max_features': None}.\n",
            "[I 2025-03-08 12:12:23,787] Trial 59 finished with values: [0.5978898007033998, 0.5926365795724465] and parameters: {'n_estimators': 286, 'learning_rate': 0.18542573923298827, 'max_depth': 4, 'min_samples_split': 12, 'min_samples_leaf': 8, 'subsample': 0.9424641357108141, 'max_features': 'sqrt'}.\n",
            "[I 2025-03-08 12:13:31,332] Trial 58 finished with values: [0.6283029947152085, 0.6241092636579573] and parameters: {'n_estimators': 150, 'learning_rate': 0.18486368378833143, 'max_depth': 9, 'min_samples_split': 11, 'min_samples_leaf': 13, 'subsample': 0.5252907411083535, 'max_features': None}.\n",
            "[I 2025-03-08 12:18:13,341] Trial 60 finished with values: [0.6635182998819362, 0.661520190023753] and parameters: {'n_estimators': 465, 'learning_rate': 0.050901659878383056, 'max_depth': 4, 'min_samples_split': 8, 'min_samples_leaf': 13, 'subsample': 0.8998159428381821, 'max_features': None}.\n",
            "[I 2025-03-08 12:18:22,934] Trial 62 finished with values: [0.536, 0.5866983372921615] and parameters: {'n_estimators': 269, 'learning_rate': 0.02175725972020827, 'max_depth': 4, 'min_samples_split': 7, 'min_samples_leaf': 12, 'subsample': 0.958084100232981, 'max_features': 'sqrt'}.\n",
            "[I 2025-03-08 12:18:31,353] Trial 63 finished with values: [0.5133470225872689, 0.577790973871734] and parameters: {'n_estimators': 220, 'learning_rate': 0.01088370453810338, 'max_depth': 6, 'min_samples_split': 8, 'min_samples_leaf': 16, 'subsample': 0.8556519243743734, 'max_features': 'sqrt'}.\n",
            "[I 2025-03-08 12:18:53,878] Trial 61 finished with values: [0.6269592476489029, 0.6466745843230404] and parameters: {'n_estimators': 441, 'learning_rate': 0.010118969053010695, 'max_depth': 5, 'min_samples_split': 14, 'min_samples_leaf': 4, 'subsample': 0.7135521456616348, 'max_features': None}.\n",
            "[I 2025-03-08 12:27:08,755] Trial 64 finished with values: [0.6674641148325359, 0.669833729216152] and parameters: {'n_estimators': 434, 'learning_rate': 0.02891958294014425, 'max_depth': 7, 'min_samples_split': 7, 'min_samples_leaf': 18, 'subsample': 0.8601035098816601, 'max_features': None}.\n",
            "[I 2025-03-08 12:27:16,447] Trial 66 finished with values: [0.5200764818355641, 0.5528503562945368] and parameters: {'n_estimators': 200, 'learning_rate': 0.03293945068013057, 'max_depth': 7, 'min_samples_split': 4, 'min_samples_leaf': 19, 'subsample': 0.5501773709876938, 'max_features': 'sqrt'}.\n",
            "[I 2025-03-08 12:27:24,436] Trial 67 finished with values: [0.5705741626794258, 0.5736342042755345] and parameters: {'n_estimators': 200, 'learning_rate': 0.07975800908944539, 'max_depth': 7, 'min_samples_split': 13, 'min_samples_leaf': 16, 'subsample': 0.741836487044504, 'max_features': 'sqrt'}.\n",
            "[I 2025-03-08 12:27:45,018] Trial 68 finished with values: [0.5498412698412698, 0.578978622327791] and parameters: {'n_estimators': 434, 'learning_rate': 0.01088370453810338, 'max_depth': 6, 'min_samples_split': 6, 'min_samples_leaf': 7, 'subsample': 0.8556519243743734, 'max_features': 'sqrt'}.\n",
            "[I 2025-03-08 12:27:52,497] Trial 69 finished with values: [0.5626112759643916, 0.5623515439429929] and parameters: {'n_estimators': 242, 'learning_rate': 0.0794423861836137, 'max_depth': 7, 'min_samples_split': 6, 'min_samples_leaf': 16, 'subsample': 0.5493001048537701, 'max_features': 'sqrt'}.\n",
            "[I 2025-03-08 12:29:00,493] Trial 65 finished with values: [0.6833333333333333, 0.684085510688836] and parameters: {'n_estimators': 394, 'learning_rate': 0.050901659878383056, 'max_depth': 9, 'min_samples_split': 8, 'min_samples_leaf': 14, 'subsample': 0.8998159428381821, 'max_features': None}.\n",
            "[I 2025-03-08 12:29:11,321] Trial 71 finished with values: [0.5687263556116016, 0.5938242280285035] and parameters: {'n_estimators': 399, 'learning_rate': 0.026322506085385347, 'max_depth': 4, 'min_samples_split': 19, 'min_samples_leaf': 4, 'subsample': 0.741836487044504, 'max_features': 'sqrt'}.\n",
            "[I 2025-03-08 12:33:47,734] Trial 70 finished with values: [0.651780325890163, 0.6573634204275535] and parameters: {'n_estimators': 204, 'learning_rate': 0.05399365627633923, 'max_depth': 10, 'min_samples_split': 6, 'min_samples_leaf': 16, 'subsample': 0.9317937203414652, 'max_features': None}.\n",
            "[I 2025-03-08 12:34:00,231] Trial 73 finished with values: [0.5260347129506008, 0.5783847980997625] and parameters: {'n_estimators': 269, 'learning_rate': 0.01207091649590468, 'max_depth': 6, 'min_samples_split': 15, 'min_samples_leaf': 15, 'subsample': 0.958084100232981, 'max_features': 'sqrt'}.\n",
            "[I 2025-03-08 12:34:10,836] Trial 74 finished with values: [0.593200468933177, 0.5878859857482185] and parameters: {'n_estimators': 434, 'learning_rate': 0.20738180433015851, 'max_depth': 3, 'min_samples_split': 19, 'min_samples_leaf': 14, 'subsample': 0.8496548363649765, 'max_features': 'sqrt'}.\n",
            "[I 2025-03-08 12:34:23,579] Trial 75 finished with values: [0.5456745311554749, 0.5540380047505938] and parameters: {'n_estimators': 223, 'learning_rate': 0.05399365627633923, 'max_depth': 10, 'min_samples_split': 6, 'min_samples_leaf': 11, 'subsample': 0.617134551242928, 'max_features': 'sqrt'}.\n",
            "[I 2025-03-08 12:34:25,589] Trial 76 finished with values: [0.47625602202339984, 0.5480997624703088] and parameters: {'n_estimators': 179, 'learning_rate': 0.030411532876357148, 'max_depth': 7, 'min_samples_split': 8, 'min_samples_leaf': 14, 'subsample': 0.654204173432836, 'max_features': 'log2'}.\n",
            "[I 2025-03-08 12:35:06,156] Trial 77 finished with values: [0.5686746987951807, 0.5748218527315915] and parameters: {'n_estimators': 451, 'learning_rate': 0.11542510865206136, 'max_depth': 10, 'min_samples_split': 19, 'min_samples_leaf': 17, 'subsample': 0.998645921064133, 'max_features': 'sqrt'}.\n",
            "[I 2025-03-08 12:35:49,991] Trial 72 finished with values: [0.6574685062987402, 0.6609263657957245] and parameters: {'n_estimators': 312, 'learning_rate': 0.02094820153501029, 'max_depth': 8, 'min_samples_split': 15, 'min_samples_leaf': 19, 'subsample': 0.8343510636281741, 'max_features': None}.\n",
            "[I 2025-03-08 12:41:21,038] Trial 78 finished with values: [0.6810293237582286, 0.6834916864608076] and parameters: {'n_estimators': 253, 'learning_rate': 0.048081585409534194, 'max_depth': 8, 'min_samples_split': 12, 'min_samples_leaf': 5, 'subsample': 0.923843257236803, 'max_features': None}.\n",
            "[I 2025-03-08 12:43:14,367] Trial 79 finished with values: [0.6858485026423957, 0.6823040380047506] and parameters: {'n_estimators': 312, 'learning_rate': 0.06144590948945862, 'max_depth': 8, 'min_samples_split': 8, 'min_samples_leaf': 7, 'subsample': 0.9010455386924976, 'max_features': None}.\n",
            "[I 2025-03-08 12:43:22,297] Trial 81 finished with values: [0.556872037914692, 0.5558194774346793] and parameters: {'n_estimators': 208, 'learning_rate': 0.22936258772713394, 'max_depth': 7, 'min_samples_split': 4, 'min_samples_leaf': 18, 'subsample': 0.6750947872880715, 'max_features': 'sqrt'}.\n",
            "[I 2025-03-08 12:43:30,744] Trial 82 finished with values: [0.560145808019441, 0.5700712589073634] and parameters: {'n_estimators': 434, 'learning_rate': 0.08977796268462429, 'max_depth': 9, 'min_samples_split': 19, 'min_samples_leaf': 11, 'subsample': 0.8251776369389816, 'max_features': 'log2'}.\n",
            "[I 2025-03-08 12:45:41,980] Trial 83 finished with values: [0.6445103857566765, 0.6442992874109263] and parameters: {'n_estimators': 204, 'learning_rate': 0.11542510865206136, 'max_depth': 3, 'min_samples_split': 10, 'min_samples_leaf': 2, 'subsample': 0.998645921064133, 'max_features': None}.\n",
            "[I 2025-03-08 12:46:42,905] Trial 84 finished with values: [0.6497041420118344, 0.6484560570071259] and parameters: {'n_estimators': 150, 'learning_rate': 0.1962481608648849, 'max_depth': 3, 'min_samples_split': 7, 'min_samples_leaf': 4, 'subsample': 0.6590041620299478, 'max_features': None}.\n",
            "[I 2025-03-08 12:50:18,197] Trial 80 finished with values: [0.6912114014251781, 0.6912114014251781] and parameters: {'n_estimators': 303, 'learning_rate': 0.05399365627633923, 'max_depth': 10, 'min_samples_split': 5, 'min_samples_leaf': 11, 'subsample': 0.9317937203414652, 'max_features': None}.\n",
            "[I 2025-03-08 12:52:56,837] Trial 86 finished with values: [0.6366601435094585, 0.6692399049881235] and parameters: {'n_estimators': 150, 'learning_rate': 0.012474361977874326, 'max_depth': 7, 'min_samples_split': 17, 'min_samples_leaf': 14, 'subsample': 0.7689183340741581, 'max_features': None}.\n",
            "[I 2025-03-08 12:53:09,282] Trial 87 finished with values: [0.5776173285198556, 0.5831353919239906] and parameters: {'n_estimators': 453, 'learning_rate': 0.16465239046241872, 'max_depth': 8, 'min_samples_split': 8, 'min_samples_leaf': 3, 'subsample': 0.9966398980296653, 'max_features': 'log2'}.\n",
            "[I 2025-03-08 12:53:34,446] Trial 85 finished with values: [0.6430348258706468, 0.6591448931116389] and parameters: {'n_estimators': 394, 'learning_rate': 0.01088370453810338, 'max_depth': 6, 'min_samples_split': 11, 'min_samples_leaf': 16, 'subsample': 0.8556519243743734, 'max_features': None}.\n",
            "[I 2025-03-08 12:53:36,897] Trial 89 finished with values: [0.5569932224276032, 0.5730403800475059] and parameters: {'n_estimators': 59, 'learning_rate': 0.1962481608648849, 'max_depth': 6, 'min_samples_split': 2, 'min_samples_leaf': 11, 'subsample': 0.8702714239301453, 'max_features': 'sqrt'}.\n",
            "[I 2025-03-08 12:55:22,574] Trial 88 finished with values: [0.6233611442193087, 0.6247030878859857] and parameters: {'n_estimators': 286, 'learning_rate': 0.21163152717746245, 'max_depth': 4, 'min_samples_split': 12, 'min_samples_leaf': 13, 'subsample': 0.5843202331502664, 'max_features': None}.\n",
            "[I 2025-03-08 12:58:04,591] Trial 90 finished with values: [0.6261180679785331, 0.6276722090261283] and parameters: {'n_estimators': 326, 'learning_rate': 0.0588435555051187, 'max_depth': 8, 'min_samples_split': 5, 'min_samples_leaf': 8, 'subsample': 0.5587333203347966, 'max_features': None}.\n",
            "[I 2025-03-08 12:58:21,674] Trial 92 finished with values: [0.5913978494623656, 0.5938242280285035] and parameters: {'n_estimators': 319, 'learning_rate': 0.09820283491433048, 'max_depth': 7, 'min_samples_split': 8, 'min_samples_leaf': 11, 'subsample': 0.8998159428381821, 'max_features': 'sqrt'}.\n",
            "[I 2025-03-08 12:59:51,404] Trial 93 finished with values: [0.6189917936694022, 0.6140142517814727] and parameters: {'n_estimators': 151, 'learning_rate': 0.20738180433015851, 'max_depth': 6, 'min_samples_split': 7, 'min_samples_leaf': 16, 'subsample': 0.524195169481652, 'max_features': None}.\n",
            "[I 2025-03-08 13:00:01,836] Trial 94 finished with values: [0.5716019417475728, 0.5807600950118765] and parameters: {'n_estimators': 220, 'learning_rate': 0.03540453390530857, 'max_depth': 6, 'min_samples_split': 8, 'min_samples_leaf': 17, 'subsample': 0.8556519243743734, 'max_features': 'sqrt'}.\n",
            "[I 2025-03-08 13:00:42,907] Trial 95 finished with values: [0.6056701030927835, 0.6365795724465558] and parameters: {'n_estimators': 88, 'learning_rate': 0.03358769092842567, 'max_depth': 4, 'min_samples_split': 6, 'min_samples_leaf': 16, 'subsample': 0.576858981502826, 'max_features': None}.\n",
            "[I 2025-03-08 13:00:46,561] Trial 96 finished with values: [0.5078947368421053, 0.5558194774346793] and parameters: {'n_estimators': 332, 'learning_rate': 0.022807122472071107, 'max_depth': 5, 'min_samples_split': 12, 'min_samples_leaf': 1, 'subsample': 0.5454932839774679, 'max_features': 'log2'}.\n",
            "[I 2025-03-08 13:04:20,134] Trial 91 finished with values: [0.6745005875440658, 0.671021377672209] and parameters: {'n_estimators': 377, 'learning_rate': 0.16465239046241872, 'max_depth': 8, 'min_samples_split': 12, 'min_samples_leaf': 8, 'subsample': 0.9069728078535348, 'max_features': None}.\n",
            "[I 2025-03-08 13:05:39,168] Trial 97 finished with values: [0.6221419975932612, 0.6270783847980997] and parameters: {'n_estimators': 399, 'learning_rate': 0.06144590948945862, 'max_depth': 7, 'min_samples_split': 19, 'min_samples_leaf': 17, 'subsample': 0.563332497792372, 'max_features': None}.\n",
            "[I 2025-03-08 13:06:45,814] Trial 98 finished with values: [0.6301369863013698, 0.6312351543942993] and parameters: {'n_estimators': 355, 'learning_rate': 0.045931963053578787, 'max_depth': 3, 'min_samples_split': 12, 'min_samples_leaf': 11, 'subsample': 0.6590041620299478, 'max_features': None}.\n",
            "[I 2025-03-08 13:08:30,797] Trial 99 finished with values: [0.6356033452807647, 0.6377672209026128] and parameters: {'n_estimators': 438, 'learning_rate': 0.026322506085385347, 'max_depth': 4, 'min_samples_split': 4, 'min_samples_leaf': 17, 'subsample': 0.626107417095191, 'max_features': None}.\n"
          ]
        }
      ]
    },
    {
      "cell_type": "code",
      "source": [
        "pareto_front_trials = study.best_trials\n",
        "\n",
        "for trial in pareto_front_trials:\n",
        "    print(f\"Trial number: {trial.number}\")\n",
        "    print(f\"Parameters: {trial.params}\")\n",
        "    print(f\"Objective values: {trial.values}\")\n",
        "    print(\"\\n\")"
      ],
      "metadata": {
        "colab": {
          "base_uri": "https://localhost:8080/"
        },
        "outputId": "f64728a7-d879-421f-baa6-d99b77baa361",
        "id": "K5OpiDiW4tAg"
      },
      "execution_count": null,
      "outputs": [
        {
          "output_type": "stream",
          "name": "stdout",
          "text": [
            "Trial number: 80\n",
            "Parameters: {'n_estimators': 303, 'learning_rate': 0.05399365627633923, 'max_depth': 10, 'min_samples_split': 5, 'min_samples_leaf': 11, 'subsample': 0.9317937203414652, 'max_features': None}\n",
            "Objective values: [0.6912114014251781, 0.6912114014251781]\n",
            "\n",
            "\n"
          ]
        }
      ]
    },
    {
      "cell_type": "code",
      "source": [
        "best_parameters = {'n_estimators': 303, 'learning_rate': 0.05399365627633923, 'max_depth': 10, 'min_samples_split': 5, 'min_samples_leaf': 11, 'subsample': 0.9317937203414652, 'max_features': None}\n",
        "\n",
        "best_gbc = GradientBoostingClassifier(**best_parameters)\n",
        "\n",
        "best_gbc.fit(X_train, y_train)\n",
        "\n",
        "pred_train = best_gbc.predict(X_train)\n",
        "pred_test = best_gbc.predict(X_test)\n",
        "\n",
        "classification_metrics(y_train, pred_train, y_test, pred_test)"
      ],
      "metadata": {
        "colab": {
          "base_uri": "https://localhost:8080/"
        },
        "outputId": "90b3a850-cff7-40a7-97f6-6a4e703c093c",
        "id": "_94pvW-r4tAh"
      },
      "execution_count": null,
      "outputs": [
        {
          "output_type": "stream",
          "name": "stdout",
          "text": [
            "Accuracy_train: 1.0\n",
            "Precision_train: 1.0\n",
            "Recall_train: 1.0\n",
            "F1_train: 1.0\n",
            "----------------------\n",
            "Accuracy_test: 0.6876484560570071\n",
            "Precision_test: 0.6954976303317536\n",
            "Recall_test: 0.6857476635514018\n",
            "F1_test: 0.6905882352941176\n"
          ]
        }
      ]
    },
    {
      "cell_type": "markdown",
      "source": [
        "## Experiment 7: CatBoost, CatBoost encoding, keep embeddings"
      ],
      "metadata": {
        "id": "Sekd9ZplfN2W"
      }
    },
    {
      "cell_type": "code",
      "source": [
        "embedding_df = pd.DataFrame(df['doc_embedding'].to_list(), columns=[f'emb_{i}' for i in range(100)])\n",
        "df_emb = df.copy()\n",
        "df_emb = df_emb.drop(columns=['doc_embedding']).join(embedding_df)"
      ],
      "metadata": {
        "id": "ry_9baOffO3c"
      },
      "execution_count": null,
      "outputs": []
    },
    {
      "cell_type": "code",
      "source": [
        "X_train, X_test, y_train, y_test = train_test_split(df_emb.drop(columns=['target', 'price_1d']), df_emb['target'], test_size=0.2, random_state=69)\n",
        "categorical_columns = ['subreddit', 'type', 'ticker']"
      ],
      "metadata": {
        "id": "tbSb1GJHfO3c"
      },
      "execution_count": null,
      "outputs": []
    },
    {
      "cell_type": "code",
      "source": [
        "def objective(trial):\n",
        "    param = {\n",
        "        'iterations': trial.suggest_int('iterations', 100, 1000),\n",
        "        'learning_rate': trial.suggest_float('learning_rate', 0.01, 0.3),\n",
        "        'depth': trial.suggest_int('depth', 4, 10),\n",
        "        'l2_leaf_reg': trial.suggest_float('l2_leaf_reg', 1e-5, 10),\n",
        "        'bagging_temperature': trial.suggest_float('bagging_temperature', 0, 1),\n",
        "        'random_strength': trial.suggest_float('random_strength', 1, 20),\n",
        "        'border_count': trial.suggest_int('border_count', 32, 512),\n",
        "        'grow_policy': trial.suggest_categorical('grow_policy', ['SymmetricTree', 'Depthwise', 'Lossguide']),\n",
        "    }\n",
        "\n",
        "    model = CatBoostClassifier(**param, cat_features=categorical_columns, verbose=0)\n",
        "    model.fit(X_train, y_train)\n",
        "    y_pred = model.predict(X_test)\n",
        "    f1 = f1_score(y_test, y_pred)\n",
        "    accuracy = accuracy_score(y_test, y_pred)\n",
        "    return f1, accuracy"
      ],
      "metadata": {
        "id": "8AZrAUGtgiFe"
      },
      "execution_count": null,
      "outputs": []
    },
    {
      "cell_type": "code",
      "source": [
        "study_cb = optuna.create_study(directions=['maximize', 'maximize'])\n",
        "study_cb.optimize(objective, n_jobs=-1, n_trials=100)"
      ],
      "metadata": {
        "colab": {
          "base_uri": "https://localhost:8080/"
        },
        "outputId": "f01dd94b-32e2-43a9-d6d2-bc0ba59de46c",
        "id": "E8_ffRNbgiFe"
      },
      "execution_count": null,
      "outputs": [
        {
          "output_type": "stream",
          "name": "stderr",
          "text": [
            "[I 2025-03-09 01:35:22,896] A new study created in memory with name: no-name-b67dd54b-80d9-4231-8d46-dc5d269d93de\n",
            "[I 2025-03-09 01:36:39,854] Trial 1 finished with values: [0.644589000591366, 0.6431116389548693] and parameters: {'iterations': 814, 'learning_rate': 0.03206290744904524, 'depth': 6, 'l2_leaf_reg': 2.259484680117524, 'bagging_temperature': 0.8123077850542763, 'random_strength': 12.116730007262122, 'border_count': 211, 'grow_policy': 'SymmetricTree'}.\n",
            "[I 2025-03-09 01:36:44,100] Trial 0 finished with values: [0.6568047337278107, 0.6555819477434679] and parameters: {'iterations': 954, 'learning_rate': 0.269328897675821, 'depth': 5, 'l2_leaf_reg': 1.2423753607312045, 'bagging_temperature': 0.25122860824251214, 'random_strength': 7.259089015900668, 'border_count': 455, 'grow_policy': 'SymmetricTree'}.\n",
            "[I 2025-03-09 01:37:25,947] Trial 3 finished with values: [0.6558516801853997, 0.6472684085510689] and parameters: {'iterations': 368, 'learning_rate': 0.266396000864971, 'depth': 4, 'l2_leaf_reg': 5.182017107989551, 'bagging_temperature': 0.09680405334288555, 'random_strength': 10.908266265771642, 'border_count': 352, 'grow_policy': 'Lossguide'}.\n",
            "[I 2025-03-09 01:38:09,431] Trial 4 finished with values: [0.6092089728453365, 0.6068883610451307] and parameters: {'iterations': 735, 'learning_rate': 0.25756324292190985, 'depth': 4, 'l2_leaf_reg': 7.026242196190741, 'bagging_temperature': 0.10193331991148691, 'random_strength': 2.955769220512833, 'border_count': 71, 'grow_policy': 'Lossguide'}.\n",
            "[I 2025-03-09 01:38:30,156] Trial 5 finished with values: [0.5519360786724032, 0.5671021377672208] and parameters: {'iterations': 327, 'learning_rate': 0.027916770560320818, 'depth': 4, 'l2_leaf_reg': 3.0802929849082514, 'bagging_temperature': 0.7453571733450638, 'random_strength': 17.000296146907136, 'border_count': 464, 'grow_policy': 'SymmetricTree'}.\n",
            "[I 2025-03-09 01:38:55,480] Trial 6 finished with values: [0.6295857988165681, 0.6282660332541568] and parameters: {'iterations': 283, 'learning_rate': 0.02633359651730858, 'depth': 4, 'l2_leaf_reg': 3.335713734295846, 'bagging_temperature': 0.2682749729229391, 'random_strength': 1.548428759293969, 'border_count': 252, 'grow_policy': 'Depthwise'}.\n",
            "[I 2025-03-09 01:40:25,648] Trial 7 finished with values: [0.6709677419354839, 0.6668646080760094] and parameters: {'iterations': 354, 'learning_rate': 0.06652606256177822, 'depth': 6, 'l2_leaf_reg': 0.7229114666720364, 'bagging_temperature': 0.05803246482822366, 'random_strength': 4.368626734779685, 'border_count': 354, 'grow_policy': 'Lossguide'}.\n",
            "[I 2025-03-09 01:41:36,728] Trial 8 finished with values: [0.6429840142095915, 0.6419239904988123] and parameters: {'iterations': 423, 'learning_rate': 0.1764063713539503, 'depth': 6, 'l2_leaf_reg': 0.39153005681924447, 'bagging_temperature': 0.3529081475174405, 'random_strength': 17.27401319068979, 'border_count': 125, 'grow_policy': 'Depthwise'}.\n",
            "[I 2025-03-09 01:42:26,965] Trial 9 finished with values: [0.65, 0.6425178147268409] and parameters: {'iterations': 207, 'learning_rate': 0.23550072197262584, 'depth': 5, 'l2_leaf_reg': 9.569292165326235, 'bagging_temperature': 0.5342364457183156, 'random_strength': 17.59834889638227, 'border_count': 477, 'grow_policy': 'Depthwise'}.\n",
            "[I 2025-03-09 01:44:22,497] Trial 10 finished with values: [0.6499123319696084, 0.6442992874109263] and parameters: {'iterations': 425, 'learning_rate': 0.07282488183090893, 'depth': 9, 'l2_leaf_reg': 8.258881405177823, 'bagging_temperature': 0.2674293225985045, 'random_strength': 17.530406352203546, 'border_count': 130, 'grow_policy': 'SymmetricTree'}.\n",
            "[I 2025-03-09 01:57:13,584] Trial 2 finished with values: [0.6505598114319388, 0.6478622327790974] and parameters: {'iterations': 789, 'learning_rate': 0.1315069460987189, 'depth': 9, 'l2_leaf_reg': 6.311403297800952, 'bagging_temperature': 0.00033097998558173636, 'random_strength': 10.436996348906117, 'border_count': 428, 'grow_policy': 'Depthwise'}.\n",
            "[I 2025-03-09 01:57:45,163] Trial 12 finished with values: [0.6399055489964581, 0.6377672209026128] and parameters: {'iterations': 342, 'learning_rate': 0.06438361458046236, 'depth': 6, 'l2_leaf_reg': 1.9870455869127628, 'bagging_temperature': 0.15732535888423504, 'random_strength': 5.467413421533006, 'border_count': 63, 'grow_policy': 'Lossguide'}.\n",
            "[I 2025-03-09 01:58:09,215] Trial 13 finished with values: [0.6002386634844868, 0.6021377672209026] and parameters: {'iterations': 418, 'learning_rate': 0.24853949947702533, 'depth': 7, 'l2_leaf_reg': 4.39686888156506, 'bagging_temperature': 0.9527475689667149, 'random_strength': 17.056889880805674, 'border_count': 41, 'grow_policy': 'SymmetricTree'}.\n",
            "[I 2025-03-09 01:58:38,888] Trial 14 finished with values: [0.6248534583821805, 0.6199524940617577] and parameters: {'iterations': 284, 'learning_rate': 0.15006831521112657, 'depth': 7, 'l2_leaf_reg': 6.460460950246643, 'bagging_temperature': 0.6611586890378534, 'random_strength': 15.003000841471469, 'border_count': 132, 'grow_policy': 'SymmetricTree'}.\n",
            "[I 2025-03-09 01:58:59,561] Trial 11 finished with values: [0.6325690770135215, 0.6288598574821853] and parameters: {'iterations': 398, 'learning_rate': 0.1230844160989681, 'depth': 10, 'l2_leaf_reg': 0.049103035377462814, 'bagging_temperature': 0.2673047080352675, 'random_strength': 6.215390659276573, 'border_count': 227, 'grow_policy': 'Depthwise'}.\n",
            "[I 2025-03-09 01:59:32,971] Trial 16 finished with values: [0.6442873969375736, 0.6413301662707839] and parameters: {'iterations': 164, 'learning_rate': 0.1924007075620637, 'depth': 9, 'l2_leaf_reg': 5.446567746428029, 'bagging_temperature': 0.3676784428414889, 'random_strength': 8.049489088045505, 'border_count': 211, 'grow_policy': 'Lossguide'}.\n",
            "[I 2025-03-09 02:01:17,260] Trial 15 finished with values: [0.619105199516324, 0.6258907363420427] and parameters: {'iterations': 902, 'learning_rate': 0.11811215134007637, 'depth': 7, 'l2_leaf_reg': 0.09528677708852391, 'bagging_temperature': 0.8204801920713914, 'random_strength': 2.2310673548104507, 'border_count': 70, 'grow_policy': 'Depthwise'}.\n",
            "[I 2025-03-09 02:01:40,546] Trial 18 finished with values: [0.6293053123175715, 0.6229216152019003] and parameters: {'iterations': 125, 'learning_rate': 0.1891929364631501, 'depth': 8, 'l2_leaf_reg': 1.6447214196042805, 'bagging_temperature': 0.6750443897594416, 'random_strength': 16.25616162259579, 'border_count': 154, 'grow_policy': 'SymmetricTree'}.\n",
            "[I 2025-03-09 02:02:04,208] Trial 19 finished with values: [0.6690140845070423, 0.665083135391924] and parameters: {'iterations': 382, 'learning_rate': 0.2562938974140351, 'depth': 4, 'l2_leaf_reg': 4.086170699597774, 'bagging_temperature': 0.8559731569788178, 'random_strength': 6.528668788915894, 'border_count': 479, 'grow_policy': 'SymmetricTree'}.\n",
            "[I 2025-03-09 02:03:01,279] Trial 20 finished with values: [0.6798833819241983, 0.6739904988123515] and parameters: {'iterations': 233, 'learning_rate': 0.1605741280291114, 'depth': 10, 'l2_leaf_reg': 3.982262048339078, 'bagging_temperature': 0.2520288221304592, 'random_strength': 19.767811396298164, 'border_count': 258, 'grow_policy': 'Lossguide'}.\n",
            "[I 2025-03-09 02:03:43,307] Trial 21 finished with values: [0.6554132712456344, 0.6484560570071259] and parameters: {'iterations': 168, 'learning_rate': 0.2358822316895807, 'depth': 9, 'l2_leaf_reg': 6.38487469992698, 'bagging_temperature': 0.6904297166691016, 'random_strength': 1.2664132903020204, 'border_count': 274, 'grow_policy': 'Lossguide'}.\n",
            "[I 2025-03-09 02:03:57,798] Trial 22 finished with values: [0.634232121922626, 0.6294536817102138] and parameters: {'iterations': 191, 'learning_rate': 0.07742165583066665, 'depth': 6, 'l2_leaf_reg': 6.552241974123382, 'bagging_temperature': 0.5434379188370518, 'random_strength': 1.398990666624254, 'border_count': 210, 'grow_policy': 'SymmetricTree'}.\n",
            "[I 2025-03-09 02:04:03,509] Trial 23 finished with values: [0.6278240190249703, 0.6282660332541568] and parameters: {'iterations': 182, 'learning_rate': 0.04027489348891126, 'depth': 4, 'l2_leaf_reg': 8.959253953000948, 'bagging_temperature': 0.6282762056524211, 'random_strength': 1.8607066499699279, 'border_count': 193, 'grow_policy': 'SymmetricTree'}.\n",
            "[I 2025-03-09 02:04:27,352] Trial 17 finished with values: [0.6356132075471698, 0.6330166270783848] and parameters: {'iterations': 858, 'learning_rate': 0.01341258677746993, 'depth': 7, 'l2_leaf_reg': 7.111066615570772, 'bagging_temperature': 0.17480613085260255, 'random_strength': 5.031936835631047, 'border_count': 191, 'grow_policy': 'Depthwise'}.\n",
            "[I 2025-03-09 02:04:56,833] Trial 25 finished with values: [0.6392857142857142, 0.6401425178147269] and parameters: {'iterations': 773, 'learning_rate': 0.15203371176276367, 'depth': 4, 'l2_leaf_reg': 6.032116944072856, 'bagging_temperature': 0.044291129373363436, 'random_strength': 2.1009708579552493, 'border_count': 166, 'grow_policy': 'SymmetricTree'}.\n",
            "[I 2025-03-09 02:05:46,844] Trial 24 finished with values: [0.6651162790697674, 0.6579572446555819] and parameters: {'iterations': 521, 'learning_rate': 0.10712782231829945, 'depth': 7, 'l2_leaf_reg': 1.1829565503373503, 'bagging_temperature': 0.9557769505162502, 'random_strength': 1.0569936754707656, 'border_count': 413, 'grow_policy': 'SymmetricTree'}.\n",
            "[I 2025-03-09 02:06:33,085] Trial 26 finished with values: [0.6242568370986921, 0.6247030878859857] and parameters: {'iterations': 118, 'learning_rate': 0.20005794438609895, 'depth': 10, 'l2_leaf_reg': 1.3424195076256351, 'bagging_temperature': 0.7743176471650183, 'random_strength': 2.7703986710521735, 'border_count': 374, 'grow_policy': 'SymmetricTree'}.\n",
            "[I 2025-03-09 02:07:19,715] Trial 27 finished with values: [0.6651108518086347, 0.6591448931116389] and parameters: {'iterations': 382, 'learning_rate': 0.035443534880668384, 'depth': 10, 'l2_leaf_reg': 1.9898403984736883, 'bagging_temperature': 0.6877964040814286, 'random_strength': 5.112762008797464, 'border_count': 235, 'grow_policy': 'Lossguide'}.\n",
            "[I 2025-03-09 02:08:33,960] Trial 29 finished with values: [0.6631016042780749, 0.6633016627078385] and parameters: {'iterations': 660, 'learning_rate': 0.15851547435143837, 'depth': 6, 'l2_leaf_reg': 0.04577901450141607, 'bagging_temperature': 0.08407561251400741, 'random_strength': 7.656647682986249, 'border_count': 281, 'grow_policy': 'SymmetricTree'}.\n",
            "[I 2025-03-09 02:08:51,671] Trial 30 finished with values: [0.6321365509123014, 0.6288598574821853] and parameters: {'iterations': 250, 'learning_rate': 0.04967057444103492, 'depth': 4, 'l2_leaf_reg': 3.0790877557060514, 'bagging_temperature': 0.26942660294931264, 'random_strength': 2.7201596446930743, 'border_count': 214, 'grow_policy': 'Depthwise'}.\n",
            "[I 2025-03-09 02:10:33,854] Trial 31 finished with values: [0.6500290191526408, 0.6419239904988123] and parameters: {'iterations': 823, 'learning_rate': 0.15983482068144797, 'depth': 5, 'l2_leaf_reg': 1.404899263159236, 'bagging_temperature': 0.9151518827518863, 'random_strength': 3.1885770817696963, 'border_count': 206, 'grow_policy': 'Depthwise'}.\n",
            "[I 2025-03-09 02:12:10,145] Trial 32 finished with values: [0.6573589296102386, 0.6502375296912114] and parameters: {'iterations': 770, 'learning_rate': 0.07823804989157951, 'depth': 5, 'l2_leaf_reg': 8.85175617923869, 'bagging_temperature': 0.5478152857931934, 'random_strength': 11.8067063209726, 'border_count': 166, 'grow_policy': 'Lossguide'}.\n",
            "[I 2025-03-09 02:12:48,789] Trial 33 finished with values: [0.6509433962264151, 0.6484560570071259] and parameters: {'iterations': 249, 'learning_rate': 0.28015982224536073, 'depth': 6, 'l2_leaf_reg': 1.8687222026488268, 'bagging_temperature': 0.7715682819447645, 'random_strength': 12.541015763454611, 'border_count': 489, 'grow_policy': 'SymmetricTree'}.\n",
            "[I 2025-03-09 02:15:09,241] Trial 34 finished with values: [0.6412661195779601, 0.6365795724465558] and parameters: {'iterations': 871, 'learning_rate': 0.062060632545100726, 'depth': 7, 'l2_leaf_reg': 8.822829180140785, 'bagging_temperature': 0.3956911492052839, 'random_strength': 9.389510116815464, 'border_count': 54, 'grow_policy': 'Depthwise'}.\n",
            "[I 2025-03-09 02:15:23,532] Trial 28 finished with values: [0.6247058823529412, 0.6211401425178147] and parameters: {'iterations': 228, 'learning_rate': 0.267167201837576, 'depth': 10, 'l2_leaf_reg': 2.904594350702031, 'bagging_temperature': 0.5780992719251314, 'random_strength': 7.895268095601441, 'border_count': 353, 'grow_policy': 'Depthwise'}.\n",
            "[I 2025-03-09 02:17:52,994] Trial 35 finished with values: [0.6487119437939111, 0.6437054631828979] and parameters: {'iterations': 946, 'learning_rate': 0.14517207252875738, 'depth': 9, 'l2_leaf_reg': 3.738973115899038, 'bagging_temperature': 0.48040112955329584, 'random_strength': 19.103567585551737, 'border_count': 175, 'grow_policy': 'Lossguide'}.\n",
            "[I 2025-03-09 02:21:41,970] Trial 37 finished with values: [0.684979544126242, 0.6799287410926366] and parameters: {'iterations': 599, 'learning_rate': 0.06726736233316982, 'depth': 10, 'l2_leaf_reg': 8.097180147552226, 'bagging_temperature': 0.5751097123009807, 'random_strength': 14.563671618943678, 'border_count': 460, 'grow_policy': 'Lossguide'}.\n",
            "[I 2025-03-09 02:23:30,853] Trial 38 finished with values: [0.6368452030606239, 0.6336104513064132] and parameters: {'iterations': 757, 'learning_rate': 0.14406240659289915, 'depth': 5, 'l2_leaf_reg': 8.32854736813519, 'bagging_temperature': 0.08231518907837465, 'random_strength': 12.144076379653754, 'border_count': 210, 'grow_policy': 'Lossguide'}.\n",
            "[I 2025-03-09 02:24:05,385] Trial 39 finished with values: [0.6196682464454977, 0.6187648456057007] and parameters: {'iterations': 134, 'learning_rate': 0.2143185778840312, 'depth': 7, 'l2_leaf_reg': 5.9286460093731455, 'bagging_temperature': 0.9926638475878472, 'random_strength': 1.9933714913053104, 'border_count': 128, 'grow_policy': 'Depthwise'}.\n",
            "[I 2025-03-09 02:33:35,168] Trial 36 finished with values: [0.6435294117647059, 0.6401425178147269] and parameters: {'iterations': 898, 'learning_rate': 0.1775099917554388, 'depth': 10, 'l2_leaf_reg': 5.984689425899606, 'bagging_temperature': 0.2543394104083452, 'random_strength': 11.205264673556801, 'border_count': 246, 'grow_policy': 'Depthwise'}.\n",
            "[I 2025-03-09 02:44:41,038] Trial 41 finished with values: [0.6674445740956826, 0.661520190023753] and parameters: {'iterations': 351, 'learning_rate': 0.04857138652991268, 'depth': 9, 'l2_leaf_reg': 1.4908404835471256, 'bagging_temperature': 0.36999814444765466, 'random_strength': 9.45963105289088, 'border_count': 312, 'grow_policy': 'Depthwise'}.\n",
            "[I 2025-03-09 02:48:03,772] Trial 42 finished with values: [0.649164677804296, 0.6508313539192399] and parameters: {'iterations': 590, 'learning_rate': 0.27919746751345204, 'depth': 7, 'l2_leaf_reg': 6.085483498924546, 'bagging_temperature': 0.29906918963090834, 'random_strength': 16.430965724337206, 'border_count': 451, 'grow_policy': 'Lossguide'}.\n",
            "[I 2025-03-09 02:49:12,862] Trial 43 finished with values: [0.6757396449704142, 0.6745843230403801] and parameters: {'iterations': 587, 'learning_rate': 0.1089440102407951, 'depth': 4, 'l2_leaf_reg': 7.99438082149022, 'bagging_temperature': 0.4207982143231418, 'random_strength': 11.903718773977563, 'border_count': 402, 'grow_policy': 'Depthwise'}.\n",
            "[I 2025-03-09 02:50:08,349] Trial 44 finished with values: [0.6559905100830368, 0.6555819477434679] and parameters: {'iterations': 613, 'learning_rate': 0.1166171861163357, 'depth': 4, 'l2_leaf_reg': 0.4801524367423032, 'bagging_temperature': 0.3025652769633085, 'random_strength': 7.028366887674872, 'border_count': 260, 'grow_policy': 'Depthwise'}.\n",
            "[I 2025-03-09 02:50:23,127] Trial 40 finished with values: [0.6210153482880756, 0.6187648456057007] and parameters: {'iterations': 737, 'learning_rate': 0.28000807751834383, 'depth': 10, 'l2_leaf_reg': 1.1124297106125747, 'bagging_temperature': 0.3842343452361995, 'random_strength': 18.20480546403576, 'border_count': 347, 'grow_policy': 'Depthwise'}.\n",
            "[I 2025-03-09 02:51:12,908] Trial 46 finished with values: [0.6326291079812206, 0.6282660332541568] and parameters: {'iterations': 486, 'learning_rate': 0.11374274400982912, 'depth': 8, 'l2_leaf_reg': 1.3364749196831762, 'bagging_temperature': 0.6831818779321149, 'random_strength': 9.292760113578943, 'border_count': 50, 'grow_policy': 'Lossguide'}.\n",
            "[I 2025-03-09 02:52:52,965] Trial 45 finished with values: [0.6359832635983264, 0.6383610451306413] and parameters: {'iterations': 174, 'learning_rate': 0.1877669939317907, 'depth': 9, 'l2_leaf_reg': 0.9558281323032224, 'bagging_temperature': 0.13048679574243394, 'random_strength': 4.228574000983883, 'border_count': 146, 'grow_policy': 'Depthwise'}.\n",
            "[I 2025-03-09 02:53:47,155] Trial 48 finished with values: [0.652989449003517, 0.6484560570071259] and parameters: {'iterations': 900, 'learning_rate': 0.033818157516515054, 'depth': 4, 'l2_leaf_reg': 9.589125955003984, 'bagging_temperature': 0.6629586645479663, 'random_strength': 6.371530579471382, 'border_count': 331, 'grow_policy': 'SymmetricTree'}.\n",
            "[I 2025-03-09 02:54:04,858] Trial 49 finished with values: [0.6254458977407847, 0.6258907363420427] and parameters: {'iterations': 346, 'learning_rate': 0.03669548190940032, 'depth': 5, 'l2_leaf_reg': 7.863643041721706, 'bagging_temperature': 0.9516926733699664, 'random_strength': 19.765566374920475, 'border_count': 140, 'grow_policy': 'SymmetricTree'}.\n",
            "[I 2025-03-09 02:54:47,520] Trial 50 finished with values: [0.536741214057508, 0.5694774346793349] and parameters: {'iterations': 203, 'learning_rate': 0.03813100758154494, 'depth': 5, 'l2_leaf_reg': 4.268151618466783, 'bagging_temperature': 0.8768817120020879, 'random_strength': 18.409198660270796, 'border_count': 356, 'grow_policy': 'Depthwise'}.\n",
            "[I 2025-03-09 02:55:04,001] Trial 51 finished with values: [0.6453522794552989, 0.6442992874109263] and parameters: {'iterations': 228, 'learning_rate': 0.267167201837576, 'depth': 4, 'l2_leaf_reg': 6.032116944072856, 'bagging_temperature': 0.044291129373363436, 'random_strength': 7.895268095601441, 'border_count': 166, 'grow_policy': 'Depthwise'}.\n",
            "[I 2025-03-09 02:57:01,701] Trial 52 finished with values: [0.6635459332943242, 0.6585510688836105] and parameters: {'iterations': 959, 'learning_rate': 0.1487651126763388, 'depth': 6, 'l2_leaf_reg': 9.760057381879257, 'bagging_temperature': 0.08407561251400741, 'random_strength': 6.528668788915894, 'border_count': 331, 'grow_policy': 'SymmetricTree'}.\n",
            "[I 2025-03-09 02:59:15,450] Trial 53 finished with values: [0.5614702154626109, 0.5890736342042755] and parameters: {'iterations': 418, 'learning_rate': 0.016915605648460168, 'depth': 7, 'l2_leaf_reg': 4.39686888156506, 'bagging_temperature': 0.9527475689667149, 'random_strength': 5.112762008797464, 'border_count': 483, 'grow_policy': 'Lossguide'}.\n",
            "[I 2025-03-09 03:03:23,477] Trial 54 finished with values: [0.6378186129223473, 0.6371733966745843] and parameters: {'iterations': 889, 'learning_rate': 0.28015982224536073, 'depth': 9, 'l2_leaf_reg': 8.258881405177823, 'bagging_temperature': 0.4697564261394003, 'random_strength': 11.313816163724866, 'border_count': 130, 'grow_policy': 'SymmetricTree'}.\n",
            "[I 2025-03-09 03:07:15,486] Trial 55 finished with values: [0.6835294117647058, 0.6805225653206651] and parameters: {'iterations': 599, 'learning_rate': 0.06726736233316982, 'depth': 10, 'l2_leaf_reg': 0.7997550756751686, 'bagging_temperature': 0.32998820493635883, 'random_strength': 14.563671618943678, 'border_count': 460, 'grow_policy': 'Lossguide'}.\n",
            "[I 2025-03-09 03:08:32,233] Trial 56 finished with values: [0.670150987224158, 0.66270783847981] and parameters: {'iterations': 249, 'learning_rate': 0.28015982224536073, 'depth': 6, 'l2_leaf_reg': 7.938215730999639, 'bagging_temperature': 0.4207982143231418, 'random_strength': 12.541015763454611, 'border_count': 489, 'grow_policy': 'Lossguide'}.\n",
            "[I 2025-03-09 03:12:10,254] Trial 57 finished with values: [0.6338605741066198, 0.6288598574821853] and parameters: {'iterations': 207, 'learning_rate': 0.23550072197262584, 'depth': 10, 'l2_leaf_reg': 1.115246724739468, 'bagging_temperature': 0.3433552457181701, 'random_strength': 17.59834889638227, 'border_count': 477, 'grow_policy': 'SymmetricTree'}.\n",
            "[I 2025-03-09 03:13:48,488] Trial 47 finished with values: [0.6631578947368421, 0.6579572446555819] and parameters: {'iterations': 416, 'learning_rate': 0.05220884667815395, 'depth': 10, 'l2_leaf_reg': 8.76553420153141, 'bagging_temperature': 0.5924204012282299, 'random_strength': 11.641396826764446, 'border_count': 380, 'grow_policy': 'Depthwise'}.\n",
            "[I 2025-03-09 03:14:13,962] Trial 58 finished with values: [0.6525573192239859, 0.6490498812351544] and parameters: {'iterations': 858, 'learning_rate': 0.28015982224536073, 'depth': 6, 'l2_leaf_reg': 1.8687222026488268, 'bagging_temperature': 0.7715682819447645, 'random_strength': 5.031936835631047, 'border_count': 489, 'grow_policy': 'SymmetricTree'}.\n",
            "[I 2025-03-09 03:15:09,510] Trial 59 finished with values: [0.6522753792298717, 0.6460807600950119] and parameters: {'iterations': 613, 'learning_rate': 0.2799603805696395, 'depth': 5, 'l2_leaf_reg': 0.4801524367423032, 'bagging_temperature': 0.5434379188370518, 'random_strength': 1.398990666624254, 'border_count': 260, 'grow_policy': 'Depthwise'}.\n",
            "[I 2025-03-09 03:15:12,817] Trial 60 finished with values: [0.6536873156342183, 0.6514251781472684] and parameters: {'iterations': 228, 'learning_rate': 0.267167201837576, 'depth': 10, 'l2_leaf_reg': 6.38487469992698, 'bagging_temperature': 0.7274481195345072, 'random_strength': 7.895268095601441, 'border_count': 274, 'grow_policy': 'Lossguide'}.\n",
            "[I 2025-03-09 03:16:44,816] Trial 62 finished with values: [0.6469907407407407, 0.6377672209026128] and parameters: {'iterations': 954, 'learning_rate': 0.269328897675821, 'depth': 5, 'l2_leaf_reg': 0.9558281323032224, 'bagging_temperature': 0.13048679574243394, 'random_strength': 4.228574000983883, 'border_count': 455, 'grow_policy': 'SymmetricTree'}.\n",
            "[I 2025-03-09 03:17:33,950] Trial 63 finished with values: [0.6608493310063991, 0.6538004750593824] and parameters: {'iterations': 368, 'learning_rate': 0.266396000864971, 'depth': 4, 'l2_leaf_reg': 1.8687222026488268, 'bagging_temperature': 0.7715682819447645, 'random_strength': 12.541015763454611, 'border_count': 489, 'grow_policy': 'Lossguide'}.\n",
            "[I 2025-03-09 03:18:06,108] Trial 64 finished with values: [0.6091549295774648, 0.6045130641330166] and parameters: {'iterations': 735, 'learning_rate': 0.25756324292190985, 'depth': 4, 'l2_leaf_reg': 7.026242196190741, 'bagging_temperature': 0.10193331991148691, 'random_strength': 4.828618372829079, 'border_count': 71, 'grow_policy': 'Depthwise'}.\n",
            "[I 2025-03-09 03:18:38,272] Trial 65 finished with values: [0.6595618709295441, 0.6585510688836105] and parameters: {'iterations': 382, 'learning_rate': 0.14406240659289915, 'depth': 4, 'l2_leaf_reg': 4.086170699597774, 'bagging_temperature': 0.08231518907837465, 'random_strength': 6.528668788915894, 'border_count': 210, 'grow_policy': 'Lossguide'}.\n",
            "[I 2025-03-09 03:19:26,446] Trial 66 finished with values: [0.6559905100830368, 0.6555819477434679] and parameters: {'iterations': 613, 'learning_rate': 0.1166171861163357, 'depth': 4, 'l2_leaf_reg': 0.4801524367423032, 'bagging_temperature': 0.3025652769633085, 'random_strength': 7.028366887674872, 'border_count': 260, 'grow_policy': 'Depthwise'}.\n",
            "[I 2025-03-09 03:20:02,263] Trial 67 finished with values: [0.6701754385964912, 0.665083135391924] and parameters: {'iterations': 382, 'learning_rate': 0.2562938974140351, 'depth': 4, 'l2_leaf_reg': 3.982262048339078, 'bagging_temperature': 0.2520288221304592, 'random_strength': 6.528668788915894, 'border_count': 258, 'grow_policy': 'Lossguide'}.\n",
            "[I 2025-03-09 03:20:38,045] Trial 68 finished with values: [0.6600351082504389, 0.6549881235154394] and parameters: {'iterations': 168, 'learning_rate': 0.2358822316895807, 'depth': 7, 'l2_leaf_reg': 8.363395842561674, 'bagging_temperature': 0.6904297166691016, 'random_strength': 1.2664132903020204, 'border_count': 274, 'grow_policy': 'Lossguide'}.\n",
            "[I 2025-03-09 03:21:35,063] Trial 69 finished with values: [0.643281807372176, 0.6437054631828979] and parameters: {'iterations': 770, 'learning_rate': 0.1089440102407951, 'depth': 4, 'l2_leaf_reg': 8.85175617923869, 'bagging_temperature': 0.4207982143231418, 'random_strength': 19.946524178101086, 'border_count': 166, 'grow_policy': 'Lossguide'}.\n",
            "[I 2025-03-09 03:21:57,288] Trial 70 finished with values: [0.6269368295589988, 0.6282660332541568] and parameters: {'iterations': 250, 'learning_rate': 0.04967057444103492, 'depth': 4, 'l2_leaf_reg': 3.0790877557060514, 'bagging_temperature': 0.26942660294931264, 'random_strength': 2.7201596446930743, 'border_count': 214, 'grow_policy': 'Lossguide'}.\n",
            "[I 2025-03-09 03:22:16,647] Trial 61 finished with values: [0.6507009345794392, 0.6448931116389549] and parameters: {'iterations': 423, 'learning_rate': 0.1764063713539503, 'depth': 9, 'l2_leaf_reg': 6.485590614747307, 'bagging_temperature': 0.3529081475174405, 'random_strength': 17.27401319068979, 'border_count': 274, 'grow_policy': 'Depthwise'}.\n",
            "[I 2025-03-09 03:22:16,937] Trial 71 finished with values: [0.6348645465253239, 0.6318289786223278] and parameters: {'iterations': 425, 'learning_rate': 0.269328897675821, 'depth': 5, 'l2_leaf_reg': 1.2423753607312045, 'bagging_temperature': 0.2674293225985045, 'random_strength': 17.530406352203546, 'border_count': 151, 'grow_policy': 'SymmetricTree'}.\n",
            "[I 2025-03-09 03:22:48,642] Trial 73 finished with values: [0.6226415094339622, 0.6199524940617577] and parameters: {'iterations': 342, 'learning_rate': 0.1230844160989681, 'depth': 6, 'l2_leaf_reg': 1.9870455869127628, 'bagging_temperature': 0.2673047080352675, 'random_strength': 5.467413421533006, 'border_count': 63, 'grow_policy': 'Lossguide'}.\n",
            "[I 2025-03-09 03:23:53,289] Trial 72 finished with values: [0.6448598130841121, 0.6389548693586699] and parameters: {'iterations': 770, 'learning_rate': 0.1869378161180398, 'depth': 5, 'l2_leaf_reg': 8.85175617923869, 'bagging_temperature': 0.9151518827518863, 'random_strength': 11.8067063209726, 'border_count': 206, 'grow_policy': 'Lossguide'}.\n",
            "[I 2025-03-09 03:33:28,448] Trial 75 finished with values: [0.6505882352941177, 0.6472684085510689] and parameters: {'iterations': 954, 'learning_rate': 0.1315069460987189, 'depth': 9, 'l2_leaf_reg': 1.2423753607312045, 'bagging_temperature': 0.5805774927410783, 'random_strength': 10.436996348906117, 'border_count': 428, 'grow_policy': 'SymmetricTree'}.\n",
            "[I 2025-03-09 03:33:56,422] Trial 76 finished with values: [0.6494421608925426, 0.6454869358669834] and parameters: {'iterations': 773, 'learning_rate': 0.15203371176276367, 'depth': 4, 'l2_leaf_reg': 2.1334484044609674, 'bagging_temperature': 0.044291129373363436, 'random_strength': 2.1009708579552493, 'border_count': 166, 'grow_policy': 'SymmetricTree'}.\n",
            "[I 2025-03-09 03:34:54,031] Trial 77 finished with values: [0.6208530805687204, 0.6199524940617577] and parameters: {'iterations': 935, 'learning_rate': 0.269328897675821, 'depth': 4, 'l2_leaf_reg': 6.032116944072856, 'bagging_temperature': 0.25122860824251214, 'random_strength': 2.1009708579552493, 'border_count': 166, 'grow_policy': 'Depthwise'}.\n",
            "[I 2025-03-09 03:35:03,992] Trial 74 finished with values: [0.6584070796460177, 0.6561757719714965] and parameters: {'iterations': 486, 'learning_rate': 0.11374274400982912, 'depth': 8, 'l2_leaf_reg': 1.3364749196831762, 'bagging_temperature': 0.5342364457183156, 'random_strength': 2.6020718204363646, 'border_count': 477, 'grow_policy': 'Depthwise'}.\n",
            "[I 2025-03-09 03:35:56,443] Trial 78 finished with values: [0.6428152492668622, 0.6383610451306413] and parameters: {'iterations': 587, 'learning_rate': 0.20395377989152927, 'depth': 4, 'l2_leaf_reg': 7.99438082149022, 'bagging_temperature': 0.4207982143231418, 'random_strength': 11.903718773977563, 'border_count': 402, 'grow_policy': 'Depthwise'}.\n",
            "[I 2025-03-09 03:36:38,349] Trial 80 finished with values: [0.6531322505800464, 0.6448931116389549] and parameters: {'iterations': 207, 'learning_rate': 0.23550072197262584, 'depth': 5, 'l2_leaf_reg': 8.76553420153141, 'bagging_temperature': 0.5924204012282299, 'random_strength': 11.641396826764446, 'border_count': 380, 'grow_policy': 'Depthwise'}.\n",
            "[I 2025-03-09 03:36:38,876] Trial 79 finished with values: [0.6651162790697674, 0.6579572446555819] and parameters: {'iterations': 521, 'learning_rate': 0.10712782231829945, 'depth': 7, 'l2_leaf_reg': 1.1829565503373503, 'bagging_temperature': 0.9557769505162502, 'random_strength': 1.0569936754707656, 'border_count': 413, 'grow_policy': 'SymmetricTree'}.\n",
            "[I 2025-03-09 03:37:52,420] Trial 81 finished with values: [0.6240378922439314, 0.6229216152019003] and parameters: {'iterations': 668, 'learning_rate': 0.1764063713539503, 'depth': 6, 'l2_leaf_reg': 4.4266136766776425, 'bagging_temperature': 0.3529081475174405, 'random_strength': 17.27401319068979, 'border_count': 114, 'grow_policy': 'Lossguide'}.\n",
            "[I 2025-03-09 03:37:56,293] Trial 82 finished with values: [0.6437462951985774, 0.6431116389548693] and parameters: {'iterations': 867, 'learning_rate': 0.2562938974140351, 'depth': 5, 'l2_leaf_reg': 1.404899263159236, 'bagging_temperature': 0.8559731569788178, 'random_strength': 6.528668788915894, 'border_count': 479, 'grow_policy': 'SymmetricTree'}.\n",
            "[I 2025-03-09 03:38:08,302] Trial 84 finished with values: [0.6332737030411449, 0.6347980997624703] and parameters: {'iterations': 250, 'learning_rate': 0.04967057444103492, 'depth': 4, 'l2_leaf_reg': 3.0790877557060514, 'bagging_temperature': 0.26942660294931264, 'random_strength': 18.90028612143181, 'border_count': 214, 'grow_policy': 'SymmetricTree'}.\n",
            "[I 2025-03-09 03:39:50,080] Trial 85 finished with values: [0.6643192488262911, 0.6603325415676959] and parameters: {'iterations': 889, 'learning_rate': 0.2562938974140351, 'depth': 5, 'l2_leaf_reg': 1.404899263159236, 'bagging_temperature': 0.9151518827518863, 'random_strength': 3.1885770817696963, 'border_count': 479, 'grow_policy': 'SymmetricTree'}.\n",
            "[I 2025-03-09 03:41:43,805] Trial 86 finished with values: [0.6566992524439333, 0.6454869358669834] and parameters: {'iterations': 500, 'learning_rate': 0.20050296469413842, 'depth': 7, 'l2_leaf_reg': 1.1829565503373503, 'bagging_temperature': 0.05803246482822366, 'random_strength': 4.368626734779685, 'border_count': 354, 'grow_policy': 'SymmetricTree'}.\n",
            "[I 2025-03-09 03:42:27,163] Trial 83 finished with values: [0.6433158201984822, 0.6371733966745843] and parameters: {'iterations': 425, 'learning_rate': 0.07282488183090893, 'depth': 9, 'l2_leaf_reg': 1.8687222026488268, 'bagging_temperature': 0.7715682819447645, 'random_strength': 17.530406352203546, 'border_count': 489, 'grow_policy': 'SymmetricTree'}.\n",
            "[I 2025-03-09 03:42:48,223] Trial 87 finished with values: [0.6325802615933412, 0.6330166270783848] and parameters: {'iterations': 858, 'learning_rate': 0.01341258677746993, 'depth': 4, 'l2_leaf_reg': 7.111066615570772, 'bagging_temperature': 0.17480613085260255, 'random_strength': 7.028366887674872, 'border_count': 191, 'grow_policy': 'Depthwise'}.\n",
            "[I 2025-03-09 03:45:31,324] Trial 89 finished with values: [0.632438739789965, 0.6258907363420427] and parameters: {'iterations': 174, 'learning_rate': 0.1877669939317907, 'depth': 9, 'l2_leaf_reg': 1.4908404835471256, 'bagging_temperature': 0.36999814444765466, 'random_strength': 5.284847193599584, 'border_count': 146, 'grow_policy': 'Depthwise'}.\n",
            "[I 2025-03-09 03:47:10,482] Trial 90 finished with values: [0.6293872694824509, 0.6300475059382423] and parameters: {'iterations': 789, 'learning_rate': 0.14517207252875738, 'depth': 5, 'l2_leaf_reg': 3.738973115899038, 'bagging_temperature': 0.48040112955329584, 'random_strength': 1.620450199162938, 'border_count': 175, 'grow_policy': 'Lossguide'}.\n",
            "[I 2025-03-09 03:50:41,652] Trial 91 finished with values: [0.6721504112808461, 0.668646080760095] and parameters: {'iterations': 587, 'learning_rate': 0.06726736233316982, 'depth': 10, 'l2_leaf_reg': 8.097180147552226, 'bagging_temperature': 0.5751097123009807, 'random_strength': 11.903718773977563, 'border_count': 460, 'grow_policy': 'Lossguide'}.\n",
            "[I 2025-03-09 03:52:33,250] Trial 92 finished with values: [0.6682242990654206, 0.66270783847981] and parameters: {'iterations': 354, 'learning_rate': 0.10712782231829945, 'depth': 6, 'l2_leaf_reg': 1.1829565503373503, 'bagging_temperature': 0.9557769505162502, 'random_strength': 1.0569936754707656, 'border_count': 354, 'grow_policy': 'Depthwise'}.\n",
            "[I 2025-03-09 03:52:55,886] Trial 88 finished with values: [0.6491841491841492, 0.6425178147268409] and parameters: {'iterations': 416, 'learning_rate': 0.05220884667815395, 'depth': 10, 'l2_leaf_reg': 8.76553420153141, 'bagging_temperature': 0.5924204012282299, 'random_strength': 7.0286498267142665, 'border_count': 161, 'grow_policy': 'Depthwise'}.\n",
            "[I 2025-03-09 03:54:20,992] Trial 93 finished with values: [0.6348082595870207, 0.6324228028503563] and parameters: {'iterations': 757, 'learning_rate': 0.14406240659289915, 'depth': 5, 'l2_leaf_reg': 8.85175617923869, 'bagging_temperature': 0.08231518907837465, 'random_strength': 18.836901229358514, 'border_count': 210, 'grow_policy': 'Lossguide'}.\n",
            "[I 2025-03-09 03:55:38,063] Trial 94 finished with values: [0.665893271461717, 0.6579572446555819] and parameters: {'iterations': 814, 'learning_rate': 0.03206290744904524, 'depth': 7, 'l2_leaf_reg': 9.722575576833144, 'bagging_temperature': 0.8559731569788178, 'random_strength': 12.116730007262122, 'border_count': 479, 'grow_policy': 'SymmetricTree'}.\n",
            "[I 2025-03-09 03:57:31,866] Trial 96 finished with values: [0.6444053895723492, 0.6395486935866983] and parameters: {'iterations': 351, 'learning_rate': 0.04857138652991268, 'depth': 9, 'l2_leaf_reg': 1.4908404835471256, 'bagging_temperature': 0.9695797667350818, 'random_strength': 12.116730007262122, 'border_count': 211, 'grow_policy': 'SymmetricTree'}.\n",
            "[I 2025-03-09 03:58:26,820] Trial 97 finished with values: [0.6595870206489676, 0.6573634204275535] and parameters: {'iterations': 233, 'learning_rate': 0.1605741280291114, 'depth': 6, 'l2_leaf_reg': 0.7229114666720364, 'bagging_temperature': 0.2520288221304592, 'random_strength': 19.767811396298164, 'border_count': 354, 'grow_policy': 'Lossguide'}.\n",
            "[I 2025-03-09 03:58:29,440] Trial 95 finished with values: [0.6449318316538234, 0.6442992874109263] and parameters: {'iterations': 871, 'learning_rate': 0.062060632545100726, 'depth': 7, 'l2_leaf_reg': 6.460460950246643, 'bagging_temperature': 0.3956911492052839, 'random_strength': 3.311787901262702, 'border_count': 132, 'grow_policy': 'Depthwise'}.\n",
            "[I 2025-03-09 03:58:52,862] Trial 99 finished with values: [0.5120440467997247, 0.578978622327791] and parameters: {'iterations': 168, 'learning_rate': 0.027790012203473574, 'depth': 9, 'l2_leaf_reg': 3.982262048339078, 'bagging_temperature': 0.6904297166691016, 'random_strength': 19.767811396298164, 'border_count': 78, 'grow_policy': 'Lossguide'}.\n",
            "[I 2025-03-09 04:02:41,282] Trial 98 finished with values: [0.644589000591366, 0.6431116389548693] and parameters: {'iterations': 382, 'learning_rate': 0.035443534880668384, 'depth': 10, 'l2_leaf_reg': 1.9898403984736883, 'bagging_temperature': 0.8559731569788178, 'random_strength': 6.528668788915894, 'border_count': 479, 'grow_policy': 'SymmetricTree'}.\n"
          ]
        }
      ]
    },
    {
      "cell_type": "markdown",
      "source": [
        "### Probability calibration"
      ],
      "metadata": {
        "id": "7s1QLQAFTkDg"
      }
    },
    {
      "cell_type": "code",
      "source": [
        "best_parameters = {'n_estimators': 460, 'learning_rate': 0.10270500950873558, 'max_depth': 9, 'min_samples_split': 10, 'min_samples_leaf': 4, 'subsample': 0.9995540338327519, 'max_features': None}\n",
        "\n",
        "best_gbc = GradientBoostingClassifier(**best_parameters)\n",
        "best_gbc.fit(X_train, y_train)\n",
        "\n",
        "pred_train = best_gbc.predict(X_train)\n",
        "pred_test = best_gbc.predict(X_test)\n",
        "\n",
        "classification_metrics(y_train, pred_train, y_test, pred_test)"
      ],
      "metadata": {
        "colab": {
          "base_uri": "https://localhost:8080/"
        },
        "id": "XiM9Z0WD1QS5",
        "outputId": "753ab8b5-ecce-4c5f-d804-0d53e4a01dec"
      },
      "execution_count": 53,
      "outputs": [
        {
          "output_type": "stream",
          "name": "stdout",
          "text": [
            "Accuracy_train: 0.9875222816399287\n",
            "Precision_train: 0.9870364787458547\n",
            "Recall_train: 0.98763197586727\n",
            "F1_train: 0.9873341375150784\n",
            "----------------------\n",
            "Accuracy_test: 0.7690023752969121\n",
            "Precision_test: 0.7737397420867527\n",
            "Recall_test: 0.7710280373831776\n",
            "F1_test: 0.7723815096547688\n"
          ]
        }
      ]
    },
    {
      "cell_type": "code",
      "source": [
        "from sklearn.calibration import CalibrationDisplay\n",
        "\n",
        "cd = CalibrationDisplay.from_estimator(best_gbc, X_test, y_test, name='GBC')\n",
        "plt.show()"
      ],
      "metadata": {
        "colab": {
          "base_uri": "https://localhost:8080/",
          "height": 449
        },
        "id": "9bynFEAk2D6R",
        "outputId": "79705248-2415-4f1e-d2b3-efd83153f4cf"
      },
      "execution_count": null,
      "outputs": [
        {
          "output_type": "display_data",
          "data": {
            "text/plain": [
              "<Figure size 640x480 with 1 Axes>"
            ],
            "image/png": "[encoded data removed]"
          },
          "metadata": {}
        }
      ]
    },
    {
      "cell_type": "code",
      "source": [
        "from sklearn.calibration import CalibratedClassifierCV\n",
        "\n",
        "calibrated_gbc = CalibratedClassifierCV(best_gbc, cv=5, method='isotonic')\n",
        "calibrated_gbc.fit(X_train, y_train)\n",
        "\n",
        "pred_train = calibrated_gbc.predict(X_train)\n",
        "pred_test = calibrated_gbc.predict(X_test)\n",
        "\n",
        "classification_metrics(y_train, pred_train, y_test, pred_test)"
      ],
      "metadata": {
        "colab": {
          "base_uri": "https://localhost:8080/"
        },
        "id": "TJFyHHQW2rQu",
        "outputId": "5a1b3807-273e-4f76-a4f4-ec6222519d94"
      },
      "execution_count": null,
      "outputs": [
        {
          "output_type": "stream",
          "name": "stdout",
          "text": [
            "Accuracy_train: 0.9897504456327986\n",
            "Precision_train: 0.990036231884058\n",
            "Recall_train: 0.9891402714932127\n",
            "F1_train: 0.9895880488909009\n",
            "----------------------\n",
            "Accuracy_test: 0.7624703087885986\n",
            "Precision_test: 0.7620689655172413\n",
            "Recall_test: 0.7745327102803738\n",
            "F1_test: 0.7682502896871379\n"
          ]
        }
      ]
    },
    {
      "cell_type": "code",
      "source": [
        "cd = CalibrationDisplay.from_estimator(calibrated_gbc, X_test, y_test, name='GBC calibrated with isoreg')\n",
        "plt.show()"
      ],
      "metadata": {
        "colab": {
          "base_uri": "https://localhost:8080/",
          "height": 449
        },
        "id": "y-dfJkQm3fvH",
        "outputId": "96066a02-e019-43f2-c30c-26a95946ebe9"
      },
      "execution_count": null,
      "outputs": [
        {
          "output_type": "display_data",
          "data": {
            "text/plain": [
              "<Figure size 640x480 with 1 Axes>"
            ],
            "image/png": "[encoded data removed]"
          },
          "metadata": {}
        }
      ]
    },
    {
      "cell_type": "code",
      "source": [
        "calibrated_gbc = CalibratedClassifierCV(best_gbc, cv=5, method='sigmoid')\n",
        "calibrated_gbc.fit(X_train, y_train)\n",
        "\n",
        "pred_train = calibrated_gbc.predict(X_train)\n",
        "pred_test = calibrated_gbc.predict(X_test)\n",
        "\n",
        "classification_metrics(y_train, pred_train, y_test, pred_test)"
      ],
      "metadata": {
        "colab": {
          "base_uri": "https://localhost:8080/"
        },
        "id": "q-jK5OAf5NEK",
        "outputId": "d7c28f4f-77e1-4dfe-9bac-92a85a52de27"
      },
      "execution_count": null,
      "outputs": [
        {
          "output_type": "stream",
          "name": "stdout",
          "text": [
            "Accuracy_train: 0.9921271538918598\n",
            "Precision_train: 0.9930471584038694\n",
            "Recall_train: 0.9909502262443439\n",
            "F1_train: 0.9919975841763551\n",
            "----------------------\n",
            "Accuracy_test: 0.7600950118764845\n",
            "Precision_test: 0.7621809744779582\n",
            "Recall_test: 0.7675233644859814\n",
            "F1_test: 0.7648428405122235\n"
          ]
        }
      ]
    },
    {
      "cell_type": "code",
      "source": [
        "cd = CalibrationDisplay.from_estimator(calibrated_gbc, X_test, y_test, name='GBC calibrated with isoreg')\n",
        "plt.show()"
      ],
      "metadata": {
        "colab": {
          "base_uri": "https://localhost:8080/"
        },
        "id": "h5BqMiwF5UPX",
        "outputId": "c4a3ebe1-3ce3-4841-a0e1-0bd7be5c5030"
      },
      "execution_count": null,
      "outputs": [
        {
          "output_type": "display_data",
          "data": {
            "text/plain": [
              "<Figure size 640x480 with 1 Axes>"
            ],
            "image/png": "[encoded data removed]"
          },
          "metadata": {}
        }
      ]
    },
    {
      "cell_type": "markdown",
      "metadata": {
        "id": "yixU7rO99nPc",
        "jp-MarkdownHeadingCollapsed": true
      },
      "source": [
        "## Pipeline (for baseline 4)"
      ]
    },
    {
      "cell_type": "code",
      "execution_count": null,
      "metadata": {
        "id": "L1-zpKOF_K5J"
      },
      "outputs": [],
      "source": [
        "import cloudpickle\n",
        "from sklearn.base import TransformerMixin, BaseEstimator\n",
        "from sklearn.pipeline import Pipeline\n",
        "from sklearn.compose import ColumnTransformer"
      ]
    },
    {
      "cell_type": "code",
      "execution_count": null,
      "metadata": {
        "id": "m_jwVeDfCE7m"
      },
      "outputs": [],
      "source": [
        "df['target'] = np.where(df['price_1d'] > df['created_price'], 1, 0)\n",
        "X_train, X_test, y_train, y_test = train_test_split(df.drop(columns=['target']), df['target'], test_size=0.2, random_state=69)"
      ]
    },
    {
      "cell_type": "code",
      "execution_count": null,
      "metadata": {
        "colab": {
          "base_uri": "https://localhost:8080/",
          "height": 457
        },
        "id": "d_IwFv2V-_Dv",
        "outputId": "3e348833-6d2d-46c8-f4ee-1b144a80eda3"
      },
      "outputs": [
        {
          "name": "stderr",
          "output_type": "stream",
          "text": [
            "/usr/local/lib/python3.10/dist-packages/sklearn/compose/_column_transformer.py:1651: FutureWarning: \n",
            "The format of the columns of the 'remainder' transformer in ColumnTransformer.transformers_ will change in version 1.7 to match the format of the other transformers.\n",
            "At the moment the remainder columns are stored as indices (of type int). With the same ColumnTransformer configuration, in the future they will be stored as column names (of type str).\n",
            "To use the new behavior now and suppress this warning, use ColumnTransformer(force_int_remainder_cols=False).\n",
            "\n",
            "  warnings.warn(\n"
          ]
        },
        {
          "data": {
            "text/html": [
              "<style>#sk-container-id-2 {\n",
              "  /* Definition of color scheme common for light and dark mode */\n",
              "  --sklearn-color-text: #000;\n",
              "  --sklearn-color-text-muted: #666;\n",
              "  --sklearn-color-line: gray;\n",
              "  /* Definition of color scheme for unfitted estimators */\n",
              "  --sklearn-color-unfitted-level-0: #fff5e6;\n",
              "  --sklearn-color-unfitted-level-1: #f6e4d2;\n",
              "  --sklearn-color-unfitted-level-2: #ffe0b3;\n",
              "  --sklearn-color-unfitted-level-3: chocolate;\n",
              "  /* Definition of color scheme for fitted estimators */\n",
              "  --sklearn-color-fitted-level-0: #f0f8ff;\n",
              "  --sklearn-color-fitted-level-1: #d4ebff;\n",
              "  --sklearn-color-fitted-level-2: #b3dbfd;\n",
              "  --sklearn-color-fitted-level-3: cornflowerblue;\n",
              "\n",
              "  /* Specific color for light theme */\n",
              "  --sklearn-color-text-on-default-background: var(--sg-text-color, var(--theme-code-foreground, var(--jp-content-font-color1, black)));\n",
              "  --sklearn-color-background: var(--sg-background-color, var(--theme-background, var(--jp-layout-color0, white)));\n",
              "  --sklearn-color-border-box: var(--sg-text-color, var(--theme-code-foreground, var(--jp-content-font-color1, black)));\n",
              "  --sklearn-color-icon: #696969;\n",
              "\n",
              "  @media (prefers-color-scheme: dark) {\n",
              "    /* Redefinition of color scheme for dark theme */\n",
              "    --sklearn-color-text-on-default-background: var(--sg-text-color, var(--theme-code-foreground, var(--jp-content-font-color1, white)));\n",
              "    --sklearn-color-background: var(--sg-background-color, var(--theme-background, var(--jp-layout-color0, #111)));\n",
              "    --sklearn-color-border-box: var(--sg-text-color, var(--theme-code-foreground, var(--jp-content-font-color1, white)));\n",
              "    --sklearn-color-icon: #878787;\n",
              "  }\n",
              "}\n",
              "\n",
              "#sk-container-id-2 {\n",
              "  color: var(--sklearn-color-text);\n",
              "}\n",
              "\n",
              "#sk-container-id-2 pre {\n",
              "  padding: 0;\n",
              "}\n",
              "\n",
              "#sk-container-id-2 input.sk-hidden--visually {\n",
              "  border: 0;\n",
              "  clip: rect(1px 1px 1px 1px);\n",
              "  clip: rect(1px, 1px, 1px, 1px);\n",
              "  height: 1px;\n",
              "  margin: -1px;\n",
              "  overflow: hidden;\n",
              "  padding: 0;\n",
              "  position: absolute;\n",
              "  width: 1px;\n",
              "}\n",
              "\n",
              "#sk-container-id-2 div.sk-dashed-wrapped {\n",
              "  border: 1px dashed var(--sklearn-color-line);\n",
              "  margin: 0 0.4em 0.5em 0.4em;\n",
              "  box-sizing: border-box;\n",
              "  padding-bottom: 0.4em;\n",
              "  background-color: var(--sklearn-color-background);\n",
              "}\n",
              "\n",
              "#sk-container-id-2 div.sk-container {\n",
              "  /* jupyter's `normalize.less` sets `[hidden] { display: none; }`\n",
              "     but bootstrap.min.css set `[hidden] { display: none !important; }`\n",
              "     so we also need the `!important` here to be able to override the\n",
              "     default hidden behavior on the sphinx rendered scikit-learn.org.\n",
              "     See: https://github.com/scikit-learn/scikit-learn/issues/21755 */\n",
              "  display: inline-block !important;\n",
              "  position: relative;\n",
              "}\n",
              "\n",
              "#sk-container-id-2 div.sk-text-repr-fallback {\n",
              "  display: none;\n",
              "}\n",
              "\n",
              "div.sk-parallel-item,\n",
              "div.sk-serial,\n",
              "div.sk-item {\n",
              "  /* draw centered vertical line to link estimators */\n",
              "  background-image: linear-gradient(var(--sklearn-color-text-on-default-background), var(--sklearn-color-text-on-default-background));\n",
              "  background-size: 2px 100%;\n",
              "  background-repeat: no-repeat;\n",
              "  background-position: center center;\n",
              "}\n",
              "\n",
              "/* Parallel-specific style estimator block */\n",
              "\n",
              "#sk-container-id-2 div.sk-parallel-item::after {\n",
              "  content: \"\";\n",
              "  width: 100%;\n",
              "  border-bottom: 2px solid var(--sklearn-color-text-on-default-background);\n",
              "  flex-grow: 1;\n",
              "}\n",
              "\n",
              "#sk-container-id-2 div.sk-parallel {\n",
              "  display: flex;\n",
              "  align-items: stretch;\n",
              "  justify-content: center;\n",
              "  background-color: var(--sklearn-color-background);\n",
              "  position: relative;\n",
              "}\n",
              "\n",
              "#sk-container-id-2 div.sk-parallel-item {\n",
              "  display: flex;\n",
              "  flex-direction: column;\n",
              "}\n",
              "\n",
              "#sk-container-id-2 div.sk-parallel-item:first-child::after {\n",
              "  align-self: flex-end;\n",
              "  width: 50%;\n",
              "}\n",
              "\n",
              "#sk-container-id-2 div.sk-parallel-item:last-child::after {\n",
              "  align-self: flex-start;\n",
              "  width: 50%;\n",
              "}\n",
              "\n",
              "#sk-container-id-2 div.sk-parallel-item:only-child::after {\n",
              "  width: 0;\n",
              "}\n",
              "\n",
              "/* Serial-specific style estimator block */\n",
              "\n",
              "#sk-container-id-2 div.sk-serial {\n",
              "  display: flex;\n",
              "  flex-direction: column;\n",
              "  align-items: center;\n",
              "  background-color: var(--sklearn-color-background);\n",
              "  padding-right: 1em;\n",
              "  padding-left: 1em;\n",
              "}\n",
              "\n",
              "\n",
              "/* Toggleable style: style used for estimator/Pipeline/ColumnTransformer box that is\n",
              "clickable and can be expanded/collapsed.\n",
              "- Pipeline and ColumnTransformer use this feature and define the default style\n",
              "- Estimators will overwrite some part of the style using the `sk-estimator` class\n",
              "*/\n",
              "\n",
              "/* Pipeline and ColumnTransformer style (default) */\n",
              "\n",
              "#sk-container-id-2 div.sk-toggleable {\n",
              "  /* Default theme specific background. It is overwritten whether we have a\n",
              "  specific estimator or a Pipeline/ColumnTransformer */\n",
              "  background-color: var(--sklearn-color-background);\n",
              "}\n",
              "\n",
              "/* Toggleable label */\n",
              "#sk-container-id-2 label.sk-toggleable__label {\n",
              "  cursor: pointer;\n",
              "  display: flex;\n",
              "  width: 100%;\n",
              "  margin-bottom: 0;\n",
              "  padding: 0.5em;\n",
              "  box-sizing: border-box;\n",
              "  text-align: center;\n",
              "  align-items: start;\n",
              "  justify-content: space-between;\n",
              "  gap: 0.5em;\n",
              "}\n",
              "\n",
              "#sk-container-id-2 label.sk-toggleable__label .caption {\n",
              "  font-size: 0.6rem;\n",
              "  font-weight: lighter;\n",
              "  color: var(--sklearn-color-text-muted);\n",
              "}\n",
              "\n",
              "#sk-container-id-2 label.sk-toggleable__label-arrow:before {\n",
              "  /* Arrow on the left of the label */\n",
              "  content: \"▸\";\n",
              "  float: left;\n",
              "  margin-right: 0.25em;\n",
              "  color: var(--sklearn-color-icon);\n",
              "}\n",
              "\n",
              "#sk-container-id-2 label.sk-toggleable__label-arrow:hover:before {\n",
              "  color: var(--sklearn-color-text);\n",
              "}\n",
              "\n",
              "/* Toggleable content - dropdown */\n",
              "\n",
              "#sk-container-id-2 div.sk-toggleable__content {\n",
              "  max-height: 0;\n",
              "  max-width: 0;\n",
              "  overflow: hidden;\n",
              "  text-align: left;\n",
              "  /* unfitted */\n",
              "  background-color: var(--sklearn-color-unfitted-level-0);\n",
              "}\n",
              "\n",
              "#sk-container-id-2 div.sk-toggleable__content.fitted {\n",
              "  /* fitted */\n",
              "  background-color: var(--sklearn-color-fitted-level-0);\n",
              "}\n",
              "\n",
              "#sk-container-id-2 div.sk-toggleable__content pre {\n",
              "  margin: 0.2em;\n",
              "  border-radius: 0.25em;\n",
              "  color: var(--sklearn-color-text);\n",
              "  /* unfitted */\n",
              "  background-color: var(--sklearn-color-unfitted-level-0);\n",
              "}\n",
              "\n",
              "#sk-container-id-2 div.sk-toggleable__content.fitted pre {\n",
              "  /* unfitted */\n",
              "  background-color: var(--sklearn-color-fitted-level-0);\n",
              "}\n",
              "\n",
              "#sk-container-id-2 input.sk-toggleable__control:checked~div.sk-toggleable__content {\n",
              "  /* Expand drop-down */\n",
              "  max-height: 200px;\n",
              "  max-width: 100%;\n",
              "  overflow: auto;\n",
              "}\n",
              "\n",
              "#sk-container-id-2 input.sk-toggleable__control:checked~label.sk-toggleable__label-arrow:before {\n",
              "  content: \"▾\";\n",
              "}\n",
              "\n",
              "/* Pipeline/ColumnTransformer-specific style */\n",
              "\n",
              "#sk-container-id-2 div.sk-label input.sk-toggleable__control:checked~label.sk-toggleable__label {\n",
              "  color: var(--sklearn-color-text);\n",
              "  background-color: var(--sklearn-color-unfitted-level-2);\n",
              "}\n",
              "\n",
              "#sk-container-id-2 div.sk-label.fitted input.sk-toggleable__control:checked~label.sk-toggleable__label {\n",
              "  background-color: var(--sklearn-color-fitted-level-2);\n",
              "}\n",
              "\n",
              "/* Estimator-specific style */\n",
              "\n",
              "/* Colorize estimator box */\n",
              "#sk-container-id-2 div.sk-estimator input.sk-toggleable__control:checked~label.sk-toggleable__label {\n",
              "  /* unfitted */\n",
              "  background-color: var(--sklearn-color-unfitted-level-2);\n",
              "}\n",
              "\n",
              "#sk-container-id-2 div.sk-estimator.fitted input.sk-toggleable__control:checked~label.sk-toggleable__label {\n",
              "  /* fitted */\n",
              "  background-color: var(--sklearn-color-fitted-level-2);\n",
              "}\n",
              "\n",
              "#sk-container-id-2 div.sk-label label.sk-toggleable__label,\n",
              "#sk-container-id-2 div.sk-label label {\n",
              "  /* The background is the default theme color */\n",
              "  color: var(--sklearn-color-text-on-default-background);\n",
              "}\n",
              "\n",
              "/* On hover, darken the color of the background */\n",
              "#sk-container-id-2 div.sk-label:hover label.sk-toggleable__label {\n",
              "  color: var(--sklearn-color-text);\n",
              "  background-color: var(--sklearn-color-unfitted-level-2);\n",
              "}\n",
              "\n",
              "/* Label box, darken color on hover, fitted */\n",
              "#sk-container-id-2 div.sk-label.fitted:hover label.sk-toggleable__label.fitted {\n",
              "  color: var(--sklearn-color-text);\n",
              "  background-color: var(--sklearn-color-fitted-level-2);\n",
              "}\n",
              "\n",
              "/* Estimator label */\n",
              "\n",
              "#sk-container-id-2 div.sk-label label {\n",
              "  font-family: monospace;\n",
              "  font-weight: bold;\n",
              "  display: inline-block;\n",
              "  line-height: 1.2em;\n",
              "}\n",
              "\n",
              "#sk-container-id-2 div.sk-label-container {\n",
              "  text-align: center;\n",
              "}\n",
              "\n",
              "/* Estimator-specific */\n",
              "#sk-container-id-2 div.sk-estimator {\n",
              "  font-family: monospace;\n",
              "  border: 1px dotted var(--sklearn-color-border-box);\n",
              "  border-radius: 0.25em;\n",
              "  box-sizing: border-box;\n",
              "  margin-bottom: 0.5em;\n",
              "  /* unfitted */\n",
              "  background-color: var(--sklearn-color-unfitted-level-0);\n",
              "}\n",
              "\n",
              "#sk-container-id-2 div.sk-estimator.fitted {\n",
              "  /* fitted */\n",
              "  background-color: var(--sklearn-color-fitted-level-0);\n",
              "}\n",
              "\n",
              "/* on hover */\n",
              "#sk-container-id-2 div.sk-estimator:hover {\n",
              "  /* unfitted */\n",
              "  background-color: var(--sklearn-color-unfitted-level-2);\n",
              "}\n",
              "\n",
              "#sk-container-id-2 div.sk-estimator.fitted:hover {\n",
              "  /* fitted */\n",
              "  background-color: var(--sklearn-color-fitted-level-2);\n",
              "}\n",
              "\n",
              "/* Specification for estimator info (e.g. \"i\" and \"?\") */\n",
              "\n",
              "/* Common style for \"i\" and \"?\" */\n",
              "\n",
              ".sk-estimator-doc-link,\n",
              "a:link.sk-estimator-doc-link,\n",
              "a:visited.sk-estimator-doc-link {\n",
              "  float: right;\n",
              "  font-size: smaller;\n",
              "  line-height: 1em;\n",
              "  font-family: monospace;\n",
              "  background-color: var(--sklearn-color-background);\n",
              "  border-radius: 1em;\n",
              "  height: 1em;\n",
              "  width: 1em;\n",
              "  text-decoration: none !important;\n",
              "  margin-left: 0.5em;\n",
              "  text-align: center;\n",
              "  /* unfitted */\n",
              "  border: var(--sklearn-color-unfitted-level-1) 1pt solid;\n",
              "  color: var(--sklearn-color-unfitted-level-1);\n",
              "}\n",
              "\n",
              ".sk-estimator-doc-link.fitted,\n",
              "a:link.sk-estimator-doc-link.fitted,\n",
              "a:visited.sk-estimator-doc-link.fitted {\n",
              "  /* fitted */\n",
              "  border: var(--sklearn-color-fitted-level-1) 1pt solid;\n",
              "  color: var(--sklearn-color-fitted-level-1);\n",
              "}\n",
              "\n",
              "/* On hover */\n",
              "div.sk-estimator:hover .sk-estimator-doc-link:hover,\n",
              ".sk-estimator-doc-link:hover,\n",
              "div.sk-label-container:hover .sk-estimator-doc-link:hover,\n",
              ".sk-estimator-doc-link:hover {\n",
              "  /* unfitted */\n",
              "  background-color: var(--sklearn-color-unfitted-level-3);\n",
              "  color: var(--sklearn-color-background);\n",
              "  text-decoration: none;\n",
              "}\n",
              "\n",
              "div.sk-estimator.fitted:hover .sk-estimator-doc-link.fitted:hover,\n",
              ".sk-estimator-doc-link.fitted:hover,\n",
              "div.sk-label-container:hover .sk-estimator-doc-link.fitted:hover,\n",
              ".sk-estimator-doc-link.fitted:hover {\n",
              "  /* fitted */\n",
              "  background-color: var(--sklearn-color-fitted-level-3);\n",
              "  color: var(--sklearn-color-background);\n",
              "  text-decoration: none;\n",
              "}\n",
              "\n",
              "/* Span, style for the box shown on hovering the info icon */\n",
              ".sk-estimator-doc-link span {\n",
              "  display: none;\n",
              "  z-index: 9999;\n",
              "  position: relative;\n",
              "  font-weight: normal;\n",
              "  right: .2ex;\n",
              "  padding: .5ex;\n",
              "  margin: .5ex;\n",
              "  width: min-content;\n",
              "  min-width: 20ex;\n",
              "  max-width: 50ex;\n",
              "  color: var(--sklearn-color-text);\n",
              "  box-shadow: 2pt 2pt 4pt #999;\n",
              "  /* unfitted */\n",
              "  background: var(--sklearn-color-unfitted-level-0);\n",
              "  border: .5pt solid var(--sklearn-color-unfitted-level-3);\n",
              "}\n",
              "\n",
              ".sk-estimator-doc-link.fitted span {\n",
              "  /* fitted */\n",
              "  background: var(--sklearn-color-fitted-level-0);\n",
              "  border: var(--sklearn-color-fitted-level-3);\n",
              "}\n",
              "\n",
              ".sk-estimator-doc-link:hover span {\n",
              "  display: block;\n",
              "}\n",
              "\n",
              "/* \"?\"-specific style due to the `<a>` HTML tag */\n",
              "\n",
              "#sk-container-id-2 a.estimator_doc_link {\n",
              "  float: right;\n",
              "  font-size: 1rem;\n",
              "  line-height: 1em;\n",
              "  font-family: monospace;\n",
              "  background-color: var(--sklearn-color-background);\n",
              "  border-radius: 1rem;\n",
              "  height: 1rem;\n",
              "  width: 1rem;\n",
              "  text-decoration: none;\n",
              "  /* unfitted */\n",
              "  color: var(--sklearn-color-unfitted-level-1);\n",
              "  border: var(--sklearn-color-unfitted-level-1) 1pt solid;\n",
              "}\n",
              "\n",
              "#sk-container-id-2 a.estimator_doc_link.fitted {\n",
              "  /* fitted */\n",
              "  border: var(--sklearn-color-fitted-level-1) 1pt solid;\n",
              "  color: var(--sklearn-color-fitted-level-1);\n",
              "}\n",
              "\n",
              "/* On hover */\n",
              "#sk-container-id-2 a.estimator_doc_link:hover {\n",
              "  /* unfitted */\n",
              "  background-color: var(--sklearn-color-unfitted-level-3);\n",
              "  color: var(--sklearn-color-background);\n",
              "  text-decoration: none;\n",
              "}\n",
              "\n",
              "#sk-container-id-2 a.estimator_doc_link.fitted:hover {\n",
              "  /* fitted */\n",
              "  background-color: var(--sklearn-color-fitted-level-3);\n",
              "}\n",
              "</style><div id=\"sk-container-id-2\" class=\"sk-top-container\"><div class=\"sk-text-repr-fallback\"><pre>Pipeline(steps=[(&#x27;custom&#x27;, CustomTransformer()),\n",
              "                (&#x27;preprocessor&#x27;,\n",
              "                 ColumnTransformer(remainder=&#x27;passthrough&#x27;,\n",
              "                                   transformers=[(&#x27;ohe&#x27;,\n",
              "                                                  OneHotEncoder(drop=&#x27;first&#x27;,\n",
              "                                                                handle_unknown=&#x27;ignore&#x27;,\n",
              "                                                                sparse_output=False),\n",
              "                                                  [&#x27;subreddit&#x27;, &#x27;type&#x27;,\n",
              "                                                   &#x27;ticker&#x27;])])),\n",
              "                (&#x27;scaler&#x27;, StandardScaler()),\n",
              "                (&#x27;classifier&#x27;, LogisticRegression())])</pre><b>In a Jupyter environment, please rerun this cell to show the HTML representation or trust the notebook. <br />On GitHub, the HTML representation is unable to render, please try loading this page with nbviewer.org.</b></div><div class=\"sk-container\" hidden><div class=\"sk-item sk-dashed-wrapped\"><div class=\"sk-label-container\"><div class=\"sk-label fitted sk-toggleable\"><input class=\"sk-toggleable__control sk-hidden--visually\" id=\"sk-estimator-id-10\" type=\"checkbox\" ><label for=\"sk-estimator-id-10\" class=\"sk-toggleable__label fitted sk-toggleable__label-arrow\"><div><div>Pipeline</div></div><div><a class=\"sk-estimator-doc-link fitted\" rel=\"noreferrer\" target=\"_blank\" href=\"https://scikit-learn.org/1.6/modules/generated/sklearn.pipeline.Pipeline.html\">?<span>Documentation for Pipeline</span></a><span class=\"sk-estimator-doc-link fitted\">i<span>Fitted</span></span></div></label><div class=\"sk-toggleable__content fitted\"><pre>Pipeline(steps=[(&#x27;custom&#x27;, CustomTransformer()),\n",
              "                (&#x27;preprocessor&#x27;,\n",
              "                 ColumnTransformer(remainder=&#x27;passthrough&#x27;,\n",
              "                                   transformers=[(&#x27;ohe&#x27;,\n",
              "                                                  OneHotEncoder(drop=&#x27;first&#x27;,\n",
              "                                                                handle_unknown=&#x27;ignore&#x27;,\n",
              "                                                                sparse_output=False),\n",
              "                                                  [&#x27;subreddit&#x27;, &#x27;type&#x27;,\n",
              "                                                   &#x27;ticker&#x27;])])),\n",
              "                (&#x27;scaler&#x27;, StandardScaler()),\n",
              "                (&#x27;classifier&#x27;, LogisticRegression())])</pre></div> </div></div><div class=\"sk-serial\"><div class=\"sk-item\"><div class=\"sk-estimator fitted sk-toggleable\"><input class=\"sk-toggleable__control sk-hidden--visually\" id=\"sk-estimator-id-11\" type=\"checkbox\" ><label for=\"sk-estimator-id-11\" class=\"sk-toggleable__label fitted sk-toggleable__label-arrow\"><div><div>CustomTransformer</div></div></label><div class=\"sk-toggleable__content fitted\"><pre>CustomTransformer()</pre></div> </div></div><div class=\"sk-item sk-dashed-wrapped\"><div class=\"sk-label-container\"><div class=\"sk-label fitted sk-toggleable\"><input class=\"sk-toggleable__control sk-hidden--visually\" id=\"sk-estimator-id-12\" type=\"checkbox\" ><label for=\"sk-estimator-id-12\" class=\"sk-toggleable__label fitted sk-toggleable__label-arrow\"><div><div>preprocessor: ColumnTransformer</div></div><div><a class=\"sk-estimator-doc-link fitted\" rel=\"noreferrer\" target=\"_blank\" href=\"https://scikit-learn.org/1.6/modules/generated/sklearn.compose.ColumnTransformer.html\">?<span>Documentation for preprocessor: ColumnTransformer</span></a></div></label><div class=\"sk-toggleable__content fitted\"><pre>ColumnTransformer(remainder=&#x27;passthrough&#x27;,\n",
              "                  transformers=[(&#x27;ohe&#x27;,\n",
              "                                 OneHotEncoder(drop=&#x27;first&#x27;,\n",
              "                                               handle_unknown=&#x27;ignore&#x27;,\n",
              "                                               sparse_output=False),\n",
              "                                 [&#x27;subreddit&#x27;, &#x27;type&#x27;, &#x27;ticker&#x27;])])</pre></div> </div></div><div class=\"sk-parallel\"><div class=\"sk-parallel-item\"><div class=\"sk-item\"><div class=\"sk-label-container\"><div class=\"sk-label fitted sk-toggleable\"><input class=\"sk-toggleable__control sk-hidden--visually\" id=\"sk-estimator-id-13\" type=\"checkbox\" ><label for=\"sk-estimator-id-13\" class=\"sk-toggleable__label fitted sk-toggleable__label-arrow\"><div><div>ohe</div></div></label><div class=\"sk-toggleable__content fitted\"><pre>[&#x27;subreddit&#x27;, &#x27;type&#x27;, &#x27;ticker&#x27;]</pre></div> </div></div><div class=\"sk-serial\"><div class=\"sk-item\"><div class=\"sk-estimator fitted sk-toggleable\"><input class=\"sk-toggleable__control sk-hidden--visually\" id=\"sk-estimator-id-14\" type=\"checkbox\" ><label for=\"sk-estimator-id-14\" class=\"sk-toggleable__label fitted sk-toggleable__label-arrow\"><div><div>OneHotEncoder</div></div><div><a class=\"sk-estimator-doc-link fitted\" rel=\"noreferrer\" target=\"_blank\" href=\"https://scikit-learn.org/1.6/modules/generated/sklearn.preprocessing.OneHotEncoder.html\">?<span>Documentation for OneHotEncoder</span></a></div></label><div class=\"sk-toggleable__content fitted\"><pre>OneHotEncoder(drop=&#x27;first&#x27;, handle_unknown=&#x27;ignore&#x27;, sparse_output=False)</pre></div> </div></div></div></div></div><div class=\"sk-parallel-item\"><div class=\"sk-item\"><div class=\"sk-label-container\"><div class=\"sk-label fitted sk-toggleable\"><input class=\"sk-toggleable__control sk-hidden--visually\" id=\"sk-estimator-id-15\" type=\"checkbox\" ><label for=\"sk-estimator-id-15\" class=\"sk-toggleable__label fitted sk-toggleable__label-arrow\"><div><div>remainder</div></div></label><div class=\"sk-toggleable__content fitted\"><pre>[&#x27;score&#x27;, &#x27;num_comments&#x27;, &#x27;processed_text_length&#x27;, &#x27;sentiment_scores&#x27;, &#x27;created_price&#x27;]</pre></div> </div></div><div class=\"sk-serial\"><div class=\"sk-item\"><div class=\"sk-estimator fitted sk-toggleable\"><input class=\"sk-toggleable__control sk-hidden--visually\" id=\"sk-estimator-id-16\" type=\"checkbox\" ><label for=\"sk-estimator-id-16\" class=\"sk-toggleable__label fitted sk-toggleable__label-arrow\"><div><div>passthrough</div></div></label><div class=\"sk-toggleable__content fitted\"><pre>passthrough</pre></div> </div></div></div></div></div></div></div><div class=\"sk-item\"><div class=\"sk-estimator fitted sk-toggleable\"><input class=\"sk-toggleable__control sk-hidden--visually\" id=\"sk-estimator-id-17\" type=\"checkbox\" ><label for=\"sk-estimator-id-17\" class=\"sk-toggleable__label fitted sk-toggleable__label-arrow\"><div><div>StandardScaler</div></div><div><a class=\"sk-estimator-doc-link fitted\" rel=\"noreferrer\" target=\"_blank\" href=\"https://scikit-learn.org/1.6/modules/generated/sklearn.preprocessing.StandardScaler.html\">?<span>Documentation for StandardScaler</span></a></div></label><div class=\"sk-toggleable__content fitted\"><pre>StandardScaler()</pre></div> </div></div><div class=\"sk-item\"><div class=\"sk-estimator fitted sk-toggleable\"><input class=\"sk-toggleable__control sk-hidden--visually\" id=\"sk-estimator-id-18\" type=\"checkbox\" ><label for=\"sk-estimator-id-18\" class=\"sk-toggleable__label fitted sk-toggleable__label-arrow\"><div><div>LogisticRegression</div></div><div><a class=\"sk-estimator-doc-link fitted\" rel=\"noreferrer\" target=\"_blank\" href=\"https://scikit-learn.org/1.6/modules/generated/sklearn.linear_model.LogisticRegression.html\">?<span>Documentation for LogisticRegression</span></a></div></label><div class=\"sk-toggleable__content fitted\"><pre>LogisticRegression()</pre></div> </div></div></div></div></div></div>"
            ],
            "text/plain": [
              "Pipeline(steps=[('custom', CustomTransformer()),\n",
              "                ('preprocessor',\n",
              "                 ColumnTransformer(remainder='passthrough',\n",
              "                                   transformers=[('ohe',\n",
              "                                                  OneHotEncoder(drop='first',\n",
              "                                                                handle_unknown='ignore',\n",
              "                                                                sparse_output=False),\n",
              "                                                  ['subreddit', 'type',\n",
              "                                                   'ticker'])])),\n",
              "                ('scaler', StandardScaler()),\n",
              "                ('classifier', LogisticRegression())])"
            ]
          },
          "execution_count": 21,
          "metadata": {},
          "output_type": "execute_result"
        }
      ],
      "source": [
        "class CustomTransformer(BaseEstimator, TransformerMixin):\n",
        "    def fit(self, X, y=None):\n",
        "        return self\n",
        "\n",
        "    def transform(self, X):\n",
        "        X = X.drop(['id', 'title', 'url', 'created_utc', 'parsed_utc', 'text', 'parent_id', 'clean_text', 'processed_text', 'entities', 'tickers', 'price_1d', 'doc_embedding'], axis=1)\n",
        "        X = X.fillna(0)\n",
        "        return X\n",
        "\n",
        "preprocessor = ColumnTransformer(\n",
        "    transformers=[\n",
        "        ('ohe', OneHotEncoder(drop='first', handle_unknown='ignore', sparse_output=False), ['subreddit', 'type', 'ticker'])\n",
        "    ],\n",
        "    remainder='passthrough'\n",
        ")\n",
        "\n",
        "pipeline = Pipeline([\n",
        "    ('custom', CustomTransformer()),\n",
        "    ('preprocessor', preprocessor),\n",
        "    ('scaler', StandardScaler()),\n",
        "    ('classifier', LogisticRegression())\n",
        "])\n",
        "\n",
        "pipeline.fit(X_train, y_train)"
      ]
    },
    {
      "cell_type": "code",
      "execution_count": null,
      "metadata": {
        "colab": {
          "base_uri": "https://localhost:8080/"
        },
        "id": "izb30Y4jD1x9",
        "outputId": "ce651154-b526-437b-b255-5d06e57bc327"
      },
      "outputs": [
        {
          "name": "stdout",
          "output_type": "stream",
          "text": [
            "Accuracy_train: 0.6772133095662507\n",
            "Precision_train: 0.687828947368421\n",
            "Recall_train: 0.6307692307692307\n",
            "F1_train: 0.6580645161290323\n",
            "----------------------\n",
            "Accuracy_test: 0.586104513064133\n",
            "Precision_test: 0.5940828402366863\n",
            "Recall_test: 0.5864485981308412\n",
            "F1_test: 0.5902410346854792\n"
          ]
        },
        {
          "name": "stderr",
          "output_type": "stream",
          "text": [
            "/usr/local/lib/python3.10/dist-packages/sklearn/preprocessing/_encoders.py:246: UserWarning: Found unknown categories in columns [2] during transform. These unknown categories will be encoded as all zeros\n",
            "  warnings.warn(\n"
          ]
        }
      ],
      "source": [
        "pred_train = pipeline.predict(X_train)\n",
        "pred_test = pipeline.predict(X_test)\n",
        "\n",
        "classification_metrics(y_train, pred_train, y_test, pred_test)"
      ]
    },
    {
      "cell_type": "code",
      "execution_count": null,
      "metadata": {
        "id": "kB40jmzKC2eS"
      },
      "outputs": [],
      "source": [
        "# with open(\"logreg_pipeline.pkl\", \"wb\") as pkl_file:\n",
        "#         cloudpickle.dump(pipeline, pkl_file)\n",
        "\n",
        "with open(\"logreg_pipeline.pickle\", \"wb\") as f:\n",
        "           f.write(cloudpickle.dumps(pipeline))"
      ]
    },
    {
      "cell_type": "code",
      "execution_count": null,
      "metadata": {
        "colab": {
          "base_uri": "https://localhost:8080/",
          "height": 35
        },
        "id": "n5gRDHtWgl_j",
        "outputId": "7cf0c960-8c5b-4617-976e-4e0447d6e799"
      },
      "outputs": [
        {
          "data": {
            "application/vnd.google.colaboratory.intrinsic+json": {
              "type": "string"
            },
            "text/plain": [
              "'3.1.0'"
            ]
          },
          "execution_count": 26,
          "metadata": {},
          "output_type": "execute_result"
        }
      ],
      "source": [
        "cloudpickle.__version__\n"
      ]
    },
    {
      "cell_type": "code",
      "execution_count": null,
      "metadata": {
        "colab": {
          "base_uri": "https://localhost:8080/"
        },
        "id": "wjPhHc2HhnSZ",
        "outputId": "0a07c856-9b74-4492-b11b-d9da6aceceec"
      },
      "outputs": [
        {
          "name": "stdout",
          "output_type": "stream",
          "text": [
            "Python 3.10.12\n"
          ]
        }
      ],
      "source": [
        "!python3 --version"
      ]
    },
    {
      "cell_type": "markdown",
      "metadata": {
        "id": "KHrg6zOg4zME"
      },
      "source": [
        "## Additional visualization"
      ]
    },
    {
      "cell_type": "code",
      "execution_count": null,
      "metadata": {
        "id": "jHT29cdJ4zME"
      },
      "outputs": [],
      "source": [
        "import plotly.graph_objects as go\n",
        "import plotly.express as px\n",
        "import plotly.io as pio\n",
        "\n",
        "# other renderers seem to be ugly\n",
        "pio.renderers.default = 'iframe'\n",
        "\n",
        "def plot_ticker_treemap(df: pd.DataFrame) -> go.Figure:\n",
        "    ticker_counts = df['ticker'].value_counts().reset_index()\n",
        "    ticker_counts.columns = ['ticker', 'count']\n",
        "\n",
        "    fig = px.treemap(\n",
        "        ticker_counts,\n",
        "        path=['ticker'],\n",
        "        values='count',\n",
        "        # title='Treemap of Ticker Counts'\n",
        "    )\n",
        "\n",
        "    fig.update_layout(\n",
        "        title={\n",
        "            'text': 'Treemap of Ticker Counts',\n",
        "            'font': {'size': 24}\n",
        "        },\n",
        "        # xaxis={\n",
        "        #     'title': {'text': 'Subreddit',\n",
        "        #               'font': {'size': 20}}\n",
        "        # },\n",
        "        # yaxis={\n",
        "        #     'title': {'text': 'Number of Posts',\n",
        "        #               'font': {'size': 20}}\n",
        "        # }\n",
        "    )\n",
        "\n",
        "    return fig\n",
        "\n",
        "def plot_subreddits_distribution(df: pd.DataFrame) -> go.Figure:\n",
        "    subreddit_counts = df['subreddit'].value_counts().reset_index()\n",
        "    subreddit_counts.columns = ['subreddit', 'count']\n",
        "\n",
        "    custom_colors = ['#636EFA', '#EF553B', '#00CC96', '#AB63FA', '#FFA15A']\n",
        "\n",
        "    fig = px.bar(subreddit_counts,\n",
        "                 x='subreddit',\n",
        "                 y='count',\n",
        "                 color='subreddit',\n",
        "                 color_discrete_sequence=custom_colors)\n",
        "\n",
        "    fig.update_layout(\n",
        "        title={\n",
        "            'text': 'Distribution of Posts by Subreddit',\n",
        "            'font': {'size': 24}\n",
        "        },\n",
        "        xaxis={\n",
        "            'title': {'text': 'Subreddit',\n",
        "                      'font': {'size': 20}},\n",
        "            'tickfont': {'size': 16}\n",
        "        },\n",
        "        yaxis={\n",
        "            'title': {'text': 'Number of Posts',\n",
        "                      'font': {'size': 20}}\n",
        "         }\n",
        "    )\n",
        "\n",
        "    return fig\n",
        "\n",
        "\n",
        "\n",
        "def plot_relative_price_change(df: pd.DataFrame) -> go.Figure:\n",
        "    custom_colors = ['#636EFA', '#EF553B', '#00CC96', '#AB63FA', '#FFA15A']\n",
        "\n",
        "    df['rel_price_change'] = ((df['price_1d'] - df['created_price']) / df['created_price']) * 100\n",
        "    df = df[df['rel_price_change'] > -25]\n",
        "    df = df[df['rel_price_change'] < 25]\n",
        "\n",
        "    fig = px.histogram(\n",
        "        df,\n",
        "        x='rel_price_change',\n",
        "        nbins=200,\n",
        "        color_discrete_sequence=custom_colors\n",
        "    )\n",
        "\n",
        "    fig.update_layout(\n",
        "        title={\n",
        "            'text': 'Distribution of Price Change %',\n",
        "            'font': {'size': 24}\n",
        "        },\n",
        "        xaxis={\n",
        "            'title': {'text': 'Relative Price Change',\n",
        "                      'font': {'size': 20}}\n",
        "        },\n",
        "        yaxis={\n",
        "            'title': {'text': 'Frequency',\n",
        "                      'font': {'size': 20}}\n",
        "        },\n",
        "        bargap=0.1,\n",
        "        width=1000,\n",
        "        height=500,\n",
        "    )\n",
        "    return fig"
      ]
    },
    {
      "cell_type": "code",
      "execution_count": null,
      "metadata": {
        "id": "rcYIOxgV4zME",
        "outputId": "22eb61e5-3378-4d83-8e93-9e4a8a72abbe"
      },
      "outputs": [
        {
          "data": {
            "text/html": [
              "<iframe\n",
              "    scrolling=\"no\"\n",
              "    width=\"100%\"\n",
              "    height=\"545px\"\n",
              "    src=\"iframe_figures/figure_57.html\"\n",
              "    frameborder=\"0\"\n",
              "    allowfullscreen\n",
              "></iframe>\n"
            ]
          },
          "metadata": {},
          "output_type": "display_data"
        }
      ],
      "source": [
        "ticker_treemap = plot_ticker_treemap(df)\n",
        "\n",
        "ticker_treemap.show()"
      ]
    },
    {
      "cell_type": "code",
      "execution_count": null,
      "metadata": {
        "id": "I6y_7Ds14zMF",
        "outputId": "05c529b5-671b-475c-d6d3-6ef9f2d639ba"
      },
      "outputs": [
        {
          "data": {
            "text/html": [
              "<iframe\n",
              "    scrolling=\"no\"\n",
              "    width=\"100%\"\n",
              "    height=\"545px\"\n",
              "    src=\"iframe_figures/figure_63.html\"\n",
              "    frameborder=\"0\"\n",
              "    allowfullscreen\n",
              "></iframe>\n"
            ]
          },
          "metadata": {},
          "output_type": "display_data"
        }
      ],
      "source": [
        "subr = plot_subreddits_distribution(df)\n",
        "\n",
        "subr.show()"
      ]
    },
    {
      "cell_type": "code",
      "execution_count": null,
      "metadata": {
        "id": "Uruq0naw4zMF",
        "outputId": "02df735d-e892-4de3-83f6-1f163abbe173"
      },
      "outputs": [
        {
          "data": {
            "text/html": [
              "<iframe\n",
              "    scrolling=\"no\"\n",
              "    width=\"1020px\"\n",
              "    height=\"520\"\n",
              "    src=\"iframe_figures/figure_51.html\"\n",
              "    frameborder=\"0\"\n",
              "    allowfullscreen\n",
              "></iframe>\n"
            ]
          },
          "metadata": {},
          "output_type": "display_data"
        }
      ],
      "source": [
        "rel_price_change = plot_relative_price_change(df)\n",
        "rel_price_change.show()"
      ]
    },
    {
      "cell_type": "code",
      "execution_count": null,
      "metadata": {
        "id": "vykEMnmf4zMF",
        "outputId": "d3dc3f70-b1a5-435c-c937-5e4755d60767"
      },
      "outputs": [
        {
          "data": {
            "text/plain": [
              "Renderers configuration\n",
              "-----------------------\n",
              "    Default renderer: 'notebook'\n",
              "    Available renderers:\n",
              "        ['plotly_mimetype', 'jupyterlab', 'nteract', 'vscode',\n",
              "         'notebook', 'notebook_connected', 'kaggle', 'azure', 'colab',\n",
              "         'cocalc', 'databricks', 'json', 'png', 'jpeg', 'jpg', 'svg',\n",
              "         'pdf', 'browser', 'firefox', 'chrome', 'chromium', 'iframe',\n",
              "         'iframe_connected', 'sphinx_gallery', 'sphinx_gallery_png']"
            ]
          },
          "execution_count": 8,
          "metadata": {},
          "output_type": "execute_result"
        }
      ],
      "source": [
        "pio.renderers"
      ]
    },
    {
      "cell_type": "code",
      "execution_count": null,
      "metadata": {
        "id": "kS4thePM4zMF"
      },
      "outputs": [],
      "source": []
    }
  ],
  "metadata": {
    "colab": {
      "collapsed_sections": [
        "KXWdxDiF5LCD",
        "x8lFkjlmNty5",
        "75Tsrva9tdmM",
        "pW_dn4KiWI1M",
        "N4PAeyo0WuR5",
        "Ca3k8_wS9HYN",
        "m_svYkGBR5-4",
        "yixU7rO99nPc",
        "KHrg6zOg4zME"
      ],
      "provenance": []
    },
    "kernelspec": {
      "display_name": "Python 3 (ipykernel)",
      "language": "python",
      "name": "python3"
    },
    "language_info": {
      "codemirror_mode": {
        "name": "ipython",
        "version": 3
      },
      "file_extension": ".py",
      "mimetype": "text/x-python",
      "name": "python",
      "nbconvert_exporter": "python",
      "pygments_lexer": "ipython3",
      "version": "3.12.7"
    }
  },
  "nbformat": 4,
  "nbformat_minor": 0
}